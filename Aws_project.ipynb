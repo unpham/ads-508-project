{
 "cells": [
  {
   "cell_type": "code",
   "execution_count": 1,
   "id": "83f09e94",
   "metadata": {},
   "outputs": [],
   "source": [
    "import numpy as np\n",
    "import pandas as pd\n",
    "import sqlite3 as sq\n",
    "import matplotlib.pyplot as plt\n",
    "import seaborn as sns"
   ]
  },
  {
   "cell_type": "code",
   "execution_count": 2,
   "id": "5c31eaf3",
   "metadata": {},
   "outputs": [
    {
     "name": "stderr",
     "output_type": "stream",
     "text": [
      "C:\\Users\\gauth\\AppData\\Local\\Temp\\ipykernel_16132\\1276576588.py:1: DtypeWarning: Columns (0,8) have mixed types. Specify dtype option on import or set low_memory=False.\n",
      "  df_la= pd.read_csv('C:\\\\Users\\\\gauth\\\\Desktop\\\\aws\\\\la_compensation.csv')\n"
     ]
    }
   ],
   "source": [
    "df_la= pd.read_csv('C:\\\\Users\\\\gauth\\\\Desktop\\\\aws\\\\la_compensation.csv')"
   ]
  },
  {
   "cell_type": "code",
   "execution_count": 3,
   "id": "d9ab6c4c",
   "metadata": {},
   "outputs": [],
   "source": [
    "df1 = pd.read_csv('C:\\\\Users\\\\gauth\\\\Desktop\\\\aws\\\\sj_compensation_2013.csv')\n",
    "df1['year'] = 2013\n",
    "df2 = pd.read_csv('C:\\\\Users\\\\gauth\\\\Desktop\\\\aws\\\\sj_compensation_2014.csv')\n",
    "df2['year'] = 2014\n",
    "df3 = pd.read_csv('C:\\\\Users\\\\gauth\\\\Desktop\\\\aws\\\\sj_compensation_2015.csv')\n",
    "df3['year'] = 2015\n",
    "df4 = pd.read_csv('C:\\\\Users\\\\gauth\\\\Desktop\\\\aws\\\\sj_compensation_2016.csv')\n",
    "df4['year'] = 2016\n",
    "df5 = pd.read_csv('C:\\\\Users\\\\gauth\\\\Desktop\\\\aws\\\\sj_compensation_2017.csv')\n",
    "df5['year'] = 2017\n",
    "##the file had some encoding error with utf-8 encoding error, so encoding was changed\n",
    "df6 = pd.read_csv('C:\\\\Users\\\\gauth\\\\Desktop\\\\aws\\\\sj_compensation_2018.csv', encoding='ISO-8859-1') \n",
    "df6['year'] = 2018\n",
    "df7 = pd.read_csv('C:\\\\Users\\\\gauth\\\\Desktop\\\\aws\\\\sj_compensation_2019.csv', encoding='ISO-8859-1')\n",
    "df7['year'] = 2019\n",
    "df8 = pd.read_csv('C:\\\\Users\\\\gauth\\\\Desktop\\\\aws\\\\sj_compensation_2020.csv', encoding='ISO-8859-1')\n",
    "df8['year'] = 2020\n",
    "df9 = pd.read_csv('C:\\\\Users\\\\gauth\\\\Desktop\\\\aws\\\\sj_compensation_2021.csv', encoding='ISO-8859-1')\n",
    "df9['year'] = 2021"
   ]
  },
  {
   "cell_type": "code",
   "execution_count": 4,
   "id": "bcb64d98",
   "metadata": {},
   "outputs": [],
   "source": [
    "df_sf= pd.read_csv('C:\\\\Users\\\\gauth\\\\Desktop\\\\aws\\\\sf_compensation.csv')"
   ]
  },
  {
   "cell_type": "code",
   "execution_count": 5,
   "id": "9649fce6",
   "metadata": {},
   "outputs": [],
   "source": [
    "#Re-format column names\n",
    "dfs = [df1, df2, df3, df4, df5, df6, df7, df8, df9, df_sf, df_la]\n",
    "\n",
    "for d in dfs:\n",
    "    #Replace space with underscore in column names\n",
    "    d.columns = [j.replace(' ','_') for j in d.columns] \n",
    "     #Replace colume name with capitalized letter to lower case\n",
    "    d.columns = d.columns.str.replace(r'(\\w+)', lambda x: x.group().lower(),\n",
    "                                    n=2, regex=True)\n",
    "   "
   ]
  },
  {
   "cell_type": "code",
   "execution_count": 6,
   "id": "c9ccadd1",
   "metadata": {},
   "outputs": [
    {
     "name": "stdout",
     "output_type": "stream",
     "text": [
      "<class 'pandas.core.frame.DataFrame'>\n",
      "RangeIndex: 7821 entries, 0 to 7820\n",
      "Data columns (total 14 columns):\n",
      " #   Column                                               Non-Null Count  Dtype  \n",
      "---  ------                                               --------------  -----  \n",
      " 0   name                                                 7821 non-null   object \n",
      " 1   department                                           7821 non-null   object \n",
      " 2   job_title_(as_of_12/31/15)                           7821 non-null   object \n",
      " 3   total_cash_compensation                              7821 non-null   object \n",
      " 4   base_pay                                             7716 non-null   object \n",
      " 5   overtime                                             4262 non-null   object \n",
      " 6   sick_and_vacation_payouts                            569 non-null    object \n",
      " 7   other_cash_compensation                              5605 non-null   object \n",
      " 8   defined_contribution_plan_contributions_-_city_paid  2527 non-null   object \n",
      " 9   medical_dental_vision                                5595 non-null   object \n",
      " 10  retirement_contributions_-_city_paid*                5318 non-null   object \n",
      " 11  long_term_disability,_life,_Medicare                 7759 non-null   object \n",
      " 12  misc_employment_related_costs                        1832 non-null   float64\n",
      " 13  year                                                 7821 non-null   int64  \n",
      "dtypes: float64(1), int64(1), object(12)\n",
      "memory usage: 855.5+ KB\n"
     ]
    }
   ],
   "source": [
    "df3.info()"
   ]
  },
  {
   "cell_type": "code",
   "execution_count": 7,
   "id": "74520792",
   "metadata": {},
   "outputs": [],
   "source": [
    "#Rename columns\n",
    "df1 = df1.rename(columns= {'department_name':\"department\", \n",
    "                           \"deferred_comp_paid_by_employer\":\"defined_contribution_plan_contributions_city_paid\", \n",
    "                           \"employer's_share_pension_payments\": \"retirement_contribution\",\n",
    "                          'medical_dental_vision_city_paid':'medical_dental_vision'})\n",
    "\n",
    "df2 = df2.rename(columns= {'department_name':\"department\", \n",
    "                           'job_title_(as_of_12/31/14)':\"job_title\", \n",
    "                           \"deferred_comp_paid_by_employer\":\"defined_contribution_plan_contributions_city_paid\",\n",
    "                          \"employer's_share_pension_payments\": \"retirement_contribution\",\n",
    "                          'medical_dental_vision_city_paid':'medical_dental_vision'})\n",
    "\n",
    "df3 = df3.rename(columns= {'job_title_(as_of_12/31/15)':\"job_title\",\n",
    "                           'defined_contribution_plan_contributions_-_city_paid':'defined_contribution_plan_contributions_city_paid',\n",
    "                           'retirement_contributions_-_city_paid*':\"retirement_contribution\"})\n",
    "df4 = df4.rename(columns= {'job_title_(as_of_12/31/16)':\"job_title\",\n",
    "                           'defined_contribution_plan_contributions_-_city_paid':'defined_contribution_plan_contributions_city_paid',\n",
    "                           'retirement_contributions_-_city_paid*':\"retirement_contribution\"})\n",
    "df5 = df5.rename(columns= {'job_title_(as_of_12/31/17)':\"job_title\",\n",
    "                           'defined_contribution_plan_contributions_-_city_paid':'defined_contribution_plan_contributions_city_paid',\n",
    "                           'retirement_contributions_(normal_cost)_-_City_Paid*':\"retirement_contribution\"})\n",
    "df6 = df6.rename(columns= {'job_title_(as_of_12/31/18)':\"job_title\",\n",
    "                           'defined_contribution_plan_contributions_-_city_paid':'defined_contribution_plan_contributions_city_paid',\n",
    "                           'retirement_contributions_(normal_cost)_-_City_Paid*':\"retirement_contribution\"})\n",
    "df7 = df7.rename(columns= {'job_title_(as_of_12/31/19)':\"job_title\",\n",
    "                           'defined_contribution_plan_contributions_-_city_paid':'defined_contribution_plan_contributions_city_paid',\n",
    "                           'retirement_contributions_(normal_cost)_-_City_Paid':\"retirement_contribution\"})\n",
    "df8 = df8.rename(columns= {'job_title_(as_of_12/31/20)':\"job_title\",\n",
    "                           'defined_contribution_plan_contributions_-_city_paid':'defined_contribution_plan_contributions_city_paid',\n",
    "                           'retirement_contributions_(normal_cost)_-_City_Paid':\"retirement_contribution\"})\n",
    "df9 = df9.rename(columns= {'job_title_(as_of_12/31/21)':\"job_title\", \n",
    "                           'defined_contribution_plan_contributions_-_city_paid':'defined_contribution_plan_contributions_city_paid',\n",
    "                           'retirement_contributions_(normal_cost)_-_City_Paid':\"retirement_contribution\"})"
   ]
  },
  {
   "cell_type": "code",
   "execution_count": 8,
   "id": "57f088a3",
   "metadata": {},
   "outputs": [
    {
     "data": {
      "text/html": [
       "<div>\n",
       "<style scoped>\n",
       "    .dataframe tbody tr th:only-of-type {\n",
       "        vertical-align: middle;\n",
       "    }\n",
       "\n",
       "    .dataframe tbody tr th {\n",
       "        vertical-align: top;\n",
       "    }\n",
       "\n",
       "    .dataframe thead th {\n",
       "        text-align: right;\n",
       "    }\n",
       "</style>\n",
       "<table border=\"1\" class=\"dataframe\">\n",
       "  <thead>\n",
       "    <tr style=\"text-align: right;\">\n",
       "      <th></th>\n",
       "      <th>name</th>\n",
       "      <th>department</th>\n",
       "      <th>job_title</th>\n",
       "      <th>total_cash_compensation</th>\n",
       "      <th>base_pay</th>\n",
       "      <th>overtime</th>\n",
       "      <th>sick_and_vacation_payouts</th>\n",
       "      <th>other_cash_compensation</th>\n",
       "      <th>defined_contribution_plan_contributions_city_paid</th>\n",
       "      <th>medical_dental_vision</th>\n",
       "      <th>retirement_contribution</th>\n",
       "      <th>retired?</th>\n",
       "      <th>year</th>\n",
       "      <th>long_term_disability,_life,_Medicare</th>\n",
       "      <th>misc_employment_related_costs</th>\n",
       "    </tr>\n",
       "  </thead>\n",
       "  <tbody>\n",
       "    <tr>\n",
       "      <th>0</th>\n",
       "      <td>Bustillos,Steven D</td>\n",
       "      <td>Police</td>\n",
       "      <td>Police Sergeant</td>\n",
       "      <td>286137.69</td>\n",
       "      <td>90888.0</td>\n",
       "      <td>89867.88</td>\n",
       "      <td>97,969.79</td>\n",
       "      <td>7,412.02</td>\n",
       "      <td>NaN</td>\n",
       "      <td>13,640.50</td>\n",
       "      <td>74,429.71</td>\n",
       "      <td>Yes</td>\n",
       "      <td>2013</td>\n",
       "      <td>NaN</td>\n",
       "      <td>NaN</td>\n",
       "    </tr>\n",
       "    <tr>\n",
       "      <th>1</th>\n",
       "      <td>Figone,Debra J</td>\n",
       "      <td>City Manager</td>\n",
       "      <td>City Manager U</td>\n",
       "      <td>248564.84</td>\n",
       "      <td>227975.02</td>\n",
       "      <td>NaN</td>\n",
       "      <td>NaN</td>\n",
       "      <td>20,589.82</td>\n",
       "      <td>20,517.64</td>\n",
       "      <td>15,166.00</td>\n",
       "      <td>131,032.44</td>\n",
       "      <td>Yes</td>\n",
       "      <td>2013</td>\n",
       "      <td>NaN</td>\n",
       "      <td>NaN</td>\n",
       "    </tr>\n",
       "    <tr>\n",
       "      <th>2</th>\n",
       "      <td>Guerra,Daniel P</td>\n",
       "      <td>Police</td>\n",
       "      <td>Police Officer</td>\n",
       "      <td>241039.12</td>\n",
       "      <td>97198.4</td>\n",
       "      <td>132104.54</td>\n",
       "      <td>NaN</td>\n",
       "      <td>11,736.18</td>\n",
       "      <td>NaN</td>\n",
       "      <td>15,371.56</td>\n",
       "      <td>79,821.51</td>\n",
       "      <td>No</td>\n",
       "      <td>2013</td>\n",
       "      <td>NaN</td>\n",
       "      <td>NaN</td>\n",
       "    </tr>\n",
       "    <tr>\n",
       "      <th>3</th>\n",
       "      <td>Moore,Christopher M</td>\n",
       "      <td>Police</td>\n",
       "      <td>Chief Of Police U</td>\n",
       "      <td>233540.32</td>\n",
       "      <td>15319.54</td>\n",
       "      <td>NaN</td>\n",
       "      <td>215,470.80</td>\n",
       "      <td>2,749.98</td>\n",
       "      <td>NaN</td>\n",
       "      <td>1,371.81</td>\n",
       "      <td>11,204.16</td>\n",
       "      <td>Yes</td>\n",
       "      <td>2013</td>\n",
       "      <td>NaN</td>\n",
       "      <td>NaN</td>\n",
       "    </tr>\n",
       "    <tr>\n",
       "      <th>4</th>\n",
       "      <td>Vasquez,Hector M</td>\n",
       "      <td>Police</td>\n",
       "      <td>Police Officer</td>\n",
       "      <td>230469.85</td>\n",
       "      <td>97198.4</td>\n",
       "      <td>124552.69</td>\n",
       "      <td>NaN</td>\n",
       "      <td>8,718.76</td>\n",
       "      <td>NaN</td>\n",
       "      <td>16,345.32</td>\n",
       "      <td>79,821.51</td>\n",
       "      <td>No</td>\n",
       "      <td>2013</td>\n",
       "      <td>NaN</td>\n",
       "      <td>NaN</td>\n",
       "    </tr>\n",
       "  </tbody>\n",
       "</table>\n",
       "</div>"
      ],
      "text/plain": [
       "                  name    department          job_title  \\\n",
       "0   Bustillos,Steven D        Police    Police Sergeant   \n",
       "1       Figone,Debra J  City Manager     City Manager U   \n",
       "2      Guerra,Daniel P        Police     Police Officer   \n",
       "3  Moore,Christopher M        Police  Chief Of Police U   \n",
       "4     Vasquez,Hector M        Police     Police Officer   \n",
       "\n",
       "  total_cash_compensation   base_pay   overtime sick_and_vacation_payouts  \\\n",
       "0               286137.69    90888.0   89867.88                 97,969.79   \n",
       "1               248564.84  227975.02        NaN                       NaN   \n",
       "2               241039.12    97198.4  132104.54                       NaN   \n",
       "3               233540.32   15319.54        NaN                215,470.80   \n",
       "4               230469.85    97198.4  124552.69                       NaN   \n",
       "\n",
       "  other_cash_compensation defined_contribution_plan_contributions_city_paid  \\\n",
       "0                7,412.02                                               NaN   \n",
       "1               20,589.82                                         20,517.64   \n",
       "2               11,736.18                                               NaN   \n",
       "3                2,749.98                                               NaN   \n",
       "4                8,718.76                                               NaN   \n",
       "\n",
       "  medical_dental_vision retirement_contribution retired?  year  \\\n",
       "0             13,640.50               74,429.71      Yes  2013   \n",
       "1             15,166.00              131,032.44      Yes  2013   \n",
       "2             15,371.56               79,821.51       No  2013   \n",
       "3              1,371.81               11,204.16      Yes  2013   \n",
       "4             16,345.32               79,821.51       No  2013   \n",
       "\n",
       "  long_term_disability,_life,_Medicare misc_employment_related_costs  \n",
       "0                                  NaN                           NaN  \n",
       "1                                  NaN                           NaN  \n",
       "2                                  NaN                           NaN  \n",
       "3                                  NaN                           NaN  \n",
       "4                                  NaN                           NaN  "
      ]
     },
     "execution_count": 8,
     "metadata": {},
     "output_type": "execute_result"
    }
   ],
   "source": [
    "#combine San Jose datasets\n",
    "combine_sj = pd.concat([df1, df2, df3, df4, df5, df6, df7, df8, df9], axis=0)\n",
    "combine_sj.head()"
   ]
  },
  {
   "cell_type": "code",
   "execution_count": 9,
   "id": "e4d88fd2",
   "metadata": {},
   "outputs": [],
   "source": [
    "#rename columns\n",
    "combine_sj = combine_sj.rename(columns= {'total_cash_compensation': 'total_cash',\n",
    "                                   'base_pay':'base_salary',\n",
    "                                   'medical_dental_vision':'health',\n",
    "                                   'retired?':\"retired\",\n",
    "                                   'long_term_disability,_life,_Medicare':'long_term_disability_life_medicare'})\n",
    "                                   \n",
    "    \n"
   ]
  },
  {
   "cell_type": "code",
   "execution_count": 10,
   "id": "99aad4b4",
   "metadata": {},
   "outputs": [
    {
     "name": "stdout",
     "output_type": "stream",
     "text": [
      "<class 'pandas.core.frame.DataFrame'>\n",
      "Int64Index: 71946 entries, 0 to 8161\n",
      "Data columns (total 15 columns):\n",
      " #   Column                                             Non-Null Count  Dtype \n",
      "---  ------                                             --------------  ----- \n",
      " 0   name                                               71946 non-null  object\n",
      " 1   department                                         71946 non-null  object\n",
      " 2   job_title                                          71946 non-null  object\n",
      " 3   total_cash                                         71946 non-null  object\n",
      " 4   base_salary                                        71247 non-null  object\n",
      " 5   overtime                                           38998 non-null  object\n",
      " 6   sick_and_vacation_payouts                          6941 non-null   object\n",
      " 7   other_cash_compensation                            52655 non-null  object\n",
      " 8   defined_contribution_plan_contributions_city_paid  22206 non-null  object\n",
      " 9   health                                             52959 non-null  object\n",
      " 10  retirement_contribution                            50124 non-null  object\n",
      " 11  retired                                            7404 non-null   object\n",
      " 12  year                                               71946 non-null  int64 \n",
      " 13  long_term_disability_life_medicare                 64231 non-null  object\n",
      " 14  misc_employment_related_costs                      33882 non-null  object\n",
      "dtypes: int64(1), object(14)\n",
      "memory usage: 8.8+ MB\n"
     ]
    }
   ],
   "source": [
    "combine_sj.info()"
   ]
  },
  {
   "cell_type": "code",
   "execution_count": 11,
   "id": "d2987de6",
   "metadata": {},
   "outputs": [],
   "source": [
    "#List of columns need to change dtype\n",
    "column_list = ['total_cash', 'base_salary', 'overtime', 'sick_and_vacation_payouts', \n",
    "               'other_cash_compensation', 'defined_contribution_plan_contributions_city_paid', \n",
    "               'health', 'retirement_contribution', \n",
    "               'long_term_disability_life_medicare', 'misc_employment_related_costs']\n",
    "#set function to eliminate commas in value and change dtype to float \n",
    "to_float = lambda x: float(x.replace(',', '')) if isinstance(x, str) and x else x\n",
    "\n",
    "#Convert values \n",
    "combine_sj[column_list] = combine_sj[column_list].applymap(to_float)"
   ]
  },
  {
   "cell_type": "code",
   "execution_count": 12,
   "id": "0bf2ad67",
   "metadata": {},
   "outputs": [],
   "source": [
    "combine_sj['irregular_cash'] = combine_sj[['sick_and_vacation_payouts', 'other_cash_compensation']].sum(axis=1)\n",
    "\n",
    "combine_sj['retirement'] = combine_sj[['defined_contribution_plan_contributions_city_paid', \n",
    "                                 'retirement_contribution']].sum(axis=1)\n",
    "\n",
    "combine_sj['other_benefits'] = combine_sj[['long_term_disability_life_medicare', \n",
    "                                     'misc_employment_related_costs']].sum(axis=1)\n",
    "combine_sj['total_benefits'] =  combine_sj[['retirement', 'health', 'other_benefits']].sum(axis=1)\n",
    "\n",
    "combine_sj['total_compensation'] = combine_sj[['total_cash', 'total_benefits']].sum(axis=1)\n",
    "\n",
    "combine_sj['city_id'] = 1"
   ]
  },
  {
   "cell_type": "code",
   "execution_count": 13,
   "id": "71d95ede",
   "metadata": {},
   "outputs": [
    {
     "data": {
      "text/html": [
       "<div>\n",
       "<style scoped>\n",
       "    .dataframe tbody tr th:only-of-type {\n",
       "        vertical-align: middle;\n",
       "    }\n",
       "\n",
       "    .dataframe tbody tr th {\n",
       "        vertical-align: top;\n",
       "    }\n",
       "\n",
       "    .dataframe thead th {\n",
       "        text-align: right;\n",
       "    }\n",
       "</style>\n",
       "<table border=\"1\" class=\"dataframe\">\n",
       "  <thead>\n",
       "    <tr style=\"text-align: right;\">\n",
       "      <th></th>\n",
       "      <th>name</th>\n",
       "      <th>department</th>\n",
       "      <th>job_title</th>\n",
       "      <th>total_cash</th>\n",
       "      <th>base_salary</th>\n",
       "      <th>overtime</th>\n",
       "      <th>sick_and_vacation_payouts</th>\n",
       "      <th>other_cash_compensation</th>\n",
       "      <th>defined_contribution_plan_contributions_city_paid</th>\n",
       "      <th>health</th>\n",
       "      <th>...</th>\n",
       "      <th>retired</th>\n",
       "      <th>year</th>\n",
       "      <th>long_term_disability_life_medicare</th>\n",
       "      <th>misc_employment_related_costs</th>\n",
       "      <th>irregular_cash</th>\n",
       "      <th>retirement</th>\n",
       "      <th>other_benefits</th>\n",
       "      <th>total_benefits</th>\n",
       "      <th>total_compensation</th>\n",
       "      <th>city_id</th>\n",
       "    </tr>\n",
       "  </thead>\n",
       "  <tbody>\n",
       "    <tr>\n",
       "      <th>0</th>\n",
       "      <td>Bustillos,Steven D</td>\n",
       "      <td>Police</td>\n",
       "      <td>Police Sergeant</td>\n",
       "      <td>286137.69</td>\n",
       "      <td>90888.00</td>\n",
       "      <td>89867.88</td>\n",
       "      <td>97969.79</td>\n",
       "      <td>7412.02</td>\n",
       "      <td>NaN</td>\n",
       "      <td>13640.50</td>\n",
       "      <td>...</td>\n",
       "      <td>Yes</td>\n",
       "      <td>2013</td>\n",
       "      <td>NaN</td>\n",
       "      <td>NaN</td>\n",
       "      <td>105381.81</td>\n",
       "      <td>74429.71</td>\n",
       "      <td>0.0</td>\n",
       "      <td>88070.21</td>\n",
       "      <td>374207.90</td>\n",
       "      <td>1</td>\n",
       "    </tr>\n",
       "    <tr>\n",
       "      <th>1</th>\n",
       "      <td>Figone,Debra J</td>\n",
       "      <td>City Manager</td>\n",
       "      <td>City Manager U</td>\n",
       "      <td>248564.84</td>\n",
       "      <td>227975.02</td>\n",
       "      <td>NaN</td>\n",
       "      <td>NaN</td>\n",
       "      <td>20589.82</td>\n",
       "      <td>20517.64</td>\n",
       "      <td>15166.00</td>\n",
       "      <td>...</td>\n",
       "      <td>Yes</td>\n",
       "      <td>2013</td>\n",
       "      <td>NaN</td>\n",
       "      <td>NaN</td>\n",
       "      <td>20589.82</td>\n",
       "      <td>151550.08</td>\n",
       "      <td>0.0</td>\n",
       "      <td>166716.08</td>\n",
       "      <td>415280.92</td>\n",
       "      <td>1</td>\n",
       "    </tr>\n",
       "    <tr>\n",
       "      <th>2</th>\n",
       "      <td>Guerra,Daniel P</td>\n",
       "      <td>Police</td>\n",
       "      <td>Police Officer</td>\n",
       "      <td>241039.12</td>\n",
       "      <td>97198.40</td>\n",
       "      <td>132104.54</td>\n",
       "      <td>NaN</td>\n",
       "      <td>11736.18</td>\n",
       "      <td>NaN</td>\n",
       "      <td>15371.56</td>\n",
       "      <td>...</td>\n",
       "      <td>No</td>\n",
       "      <td>2013</td>\n",
       "      <td>NaN</td>\n",
       "      <td>NaN</td>\n",
       "      <td>11736.18</td>\n",
       "      <td>79821.51</td>\n",
       "      <td>0.0</td>\n",
       "      <td>95193.07</td>\n",
       "      <td>336232.19</td>\n",
       "      <td>1</td>\n",
       "    </tr>\n",
       "    <tr>\n",
       "      <th>3</th>\n",
       "      <td>Moore,Christopher M</td>\n",
       "      <td>Police</td>\n",
       "      <td>Chief Of Police U</td>\n",
       "      <td>233540.32</td>\n",
       "      <td>15319.54</td>\n",
       "      <td>NaN</td>\n",
       "      <td>215470.80</td>\n",
       "      <td>2749.98</td>\n",
       "      <td>NaN</td>\n",
       "      <td>1371.81</td>\n",
       "      <td>...</td>\n",
       "      <td>Yes</td>\n",
       "      <td>2013</td>\n",
       "      <td>NaN</td>\n",
       "      <td>NaN</td>\n",
       "      <td>218220.78</td>\n",
       "      <td>11204.16</td>\n",
       "      <td>0.0</td>\n",
       "      <td>12575.97</td>\n",
       "      <td>246116.29</td>\n",
       "      <td>1</td>\n",
       "    </tr>\n",
       "    <tr>\n",
       "      <th>4</th>\n",
       "      <td>Vasquez,Hector M</td>\n",
       "      <td>Police</td>\n",
       "      <td>Police Officer</td>\n",
       "      <td>230469.85</td>\n",
       "      <td>97198.40</td>\n",
       "      <td>124552.69</td>\n",
       "      <td>NaN</td>\n",
       "      <td>8718.76</td>\n",
       "      <td>NaN</td>\n",
       "      <td>16345.32</td>\n",
       "      <td>...</td>\n",
       "      <td>No</td>\n",
       "      <td>2013</td>\n",
       "      <td>NaN</td>\n",
       "      <td>NaN</td>\n",
       "      <td>8718.76</td>\n",
       "      <td>79821.51</td>\n",
       "      <td>0.0</td>\n",
       "      <td>96166.83</td>\n",
       "      <td>326636.68</td>\n",
       "      <td>1</td>\n",
       "    </tr>\n",
       "  </tbody>\n",
       "</table>\n",
       "<p>5 rows × 21 columns</p>\n",
       "</div>"
      ],
      "text/plain": [
       "                  name    department          job_title  total_cash  \\\n",
       "0   Bustillos,Steven D        Police    Police Sergeant   286137.69   \n",
       "1       Figone,Debra J  City Manager     City Manager U   248564.84   \n",
       "2      Guerra,Daniel P        Police     Police Officer   241039.12   \n",
       "3  Moore,Christopher M        Police  Chief Of Police U   233540.32   \n",
       "4     Vasquez,Hector M        Police     Police Officer   230469.85   \n",
       "\n",
       "   base_salary   overtime  sick_and_vacation_payouts  other_cash_compensation  \\\n",
       "0     90888.00   89867.88                   97969.79                  7412.02   \n",
       "1    227975.02        NaN                        NaN                 20589.82   \n",
       "2     97198.40  132104.54                        NaN                 11736.18   \n",
       "3     15319.54        NaN                  215470.80                  2749.98   \n",
       "4     97198.40  124552.69                        NaN                  8718.76   \n",
       "\n",
       "   defined_contribution_plan_contributions_city_paid    health  ...  retired  \\\n",
       "0                                                NaN  13640.50  ...      Yes   \n",
       "1                                           20517.64  15166.00  ...      Yes   \n",
       "2                                                NaN  15371.56  ...       No   \n",
       "3                                                NaN   1371.81  ...      Yes   \n",
       "4                                                NaN  16345.32  ...       No   \n",
       "\n",
       "   year  long_term_disability_life_medicare  misc_employment_related_costs  \\\n",
       "0  2013                                 NaN                            NaN   \n",
       "1  2013                                 NaN                            NaN   \n",
       "2  2013                                 NaN                            NaN   \n",
       "3  2013                                 NaN                            NaN   \n",
       "4  2013                                 NaN                            NaN   \n",
       "\n",
       "   irregular_cash  retirement  other_benefits  total_benefits  \\\n",
       "0       105381.81    74429.71             0.0        88070.21   \n",
       "1        20589.82   151550.08             0.0       166716.08   \n",
       "2        11736.18    79821.51             0.0        95193.07   \n",
       "3       218220.78    11204.16             0.0        12575.97   \n",
       "4         8718.76    79821.51             0.0        96166.83   \n",
       "\n",
       "   total_compensation  city_id  \n",
       "0           374207.90        1  \n",
       "1           415280.92        1  \n",
       "2           336232.19        1  \n",
       "3           246116.29        1  \n",
       "4           326636.68        1  \n",
       "\n",
       "[5 rows x 21 columns]"
      ]
     },
     "execution_count": 13,
     "metadata": {},
     "output_type": "execute_result"
    }
   ],
   "source": [
    "combine_sj.head()"
   ]
  },
  {
   "cell_type": "code",
   "execution_count": 14,
   "id": "5b1fd9d0",
   "metadata": {},
   "outputs": [
    {
     "name": "stdout",
     "output_type": "stream",
     "text": [
      "<class 'pandas.core.frame.DataFrame'>\n",
      "Int64Index: 71946 entries, 0 to 8161\n",
      "Data columns (total 21 columns):\n",
      " #   Column                                             Non-Null Count  Dtype  \n",
      "---  ------                                             --------------  -----  \n",
      " 0   name                                               71946 non-null  object \n",
      " 1   department                                         71946 non-null  object \n",
      " 2   job_title                                          71946 non-null  object \n",
      " 3   total_cash                                         71946 non-null  float64\n",
      " 4   base_salary                                        71247 non-null  float64\n",
      " 5   overtime                                           38998 non-null  float64\n",
      " 6   sick_and_vacation_payouts                          6941 non-null   float64\n",
      " 7   other_cash_compensation                            52655 non-null  float64\n",
      " 8   defined_contribution_plan_contributions_city_paid  22206 non-null  float64\n",
      " 9   health                                             52959 non-null  float64\n",
      " 10  retirement_contribution                            50124 non-null  float64\n",
      " 11  retired                                            7404 non-null   object \n",
      " 12  year                                               71946 non-null  int64  \n",
      " 13  long_term_disability_life_medicare                 64231 non-null  float64\n",
      " 14  misc_employment_related_costs                      33882 non-null  float64\n",
      " 15  irregular_cash                                     71946 non-null  float64\n",
      " 16  retirement                                         71946 non-null  float64\n",
      " 17  other_benefits                                     71946 non-null  float64\n",
      " 18  total_benefits                                     71946 non-null  float64\n",
      " 19  total_compensation                                 71946 non-null  float64\n",
      " 20  city_id                                            71946 non-null  int64  \n",
      "dtypes: float64(15), int64(2), object(4)\n",
      "memory usage: 12.1+ MB\n"
     ]
    }
   ],
   "source": [
    "combine_sj.info()"
   ]
  },
  {
   "cell_type": "code",
   "execution_count": 15,
   "id": "a55751bf",
   "metadata": {},
   "outputs": [],
   "source": [
    "#write the combined file to CSV file \n",
    "combine_sj.to_csv('sj_compens_v1.csv', index=False)"
   ]
  },
  {
   "cell_type": "code",
   "execution_count": 16,
   "id": "6fb2c522",
   "metadata": {},
   "outputs": [
    {
     "name": "stderr",
     "output_type": "stream",
     "text": [
      "C:\\Users\\gauth\\AppData\\Local\\Temp\\ipykernel_16132\\3862698554.py:1: DtypeWarning: Columns (11) have mixed types. Specify dtype option on import or set low_memory=False.\n",
      "  sj_v1= pd.read_csv('sj_compens_v1.csv')\n"
     ]
    }
   ],
   "source": [
    "sj_v1= pd.read_csv('sj_compens_v1.csv')\n",
    "#sj_v1.info()"
   ]
  },
  {
   "cell_type": "code",
   "execution_count": 17,
   "id": "f9d9a713",
   "metadata": {},
   "outputs": [],
   "source": [
    "#filtered_df = combine[combine['total_benefit'] > 0]\n",
    "#filtered_df"
   ]
  },
  {
   "cell_type": "code",
   "execution_count": 18,
   "id": "ad798e29",
   "metadata": {},
   "outputs": [
    {
     "data": {
      "text/plain": [
       "['name',\n",
       " 'department',\n",
       " 'job_title',\n",
       " 'total_cash',\n",
       " 'base_salary',\n",
       " 'overtime',\n",
       " 'sick_and_vacation_payouts',\n",
       " 'other_cash_compensation',\n",
       " 'defined_contribution_plan_contributions_city_paid',\n",
       " 'health',\n",
       " 'retirement_contribution',\n",
       " 'retired',\n",
       " 'year',\n",
       " 'long_term_disability_life_medicare',\n",
       " 'misc_employment_related_costs',\n",
       " 'irregular_cash',\n",
       " 'retirement',\n",
       " 'other_benefits',\n",
       " 'total_benefits',\n",
       " 'total_compensation',\n",
       " 'city_id']"
      ]
     },
     "execution_count": 18,
     "metadata": {},
     "output_type": "execute_result"
    }
   ],
   "source": [
    "col_names_sj = sj_v1.columns.tolist()\n",
    "col_names_sj"
   ]
  },
  {
   "cell_type": "code",
   "execution_count": 19,
   "id": "28c6e20a",
   "metadata": {},
   "outputs": [],
   "source": [
    "##san francisco"
   ]
  },
  {
   "cell_type": "code",
   "execution_count": 20,
   "id": "978f2d32",
   "metadata": {},
   "outputs": [],
   "source": [
    "#add city_id\n",
    "df_sf['city_id'] = 2"
   ]
  },
  {
   "cell_type": "code",
   "execution_count": 21,
   "id": "d579e92a",
   "metadata": {},
   "outputs": [
    {
     "name": "stdout",
     "output_type": "stream",
     "text": [
      "<class 'pandas.core.frame.DataFrame'>\n",
      "RangeIndex: 799562 entries, 0 to 799561\n",
      "Data columns (total 23 columns):\n",
      " #   Column                   Non-Null Count   Dtype  \n",
      "---  ------                   --------------   -----  \n",
      " 0   organization_group_code  799562 non-null  int64  \n",
      " 1   job_family_code          799562 non-null  object \n",
      " 2   job_code                 799562 non-null  object \n",
      " 3   year_type                799562 non-null  object \n",
      " 4   year                     799562 non-null  int64  \n",
      " 5   organization_group       799562 non-null  object \n",
      " 6   department_code          799560 non-null  object \n",
      " 7   department               799560 non-null  object \n",
      " 8   union_code               799383 non-null  float64\n",
      " 9   union                    799383 non-null  object \n",
      " 10  job_family               799562 non-null  object \n",
      " 11  job                      799557 non-null  object \n",
      " 12  employee_identifier      799562 non-null  int64  \n",
      " 13  salaries                 799562 non-null  float64\n",
      " 14  overtime                 799562 non-null  float64\n",
      " 15  other_salaries           799562 non-null  float64\n",
      " 16  total_salary             799562 non-null  float64\n",
      " 17  retirement               799562 non-null  float64\n",
      " 18  health_and_dental        799562 non-null  float64\n",
      " 19  other_benefits           799562 non-null  float64\n",
      " 20  total_benefits           799562 non-null  float64\n",
      " 21  total_compensation       799562 non-null  float64\n",
      " 22  city_id                  799562 non-null  int64  \n",
      "dtypes: float64(10), int64(4), object(9)\n",
      "memory usage: 140.3+ MB\n"
     ]
    }
   ],
   "source": [
    "df_sf.info()"
   ]
  },
  {
   "cell_type": "code",
   "execution_count": 22,
   "id": "0b6117a5",
   "metadata": {},
   "outputs": [],
   "source": [
    "#rename columns\n",
    "df_sf = df_sf.rename(columns= {'job':'job_title', \n",
    "                               'total_salary': 'total_cash',\n",
    "                                'salaries':'base_salary',\n",
    "                               'other_salaries':'irregular_cash',\n",
    "                               'health_and_dental':'health'})\n",
    "                                   "
   ]
  },
  {
   "cell_type": "code",
   "execution_count": 23,
   "id": "3250d108",
   "metadata": {},
   "outputs": [
    {
     "data": {
      "text/html": [
       "<div>\n",
       "<style scoped>\n",
       "    .dataframe tbody tr th:only-of-type {\n",
       "        vertical-align: middle;\n",
       "    }\n",
       "\n",
       "    .dataframe tbody tr th {\n",
       "        vertical-align: top;\n",
       "    }\n",
       "\n",
       "    .dataframe thead th {\n",
       "        text-align: right;\n",
       "    }\n",
       "</style>\n",
       "<table border=\"1\" class=\"dataframe\">\n",
       "  <thead>\n",
       "    <tr style=\"text-align: right;\">\n",
       "      <th></th>\n",
       "      <th>organization_group_code</th>\n",
       "      <th>job_family_code</th>\n",
       "      <th>job_code</th>\n",
       "      <th>year_type</th>\n",
       "      <th>year</th>\n",
       "      <th>organization_group</th>\n",
       "      <th>department_code</th>\n",
       "      <th>department</th>\n",
       "      <th>union_code</th>\n",
       "      <th>union</th>\n",
       "      <th>...</th>\n",
       "      <th>base_salary</th>\n",
       "      <th>overtime</th>\n",
       "      <th>irregular_cash</th>\n",
       "      <th>total_cash</th>\n",
       "      <th>retirement</th>\n",
       "      <th>health</th>\n",
       "      <th>other_benefits</th>\n",
       "      <th>total_benefits</th>\n",
       "      <th>total_compensation</th>\n",
       "      <th>city_id</th>\n",
       "    </tr>\n",
       "  </thead>\n",
       "  <tbody>\n",
       "    <tr>\n",
       "      <th>0</th>\n",
       "      <td>3</td>\n",
       "      <td>1400</td>\n",
       "      <td>1404</td>\n",
       "      <td>Fiscal</td>\n",
       "      <td>2019</td>\n",
       "      <td>Human Welfare &amp; Neighborhood Development</td>\n",
       "      <td>HSA</td>\n",
       "      <td>Human Services</td>\n",
       "      <td>790.0</td>\n",
       "      <td>SEIU, Local 1021, Misc</td>\n",
       "      <td>...</td>\n",
       "      <td>60720.01</td>\n",
       "      <td>0.00</td>\n",
       "      <td>0.00</td>\n",
       "      <td>60720.01</td>\n",
       "      <td>13653.20</td>\n",
       "      <td>14733.76</td>\n",
       "      <td>4904.34</td>\n",
       "      <td>33291.30</td>\n",
       "      <td>94011.31</td>\n",
       "      <td>2</td>\n",
       "    </tr>\n",
       "    <tr>\n",
       "      <th>1</th>\n",
       "      <td>3</td>\n",
       "      <td>9700</td>\n",
       "      <td>9703</td>\n",
       "      <td>Fiscal</td>\n",
       "      <td>2019</td>\n",
       "      <td>Human Welfare &amp; Neighborhood Development</td>\n",
       "      <td>HSA</td>\n",
       "      <td>Human Services</td>\n",
       "      <td>535.0</td>\n",
       "      <td>SEIU, Local 1021, Misc</td>\n",
       "      <td>...</td>\n",
       "      <td>91677.00</td>\n",
       "      <td>0.00</td>\n",
       "      <td>0.00</td>\n",
       "      <td>91677.00</td>\n",
       "      <td>17524.20</td>\n",
       "      <td>14733.76</td>\n",
       "      <td>7411.13</td>\n",
       "      <td>39669.09</td>\n",
       "      <td>131346.09</td>\n",
       "      <td>2</td>\n",
       "    </tr>\n",
       "    <tr>\n",
       "      <th>2</th>\n",
       "      <td>3</td>\n",
       "      <td>2900</td>\n",
       "      <td>2918</td>\n",
       "      <td>Fiscal</td>\n",
       "      <td>2019</td>\n",
       "      <td>Human Welfare &amp; Neighborhood Development</td>\n",
       "      <td>HSA</td>\n",
       "      <td>Human Services</td>\n",
       "      <td>535.0</td>\n",
       "      <td>SEIU, Local 1021, Misc</td>\n",
       "      <td>...</td>\n",
       "      <td>89106.03</td>\n",
       "      <td>0.00</td>\n",
       "      <td>1540.00</td>\n",
       "      <td>90646.03</td>\n",
       "      <td>17327.20</td>\n",
       "      <td>14733.76</td>\n",
       "      <td>7401.92</td>\n",
       "      <td>39462.88</td>\n",
       "      <td>130108.91</td>\n",
       "      <td>2</td>\n",
       "    </tr>\n",
       "    <tr>\n",
       "      <th>3</th>\n",
       "      <td>3</td>\n",
       "      <td>2900</td>\n",
       "      <td>2918</td>\n",
       "      <td>Fiscal</td>\n",
       "      <td>2019</td>\n",
       "      <td>Human Welfare &amp; Neighborhood Development</td>\n",
       "      <td>HSA</td>\n",
       "      <td>Human Services</td>\n",
       "      <td>535.0</td>\n",
       "      <td>SEIU, Local 1021, Misc</td>\n",
       "      <td>...</td>\n",
       "      <td>85581.11</td>\n",
       "      <td>3355.94</td>\n",
       "      <td>337.75</td>\n",
       "      <td>89274.80</td>\n",
       "      <td>16359.16</td>\n",
       "      <td>14151.56</td>\n",
       "      <td>7096.21</td>\n",
       "      <td>37606.93</td>\n",
       "      <td>126881.73</td>\n",
       "      <td>2</td>\n",
       "    </tr>\n",
       "    <tr>\n",
       "      <th>4</th>\n",
       "      <td>3</td>\n",
       "      <td>2900</td>\n",
       "      <td>2905</td>\n",
       "      <td>Fiscal</td>\n",
       "      <td>2019</td>\n",
       "      <td>Human Welfare &amp; Neighborhood Development</td>\n",
       "      <td>HSA</td>\n",
       "      <td>Human Services</td>\n",
       "      <td>535.0</td>\n",
       "      <td>SEIU, Local 1021, Misc</td>\n",
       "      <td>...</td>\n",
       "      <td>86457.00</td>\n",
       "      <td>0.00</td>\n",
       "      <td>2090.00</td>\n",
       "      <td>88547.00</td>\n",
       "      <td>16925.97</td>\n",
       "      <td>14733.76</td>\n",
       "      <td>7257.89</td>\n",
       "      <td>38917.62</td>\n",
       "      <td>127464.62</td>\n",
       "      <td>2</td>\n",
       "    </tr>\n",
       "  </tbody>\n",
       "</table>\n",
       "<p>5 rows × 23 columns</p>\n",
       "</div>"
      ],
      "text/plain": [
       "   organization_group_code job_family_code job_code year_type  year  \\\n",
       "0                        3            1400     1404    Fiscal  2019   \n",
       "1                        3            9700     9703    Fiscal  2019   \n",
       "2                        3            2900     2918    Fiscal  2019   \n",
       "3                        3            2900     2918    Fiscal  2019   \n",
       "4                        3            2900     2905    Fiscal  2019   \n",
       "\n",
       "                         organization_group department_code      department  \\\n",
       "0  Human Welfare & Neighborhood Development             HSA  Human Services   \n",
       "1  Human Welfare & Neighborhood Development             HSA  Human Services   \n",
       "2  Human Welfare & Neighborhood Development             HSA  Human Services   \n",
       "3  Human Welfare & Neighborhood Development             HSA  Human Services   \n",
       "4  Human Welfare & Neighborhood Development             HSA  Human Services   \n",
       "\n",
       "   union_code                   union  ... base_salary overtime  \\\n",
       "0       790.0  SEIU, Local 1021, Misc  ...    60720.01     0.00   \n",
       "1       535.0  SEIU, Local 1021, Misc  ...    91677.00     0.00   \n",
       "2       535.0  SEIU, Local 1021, Misc  ...    89106.03     0.00   \n",
       "3       535.0  SEIU, Local 1021, Misc  ...    85581.11  3355.94   \n",
       "4       535.0  SEIU, Local 1021, Misc  ...    86457.00     0.00   \n",
       "\n",
       "   irregular_cash  total_cash  retirement    health  other_benefits  \\\n",
       "0            0.00    60720.01    13653.20  14733.76         4904.34   \n",
       "1            0.00    91677.00    17524.20  14733.76         7411.13   \n",
       "2         1540.00    90646.03    17327.20  14733.76         7401.92   \n",
       "3          337.75    89274.80    16359.16  14151.56         7096.21   \n",
       "4         2090.00    88547.00    16925.97  14733.76         7257.89   \n",
       "\n",
       "   total_benefits  total_compensation  city_id  \n",
       "0        33291.30            94011.31        2  \n",
       "1        39669.09           131346.09        2  \n",
       "2        39462.88           130108.91        2  \n",
       "3        37606.93           126881.73        2  \n",
       "4        38917.62           127464.62        2  \n",
       "\n",
       "[5 rows x 23 columns]"
      ]
     },
     "execution_count": 23,
     "metadata": {},
     "output_type": "execute_result"
    }
   ],
   "source": [
    "df_sf.head()"
   ]
  },
  {
   "cell_type": "code",
   "execution_count": 24,
   "id": "3859e81f",
   "metadata": {},
   "outputs": [
    {
     "data": {
      "text/plain": [
       "['organization_group_code',\n",
       " 'job_family_code',\n",
       " 'job_code',\n",
       " 'year_type',\n",
       " 'year',\n",
       " 'organization_group',\n",
       " 'department_code',\n",
       " 'department',\n",
       " 'union_code',\n",
       " 'union',\n",
       " 'job_family',\n",
       " 'job_title',\n",
       " 'employee_identifier',\n",
       " 'base_salary',\n",
       " 'overtime',\n",
       " 'irregular_cash',\n",
       " 'total_cash',\n",
       " 'retirement',\n",
       " 'health',\n",
       " 'other_benefits',\n",
       " 'total_benefits',\n",
       " 'total_compensation',\n",
       " 'city_id']"
      ]
     },
     "execution_count": 24,
     "metadata": {},
     "output_type": "execute_result"
    }
   ],
   "source": [
    "col_names_sf = df_sf.columns.tolist()\n",
    "col_names_sf"
   ]
  },
  {
   "cell_type": "code",
   "execution_count": 25,
   "id": "6f79c615",
   "metadata": {},
   "outputs": [],
   "source": [
    "#write the combined file to CSV file \n",
    "df_sf.to_csv('sf_compens_v1.csv', index=False)"
   ]
  },
  {
   "cell_type": "code",
   "execution_count": 26,
   "id": "783fcbdb",
   "metadata": {},
   "outputs": [],
   "source": [
    "##los angles"
   ]
  },
  {
   "cell_type": "code",
   "execution_count": 27,
   "id": "fbb6ab69",
   "metadata": {},
   "outputs": [],
   "source": [
    "#Add city_id column\n",
    "df_la['city_id'] = 3"
   ]
  },
  {
   "cell_type": "code",
   "execution_count": 28,
   "id": "308ae43d",
   "metadata": {},
   "outputs": [
    {
     "name": "stdout",
     "output_type": "stream",
     "text": [
      "<class 'pandas.core.frame.DataFrame'>\n",
      "RangeIndex: 753959 entries, 0 to 753958\n",
      "Data columns (total 19 columns):\n",
      " #   Column                         Non-Null Count   Dtype  \n",
      "---  ------                         --------------   -----  \n",
      " 0   record_nbr                     753959 non-null  object \n",
      " 1   pay_year                       753959 non-null  int64  \n",
      " 2   department_no                  753959 non-null  int64  \n",
      " 3   department_title               753959 non-null  object \n",
      " 4   job_class_pgrade               753415 non-null  object \n",
      " 5   job_title                      753415 non-null  object \n",
      " 6   employment_type                753959 non-null  object \n",
      " 7   job_status                     753959 non-null  object \n",
      " 8   mou                            753273 non-null  object \n",
      " 9   mou_title                      753166 non-null  object \n",
      " 10  regular_pay                    753959 non-null  float64\n",
      " 11  overtime_pay                   753525 non-null  float64\n",
      " 12  all_other_pay                  753525 non-null  float64\n",
      " 13  total_pay                      753959 non-null  float64\n",
      " 14  city_retirement_contributions  753959 non-null  float64\n",
      " 15  benefit_pay                    753959 non-null  float64\n",
      " 16  gender                         750098 non-null  object \n",
      " 17  ethnicity                      746703 non-null  object \n",
      " 18  city_id                        753959 non-null  int64  \n",
      "dtypes: float64(6), int64(3), object(10)\n",
      "memory usage: 109.3+ MB\n"
     ]
    }
   ],
   "source": [
    "df_la.info()"
   ]
  },
  {
   "cell_type": "code",
   "execution_count": 29,
   "id": "2dc98b44",
   "metadata": {},
   "outputs": [],
   "source": [
    "#convert dtype\n",
    "column_list2 = ['regular_pay', 'overtime_pay', 'all_other_pay', 'total_pay', \n",
    "                'city_retirement_contributions', 'benefit_pay']\n",
    "#function to eliminate commas and dollar-sign to float \n",
    "to_float = lambda x: float(x.replace(',', '').replace('$', '')) if isinstance(x, str) and x else x\n",
    "#Convert values with comma to scientific one\n",
    "df_la[column_list2] = df_la[column_list2].applymap(to_float)"
   ]
  },
  {
   "cell_type": "code",
   "execution_count": 30,
   "id": "28ba25c6",
   "metadata": {},
   "outputs": [],
   "source": [
    "#rename coumns\n",
    "df_la = df_la.rename(columns= {'department_title':'department',\n",
    "                               'pay_year':\"year\",\n",
    "                               'regular_pay':'base_salary',\n",
    "                               'overtime_pay':'overtime',\n",
    "                               'all_other_pay':'irregular_cash',\n",
    "                               'total_pay':'total_cash',\n",
    "                               'city_retirement_contributions':'retirement',\n",
    "                               'benefit_pay':'health'})"
   ]
  },
  {
   "cell_type": "code",
   "execution_count": 31,
   "id": "0fc6c95b",
   "metadata": {},
   "outputs": [
    {
     "data": {
      "text/html": [
       "<div>\n",
       "<style scoped>\n",
       "    .dataframe tbody tr th:only-of-type {\n",
       "        vertical-align: middle;\n",
       "    }\n",
       "\n",
       "    .dataframe tbody tr th {\n",
       "        vertical-align: top;\n",
       "    }\n",
       "\n",
       "    .dataframe thead th {\n",
       "        text-align: right;\n",
       "    }\n",
       "</style>\n",
       "<table border=\"1\" class=\"dataframe\">\n",
       "  <thead>\n",
       "    <tr style=\"text-align: right;\">\n",
       "      <th></th>\n",
       "      <th>record_nbr</th>\n",
       "      <th>year</th>\n",
       "      <th>department_no</th>\n",
       "      <th>department</th>\n",
       "      <th>job_class_pgrade</th>\n",
       "      <th>job_title</th>\n",
       "      <th>employment_type</th>\n",
       "      <th>job_status</th>\n",
       "      <th>mou</th>\n",
       "      <th>mou_title</th>\n",
       "      <th>base_salary</th>\n",
       "      <th>overtime</th>\n",
       "      <th>irregular_cash</th>\n",
       "      <th>total_cash</th>\n",
       "      <th>retirement</th>\n",
       "      <th>health</th>\n",
       "      <th>gender</th>\n",
       "      <th>ethnicity</th>\n",
       "      <th>city_id</th>\n",
       "    </tr>\n",
       "  </thead>\n",
       "  <tbody>\n",
       "    <tr>\n",
       "      <th>0</th>\n",
       "      <td>3.0303E+11</td>\n",
       "      <td>2017</td>\n",
       "      <td>98</td>\n",
       "      <td>WATER AND POWER</td>\n",
       "      <td>3156-5</td>\n",
       "      <td>CUSTODIAN</td>\n",
       "      <td>FULL_TIME</td>\n",
       "      <td>ACTIVE</td>\n",
       "      <td>8</td>\n",
       "      <td>OPERATING MAINTENANCE AND SERVICE UNIT</td>\n",
       "      <td>55725.24</td>\n",
       "      <td>4785.05</td>\n",
       "      <td>2021.84</td>\n",
       "      <td>62532.13</td>\n",
       "      <td>3678.0</td>\n",
       "      <td>23508.9</td>\n",
       "      <td>FEMALE</td>\n",
       "      <td>HISPANIC</td>\n",
       "      <td>3</td>\n",
       "    </tr>\n",
       "    <tr>\n",
       "      <th>1</th>\n",
       "      <td>3030303036</td>\n",
       "      <td>2017</td>\n",
       "      <td>98</td>\n",
       "      <td>WATER AND POWER</td>\n",
       "      <td>9105-5</td>\n",
       "      <td>UTILITY ADMINISTRATOR</td>\n",
       "      <td>FULL_TIME</td>\n",
       "      <td>ACTIVE</td>\n",
       "      <td>M</td>\n",
       "      <td>MANAGEMENT EMPLOYEES UNIT</td>\n",
       "      <td>139174.88</td>\n",
       "      <td>16340.50</td>\n",
       "      <td>6170.49</td>\n",
       "      <td>161685.87</td>\n",
       "      <td>9186.0</td>\n",
       "      <td>23508.9</td>\n",
       "      <td>FEMALE</td>\n",
       "      <td>ASIAN AMERICAN</td>\n",
       "      <td>3</td>\n",
       "    </tr>\n",
       "    <tr>\n",
       "      <th>2</th>\n",
       "      <td>3.0303E+11</td>\n",
       "      <td>2017</td>\n",
       "      <td>98</td>\n",
       "      <td>WATER AND POWER</td>\n",
       "      <td>9602-4</td>\n",
       "      <td>WATER SERVICES MANAGER</td>\n",
       "      <td>FULL_TIME</td>\n",
       "      <td>ACTIVE</td>\n",
       "      <td>M</td>\n",
       "      <td>MANAGEMENT EMPLOYEES UNIT</td>\n",
       "      <td>245879.12</td>\n",
       "      <td>0.00</td>\n",
       "      <td>12504.30</td>\n",
       "      <td>258383.42</td>\n",
       "      <td>16228.0</td>\n",
       "      <td>23508.9</td>\n",
       "      <td>MALE</td>\n",
       "      <td>BLACK</td>\n",
       "      <td>3</td>\n",
       "    </tr>\n",
       "    <tr>\n",
       "      <th>3</th>\n",
       "      <td>3.0303E+11</td>\n",
       "      <td>2017</td>\n",
       "      <td>98</td>\n",
       "      <td>WATER AND POWER</td>\n",
       "      <td>5885-5</td>\n",
       "      <td>WTR TRTMT OPR</td>\n",
       "      <td>FULL_TIME</td>\n",
       "      <td>ACTIVE</td>\n",
       "      <td>6</td>\n",
       "      <td>STEAM PLANT AND WATER SUPPLY UNIT</td>\n",
       "      <td>101494.34</td>\n",
       "      <td>7824.99</td>\n",
       "      <td>12630.52</td>\n",
       "      <td>121949.85</td>\n",
       "      <td>6699.0</td>\n",
       "      <td>23508.9</td>\n",
       "      <td>MALE</td>\n",
       "      <td>ASIAN AMERICAN</td>\n",
       "      <td>3</td>\n",
       "    </tr>\n",
       "    <tr>\n",
       "      <th>4</th>\n",
       "      <td>3.0303E+11</td>\n",
       "      <td>2017</td>\n",
       "      <td>98</td>\n",
       "      <td>WATER AND POWER</td>\n",
       "      <td>3841-5</td>\n",
       "      <td>ELTL MCHC</td>\n",
       "      <td>FULL_TIME</td>\n",
       "      <td>ACTIVE</td>\n",
       "      <td>8</td>\n",
       "      <td>OPERATING MAINTENANCE AND SERVICE UNIT</td>\n",
       "      <td>101345.12</td>\n",
       "      <td>22284.37</td>\n",
       "      <td>1566.75</td>\n",
       "      <td>125196.24</td>\n",
       "      <td>6689.0</td>\n",
       "      <td>23508.9</td>\n",
       "      <td>MALE</td>\n",
       "      <td>HISPANIC</td>\n",
       "      <td>3</td>\n",
       "    </tr>\n",
       "  </tbody>\n",
       "</table>\n",
       "</div>"
      ],
      "text/plain": [
       "   record_nbr  year  department_no       department job_class_pgrade  \\\n",
       "0  3.0303E+11  2017             98  WATER AND POWER           3156-5   \n",
       "1  3030303036  2017             98  WATER AND POWER           9105-5   \n",
       "2  3.0303E+11  2017             98  WATER AND POWER           9602-4   \n",
       "3  3.0303E+11  2017             98  WATER AND POWER           5885-5   \n",
       "4  3.0303E+11  2017             98  WATER AND POWER           3841-5   \n",
       "\n",
       "                job_title employment_type job_status mou  \\\n",
       "0               CUSTODIAN       FULL_TIME     ACTIVE   8   \n",
       "1   UTILITY ADMINISTRATOR       FULL_TIME     ACTIVE   M   \n",
       "2  WATER SERVICES MANAGER       FULL_TIME     ACTIVE   M   \n",
       "3           WTR TRTMT OPR       FULL_TIME     ACTIVE   6   \n",
       "4               ELTL MCHC       FULL_TIME     ACTIVE   8   \n",
       "\n",
       "                                mou_title  base_salary  overtime  \\\n",
       "0  OPERATING MAINTENANCE AND SERVICE UNIT     55725.24   4785.05   \n",
       "1               MANAGEMENT EMPLOYEES UNIT    139174.88  16340.50   \n",
       "2               MANAGEMENT EMPLOYEES UNIT    245879.12      0.00   \n",
       "3       STEAM PLANT AND WATER SUPPLY UNIT    101494.34   7824.99   \n",
       "4  OPERATING MAINTENANCE AND SERVICE UNIT    101345.12  22284.37   \n",
       "\n",
       "   irregular_cash  total_cash  retirement   health  gender       ethnicity  \\\n",
       "0         2021.84    62532.13      3678.0  23508.9  FEMALE        HISPANIC   \n",
       "1         6170.49   161685.87      9186.0  23508.9  FEMALE  ASIAN AMERICAN   \n",
       "2        12504.30   258383.42     16228.0  23508.9    MALE           BLACK   \n",
       "3        12630.52   121949.85      6699.0  23508.9    MALE  ASIAN AMERICAN   \n",
       "4         1566.75   125196.24      6689.0  23508.9    MALE        HISPANIC   \n",
       "\n",
       "   city_id  \n",
       "0        3  \n",
       "1        3  \n",
       "2        3  \n",
       "3        3  \n",
       "4        3  "
      ]
     },
     "execution_count": 31,
     "metadata": {},
     "output_type": "execute_result"
    }
   ],
   "source": [
    "df_la.head()"
   ]
  },
  {
   "cell_type": "code",
   "execution_count": 32,
   "id": "fbebaae4",
   "metadata": {},
   "outputs": [],
   "source": [
    "#create total_benefits colum\n",
    "df_la['total_benefits'] =  df_la[['retirement', 'health']].sum(axis=1)\n",
    "df_la['total_compensation'] = df_la [['total_cash', 'total_benefits']].sum(axis=1)\n",
    "df_la['other_benefits'] = 'NaN'"
   ]
  },
  {
   "cell_type": "code",
   "execution_count": 33,
   "id": "a3bca8d9",
   "metadata": {},
   "outputs": [
    {
     "data": {
      "text/plain": [
       "['record_nbr',\n",
       " 'year',\n",
       " 'department_no',\n",
       " 'department',\n",
       " 'job_class_pgrade',\n",
       " 'job_title',\n",
       " 'employment_type',\n",
       " 'job_status',\n",
       " 'mou',\n",
       " 'mou_title',\n",
       " 'base_salary',\n",
       " 'overtime',\n",
       " 'irregular_cash',\n",
       " 'total_cash',\n",
       " 'retirement',\n",
       " 'health',\n",
       " 'gender',\n",
       " 'ethnicity',\n",
       " 'city_id',\n",
       " 'total_benefits',\n",
       " 'total_compensation',\n",
       " 'other_benefits']"
      ]
     },
     "execution_count": 33,
     "metadata": {},
     "output_type": "execute_result"
    }
   ],
   "source": [
    "col_names_la = df_la.columns.tolist()\n",
    "col_names_la"
   ]
  },
  {
   "cell_type": "code",
   "execution_count": 34,
   "id": "1bf1ea21",
   "metadata": {},
   "outputs": [],
   "source": [
    "#write the combined file to CSV file \n",
    "df_la.to_csv('la_compens_v1.csv', index=False)"
   ]
  },
  {
   "cell_type": "code",
   "execution_count": 35,
   "id": "e21c6c54",
   "metadata": {},
   "outputs": [],
   "source": [
    "##create db and tables\n"
   ]
  },
  {
   "cell_type": "code",
   "execution_count": 36,
   "id": "e18d0f88",
   "metadata": {},
   "outputs": [],
   "source": [
    "connection = sq.connect('comps')\n",
    "conn = connection.cursor()"
   ]
  },
  {
   "cell_type": "code",
   "execution_count": 37,
   "id": "ad551807",
   "metadata": {},
   "outputs": [
    {
     "name": "stderr",
     "output_type": "stream",
     "text": [
      "C:\\Users\\gauth\\AppData\\Local\\Temp\\ipykernel_16132\\3633218363.py:2: DtypeWarning: Columns (11) have mixed types. Specify dtype option on import or set low_memory=False.\n",
      "  table1 = pd.read_csv('sj_compens_v1.csv')\n"
     ]
    },
    {
     "data": {
      "text/plain": [
       "['name',\n",
       " 'department',\n",
       " 'job_title',\n",
       " 'total_cash',\n",
       " 'base_salary',\n",
       " 'overtime',\n",
       " 'sick_and_vacation_payouts',\n",
       " 'other_cash_compensation',\n",
       " 'defined_contribution_plan_contributions_city_paid',\n",
       " 'health',\n",
       " 'retirement_contribution',\n",
       " 'retired',\n",
       " 'year',\n",
       " 'long_term_disability_life_medicare',\n",
       " 'misc_employment_related_costs',\n",
       " 'irregular_cash',\n",
       " 'retirement',\n",
       " 'other_benefits',\n",
       " 'total_benefits',\n",
       " 'total_compensation',\n",
       " 'city_id']"
      ]
     },
     "execution_count": 37,
     "metadata": {},
     "output_type": "execute_result"
    }
   ],
   "source": [
    "#Read SJ data\n",
    "table1 = pd.read_csv('sj_compens_v1.csv')\n",
    "col_names_sj = table1.columns.tolist()\n",
    "col_names_sj"
   ]
  },
  {
   "cell_type": "code",
   "execution_count": 38,
   "id": "897b04e3",
   "metadata": {},
   "outputs": [
    {
     "data": {
      "text/plain": [
       "<sqlite3.Cursor at 0x1a5d98493b0>"
      ]
     },
     "execution_count": 38,
     "metadata": {},
     "output_type": "execute_result"
    }
   ],
   "source": [
    "#Create SJ table\n",
    "conn.execute(\"CREATE TABLE IF NOT EXISTS sj_table\" + \n",
    "             \"(name string,\\\n",
    "             department string, \\\n",
    "             job_title string, \\\n",
    "             total_cash float, \\\n",
    "             base_salary float, \\\n",
    "             overtime float,\\\n",
    "             sick_and_vacation_payouts float,\\\n",
    "             other_cash_compensation float,\\\n",
    "             defined_contribution_plan_contributions_city_paid float,\\\n",
    "             health float,\\\n",
    "             retirement_contribution float,\\\n",
    "             retired string,\\\n",
    "             year int,\\\n",
    "             long_term_disability_life_medicare float,\\\n",
    "             misc_employment_related_costs float,\\\n",
    "             irregular_cash float, \\\n",
    "             retirement float,\\\n",
    "             other_benefits float, \\\n",
    "             total_benefits float, \\\n",
    "             total_compensation float, \\\n",
    "             city_id int)\")"
   ]
  },
  {
   "cell_type": "code",
   "execution_count": 39,
   "id": "71744c0c",
   "metadata": {},
   "outputs": [
    {
     "data": {
      "text/plain": [
       "71946"
      ]
     },
     "execution_count": 39,
     "metadata": {},
     "output_type": "execute_result"
    }
   ],
   "source": [
    "#save content from data frame to database table\n",
    "table1.to_sql('sj_table', connection, if_exists='replace', index=False)"
   ]
  },
  {
   "cell_type": "code",
   "execution_count": 40,
   "id": "039c418d",
   "metadata": {},
   "outputs": [
    {
     "data": {
      "text/html": [
       "<div>\n",
       "<style scoped>\n",
       "    .dataframe tbody tr th:only-of-type {\n",
       "        vertical-align: middle;\n",
       "    }\n",
       "\n",
       "    .dataframe tbody tr th {\n",
       "        vertical-align: top;\n",
       "    }\n",
       "\n",
       "    .dataframe thead th {\n",
       "        text-align: right;\n",
       "    }\n",
       "</style>\n",
       "<table border=\"1\" class=\"dataframe\">\n",
       "  <thead>\n",
       "    <tr style=\"text-align: right;\">\n",
       "      <th></th>\n",
       "      <th>name</th>\n",
       "      <th>department</th>\n",
       "      <th>job_title</th>\n",
       "      <th>total_cash</th>\n",
       "      <th>base_salary</th>\n",
       "      <th>overtime</th>\n",
       "      <th>sick_and_vacation_payouts</th>\n",
       "      <th>other_cash_compensation</th>\n",
       "      <th>defined_contribution_plan_contributions_city_paid</th>\n",
       "      <th>health</th>\n",
       "      <th>...</th>\n",
       "      <th>retired</th>\n",
       "      <th>year</th>\n",
       "      <th>long_term_disability_life_medicare</th>\n",
       "      <th>misc_employment_related_costs</th>\n",
       "      <th>irregular_cash</th>\n",
       "      <th>retirement</th>\n",
       "      <th>other_benefits</th>\n",
       "      <th>total_benefits</th>\n",
       "      <th>total_compensation</th>\n",
       "      <th>city_id</th>\n",
       "    </tr>\n",
       "  </thead>\n",
       "  <tbody>\n",
       "    <tr>\n",
       "      <th>0</th>\n",
       "      <td>Bustillos,Steven D</td>\n",
       "      <td>Police</td>\n",
       "      <td>Police Sergeant</td>\n",
       "      <td>286137.69</td>\n",
       "      <td>90888.00</td>\n",
       "      <td>89867.88</td>\n",
       "      <td>97969.79</td>\n",
       "      <td>7412.02</td>\n",
       "      <td>NaN</td>\n",
       "      <td>13640.50</td>\n",
       "      <td>...</td>\n",
       "      <td>Yes</td>\n",
       "      <td>2013</td>\n",
       "      <td>None</td>\n",
       "      <td>None</td>\n",
       "      <td>105381.81</td>\n",
       "      <td>74429.71</td>\n",
       "      <td>0.0</td>\n",
       "      <td>88070.21</td>\n",
       "      <td>374207.90</td>\n",
       "      <td>1</td>\n",
       "    </tr>\n",
       "    <tr>\n",
       "      <th>1</th>\n",
       "      <td>Figone,Debra J</td>\n",
       "      <td>City Manager</td>\n",
       "      <td>City Manager U</td>\n",
       "      <td>248564.84</td>\n",
       "      <td>227975.02</td>\n",
       "      <td>NaN</td>\n",
       "      <td>NaN</td>\n",
       "      <td>20589.82</td>\n",
       "      <td>20517.64</td>\n",
       "      <td>15166.00</td>\n",
       "      <td>...</td>\n",
       "      <td>Yes</td>\n",
       "      <td>2013</td>\n",
       "      <td>None</td>\n",
       "      <td>None</td>\n",
       "      <td>20589.82</td>\n",
       "      <td>151550.08</td>\n",
       "      <td>0.0</td>\n",
       "      <td>166716.08</td>\n",
       "      <td>415280.92</td>\n",
       "      <td>1</td>\n",
       "    </tr>\n",
       "    <tr>\n",
       "      <th>2</th>\n",
       "      <td>Guerra,Daniel P</td>\n",
       "      <td>Police</td>\n",
       "      <td>Police Officer</td>\n",
       "      <td>241039.12</td>\n",
       "      <td>97198.40</td>\n",
       "      <td>132104.54</td>\n",
       "      <td>NaN</td>\n",
       "      <td>11736.18</td>\n",
       "      <td>NaN</td>\n",
       "      <td>15371.56</td>\n",
       "      <td>...</td>\n",
       "      <td>No</td>\n",
       "      <td>2013</td>\n",
       "      <td>None</td>\n",
       "      <td>None</td>\n",
       "      <td>11736.18</td>\n",
       "      <td>79821.51</td>\n",
       "      <td>0.0</td>\n",
       "      <td>95193.07</td>\n",
       "      <td>336232.19</td>\n",
       "      <td>1</td>\n",
       "    </tr>\n",
       "    <tr>\n",
       "      <th>3</th>\n",
       "      <td>Moore,Christopher M</td>\n",
       "      <td>Police</td>\n",
       "      <td>Chief Of Police U</td>\n",
       "      <td>233540.32</td>\n",
       "      <td>15319.54</td>\n",
       "      <td>NaN</td>\n",
       "      <td>215470.80</td>\n",
       "      <td>2749.98</td>\n",
       "      <td>NaN</td>\n",
       "      <td>1371.81</td>\n",
       "      <td>...</td>\n",
       "      <td>Yes</td>\n",
       "      <td>2013</td>\n",
       "      <td>None</td>\n",
       "      <td>None</td>\n",
       "      <td>218220.78</td>\n",
       "      <td>11204.16</td>\n",
       "      <td>0.0</td>\n",
       "      <td>12575.97</td>\n",
       "      <td>246116.29</td>\n",
       "      <td>1</td>\n",
       "    </tr>\n",
       "    <tr>\n",
       "      <th>4</th>\n",
       "      <td>Vasquez,Hector M</td>\n",
       "      <td>Police</td>\n",
       "      <td>Police Officer</td>\n",
       "      <td>230469.85</td>\n",
       "      <td>97198.40</td>\n",
       "      <td>124552.69</td>\n",
       "      <td>NaN</td>\n",
       "      <td>8718.76</td>\n",
       "      <td>NaN</td>\n",
       "      <td>16345.32</td>\n",
       "      <td>...</td>\n",
       "      <td>No</td>\n",
       "      <td>2013</td>\n",
       "      <td>None</td>\n",
       "      <td>None</td>\n",
       "      <td>8718.76</td>\n",
       "      <td>79821.51</td>\n",
       "      <td>0.0</td>\n",
       "      <td>96166.83</td>\n",
       "      <td>326636.68</td>\n",
       "      <td>1</td>\n",
       "    </tr>\n",
       "  </tbody>\n",
       "</table>\n",
       "<p>5 rows × 21 columns</p>\n",
       "</div>"
      ],
      "text/plain": [
       "                  name    department          job_title  total_cash  \\\n",
       "0   Bustillos,Steven D        Police    Police Sergeant   286137.69   \n",
       "1       Figone,Debra J  City Manager     City Manager U   248564.84   \n",
       "2      Guerra,Daniel P        Police     Police Officer   241039.12   \n",
       "3  Moore,Christopher M        Police  Chief Of Police U   233540.32   \n",
       "4     Vasquez,Hector M        Police     Police Officer   230469.85   \n",
       "\n",
       "   base_salary   overtime  sick_and_vacation_payouts  other_cash_compensation  \\\n",
       "0     90888.00   89867.88                   97969.79                  7412.02   \n",
       "1    227975.02        NaN                        NaN                 20589.82   \n",
       "2     97198.40  132104.54                        NaN                 11736.18   \n",
       "3     15319.54        NaN                  215470.80                  2749.98   \n",
       "4     97198.40  124552.69                        NaN                  8718.76   \n",
       "\n",
       "   defined_contribution_plan_contributions_city_paid    health  ...  retired  \\\n",
       "0                                                NaN  13640.50  ...      Yes   \n",
       "1                                           20517.64  15166.00  ...      Yes   \n",
       "2                                                NaN  15371.56  ...       No   \n",
       "3                                                NaN   1371.81  ...      Yes   \n",
       "4                                                NaN  16345.32  ...       No   \n",
       "\n",
       "   year  long_term_disability_life_medicare misc_employment_related_costs  \\\n",
       "0  2013                                None                          None   \n",
       "1  2013                                None                          None   \n",
       "2  2013                                None                          None   \n",
       "3  2013                                None                          None   \n",
       "4  2013                                None                          None   \n",
       "\n",
       "  irregular_cash  retirement  other_benefits  total_benefits  \\\n",
       "0      105381.81    74429.71             0.0        88070.21   \n",
       "1       20589.82   151550.08             0.0       166716.08   \n",
       "2       11736.18    79821.51             0.0        95193.07   \n",
       "3      218220.78    11204.16             0.0        12575.97   \n",
       "4        8718.76    79821.51             0.0        96166.83   \n",
       "\n",
       "   total_compensation  city_id  \n",
       "0           374207.90        1  \n",
       "1           415280.92        1  \n",
       "2           336232.19        1  \n",
       "3           246116.29        1  \n",
       "4           326636.68        1  \n",
       "\n",
       "[5 rows x 21 columns]"
      ]
     },
     "execution_count": 40,
     "metadata": {},
     "output_type": "execute_result"
    }
   ],
   "source": [
    "pd.read_sql(f'SELECT * FROM sj_table limit 5', connection)"
   ]
  },
  {
   "cell_type": "code",
   "execution_count": 41,
   "id": "e320c3fa",
   "metadata": {},
   "outputs": [
    {
     "data": {
      "text/plain": [
       "['organization_group_code',\n",
       " 'job_family_code',\n",
       " 'job_code',\n",
       " 'year_type',\n",
       " 'year',\n",
       " 'organization_group',\n",
       " 'department_code',\n",
       " 'department',\n",
       " 'union_code',\n",
       " 'union',\n",
       " 'job_family',\n",
       " 'job_title',\n",
       " 'employee_identifier',\n",
       " 'base_salary',\n",
       " 'overtime',\n",
       " 'irregular_cash',\n",
       " 'total_cash',\n",
       " 'retirement',\n",
       " 'health',\n",
       " 'other_benefits',\n",
       " 'total_benefits',\n",
       " 'total_compensation',\n",
       " 'city_id']"
      ]
     },
     "execution_count": 41,
     "metadata": {},
     "output_type": "execute_result"
    }
   ],
   "source": [
    "#Read SF data\n",
    "table2 = pd.read_csv('sf_compens_v1.csv')\n",
    "col_names_sf = table2.columns.tolist()\n",
    "col_names_sf"
   ]
  },
  {
   "cell_type": "code",
   "execution_count": 42,
   "id": "3ad77e56",
   "metadata": {},
   "outputs": [
    {
     "data": {
      "text/plain": [
       "<sqlite3.Cursor at 0x1a5d98493b0>"
      ]
     },
     "execution_count": 42,
     "metadata": {},
     "output_type": "execute_result"
    }
   ],
   "source": [
    "#Create table\n",
    "conn.execute(\"CREATE TABLE IF NOT EXISTS sf_table\" + \n",
    "             \"('organization_group_code', \\\n",
    "             'job_family_code', \\\n",
    "             'job_code', \\\n",
    "             'year_type', \\\n",
    "             'year', \\\n",
    "             'organization_group', \\\n",
    "             'department_code', \\\n",
    "             'department', \\\n",
    "             'union_code', \\\n",
    "             'union', \\\n",
    "             'job_family', \\\n",
    "             'job_title', \\\n",
    "             'employee_identifier', \\\n",
    "             'base_salary', \\\n",
    "             'overtime', \\\n",
    "             'irregular_cash', \\\n",
    "             'total_cash', \\\n",
    "             'retirement', \\\n",
    "             'health', \\\n",
    "             'other_benefits', \\\n",
    "             'total_benefits', \\\n",
    "             'total_compensation', \\\n",
    "             city_id int)\")"
   ]
  },
  {
   "cell_type": "code",
   "execution_count": 43,
   "id": "108538a8",
   "metadata": {},
   "outputs": [
    {
     "data": {
      "text/html": [
       "<div>\n",
       "<style scoped>\n",
       "    .dataframe tbody tr th:only-of-type {\n",
       "        vertical-align: middle;\n",
       "    }\n",
       "\n",
       "    .dataframe tbody tr th {\n",
       "        vertical-align: top;\n",
       "    }\n",
       "\n",
       "    .dataframe thead th {\n",
       "        text-align: right;\n",
       "    }\n",
       "</style>\n",
       "<table border=\"1\" class=\"dataframe\">\n",
       "  <thead>\n",
       "    <tr style=\"text-align: right;\">\n",
       "      <th></th>\n",
       "      <th>organization_group_code</th>\n",
       "      <th>job_family_code</th>\n",
       "      <th>job_code</th>\n",
       "      <th>year_type</th>\n",
       "      <th>year</th>\n",
       "      <th>organization_group</th>\n",
       "      <th>department_code</th>\n",
       "      <th>department</th>\n",
       "      <th>union_code</th>\n",
       "      <th>union</th>\n",
       "      <th>...</th>\n",
       "      <th>base_salary</th>\n",
       "      <th>overtime</th>\n",
       "      <th>irregular_cash</th>\n",
       "      <th>total_cash</th>\n",
       "      <th>retirement</th>\n",
       "      <th>health</th>\n",
       "      <th>other_benefits</th>\n",
       "      <th>total_benefits</th>\n",
       "      <th>total_compensation</th>\n",
       "      <th>city_id</th>\n",
       "    </tr>\n",
       "  </thead>\n",
       "  <tbody>\n",
       "    <tr>\n",
       "      <th>0</th>\n",
       "      <td>3</td>\n",
       "      <td>1400</td>\n",
       "      <td>1404</td>\n",
       "      <td>Fiscal</td>\n",
       "      <td>2019</td>\n",
       "      <td>Human Welfare &amp; Neighborhood Development</td>\n",
       "      <td>HSA</td>\n",
       "      <td>Human Services</td>\n",
       "      <td>790.0</td>\n",
       "      <td>SEIU, Local 1021, Misc</td>\n",
       "      <td>...</td>\n",
       "      <td>60720.01</td>\n",
       "      <td>0.00</td>\n",
       "      <td>0.00</td>\n",
       "      <td>60720.01</td>\n",
       "      <td>13653.20</td>\n",
       "      <td>14733.76</td>\n",
       "      <td>4904.34</td>\n",
       "      <td>33291.30</td>\n",
       "      <td>94011.31</td>\n",
       "      <td>2</td>\n",
       "    </tr>\n",
       "    <tr>\n",
       "      <th>1</th>\n",
       "      <td>3</td>\n",
       "      <td>9700</td>\n",
       "      <td>9703</td>\n",
       "      <td>Fiscal</td>\n",
       "      <td>2019</td>\n",
       "      <td>Human Welfare &amp; Neighborhood Development</td>\n",
       "      <td>HSA</td>\n",
       "      <td>Human Services</td>\n",
       "      <td>535.0</td>\n",
       "      <td>SEIU, Local 1021, Misc</td>\n",
       "      <td>...</td>\n",
       "      <td>91677.00</td>\n",
       "      <td>0.00</td>\n",
       "      <td>0.00</td>\n",
       "      <td>91677.00</td>\n",
       "      <td>17524.20</td>\n",
       "      <td>14733.76</td>\n",
       "      <td>7411.13</td>\n",
       "      <td>39669.09</td>\n",
       "      <td>131346.09</td>\n",
       "      <td>2</td>\n",
       "    </tr>\n",
       "    <tr>\n",
       "      <th>2</th>\n",
       "      <td>3</td>\n",
       "      <td>2900</td>\n",
       "      <td>2918</td>\n",
       "      <td>Fiscal</td>\n",
       "      <td>2019</td>\n",
       "      <td>Human Welfare &amp; Neighborhood Development</td>\n",
       "      <td>HSA</td>\n",
       "      <td>Human Services</td>\n",
       "      <td>535.0</td>\n",
       "      <td>SEIU, Local 1021, Misc</td>\n",
       "      <td>...</td>\n",
       "      <td>89106.03</td>\n",
       "      <td>0.00</td>\n",
       "      <td>1540.00</td>\n",
       "      <td>90646.03</td>\n",
       "      <td>17327.20</td>\n",
       "      <td>14733.76</td>\n",
       "      <td>7401.92</td>\n",
       "      <td>39462.88</td>\n",
       "      <td>130108.91</td>\n",
       "      <td>2</td>\n",
       "    </tr>\n",
       "    <tr>\n",
       "      <th>3</th>\n",
       "      <td>3</td>\n",
       "      <td>2900</td>\n",
       "      <td>2918</td>\n",
       "      <td>Fiscal</td>\n",
       "      <td>2019</td>\n",
       "      <td>Human Welfare &amp; Neighborhood Development</td>\n",
       "      <td>HSA</td>\n",
       "      <td>Human Services</td>\n",
       "      <td>535.0</td>\n",
       "      <td>SEIU, Local 1021, Misc</td>\n",
       "      <td>...</td>\n",
       "      <td>85581.11</td>\n",
       "      <td>3355.94</td>\n",
       "      <td>337.75</td>\n",
       "      <td>89274.80</td>\n",
       "      <td>16359.16</td>\n",
       "      <td>14151.56</td>\n",
       "      <td>7096.21</td>\n",
       "      <td>37606.93</td>\n",
       "      <td>126881.73</td>\n",
       "      <td>2</td>\n",
       "    </tr>\n",
       "    <tr>\n",
       "      <th>4</th>\n",
       "      <td>3</td>\n",
       "      <td>2900</td>\n",
       "      <td>2905</td>\n",
       "      <td>Fiscal</td>\n",
       "      <td>2019</td>\n",
       "      <td>Human Welfare &amp; Neighborhood Development</td>\n",
       "      <td>HSA</td>\n",
       "      <td>Human Services</td>\n",
       "      <td>535.0</td>\n",
       "      <td>SEIU, Local 1021, Misc</td>\n",
       "      <td>...</td>\n",
       "      <td>86457.00</td>\n",
       "      <td>0.00</td>\n",
       "      <td>2090.00</td>\n",
       "      <td>88547.00</td>\n",
       "      <td>16925.97</td>\n",
       "      <td>14733.76</td>\n",
       "      <td>7257.89</td>\n",
       "      <td>38917.62</td>\n",
       "      <td>127464.62</td>\n",
       "      <td>2</td>\n",
       "    </tr>\n",
       "  </tbody>\n",
       "</table>\n",
       "<p>5 rows × 23 columns</p>\n",
       "</div>"
      ],
      "text/plain": [
       "   organization_group_code job_family_code job_code year_type  year  \\\n",
       "0                        3            1400     1404    Fiscal  2019   \n",
       "1                        3            9700     9703    Fiscal  2019   \n",
       "2                        3            2900     2918    Fiscal  2019   \n",
       "3                        3            2900     2918    Fiscal  2019   \n",
       "4                        3            2900     2905    Fiscal  2019   \n",
       "\n",
       "                         organization_group department_code      department  \\\n",
       "0  Human Welfare & Neighborhood Development             HSA  Human Services   \n",
       "1  Human Welfare & Neighborhood Development             HSA  Human Services   \n",
       "2  Human Welfare & Neighborhood Development             HSA  Human Services   \n",
       "3  Human Welfare & Neighborhood Development             HSA  Human Services   \n",
       "4  Human Welfare & Neighborhood Development             HSA  Human Services   \n",
       "\n",
       "   union_code                   union  ... base_salary overtime  \\\n",
       "0       790.0  SEIU, Local 1021, Misc  ...    60720.01     0.00   \n",
       "1       535.0  SEIU, Local 1021, Misc  ...    91677.00     0.00   \n",
       "2       535.0  SEIU, Local 1021, Misc  ...    89106.03     0.00   \n",
       "3       535.0  SEIU, Local 1021, Misc  ...    85581.11  3355.94   \n",
       "4       535.0  SEIU, Local 1021, Misc  ...    86457.00     0.00   \n",
       "\n",
       "   irregular_cash  total_cash  retirement    health  other_benefits  \\\n",
       "0            0.00    60720.01    13653.20  14733.76         4904.34   \n",
       "1            0.00    91677.00    17524.20  14733.76         7411.13   \n",
       "2         1540.00    90646.03    17327.20  14733.76         7401.92   \n",
       "3          337.75    89274.80    16359.16  14151.56         7096.21   \n",
       "4         2090.00    88547.00    16925.97  14733.76         7257.89   \n",
       "\n",
       "   total_benefits  total_compensation  city_id  \n",
       "0        33291.30            94011.31        2  \n",
       "1        39669.09           131346.09        2  \n",
       "2        39462.88           130108.91        2  \n",
       "3        37606.93           126881.73        2  \n",
       "4        38917.62           127464.62        2  \n",
       "\n",
       "[5 rows x 23 columns]"
      ]
     },
     "execution_count": 43,
     "metadata": {},
     "output_type": "execute_result"
    }
   ],
   "source": [
    "#save content from data frame to database table\n",
    "table2.to_sql('sf_table', connection, if_exists='replace', index=False)\n",
    "pd.read_sql(f'SELECT * FROM sf_table limit 5', connection)"
   ]
  },
  {
   "cell_type": "code",
   "execution_count": 44,
   "id": "263c50bc",
   "metadata": {},
   "outputs": [
    {
     "name": "stderr",
     "output_type": "stream",
     "text": [
      "C:\\Users\\gauth\\AppData\\Local\\Temp\\ipykernel_16132\\4110348754.py:2: DtypeWarning: Columns (0,8) have mixed types. Specify dtype option on import or set low_memory=False.\n",
      "  table3 = pd.read_csv('la_compens_v1.csv')\n"
     ]
    },
    {
     "data": {
      "text/plain": [
       "['record_nbr',\n",
       " 'year',\n",
       " 'department_no',\n",
       " 'department',\n",
       " 'job_class_pgrade',\n",
       " 'job_title',\n",
       " 'employment_type',\n",
       " 'job_status',\n",
       " 'mou',\n",
       " 'mou_title',\n",
       " 'base_salary',\n",
       " 'overtime',\n",
       " 'irregular_cash',\n",
       " 'total_cash',\n",
       " 'retirement',\n",
       " 'health',\n",
       " 'gender',\n",
       " 'ethnicity',\n",
       " 'city_id',\n",
       " 'total_benefits',\n",
       " 'total_compensation',\n",
       " 'other_benefits']"
      ]
     },
     "execution_count": 44,
     "metadata": {},
     "output_type": "execute_result"
    }
   ],
   "source": [
    "#Read LA data\n",
    "table3 = pd.read_csv('la_compens_v1.csv')\n",
    "col_names_la = table3.columns.tolist()\n",
    "col_names_la"
   ]
  },
  {
   "cell_type": "code",
   "execution_count": 45,
   "id": "5b3ca88b",
   "metadata": {},
   "outputs": [
    {
     "data": {
      "text/plain": [
       "<sqlite3.Cursor at 0x1a5d98493b0>"
      ]
     },
     "execution_count": 45,
     "metadata": {},
     "output_type": "execute_result"
    }
   ],
   "source": [
    "#Create table\n",
    "conn.execute(\"CREATE TABLE IF NOT EXISTS la_table\" + \n",
    "             \"('record_nbr', \\\n",
    "             'year', \\\n",
    "             'department_no', \\\n",
    "             'department', \\\n",
    "             'job_class_pgrade', \\\n",
    "             'job_title', \\\n",
    "             'employment_type', \\\n",
    "             'job_status', \\\n",
    "             'mou', \\\n",
    "             'mou_title', \\\n",
    "             'base_salary', \\\n",
    "             'overtime', \\\n",
    "             'irregular_cash', \\\n",
    "             'total_cash', \\\n",
    "             'retirement', \\\n",
    "             'health', \\\n",
    "             'gender', \\\n",
    "             'ethnicity',\\\n",
    "             'city_id int', \\\n",
    "             'total_benefits'\\\n",
    "             'total_compensation', \\\n",
    "             other_benefits)\")"
   ]
  },
  {
   "cell_type": "code",
   "execution_count": 46,
   "id": "5d02ae3b",
   "metadata": {},
   "outputs": [
    {
     "data": {
      "text/html": [
       "<div>\n",
       "<style scoped>\n",
       "    .dataframe tbody tr th:only-of-type {\n",
       "        vertical-align: middle;\n",
       "    }\n",
       "\n",
       "    .dataframe tbody tr th {\n",
       "        vertical-align: top;\n",
       "    }\n",
       "\n",
       "    .dataframe thead th {\n",
       "        text-align: right;\n",
       "    }\n",
       "</style>\n",
       "<table border=\"1\" class=\"dataframe\">\n",
       "  <thead>\n",
       "    <tr style=\"text-align: right;\">\n",
       "      <th></th>\n",
       "      <th>record_nbr</th>\n",
       "      <th>year</th>\n",
       "      <th>department_no</th>\n",
       "      <th>department</th>\n",
       "      <th>job_class_pgrade</th>\n",
       "      <th>job_title</th>\n",
       "      <th>employment_type</th>\n",
       "      <th>job_status</th>\n",
       "      <th>mou</th>\n",
       "      <th>mou_title</th>\n",
       "      <th>...</th>\n",
       "      <th>irregular_cash</th>\n",
       "      <th>total_cash</th>\n",
       "      <th>retirement</th>\n",
       "      <th>health</th>\n",
       "      <th>gender</th>\n",
       "      <th>ethnicity</th>\n",
       "      <th>city_id</th>\n",
       "      <th>total_benefits</th>\n",
       "      <th>total_compensation</th>\n",
       "      <th>other_benefits</th>\n",
       "    </tr>\n",
       "  </thead>\n",
       "  <tbody>\n",
       "    <tr>\n",
       "      <th>0</th>\n",
       "      <td>3.0303E+11</td>\n",
       "      <td>2017</td>\n",
       "      <td>98</td>\n",
       "      <td>WATER AND POWER</td>\n",
       "      <td>3156-5</td>\n",
       "      <td>CUSTODIAN</td>\n",
       "      <td>FULL_TIME</td>\n",
       "      <td>ACTIVE</td>\n",
       "      <td>8</td>\n",
       "      <td>OPERATING MAINTENANCE AND SERVICE UNIT</td>\n",
       "      <td>...</td>\n",
       "      <td>2021.84</td>\n",
       "      <td>62532.13</td>\n",
       "      <td>3678.0</td>\n",
       "      <td>23508.9</td>\n",
       "      <td>FEMALE</td>\n",
       "      <td>HISPANIC</td>\n",
       "      <td>3</td>\n",
       "      <td>27186.9</td>\n",
       "      <td>89719.03</td>\n",
       "      <td>None</td>\n",
       "    </tr>\n",
       "    <tr>\n",
       "      <th>1</th>\n",
       "      <td>3030303036</td>\n",
       "      <td>2017</td>\n",
       "      <td>98</td>\n",
       "      <td>WATER AND POWER</td>\n",
       "      <td>9105-5</td>\n",
       "      <td>UTILITY ADMINISTRATOR</td>\n",
       "      <td>FULL_TIME</td>\n",
       "      <td>ACTIVE</td>\n",
       "      <td>M</td>\n",
       "      <td>MANAGEMENT EMPLOYEES UNIT</td>\n",
       "      <td>...</td>\n",
       "      <td>6170.49</td>\n",
       "      <td>161685.87</td>\n",
       "      <td>9186.0</td>\n",
       "      <td>23508.9</td>\n",
       "      <td>FEMALE</td>\n",
       "      <td>ASIAN AMERICAN</td>\n",
       "      <td>3</td>\n",
       "      <td>32694.9</td>\n",
       "      <td>194380.77</td>\n",
       "      <td>None</td>\n",
       "    </tr>\n",
       "    <tr>\n",
       "      <th>2</th>\n",
       "      <td>3.0303E+11</td>\n",
       "      <td>2017</td>\n",
       "      <td>98</td>\n",
       "      <td>WATER AND POWER</td>\n",
       "      <td>9602-4</td>\n",
       "      <td>WATER SERVICES MANAGER</td>\n",
       "      <td>FULL_TIME</td>\n",
       "      <td>ACTIVE</td>\n",
       "      <td>M</td>\n",
       "      <td>MANAGEMENT EMPLOYEES UNIT</td>\n",
       "      <td>...</td>\n",
       "      <td>12504.30</td>\n",
       "      <td>258383.42</td>\n",
       "      <td>16228.0</td>\n",
       "      <td>23508.9</td>\n",
       "      <td>MALE</td>\n",
       "      <td>BLACK</td>\n",
       "      <td>3</td>\n",
       "      <td>39736.9</td>\n",
       "      <td>298120.32</td>\n",
       "      <td>None</td>\n",
       "    </tr>\n",
       "    <tr>\n",
       "      <th>3</th>\n",
       "      <td>3.0303E+11</td>\n",
       "      <td>2017</td>\n",
       "      <td>98</td>\n",
       "      <td>WATER AND POWER</td>\n",
       "      <td>5885-5</td>\n",
       "      <td>WTR TRTMT OPR</td>\n",
       "      <td>FULL_TIME</td>\n",
       "      <td>ACTIVE</td>\n",
       "      <td>6</td>\n",
       "      <td>STEAM PLANT AND WATER SUPPLY UNIT</td>\n",
       "      <td>...</td>\n",
       "      <td>12630.52</td>\n",
       "      <td>121949.85</td>\n",
       "      <td>6699.0</td>\n",
       "      <td>23508.9</td>\n",
       "      <td>MALE</td>\n",
       "      <td>ASIAN AMERICAN</td>\n",
       "      <td>3</td>\n",
       "      <td>30207.9</td>\n",
       "      <td>152157.75</td>\n",
       "      <td>None</td>\n",
       "    </tr>\n",
       "    <tr>\n",
       "      <th>4</th>\n",
       "      <td>3.0303E+11</td>\n",
       "      <td>2017</td>\n",
       "      <td>98</td>\n",
       "      <td>WATER AND POWER</td>\n",
       "      <td>3841-5</td>\n",
       "      <td>ELTL MCHC</td>\n",
       "      <td>FULL_TIME</td>\n",
       "      <td>ACTIVE</td>\n",
       "      <td>8</td>\n",
       "      <td>OPERATING MAINTENANCE AND SERVICE UNIT</td>\n",
       "      <td>...</td>\n",
       "      <td>1566.75</td>\n",
       "      <td>125196.24</td>\n",
       "      <td>6689.0</td>\n",
       "      <td>23508.9</td>\n",
       "      <td>MALE</td>\n",
       "      <td>HISPANIC</td>\n",
       "      <td>3</td>\n",
       "      <td>30197.9</td>\n",
       "      <td>155394.14</td>\n",
       "      <td>None</td>\n",
       "    </tr>\n",
       "  </tbody>\n",
       "</table>\n",
       "<p>5 rows × 22 columns</p>\n",
       "</div>"
      ],
      "text/plain": [
       "   record_nbr  year  department_no       department job_class_pgrade  \\\n",
       "0  3.0303E+11  2017             98  WATER AND POWER           3156-5   \n",
       "1  3030303036  2017             98  WATER AND POWER           9105-5   \n",
       "2  3.0303E+11  2017             98  WATER AND POWER           9602-4   \n",
       "3  3.0303E+11  2017             98  WATER AND POWER           5885-5   \n",
       "4  3.0303E+11  2017             98  WATER AND POWER           3841-5   \n",
       "\n",
       "                job_title employment_type job_status mou  \\\n",
       "0               CUSTODIAN       FULL_TIME     ACTIVE   8   \n",
       "1   UTILITY ADMINISTRATOR       FULL_TIME     ACTIVE   M   \n",
       "2  WATER SERVICES MANAGER       FULL_TIME     ACTIVE   M   \n",
       "3           WTR TRTMT OPR       FULL_TIME     ACTIVE   6   \n",
       "4               ELTL MCHC       FULL_TIME     ACTIVE   8   \n",
       "\n",
       "                                mou_title  ...  irregular_cash  total_cash  \\\n",
       "0  OPERATING MAINTENANCE AND SERVICE UNIT  ...         2021.84    62532.13   \n",
       "1               MANAGEMENT EMPLOYEES UNIT  ...         6170.49   161685.87   \n",
       "2               MANAGEMENT EMPLOYEES UNIT  ...        12504.30   258383.42   \n",
       "3       STEAM PLANT AND WATER SUPPLY UNIT  ...        12630.52   121949.85   \n",
       "4  OPERATING MAINTENANCE AND SERVICE UNIT  ...         1566.75   125196.24   \n",
       "\n",
       "   retirement   health  gender       ethnicity city_id total_benefits  \\\n",
       "0      3678.0  23508.9  FEMALE        HISPANIC       3        27186.9   \n",
       "1      9186.0  23508.9  FEMALE  ASIAN AMERICAN       3        32694.9   \n",
       "2     16228.0  23508.9    MALE           BLACK       3        39736.9   \n",
       "3      6699.0  23508.9    MALE  ASIAN AMERICAN       3        30207.9   \n",
       "4      6689.0  23508.9    MALE        HISPANIC       3        30197.9   \n",
       "\n",
       "   total_compensation  other_benefits  \n",
       "0            89719.03            None  \n",
       "1           194380.77            None  \n",
       "2           298120.32            None  \n",
       "3           152157.75            None  \n",
       "4           155394.14            None  \n",
       "\n",
       "[5 rows x 22 columns]"
      ]
     },
     "execution_count": 46,
     "metadata": {},
     "output_type": "execute_result"
    }
   ],
   "source": [
    "#save content from data frame to database table\n",
    "table3.to_sql('la_table', connection, if_exists='replace', index=False)\n",
    "pd.read_sql(f'SELECT * FROM la_table limit 5', connection)"
   ]
  },
  {
   "cell_type": "code",
   "execution_count": 47,
   "id": "dffb85df",
   "metadata": {},
   "outputs": [],
   "source": [
    "##Observe the differences in department between datasets"
   ]
  },
  {
   "cell_type": "code",
   "execution_count": 48,
   "id": "c9740213",
   "metadata": {},
   "outputs": [
    {
     "data": {
      "text/html": [
       "<div>\n",
       "<style scoped>\n",
       "    .dataframe tbody tr th:only-of-type {\n",
       "        vertical-align: middle;\n",
       "    }\n",
       "\n",
       "    .dataframe tbody tr th {\n",
       "        vertical-align: top;\n",
       "    }\n",
       "\n",
       "    .dataframe thead th {\n",
       "        text-align: right;\n",
       "    }\n",
       "</style>\n",
       "<table border=\"1\" class=\"dataframe\">\n",
       "  <thead>\n",
       "    <tr style=\"text-align: right;\">\n",
       "      <th></th>\n",
       "      <th>department</th>\n",
       "    </tr>\n",
       "  </thead>\n",
       "  <tbody>\n",
       "    <tr>\n",
       "      <th>0</th>\n",
       "      <td>WATER AND POWER</td>\n",
       "    </tr>\n",
       "    <tr>\n",
       "      <th>1</th>\n",
       "      <td>RECREATION AND PARKS</td>\n",
       "    </tr>\n",
       "    <tr>\n",
       "      <th>2</th>\n",
       "      <td>POLICE</td>\n",
       "    </tr>\n",
       "    <tr>\n",
       "      <th>3</th>\n",
       "      <td>TRANSPORTATION</td>\n",
       "    </tr>\n",
       "    <tr>\n",
       "      <th>4</th>\n",
       "      <td>HARBOR</td>\n",
       "    </tr>\n",
       "    <tr>\n",
       "      <th>5</th>\n",
       "      <td>PUBLIC WORKS - CONTRACT ADMINISTRATION</td>\n",
       "    </tr>\n",
       "    <tr>\n",
       "      <th>6</th>\n",
       "      <td>AIRPORTS</td>\n",
       "    </tr>\n",
       "    <tr>\n",
       "      <th>7</th>\n",
       "      <td>PUBLIC WORKS - SANITATION</td>\n",
       "    </tr>\n",
       "    <tr>\n",
       "      <th>8</th>\n",
       "      <td>ZOO</td>\n",
       "    </tr>\n",
       "    <tr>\n",
       "      <th>9</th>\n",
       "      <td>HOUSING AND COMMUNITY INVESTMENT DEPARTMENT</td>\n",
       "    </tr>\n",
       "    <tr>\n",
       "      <th>10</th>\n",
       "      <td>PUBLIC WORKS - STREET SERVICES</td>\n",
       "    </tr>\n",
       "    <tr>\n",
       "      <th>11</th>\n",
       "      <td>GENERAL SERVICES</td>\n",
       "    </tr>\n",
       "    <tr>\n",
       "      <th>12</th>\n",
       "      <td>INFORMATION TECHNOLOGY AGENCY</td>\n",
       "    </tr>\n",
       "    <tr>\n",
       "      <th>13</th>\n",
       "      <td>LIBRARY</td>\n",
       "    </tr>\n",
       "    <tr>\n",
       "      <th>14</th>\n",
       "      <td>ECONOMIC AND WORKFORCE DEVELOPMENT DEPARTMENT</td>\n",
       "    </tr>\n",
       "    <tr>\n",
       "      <th>15</th>\n",
       "      <td>CITY ATTORNEY</td>\n",
       "    </tr>\n",
       "    <tr>\n",
       "      <th>16</th>\n",
       "      <td>FIRE</td>\n",
       "    </tr>\n",
       "    <tr>\n",
       "      <th>17</th>\n",
       "      <td>BUILDING AND SAFETY</td>\n",
       "    </tr>\n",
       "    <tr>\n",
       "      <th>18</th>\n",
       "      <td>MAYOR</td>\n",
       "    </tr>\n",
       "    <tr>\n",
       "      <th>19</th>\n",
       "      <td>CITY ADMINISTRATIVE OFFICER</td>\n",
       "    </tr>\n",
       "    <tr>\n",
       "      <th>20</th>\n",
       "      <td>COUNCIL</td>\n",
       "    </tr>\n",
       "    <tr>\n",
       "      <th>21</th>\n",
       "      <td>PUBLIC WORKS - ENGINEERING</td>\n",
       "    </tr>\n",
       "    <tr>\n",
       "      <th>22</th>\n",
       "      <td>PERSONNEL</td>\n",
       "    </tr>\n",
       "    <tr>\n",
       "      <th>23</th>\n",
       "      <td>CITY PLANNING</td>\n",
       "    </tr>\n",
       "    <tr>\n",
       "      <th>24</th>\n",
       "      <td>OFFICE OF FINANCE</td>\n",
       "    </tr>\n",
       "    <tr>\n",
       "      <th>25</th>\n",
       "      <td>CITY CLERK</td>\n",
       "    </tr>\n",
       "    <tr>\n",
       "      <th>26</th>\n",
       "      <td>CITY EMPLOYEES RETIREMENT SYSTEM</td>\n",
       "    </tr>\n",
       "    <tr>\n",
       "      <th>27</th>\n",
       "      <td>CONTROLLER</td>\n",
       "    </tr>\n",
       "    <tr>\n",
       "      <th>28</th>\n",
       "      <td>PUBLIC WORKS - STREET LIGHTING</td>\n",
       "    </tr>\n",
       "    <tr>\n",
       "      <th>29</th>\n",
       "      <td>PUBLIC WORKS - BOARD OF PUBLIC WORKS</td>\n",
       "    </tr>\n",
       "    <tr>\n",
       "      <th>30</th>\n",
       "      <td>ANIMAL SERVICES</td>\n",
       "    </tr>\n",
       "    <tr>\n",
       "      <th>31</th>\n",
       "      <td>CULTURAL AFFAIRS</td>\n",
       "    </tr>\n",
       "    <tr>\n",
       "      <th>32</th>\n",
       "      <td>NEIGHBORHOOD EMPOWERMENT</td>\n",
       "    </tr>\n",
       "    <tr>\n",
       "      <th>33</th>\n",
       "      <td>AGING</td>\n",
       "    </tr>\n",
       "    <tr>\n",
       "      <th>34</th>\n",
       "      <td>EMERGENCY MANAGEMENT</td>\n",
       "    </tr>\n",
       "    <tr>\n",
       "      <th>35</th>\n",
       "      <td>PENSION</td>\n",
       "    </tr>\n",
       "    <tr>\n",
       "      <th>36</th>\n",
       "      <td>PUBLIC ACCOUNTABILITY</td>\n",
       "    </tr>\n",
       "    <tr>\n",
       "      <th>37</th>\n",
       "      <td>LOS ANGELES DEPARTMENT OF CONVENTION AND TOURI...</td>\n",
       "    </tr>\n",
       "    <tr>\n",
       "      <th>38</th>\n",
       "      <td>DISABILITY</td>\n",
       "    </tr>\n",
       "    <tr>\n",
       "      <th>39</th>\n",
       "      <td>EL PUEBLO DE LOS ANGELES HISTORICAL MONUMENT A...</td>\n",
       "    </tr>\n",
       "    <tr>\n",
       "      <th>40</th>\n",
       "      <td>CITY ETHICS COMMISSION</td>\n",
       "    </tr>\n",
       "    <tr>\n",
       "      <th>41</th>\n",
       "      <td>EMPLOYEE RELATIONS BOARD</td>\n",
       "    </tr>\n",
       "    <tr>\n",
       "      <th>42</th>\n",
       "      <td>CANNABIS REGULATION</td>\n",
       "    </tr>\n",
       "    <tr>\n",
       "      <th>43</th>\n",
       "      <td>LOS ANGELES HOUSING</td>\n",
       "    </tr>\n",
       "    <tr>\n",
       "      <th>44</th>\n",
       "      <td>COLISEUM/SPORTS ARENA</td>\n",
       "    </tr>\n",
       "    <tr>\n",
       "      <th>45</th>\n",
       "      <td>COMMUNITY INVESTMENT FOR FAMILIES DEPARTMENT</td>\n",
       "    </tr>\n",
       "    <tr>\n",
       "      <th>46</th>\n",
       "      <td>TREASURER</td>\n",
       "    </tr>\n",
       "    <tr>\n",
       "      <th>47</th>\n",
       "      <td>ENVIRONMENTAL AFFAIRS</td>\n",
       "    </tr>\n",
       "    <tr>\n",
       "      <th>48</th>\n",
       "      <td>HUMAN RELATIONS COMMISSION</td>\n",
       "    </tr>\n",
       "    <tr>\n",
       "      <th>49</th>\n",
       "      <td>COMMISSION ON CHILDREN, YOUTH AND THEIR FAMILIES</td>\n",
       "    </tr>\n",
       "    <tr>\n",
       "      <th>50</th>\n",
       "      <td>COMMISSION ON THE STATUS OF WOMEN</td>\n",
       "    </tr>\n",
       "    <tr>\n",
       "      <th>51</th>\n",
       "      <td>CIVIL, HUMAN RIGHTS AND EQUITY DEPARTMENT</td>\n",
       "    </tr>\n",
       "    <tr>\n",
       "      <th>52</th>\n",
       "      <td>YOUTH DEVELOPMENT DEPARTMENT</td>\n",
       "    </tr>\n",
       "    <tr>\n",
       "      <th>53</th>\n",
       "      <td>LOS ANGELES CITY TOURISM DEPARTMENT</td>\n",
       "    </tr>\n",
       "    <tr>\n",
       "      <th>54</th>\n",
       "      <td>CIVIL, HUMAN RIGHTS, AND EQUITY DEPARTMENT</td>\n",
       "    </tr>\n",
       "  </tbody>\n",
       "</table>\n",
       "</div>"
      ],
      "text/plain": [
       "                                           department\n",
       "0                                     WATER AND POWER\n",
       "1                                RECREATION AND PARKS\n",
       "2                                              POLICE\n",
       "3                                      TRANSPORTATION\n",
       "4                                              HARBOR\n",
       "5              PUBLIC WORKS - CONTRACT ADMINISTRATION\n",
       "6                                            AIRPORTS\n",
       "7                           PUBLIC WORKS - SANITATION\n",
       "8                                                 ZOO\n",
       "9         HOUSING AND COMMUNITY INVESTMENT DEPARTMENT\n",
       "10                     PUBLIC WORKS - STREET SERVICES\n",
       "11                                   GENERAL SERVICES\n",
       "12                      INFORMATION TECHNOLOGY AGENCY\n",
       "13                                            LIBRARY\n",
       "14      ECONOMIC AND WORKFORCE DEVELOPMENT DEPARTMENT\n",
       "15                                      CITY ATTORNEY\n",
       "16                                               FIRE\n",
       "17                                BUILDING AND SAFETY\n",
       "18                                              MAYOR\n",
       "19                        CITY ADMINISTRATIVE OFFICER\n",
       "20                                            COUNCIL\n",
       "21                         PUBLIC WORKS - ENGINEERING\n",
       "22                                          PERSONNEL\n",
       "23                                      CITY PLANNING\n",
       "24                                  OFFICE OF FINANCE\n",
       "25                                         CITY CLERK\n",
       "26                   CITY EMPLOYEES RETIREMENT SYSTEM\n",
       "27                                         CONTROLLER\n",
       "28                     PUBLIC WORKS - STREET LIGHTING\n",
       "29               PUBLIC WORKS - BOARD OF PUBLIC WORKS\n",
       "30                                    ANIMAL SERVICES\n",
       "31                                   CULTURAL AFFAIRS\n",
       "32                           NEIGHBORHOOD EMPOWERMENT\n",
       "33                                              AGING\n",
       "34                               EMERGENCY MANAGEMENT\n",
       "35                                            PENSION\n",
       "36                              PUBLIC ACCOUNTABILITY\n",
       "37  LOS ANGELES DEPARTMENT OF CONVENTION AND TOURI...\n",
       "38                                         DISABILITY\n",
       "39  EL PUEBLO DE LOS ANGELES HISTORICAL MONUMENT A...\n",
       "40                             CITY ETHICS COMMISSION\n",
       "41                           EMPLOYEE RELATIONS BOARD\n",
       "42                                CANNABIS REGULATION\n",
       "43                                LOS ANGELES HOUSING\n",
       "44                              COLISEUM/SPORTS ARENA\n",
       "45       COMMUNITY INVESTMENT FOR FAMILIES DEPARTMENT\n",
       "46                                          TREASURER\n",
       "47                              ENVIRONMENTAL AFFAIRS\n",
       "48                         HUMAN RELATIONS COMMISSION\n",
       "49   COMMISSION ON CHILDREN, YOUTH AND THEIR FAMILIES\n",
       "50                  COMMISSION ON THE STATUS OF WOMEN\n",
       "51          CIVIL, HUMAN RIGHTS AND EQUITY DEPARTMENT\n",
       "52                       YOUTH DEVELOPMENT DEPARTMENT\n",
       "53                LOS ANGELES CITY TOURISM DEPARTMENT\n",
       "54         CIVIL, HUMAN RIGHTS, AND EQUITY DEPARTMENT"
      ]
     },
     "execution_count": 48,
     "metadata": {},
     "output_type": "execute_result"
    }
   ],
   "source": [
    "pd.read_sql(f'SELECT DISTINCT department FROM la_table;', connection)"
   ]
  },
  {
   "cell_type": "code",
   "execution_count": 49,
   "id": "7ecf0808",
   "metadata": {},
   "outputs": [
    {
     "data": {
      "text/html": [
       "<div>\n",
       "<style scoped>\n",
       "    .dataframe tbody tr th:only-of-type {\n",
       "        vertical-align: middle;\n",
       "    }\n",
       "\n",
       "    .dataframe tbody tr th {\n",
       "        vertical-align: top;\n",
       "    }\n",
       "\n",
       "    .dataframe thead th {\n",
       "        text-align: right;\n",
       "    }\n",
       "</style>\n",
       "<table border=\"1\" class=\"dataframe\">\n",
       "  <thead>\n",
       "    <tr style=\"text-align: right;\">\n",
       "      <th></th>\n",
       "      <th>department</th>\n",
       "    </tr>\n",
       "  </thead>\n",
       "  <tbody>\n",
       "    <tr>\n",
       "      <th>0</th>\n",
       "      <td>Human Services</td>\n",
       "    </tr>\n",
       "    <tr>\n",
       "      <th>1</th>\n",
       "      <td>Municipal Transportation Agcy</td>\n",
       "    </tr>\n",
       "    <tr>\n",
       "      <th>2</th>\n",
       "      <td>Police</td>\n",
       "    </tr>\n",
       "    <tr>\n",
       "      <th>3</th>\n",
       "      <td>Airport Commission</td>\n",
       "    </tr>\n",
       "    <tr>\n",
       "      <th>4</th>\n",
       "      <td>City Attorney</td>\n",
       "    </tr>\n",
       "    <tr>\n",
       "      <th>...</th>\n",
       "      <td>...</td>\n",
       "    </tr>\n",
       "    <tr>\n",
       "      <th>106</th>\n",
       "      <td>SCI Academy Of Sciences</td>\n",
       "    </tr>\n",
       "    <tr>\n",
       "      <th>107</th>\n",
       "      <td>CFC Children &amp; Families Commsn</td>\n",
       "    </tr>\n",
       "    <tr>\n",
       "      <th>108</th>\n",
       "      <td>HHP CleanPowerSF</td>\n",
       "    </tr>\n",
       "    <tr>\n",
       "      <th>109</th>\n",
       "      <td>WOM Status Of Women</td>\n",
       "    </tr>\n",
       "    <tr>\n",
       "      <th>110</th>\n",
       "      <td>LLB Law Library</td>\n",
       "    </tr>\n",
       "  </tbody>\n",
       "</table>\n",
       "<p>111 rows × 1 columns</p>\n",
       "</div>"
      ],
      "text/plain": [
       "                         department\n",
       "0                    Human Services\n",
       "1     Municipal Transportation Agcy\n",
       "2                            Police\n",
       "3                Airport Commission\n",
       "4                     City Attorney\n",
       "..                              ...\n",
       "106         SCI Academy Of Sciences\n",
       "107  CFC Children & Families Commsn\n",
       "108                HHP CleanPowerSF\n",
       "109             WOM Status Of Women\n",
       "110                 LLB Law Library\n",
       "\n",
       "[111 rows x 1 columns]"
      ]
     },
     "execution_count": 49,
     "metadata": {},
     "output_type": "execute_result"
    }
   ],
   "source": [
    "pd.read_sql(f'SELECT DISTINCT department FROM sf_table;', connection)"
   ]
  },
  {
   "cell_type": "code",
   "execution_count": 50,
   "id": "287d9fd7",
   "metadata": {},
   "outputs": [
    {
     "data": {
      "text/html": [
       "<div>\n",
       "<style scoped>\n",
       "    .dataframe tbody tr th:only-of-type {\n",
       "        vertical-align: middle;\n",
       "    }\n",
       "\n",
       "    .dataframe tbody tr th {\n",
       "        vertical-align: top;\n",
       "    }\n",
       "\n",
       "    .dataframe thead th {\n",
       "        text-align: right;\n",
       "    }\n",
       "</style>\n",
       "<table border=\"1\" class=\"dataframe\">\n",
       "  <thead>\n",
       "    <tr style=\"text-align: right;\">\n",
       "      <th></th>\n",
       "      <th>department</th>\n",
       "    </tr>\n",
       "  </thead>\n",
       "  <tbody>\n",
       "    <tr>\n",
       "      <th>0</th>\n",
       "      <td>Police</td>\n",
       "    </tr>\n",
       "    <tr>\n",
       "      <th>1</th>\n",
       "      <td>City Manager</td>\n",
       "    </tr>\n",
       "    <tr>\n",
       "      <th>2</th>\n",
       "      <td>Fire</td>\n",
       "    </tr>\n",
       "    <tr>\n",
       "      <th>3</th>\n",
       "      <td>Attorney</td>\n",
       "    </tr>\n",
       "    <tr>\n",
       "      <th>4</th>\n",
       "      <td>Environmental Services</td>\n",
       "    </tr>\n",
       "    <tr>\n",
       "      <th>...</th>\n",
       "      <td>...</td>\n",
       "    </tr>\n",
       "    <tr>\n",
       "      <th>385</th>\n",
       "      <td>PRNS (RCS) - Code Employees</td>\n",
       "    </tr>\n",
       "    <tr>\n",
       "      <th>386</th>\n",
       "      <td>PRNS Family Camp per diem</td>\n",
       "    </tr>\n",
       "    <tr>\n",
       "      <th>387</th>\n",
       "      <td>City Mgr-Strong Neigh Team</td>\n",
       "    </tr>\n",
       "    <tr>\n",
       "      <th>388</th>\n",
       "      <td>Office of Mayor Sam Liccardo</td>\n",
       "    </tr>\n",
       "    <tr>\n",
       "      <th>389</th>\n",
       "      <td>Community Energy Department</td>\n",
       "    </tr>\n",
       "  </tbody>\n",
       "</table>\n",
       "<p>390 rows × 1 columns</p>\n",
       "</div>"
      ],
      "text/plain": [
       "                       department\n",
       "0                          Police\n",
       "1                    City Manager\n",
       "2                            Fire\n",
       "3                        Attorney\n",
       "4          Environmental Services\n",
       "..                            ...\n",
       "385   PRNS (RCS) - Code Employees\n",
       "386     PRNS Family Camp per diem\n",
       "387    City Mgr-Strong Neigh Team\n",
       "388  Office of Mayor Sam Liccardo\n",
       "389   Community Energy Department\n",
       "\n",
       "[390 rows x 1 columns]"
      ]
     },
     "execution_count": 50,
     "metadata": {},
     "output_type": "execute_result"
    }
   ],
   "source": [
    "pd.read_sql(f'SELECT DISTINCT department FROM sj_table;', connection)"
   ]
  },
  {
   "cell_type": "code",
   "execution_count": 51,
   "id": "c85b6876",
   "metadata": {},
   "outputs": [],
   "source": [
    "# The 3 table were merge based on the columns of interest\n",
    "df = pd.read_sql(f'SELECT year, department, job_title, base_salary, overtime, irregular_cash, \\\n",
    "total_cash, retirement, health, other_benefits, total_benefits, total_compensation, city_id \\\n",
    "FROM sj_table \\\n",
    "UNION ALL SELECT year, department, job_title, base_salary, overtime, irregular_cash, \\\n",
    "total_cash, retirement, health, other_benefits, total_benefits, total_compensation, city_id \\\n",
    "FROM sf_table \\\n",
    "UNION ALL SELECT year, department, job_title, base_salary, overtime, irregular_cash, \\\n",
    "total_cash, retirement, health, other_benefits, total_benefits, total_compensation, city_id \\\n",
    "FROM la_table', connection)"
   ]
  },
  {
   "cell_type": "code",
   "execution_count": 52,
   "id": "b8976382",
   "metadata": {},
   "outputs": [
    {
     "name": "stdout",
     "output_type": "stream",
     "text": [
      "<class 'pandas.core.frame.DataFrame'>\n",
      "RangeIndex: 1625467 entries, 0 to 1625466\n",
      "Data columns (total 13 columns):\n",
      " #   Column              Non-Null Count    Dtype  \n",
      "---  ------              --------------    -----  \n",
      " 0   year                1625467 non-null  int64  \n",
      " 1   department          1625465 non-null  object \n",
      " 2   job_title           1624918 non-null  object \n",
      " 3   base_salary         1624768 non-null  float64\n",
      " 4   overtime            1592085 non-null  float64\n",
      " 5   irregular_cash      1625033 non-null  float64\n",
      " 6   total_cash          1625467 non-null  float64\n",
      " 7   retirement          1625467 non-null  float64\n",
      " 8   health              1606480 non-null  float64\n",
      " 9   other_benefits      871508 non-null   float64\n",
      " 10  total_benefits      1625467 non-null  float64\n",
      " 11  total_compensation  1625467 non-null  float64\n",
      " 12  city_id             1625467 non-null  int64  \n",
      "dtypes: float64(9), int64(2), object(2)\n",
      "memory usage: 161.2+ MB\n"
     ]
    }
   ],
   "source": [
    "df.info()"
   ]
  },
  {
   "cell_type": "code",
   "execution_count": 54,
   "id": "f3e7f691",
   "metadata": {},
   "outputs": [
    {
     "data": {
      "text/html": [
       "<div>\n",
       "<style scoped>\n",
       "    .dataframe tbody tr th:only-of-type {\n",
       "        vertical-align: middle;\n",
       "    }\n",
       "\n",
       "    .dataframe tbody tr th {\n",
       "        vertical-align: top;\n",
       "    }\n",
       "\n",
       "    .dataframe thead th {\n",
       "        text-align: right;\n",
       "    }\n",
       "</style>\n",
       "<table border=\"1\" class=\"dataframe\">\n",
       "  <thead>\n",
       "    <tr style=\"text-align: right;\">\n",
       "      <th></th>\n",
       "      <th>year</th>\n",
       "      <th>department</th>\n",
       "      <th>job_title</th>\n",
       "      <th>base_salary</th>\n",
       "      <th>overtime</th>\n",
       "      <th>irregular_cash</th>\n",
       "      <th>total_cash</th>\n",
       "      <th>retirement</th>\n",
       "      <th>health</th>\n",
       "      <th>other_benefits</th>\n",
       "      <th>total_benefits</th>\n",
       "      <th>total_compensation</th>\n",
       "      <th>city_id</th>\n",
       "    </tr>\n",
       "  </thead>\n",
       "  <tbody>\n",
       "    <tr>\n",
       "      <th>86051</th>\n",
       "      <td>2017</td>\n",
       "      <td>None</td>\n",
       "      <td>Sheriff's Cadet</td>\n",
       "      <td>49630.50</td>\n",
       "      <td>15016.51</td>\n",
       "      <td>3197.52</td>\n",
       "      <td>67844.53</td>\n",
       "      <td>10619.27</td>\n",
       "      <td>12779.88</td>\n",
       "      <td>4796.56</td>\n",
       "      <td>28195.71</td>\n",
       "      <td>96040.24</td>\n",
       "      <td>2</td>\n",
       "    </tr>\n",
       "    <tr>\n",
       "      <th>260097</th>\n",
       "      <td>2017</td>\n",
       "      <td>None</td>\n",
       "      <td>Police Officer 2</td>\n",
       "      <td>116189.62</td>\n",
       "      <td>40990.09</td>\n",
       "      <td>2260.08</td>\n",
       "      <td>159439.79</td>\n",
       "      <td>20076.66</td>\n",
       "      <td>14515.01</td>\n",
       "      <td>2724.05</td>\n",
       "      <td>37315.72</td>\n",
       "      <td>196755.51</td>\n",
       "      <td>2</td>\n",
       "    </tr>\n",
       "  </tbody>\n",
       "</table>\n",
       "</div>"
      ],
      "text/plain": [
       "        year department         job_title  base_salary  overtime  \\\n",
       "86051   2017       None   Sheriff's Cadet     49630.50  15016.51   \n",
       "260097  2017       None  Police Officer 2    116189.62  40990.09   \n",
       "\n",
       "        irregular_cash  total_cash  retirement    health  other_benefits  \\\n",
       "86051          3197.52    67844.53    10619.27  12779.88         4796.56   \n",
       "260097         2260.08   159439.79    20076.66  14515.01         2724.05   \n",
       "\n",
       "        total_benefits  total_compensation  city_id  \n",
       "86051         28195.71            96040.24        2  \n",
       "260097        37315.72           196755.51        2  "
      ]
     },
     "execution_count": 54,
     "metadata": {},
     "output_type": "execute_result"
    }
   ],
   "source": [
    "df[df['department'].isna()]"
   ]
  },
  {
   "cell_type": "code",
   "execution_count": 55,
   "id": "a96614ac",
   "metadata": {},
   "outputs": [],
   "source": [
    "df['department'] = df['department'].fillna('Police')"
   ]
  },
  {
   "cell_type": "code",
   "execution_count": 56,
   "id": "1f486bca",
   "metadata": {},
   "outputs": [
    {
     "data": {
      "text/plain": [
       "552"
      ]
     },
     "execution_count": 56,
     "metadata": {},
     "output_type": "execute_result"
    }
   ],
   "source": [
    "num_unique_strings = df['department'].nunique()\n",
    "num_unique_strings"
   ]
  },
  {
   "cell_type": "code",
   "execution_count": 57,
   "id": "b82f34e5",
   "metadata": {},
   "outputs": [],
   "source": [
    "def replace_text(text):\n",
    "    if pd.isna(text) or text is None:\n",
    "        return text\n",
    "    elif target_word.lower() in text.lower():\n",
    "        return new_word\n",
    "    else:\n",
    "        return text"
   ]
  },
  {
   "cell_type": "code",
   "execution_count": 58,
   "id": "e8a5740b",
   "metadata": {},
   "outputs": [
    {
     "data": {
      "text/plain": [
       "511"
      ]
     },
     "execution_count": 58,
     "metadata": {},
     "output_type": "execute_result"
    }
   ],
   "source": [
    "# use the apply method to apply the replace_text function to the text_column\n",
    "target_word= \"Fire\"\n",
    "new_word= \"Fire\"\n",
    "df['department'] = df['department'].apply(replace_text)\n",
    "num_unique_strings = df['department'].nunique()\n",
    "num_unique_strings"
   ]
  },
  {
   "cell_type": "code",
   "execution_count": 59,
   "id": "74b87f5f",
   "metadata": {
    "scrolled": true
   },
   "outputs": [
    {
     "data": {
      "text/plain": [
       "437"
      ]
     },
     "execution_count": 59,
     "metadata": {},
     "output_type": "execute_result"
    }
   ],
   "source": [
    "target_word= \"Police\"\n",
    "new_word= \"Police\"\n",
    "df['department'] = df['department'].apply(replace_text)\n",
    "num_unique_strings = df['department'].nunique()\n",
    "num_unique_strings"
   ]
  },
  {
   "cell_type": "code",
   "execution_count": 60,
   "id": "a975c72d",
   "metadata": {},
   "outputs": [
    {
     "data": {
      "text/plain": [
       "434"
      ]
     },
     "execution_count": 60,
     "metadata": {},
     "output_type": "execute_result"
    }
   ],
   "source": [
    "target_word= \"Sheriff\"\n",
    "new_word= \"Police\"\n",
    "df['department'] = df['department'].apply(replace_text)\n",
    "num_unique_strings = df['department'].nunique()\n",
    "num_unique_strings"
   ]
  },
  {
   "cell_type": "code",
   "execution_count": 61,
   "id": "af68b48a",
   "metadata": {},
   "outputs": [
    {
     "data": {
      "text/plain": [
       "390"
      ]
     },
     "execution_count": 61,
     "metadata": {},
     "output_type": "execute_result"
    }
   ],
   "source": [
    "target_word= \"PW\"\n",
    "new_word= \"PublicWorks\"\n",
    "df['department'] = df['department'].apply(replace_text)\n",
    "num_unique_strings = df['department'].nunique()\n",
    "num_unique_strings"
   ]
  },
  {
   "cell_type": "code",
   "execution_count": 62,
   "id": "2e5336bb",
   "metadata": {},
   "outputs": [
    {
     "data": {
      "text/plain": [
       "373"
      ]
     },
     "execution_count": 62,
     "metadata": {},
     "output_type": "execute_result"
    }
   ],
   "source": [
    "target_word= \"Public\"\n",
    "new_word= \"Public Works\"\n",
    "df['department'] = df['department'].apply(replace_text)\n",
    "num_unique_strings = df['department'].nunique()\n",
    "num_unique_strings"
   ]
  },
  {
   "cell_type": "code",
   "execution_count": 63,
   "id": "b96bbf55",
   "metadata": {},
   "outputs": [
    {
     "data": {
      "text/plain": [
       "367"
      ]
     },
     "execution_count": 63,
     "metadata": {},
     "output_type": "execute_result"
    }
   ],
   "source": [
    "target_word= \"Water\"\n",
    "new_word= \"Water\"\n",
    "df['department'] = df['department'].apply(replace_text)\n",
    "num_unique_strings = df['department'].nunique()\n",
    "num_unique_strings"
   ]
  },
  {
   "cell_type": "code",
   "execution_count": 64,
   "id": "e162c102",
   "metadata": {},
   "outputs": [
    {
     "data": {
      "text/plain": [
       "322"
      ]
     },
     "execution_count": 64,
     "metadata": {},
     "output_type": "execute_result"
    }
   ],
   "source": [
    "target_word= \"PRNS\"\n",
    "new_word= \"Park&Recreation\"\n",
    "df['department'] = df['department'].apply(replace_text)\n",
    "num_unique_strings = df['department'].nunique()\n",
    "num_unique_strings"
   ]
  },
  {
   "cell_type": "code",
   "execution_count": 65,
   "id": "12560b5a",
   "metadata": {},
   "outputs": [
    {
     "data": {
      "text/plain": [
       "316"
      ]
     },
     "execution_count": 65,
     "metadata": {},
     "output_type": "execute_result"
    }
   ],
   "source": [
    "target_word= \"Rec\"\n",
    "new_word= \"Park&Recreation\"\n",
    "df['department'] = df['department'].apply(replace_text)\n",
    "num_unique_strings = df['department'].nunique()\n",
    "num_unique_strings"
   ]
  },
  {
   "cell_type": "code",
   "execution_count": 66,
   "id": "8645356f",
   "metadata": {},
   "outputs": [
    {
     "data": {
      "text/plain": [
       "278"
      ]
     },
     "execution_count": 66,
     "metadata": {},
     "output_type": "execute_result"
    }
   ],
   "source": [
    "target_word= \"DOT\"\n",
    "new_word= \"Transportation\"\n",
    "df['department'] = df['department'].apply(replace_text)\n",
    "num_unique_strings = df['department'].nunique()\n",
    "num_unique_strings"
   ]
  },
  {
   "cell_type": "code",
   "execution_count": 67,
   "id": "165bfcb3",
   "metadata": {},
   "outputs": [
    {
     "data": {
      "text/plain": [
       "276"
      ]
     },
     "execution_count": 67,
     "metadata": {},
     "output_type": "execute_result"
    }
   ],
   "source": [
    "target_word= \"transport\"\n",
    "new_word= \"Transportation\"\n",
    "df['department'] = df['department'].apply(replace_text)\n",
    "num_unique_strings = df['department'].nunique()\n",
    "num_unique_strings"
   ]
  },
  {
   "cell_type": "code",
   "execution_count": 68,
   "id": "24595080",
   "metadata": {},
   "outputs": [
    {
     "data": {
      "text/plain": [
       "218"
      ]
     },
     "execution_count": 68,
     "metadata": {},
     "output_type": "execute_result"
    }
   ],
   "source": [
    "target_word= \"Library\"\n",
    "new_word= \"Library\"\n",
    "df['department'] = df['department'].apply(replace_text)\n",
    "num_unique_strings = df['department'].nunique()\n",
    "num_unique_strings"
   ]
  },
  {
   "cell_type": "code",
   "execution_count": 69,
   "id": "71e4a948",
   "metadata": {},
   "outputs": [
    {
     "data": {
      "text/plain": [
       "200"
      ]
     },
     "execution_count": 69,
     "metadata": {},
     "output_type": "execute_result"
    }
   ],
   "source": [
    "target_word= \"City\"\n",
    "new_word= \"City Management\"\n",
    "df['department'] = df['department'].apply(replace_text)\n",
    "num_unique_strings = df['department'].nunique()\n",
    "num_unique_strings"
   ]
  },
  {
   "cell_type": "code",
   "execution_count": 70,
   "id": "45aa9ec8",
   "metadata": {},
   "outputs": [
    {
     "data": {
      "text/plain": [
       "189"
      ]
     },
     "execution_count": 70,
     "metadata": {},
     "output_type": "execute_result"
    }
   ],
   "source": [
    "target_word= \"Council\"\n",
    "new_word= \"Council\"\n",
    "df['department'] = df['department'].apply(replace_text)\n",
    "num_unique_strings = df['department'].nunique()\n",
    "num_unique_strings"
   ]
  },
  {
   "cell_type": "code",
   "execution_count": 71,
   "id": "dbb91c17",
   "metadata": {},
   "outputs": [
    {
     "data": {
      "text/plain": [
       "185"
      ]
     },
     "execution_count": 71,
     "metadata": {},
     "output_type": "execute_result"
    }
   ],
   "source": [
    "target_word= \"Building\"\n",
    "new_word= \"Planning&Building\"\n",
    "df['department'] = df['department'].apply(replace_text)\n",
    "num_unique_strings = df['department'].nunique()\n",
    "num_unique_strings"
   ]
  },
  {
   "cell_type": "code",
   "execution_count": 72,
   "id": "a0d6a7d9",
   "metadata": {},
   "outputs": [
    {
     "data": {
      "text/plain": [
       "181"
      ]
     },
     "execution_count": 72,
     "metadata": {},
     "output_type": "execute_result"
    }
   ],
   "source": [
    "target_word= \"Plan\"\n",
    "new_word= \"Planning&Building\"\n",
    "df['department'] = df['department'].apply(replace_text)\n",
    "num_unique_strings = df['department'].nunique()\n",
    "num_unique_strings"
   ]
  },
  {
   "cell_type": "code",
   "execution_count": 73,
   "id": "4b5a363b",
   "metadata": {},
   "outputs": [
    {
     "data": {
      "text/plain": [
       "162"
      ]
     },
     "execution_count": 73,
     "metadata": {},
     "output_type": "execute_result"
    }
   ],
   "source": [
    "target_word= \"ESD\"\n",
    "new_word= \"Employment\"\n",
    "df['department'] = df['department'].apply(replace_text)\n",
    "num_unique_strings = df['department'].nunique()\n",
    "num_unique_strings"
   ]
  },
  {
   "cell_type": "code",
   "execution_count": 74,
   "id": "7c90736e",
   "metadata": {},
   "outputs": [
    {
     "data": {
      "text/plain": [
       "155"
      ]
     },
     "execution_count": 74,
     "metadata": {},
     "output_type": "execute_result"
    }
   ],
   "source": [
    "target_word= \"Econ\"\n",
    "new_word= \"EconomicDevelopment\"\n",
    "df['department'] = df['department'].apply(replace_text)\n",
    "num_unique_strings = df['department'].nunique()\n",
    "num_unique_strings"
   ]
  },
  {
   "cell_type": "code",
   "execution_count": 75,
   "id": "589a9083",
   "metadata": {},
   "outputs": [
    {
     "data": {
      "text/plain": [
       "145"
      ]
     },
     "execution_count": 75,
     "metadata": {},
     "output_type": "execute_result"
    }
   ],
   "source": [
    "target_word= \"Airport\"\n",
    "new_word= \"Airport\"\n",
    "df['department'] = df['department'].apply(replace_text)\n",
    "num_unique_strings = df['department'].nunique()\n",
    "num_unique_strings"
   ]
  },
  {
   "cell_type": "code",
   "execution_count": 76,
   "id": "ceda5dc2",
   "metadata": {},
   "outputs": [
    {
     "data": {
      "text/plain": [
       "139"
      ]
     },
     "execution_count": 76,
     "metadata": {},
     "output_type": "execute_result"
    }
   ],
   "source": [
    "target_word= \"Finance\"\n",
    "new_word= \"Finance\"\n",
    "df['department'] = df['department'].apply(replace_text)\n",
    "num_unique_strings = df['department'].nunique()\n",
    "num_unique_strings"
   ]
  },
  {
   "cell_type": "code",
   "execution_count": 77,
   "id": "964cee76",
   "metadata": {},
   "outputs": [
    {
     "data": {
      "text/plain": [
       "129"
      ]
     },
     "execution_count": 77,
     "metadata": {},
     "output_type": "execute_result"
    }
   ],
   "source": [
    "target_word= \"Human\"\n",
    "new_word= \"HumanServices\"\n",
    "df['department'] = df['department'].apply(replace_text)\n",
    "num_unique_strings = df['department'].nunique()\n",
    "num_unique_strings"
   ]
  },
  {
   "cell_type": "code",
   "execution_count": 78,
   "id": "c85dceac",
   "metadata": {},
   "outputs": [
    {
     "data": {
      "text/plain": [
       "117"
      ]
     },
     "execution_count": 78,
     "metadata": {},
     "output_type": "execute_result"
    }
   ],
   "source": [
    "target_word= \"Art\"\n",
    "new_word= \"Art\"\n",
    "df['department'] = df['department'].apply(replace_text)\n",
    "num_unique_strings = df['department'].nunique()\n",
    "num_unique_strings"
   ]
  },
  {
   "cell_type": "code",
   "execution_count": 79,
   "id": "595ace02",
   "metadata": {},
   "outputs": [
    {
     "data": {
      "text/plain": [
       "111"
      ]
     },
     "execution_count": 79,
     "metadata": {},
     "output_type": "execute_result"
    }
   ],
   "source": [
    "target_word= \"Child\"\n",
    "new_word= \"ChildSupportServices\"\n",
    "df['department'] = df['department'].apply(replace_text)\n",
    "num_unique_strings = df['department'].nunique()\n",
    "num_unique_strings"
   ]
  },
  {
   "cell_type": "code",
   "execution_count": 80,
   "id": "15cfc0be",
   "metadata": {},
   "outputs": [
    {
     "data": {
      "text/plain": [
       "109"
      ]
     },
     "execution_count": 80,
     "metadata": {},
     "output_type": "execute_result"
    }
   ],
   "source": [
    "target_word= \"Retire\"\n",
    "new_word= \"RetirementServices\"\n",
    "df['department'] = df['department'].apply(replace_text)\n",
    "num_unique_strings = df['department'].nunique()\n",
    "num_unique_strings"
   ]
  },
  {
   "cell_type": "code",
   "execution_count": 81,
   "id": "5c8755b2",
   "metadata": {},
   "outputs": [
    {
     "data": {
      "text/plain": [
       "106"
      ]
     },
     "execution_count": 81,
     "metadata": {},
     "output_type": "execute_result"
    }
   ],
   "source": [
    "target_word= \"Attorney\"\n",
    "new_word= \"Justice\"\n",
    "df['department'] = df['department'].apply(replace_text)\n",
    "num_unique_strings = df['department'].nunique()\n",
    "num_unique_strings"
   ]
  },
  {
   "cell_type": "code",
   "execution_count": 82,
   "id": "6d2931dc",
   "metadata": {},
   "outputs": [
    {
     "data": {
      "text/plain": [
       "98"
      ]
     },
     "execution_count": 82,
     "metadata": {},
     "output_type": "execute_result"
    }
   ],
   "source": [
    "target_word= \"Board\"\n",
    "new_word= \"Justice\"\n",
    "df['department'] = df['department'].apply(replace_text)\n",
    "num_unique_strings = df['department'].nunique()\n",
    "num_unique_strings"
   ]
  },
  {
   "cell_type": "code",
   "execution_count": 83,
   "id": "4867bd97",
   "metadata": {},
   "outputs": [
    {
     "data": {
      "text/plain": [
       "95"
      ]
     },
     "execution_count": 83,
     "metadata": {},
     "output_type": "execute_result"
    }
   ],
   "source": [
    "target_word= \"Court\"\n",
    "new_word= \"Justice\"\n",
    "df['department'] = df['department'].apply(replace_text)\n",
    "num_unique_strings = df['department'].nunique()\n",
    "num_unique_strings"
   ]
  },
  {
   "cell_type": "code",
   "execution_count": 84,
   "id": "f73eff0d",
   "metadata": {},
   "outputs": [
    {
     "data": {
      "text/plain": [
       "92"
      ]
     },
     "execution_count": 84,
     "metadata": {},
     "output_type": "execute_result"
    }
   ],
   "source": [
    "target_word= \"probation\"\n",
    "new_word= \"Justice\"\n",
    "df['department'] = df['department'].apply(replace_text)\n",
    "num_unique_strings = df['department'].nunique()\n",
    "num_unique_strings"
   ]
  },
  {
   "cell_type": "code",
   "execution_count": 85,
   "id": "f0b7864e",
   "metadata": {},
   "outputs": [
    {
     "data": {
      "text/plain": [
       "90"
      ]
     },
     "execution_count": 85,
     "metadata": {},
     "output_type": "execute_result"
    }
   ],
   "source": [
    "target_word= \"Prt\"\n",
    "new_word= \"Port\"\n",
    "df['department'] = df['department'].apply(replace_text)\n",
    "num_unique_strings = df['department'].nunique()\n",
    "num_unique_strings"
   ]
  },
  {
   "cell_type": "code",
   "execution_count": 86,
   "id": "8a5b3562",
   "metadata": {},
   "outputs": [
    {
     "data": {
      "text/plain": [
       "89"
      ]
     },
     "execution_count": 86,
     "metadata": {},
     "output_type": "execute_result"
    }
   ],
   "source": [
    "target_word= \"Harbor\"\n",
    "new_word= \"Port\"\n",
    "df['department'] = df['department'].apply(replace_text)\n",
    "num_unique_strings = df['department'].nunique()\n",
    "num_unique_strings"
   ]
  },
  {
   "cell_type": "code",
   "execution_count": 87,
   "id": "af89fa35",
   "metadata": {},
   "outputs": [
    {
     "data": {
      "text/plain": [
       "76"
      ]
     },
     "execution_count": 87,
     "metadata": {},
     "output_type": "execute_result"
    }
   ],
   "source": [
    "target_word= \"Service\"\n",
    "new_word= \"Service\"\n",
    "df['department'] = df['department'].apply(replace_text)\n",
    "num_unique_strings = df['department'].nunique()\n",
    "num_unique_strings"
   ]
  },
  {
   "cell_type": "code",
   "execution_count": 89,
   "id": "4fa9cfd7",
   "metadata": {},
   "outputs": [],
   "source": [
    "#df.to_csv('df1.csv', index=False)"
   ]
  },
  {
   "cell_type": "code",
   "execution_count": null,
   "id": "c6d34e1a",
   "metadata": {},
   "outputs": [],
   "source": []
  }
 ],
 "metadata": {
  "kernelspec": {
   "display_name": "Python 3 (ipykernel)",
   "language": "python",
   "name": "python3"
  },
  "language_info": {
   "codemirror_mode": {
    "name": "ipython",
    "version": 3
   },
   "file_extension": ".py",
   "mimetype": "text/x-python",
   "name": "python",
   "nbconvert_exporter": "python",
   "pygments_lexer": "ipython3",
   "version": "3.9.7"
  }
 },
 "nbformat": 4,
 "nbformat_minor": 5
}

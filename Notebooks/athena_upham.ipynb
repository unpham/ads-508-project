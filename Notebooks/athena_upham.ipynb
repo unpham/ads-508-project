{
 "cells": [
  {
   "cell_type": "code",
   "execution_count": 2,
   "id": "7cd93888-3084-4650-a7f9-bc22dc850fc8",
   "metadata": {
    "tags": []
   },
   "outputs": [],
   "source": [
    "import numpy as np\n",
    "import pandas as pd\n",
    "import sqlite3 as sq\n",
    "import matplotlib.pyplot as plt\n",
    "import seaborn as sns"
   ]
  },
  {
   "cell_type": "code",
   "execution_count": 3,
   "id": "3e53c45f-8e3f-40ef-9344-094be3add4aa",
   "metadata": {
    "tags": []
   },
   "outputs": [
    {
     "name": "stdout",
     "output_type": "stream",
     "text": [
      "<class 'pandas.core.frame.DataFrame'>\n",
      "RangeIndex: 71946 entries, 0 to 71945\n",
      "Data columns (total 15 columns):\n",
      " #   Column              Non-Null Count  Dtype  \n",
      "---  ------              --------------  -----  \n",
      " 0   name                71946 non-null  object \n",
      " 1   department          71946 non-null  object \n",
      " 2   job_title           71946 non-null  object \n",
      " 3   total_cash          71946 non-null  float64\n",
      " 4   base_salary         71247 non-null  float64\n",
      " 5   overtime            38998 non-null  float64\n",
      " 6   health              52959 non-null  float64\n",
      " 7   retired             7404 non-null   object \n",
      " 8   year                71946 non-null  int64  \n",
      " 9   city_id             71946 non-null  int64  \n",
      " 10  irregular_cash      71946 non-null  float64\n",
      " 11  retirement          71946 non-null  float64\n",
      " 12  other_benefits      71946 non-null  float64\n",
      " 13  total_benefits      71946 non-null  float64\n",
      " 14  total_compensation  71946 non-null  float64\n",
      "dtypes: float64(9), int64(2), object(4)\n",
      "memory usage: 8.2+ MB\n"
     ]
    },
    {
     "name": "stderr",
     "output_type": "stream",
     "text": [
      "/opt/conda/lib/python3.7/site-packages/IPython/core/interactiveshell.py:3553: DtypeWarning: Columns (7) have mixed types.Specify dtype option on import or set low_memory=False.\n",
      "  exec(code_obj, self.user_global_ns, self.user_ns)\n"
     ]
    }
   ],
   "source": [
    "sj_df = pd.read_csv('s3://508-team4/data/sj_compensation/sj_compensation.csv')\n",
    "sj_df.info()"
   ]
  },
  {
   "cell_type": "code",
   "execution_count": 4,
   "id": "31536c2f-434a-4fc3-976d-0049359aacdb",
   "metadata": {
    "tags": []
   },
   "outputs": [
    {
     "data": {
      "text/plain": [
       "array(['Yes', 'No', nan], dtype=object)"
      ]
     },
     "execution_count": 4,
     "metadata": {},
     "output_type": "execute_result"
    }
   ],
   "source": [
    "sj_df['retired'].unique()"
   ]
  },
  {
   "cell_type": "code",
   "execution_count": 5,
   "id": "717fcceb-d660-4013-a04a-db27f8ac375c",
   "metadata": {
    "tags": []
   },
   "outputs": [
    {
     "data": {
      "text/html": [
       "<div>\n",
       "<style scoped>\n",
       "    .dataframe tbody tr th:only-of-type {\n",
       "        vertical-align: middle;\n",
       "    }\n",
       "\n",
       "    .dataframe tbody tr th {\n",
       "        vertical-align: top;\n",
       "    }\n",
       "\n",
       "    .dataframe thead th {\n",
       "        text-align: right;\n",
       "    }\n",
       "</style>\n",
       "<table border=\"1\" class=\"dataframe\">\n",
       "  <thead>\n",
       "    <tr style=\"text-align: right;\">\n",
       "      <th></th>\n",
       "      <th>name</th>\n",
       "      <th>department</th>\n",
       "      <th>job_title</th>\n",
       "      <th>total_cash</th>\n",
       "      <th>base_salary</th>\n",
       "      <th>overtime</th>\n",
       "      <th>health</th>\n",
       "      <th>retired</th>\n",
       "      <th>year</th>\n",
       "      <th>city_id</th>\n",
       "      <th>irregular_cash</th>\n",
       "      <th>retirement</th>\n",
       "      <th>other_benefits</th>\n",
       "      <th>total_benefits</th>\n",
       "      <th>total_compensation</th>\n",
       "    </tr>\n",
       "  </thead>\n",
       "  <tbody>\n",
       "  </tbody>\n",
       "</table>\n",
       "</div>"
      ],
      "text/plain": [
       "Empty DataFrame\n",
       "Columns: [name, department, job_title, total_cash, base_salary, overtime, health, retired, year, city_id, irregular_cash, retirement, other_benefits, total_benefits, total_compensation]\n",
       "Index: []"
      ]
     },
     "execution_count": 5,
     "metadata": {},
     "output_type": "execute_result"
    }
   ],
   "source": [
    "sj_df[sj_df['city_id'].isnull()]"
   ]
  },
  {
   "cell_type": "code",
   "execution_count": 52,
   "id": "aaa8a6f5-6f6c-42b5-9d7b-0ffe25d06f75",
   "metadata": {
    "tags": []
   },
   "outputs": [],
   "source": [
    "row = sj_df[sj_df['job_title'] == 'BdComm Mbr']\n",
    "#row"
   ]
  },
  {
   "cell_type": "code",
   "execution_count": null,
   "id": "ef856677-c8f5-4e0b-b2fa-4f968d4e65a1",
   "metadata": {
    "tags": []
   },
   "outputs": [],
   "source": []
  },
  {
   "cell_type": "code",
   "execution_count": 7,
   "id": "b8bc1af5-c30e-4e6e-9b7d-7551413245c6",
   "metadata": {
    "tags": []
   },
   "outputs": [
    {
     "data": {
      "text/plain": [
       "['name',\n",
       " 'department',\n",
       " 'job_title',\n",
       " 'total_cash',\n",
       " 'base_salary',\n",
       " 'overtime',\n",
       " 'health',\n",
       " 'retired',\n",
       " 'year',\n",
       " 'city_id',\n",
       " 'irregular_cash',\n",
       " 'retirement',\n",
       " 'other_benefits',\n",
       " 'total_benefits',\n",
       " 'total_compensation']"
      ]
     },
     "execution_count": 7,
     "metadata": {},
     "output_type": "execute_result"
    }
   ],
   "source": [
    "col_names_sj = sj_df.columns.tolist()\n",
    "col_names_sj"
   ]
  },
  {
   "cell_type": "code",
   "execution_count": 8,
   "id": "1220171b-992a-40b7-b11d-f8cb5cb49c5b",
   "metadata": {
    "tags": []
   },
   "outputs": [
    {
     "data": {
      "text/html": [
       "<div>\n",
       "<style scoped>\n",
       "    .dataframe tbody tr th:only-of-type {\n",
       "        vertical-align: middle;\n",
       "    }\n",
       "\n",
       "    .dataframe tbody tr th {\n",
       "        vertical-align: top;\n",
       "    }\n",
       "\n",
       "    .dataframe thead th {\n",
       "        text-align: right;\n",
       "    }\n",
       "</style>\n",
       "<table border=\"1\" class=\"dataframe\">\n",
       "  <thead>\n",
       "    <tr style=\"text-align: right;\">\n",
       "      <th></th>\n",
       "      <th>organization_group_code</th>\n",
       "      <th>job_family_code</th>\n",
       "      <th>job_code</th>\n",
       "      <th>year_type</th>\n",
       "      <th>year</th>\n",
       "      <th>organization_group</th>\n",
       "      <th>department_code</th>\n",
       "      <th>department</th>\n",
       "      <th>union_code</th>\n",
       "      <th>union</th>\n",
       "      <th>...</th>\n",
       "      <th>salaries</th>\n",
       "      <th>overtime</th>\n",
       "      <th>other_salaries</th>\n",
       "      <th>total_salary</th>\n",
       "      <th>retirement</th>\n",
       "      <th>health_and_dental</th>\n",
       "      <th>other_benefits</th>\n",
       "      <th>total_benefits</th>\n",
       "      <th>total_compensation</th>\n",
       "      <th>city_id</th>\n",
       "    </tr>\n",
       "  </thead>\n",
       "  <tbody>\n",
       "    <tr>\n",
       "      <th>0</th>\n",
       "      <td>1</td>\n",
       "      <td>1400</td>\n",
       "      <td>1404</td>\n",
       "      <td>Fiscal</td>\n",
       "      <td>2019</td>\n",
       "      <td>Human Welfare &amp; Neighborhood Development</td>\n",
       "      <td>HSA</td>\n",
       "      <td>Human Services</td>\n",
       "      <td>790.0</td>\n",
       "      <td>SEIU  Local 1021  Misc</td>\n",
       "      <td>...</td>\n",
       "      <td>60720.01</td>\n",
       "      <td>0.00</td>\n",
       "      <td>0.00</td>\n",
       "      <td>60720.01</td>\n",
       "      <td>13653.20</td>\n",
       "      <td>14733.76</td>\n",
       "      <td>4904.34</td>\n",
       "      <td>33291.30</td>\n",
       "      <td>94011.31</td>\n",
       "      <td>2</td>\n",
       "    </tr>\n",
       "    <tr>\n",
       "      <th>1</th>\n",
       "      <td>1</td>\n",
       "      <td>9700</td>\n",
       "      <td>9703</td>\n",
       "      <td>Fiscal</td>\n",
       "      <td>2019</td>\n",
       "      <td>Human Welfare &amp; Neighborhood Development</td>\n",
       "      <td>HSA</td>\n",
       "      <td>Human Services</td>\n",
       "      <td>535.0</td>\n",
       "      <td>SEIU  Local 1021  Misc</td>\n",
       "      <td>...</td>\n",
       "      <td>91677.00</td>\n",
       "      <td>0.00</td>\n",
       "      <td>0.00</td>\n",
       "      <td>91677.00</td>\n",
       "      <td>17524.20</td>\n",
       "      <td>14733.76</td>\n",
       "      <td>7411.13</td>\n",
       "      <td>39669.09</td>\n",
       "      <td>131346.09</td>\n",
       "      <td>2</td>\n",
       "    </tr>\n",
       "    <tr>\n",
       "      <th>2</th>\n",
       "      <td>1</td>\n",
       "      <td>2900</td>\n",
       "      <td>2918</td>\n",
       "      <td>Fiscal</td>\n",
       "      <td>2019</td>\n",
       "      <td>Human Welfare &amp; Neighborhood Development</td>\n",
       "      <td>HSA</td>\n",
       "      <td>Human Services</td>\n",
       "      <td>535.0</td>\n",
       "      <td>SEIU  Local 1021  Misc</td>\n",
       "      <td>...</td>\n",
       "      <td>89106.03</td>\n",
       "      <td>0.00</td>\n",
       "      <td>1540.00</td>\n",
       "      <td>90646.03</td>\n",
       "      <td>17327.20</td>\n",
       "      <td>14733.76</td>\n",
       "      <td>7401.92</td>\n",
       "      <td>39462.88</td>\n",
       "      <td>130108.91</td>\n",
       "      <td>2</td>\n",
       "    </tr>\n",
       "    <tr>\n",
       "      <th>3</th>\n",
       "      <td>1</td>\n",
       "      <td>2900</td>\n",
       "      <td>2918</td>\n",
       "      <td>Fiscal</td>\n",
       "      <td>2019</td>\n",
       "      <td>Human Welfare &amp; Neighborhood Development</td>\n",
       "      <td>HSA</td>\n",
       "      <td>Human Services</td>\n",
       "      <td>535.0</td>\n",
       "      <td>SEIU  Local 1021  Misc</td>\n",
       "      <td>...</td>\n",
       "      <td>85581.11</td>\n",
       "      <td>3355.94</td>\n",
       "      <td>337.75</td>\n",
       "      <td>89274.80</td>\n",
       "      <td>16359.16</td>\n",
       "      <td>14151.56</td>\n",
       "      <td>7096.21</td>\n",
       "      <td>37606.93</td>\n",
       "      <td>126881.73</td>\n",
       "      <td>2</td>\n",
       "    </tr>\n",
       "    <tr>\n",
       "      <th>4</th>\n",
       "      <td>1</td>\n",
       "      <td>2900</td>\n",
       "      <td>2905</td>\n",
       "      <td>Fiscal</td>\n",
       "      <td>2019</td>\n",
       "      <td>Human Welfare &amp; Neighborhood Development</td>\n",
       "      <td>HSA</td>\n",
       "      <td>Human Services</td>\n",
       "      <td>535.0</td>\n",
       "      <td>SEIU  Local 1021  Misc</td>\n",
       "      <td>...</td>\n",
       "      <td>86457.00</td>\n",
       "      <td>0.00</td>\n",
       "      <td>2090.00</td>\n",
       "      <td>88547.00</td>\n",
       "      <td>16925.97</td>\n",
       "      <td>14733.76</td>\n",
       "      <td>7257.89</td>\n",
       "      <td>38917.62</td>\n",
       "      <td>127464.62</td>\n",
       "      <td>2</td>\n",
       "    </tr>\n",
       "  </tbody>\n",
       "</table>\n",
       "<p>5 rows × 23 columns</p>\n",
       "</div>"
      ],
      "text/plain": [
       "   organization_group_code job_family_code job_code year_type  year  \\\n",
       "0                        1            1400     1404    Fiscal  2019   \n",
       "1                        1            9700     9703    Fiscal  2019   \n",
       "2                        1            2900     2918    Fiscal  2019   \n",
       "3                        1            2900     2918    Fiscal  2019   \n",
       "4                        1            2900     2905    Fiscal  2019   \n",
       "\n",
       "                         organization_group department_code      department  \\\n",
       "0  Human Welfare & Neighborhood Development             HSA  Human Services   \n",
       "1  Human Welfare & Neighborhood Development             HSA  Human Services   \n",
       "2  Human Welfare & Neighborhood Development             HSA  Human Services   \n",
       "3  Human Welfare & Neighborhood Development             HSA  Human Services   \n",
       "4  Human Welfare & Neighborhood Development             HSA  Human Services   \n",
       "\n",
       "   union_code                   union  ...  salaries overtime  other_salaries  \\\n",
       "0       790.0  SEIU  Local 1021  Misc  ...  60720.01     0.00            0.00   \n",
       "1       535.0  SEIU  Local 1021  Misc  ...  91677.00     0.00            0.00   \n",
       "2       535.0  SEIU  Local 1021  Misc  ...  89106.03     0.00         1540.00   \n",
       "3       535.0  SEIU  Local 1021  Misc  ...  85581.11  3355.94          337.75   \n",
       "4       535.0  SEIU  Local 1021  Misc  ...  86457.00     0.00         2090.00   \n",
       "\n",
       "   total_salary  retirement  health_and_dental  other_benefits  \\\n",
       "0      60720.01    13653.20           14733.76         4904.34   \n",
       "1      91677.00    17524.20           14733.76         7411.13   \n",
       "2      90646.03    17327.20           14733.76         7401.92   \n",
       "3      89274.80    16359.16           14151.56         7096.21   \n",
       "4      88547.00    16925.97           14733.76         7257.89   \n",
       "\n",
       "   total_benefits  total_compensation  city_id  \n",
       "0        33291.30            94011.31        2  \n",
       "1        39669.09           131346.09        2  \n",
       "2        39462.88           130108.91        2  \n",
       "3        37606.93           126881.73        2  \n",
       "4        38917.62           127464.62        2  \n",
       "\n",
       "[5 rows x 23 columns]"
      ]
     },
     "execution_count": 8,
     "metadata": {},
     "output_type": "execute_result"
    }
   ],
   "source": [
    "sf_df = pd.read_csv('s3://508-team4/data/sf_compensation/sf_compensation.csv')\n",
    "#sf_df['city_id'] = 2\n",
    "sf_df.head()"
   ]
  },
  {
   "cell_type": "code",
   "execution_count": null,
   "id": "8b4ca0e0-8e92-4749-9274-e806a779c52f",
   "metadata": {
    "tags": []
   },
   "outputs": [],
   "source": []
  },
  {
   "cell_type": "code",
   "execution_count": 9,
   "id": "7f5e5f5b-3ae6-4f30-867e-07c8a1093455",
   "metadata": {
    "tags": []
   },
   "outputs": [
    {
     "name": "stdout",
     "output_type": "stream",
     "text": [
      "<class 'pandas.core.frame.DataFrame'>\n",
      "RangeIndex: 799562 entries, 0 to 799561\n",
      "Data columns (total 23 columns):\n",
      " #   Column                   Non-Null Count   Dtype  \n",
      "---  ------                   --------------   -----  \n",
      " 0   organization_group_code  799562 non-null  int64  \n",
      " 1   job_family_code          799562 non-null  object \n",
      " 2   job_code                 799562 non-null  object \n",
      " 3   year_type                799562 non-null  object \n",
      " 4   year                     799562 non-null  int64  \n",
      " 5   organization_group       799562 non-null  object \n",
      " 6   department_code          799560 non-null  object \n",
      " 7   department               799560 non-null  object \n",
      " 8   union_code               799383 non-null  float64\n",
      " 9   union                    799383 non-null  object \n",
      " 10  job_family               799562 non-null  object \n",
      " 11  job                      799557 non-null  object \n",
      " 12  employee_identifier      799562 non-null  int64  \n",
      " 13  salaries                 799562 non-null  float64\n",
      " 14  overtime                 799562 non-null  float64\n",
      " 15  other_salaries           799562 non-null  float64\n",
      " 16  total_salary             799562 non-null  float64\n",
      " 17  retirement               799562 non-null  float64\n",
      " 18  health_and_dental        799562 non-null  float64\n",
      " 19  other_benefits           799562 non-null  float64\n",
      " 20  total_benefits           799562 non-null  float64\n",
      " 21  total_compensation       799562 non-null  float64\n",
      " 22  city_id                  799562 non-null  int64  \n",
      "dtypes: float64(10), int64(4), object(9)\n",
      "memory usage: 140.3+ MB\n"
     ]
    }
   ],
   "source": [
    "sf_df.info()"
   ]
  },
  {
   "cell_type": "code",
   "execution_count": 10,
   "id": "20eed47c-e251-4840-9c91-ecf662602373",
   "metadata": {
    "tags": []
   },
   "outputs": [
    {
     "data": {
      "text/plain": [
       "['organization_group_code',\n",
       " 'job_family_code',\n",
       " 'job_code',\n",
       " 'year_type',\n",
       " 'year',\n",
       " 'organization_group',\n",
       " 'department_code',\n",
       " 'department',\n",
       " 'union_code',\n",
       " 'union',\n",
       " 'job_family',\n",
       " 'job',\n",
       " 'employee_identifier',\n",
       " 'salaries',\n",
       " 'overtime',\n",
       " 'other_salaries',\n",
       " 'total_salary',\n",
       " 'retirement',\n",
       " 'health_and_dental',\n",
       " 'other_benefits',\n",
       " 'total_benefits',\n",
       " 'total_compensation',\n",
       " 'city_id']"
      ]
     },
     "execution_count": 10,
     "metadata": {},
     "output_type": "execute_result"
    }
   ],
   "source": [
    "col_names_sf = sf_df.columns.tolist()\n",
    "col_names_sf"
   ]
  },
  {
   "cell_type": "code",
   "execution_count": 11,
   "id": "50307ad5-23a0-4549-b3f0-df89dc2cd2e2",
   "metadata": {
    "tags": []
   },
   "outputs": [
    {
     "name": "stderr",
     "output_type": "stream",
     "text": [
      "/opt/conda/lib/python3.7/site-packages/IPython/core/interactiveshell.py:3553: DtypeWarning: Columns (0,8) have mixed types.Specify dtype option on import or set low_memory=False.\n",
      "  exec(code_obj, self.user_global_ns, self.user_ns)\n"
     ]
    },
    {
     "name": "stdout",
     "output_type": "stream",
     "text": [
      "<class 'pandas.core.frame.DataFrame'>\n",
      "RangeIndex: 753959 entries, 0 to 753958\n",
      "Data columns (total 22 columns):\n",
      " #   Column              Non-Null Count   Dtype  \n",
      "---  ------              --------------   -----  \n",
      " 0   record_nbr          753959 non-null  object \n",
      " 1   year                753959 non-null  int64  \n",
      " 2   department_no       753959 non-null  int64  \n",
      " 3   department          753959 non-null  object \n",
      " 4   job_class_pgrade    753415 non-null  object \n",
      " 5   job_title           753415 non-null  object \n",
      " 6   employment_type     753959 non-null  object \n",
      " 7   job_status          753959 non-null  object \n",
      " 8   mou                 753273 non-null  object \n",
      " 9   mou_title           753166 non-null  object \n",
      " 10  base_salary         753959 non-null  float64\n",
      " 11  overtime            753525 non-null  float64\n",
      " 12  irregular_cash      753525 non-null  float64\n",
      " 13  total_cash          753959 non-null  float64\n",
      " 14  retirement          753959 non-null  float64\n",
      " 15  health              753959 non-null  float64\n",
      " 16  gender              750098 non-null  object \n",
      " 17  ethnicity           746703 non-null  object \n",
      " 18  total_benefits      753959 non-null  float64\n",
      " 19  total_compensation  753959 non-null  float64\n",
      " 20  other_benefits      0 non-null       float64\n",
      " 21  city_id             753959 non-null  int64  \n",
      "dtypes: float64(9), int64(3), object(10)\n",
      "memory usage: 126.5+ MB\n"
     ]
    }
   ],
   "source": [
    "la_df = pd.read_csv('s3://508-team4/data/la_compensation/la_compensation.csv')\n",
    "#la_df['city_id'] = 3\n",
    "la_df.info()"
   ]
  },
  {
   "cell_type": "code",
   "execution_count": 12,
   "id": "97f7a029-8222-4248-842f-d7c2a89253b3",
   "metadata": {
    "tags": []
   },
   "outputs": [
    {
     "data": {
      "text/html": [
       "<div>\n",
       "<style scoped>\n",
       "    .dataframe tbody tr th:only-of-type {\n",
       "        vertical-align: middle;\n",
       "    }\n",
       "\n",
       "    .dataframe tbody tr th {\n",
       "        vertical-align: top;\n",
       "    }\n",
       "\n",
       "    .dataframe thead th {\n",
       "        text-align: right;\n",
       "    }\n",
       "</style>\n",
       "<table border=\"1\" class=\"dataframe\">\n",
       "  <thead>\n",
       "    <tr style=\"text-align: right;\">\n",
       "      <th></th>\n",
       "      <th>record_nbr</th>\n",
       "      <th>year</th>\n",
       "      <th>department_no</th>\n",
       "      <th>department</th>\n",
       "      <th>job_class_pgrade</th>\n",
       "      <th>job_title</th>\n",
       "      <th>employment_type</th>\n",
       "      <th>job_status</th>\n",
       "      <th>mou</th>\n",
       "      <th>mou_title</th>\n",
       "      <th>...</th>\n",
       "      <th>irregular_cash</th>\n",
       "      <th>total_cash</th>\n",
       "      <th>retirement</th>\n",
       "      <th>health</th>\n",
       "      <th>gender</th>\n",
       "      <th>ethnicity</th>\n",
       "      <th>total_benefits</th>\n",
       "      <th>total_compensation</th>\n",
       "      <th>other_benefits</th>\n",
       "      <th>city_id</th>\n",
       "    </tr>\n",
       "  </thead>\n",
       "  <tbody>\n",
       "    <tr>\n",
       "      <th>0</th>\n",
       "      <td>303030303632</td>\n",
       "      <td>2017</td>\n",
       "      <td>98</td>\n",
       "      <td>WATER AND POWER</td>\n",
       "      <td>3156-5</td>\n",
       "      <td>CUSTODIAN</td>\n",
       "      <td>FULL_TIME</td>\n",
       "      <td>ACTIVE</td>\n",
       "      <td>8</td>\n",
       "      <td>OPERATING MAINTENANCE AND SERVICE UNIT</td>\n",
       "      <td>...</td>\n",
       "      <td>2021.84</td>\n",
       "      <td>62532.13</td>\n",
       "      <td>3678.0</td>\n",
       "      <td>23508.9</td>\n",
       "      <td>FEMALE</td>\n",
       "      <td>HISPANIC</td>\n",
       "      <td>27186.9</td>\n",
       "      <td>89719.03</td>\n",
       "      <td>NaN</td>\n",
       "      <td>3</td>\n",
       "    </tr>\n",
       "    <tr>\n",
       "      <th>1</th>\n",
       "      <td>3030303036</td>\n",
       "      <td>2017</td>\n",
       "      <td>98</td>\n",
       "      <td>WATER AND POWER</td>\n",
       "      <td>9105-5</td>\n",
       "      <td>UTILITY ADMINISTRATOR</td>\n",
       "      <td>FULL_TIME</td>\n",
       "      <td>ACTIVE</td>\n",
       "      <td>M</td>\n",
       "      <td>MANAGEMENT EMPLOYEES UNIT</td>\n",
       "      <td>...</td>\n",
       "      <td>6170.49</td>\n",
       "      <td>161685.87</td>\n",
       "      <td>9186.0</td>\n",
       "      <td>23508.9</td>\n",
       "      <td>FEMALE</td>\n",
       "      <td>ASIAN AMERICAN</td>\n",
       "      <td>32694.9</td>\n",
       "      <td>194380.77</td>\n",
       "      <td>NaN</td>\n",
       "      <td>3</td>\n",
       "    </tr>\n",
       "    <tr>\n",
       "      <th>2</th>\n",
       "      <td>303030313232</td>\n",
       "      <td>2017</td>\n",
       "      <td>98</td>\n",
       "      <td>WATER AND POWER</td>\n",
       "      <td>9602-4</td>\n",
       "      <td>WATER SERVICES MANAGER</td>\n",
       "      <td>FULL_TIME</td>\n",
       "      <td>ACTIVE</td>\n",
       "      <td>M</td>\n",
       "      <td>MANAGEMENT EMPLOYEES UNIT</td>\n",
       "      <td>...</td>\n",
       "      <td>12504.30</td>\n",
       "      <td>258383.42</td>\n",
       "      <td>16228.0</td>\n",
       "      <td>23508.9</td>\n",
       "      <td>MALE</td>\n",
       "      <td>BLACK</td>\n",
       "      <td>39736.9</td>\n",
       "      <td>298120.32</td>\n",
       "      <td>NaN</td>\n",
       "      <td>3</td>\n",
       "    </tr>\n",
       "    <tr>\n",
       "      <th>3</th>\n",
       "      <td>303030313632</td>\n",
       "      <td>2017</td>\n",
       "      <td>98</td>\n",
       "      <td>WATER AND POWER</td>\n",
       "      <td>5885-5</td>\n",
       "      <td>WTR TRTMT OPR</td>\n",
       "      <td>FULL_TIME</td>\n",
       "      <td>ACTIVE</td>\n",
       "      <td>6</td>\n",
       "      <td>STEAM PLANT AND WATER SUPPLY UNIT</td>\n",
       "      <td>...</td>\n",
       "      <td>12630.52</td>\n",
       "      <td>121949.85</td>\n",
       "      <td>6699.0</td>\n",
       "      <td>23508.9</td>\n",
       "      <td>MALE</td>\n",
       "      <td>ASIAN AMERICAN</td>\n",
       "      <td>30207.9</td>\n",
       "      <td>152157.75</td>\n",
       "      <td>NaN</td>\n",
       "      <td>3</td>\n",
       "    </tr>\n",
       "    <tr>\n",
       "      <th>4</th>\n",
       "      <td>303030323632</td>\n",
       "      <td>2017</td>\n",
       "      <td>98</td>\n",
       "      <td>WATER AND POWER</td>\n",
       "      <td>3841-5</td>\n",
       "      <td>ELTL MCHC</td>\n",
       "      <td>FULL_TIME</td>\n",
       "      <td>ACTIVE</td>\n",
       "      <td>8</td>\n",
       "      <td>OPERATING MAINTENANCE AND SERVICE UNIT</td>\n",
       "      <td>...</td>\n",
       "      <td>1566.75</td>\n",
       "      <td>125196.24</td>\n",
       "      <td>6689.0</td>\n",
       "      <td>23508.9</td>\n",
       "      <td>MALE</td>\n",
       "      <td>HISPANIC</td>\n",
       "      <td>30197.9</td>\n",
       "      <td>155394.14</td>\n",
       "      <td>NaN</td>\n",
       "      <td>3</td>\n",
       "    </tr>\n",
       "  </tbody>\n",
       "</table>\n",
       "<p>5 rows × 22 columns</p>\n",
       "</div>"
      ],
      "text/plain": [
       "     record_nbr  year  department_no       department job_class_pgrade  \\\n",
       "0  303030303632  2017             98  WATER AND POWER           3156-5   \n",
       "1    3030303036  2017             98  WATER AND POWER           9105-5   \n",
       "2  303030313232  2017             98  WATER AND POWER           9602-4   \n",
       "3  303030313632  2017             98  WATER AND POWER           5885-5   \n",
       "4  303030323632  2017             98  WATER AND POWER           3841-5   \n",
       "\n",
       "                job_title employment_type job_status mou  \\\n",
       "0               CUSTODIAN       FULL_TIME     ACTIVE   8   \n",
       "1   UTILITY ADMINISTRATOR       FULL_TIME     ACTIVE   M   \n",
       "2  WATER SERVICES MANAGER       FULL_TIME     ACTIVE   M   \n",
       "3           WTR TRTMT OPR       FULL_TIME     ACTIVE   6   \n",
       "4               ELTL MCHC       FULL_TIME     ACTIVE   8   \n",
       "\n",
       "                                mou_title  ...  irregular_cash  total_cash  \\\n",
       "0  OPERATING MAINTENANCE AND SERVICE UNIT  ...         2021.84    62532.13   \n",
       "1               MANAGEMENT EMPLOYEES UNIT  ...         6170.49   161685.87   \n",
       "2               MANAGEMENT EMPLOYEES UNIT  ...        12504.30   258383.42   \n",
       "3       STEAM PLANT AND WATER SUPPLY UNIT  ...        12630.52   121949.85   \n",
       "4  OPERATING MAINTENANCE AND SERVICE UNIT  ...         1566.75   125196.24   \n",
       "\n",
       "   retirement   health  gender       ethnicity total_benefits  \\\n",
       "0      3678.0  23508.9  FEMALE        HISPANIC        27186.9   \n",
       "1      9186.0  23508.9  FEMALE  ASIAN AMERICAN        32694.9   \n",
       "2     16228.0  23508.9    MALE           BLACK        39736.9   \n",
       "3      6699.0  23508.9    MALE  ASIAN AMERICAN        30207.9   \n",
       "4      6689.0  23508.9    MALE        HISPANIC        30197.9   \n",
       "\n",
       "  total_compensation  other_benefits  city_id  \n",
       "0           89719.03             NaN        3  \n",
       "1          194380.77             NaN        3  \n",
       "2          298120.32             NaN        3  \n",
       "3          152157.75             NaN        3  \n",
       "4          155394.14             NaN        3  \n",
       "\n",
       "[5 rows x 22 columns]"
      ]
     },
     "execution_count": 12,
     "metadata": {},
     "output_type": "execute_result"
    }
   ],
   "source": [
    "la_df.head()"
   ]
  },
  {
   "cell_type": "code",
   "execution_count": 13,
   "id": "eb6b50b8-3f7f-4fea-beaf-e08eed5a1be2",
   "metadata": {
    "tags": []
   },
   "outputs": [
    {
     "data": {
      "text/html": [
       "<div>\n",
       "<style scoped>\n",
       "    .dataframe tbody tr th:only-of-type {\n",
       "        vertical-align: middle;\n",
       "    }\n",
       "\n",
       "    .dataframe tbody tr th {\n",
       "        vertical-align: top;\n",
       "    }\n",
       "\n",
       "    .dataframe thead th {\n",
       "        text-align: right;\n",
       "    }\n",
       "</style>\n",
       "<table border=\"1\" class=\"dataframe\">\n",
       "  <thead>\n",
       "    <tr style=\"text-align: right;\">\n",
       "      <th></th>\n",
       "      <th>record_nbr</th>\n",
       "      <th>year</th>\n",
       "      <th>department_no</th>\n",
       "      <th>department</th>\n",
       "      <th>job_class_pgrade</th>\n",
       "      <th>job_title</th>\n",
       "      <th>employment_type</th>\n",
       "      <th>job_status</th>\n",
       "      <th>mou</th>\n",
       "      <th>mou_title</th>\n",
       "      <th>...</th>\n",
       "      <th>irregular_cash</th>\n",
       "      <th>total_cash</th>\n",
       "      <th>retirement</th>\n",
       "      <th>health</th>\n",
       "      <th>gender</th>\n",
       "      <th>ethnicity</th>\n",
       "      <th>total_benefits</th>\n",
       "      <th>total_compensation</th>\n",
       "      <th>other_benefits</th>\n",
       "      <th>city_id</th>\n",
       "    </tr>\n",
       "  </thead>\n",
       "  <tbody>\n",
       "  </tbody>\n",
       "</table>\n",
       "<p>0 rows × 22 columns</p>\n",
       "</div>"
      ],
      "text/plain": [
       "Empty DataFrame\n",
       "Columns: [record_nbr, year, department_no, department, job_class_pgrade, job_title, employment_type, job_status, mou, mou_title, base_salary, overtime, irregular_cash, total_cash, retirement, health, gender, ethnicity, total_benefits, total_compensation, other_benefits, city_id]\n",
       "Index: []\n",
       "\n",
       "[0 rows x 22 columns]"
      ]
     },
     "execution_count": 13,
     "metadata": {},
     "output_type": "execute_result"
    }
   ],
   "source": [
    "la_df[la_df['base_salary'].isnull()]"
   ]
  },
  {
   "cell_type": "code",
   "execution_count": 14,
   "id": "4a6e6b98-4ae9-43af-8e07-9f388b3ce347",
   "metadata": {
    "tags": []
   },
   "outputs": [
    {
     "data": {
      "text/html": [
       "<div>\n",
       "<style scoped>\n",
       "    .dataframe tbody tr th:only-of-type {\n",
       "        vertical-align: middle;\n",
       "    }\n",
       "\n",
       "    .dataframe tbody tr th {\n",
       "        vertical-align: top;\n",
       "    }\n",
       "\n",
       "    .dataframe thead th {\n",
       "        text-align: right;\n",
       "    }\n",
       "</style>\n",
       "<table border=\"1\" class=\"dataframe\">\n",
       "  <thead>\n",
       "    <tr style=\"text-align: right;\">\n",
       "      <th></th>\n",
       "      <th>record_nbr</th>\n",
       "      <th>year</th>\n",
       "      <th>department_no</th>\n",
       "      <th>department</th>\n",
       "      <th>job_class_pgrade</th>\n",
       "      <th>job_title</th>\n",
       "      <th>employment_type</th>\n",
       "      <th>job_status</th>\n",
       "      <th>mou</th>\n",
       "      <th>mou_title</th>\n",
       "      <th>...</th>\n",
       "      <th>irregular_cash</th>\n",
       "      <th>total_cash</th>\n",
       "      <th>retirement</th>\n",
       "      <th>health</th>\n",
       "      <th>gender</th>\n",
       "      <th>ethnicity</th>\n",
       "      <th>total_benefits</th>\n",
       "      <th>total_compensation</th>\n",
       "      <th>other_benefits</th>\n",
       "      <th>city_id</th>\n",
       "    </tr>\n",
       "  </thead>\n",
       "  <tbody>\n",
       "  </tbody>\n",
       "</table>\n",
       "<p>0 rows × 22 columns</p>\n",
       "</div>"
      ],
      "text/plain": [
       "Empty DataFrame\n",
       "Columns: [record_nbr, year, department_no, department, job_class_pgrade, job_title, employment_type, job_status, mou, mou_title, base_salary, overtime, irregular_cash, total_cash, retirement, health, gender, ethnicity, total_benefits, total_compensation, other_benefits, city_id]\n",
       "Index: []\n",
       "\n",
       "[0 rows x 22 columns]"
      ]
     },
     "execution_count": 14,
     "metadata": {},
     "output_type": "execute_result"
    }
   ],
   "source": [
    "row = la_df[la_df['city_id'] == 240894]\n",
    "row"
   ]
  },
  {
   "cell_type": "code",
   "execution_count": 15,
   "id": "0cfb3d31-dcba-48b6-934c-fb164b319169",
   "metadata": {
    "tags": []
   },
   "outputs": [],
   "source": [
    "import boto3\n",
    "import sagemaker\n",
    "\n",
    "sess = sagemaker.Session()\n",
    "bucket = sess.default_bucket()\n",
    "role = sagemaker.get_execution_role()\n",
    "region = boto3.Session().region_name"
   ]
  },
  {
   "cell_type": "code",
   "execution_count": 16,
   "id": "c35b804e-f8bd-4aed-aab1-9c23503ad60c",
   "metadata": {},
   "outputs": [],
   "source": [
    "ingest_create_athena_db_passed = False"
   ]
  },
  {
   "cell_type": "code",
   "execution_count": 17,
   "id": "0463fec3-64ba-4ac9-97bb-869f7b5b6bef",
   "metadata": {},
   "outputs": [
    {
     "data": {
      "text/plain": [
       "1    71946\n",
       "Name: city_id, dtype: int64"
      ]
     },
     "execution_count": 17,
     "metadata": {},
     "output_type": "execute_result"
    }
   ],
   "source": [
    "sj_df['city_id'].value_counts()"
   ]
  },
  {
   "cell_type": "markdown",
   "id": "c1a8fafc-16e1-47db-a46e-26f223ae0743",
   "metadata": {},
   "source": [
    "## Import PyAthena"
   ]
  },
  {
   "cell_type": "code",
   "execution_count": 18,
   "id": "24610216-a009-4c80-b14e-3acfe7d26028",
   "metadata": {
    "tags": []
   },
   "outputs": [
    {
     "name": "stdout",
     "output_type": "stream",
     "text": [
      "\u001b[33mWARNING: Running pip as the 'root' user can result in broken permissions and conflicting behaviour with the system package manager. It is recommended to use a virtual environment instead: https://pip.pypa.io/warnings/venv\u001b[0m\u001b[33m\n",
      "\u001b[0m"
     ]
    }
   ],
   "source": [
    "!pip install --disable-pip-version-check -q PyAthena==2.1.0\n",
    "from pyathena import connect"
   ]
  },
  {
   "cell_type": "markdown",
   "id": "3efc651d-a1e0-451c-8a88-846ee79bf41b",
   "metadata": {},
   "source": [
    "## Create Athena Database"
   ]
  },
  {
   "cell_type": "code",
   "execution_count": 19,
   "id": "8896c884-cbbf-4d12-939e-ee29e0b0c1d0",
   "metadata": {
    "tags": []
   },
   "outputs": [],
   "source": [
    "database_name = \"compens\""
   ]
  },
  {
   "cell_type": "code",
   "execution_count": 20,
   "id": "692ccb6a-fb5a-4e25-834f-fef05b4494aa",
   "metadata": {
    "tags": []
   },
   "outputs": [],
   "source": [
    "# Set S3 staging directory -- this is a temporary directory used for Athena queries\n",
    "s3_staging_dir = \"s3://{0}/athena/staging\".format(bucket)"
   ]
  },
  {
   "cell_type": "code",
   "execution_count": 21,
   "id": "5cb51c2d-8255-45df-8089-a752b64b2ac2",
   "metadata": {
    "tags": []
   },
   "outputs": [],
   "source": [
    "conn = connect(region_name=region, s3_staging_dir=s3_staging_dir)"
   ]
  },
  {
   "cell_type": "code",
   "execution_count": 22,
   "id": "36ca2fc0-e8bb-4a66-9937-abcda84a5973",
   "metadata": {
    "tags": []
   },
   "outputs": [
    {
     "name": "stdout",
     "output_type": "stream",
     "text": [
      "CREATE DATABASE IF NOT EXISTS compens\n"
     ]
    }
   ],
   "source": [
    "statement = \"CREATE DATABASE IF NOT EXISTS {}\".format(database_name)\n",
    "print(statement)"
   ]
  },
  {
   "cell_type": "code",
   "execution_count": 23,
   "id": "a2aee96d-1b03-4ec8-8989-891c574d3269",
   "metadata": {
    "tags": []
   },
   "outputs": [
    {
     "data": {
      "text/html": [
       "<div>\n",
       "<style scoped>\n",
       "    .dataframe tbody tr th:only-of-type {\n",
       "        vertical-align: middle;\n",
       "    }\n",
       "\n",
       "    .dataframe tbody tr th {\n",
       "        vertical-align: top;\n",
       "    }\n",
       "\n",
       "    .dataframe thead th {\n",
       "        text-align: right;\n",
       "    }\n",
       "</style>\n",
       "<table border=\"1\" class=\"dataframe\">\n",
       "  <thead>\n",
       "    <tr style=\"text-align: right;\">\n",
       "      <th></th>\n",
       "    </tr>\n",
       "  </thead>\n",
       "  <tbody>\n",
       "  </tbody>\n",
       "</table>\n",
       "</div>"
      ],
      "text/plain": [
       "Empty DataFrame\n",
       "Columns: []\n",
       "Index: []"
      ]
     },
     "execution_count": 23,
     "metadata": {},
     "output_type": "execute_result"
    }
   ],
   "source": [
    "pd.read_sql(statement, conn)"
   ]
  },
  {
   "cell_type": "markdown",
   "id": "340e0e16-9722-45e5-8b4f-46d8cfb59ed4",
   "metadata": {},
   "source": [
    "## Verify The Database Has Been Created Succesfully"
   ]
  },
  {
   "cell_type": "code",
   "execution_count": 24,
   "id": "8408a37e-aee6-4959-a392-d323602c9570",
   "metadata": {
    "tags": []
   },
   "outputs": [
    {
     "data": {
      "text/html": [
       "<div>\n",
       "<style scoped>\n",
       "    .dataframe tbody tr th:only-of-type {\n",
       "        vertical-align: middle;\n",
       "    }\n",
       "\n",
       "    .dataframe tbody tr th {\n",
       "        vertical-align: top;\n",
       "    }\n",
       "\n",
       "    .dataframe thead th {\n",
       "        text-align: right;\n",
       "    }\n",
       "</style>\n",
       "<table border=\"1\" class=\"dataframe\">\n",
       "  <thead>\n",
       "    <tr style=\"text-align: right;\">\n",
       "      <th></th>\n",
       "      <th>database_name</th>\n",
       "    </tr>\n",
       "  </thead>\n",
       "  <tbody>\n",
       "    <tr>\n",
       "      <th>0</th>\n",
       "      <td>compens</td>\n",
       "    </tr>\n",
       "    <tr>\n",
       "      <th>1</th>\n",
       "      <td>default</td>\n",
       "    </tr>\n",
       "    <tr>\n",
       "      <th>2</th>\n",
       "      <td>dsoaws</td>\n",
       "    </tr>\n",
       "  </tbody>\n",
       "</table>\n",
       "</div>"
      ],
      "text/plain": [
       "  database_name\n",
       "0       compens\n",
       "1       default\n",
       "2        dsoaws"
      ]
     },
     "execution_count": 24,
     "metadata": {},
     "output_type": "execute_result"
    }
   ],
   "source": [
    "statement = \"SHOW DATABASES\"\n",
    "\n",
    "df_show = pd.read_sql(statement, conn)\n",
    "df_show.head(5)"
   ]
  },
  {
   "cell_type": "markdown",
   "id": "bab334e1-fb22-4bf7-ba4e-90943767bf9e",
   "metadata": {},
   "source": [
    "## Create Tables "
   ]
  },
  {
   "cell_type": "markdown",
   "id": "83f098ad-39f6-4f77-af37-bfc9cdc3c496",
   "metadata": {},
   "source": [
    "### San Jose Table"
   ]
  },
  {
   "cell_type": "code",
   "execution_count": 25,
   "id": "24c21721-2ef2-4c65-8906-b1d4fb64ce5d",
   "metadata": {
    "tags": []
   },
   "outputs": [],
   "source": [
    "#Directory for the data input\n",
    "data_dir = 's3://508-team4/data'"
   ]
  },
  {
   "cell_type": "code",
   "execution_count": 26,
   "id": "4a7daf58-7eea-44bd-84a4-498dc789d6b5",
   "metadata": {
    "tags": []
   },
   "outputs": [
    {
     "data": {
      "text/html": [
       "<div>\n",
       "<style scoped>\n",
       "    .dataframe tbody tr th:only-of-type {\n",
       "        vertical-align: middle;\n",
       "    }\n",
       "\n",
       "    .dataframe tbody tr th {\n",
       "        vertical-align: top;\n",
       "    }\n",
       "\n",
       "    .dataframe thead th {\n",
       "        text-align: right;\n",
       "    }\n",
       "</style>\n",
       "<table border=\"1\" class=\"dataframe\">\n",
       "  <thead>\n",
       "    <tr style=\"text-align: right;\">\n",
       "      <th></th>\n",
       "      <th>name</th>\n",
       "      <th>department</th>\n",
       "      <th>job_title</th>\n",
       "      <th>total_cash</th>\n",
       "      <th>base_salary</th>\n",
       "      <th>overtime</th>\n",
       "      <th>health</th>\n",
       "      <th>retired</th>\n",
       "      <th>year</th>\n",
       "      <th>city_id</th>\n",
       "      <th>irregular_cash</th>\n",
       "      <th>retirement</th>\n",
       "      <th>other_benefits</th>\n",
       "      <th>total_benefits</th>\n",
       "      <th>total_compensation</th>\n",
       "    </tr>\n",
       "  </thead>\n",
       "  <tbody>\n",
       "    <tr>\n",
       "      <th>0</th>\n",
       "      <td>Bustillos Steven D</td>\n",
       "      <td>Police</td>\n",
       "      <td>Police Sergeant</td>\n",
       "      <td>286137.70</td>\n",
       "      <td>90888.00</td>\n",
       "      <td>89867.88</td>\n",
       "      <td>13640.50</td>\n",
       "      <td>Yes</td>\n",
       "      <td>2013</td>\n",
       "      <td>1</td>\n",
       "      <td>105381.81</td>\n",
       "      <td>74429.71</td>\n",
       "      <td>0.0</td>\n",
       "      <td>88070.21</td>\n",
       "      <td>374207.9</td>\n",
       "    </tr>\n",
       "    <tr>\n",
       "      <th>1</th>\n",
       "      <td>Figone Debra J</td>\n",
       "      <td>City Manager</td>\n",
       "      <td>City Manager U</td>\n",
       "      <td>248564.84</td>\n",
       "      <td>227975.02</td>\n",
       "      <td>NaN</td>\n",
       "      <td>15166.00</td>\n",
       "      <td>Yes</td>\n",
       "      <td>2013</td>\n",
       "      <td>1</td>\n",
       "      <td>20589.82</td>\n",
       "      <td>151550.08</td>\n",
       "      <td>0.0</td>\n",
       "      <td>166716.08</td>\n",
       "      <td>415280.9</td>\n",
       "    </tr>\n",
       "    <tr>\n",
       "      <th>2</th>\n",
       "      <td>Guerra Daniel P</td>\n",
       "      <td>Police</td>\n",
       "      <td>Police Officer</td>\n",
       "      <td>241039.12</td>\n",
       "      <td>97198.40</td>\n",
       "      <td>132104.55</td>\n",
       "      <td>15371.56</td>\n",
       "      <td>No</td>\n",
       "      <td>2013</td>\n",
       "      <td>1</td>\n",
       "      <td>11736.18</td>\n",
       "      <td>79821.51</td>\n",
       "      <td>0.0</td>\n",
       "      <td>95193.07</td>\n",
       "      <td>336232.2</td>\n",
       "    </tr>\n",
       "    <tr>\n",
       "      <th>3</th>\n",
       "      <td>Moore Christopher M</td>\n",
       "      <td>Police</td>\n",
       "      <td>Chief Of Police U</td>\n",
       "      <td>233540.31</td>\n",
       "      <td>15319.54</td>\n",
       "      <td>NaN</td>\n",
       "      <td>1371.81</td>\n",
       "      <td>Yes</td>\n",
       "      <td>2013</td>\n",
       "      <td>1</td>\n",
       "      <td>218220.78</td>\n",
       "      <td>11204.16</td>\n",
       "      <td>0.0</td>\n",
       "      <td>12575.97</td>\n",
       "      <td>246116.3</td>\n",
       "    </tr>\n",
       "    <tr>\n",
       "      <th>4</th>\n",
       "      <td>Vasquez Hector M</td>\n",
       "      <td>Police</td>\n",
       "      <td>Police Officer</td>\n",
       "      <td>230469.84</td>\n",
       "      <td>97198.40</td>\n",
       "      <td>124552.69</td>\n",
       "      <td>16345.32</td>\n",
       "      <td>No</td>\n",
       "      <td>2013</td>\n",
       "      <td>1</td>\n",
       "      <td>8718.76</td>\n",
       "      <td>79821.51</td>\n",
       "      <td>0.0</td>\n",
       "      <td>96166.83</td>\n",
       "      <td>326636.7</td>\n",
       "    </tr>\n",
       "  </tbody>\n",
       "</table>\n",
       "</div>"
      ],
      "text/plain": [
       "                  name    department          job_title  total_cash  \\\n",
       "0   Bustillos Steven D        Police    Police Sergeant   286137.70   \n",
       "1       Figone Debra J  City Manager     City Manager U   248564.84   \n",
       "2      Guerra Daniel P        Police     Police Officer   241039.12   \n",
       "3  Moore Christopher M        Police  Chief Of Police U   233540.31   \n",
       "4     Vasquez Hector M        Police     Police Officer   230469.84   \n",
       "\n",
       "   base_salary   overtime    health retired  year  city_id  irregular_cash  \\\n",
       "0     90888.00   89867.88  13640.50     Yes  2013        1       105381.81   \n",
       "1    227975.02        NaN  15166.00     Yes  2013        1        20589.82   \n",
       "2     97198.40  132104.55  15371.56      No  2013        1        11736.18   \n",
       "3     15319.54        NaN   1371.81     Yes  2013        1       218220.78   \n",
       "4     97198.40  124552.69  16345.32      No  2013        1         8718.76   \n",
       "\n",
       "   retirement  other_benefits  total_benefits  total_compensation  \n",
       "0    74429.71             0.0        88070.21            374207.9  \n",
       "1   151550.08             0.0       166716.08            415280.9  \n",
       "2    79821.51             0.0        95193.07            336232.2  \n",
       "3    11204.16             0.0        12575.97            246116.3  \n",
       "4    79821.51             0.0        96166.83            326636.7  "
      ]
     },
     "execution_count": 26,
     "metadata": {},
     "output_type": "execute_result"
    }
   ],
   "source": [
    "table_name1='sj_compensation'\n",
    "pd.read_sql(f'DROP TABLE IF EXISTS {database_name}.{table_name1}', conn)\n",
    "\n",
    "\n",
    "create_table = f\"\"\" \n",
    "CREATE EXTERNAL TABLE IF NOT EXISTS {database_name}.{table_name1}(\n",
    "                name string, \n",
    "                department string, \n",
    "                job_title string, \n",
    "                total_cash float,  \n",
    "                base_salary float, \n",
    "                overtime float, \n",
    "                health float, \n",
    "                retired string,\n",
    "                year int,\n",
    "                city_id int,\n",
    "                irregular_cash float, \n",
    "                retirement float, \n",
    "                other_benefits float,\n",
    "                total_benefits float,\n",
    "                total_compensation float\n",
    " )\n",
    "                ROW FORMAT DELIMITED\n",
    "                FIELDS TERMINATED BY ','\n",
    "                LOCATION '{data_dir}/{table_name1}'\n",
    "                TBLPROPERTIES ('skip.header.line.count'='1')\n",
    "\"\"\"\n",
    "\n",
    "pd.read_sql(create_table, conn)\n",
    "\n",
    "pd.read_sql(f'SELECT * FROM {database_name}.{table_name1} LIMIT 5', conn)\n",
    "                "
   ]
  },
  {
   "cell_type": "code",
   "execution_count": 27,
   "id": "0e46f51d-81ca-4ee7-b01d-942628cd7e68",
   "metadata": {
    "tags": []
   },
   "outputs": [],
   "source": [
    "# pd.read_sql(f\"SELECT * FROM {database_name}.{table_name2} WHERE city_id = 1\", conn)"
   ]
  },
  {
   "cell_type": "code",
   "execution_count": null,
   "id": "1155af14-679e-4430-95f1-cc8091764251",
   "metadata": {},
   "outputs": [],
   "source": []
  },
  {
   "cell_type": "markdown",
   "id": "f0eb5e4f-6cb6-4cb5-a552-3d609a3088a5",
   "metadata": {},
   "source": [
    "### San Francisco Table"
   ]
  },
  {
   "cell_type": "code",
   "execution_count": 28,
   "id": "c23797e4-cd4d-442c-acdf-23a3d330384f",
   "metadata": {
    "tags": []
   },
   "outputs": [
    {
     "data": {
      "text/html": [
       "<div>\n",
       "<style scoped>\n",
       "    .dataframe tbody tr th:only-of-type {\n",
       "        vertical-align: middle;\n",
       "    }\n",
       "\n",
       "    .dataframe tbody tr th {\n",
       "        vertical-align: top;\n",
       "    }\n",
       "\n",
       "    .dataframe thead th {\n",
       "        text-align: right;\n",
       "    }\n",
       "</style>\n",
       "<table border=\"1\" class=\"dataframe\">\n",
       "  <thead>\n",
       "    <tr style=\"text-align: right;\">\n",
       "      <th></th>\n",
       "      <th>organization_group_code</th>\n",
       "      <th>job_family_code</th>\n",
       "      <th>job_code</th>\n",
       "      <th>year_type</th>\n",
       "      <th>year</th>\n",
       "      <th>organization_group</th>\n",
       "      <th>department_code</th>\n",
       "      <th>department</th>\n",
       "      <th>union_code</th>\n",
       "      <th>union</th>\n",
       "      <th>...</th>\n",
       "      <th>base_salary</th>\n",
       "      <th>overtime</th>\n",
       "      <th>irregular_cash</th>\n",
       "      <th>total_cash</th>\n",
       "      <th>retirement</th>\n",
       "      <th>health</th>\n",
       "      <th>other_benefits</th>\n",
       "      <th>total_benefits</th>\n",
       "      <th>total_compensation</th>\n",
       "      <th>city_id</th>\n",
       "    </tr>\n",
       "  </thead>\n",
       "  <tbody>\n",
       "    <tr>\n",
       "      <th>0</th>\n",
       "      <td>1</td>\n",
       "      <td>2900</td>\n",
       "      <td>2930</td>\n",
       "      <td>Fiscal</td>\n",
       "      <td>2016</td>\n",
       "      <td>Community Health</td>\n",
       "      <td>DPH</td>\n",
       "      <td>DPH Public Health</td>\n",
       "      <td>790.0</td>\n",
       "      <td>SEIU - Miscellaneous  Local 1021</td>\n",
       "      <td>...</td>\n",
       "      <td>83518.12</td>\n",
       "      <td>0.0</td>\n",
       "      <td>0.0</td>\n",
       "      <td>83518.12</td>\n",
       "      <td>15542.80</td>\n",
       "      <td>13067.98</td>\n",
       "      <td>6746.82</td>\n",
       "      <td>35357.60</td>\n",
       "      <td>118875.72</td>\n",
       "      <td>2</td>\n",
       "    </tr>\n",
       "    <tr>\n",
       "      <th>1</th>\n",
       "      <td>1</td>\n",
       "      <td>2900</td>\n",
       "      <td>2930</td>\n",
       "      <td>Fiscal</td>\n",
       "      <td>2015</td>\n",
       "      <td>Community Health</td>\n",
       "      <td>DPH</td>\n",
       "      <td>DPH Public Health</td>\n",
       "      <td>790.0</td>\n",
       "      <td>SEIU - Miscellaneous  Local 1021</td>\n",
       "      <td>...</td>\n",
       "      <td>76213.74</td>\n",
       "      <td>0.0</td>\n",
       "      <td>0.0</td>\n",
       "      <td>76213.74</td>\n",
       "      <td>12503.29</td>\n",
       "      <td>12399.98</td>\n",
       "      <td>6131.47</td>\n",
       "      <td>31034.74</td>\n",
       "      <td>107248.48</td>\n",
       "      <td>2</td>\n",
       "    </tr>\n",
       "    <tr>\n",
       "      <th>2</th>\n",
       "      <td>1</td>\n",
       "      <td>2900</td>\n",
       "      <td>2930</td>\n",
       "      <td>Fiscal</td>\n",
       "      <td>2014</td>\n",
       "      <td>Community Health</td>\n",
       "      <td>DPH</td>\n",
       "      <td>DPH Public Health</td>\n",
       "      <td>790.0</td>\n",
       "      <td>SEIU - Miscellaneous  Local 1021</td>\n",
       "      <td>...</td>\n",
       "      <td>17082.00</td>\n",
       "      <td>0.0</td>\n",
       "      <td>0.0</td>\n",
       "      <td>17082.00</td>\n",
       "      <td>0.00</td>\n",
       "      <td>2876.46</td>\n",
       "      <td>1347.70</td>\n",
       "      <td>4224.16</td>\n",
       "      <td>21306.16</td>\n",
       "      <td>2</td>\n",
       "    </tr>\n",
       "    <tr>\n",
       "      <th>3</th>\n",
       "      <td>1</td>\n",
       "      <td>2900</td>\n",
       "      <td>2930</td>\n",
       "      <td>Calendar</td>\n",
       "      <td>2016</td>\n",
       "      <td>Community Health</td>\n",
       "      <td>DPH</td>\n",
       "      <td>DPH Public Health</td>\n",
       "      <td>790.0</td>\n",
       "      <td>SEIU - Miscellaneous  Local 1021</td>\n",
       "      <td>...</td>\n",
       "      <td>86840.71</td>\n",
       "      <td>0.0</td>\n",
       "      <td>0.0</td>\n",
       "      <td>86840.71</td>\n",
       "      <td>16002.70</td>\n",
       "      <td>13371.04</td>\n",
       "      <td>7015.52</td>\n",
       "      <td>36389.26</td>\n",
       "      <td>123229.97</td>\n",
       "      <td>2</td>\n",
       "    </tr>\n",
       "    <tr>\n",
       "      <th>4</th>\n",
       "      <td>1</td>\n",
       "      <td>2900</td>\n",
       "      <td>2930</td>\n",
       "      <td>Calendar</td>\n",
       "      <td>2015</td>\n",
       "      <td>Community Health</td>\n",
       "      <td>DPH</td>\n",
       "      <td>DPH Public Health</td>\n",
       "      <td>790.0</td>\n",
       "      <td>SEIU - Miscellaneous  Local 1021</td>\n",
       "      <td>...</td>\n",
       "      <td>79452.81</td>\n",
       "      <td>0.0</td>\n",
       "      <td>0.0</td>\n",
       "      <td>79452.81</td>\n",
       "      <td>16355.38</td>\n",
       "      <td>12424.50</td>\n",
       "      <td>6412.64</td>\n",
       "      <td>35192.52</td>\n",
       "      <td>114645.33</td>\n",
       "      <td>2</td>\n",
       "    </tr>\n",
       "  </tbody>\n",
       "</table>\n",
       "<p>5 rows × 23 columns</p>\n",
       "</div>"
      ],
      "text/plain": [
       "   organization_group_code job_family_code job_code year_type  year  \\\n",
       "0                        1            2900     2930    Fiscal  2016   \n",
       "1                        1            2900     2930    Fiscal  2015   \n",
       "2                        1            2900     2930    Fiscal  2014   \n",
       "3                        1            2900     2930  Calendar  2016   \n",
       "4                        1            2900     2930  Calendar  2015   \n",
       "\n",
       "  organization_group department_code         department  union_code  \\\n",
       "0   Community Health             DPH  DPH Public Health       790.0   \n",
       "1   Community Health             DPH  DPH Public Health       790.0   \n",
       "2   Community Health             DPH  DPH Public Health       790.0   \n",
       "3   Community Health             DPH  DPH Public Health       790.0   \n",
       "4   Community Health             DPH  DPH Public Health       790.0   \n",
       "\n",
       "                              union  ... base_salary overtime  irregular_cash  \\\n",
       "0  SEIU - Miscellaneous  Local 1021  ...    83518.12      0.0             0.0   \n",
       "1  SEIU - Miscellaneous  Local 1021  ...    76213.74      0.0             0.0   \n",
       "2  SEIU - Miscellaneous  Local 1021  ...    17082.00      0.0             0.0   \n",
       "3  SEIU - Miscellaneous  Local 1021  ...    86840.71      0.0             0.0   \n",
       "4  SEIU - Miscellaneous  Local 1021  ...    79452.81      0.0             0.0   \n",
       "\n",
       "   total_cash  retirement    health  other_benefits  total_benefits  \\\n",
       "0    83518.12    15542.80  13067.98         6746.82        35357.60   \n",
       "1    76213.74    12503.29  12399.98         6131.47        31034.74   \n",
       "2    17082.00        0.00   2876.46         1347.70         4224.16   \n",
       "3    86840.71    16002.70  13371.04         7015.52        36389.26   \n",
       "4    79452.81    16355.38  12424.50         6412.64        35192.52   \n",
       "\n",
       "   total_compensation  city_id  \n",
       "0           118875.72        2  \n",
       "1           107248.48        2  \n",
       "2            21306.16        2  \n",
       "3           123229.97        2  \n",
       "4           114645.33        2  \n",
       "\n",
       "[5 rows x 23 columns]"
      ]
     },
     "execution_count": 28,
     "metadata": {},
     "output_type": "execute_result"
    }
   ],
   "source": [
    "table_name2 ='sf_compensation'\n",
    "pd.read_sql(f'DROP TABLE IF EXISTS {database_name}.{table_name2}', conn)\n",
    "\n",
    "\n",
    "create_table = f\"\"\"\n",
    "CREATE EXTERNAL TABLE IF NOT EXISTS {database_name}.{table_name2}(\n",
    "                organization_group_code int, \n",
    "                job_family_code string,\n",
    "                job_code string, \n",
    "                year_type string, \n",
    "                year int, \n",
    "                organization_group string, \n",
    "                department_code string, \n",
    "                department string, \n",
    "                union_code float, \n",
    "                union string, \n",
    "                job_family string, \n",
    "                job_title string, \n",
    "                employee_identifier int, \n",
    "                base_salary float, \n",
    "                overtime float, \n",
    "                irregular_cash float, \n",
    "                total_cash float, \n",
    "                retirement float,\n",
    "                health float, \n",
    "                other_benefits float, \n",
    "                total_benefits float, \n",
    "                total_compensation float,\n",
    "                city_id int\n",
    "                )\n",
    "                \n",
    "                ROW FORMAT DELIMITED\n",
    "                FIELDS TERMINATED BY ','\n",
    "                LOCATION '{data_dir}/{table_name2}'\n",
    "                TBLPROPERTIES ('skip.header.line.count'='1')\n",
    "\"\"\"\n",
    "\n",
    "pd.read_sql(create_table, conn)\n",
    "\n",
    "pd.read_sql(f'SELECT * FROM {database_name}.{table_name2} LIMIT 5', conn)"
   ]
  },
  {
   "cell_type": "markdown",
   "id": "38501426-e5dd-4a34-bf18-6fadab7c3dc7",
   "metadata": {},
   "source": [
    "### Los Angeles Table"
   ]
  },
  {
   "cell_type": "code",
   "execution_count": 29,
   "id": "ad05c894-da43-4217-a8f0-b3a40a22bb18",
   "metadata": {
    "tags": []
   },
   "outputs": [
    {
     "data": {
      "text/html": [
       "<div>\n",
       "<style scoped>\n",
       "    .dataframe tbody tr th:only-of-type {\n",
       "        vertical-align: middle;\n",
       "    }\n",
       "\n",
       "    .dataframe tbody tr th {\n",
       "        vertical-align: top;\n",
       "    }\n",
       "\n",
       "    .dataframe thead th {\n",
       "        text-align: right;\n",
       "    }\n",
       "</style>\n",
       "<table border=\"1\" class=\"dataframe\">\n",
       "  <thead>\n",
       "    <tr style=\"text-align: right;\">\n",
       "      <th></th>\n",
       "      <th>record_nbr</th>\n",
       "      <th>year</th>\n",
       "      <th>department_no</th>\n",
       "      <th>department</th>\n",
       "      <th>job_class_pgrade</th>\n",
       "      <th>job_title</th>\n",
       "      <th>employment_type</th>\n",
       "      <th>job_status</th>\n",
       "      <th>mou</th>\n",
       "      <th>mou_title</th>\n",
       "      <th>...</th>\n",
       "      <th>irregular_cash</th>\n",
       "      <th>total_cash</th>\n",
       "      <th>retirement</th>\n",
       "      <th>health</th>\n",
       "      <th>gender</th>\n",
       "      <th>ethnicity</th>\n",
       "      <th>total_benefits</th>\n",
       "      <th>total_compensation</th>\n",
       "      <th>other_benefits</th>\n",
       "      <th>city_id</th>\n",
       "    </tr>\n",
       "  </thead>\n",
       "  <tbody>\n",
       "    <tr>\n",
       "      <th>0</th>\n",
       "      <td>303536333832</td>\n",
       "      <td>2015</td>\n",
       "      <td>88</td>\n",
       "      <td>RECREATION AND PARKS</td>\n",
       "      <td>None</td>\n",
       "      <td>RECREATION ASSISTANT</td>\n",
       "      <td>PART_TIME</td>\n",
       "      <td>NOT_ACTIVE</td>\n",
       "      <td>07</td>\n",
       "      <td>RECREATION ASSISTANTS</td>\n",
       "      <td>...</td>\n",
       "      <td>10.40</td>\n",
       "      <td>1711.27</td>\n",
       "      <td>0.00</td>\n",
       "      <td>0.00</td>\n",
       "      <td>MALE</td>\n",
       "      <td>HISPANIC</td>\n",
       "      <td>0.00</td>\n",
       "      <td>1711.27</td>\n",
       "      <td>NaN</td>\n",
       "      <td>3</td>\n",
       "    </tr>\n",
       "    <tr>\n",
       "      <th>1</th>\n",
       "      <td>303536333932</td>\n",
       "      <td>2015</td>\n",
       "      <td>70</td>\n",
       "      <td>POLICE</td>\n",
       "      <td>None</td>\n",
       "      <td>POLICE OFFICER II</td>\n",
       "      <td>FULL_TIME</td>\n",
       "      <td>NOT_ACTIVE</td>\n",
       "      <td>24</td>\n",
       "      <td>POLICE OFFICERS  LIEUTENANT AND BELOW</td>\n",
       "      <td>...</td>\n",
       "      <td>4166.60</td>\n",
       "      <td>99018.29</td>\n",
       "      <td>42506.82</td>\n",
       "      <td>10330.97</td>\n",
       "      <td>FEMALE</td>\n",
       "      <td>CAUCASIAN</td>\n",
       "      <td>52837.79</td>\n",
       "      <td>151856.08</td>\n",
       "      <td>NaN</td>\n",
       "      <td>3</td>\n",
       "    </tr>\n",
       "    <tr>\n",
       "      <th>2</th>\n",
       "      <td>3035363434</td>\n",
       "      <td>2015</td>\n",
       "      <td>70</td>\n",
       "      <td>POLICE</td>\n",
       "      <td>None</td>\n",
       "      <td>SENIOR MANAGEMENT ANALYST I</td>\n",
       "      <td>FULL_TIME</td>\n",
       "      <td>NOT_ACTIVE</td>\n",
       "      <td>20</td>\n",
       "      <td>SUPERVISORY ADMINISTRATIVE</td>\n",
       "      <td>...</td>\n",
       "      <td>2535.74</td>\n",
       "      <td>126754.58</td>\n",
       "      <td>32472.95</td>\n",
       "      <td>6393.84</td>\n",
       "      <td>FEMALE</td>\n",
       "      <td>BLACK</td>\n",
       "      <td>38866.79</td>\n",
       "      <td>165621.38</td>\n",
       "      <td>NaN</td>\n",
       "      <td>3</td>\n",
       "    </tr>\n",
       "    <tr>\n",
       "      <th>3</th>\n",
       "      <td>303536343733</td>\n",
       "      <td>2015</td>\n",
       "      <td>4</td>\n",
       "      <td>AIRPORTS</td>\n",
       "      <td>None</td>\n",
       "      <td>VOCATIONAL WORKER I</td>\n",
       "      <td>FULL_TIME</td>\n",
       "      <td>NOT_ACTIVE</td>\n",
       "      <td>04</td>\n",
       "      <td>EQUIPMENT OPERATION AND LABOR</td>\n",
       "      <td>...</td>\n",
       "      <td>309.10</td>\n",
       "      <td>7127.56</td>\n",
       "      <td>1758.57</td>\n",
       "      <td>1104.76</td>\n",
       "      <td>FEMALE</td>\n",
       "      <td>HISPANIC</td>\n",
       "      <td>2863.33</td>\n",
       "      <td>9990.89</td>\n",
       "      <td>NaN</td>\n",
       "      <td>3</td>\n",
       "    </tr>\n",
       "    <tr>\n",
       "      <th>4</th>\n",
       "      <td>3035363437</td>\n",
       "      <td>2015</td>\n",
       "      <td>42</td>\n",
       "      <td>HARBOR</td>\n",
       "      <td>None</td>\n",
       "      <td>PORT POLICE SERGEANT</td>\n",
       "      <td>FULL_TIME</td>\n",
       "      <td>ACTIVE</td>\n",
       "      <td>38</td>\n",
       "      <td>LOS ANGELES PORT POLICE ASSOC.</td>\n",
       "      <td>...</td>\n",
       "      <td>16243.87</td>\n",
       "      <td>173021.60</td>\n",
       "      <td>61461.57</td>\n",
       "      <td>16641.84</td>\n",
       "      <td>MALE</td>\n",
       "      <td>CAUCASIAN</td>\n",
       "      <td>78103.41</td>\n",
       "      <td>251125.02</td>\n",
       "      <td>NaN</td>\n",
       "      <td>3</td>\n",
       "    </tr>\n",
       "  </tbody>\n",
       "</table>\n",
       "<p>5 rows × 22 columns</p>\n",
       "</div>"
      ],
      "text/plain": [
       "     record_nbr  year department_no            department job_class_pgrade  \\\n",
       "0  303536333832  2015            88  RECREATION AND PARKS             None   \n",
       "1  303536333932  2015            70                POLICE             None   \n",
       "2    3035363434  2015            70                POLICE             None   \n",
       "3  303536343733  2015             4              AIRPORTS             None   \n",
       "4    3035363437  2015            42                HARBOR             None   \n",
       "\n",
       "                     job_title employment_type  job_status mou  \\\n",
       "0         RECREATION ASSISTANT       PART_TIME  NOT_ACTIVE  07   \n",
       "1            POLICE OFFICER II       FULL_TIME  NOT_ACTIVE  24   \n",
       "2  SENIOR MANAGEMENT ANALYST I       FULL_TIME  NOT_ACTIVE  20   \n",
       "3          VOCATIONAL WORKER I       FULL_TIME  NOT_ACTIVE  04   \n",
       "4         PORT POLICE SERGEANT       FULL_TIME      ACTIVE  38   \n",
       "\n",
       "                               mou_title  ...  irregular_cash  total_cash  \\\n",
       "0                  RECREATION ASSISTANTS  ...           10.40     1711.27   \n",
       "1  POLICE OFFICERS  LIEUTENANT AND BELOW  ...         4166.60    99018.29   \n",
       "2             SUPERVISORY ADMINISTRATIVE  ...         2535.74   126754.58   \n",
       "3          EQUIPMENT OPERATION AND LABOR  ...          309.10     7127.56   \n",
       "4         LOS ANGELES PORT POLICE ASSOC.  ...        16243.87   173021.60   \n",
       "\n",
       "   retirement    health  gender  ethnicity total_benefits total_compensation  \\\n",
       "0        0.00      0.00    MALE   HISPANIC           0.00            1711.27   \n",
       "1    42506.82  10330.97  FEMALE  CAUCASIAN       52837.79          151856.08   \n",
       "2    32472.95   6393.84  FEMALE      BLACK       38866.79          165621.38   \n",
       "3     1758.57   1104.76  FEMALE   HISPANIC        2863.33            9990.89   \n",
       "4    61461.57  16641.84    MALE  CAUCASIAN       78103.41          251125.02   \n",
       "\n",
       "   other_benefits  city_id  \n",
       "0             NaN        3  \n",
       "1             NaN        3  \n",
       "2             NaN        3  \n",
       "3             NaN        3  \n",
       "4             NaN        3  \n",
       "\n",
       "[5 rows x 22 columns]"
      ]
     },
     "execution_count": 29,
     "metadata": {},
     "output_type": "execute_result"
    }
   ],
   "source": [
    "table_name3 ='la_compensation'\n",
    "pd.read_sql(f'DROP TABLE IF EXISTS {database_name}.{table_name3}', conn)\n",
    "\n",
    "\n",
    "create_table = f\"\"\"\n",
    "CREATE EXTERNAL TABLE IF NOT EXISTS {database_name}.{table_name3}(\n",
    "                record_nbr string,\n",
    "                year int,\n",
    "                department_no string,\n",
    "                department string,\n",
    "                job_class_pgrade int,\n",
    "                job_title string,\n",
    "                employment_type string,\n",
    "                job_status string,\n",
    "                mou string,\n",
    "                mou_title string,\n",
    "                base_salary float,\n",
    "                overtime float,\n",
    "                irregular_cash float,\n",
    "                total_cash float,\n",
    "                retirement float,\n",
    "                health float,\n",
    "                gender string,\n",
    "                ethnicity string,\n",
    "                total_benefits float,\n",
    "                total_compensation float,\n",
    "                other_benefits float,\n",
    "                city_id int\n",
    "                )\n",
    "                \n",
    "                ROW FORMAT DELIMITED\n",
    "                FIELDS TERMINATED BY ','\n",
    "                LOCATION '{data_dir}/{table_name3}'\n",
    "                TBLPROPERTIES ('skip.header.line.count'='1')\n",
    "\"\"\"\n",
    "\n",
    "pd.read_sql(create_table, conn)\n",
    "\n",
    "pd.read_sql(f'SELECT * FROM {database_name}.{table_name3} LIMIT 5', conn)\n",
    "                "
   ]
  },
  {
   "cell_type": "code",
   "execution_count": 30,
   "id": "fe6fff3d-358a-4847-8e1f-b45009bd6683",
   "metadata": {
    "tags": []
   },
   "outputs": [],
   "source": [
    "# cursor = conn.cursor()\n",
    "# cursor.execute(f'''ALTER TABLE {database_name}.{table_name3} ADD COLUMNS (other_benefits FLOAT)''')\n",
    "# conn.commit()\n",
    "# cursor.close()\n",
    "# pd.read_sql(f'SELECT * FROM {database_name}.{table_name3} LIMIT 5', conn)"
   ]
  },
  {
   "cell_type": "code",
   "execution_count": 31,
   "id": "fb70d84e-71d5-4b1b-99d6-42b0ab6ef1a3",
   "metadata": {
    "tags": []
   },
   "outputs": [],
   "source": [
    "# change_table = f'''ALTER TABLE {database_name}.{table_name1} CHANGE (pay_year year int, department_title department string)'''\n",
    "# cursor.execute(change_table)\n",
    "# conn.commit()\n",
    "# # pd.read_sql(f'SELECT * FROM {database_name}.{table_name1} LIMIT 5', conn)"
   ]
  },
  {
   "cell_type": "code",
   "execution_count": 32,
   "id": "8555043d-81e0-46bb-8b62-491322bb084f",
   "metadata": {
    "tags": []
   },
   "outputs": [],
   "source": [
    "# cursor = conn.cursor()\n",
    "\n",
    "# cursor.execute(f'ALTER TABLE {database_name}.{table_name1} CHANGE pay_year year int')\n",
    "# cursor.execute(f'ALTER TABLE {database_name}.{table_name1} CHANGE department_title department string')\n",
    "# cursor.execute(f'ALTER TABLE {database_name}.{table_name1} CHANGE regular_pay base_salary float')\n",
    "# cursor.execute(f'ALTER TABLE {database_name}.{table_name1} CHANGE overtime_pay overtime float')\n",
    "# cursor.execute(f'ALTER TABLE {database_name}.{table_name1} CHANGE all_other_pay irregular_cash float')\n",
    "# cursor.execute(f'ALTER TABLE {database_name}.{table_name1} CHANGE total_pay total_cash float')\n",
    "# cursor.execute(f'ALTER TABLE {database_name}.{table_name1} CHANGE city_retirement_contributions retirement float')\n",
    "# cursor.execute(f'ALTER TABLE {database_name}.{table_name1} CHANGE benefit_pay health float')\n",
    "\n",
    "# conn.commit()\n",
    "  \n",
    "# pd.read_sql(f'SELECT * FROM {database_name}.{table_name1} LIMIT 5', conn)\n",
    "   "
   ]
  },
  {
   "cell_type": "markdown",
   "id": "bc9ea5ee-2bfc-4fd3-b699-f35f4b2d7a73",
   "metadata": {},
   "source": [
    "## Merge the compensation tables"
   ]
  },
  {
   "cell_type": "code",
   "execution_count": 33,
   "id": "a11bc4b0-93d0-4dc7-a121-177a668c08c7",
   "metadata": {
    "tags": []
   },
   "outputs": [],
   "source": [
    "# #The 3 table were merge based on the columns of interest\n",
    "# df = pd.read_sql(f'SELECT year, department, job_title, base_salary, overtime, irregular_cash, \\\n",
    "#             total_cash, retirement, health, other_benefits, \\\n",
    "#             total_benefits, total_compensation, city_id \\\n",
    "#         FROM {database_name}.{table_name1} \\\n",
    "#         UNION ALL SELECT year, department, job_title, base_salary, overtime, irregular_cash, \\\n",
    "#             total_cash, retirement, health, other_benefits, total_benefits, total_compensation, city_id \\\n",
    "#         FROM {database_name}.{table_name2} \\\n",
    "#         UNION ALL SELECT year, department, job_title, base_salary, overtime, irregular_cash, \\\n",
    "#             total_cash, retirement, health, other_benefits, \\\n",
    "#             total_benefits, total_compensation, city_id \\\n",
    "#       FROM {database_name}.{table_name3}', conn)"
   ]
  },
  {
   "cell_type": "code",
   "execution_count": null,
   "id": "f1136779-43cb-4635-9200-029e92eb8095",
   "metadata": {},
   "outputs": [],
   "source": []
  },
  {
   "cell_type": "code",
   "execution_count": 34,
   "id": "f5e65648-e366-4a4c-a18a-67fa09453b3a",
   "metadata": {
    "tags": []
   },
   "outputs": [],
   "source": [
    "# pd.set_option('display.max_columns', 500)\n",
    "# null_test = pd.read_sql(f\"SELECT * FROM {database_name}.{table_name3} WHERE city_id IS NULL\", conn)\n",
    "# null_test"
   ]
  },
  {
   "cell_type": "code",
   "execution_count": 35,
   "id": "f44c19e1-f1b3-40ea-86c2-8e413a7e6731",
   "metadata": {
    "tags": []
   },
   "outputs": [],
   "source": [
    "# pd.set_option('display.max_columns', 500)\n",
    "# null_test = pd.read_sql(f\"SELECT * FROM {database_name}.{table_name1} WHERE overtime IS NULL\", conn)"
   ]
  },
  {
   "cell_type": "code",
   "execution_count": 36,
   "id": "c79d53ac-6384-44b0-b4b1-e4087858010d",
   "metadata": {
    "tags": []
   },
   "outputs": [],
   "source": [
    "#df.to_csv('compensation.csv')"
   ]
  },
  {
   "cell_type": "code",
   "execution_count": 37,
   "id": "ea2d6f2e-0c54-451e-b5d5-d319a8fcd46d",
   "metadata": {
    "tags": []
   },
   "outputs": [],
   "source": [
    " #df.info()"
   ]
  },
  {
   "cell_type": "code",
   "execution_count": 38,
   "id": "4836d6d3-fa7e-44b2-ad9a-4daa7fd1006d",
   "metadata": {
    "tags": []
   },
   "outputs": [],
   "source": [
    "# df.info()"
   ]
  },
  {
   "cell_type": "markdown",
   "id": "af1d757f-929b-4eca-aa9d-f6159a3e3bb1",
   "metadata": {},
   "source": [
    "### cpi table"
   ]
  },
  {
   "cell_type": "code",
   "execution_count": 39,
   "id": "0b034cb5-f744-4db0-95b5-0a89385db0a3",
   "metadata": {
    "tags": []
   },
   "outputs": [
    {
     "data": {
      "text/html": [
       "<div>\n",
       "<style scoped>\n",
       "    .dataframe tbody tr th:only-of-type {\n",
       "        vertical-align: middle;\n",
       "    }\n",
       "\n",
       "    .dataframe tbody tr th {\n",
       "        vertical-align: top;\n",
       "    }\n",
       "\n",
       "    .dataframe thead th {\n",
       "        text-align: right;\n",
       "    }\n",
       "</style>\n",
       "<table border=\"1\" class=\"dataframe\">\n",
       "  <thead>\n",
       "    <tr style=\"text-align: right;\">\n",
       "      <th></th>\n",
       "      <th>year</th>\n",
       "      <th>annual_average_cpi</th>\n",
       "      <th>inflation_rate</th>\n",
       "    </tr>\n",
       "  </thead>\n",
       "  <tbody>\n",
       "    <tr>\n",
       "      <th>0</th>\n",
       "      <td>2013</td>\n",
       "      <td>233.0</td>\n",
       "      <td>1.5</td>\n",
       "    </tr>\n",
       "    <tr>\n",
       "      <th>1</th>\n",
       "      <td>2014</td>\n",
       "      <td>236.7</td>\n",
       "      <td>1.6</td>\n",
       "    </tr>\n",
       "    <tr>\n",
       "      <th>2</th>\n",
       "      <td>2015</td>\n",
       "      <td>237.0</td>\n",
       "      <td>0.1</td>\n",
       "    </tr>\n",
       "    <tr>\n",
       "      <th>3</th>\n",
       "      <td>2016</td>\n",
       "      <td>240.0</td>\n",
       "      <td>1.3</td>\n",
       "    </tr>\n",
       "    <tr>\n",
       "      <th>4</th>\n",
       "      <td>2017</td>\n",
       "      <td>245.1</td>\n",
       "      <td>2.1</td>\n",
       "    </tr>\n",
       "  </tbody>\n",
       "</table>\n",
       "</div>"
      ],
      "text/plain": [
       "   year  annual_average_cpi  inflation_rate\n",
       "0  2013               233.0             1.5\n",
       "1  2014               236.7             1.6\n",
       "2  2015               237.0             0.1\n",
       "3  2016               240.0             1.3\n",
       "4  2017               245.1             2.1"
      ]
     },
     "execution_count": 39,
     "metadata": {},
     "output_type": "execute_result"
    }
   ],
   "source": [
    "table_name4 ='cpi'\n",
    "pd.read_sql(f'DROP TABLE IF EXISTS {database_name}.{table_name4}', conn)\n",
    "\n",
    "\n",
    "create_table = f\"\"\"\n",
    "CREATE EXTERNAL TABLE IF NOT EXISTS {database_name}.{table_name4}(\\\n",
    "                year int, \\\n",
    "                annual_average_cpi float, \\\n",
    "                inflation_rate float)\n",
    "                \n",
    "                ROW FORMAT DELIMITED\n",
    "                FIELDS TERMINATED BY ','\n",
    "                LOCATION '{data_dir}/{table_name4}'\n",
    "                TBLPROPERTIES ('skip.header.line.count'='1')\n",
    "\"\"\"\n",
    "\n",
    "pd.read_sql(create_table, conn)\n",
    "\n",
    "pd.read_sql(f'SELECT * FROM {database_name}.{table_name4} LIMIT 5', conn)\n",
    "                "
   ]
  },
  {
   "cell_type": "code",
   "execution_count": 40,
   "id": "18280c9a-af45-4a68-9484-0838778f03a0",
   "metadata": {
    "tags": []
   },
   "outputs": [
    {
     "data": {
      "text/html": [
       "<div>\n",
       "<style scoped>\n",
       "    .dataframe tbody tr th:only-of-type {\n",
       "        vertical-align: middle;\n",
       "    }\n",
       "\n",
       "    .dataframe tbody tr th {\n",
       "        vertical-align: top;\n",
       "    }\n",
       "\n",
       "    .dataframe thead th {\n",
       "        text-align: right;\n",
       "    }\n",
       "</style>\n",
       "<table border=\"1\" class=\"dataframe\">\n",
       "  <thead>\n",
       "    <tr style=\"text-align: right;\">\n",
       "      <th></th>\n",
       "      <th>tab_name</th>\n",
       "    </tr>\n",
       "  </thead>\n",
       "  <tbody>\n",
       "    <tr>\n",
       "      <th>0</th>\n",
       "      <td>cpi</td>\n",
       "    </tr>\n",
       "    <tr>\n",
       "      <th>1</th>\n",
       "      <td>la_compensation</td>\n",
       "    </tr>\n",
       "    <tr>\n",
       "      <th>2</th>\n",
       "      <td>sf_compensation</td>\n",
       "    </tr>\n",
       "    <tr>\n",
       "      <th>3</th>\n",
       "      <td>sj_compensation</td>\n",
       "    </tr>\n",
       "  </tbody>\n",
       "</table>\n",
       "</div>"
      ],
      "text/plain": [
       "          tab_name\n",
       "0              cpi\n",
       "1  la_compensation\n",
       "2  sf_compensation\n",
       "3  sj_compensation"
      ]
     },
     "execution_count": 40,
     "metadata": {},
     "output_type": "execute_result"
    }
   ],
   "source": [
    "#Check tables in the database\n",
    "df_show = pd.read_sql('SHOW TABLES IN compens', conn)\n",
    "df_show.head(5)\n"
   ]
  },
  {
   "cell_type": "markdown",
   "id": "c9d1bc3f-acef-4e00-95f4-4a74508399ab",
   "metadata": {},
   "source": [
    "## Merge the compensation and cpi tables"
   ]
  },
  {
   "cell_type": "code",
   "execution_count": 41,
   "id": "702b7ef8-4d19-44e7-8f84-08c914154c66",
   "metadata": {
    "tags": []
   },
   "outputs": [],
   "source": [
    "# The 3 table were merge based on the columns of interest\n",
    "df2 = pd.read_sql(f'SELECT t.*, t4.annual_average_cpi, t4.inflation_rate \\\n",
    "        FROM (SELECT year, department, job_title, base_salary, overtime, irregular_cash, \\\n",
    "            total_cash, retirement, health, other_benefits, total_benefits, total_compensation, city_id \\\n",
    "        FROM {database_name}.{table_name1} \\\n",
    "        UNION ALL SELECT year, department, job_title, base_salary, overtime, irregular_cash, \\\n",
    "            total_cash, retirement, health, other_benefits, total_benefits, total_compensation, city_id \\\n",
    "        FROM  {database_name}.{table_name2} \\\n",
    "        UNION ALL SELECT year, department, job_title, base_salary, overtime, irregular_cash, \\\n",
    "            total_cash, retirement, health, other_benefits, total_benefits, total_compensation, city_id \\\n",
    "        FROM  {database_name}.{table_name3}) t \\\n",
    "        JOIN {database_name}.{table_name4} t4 ON t.year = t4.year', conn)\n"
   ]
  },
  {
   "cell_type": "code",
   "execution_count": 42,
   "id": "2e81eba0-63df-4ba2-8496-06095a35f5fa",
   "metadata": {
    "tags": []
   },
   "outputs": [
    {
     "data": {
      "text/html": [
       "<div>\n",
       "<style scoped>\n",
       "    .dataframe tbody tr th:only-of-type {\n",
       "        vertical-align: middle;\n",
       "    }\n",
       "\n",
       "    .dataframe tbody tr th {\n",
       "        vertical-align: top;\n",
       "    }\n",
       "\n",
       "    .dataframe thead th {\n",
       "        text-align: right;\n",
       "    }\n",
       "</style>\n",
       "<table border=\"1\" class=\"dataframe\">\n",
       "  <thead>\n",
       "    <tr style=\"text-align: right;\">\n",
       "      <th></th>\n",
       "      <th>year</th>\n",
       "      <th>department</th>\n",
       "      <th>job_title</th>\n",
       "      <th>base_salary</th>\n",
       "      <th>overtime</th>\n",
       "      <th>irregular_cash</th>\n",
       "      <th>total_cash</th>\n",
       "      <th>retirement</th>\n",
       "      <th>health</th>\n",
       "      <th>other_benefits</th>\n",
       "      <th>total_benefits</th>\n",
       "      <th>total_compensation</th>\n",
       "      <th>city_id</th>\n",
       "      <th>annual_average_cpi</th>\n",
       "      <th>inflation_rate</th>\n",
       "    </tr>\n",
       "  </thead>\n",
       "  <tbody>\n",
       "    <tr>\n",
       "      <th>1466584</th>\n",
       "      <td>2019</td>\n",
       "      <td>ECONOMIC AND WORKFORCE DEVELOPMENT DEPARTMENT</td>\n",
       "      <td>SENIOR PROJECT ASSISTANT</td>\n",
       "      <td>21177.60</td>\n",
       "      <td>0.00</td>\n",
       "      <td>0.00</td>\n",
       "      <td>21177.60</td>\n",
       "      <td>6281.28</td>\n",
       "      <td>1140.28</td>\n",
       "      <td>NaN</td>\n",
       "      <td>7421.56</td>\n",
       "      <td>28599.16</td>\n",
       "      <td>3</td>\n",
       "      <td>255.7</td>\n",
       "      <td>1.8</td>\n",
       "    </tr>\n",
       "    <tr>\n",
       "      <th>1466585</th>\n",
       "      <td>2019</td>\n",
       "      <td>AIRPORTS</td>\n",
       "      <td>MANAGEMENT ASSISTANT</td>\n",
       "      <td>42070.40</td>\n",
       "      <td>1074.76</td>\n",
       "      <td>500.00</td>\n",
       "      <td>43645.16</td>\n",
       "      <td>12478.08</td>\n",
       "      <td>8155.86</td>\n",
       "      <td>NaN</td>\n",
       "      <td>20633.94</td>\n",
       "      <td>64279.10</td>\n",
       "      <td>3</td>\n",
       "      <td>255.7</td>\n",
       "      <td>1.8</td>\n",
       "    </tr>\n",
       "    <tr>\n",
       "      <th>1466586</th>\n",
       "      <td>2019</td>\n",
       "      <td>AIRPORTS</td>\n",
       "      <td>SECURITY OFFICER</td>\n",
       "      <td>20813.04</td>\n",
       "      <td>732.79</td>\n",
       "      <td>805.00</td>\n",
       "      <td>22350.83</td>\n",
       "      <td>6173.15</td>\n",
       "      <td>4419.44</td>\n",
       "      <td>NaN</td>\n",
       "      <td>10592.59</td>\n",
       "      <td>32943.42</td>\n",
       "      <td>3</td>\n",
       "      <td>255.7</td>\n",
       "      <td>1.8</td>\n",
       "    </tr>\n",
       "    <tr>\n",
       "      <th>1466587</th>\n",
       "      <td>2019</td>\n",
       "      <td>RECREATION AND PARKS</td>\n",
       "      <td>GARDENER CARETAKER</td>\n",
       "      <td>58024.00</td>\n",
       "      <td>1944.42</td>\n",
       "      <td>1239.27</td>\n",
       "      <td>61207.69</td>\n",
       "      <td>17209.92</td>\n",
       "      <td>19731.84</td>\n",
       "      <td>NaN</td>\n",
       "      <td>36941.76</td>\n",
       "      <td>98149.45</td>\n",
       "      <td>3</td>\n",
       "      <td>255.7</td>\n",
       "      <td>1.8</td>\n",
       "    </tr>\n",
       "    <tr>\n",
       "      <th>1466588</th>\n",
       "      <td>2019</td>\n",
       "      <td>POLICE</td>\n",
       "      <td>POLICE OFFICER II</td>\n",
       "      <td>107443.20</td>\n",
       "      <td>10400.97</td>\n",
       "      <td>1525.00</td>\n",
       "      <td>119369.17</td>\n",
       "      <td>50337.14</td>\n",
       "      <td>9831.64</td>\n",
       "      <td>NaN</td>\n",
       "      <td>60168.78</td>\n",
       "      <td>179537.95</td>\n",
       "      <td>3</td>\n",
       "      <td>255.7</td>\n",
       "      <td>1.8</td>\n",
       "    </tr>\n",
       "  </tbody>\n",
       "</table>\n",
       "</div>"
      ],
      "text/plain": [
       "         year                                     department  \\\n",
       "1466584  2019  ECONOMIC AND WORKFORCE DEVELOPMENT DEPARTMENT   \n",
       "1466585  2019                                       AIRPORTS   \n",
       "1466586  2019                                       AIRPORTS   \n",
       "1466587  2019                           RECREATION AND PARKS   \n",
       "1466588  2019                                         POLICE   \n",
       "\n",
       "                        job_title  base_salary  overtime  irregular_cash  \\\n",
       "1466584  SENIOR PROJECT ASSISTANT     21177.60      0.00            0.00   \n",
       "1466585      MANAGEMENT ASSISTANT     42070.40   1074.76          500.00   \n",
       "1466586          SECURITY OFFICER     20813.04    732.79          805.00   \n",
       "1466587        GARDENER CARETAKER     58024.00   1944.42         1239.27   \n",
       "1466588         POLICE OFFICER II    107443.20  10400.97         1525.00   \n",
       "\n",
       "         total_cash  retirement    health  other_benefits  total_benefits  \\\n",
       "1466584    21177.60     6281.28   1140.28             NaN         7421.56   \n",
       "1466585    43645.16    12478.08   8155.86             NaN        20633.94   \n",
       "1466586    22350.83     6173.15   4419.44             NaN        10592.59   \n",
       "1466587    61207.69    17209.92  19731.84             NaN        36941.76   \n",
       "1466588   119369.17    50337.14   9831.64             NaN        60168.78   \n",
       "\n",
       "         total_compensation  city_id  annual_average_cpi  inflation_rate  \n",
       "1466584            28599.16        3               255.7             1.8  \n",
       "1466585            64279.10        3               255.7             1.8  \n",
       "1466586            32943.42        3               255.7             1.8  \n",
       "1466587            98149.45        3               255.7             1.8  \n",
       "1466588           179537.95        3               255.7             1.8  "
      ]
     },
     "execution_count": 42,
     "metadata": {},
     "output_type": "execute_result"
    }
   ],
   "source": [
    "df2.tail()"
   ]
  },
  {
   "cell_type": "code",
   "execution_count": 43,
   "id": "296e1243-e32a-418b-9a12-e764e54cdccb",
   "metadata": {
    "tags": []
   },
   "outputs": [
    {
     "name": "stdout",
     "output_type": "stream",
     "text": [
      "<class 'pandas.core.frame.DataFrame'>\n",
      "RangeIndex: 1466589 entries, 0 to 1466588\n",
      "Data columns (total 15 columns):\n",
      " #   Column              Non-Null Count    Dtype  \n",
      "---  ------              --------------    -----  \n",
      " 0   year                1466589 non-null  int64  \n",
      " 1   department          1466589 non-null  object \n",
      " 2   job_title           1466589 non-null  object \n",
      " 3   base_salary         1465890 non-null  float64\n",
      " 4   overtime            1433207 non-null  float64\n",
      " 5   irregular_cash      1466155 non-null  float64\n",
      " 6   total_cash          1466589 non-null  float64\n",
      " 7   retirement          1466589 non-null  float64\n",
      " 8   health              1447602 non-null  float64\n",
      " 9   other_benefits      830557 non-null   float64\n",
      " 10  total_benefits      1466589 non-null  float64\n",
      " 11  total_compensation  1466589 non-null  float64\n",
      " 12  city_id             1466589 non-null  int64  \n",
      " 13  annual_average_cpi  1466589 non-null  float64\n",
      " 14  inflation_rate      1466589 non-null  float64\n",
      "dtypes: float64(11), int64(2), object(2)\n",
      "memory usage: 167.8+ MB\n"
     ]
    }
   ],
   "source": [
    "df2.info()"
   ]
  },
  {
   "cell_type": "code",
   "execution_count": 44,
   "id": "72e93841-76dd-46b3-9557-e29f6d0e0a01",
   "metadata": {
    "tags": []
   },
   "outputs": [],
   "source": [
    "#df2.to_csv('compensation_cpi.csv')"
   ]
  },
  {
   "cell_type": "code",
   "execution_count": 50,
   "id": "451035e6-396d-4ce3-a12d-6e82f6262882",
   "metadata": {
    "tags": []
   },
   "outputs": [],
   "source": [
    "#df.to_csv('compensation_cpi.csv.gz', index=False, compression='gzip')"
   ]
  },
  {
   "cell_type": "code",
   "execution_count": 45,
   "id": "2ff47a45-0946-440f-adac-492fa4bdde56",
   "metadata": {
    "tags": []
   },
   "outputs": [],
   "source": [
    "#conn.close()"
   ]
  },
  {
   "cell_type": "markdown",
   "id": "d4698359-2582-4a64-a444-f730da6d4b08",
   "metadata": {},
   "source": [
    "# EDA"
   ]
  },
  {
   "cell_type": "code",
   "execution_count": 46,
   "id": "646aecf1-8347-4b14-a8cf-45390cd9fe6e",
   "metadata": {
    "tags": []
   },
   "outputs": [
    {
     "data": {
      "text/plain": [
       "27904"
      ]
     },
     "execution_count": 46,
     "metadata": {},
     "output_type": "execute_result"
    }
   ],
   "source": [
    "#Count the number of duplicates\n",
    "num_duplicates = df2.duplicated().sum()\n",
    "\n",
    "num_duplicates"
   ]
  },
  {
   "cell_type": "code",
   "execution_count": 47,
   "id": "0ed2934b-a558-41d4-b354-d3a4774ac497",
   "metadata": {
    "tags": []
   },
   "outputs": [
    {
     "name": "stdout",
     "output_type": "stream",
     "text": [
      "Number of Rows: 1466589\n",
      "Number of Columns: 15 \n",
      "\n"
     ]
    },
    {
     "data": {
      "text/html": [
       "<div>\n",
       "<style scoped>\n",
       "    .dataframe tbody tr th:only-of-type {\n",
       "        vertical-align: middle;\n",
       "    }\n",
       "\n",
       "    .dataframe tbody tr th {\n",
       "        vertical-align: top;\n",
       "    }\n",
       "\n",
       "    .dataframe thead th {\n",
       "        text-align: right;\n",
       "    }\n",
       "</style>\n",
       "<table border=\"1\" class=\"dataframe\">\n",
       "  <thead>\n",
       "    <tr style=\"text-align: right;\">\n",
       "      <th></th>\n",
       "      <th>Column/Variable</th>\n",
       "      <th>Data Type</th>\n",
       "      <th># of Nulls</th>\n",
       "    </tr>\n",
       "  </thead>\n",
       "  <tbody>\n",
       "    <tr>\n",
       "      <th>0</th>\n",
       "      <td>year</td>\n",
       "      <td>int64</td>\n",
       "      <td>0</td>\n",
       "    </tr>\n",
       "    <tr>\n",
       "      <th>1</th>\n",
       "      <td>department</td>\n",
       "      <td>object</td>\n",
       "      <td>0</td>\n",
       "    </tr>\n",
       "    <tr>\n",
       "      <th>2</th>\n",
       "      <td>job_title</td>\n",
       "      <td>object</td>\n",
       "      <td>0</td>\n",
       "    </tr>\n",
       "    <tr>\n",
       "      <th>3</th>\n",
       "      <td>base_salary</td>\n",
       "      <td>float64</td>\n",
       "      <td>699</td>\n",
       "    </tr>\n",
       "    <tr>\n",
       "      <th>4</th>\n",
       "      <td>overtime</td>\n",
       "      <td>float64</td>\n",
       "      <td>33382</td>\n",
       "    </tr>\n",
       "    <tr>\n",
       "      <th>5</th>\n",
       "      <td>irregular_cash</td>\n",
       "      <td>float64</td>\n",
       "      <td>434</td>\n",
       "    </tr>\n",
       "    <tr>\n",
       "      <th>6</th>\n",
       "      <td>total_cash</td>\n",
       "      <td>float64</td>\n",
       "      <td>0</td>\n",
       "    </tr>\n",
       "    <tr>\n",
       "      <th>7</th>\n",
       "      <td>retirement</td>\n",
       "      <td>float64</td>\n",
       "      <td>0</td>\n",
       "    </tr>\n",
       "    <tr>\n",
       "      <th>8</th>\n",
       "      <td>health</td>\n",
       "      <td>float64</td>\n",
       "      <td>18987</td>\n",
       "    </tr>\n",
       "    <tr>\n",
       "      <th>9</th>\n",
       "      <td>other_benefits</td>\n",
       "      <td>float64</td>\n",
       "      <td>636032</td>\n",
       "    </tr>\n",
       "    <tr>\n",
       "      <th>10</th>\n",
       "      <td>total_benefits</td>\n",
       "      <td>float64</td>\n",
       "      <td>0</td>\n",
       "    </tr>\n",
       "    <tr>\n",
       "      <th>11</th>\n",
       "      <td>total_compensation</td>\n",
       "      <td>float64</td>\n",
       "      <td>0</td>\n",
       "    </tr>\n",
       "    <tr>\n",
       "      <th>12</th>\n",
       "      <td>city_id</td>\n",
       "      <td>int64</td>\n",
       "      <td>0</td>\n",
       "    </tr>\n",
       "    <tr>\n",
       "      <th>13</th>\n",
       "      <td>annual_average_cpi</td>\n",
       "      <td>float64</td>\n",
       "      <td>0</td>\n",
       "    </tr>\n",
       "    <tr>\n",
       "      <th>14</th>\n",
       "      <td>inflation_rate</td>\n",
       "      <td>float64</td>\n",
       "      <td>0</td>\n",
       "    </tr>\n",
       "  </tbody>\n",
       "</table>\n",
       "</div>"
      ],
      "text/plain": [
       "       Column/Variable Data Type  # of Nulls\n",
       "0                 year     int64           0\n",
       "1           department    object           0\n",
       "2            job_title    object           0\n",
       "3          base_salary   float64         699\n",
       "4             overtime   float64       33382\n",
       "5       irregular_cash   float64         434\n",
       "6           total_cash   float64           0\n",
       "7           retirement   float64           0\n",
       "8               health   float64       18987\n",
       "9       other_benefits   float64      636032\n",
       "10      total_benefits   float64           0\n",
       "11  total_compensation   float64           0\n",
       "12             city_id     int64           0\n",
       "13  annual_average_cpi   float64           0\n",
       "14      inflation_rate   float64           0"
      ]
     },
     "execution_count": 47,
     "metadata": {},
     "output_type": "execute_result"
    }
   ],
   "source": [
    "# get number of rows and columns\n",
    "print('Number of Rows:', df2.shape[0])\n",
    "print('Number of Columns:', df2.shape[1], '\\n')\n",
    "\n",
    "# inspect datatypes and nulls\n",
    "data_types = df2.dtypes\n",
    "data_types = pd.DataFrame(data_types)\n",
    "data_types = data_types.assign(Null_Values = \n",
    "                               df2.isnull().sum())\n",
    "data_types.reset_index(inplace = True)\n",
    "data_types.rename(columns={0:'Data Type',\n",
    "                          'index': 'Column/Variable',\n",
    "                          'Null_Values': \"# of Nulls\"})"
   ]
  },
  {
   "cell_type": "code",
   "execution_count": 48,
   "id": "b7cac927-f78d-44ed-a148-24f901dd3833",
   "metadata": {
    "tags": []
   },
   "outputs": [
    {
     "data": {
      "text/plain": [
       "array([3, 2, 1])"
      ]
     },
     "execution_count": 48,
     "metadata": {},
     "output_type": "execute_result"
    }
   ],
   "source": [
    "df2['city_id'].unique()"
   ]
  },
  {
   "cell_type": "code",
   "execution_count": 51,
   "id": "89e00db7-8653-4c39-9e8e-927e99518c9e",
   "metadata": {
    "tags": []
   },
   "outputs": [],
   "source": [
    "# row = df2[df2['city_id'] == 1]\n",
    "# row"
   ]
  },
  {
   "cell_type": "code",
   "execution_count": 48,
   "id": "d90fe8a6-e4d9-4373-9f20-cb30720abb39",
   "metadata": {
    "tags": []
   },
   "outputs": [
    {
     "name": "stdout",
     "output_type": "stream",
     "text": [
      "<class 'pandas.core.frame.DataFrame'>\n",
      "Int64Index: 0 entries\n",
      "Data columns (total 15 columns):\n",
      " #   Column              Non-Null Count  Dtype  \n",
      "---  ------              --------------  -----  \n",
      " 0   year                0 non-null      int64  \n",
      " 1   department          0 non-null      object \n",
      " 2   job_title           0 non-null      object \n",
      " 3   base_salary         0 non-null      float64\n",
      " 4   overtime            0 non-null      float64\n",
      " 5   irregular_cash      0 non-null      float64\n",
      " 6   total_cash          0 non-null      float64\n",
      " 7   retirement          0 non-null      float64\n",
      " 8   health              0 non-null      float64\n",
      " 9   other_benefits      0 non-null      float64\n",
      " 10  total_benefits      0 non-null      float64\n",
      " 11  total_compensation  0 non-null      float64\n",
      " 12  city_id             0 non-null      int64  \n",
      " 13  annual_average_cpi  0 non-null      float64\n",
      " 14  inflation_rate      0 non-null      float64\n",
      "dtypes: float64(11), int64(2), object(2)\n",
      "memory usage: 0.0+ bytes\n"
     ]
    }
   ],
   "source": [
    "df2[df2['city_id'].isnull()].info()"
   ]
  },
  {
   "cell_type": "code",
   "execution_count": 51,
   "id": "2daa03a8-53df-4dd4-9d5e-5dce7e282f54",
   "metadata": {
    "tags": []
   },
   "outputs": [
    {
     "name": "stdout",
     "output_type": "stream",
     "text": [
      "<class 'pandas.core.frame.DataFrame'>\n",
      "RangeIndex: 1466589 entries, 0 to 1466588\n",
      "Data columns (total 15 columns):\n",
      " #   Column              Non-Null Count    Dtype  \n",
      "---  ------              --------------    -----  \n",
      " 0   year                1466589 non-null  int64  \n",
      " 1   department          1466589 non-null  object \n",
      " 2   job_title           1466589 non-null  object \n",
      " 3   base_salary         1465890 non-null  float64\n",
      " 4   overtime            1433207 non-null  float64\n",
      " 5   irregular_cash      1466155 non-null  float64\n",
      " 6   total_cash          1466589 non-null  float64\n",
      " 7   retirement          1466589 non-null  float64\n",
      " 8   health              1447602 non-null  float64\n",
      " 9   other_benefits      830557 non-null   float64\n",
      " 10  total_benefits      1466589 non-null  float64\n",
      " 11  total_compensation  1466589 non-null  float64\n",
      " 12  city_id             1466589 non-null  int64  \n",
      " 13  annual_average_cpi  1466589 non-null  float64\n",
      " 14  inflation_rate      1466589 non-null  float64\n",
      "dtypes: float64(11), int64(2), object(2)\n",
      "memory usage: 167.8+ MB\n"
     ]
    }
   ],
   "source": [
    "df2.info()"
   ]
  },
  {
   "cell_type": "code",
   "execution_count": 52,
   "id": "5c28839a-2c48-45f8-beee-323c80206f06",
   "metadata": {
    "tags": []
   },
   "outputs": [
    {
     "data": {
      "text/plain": [
       "array([2015, 2013, 2017, 2016, 2020, 2019, 2018, 2014, 2021])"
      ]
     },
     "execution_count": 52,
     "metadata": {},
     "output_type": "execute_result"
    }
   ],
   "source": [
    "df2['year'].unique()"
   ]
  },
  {
   "cell_type": "code",
   "execution_count": 53,
   "id": "7fa75a30-e8c0-45a3-839f-6adef315a502",
   "metadata": {
    "tags": []
   },
   "outputs": [],
   "source": [
    "# %%html\n",
    "\n",
    "# <p><b>Shutting down your kernel for this notebook to release resources.</b></p>\n",
    "# <button class=\"sm-command-button\" data-commandlinker-command=\"kernelmenu:shutdown\" style=\"display:none;\">Shutdown Kernel</button>\n",
    "        \n",
    "# <script>\n",
    "# try {\n",
    "#     els = document.getElementsByClassName(\"sm-command-button\");\n",
    "#     els[0].click();\n",
    "# }\n",
    "# catch(err) {\n",
    "#     // NoOp\n",
    "# }    \n",
    "# </script>"
   ]
  },
  {
   "cell_type": "code",
   "execution_count": null,
   "id": "3f6ff09f-a33d-498d-bb82-e175984be993",
   "metadata": {},
   "outputs": [],
   "source": []
  },
  {
   "cell_type": "code",
   "execution_count": 54,
   "id": "d250436f-d25c-49ac-94cf-be591b3ef620",
   "metadata": {},
   "outputs": [],
   "source": [
    "# %%javascript\n",
    "\n",
    "# try {\n",
    "#     Jupyter.notebook.save_checkpoint();\n",
    "#     Jupyter.notebook.session.delete();\n",
    "# }\n",
    "# catch(err) {\n",
    "#     // NoOp\n",
    "# }"
   ]
  },
  {
   "cell_type": "code",
   "execution_count": null,
   "id": "609a078b-b99b-40ae-a9e7-52b9665a69a8",
   "metadata": {},
   "outputs": [],
   "source": []
  }
 ],
 "metadata": {
  "availableInstances": [
   {
    "_defaultOrder": 0,
    "_isFastLaunch": true,
    "category": "General purpose",
    "gpuNum": 0,
    "hideHardwareSpecs": false,
    "memoryGiB": 4,
    "name": "ml.t3.medium",
    "vcpuNum": 2
   },
   {
    "_defaultOrder": 1,
    "_isFastLaunch": false,
    "category": "General purpose",
    "gpuNum": 0,
    "hideHardwareSpecs": false,
    "memoryGiB": 8,
    "name": "ml.t3.large",
    "vcpuNum": 2
   },
   {
    "_defaultOrder": 2,
    "_isFastLaunch": false,
    "category": "General purpose",
    "gpuNum": 0,
    "hideHardwareSpecs": false,
    "memoryGiB": 16,
    "name": "ml.t3.xlarge",
    "vcpuNum": 4
   },
   {
    "_defaultOrder": 3,
    "_isFastLaunch": false,
    "category": "General purpose",
    "gpuNum": 0,
    "hideHardwareSpecs": false,
    "memoryGiB": 32,
    "name": "ml.t3.2xlarge",
    "vcpuNum": 8
   },
   {
    "_defaultOrder": 4,
    "_isFastLaunch": true,
    "category": "General purpose",
    "gpuNum": 0,
    "hideHardwareSpecs": false,
    "memoryGiB": 8,
    "name": "ml.m5.large",
    "vcpuNum": 2
   },
   {
    "_defaultOrder": 5,
    "_isFastLaunch": false,
    "category": "General purpose",
    "gpuNum": 0,
    "hideHardwareSpecs": false,
    "memoryGiB": 16,
    "name": "ml.m5.xlarge",
    "vcpuNum": 4
   },
   {
    "_defaultOrder": 6,
    "_isFastLaunch": false,
    "category": "General purpose",
    "gpuNum": 0,
    "hideHardwareSpecs": false,
    "memoryGiB": 32,
    "name": "ml.m5.2xlarge",
    "vcpuNum": 8
   },
   {
    "_defaultOrder": 7,
    "_isFastLaunch": false,
    "category": "General purpose",
    "gpuNum": 0,
    "hideHardwareSpecs": false,
    "memoryGiB": 64,
    "name": "ml.m5.4xlarge",
    "vcpuNum": 16
   },
   {
    "_defaultOrder": 8,
    "_isFastLaunch": false,
    "category": "General purpose",
    "gpuNum": 0,
    "hideHardwareSpecs": false,
    "memoryGiB": 128,
    "name": "ml.m5.8xlarge",
    "vcpuNum": 32
   },
   {
    "_defaultOrder": 9,
    "_isFastLaunch": false,
    "category": "General purpose",
    "gpuNum": 0,
    "hideHardwareSpecs": false,
    "memoryGiB": 192,
    "name": "ml.m5.12xlarge",
    "vcpuNum": 48
   },
   {
    "_defaultOrder": 10,
    "_isFastLaunch": false,
    "category": "General purpose",
    "gpuNum": 0,
    "hideHardwareSpecs": false,
    "memoryGiB": 256,
    "name": "ml.m5.16xlarge",
    "vcpuNum": 64
   },
   {
    "_defaultOrder": 11,
    "_isFastLaunch": false,
    "category": "General purpose",
    "gpuNum": 0,
    "hideHardwareSpecs": false,
    "memoryGiB": 384,
    "name": "ml.m5.24xlarge",
    "vcpuNum": 96
   },
   {
    "_defaultOrder": 12,
    "_isFastLaunch": false,
    "category": "General purpose",
    "gpuNum": 0,
    "hideHardwareSpecs": false,
    "memoryGiB": 8,
    "name": "ml.m5d.large",
    "vcpuNum": 2
   },
   {
    "_defaultOrder": 13,
    "_isFastLaunch": false,
    "category": "General purpose",
    "gpuNum": 0,
    "hideHardwareSpecs": false,
    "memoryGiB": 16,
    "name": "ml.m5d.xlarge",
    "vcpuNum": 4
   },
   {
    "_defaultOrder": 14,
    "_isFastLaunch": false,
    "category": "General purpose",
    "gpuNum": 0,
    "hideHardwareSpecs": false,
    "memoryGiB": 32,
    "name": "ml.m5d.2xlarge",
    "vcpuNum": 8
   },
   {
    "_defaultOrder": 15,
    "_isFastLaunch": false,
    "category": "General purpose",
    "gpuNum": 0,
    "hideHardwareSpecs": false,
    "memoryGiB": 64,
    "name": "ml.m5d.4xlarge",
    "vcpuNum": 16
   },
   {
    "_defaultOrder": 16,
    "_isFastLaunch": false,
    "category": "General purpose",
    "gpuNum": 0,
    "hideHardwareSpecs": false,
    "memoryGiB": 128,
    "name": "ml.m5d.8xlarge",
    "vcpuNum": 32
   },
   {
    "_defaultOrder": 17,
    "_isFastLaunch": false,
    "category": "General purpose",
    "gpuNum": 0,
    "hideHardwareSpecs": false,
    "memoryGiB": 192,
    "name": "ml.m5d.12xlarge",
    "vcpuNum": 48
   },
   {
    "_defaultOrder": 18,
    "_isFastLaunch": false,
    "category": "General purpose",
    "gpuNum": 0,
    "hideHardwareSpecs": false,
    "memoryGiB": 256,
    "name": "ml.m5d.16xlarge",
    "vcpuNum": 64
   },
   {
    "_defaultOrder": 19,
    "_isFastLaunch": false,
    "category": "General purpose",
    "gpuNum": 0,
    "hideHardwareSpecs": false,
    "memoryGiB": 384,
    "name": "ml.m5d.24xlarge",
    "vcpuNum": 96
   },
   {
    "_defaultOrder": 20,
    "_isFastLaunch": false,
    "category": "General purpose",
    "gpuNum": 0,
    "hideHardwareSpecs": true,
    "memoryGiB": 0,
    "name": "ml.geospatial.interactive",
    "supportedImageNames": [
     "sagemaker-geospatial-v1-0"
    ],
    "vcpuNum": 0
   },
   {
    "_defaultOrder": 21,
    "_isFastLaunch": true,
    "category": "Compute optimized",
    "gpuNum": 0,
    "hideHardwareSpecs": false,
    "memoryGiB": 4,
    "name": "ml.c5.large",
    "vcpuNum": 2
   },
   {
    "_defaultOrder": 22,
    "_isFastLaunch": false,
    "category": "Compute optimized",
    "gpuNum": 0,
    "hideHardwareSpecs": false,
    "memoryGiB": 8,
    "name": "ml.c5.xlarge",
    "vcpuNum": 4
   },
   {
    "_defaultOrder": 23,
    "_isFastLaunch": false,
    "category": "Compute optimized",
    "gpuNum": 0,
    "hideHardwareSpecs": false,
    "memoryGiB": 16,
    "name": "ml.c5.2xlarge",
    "vcpuNum": 8
   },
   {
    "_defaultOrder": 24,
    "_isFastLaunch": false,
    "category": "Compute optimized",
    "gpuNum": 0,
    "hideHardwareSpecs": false,
    "memoryGiB": 32,
    "name": "ml.c5.4xlarge",
    "vcpuNum": 16
   },
   {
    "_defaultOrder": 25,
    "_isFastLaunch": false,
    "category": "Compute optimized",
    "gpuNum": 0,
    "hideHardwareSpecs": false,
    "memoryGiB": 72,
    "name": "ml.c5.9xlarge",
    "vcpuNum": 36
   },
   {
    "_defaultOrder": 26,
    "_isFastLaunch": false,
    "category": "Compute optimized",
    "gpuNum": 0,
    "hideHardwareSpecs": false,
    "memoryGiB": 96,
    "name": "ml.c5.12xlarge",
    "vcpuNum": 48
   },
   {
    "_defaultOrder": 27,
    "_isFastLaunch": false,
    "category": "Compute optimized",
    "gpuNum": 0,
    "hideHardwareSpecs": false,
    "memoryGiB": 144,
    "name": "ml.c5.18xlarge",
    "vcpuNum": 72
   },
   {
    "_defaultOrder": 28,
    "_isFastLaunch": false,
    "category": "Compute optimized",
    "gpuNum": 0,
    "hideHardwareSpecs": false,
    "memoryGiB": 192,
    "name": "ml.c5.24xlarge",
    "vcpuNum": 96
   },
   {
    "_defaultOrder": 29,
    "_isFastLaunch": true,
    "category": "Accelerated computing",
    "gpuNum": 1,
    "hideHardwareSpecs": false,
    "memoryGiB": 16,
    "name": "ml.g4dn.xlarge",
    "vcpuNum": 4
   },
   {
    "_defaultOrder": 30,
    "_isFastLaunch": false,
    "category": "Accelerated computing",
    "gpuNum": 1,
    "hideHardwareSpecs": false,
    "memoryGiB": 32,
    "name": "ml.g4dn.2xlarge",
    "vcpuNum": 8
   },
   {
    "_defaultOrder": 31,
    "_isFastLaunch": false,
    "category": "Accelerated computing",
    "gpuNum": 1,
    "hideHardwareSpecs": false,
    "memoryGiB": 64,
    "name": "ml.g4dn.4xlarge",
    "vcpuNum": 16
   },
   {
    "_defaultOrder": 32,
    "_isFastLaunch": false,
    "category": "Accelerated computing",
    "gpuNum": 1,
    "hideHardwareSpecs": false,
    "memoryGiB": 128,
    "name": "ml.g4dn.8xlarge",
    "vcpuNum": 32
   },
   {
    "_defaultOrder": 33,
    "_isFastLaunch": false,
    "category": "Accelerated computing",
    "gpuNum": 4,
    "hideHardwareSpecs": false,
    "memoryGiB": 192,
    "name": "ml.g4dn.12xlarge",
    "vcpuNum": 48
   },
   {
    "_defaultOrder": 34,
    "_isFastLaunch": false,
    "category": "Accelerated computing",
    "gpuNum": 1,
    "hideHardwareSpecs": false,
    "memoryGiB": 256,
    "name": "ml.g4dn.16xlarge",
    "vcpuNum": 64
   },
   {
    "_defaultOrder": 35,
    "_isFastLaunch": false,
    "category": "Accelerated computing",
    "gpuNum": 1,
    "hideHardwareSpecs": false,
    "memoryGiB": 61,
    "name": "ml.p3.2xlarge",
    "vcpuNum": 8
   },
   {
    "_defaultOrder": 36,
    "_isFastLaunch": false,
    "category": "Accelerated computing",
    "gpuNum": 4,
    "hideHardwareSpecs": false,
    "memoryGiB": 244,
    "name": "ml.p3.8xlarge",
    "vcpuNum": 32
   },
   {
    "_defaultOrder": 37,
    "_isFastLaunch": false,
    "category": "Accelerated computing",
    "gpuNum": 8,
    "hideHardwareSpecs": false,
    "memoryGiB": 488,
    "name": "ml.p3.16xlarge",
    "vcpuNum": 64
   },
   {
    "_defaultOrder": 38,
    "_isFastLaunch": false,
    "category": "Accelerated computing",
    "gpuNum": 8,
    "hideHardwareSpecs": false,
    "memoryGiB": 768,
    "name": "ml.p3dn.24xlarge",
    "vcpuNum": 96
   },
   {
    "_defaultOrder": 39,
    "_isFastLaunch": false,
    "category": "Memory Optimized",
    "gpuNum": 0,
    "hideHardwareSpecs": false,
    "memoryGiB": 16,
    "name": "ml.r5.large",
    "vcpuNum": 2
   },
   {
    "_defaultOrder": 40,
    "_isFastLaunch": false,
    "category": "Memory Optimized",
    "gpuNum": 0,
    "hideHardwareSpecs": false,
    "memoryGiB": 32,
    "name": "ml.r5.xlarge",
    "vcpuNum": 4
   },
   {
    "_defaultOrder": 41,
    "_isFastLaunch": false,
    "category": "Memory Optimized",
    "gpuNum": 0,
    "hideHardwareSpecs": false,
    "memoryGiB": 64,
    "name": "ml.r5.2xlarge",
    "vcpuNum": 8
   },
   {
    "_defaultOrder": 42,
    "_isFastLaunch": false,
    "category": "Memory Optimized",
    "gpuNum": 0,
    "hideHardwareSpecs": false,
    "memoryGiB": 128,
    "name": "ml.r5.4xlarge",
    "vcpuNum": 16
   },
   {
    "_defaultOrder": 43,
    "_isFastLaunch": false,
    "category": "Memory Optimized",
    "gpuNum": 0,
    "hideHardwareSpecs": false,
    "memoryGiB": 256,
    "name": "ml.r5.8xlarge",
    "vcpuNum": 32
   },
   {
    "_defaultOrder": 44,
    "_isFastLaunch": false,
    "category": "Memory Optimized",
    "gpuNum": 0,
    "hideHardwareSpecs": false,
    "memoryGiB": 384,
    "name": "ml.r5.12xlarge",
    "vcpuNum": 48
   },
   {
    "_defaultOrder": 45,
    "_isFastLaunch": false,
    "category": "Memory Optimized",
    "gpuNum": 0,
    "hideHardwareSpecs": false,
    "memoryGiB": 512,
    "name": "ml.r5.16xlarge",
    "vcpuNum": 64
   },
   {
    "_defaultOrder": 46,
    "_isFastLaunch": false,
    "category": "Memory Optimized",
    "gpuNum": 0,
    "hideHardwareSpecs": false,
    "memoryGiB": 768,
    "name": "ml.r5.24xlarge",
    "vcpuNum": 96
   },
   {
    "_defaultOrder": 47,
    "_isFastLaunch": false,
    "category": "Accelerated computing",
    "gpuNum": 1,
    "hideHardwareSpecs": false,
    "memoryGiB": 16,
    "name": "ml.g5.xlarge",
    "vcpuNum": 4
   },
   {
    "_defaultOrder": 48,
    "_isFastLaunch": false,
    "category": "Accelerated computing",
    "gpuNum": 1,
    "hideHardwareSpecs": false,
    "memoryGiB": 32,
    "name": "ml.g5.2xlarge",
    "vcpuNum": 8
   },
   {
    "_defaultOrder": 49,
    "_isFastLaunch": false,
    "category": "Accelerated computing",
    "gpuNum": 1,
    "hideHardwareSpecs": false,
    "memoryGiB": 64,
    "name": "ml.g5.4xlarge",
    "vcpuNum": 16
   },
   {
    "_defaultOrder": 50,
    "_isFastLaunch": false,
    "category": "Accelerated computing",
    "gpuNum": 1,
    "hideHardwareSpecs": false,
    "memoryGiB": 128,
    "name": "ml.g5.8xlarge",
    "vcpuNum": 32
   },
   {
    "_defaultOrder": 51,
    "_isFastLaunch": false,
    "category": "Accelerated computing",
    "gpuNum": 1,
    "hideHardwareSpecs": false,
    "memoryGiB": 256,
    "name": "ml.g5.16xlarge",
    "vcpuNum": 64
   },
   {
    "_defaultOrder": 52,
    "_isFastLaunch": false,
    "category": "Accelerated computing",
    "gpuNum": 4,
    "hideHardwareSpecs": false,
    "memoryGiB": 192,
    "name": "ml.g5.12xlarge",
    "vcpuNum": 48
   },
   {
    "_defaultOrder": 53,
    "_isFastLaunch": false,
    "category": "Accelerated computing",
    "gpuNum": 4,
    "hideHardwareSpecs": false,
    "memoryGiB": 384,
    "name": "ml.g5.24xlarge",
    "vcpuNum": 96
   },
   {
    "_defaultOrder": 54,
    "_isFastLaunch": false,
    "category": "Accelerated computing",
    "gpuNum": 8,
    "hideHardwareSpecs": false,
    "memoryGiB": 768,
    "name": "ml.g5.48xlarge",
    "vcpuNum": 192
   }
  ],
  "instance_type": "ml.t3.medium",
  "kernelspec": {
   "display_name": "Python 3 (ipykernel)",
   "language": "python",
   "name": "python3"
  },
  "language_info": {
   "codemirror_mode": {
    "name": "ipython",
    "version": 3
   },
   "file_extension": ".py",
   "mimetype": "text/x-python",
   "name": "python",
   "nbconvert_exporter": "python",
   "pygments_lexer": "ipython3",
   "version": "3.9.7"
  }
 },
 "nbformat": 4,
 "nbformat_minor": 5
}

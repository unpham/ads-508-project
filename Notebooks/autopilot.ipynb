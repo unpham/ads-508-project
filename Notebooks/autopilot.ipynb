{
 "cells": [
  {
   "cell_type": "code",
   "execution_count": 46,
   "id": "b6285397-b4c7-4cb1-89a1-fa34cff46599",
   "metadata": {
    "tags": []
   },
   "outputs": [],
   "source": [
    "import numpy as np\n",
    "import pandas as pd\n",
    "import sqlite3 as sq\n",
    "import matplotlib.pyplot as plt\n",
    "import seaborn as sns\n",
    "import gzip\n",
    "from sklearn.model_selection import train_test_split\n",
    "import warnings\n",
    "warnings.filterwarnings('ignore')"
   ]
  },
  {
   "cell_type": "markdown",
   "id": "5c503acf-6033-4b3d-9e02-9552b0341096",
   "metadata": {
    "tags": []
   },
   "source": [
    "## Cleanning data before applying autopilot"
   ]
  },
  {
   "cell_type": "code",
   "execution_count": null,
   "id": "cbecab50-e4c7-4a83-b727-ef52cec48398",
   "metadata": {
    "tags": []
   },
   "outputs": [
    {
     "data": {
      "text/html": [
       "<div>\n",
       "<style scoped>\n",
       "    .dataframe tbody tr th:only-of-type {\n",
       "        vertical-align: middle;\n",
       "    }\n",
       "\n",
       "    .dataframe tbody tr th {\n",
       "        vertical-align: top;\n",
       "    }\n",
       "\n",
       "    .dataframe thead th {\n",
       "        text-align: right;\n",
       "    }\n",
       "</style>\n",
       "<table border=\"1\" class=\"dataframe\">\n",
       "  <thead>\n",
       "    <tr style=\"text-align: right;\">\n",
       "      <th></th>\n",
       "      <th>year</th>\n",
       "      <th>department</th>\n",
       "      <th>base_salary</th>\n",
       "      <th>overtime</th>\n",
       "      <th>irregular_cash</th>\n",
       "      <th>total_benefits</th>\n",
       "      <th>city_id</th>\n",
       "      <th>annual_average_cpi</th>\n",
       "    </tr>\n",
       "  </thead>\n",
       "  <tbody>\n",
       "    <tr>\n",
       "      <th>0</th>\n",
       "      <td>2020</td>\n",
       "      <td>Parks</td>\n",
       "      <td>5257.50</td>\n",
       "      <td>0.00</td>\n",
       "      <td>139.32</td>\n",
       "      <td>418.88</td>\n",
       "      <td>2</td>\n",
       "      <td>258.8</td>\n",
       "    </tr>\n",
       "    <tr>\n",
       "      <th>1</th>\n",
       "      <td>2020</td>\n",
       "      <td>City Mgmt</td>\n",
       "      <td>7699.19</td>\n",
       "      <td>1916.90</td>\n",
       "      <td>0.00</td>\n",
       "      <td>746.36</td>\n",
       "      <td>2</td>\n",
       "      <td>258.8</td>\n",
       "    </tr>\n",
       "    <tr>\n",
       "      <th>2</th>\n",
       "      <td>2020</td>\n",
       "      <td>City Mgmt</td>\n",
       "      <td>2619.15</td>\n",
       "      <td>930.50</td>\n",
       "      <td>0.00</td>\n",
       "      <td>275.51</td>\n",
       "      <td>2</td>\n",
       "      <td>258.8</td>\n",
       "    </tr>\n",
       "    <tr>\n",
       "      <th>3</th>\n",
       "      <td>2020</td>\n",
       "      <td>City Mgmt</td>\n",
       "      <td>1870.62</td>\n",
       "      <td>591.22</td>\n",
       "      <td>0.00</td>\n",
       "      <td>191.07</td>\n",
       "      <td>2</td>\n",
       "      <td>258.8</td>\n",
       "    </tr>\n",
       "    <tr>\n",
       "      <th>4</th>\n",
       "      <td>2020</td>\n",
       "      <td>Public Works</td>\n",
       "      <td>158812.14</td>\n",
       "      <td>0.00</td>\n",
       "      <td>5676.94</td>\n",
       "      <td>60283.48</td>\n",
       "      <td>2</td>\n",
       "      <td>258.8</td>\n",
       "    </tr>\n",
       "  </tbody>\n",
       "</table>\n",
       "</div>"
      ],
      "text/plain": [
       "   year    department  base_salary  overtime  irregular_cash  total_benefits  \\\n",
       "0  2020         Parks      5257.50      0.00          139.32          418.88   \n",
       "1  2020     City Mgmt      7699.19   1916.90            0.00          746.36   \n",
       "2  2020     City Mgmt      2619.15    930.50            0.00          275.51   \n",
       "3  2020     City Mgmt      1870.62    591.22            0.00          191.07   \n",
       "4  2020  Public Works    158812.14      0.00         5676.94        60283.48   \n",
       "\n",
       "   city_id  annual_average_cpi  \n",
       "0        2               258.8  \n",
       "1        2               258.8  \n",
       "2        2               258.8  \n",
       "3        2               258.8  \n",
       "4        2               258.8  "
      ]
     },
     "execution_count": 54,
     "metadata": {},
     "output_type": "execute_result"
    }
   ],
   "source": [
    "with gzip.open('df_final.csv.gz', 'rb') as f:\n",
    "    df4= pd.read_csv(f)\n",
    "df4.head()"
   ]
  },
  {
   "cell_type": "markdown",
   "id": "cc0a37ea-d855-4028-9a0c-3f6a0212aa2d",
   "metadata": {
    "tags": []
   },
   "source": [
    "## Feature engineering"
   ]
  },
  {
   "cell_type": "code",
   "execution_count": 55,
   "id": "80ab43e1-1c28-4a9d-9d89-ef7784a17728",
   "metadata": {
    "tags": []
   },
   "outputs": [
    {
     "data": {
      "text/html": [
       "<div>\n",
       "<style scoped>\n",
       "    .dataframe tbody tr th:only-of-type {\n",
       "        vertical-align: middle;\n",
       "    }\n",
       "\n",
       "    .dataframe tbody tr th {\n",
       "        vertical-align: top;\n",
       "    }\n",
       "\n",
       "    .dataframe thead th {\n",
       "        text-align: right;\n",
       "    }\n",
       "</style>\n",
       "<table border=\"1\" class=\"dataframe\">\n",
       "  <thead>\n",
       "    <tr style=\"text-align: right;\">\n",
       "      <th></th>\n",
       "      <th>base_salary</th>\n",
       "      <th>overtime</th>\n",
       "      <th>irregular_cash</th>\n",
       "      <th>total_benefits</th>\n",
       "      <th>annual_average_cpi</th>\n",
       "      <th>year_2014</th>\n",
       "      <th>year_2015</th>\n",
       "      <th>year_2016</th>\n",
       "      <th>year_2017</th>\n",
       "      <th>year_2018</th>\n",
       "      <th>...</th>\n",
       "      <th>department_Human Services</th>\n",
       "      <th>department_IT</th>\n",
       "      <th>department_Law and Reg</th>\n",
       "      <th>department_Libraries, Arts, Science, Museums</th>\n",
       "      <th>department_Parks</th>\n",
       "      <th>department_Police</th>\n",
       "      <th>department_Port</th>\n",
       "      <th>department_Public Works</th>\n",
       "      <th>city_id_2</th>\n",
       "      <th>city_id_3</th>\n",
       "    </tr>\n",
       "  </thead>\n",
       "  <tbody>\n",
       "    <tr>\n",
       "      <th>0</th>\n",
       "      <td>5257.50</td>\n",
       "      <td>0.00</td>\n",
       "      <td>139.32</td>\n",
       "      <td>418.88</td>\n",
       "      <td>258.8</td>\n",
       "      <td>0</td>\n",
       "      <td>0</td>\n",
       "      <td>0</td>\n",
       "      <td>0</td>\n",
       "      <td>0</td>\n",
       "      <td>...</td>\n",
       "      <td>0</td>\n",
       "      <td>0</td>\n",
       "      <td>0</td>\n",
       "      <td>0</td>\n",
       "      <td>1</td>\n",
       "      <td>0</td>\n",
       "      <td>0</td>\n",
       "      <td>0</td>\n",
       "      <td>1</td>\n",
       "      <td>0</td>\n",
       "    </tr>\n",
       "    <tr>\n",
       "      <th>1</th>\n",
       "      <td>7699.19</td>\n",
       "      <td>1916.90</td>\n",
       "      <td>0.00</td>\n",
       "      <td>746.36</td>\n",
       "      <td>258.8</td>\n",
       "      <td>0</td>\n",
       "      <td>0</td>\n",
       "      <td>0</td>\n",
       "      <td>0</td>\n",
       "      <td>0</td>\n",
       "      <td>...</td>\n",
       "      <td>0</td>\n",
       "      <td>0</td>\n",
       "      <td>0</td>\n",
       "      <td>0</td>\n",
       "      <td>0</td>\n",
       "      <td>0</td>\n",
       "      <td>0</td>\n",
       "      <td>0</td>\n",
       "      <td>1</td>\n",
       "      <td>0</td>\n",
       "    </tr>\n",
       "    <tr>\n",
       "      <th>2</th>\n",
       "      <td>2619.15</td>\n",
       "      <td>930.50</td>\n",
       "      <td>0.00</td>\n",
       "      <td>275.51</td>\n",
       "      <td>258.8</td>\n",
       "      <td>0</td>\n",
       "      <td>0</td>\n",
       "      <td>0</td>\n",
       "      <td>0</td>\n",
       "      <td>0</td>\n",
       "      <td>...</td>\n",
       "      <td>0</td>\n",
       "      <td>0</td>\n",
       "      <td>0</td>\n",
       "      <td>0</td>\n",
       "      <td>0</td>\n",
       "      <td>0</td>\n",
       "      <td>0</td>\n",
       "      <td>0</td>\n",
       "      <td>1</td>\n",
       "      <td>0</td>\n",
       "    </tr>\n",
       "    <tr>\n",
       "      <th>3</th>\n",
       "      <td>1870.62</td>\n",
       "      <td>591.22</td>\n",
       "      <td>0.00</td>\n",
       "      <td>191.07</td>\n",
       "      <td>258.8</td>\n",
       "      <td>0</td>\n",
       "      <td>0</td>\n",
       "      <td>0</td>\n",
       "      <td>0</td>\n",
       "      <td>0</td>\n",
       "      <td>...</td>\n",
       "      <td>0</td>\n",
       "      <td>0</td>\n",
       "      <td>0</td>\n",
       "      <td>0</td>\n",
       "      <td>0</td>\n",
       "      <td>0</td>\n",
       "      <td>0</td>\n",
       "      <td>0</td>\n",
       "      <td>1</td>\n",
       "      <td>0</td>\n",
       "    </tr>\n",
       "    <tr>\n",
       "      <th>4</th>\n",
       "      <td>158812.14</td>\n",
       "      <td>0.00</td>\n",
       "      <td>5676.94</td>\n",
       "      <td>60283.48</td>\n",
       "      <td>258.8</td>\n",
       "      <td>0</td>\n",
       "      <td>0</td>\n",
       "      <td>0</td>\n",
       "      <td>0</td>\n",
       "      <td>0</td>\n",
       "      <td>...</td>\n",
       "      <td>0</td>\n",
       "      <td>0</td>\n",
       "      <td>0</td>\n",
       "      <td>0</td>\n",
       "      <td>0</td>\n",
       "      <td>0</td>\n",
       "      <td>0</td>\n",
       "      <td>1</td>\n",
       "      <td>1</td>\n",
       "      <td>0</td>\n",
       "    </tr>\n",
       "  </tbody>\n",
       "</table>\n",
       "<p>5 rows × 26 columns</p>\n",
       "</div>"
      ],
      "text/plain": [
       "   base_salary  overtime  irregular_cash  total_benefits  annual_average_cpi  \\\n",
       "0      5257.50      0.00          139.32          418.88               258.8   \n",
       "1      7699.19   1916.90            0.00          746.36               258.8   \n",
       "2      2619.15    930.50            0.00          275.51               258.8   \n",
       "3      1870.62    591.22            0.00          191.07               258.8   \n",
       "4    158812.14      0.00         5676.94        60283.48               258.8   \n",
       "\n",
       "   year_2014  year_2015  year_2016  year_2017  year_2018  ...  \\\n",
       "0          0          0          0          0          0  ...   \n",
       "1          0          0          0          0          0  ...   \n",
       "2          0          0          0          0          0  ...   \n",
       "3          0          0          0          0          0  ...   \n",
       "4          0          0          0          0          0  ...   \n",
       "\n",
       "   department_Human Services  department_IT  department_Law and Reg  \\\n",
       "0                          0              0                       0   \n",
       "1                          0              0                       0   \n",
       "2                          0              0                       0   \n",
       "3                          0              0                       0   \n",
       "4                          0              0                       0   \n",
       "\n",
       "   department_Libraries, Arts, Science, Museums  department_Parks  \\\n",
       "0                                             0                 1   \n",
       "1                                             0                 0   \n",
       "2                                             0                 0   \n",
       "3                                             0                 0   \n",
       "4                                             0                 0   \n",
       "\n",
       "   department_Police  department_Port  department_Public Works  city_id_2  \\\n",
       "0                  0                0                        0          1   \n",
       "1                  0                0                        0          1   \n",
       "2                  0                0                        0          1   \n",
       "3                  0                0                        0          1   \n",
       "4                  0                0                        1          1   \n",
       "\n",
       "   city_id_3  \n",
       "0          0  \n",
       "1          0  \n",
       "2          0  \n",
       "3          0  \n",
       "4          0  \n",
       "\n",
       "[5 rows x 26 columns]"
      ]
     },
     "execution_count": 55,
     "metadata": {},
     "output_type": "execute_result"
    }
   ],
   "source": [
    "#convert ctity_id , year to string\n",
    "df4['city_id'] = df4['city_id'].astype(str)\n",
    "df4['year'] = df4['year'].astype(str)\n",
    "# Convert categorical data to dummy values\n",
    "df4= pd.get_dummies(df4, drop_first=True) # drop first dummy column to avoid dummy variable trap\n",
    "df4.head()"
   ]
  },
  {
   "cell_type": "code",
   "execution_count": 56,
   "id": "89f4af9f-3790-4455-aaee-c5b77c8c1ef1",
   "metadata": {
    "tags": []
   },
   "outputs": [
    {
     "data": {
      "text/html": [
       "<div>\n",
       "<style scoped>\n",
       "    .dataframe tbody tr th:only-of-type {\n",
       "        vertical-align: middle;\n",
       "    }\n",
       "\n",
       "    .dataframe tbody tr th {\n",
       "        vertical-align: top;\n",
       "    }\n",
       "\n",
       "    .dataframe thead th {\n",
       "        text-align: right;\n",
       "    }\n",
       "</style>\n",
       "<table border=\"1\" class=\"dataframe\">\n",
       "  <thead>\n",
       "    <tr style=\"text-align: right;\">\n",
       "      <th></th>\n",
       "      <th>base_salary</th>\n",
       "      <th>overtime</th>\n",
       "      <th>irregular_cash</th>\n",
       "      <th>total_benefits</th>\n",
       "      <th>annual_average_cpi</th>\n",
       "      <th>year_2014</th>\n",
       "      <th>year_2015</th>\n",
       "      <th>year_2016</th>\n",
       "      <th>year_2017</th>\n",
       "      <th>year_2018</th>\n",
       "      <th>...</th>\n",
       "      <th>department_Human Services</th>\n",
       "      <th>department_IT</th>\n",
       "      <th>department_Law and Reg</th>\n",
       "      <th>department_Libraries, Arts, Science, Museums</th>\n",
       "      <th>department_Parks</th>\n",
       "      <th>department_Police</th>\n",
       "      <th>department_Port</th>\n",
       "      <th>department_Public Works</th>\n",
       "      <th>city_id_2</th>\n",
       "      <th>city_id_3</th>\n",
       "    </tr>\n",
       "  </thead>\n",
       "  <tbody>\n",
       "    <tr>\n",
       "      <th>0</th>\n",
       "      <td>5505.341963</td>\n",
       "      <td>0.000000</td>\n",
       "      <td>145.887635</td>\n",
       "      <td>438.626275</td>\n",
       "      <td>258.8</td>\n",
       "      <td>0</td>\n",
       "      <td>0</td>\n",
       "      <td>0</td>\n",
       "      <td>0</td>\n",
       "      <td>0</td>\n",
       "      <td>...</td>\n",
       "      <td>0</td>\n",
       "      <td>0</td>\n",
       "      <td>0</td>\n",
       "      <td>0</td>\n",
       "      <td>1</td>\n",
       "      <td>0</td>\n",
       "      <td>0</td>\n",
       "      <td>0</td>\n",
       "      <td>1</td>\n",
       "      <td>0</td>\n",
       "    </tr>\n",
       "    <tr>\n",
       "      <th>1</th>\n",
       "      <td>8062.134815</td>\n",
       "      <td>2007.263910</td>\n",
       "      <td>0.000000</td>\n",
       "      <td>781.543895</td>\n",
       "      <td>258.8</td>\n",
       "      <td>0</td>\n",
       "      <td>0</td>\n",
       "      <td>0</td>\n",
       "      <td>0</td>\n",
       "      <td>0</td>\n",
       "      <td>...</td>\n",
       "      <td>0</td>\n",
       "      <td>0</td>\n",
       "      <td>0</td>\n",
       "      <td>0</td>\n",
       "      <td>0</td>\n",
       "      <td>0</td>\n",
       "      <td>0</td>\n",
       "      <td>0</td>\n",
       "      <td>1</td>\n",
       "      <td>0</td>\n",
       "    </tr>\n",
       "    <tr>\n",
       "      <th>2</th>\n",
       "      <td>2742.618431</td>\n",
       "      <td>974.364374</td>\n",
       "      <td>0.000000</td>\n",
       "      <td>288.497720</td>\n",
       "      <td>258.8</td>\n",
       "      <td>0</td>\n",
       "      <td>0</td>\n",
       "      <td>0</td>\n",
       "      <td>0</td>\n",
       "      <td>0</td>\n",
       "      <td>...</td>\n",
       "      <td>0</td>\n",
       "      <td>0</td>\n",
       "      <td>0</td>\n",
       "      <td>0</td>\n",
       "      <td>0</td>\n",
       "      <td>0</td>\n",
       "      <td>0</td>\n",
       "      <td>0</td>\n",
       "      <td>1</td>\n",
       "      <td>0</td>\n",
       "    </tr>\n",
       "    <tr>\n",
       "      <th>3</th>\n",
       "      <td>1958.802241</td>\n",
       "      <td>619.090495</td>\n",
       "      <td>0.000000</td>\n",
       "      <td>200.077164</td>\n",
       "      <td>258.8</td>\n",
       "      <td>0</td>\n",
       "      <td>0</td>\n",
       "      <td>0</td>\n",
       "      <td>0</td>\n",
       "      <td>0</td>\n",
       "      <td>...</td>\n",
       "      <td>0</td>\n",
       "      <td>0</td>\n",
       "      <td>0</td>\n",
       "      <td>0</td>\n",
       "      <td>0</td>\n",
       "      <td>0</td>\n",
       "      <td>0</td>\n",
       "      <td>0</td>\n",
       "      <td>1</td>\n",
       "      <td>0</td>\n",
       "    </tr>\n",
       "    <tr>\n",
       "      <th>4</th>\n",
       "      <td>166298.647372</td>\n",
       "      <td>0.000000</td>\n",
       "      <td>5944.554637</td>\n",
       "      <td>63125.282380</td>\n",
       "      <td>258.8</td>\n",
       "      <td>0</td>\n",
       "      <td>0</td>\n",
       "      <td>0</td>\n",
       "      <td>0</td>\n",
       "      <td>0</td>\n",
       "      <td>...</td>\n",
       "      <td>0</td>\n",
       "      <td>0</td>\n",
       "      <td>0</td>\n",
       "      <td>0</td>\n",
       "      <td>0</td>\n",
       "      <td>0</td>\n",
       "      <td>0</td>\n",
       "      <td>1</td>\n",
       "      <td>1</td>\n",
       "      <td>0</td>\n",
       "    </tr>\n",
       "  </tbody>\n",
       "</table>\n",
       "<p>5 rows × 26 columns</p>\n",
       "</div>"
      ],
      "text/plain": [
       "     base_salary     overtime  irregular_cash  total_benefits  \\\n",
       "0    5505.341963     0.000000      145.887635      438.626275   \n",
       "1    8062.134815  2007.263910        0.000000      781.543895   \n",
       "2    2742.618431   974.364374        0.000000      288.497720   \n",
       "3    1958.802241   619.090495        0.000000      200.077164   \n",
       "4  166298.647372     0.000000     5944.554637    63125.282380   \n",
       "\n",
       "   annual_average_cpi  year_2014  year_2015  year_2016  year_2017  year_2018  \\\n",
       "0               258.8          0          0          0          0          0   \n",
       "1               258.8          0          0          0          0          0   \n",
       "2               258.8          0          0          0          0          0   \n",
       "3               258.8          0          0          0          0          0   \n",
       "4               258.8          0          0          0          0          0   \n",
       "\n",
       "   ...  department_Human Services  department_IT  department_Law and Reg  \\\n",
       "0  ...                          0              0                       0   \n",
       "1  ...                          0              0                       0   \n",
       "2  ...                          0              0                       0   \n",
       "3  ...                          0              0                       0   \n",
       "4  ...                          0              0                       0   \n",
       "\n",
       "   department_Libraries, Arts, Science, Museums  department_Parks  \\\n",
       "0                                             0                 1   \n",
       "1                                             0                 0   \n",
       "2                                             0                 0   \n",
       "3                                             0                 0   \n",
       "4                                             0                 0   \n",
       "\n",
       "   department_Police  department_Port  department_Public Works  city_id_2  \\\n",
       "0                  0                0                        0          1   \n",
       "1                  0                0                        0          1   \n",
       "2                  0                0                        0          1   \n",
       "3                  0                0                        0          1   \n",
       "4                  0                0                        1          1   \n",
       "\n",
       "   city_id_3  \n",
       "0          0  \n",
       "1          0  \n",
       "2          0  \n",
       "3          0  \n",
       "4          0  \n",
       "\n",
       "[5 rows x 26 columns]"
      ]
     },
     "execution_count": 56,
     "metadata": {},
     "output_type": "execute_result"
    }
   ],
   "source": [
    "#Adjusting all numbers to present-day CPI which is 2021\n",
    "max_cpi = df4['annual_average_cpi'].max()\n",
    "\n",
    "for column in ['base_salary', 'overtime', 'irregular_cash',  'total_benefits']:\n",
    "    df4[column] = df4[column] * (max_cpi / df4['annual_average_cpi'])\n",
    "df4.head()"
   ]
  },
  {
   "cell_type": "code",
   "execution_count": 2,
   "id": "8f406b53-bef4-44dc-be40-264ceaf65322",
   "metadata": {
    "tags": []
   },
   "outputs": [],
   "source": [
    "# import sagemaker\n",
    "# from sagemaker import get_execution_role\n",
    "# import pandas as pd\n",
    "# import numpy as np\n",
    "# import boto3\n",
    "# import os"
   ]
  },
  {
   "cell_type": "code",
   "execution_count": null,
   "id": "4ece7202-42ae-4c90-adc8-59c771f7da4e",
   "metadata": {},
   "outputs": [],
   "source": [
    "bucket = sess.default_bucket()\n",
    "prefix = '<your_s3_prefix>'"
   ]
  },
  {
   "cell_type": "markdown",
   "id": "37afa7c2-ff25-4b29-be42-43a7079132ac",
   "metadata": {},
   "source": [
    "# Autopilot"
   ]
  },
  {
   "cell_type": "code",
   "execution_count": 57,
   "id": "24ccd5c3-eaf6-4181-b4f2-0f040feb54ed",
   "metadata": {
    "tags": []
   },
   "outputs": [],
   "source": [
    "import boto3\n",
    "import sagemaker\n",
    "import pandas as pd\n",
    "import json"
   ]
  },
  {
   "cell_type": "code",
   "execution_count": 58,
   "id": "4cca8b26-daa8-463b-8f8e-26836d04d0c7",
   "metadata": {
    "tags": []
   },
   "outputs": [],
   "source": [
    "\n",
    "sess = sagemaker.Session()\n",
    "bucket = sess.default_bucket()\n",
    "role = sagemaker.get_execution_role()\n",
    "region = boto3.Session().region_name\n",
    "\n",
    "sm = boto3.Session().client(service_name=\"sagemaker\", region_name=region)"
   ]
  },
  {
   "cell_type": "code",
   "execution_count": 59,
   "id": "d6fb7cb4-2914-44d1-9844-96415676813e",
   "metadata": {
    "tags": []
   },
   "outputs": [
    {
     "data": {
      "text/html": [
       "<div>\n",
       "<style scoped>\n",
       "    .dataframe tbody tr th:only-of-type {\n",
       "        vertical-align: middle;\n",
       "    }\n",
       "\n",
       "    .dataframe tbody tr th {\n",
       "        vertical-align: top;\n",
       "    }\n",
       "\n",
       "    .dataframe thead th {\n",
       "        text-align: right;\n",
       "    }\n",
       "</style>\n",
       "<table border=\"1\" class=\"dataframe\">\n",
       "  <thead>\n",
       "    <tr style=\"text-align: right;\">\n",
       "      <th></th>\n",
       "      <th>base_salary</th>\n",
       "      <th>overtime</th>\n",
       "      <th>irregular_cash</th>\n",
       "      <th>total_benefits</th>\n",
       "      <th>annual_average_cpi</th>\n",
       "      <th>year_2014</th>\n",
       "      <th>year_2015</th>\n",
       "      <th>year_2016</th>\n",
       "      <th>year_2017</th>\n",
       "      <th>year_2018</th>\n",
       "      <th>...</th>\n",
       "      <th>department_Human Services</th>\n",
       "      <th>department_IT</th>\n",
       "      <th>department_Law and Reg</th>\n",
       "      <th>department_Libraries, Arts, Science, Museums</th>\n",
       "      <th>department_Parks</th>\n",
       "      <th>department_Police</th>\n",
       "      <th>department_Port</th>\n",
       "      <th>department_Public Works</th>\n",
       "      <th>city_id_2</th>\n",
       "      <th>city_id_3</th>\n",
       "    </tr>\n",
       "  </thead>\n",
       "  <tbody>\n",
       "    <tr>\n",
       "      <th>0</th>\n",
       "      <td>5505.341963</td>\n",
       "      <td>0.000000</td>\n",
       "      <td>145.887635</td>\n",
       "      <td>438.626275</td>\n",
       "      <td>258.8</td>\n",
       "      <td>0</td>\n",
       "      <td>0</td>\n",
       "      <td>0</td>\n",
       "      <td>0</td>\n",
       "      <td>0</td>\n",
       "      <td>...</td>\n",
       "      <td>0</td>\n",
       "      <td>0</td>\n",
       "      <td>0</td>\n",
       "      <td>0</td>\n",
       "      <td>1</td>\n",
       "      <td>0</td>\n",
       "      <td>0</td>\n",
       "      <td>0</td>\n",
       "      <td>1</td>\n",
       "      <td>0</td>\n",
       "    </tr>\n",
       "    <tr>\n",
       "      <th>1</th>\n",
       "      <td>8062.134815</td>\n",
       "      <td>2007.263910</td>\n",
       "      <td>0.000000</td>\n",
       "      <td>781.543895</td>\n",
       "      <td>258.8</td>\n",
       "      <td>0</td>\n",
       "      <td>0</td>\n",
       "      <td>0</td>\n",
       "      <td>0</td>\n",
       "      <td>0</td>\n",
       "      <td>...</td>\n",
       "      <td>0</td>\n",
       "      <td>0</td>\n",
       "      <td>0</td>\n",
       "      <td>0</td>\n",
       "      <td>0</td>\n",
       "      <td>0</td>\n",
       "      <td>0</td>\n",
       "      <td>0</td>\n",
       "      <td>1</td>\n",
       "      <td>0</td>\n",
       "    </tr>\n",
       "    <tr>\n",
       "      <th>2</th>\n",
       "      <td>2742.618431</td>\n",
       "      <td>974.364374</td>\n",
       "      <td>0.000000</td>\n",
       "      <td>288.497720</td>\n",
       "      <td>258.8</td>\n",
       "      <td>0</td>\n",
       "      <td>0</td>\n",
       "      <td>0</td>\n",
       "      <td>0</td>\n",
       "      <td>0</td>\n",
       "      <td>...</td>\n",
       "      <td>0</td>\n",
       "      <td>0</td>\n",
       "      <td>0</td>\n",
       "      <td>0</td>\n",
       "      <td>0</td>\n",
       "      <td>0</td>\n",
       "      <td>0</td>\n",
       "      <td>0</td>\n",
       "      <td>1</td>\n",
       "      <td>0</td>\n",
       "    </tr>\n",
       "    <tr>\n",
       "      <th>3</th>\n",
       "      <td>1958.802241</td>\n",
       "      <td>619.090495</td>\n",
       "      <td>0.000000</td>\n",
       "      <td>200.077164</td>\n",
       "      <td>258.8</td>\n",
       "      <td>0</td>\n",
       "      <td>0</td>\n",
       "      <td>0</td>\n",
       "      <td>0</td>\n",
       "      <td>0</td>\n",
       "      <td>...</td>\n",
       "      <td>0</td>\n",
       "      <td>0</td>\n",
       "      <td>0</td>\n",
       "      <td>0</td>\n",
       "      <td>0</td>\n",
       "      <td>0</td>\n",
       "      <td>0</td>\n",
       "      <td>0</td>\n",
       "      <td>1</td>\n",
       "      <td>0</td>\n",
       "    </tr>\n",
       "    <tr>\n",
       "      <th>4</th>\n",
       "      <td>166298.647372</td>\n",
       "      <td>0.000000</td>\n",
       "      <td>5944.554637</td>\n",
       "      <td>63125.282380</td>\n",
       "      <td>258.8</td>\n",
       "      <td>0</td>\n",
       "      <td>0</td>\n",
       "      <td>0</td>\n",
       "      <td>0</td>\n",
       "      <td>0</td>\n",
       "      <td>...</td>\n",
       "      <td>0</td>\n",
       "      <td>0</td>\n",
       "      <td>0</td>\n",
       "      <td>0</td>\n",
       "      <td>0</td>\n",
       "      <td>0</td>\n",
       "      <td>0</td>\n",
       "      <td>1</td>\n",
       "      <td>1</td>\n",
       "      <td>0</td>\n",
       "    </tr>\n",
       "  </tbody>\n",
       "</table>\n",
       "<p>5 rows × 26 columns</p>\n",
       "</div>"
      ],
      "text/plain": [
       "     base_salary     overtime  irregular_cash  total_benefits  \\\n",
       "0    5505.341963     0.000000      145.887635      438.626275   \n",
       "1    8062.134815  2007.263910        0.000000      781.543895   \n",
       "2    2742.618431   974.364374        0.000000      288.497720   \n",
       "3    1958.802241   619.090495        0.000000      200.077164   \n",
       "4  166298.647372     0.000000     5944.554637    63125.282380   \n",
       "\n",
       "   annual_average_cpi  year_2014  year_2015  year_2016  year_2017  year_2018  \\\n",
       "0               258.8          0          0          0          0          0   \n",
       "1               258.8          0          0          0          0          0   \n",
       "2               258.8          0          0          0          0          0   \n",
       "3               258.8          0          0          0          0          0   \n",
       "4               258.8          0          0          0          0          0   \n",
       "\n",
       "   ...  department_Human Services  department_IT  department_Law and Reg  \\\n",
       "0  ...                          0              0                       0   \n",
       "1  ...                          0              0                       0   \n",
       "2  ...                          0              0                       0   \n",
       "3  ...                          0              0                       0   \n",
       "4  ...                          0              0                       0   \n",
       "\n",
       "   department_Libraries, Arts, Science, Museums  department_Parks  \\\n",
       "0                                             0                 1   \n",
       "1                                             0                 0   \n",
       "2                                             0                 0   \n",
       "3                                             0                 0   \n",
       "4                                             0                 0   \n",
       "\n",
       "   department_Police  department_Port  department_Public Works  city_id_2  \\\n",
       "0                  0                0                        0          1   \n",
       "1                  0                0                        0          1   \n",
       "2                  0                0                        0          1   \n",
       "3                  0                0                        0          1   \n",
       "4                  0                0                        1          1   \n",
       "\n",
       "   city_id_3  \n",
       "0          0  \n",
       "1          0  \n",
       "2          0  \n",
       "3          0  \n",
       "4          0  \n",
       "\n",
       "[5 rows x 26 columns]"
      ]
     },
     "execution_count": 59,
     "metadata": {},
     "output_type": "execute_result"
    }
   ],
   "source": [
    "auto_df = df4\n",
    "auto_df.head()"
   ]
  },
  {
   "cell_type": "code",
   "execution_count": 60,
   "id": "d73dd527-e398-419b-8cba-b36baa71e3d4",
   "metadata": {
    "tags": []
   },
   "outputs": [],
   "source": [
    "# Split all data into 90% train and 10% holdout\n",
    "auto_train, auto_test = train_test_split(auto_df, test_size=0.25, random_state=508)"
   ]
  },
  {
   "cell_type": "code",
   "execution_count": 61,
   "id": "c24cd91d-add6-4330-9b46-9144dc6553d6",
   "metadata": {
    "tags": []
   },
   "outputs": [
    {
     "data": {
      "text/plain": [
       "(1074602, 26)"
      ]
     },
     "execution_count": 61,
     "metadata": {},
     "output_type": "execute_result"
    }
   ],
   "source": [
    "auto_train.shape"
   ]
  },
  {
   "cell_type": "markdown",
   "id": "05d06e97-4368-48a1-ba46-fc015a2e5aa1",
   "metadata": {},
   "source": [
    "#### Write train csv path with header for autopilot"
   ]
  },
  {
   "cell_type": "code",
   "execution_count": 66,
   "id": "2fb03f58-90b2-45e3-8367-98503b32e88c",
   "metadata": {
    "tags": []
   },
   "outputs": [],
   "source": [
    "autopilot_train_path = \"./compensation_cpi_autopilot.csv\"\n",
    "autopilot_test_path = \"./compensation_cpi_autopilot_test.csv\"\n",
    "auto_train.to_csv(autopilot_train_path, index=False, header=True)\n",
    "auto_test.to_csv(autopilot_test_path, index=False, header=True)"
   ]
  },
  {
   "cell_type": "markdown",
   "id": "e3910335-51d3-46ba-a363-6ae22cedec1c",
   "metadata": {},
   "source": [
    "#### Upload data to s3 for autopilot"
   ]
  },
  {
   "cell_type": "code",
   "execution_count": 63,
   "id": "def8efbb-a631-48f9-8c73-509189d9c061",
   "metadata": {
    "tags": []
   },
   "outputs": [
    {
     "data": {
      "text/plain": [
       "'s3://sagemaker-us-east-1-924490614652/data/compensation_cpi_autopilot.csv'"
      ]
     },
     "execution_count": 63,
     "metadata": {},
     "output_type": "execute_result"
    }
   ],
   "source": [
    "train_s3_prefix = \"data\"\n",
    "autopilot_train_s3_uri = sess.upload_data(path=autopilot_train_path, key_prefix=train_s3_prefix)\n",
    "autopilot_train_s3_uri"
   ]
  },
  {
   "cell_type": "code",
   "execution_count": null,
   "id": "615fd6b9-0a21-4713-9c48-bab0e7eb71b6",
   "metadata": {
    "tags": []
   },
   "outputs": [
    {
     "data": {
      "text/plain": [
       "'s3://sagemaker-us-east-1-924490614652/data/compensation_cpi_autopilot_test.csv'"
      ]
     },
     "execution_count": 67,
     "metadata": {},
     "output_type": "execute_result"
    }
   ],
   "source": [
    "train_s3_prefix = \"data\"\n",
    "autopilot_test_s3_uri = sess.upload_data(path=autopilot_test_path, key_prefix=train_s3_prefix)\n",
    "autopilot_test_s3_uri"
   ]
  },
  {
   "cell_type": "code",
   "execution_count": 64,
   "id": "69d18c42-dcdb-45ba-95e4-df0bf3b12559",
   "metadata": {
    "tags": []
   },
   "outputs": [
    {
     "name": "stdout",
     "output_type": "stream",
     "text": [
      "2023-04-12 19:46:18  113300010 compensation_cpi_autopilot.csv\n"
     ]
    }
   ],
   "source": [
    "!aws s3 ls $autopilot_train_s3_uri"
   ]
  },
  {
   "cell_type": "code",
   "execution_count": 65,
   "id": "7ce588ce-d2b7-4a9d-aa8a-b964c390d98c",
   "metadata": {
    "tags": []
   },
   "outputs": [
    {
     "name": "stdout",
     "output_type": "stream",
     "text": [
      "Stored 'autopilot_train_s3_uri' (str)\n"
     ]
    }
   ],
   "source": [
    "%store autopilot_train_s3_uri"
   ]
  },
  {
   "cell_type": "markdown",
   "id": "f71c3e41-eac1-4e68-9609-417c011c05b8",
   "metadata": {},
   "source": [
    "#### View train data stored in S3 bucket"
   ]
  },
  {
   "cell_type": "code",
   "execution_count": 19,
   "id": "dd4dd875-095a-4ef5-aaea-3391a8bbaedc",
   "metadata": {
    "tags": []
   },
   "outputs": [
    {
     "name": "stdout",
     "output_type": "stream",
     "text": [
      "download: s3://sagemaker-us-east-1-924490614652/data/compensation_cpi_autopilot.csv to tmp/compensation_cpi_autopilot.csv\n"
     ]
    }
   ],
   "source": [
    "!aws s3 cp $autopilot_train_s3_uri ./tmp/"
   ]
  },
  {
   "cell_type": "code",
   "execution_count": 22,
   "id": "47a1b6ad-58a6-4b4f-a900-3f67ca8b0eaf",
   "metadata": {
    "tags": []
   },
   "outputs": [
    {
     "data": {
      "text/html": [
       "<div>\n",
       "<style scoped>\n",
       "    .dataframe tbody tr th:only-of-type {\n",
       "        vertical-align: middle;\n",
       "    }\n",
       "\n",
       "    .dataframe tbody tr th {\n",
       "        vertical-align: top;\n",
       "    }\n",
       "\n",
       "    .dataframe thead th {\n",
       "        text-align: right;\n",
       "    }\n",
       "</style>\n",
       "<table border=\"1\" class=\"dataframe\">\n",
       "  <thead>\n",
       "    <tr style=\"text-align: right;\">\n",
       "      <th></th>\n",
       "      <th>base_salary</th>\n",
       "      <th>overtime</th>\n",
       "      <th>irregular_cash</th>\n",
       "      <th>total_benefits</th>\n",
       "      <th>annual_average_cpi</th>\n",
       "      <th>year_2014</th>\n",
       "      <th>year_2015</th>\n",
       "      <th>year_2016</th>\n",
       "      <th>year_2017</th>\n",
       "      <th>year_2018</th>\n",
       "      <th>...</th>\n",
       "      <th>department_Human Services</th>\n",
       "      <th>department_IT</th>\n",
       "      <th>department_Law and Reg</th>\n",
       "      <th>department_Libraries, Arts, Science, Museums</th>\n",
       "      <th>department_Parks</th>\n",
       "      <th>department_Police</th>\n",
       "      <th>department_Port</th>\n",
       "      <th>department_Public Works</th>\n",
       "      <th>city_id_2</th>\n",
       "      <th>city_id_3</th>\n",
       "    </tr>\n",
       "  </thead>\n",
       "  <tbody>\n",
       "    <tr>\n",
       "      <th>0</th>\n",
       "      <td>23593.275110</td>\n",
       "      <td>0.000000</td>\n",
       "      <td>1462.881959</td>\n",
       "      <td>11261.339705</td>\n",
       "      <td>251.1</td>\n",
       "      <td>0</td>\n",
       "      <td>0</td>\n",
       "      <td>0</td>\n",
       "      <td>0</td>\n",
       "      <td>1</td>\n",
       "      <td>...</td>\n",
       "      <td>0</td>\n",
       "      <td>0</td>\n",
       "      <td>0</td>\n",
       "      <td>0</td>\n",
       "      <td>0</td>\n",
       "      <td>0</td>\n",
       "      <td>0</td>\n",
       "      <td>0</td>\n",
       "      <td>1</td>\n",
       "      <td>0</td>\n",
       "    </tr>\n",
       "    <tr>\n",
       "      <th>1</th>\n",
       "      <td>131477.705112</td>\n",
       "      <td>0.000000</td>\n",
       "      <td>686.945501</td>\n",
       "      <td>58580.548416</td>\n",
       "      <td>236.7</td>\n",
       "      <td>1</td>\n",
       "      <td>0</td>\n",
       "      <td>0</td>\n",
       "      <td>0</td>\n",
       "      <td>0</td>\n",
       "      <td>...</td>\n",
       "      <td>0</td>\n",
       "      <td>1</td>\n",
       "      <td>0</td>\n",
       "      <td>0</td>\n",
       "      <td>0</td>\n",
       "      <td>0</td>\n",
       "      <td>0</td>\n",
       "      <td>0</td>\n",
       "      <td>0</td>\n",
       "      <td>1</td>\n",
       "    </tr>\n",
       "    <tr>\n",
       "      <th>2</th>\n",
       "      <td>102632.296947</td>\n",
       "      <td>9207.026043</td>\n",
       "      <td>6414.123918</td>\n",
       "      <td>49454.379521</td>\n",
       "      <td>258.8</td>\n",
       "      <td>0</td>\n",
       "      <td>0</td>\n",
       "      <td>0</td>\n",
       "      <td>0</td>\n",
       "      <td>0</td>\n",
       "      <td>...</td>\n",
       "      <td>0</td>\n",
       "      <td>0</td>\n",
       "      <td>0</td>\n",
       "      <td>0</td>\n",
       "      <td>0</td>\n",
       "      <td>0</td>\n",
       "      <td>1</td>\n",
       "      <td>0</td>\n",
       "      <td>1</td>\n",
       "      <td>0</td>\n",
       "    </tr>\n",
       "    <tr>\n",
       "      <th>3</th>\n",
       "      <td>31509.960417</td>\n",
       "      <td>0.000000</td>\n",
       "      <td>0.000000</td>\n",
       "      <td>10898.784417</td>\n",
       "      <td>240.0</td>\n",
       "      <td>0</td>\n",
       "      <td>0</td>\n",
       "      <td>1</td>\n",
       "      <td>0</td>\n",
       "      <td>0</td>\n",
       "      <td>...</td>\n",
       "      <td>0</td>\n",
       "      <td>0</td>\n",
       "      <td>0</td>\n",
       "      <td>0</td>\n",
       "      <td>0</td>\n",
       "      <td>0</td>\n",
       "      <td>0</td>\n",
       "      <td>0</td>\n",
       "      <td>1</td>\n",
       "      <td>0</td>\n",
       "    </tr>\n",
       "    <tr>\n",
       "      <th>4</th>\n",
       "      <td>134209.848042</td>\n",
       "      <td>30539.780417</td>\n",
       "      <td>14578.377250</td>\n",
       "      <td>41240.554167</td>\n",
       "      <td>240.0</td>\n",
       "      <td>0</td>\n",
       "      <td>0</td>\n",
       "      <td>1</td>\n",
       "      <td>0</td>\n",
       "      <td>0</td>\n",
       "      <td>...</td>\n",
       "      <td>0</td>\n",
       "      <td>0</td>\n",
       "      <td>0</td>\n",
       "      <td>0</td>\n",
       "      <td>0</td>\n",
       "      <td>1</td>\n",
       "      <td>0</td>\n",
       "      <td>0</td>\n",
       "      <td>1</td>\n",
       "      <td>0</td>\n",
       "    </tr>\n",
       "  </tbody>\n",
       "</table>\n",
       "<p>5 rows × 26 columns</p>\n",
       "</div>"
      ],
      "text/plain": [
       "     base_salary      overtime  irregular_cash  total_benefits  \\\n",
       "0   23593.275110      0.000000     1462.881959    11261.339705   \n",
       "1  131477.705112      0.000000      686.945501    58580.548416   \n",
       "2  102632.296947   9207.026043     6414.123918    49454.379521   \n",
       "3   31509.960417      0.000000        0.000000    10898.784417   \n",
       "4  134209.848042  30539.780417    14578.377250    41240.554167   \n",
       "\n",
       "   annual_average_cpi  year_2014  year_2015  year_2016  year_2017  year_2018  \\\n",
       "0               251.1          0          0          0          0          1   \n",
       "1               236.7          1          0          0          0          0   \n",
       "2               258.8          0          0          0          0          0   \n",
       "3               240.0          0          0          1          0          0   \n",
       "4               240.0          0          0          1          0          0   \n",
       "\n",
       "   ...  department_Human Services  department_IT  department_Law and Reg  \\\n",
       "0  ...                          0              0                       0   \n",
       "1  ...                          0              1                       0   \n",
       "2  ...                          0              0                       0   \n",
       "3  ...                          0              0                       0   \n",
       "4  ...                          0              0                       0   \n",
       "\n",
       "   department_Libraries, Arts, Science, Museums  department_Parks  \\\n",
       "0                                             0                 0   \n",
       "1                                             0                 0   \n",
       "2                                             0                 0   \n",
       "3                                             0                 0   \n",
       "4                                             0                 0   \n",
       "\n",
       "   department_Police  department_Port  department_Public Works  city_id_2  \\\n",
       "0                  0                0                        0          1   \n",
       "1                  0                0                        0          0   \n",
       "2                  0                1                        0          1   \n",
       "3                  0                0                        0          1   \n",
       "4                  1                0                        0          1   \n",
       "\n",
       "   city_id_3  \n",
       "0          0  \n",
       "1          1  \n",
       "2          0  \n",
       "3          0  \n",
       "4          0  \n",
       "\n",
       "[5 rows x 26 columns]"
      ]
     },
     "execution_count": 22,
     "metadata": {},
     "output_type": "execute_result"
    }
   ],
   "source": [
    "import csv\n",
    "\n",
    "df5 = pd.read_csv(\"./tmp/compensation_cpi_autopilot.csv\")\n",
    "df5.head()\n"
   ]
  },
  {
   "cell_type": "markdown",
   "id": "90f121ef-3718-4ab7-ab76-2d7275fa9ac4",
   "metadata": {},
   "source": [
    "#### Setup the S3 Location for the Autopilot-Generated Assets"
   ]
  },
  {
   "cell_type": "code",
   "execution_count": 23,
   "id": "5c0c29bd-dbb0-4f16-908e-139fd8465a69",
   "metadata": {
    "tags": []
   },
   "outputs": [
    {
     "name": "stdout",
     "output_type": "stream",
     "text": [
      "s3://sagemaker-us-east-1-924490614652/models/autopilot\n"
     ]
    }
   ],
   "source": [
    "prefix_model_output = \"models/autopilot\"\n",
    "\n",
    "model_output_s3_uri = \"s3://{}/{}\".format(bucket, prefix_model_output)\n",
    "\n",
    "print(model_output_s3_uri)"
   ]
  },
  {
   "cell_type": "code",
   "execution_count": 24,
   "id": "666b49bc-7bb8-4a40-9cd2-46dca384af7d",
   "metadata": {
    "tags": []
   },
   "outputs": [],
   "source": [
    "max_candidates = 3\n",
    "\n",
    "job_config = {\n",
    "    \"CompletionCriteria\": {\n",
    "        \"MaxRuntimePerTrainingJobInSeconds\": 900,\n",
    "        \"MaxCandidates\": max_candidates,\n",
    "        \"MaxAutoMLJobRuntimeInSeconds\": 5400,\n",
    "    },\n",
    "}\n",
    "\n",
    "input_data_config = [\n",
    "    {\n",
    "        \"DataSource\": {\"S3DataSource\": {\"S3DataType\": \"S3Prefix\", \"S3Uri\": \"{}\".format(autopilot_train_s3_uri)}},\n",
    "        \"TargetAttributeName\": \"total_benefits\",\n",
    "    }\n",
    "]\n",
    "\n",
    "output_data_config = {\"S3OutputPath\": \"{}\".format(model_output_s3_uri)}"
   ]
  },
  {
   "cell_type": "markdown",
   "id": "7b18cde0-087c-49f2-9a46-ea08c49e7636",
   "metadata": {},
   "source": [
    "#### Check For Existing Autopilot Jobs"
   ]
  },
  {
   "cell_type": "code",
   "execution_count": 26,
   "id": "30562a67-2f91-46b8-83ee-c6280024a69a",
   "metadata": {
    "tags": []
   },
   "outputs": [],
   "source": [
    "existing_jobs_response = sm.list_auto_ml_jobs()"
   ]
  },
  {
   "cell_type": "code",
   "execution_count": 27,
   "id": "63fb3cd4-1447-471e-9ba0-19c2dcfd6541",
   "metadata": {
    "tags": []
   },
   "outputs": [
    {
     "name": "stdout",
     "output_type": "stream",
     "text": [
      "[INFO] You have 0 Autopilot job(s) currently running << Should be 0 jobs.\n"
     ]
    }
   ],
   "source": [
    "num_existing_jobs = 0\n",
    "running_jobs = 0\n",
    "\n",
    "if \"AutoMLJobSummaries\" in existing_jobs_response.keys():\n",
    "    job_list = existing_jobs_response[\"AutoMLJobSummaries\"]\n",
    "    num_existing_jobs = len(job_list)\n",
    "    # print('[INFO] You already created {} Autopilot job(s) in this account.'.format(num_existing_jobs))\n",
    "    for j in job_list:\n",
    "        if \"AutoMLJobStatus\" in j.keys():\n",
    "            if j[\"AutoMLJobStatus\"] == \"InProgress\":\n",
    "                running_jobs = running_jobs + 1\n",
    "    print(\"[INFO] You have {} Autopilot job(s) currently running << Should be 0 jobs.\".format(running_jobs))\n",
    "else:\n",
    "    print(\"[OK] Please continue.\")"
   ]
  },
  {
   "cell_type": "markdown",
   "id": "ddea75fe-136b-4d90-96ac-dc413ee32768",
   "metadata": {},
   "source": [
    "### Launch the SageMaker Autopilot Job"
   ]
  },
  {
   "cell_type": "code",
   "execution_count": 28,
   "id": "8c7d9b68-313b-4f89-9cf2-a55952d56b32",
   "metadata": {
    "tags": []
   },
   "outputs": [],
   "source": [
    "from time import gmtime, strftime, sleep"
   ]
  },
  {
   "cell_type": "code",
   "execution_count": 29,
   "id": "38edab33-6eaf-4707-b332-77c8a1303d5b",
   "metadata": {
    "tags": []
   },
   "outputs": [
    {
     "name": "stdout",
     "output_type": "stream",
     "text": [
      "no stored variable or alias auto_ml_job_name\n",
      "Created AutoMLJobName: automl-dm-10-07-32-11\n"
     ]
    }
   ],
   "source": [
    "%store -r auto_ml_job_name\n",
    "\n",
    "try:\n",
    "    auto_ml_job_name\n",
    "except NameError:\n",
    "    timestamp_suffix = strftime(\"%d-%H-%M-%S\", gmtime())\n",
    "    auto_ml_job_name = \"automl-dm-\" + timestamp_suffix\n",
    "    print(\"Created AutoMLJobName: \" + auto_ml_job_name)"
   ]
  },
  {
   "cell_type": "code",
   "execution_count": 30,
   "id": "5a6fa3f2-d81d-4175-a9e6-e94f76ae2949",
   "metadata": {
    "tags": []
   },
   "outputs": [
    {
     "name": "stdout",
     "output_type": "stream",
     "text": [
      "automl-dm-10-07-32-11\n"
     ]
    }
   ],
   "source": [
    "print(auto_ml_job_name)"
   ]
  },
  {
   "cell_type": "code",
   "execution_count": 31,
   "id": "6c576a26-db82-4d55-aeb5-31c1bd590fb1",
   "metadata": {
    "tags": []
   },
   "outputs": [
    {
     "name": "stdout",
     "output_type": "stream",
     "text": [
      "Stored 'auto_ml_job_name' (str)\n"
     ]
    }
   ],
   "source": [
    "%store auto_ml_job_name"
   ]
  },
  {
   "cell_type": "code",
   "execution_count": 32,
   "id": "92b82e83-3ce0-4d51-a8ec-1be7f58bf134",
   "metadata": {
    "tags": []
   },
   "outputs": [
    {
     "name": "stdout",
     "output_type": "stream",
     "text": [
      "[OK] Autopilot Job automl-dm-10-07-32-11 created.\n"
     ]
    }
   ],
   "source": [
    "max_running_jobs = 1\n",
    "\n",
    "if running_jobs < max_running_jobs:  # Limiting to max. 1 Jobs\n",
    "    try:\n",
    "        sm.create_auto_ml_job(\n",
    "            AutoMLJobName=auto_ml_job_name,\n",
    "            InputDataConfig=input_data_config,\n",
    "            OutputDataConfig=output_data_config,\n",
    "            AutoMLJobConfig=job_config,\n",
    "            RoleArn=role,\n",
    "        )\n",
    "        print(\"[OK] Autopilot Job {} created.\".format(auto_ml_job_name))\n",
    "        running_jobs = running_jobs + 1\n",
    "    except:\n",
    "        print(\n",
    "            \"[INFO] You have already launched an Autopilot job. Please continue see the output of this job.\".format(\n",
    "                running_jobs\n",
    "            )\n",
    "        )\n",
    "else:\n",
    "    print(\n",
    "        \"[INFO] You have already launched {} Autopilot running job(s). Please continue see the output of the running job.\".format(\n",
    "            running_jobs\n",
    "        )\n",
    "    )"
   ]
  },
  {
   "cell_type": "markdown",
   "id": "4df8a1a0-2bfa-47ac-ab63-7ae4299a5bde",
   "metadata": {},
   "source": [
    "### Analyzing Data and Generate Notebooks"
   ]
  },
  {
   "cell_type": "code",
   "execution_count": 33,
   "id": "cbf6e2a9-66a2-4d70-b2a2-20f3bb605cf1",
   "metadata": {
    "tags": []
   },
   "outputs": [
    {
     "name": "stdout",
     "output_type": "stream",
     "text": [
      "[OK] AutoMLJob started.\n"
     ]
    }
   ],
   "source": [
    "job_description_response = sm.describe_auto_ml_job(AutoMLJobName=auto_ml_job_name)\n",
    "\n",
    "while (\n",
    "    \"AutoMLJobStatus\" not in job_description_response.keys()\n",
    "    and \"AutoMLJobSecondaryStatus\" not in job_description_response.keys()\n",
    "):\n",
    "    job_description_response = sm.describe_auto_ml_job(AutoMLJobName=auto_ml_job_name)\n",
    "    print(\"[INFO] Autopilot Job has not yet started. Please wait. \")\n",
    "    print(json.dumps(job_description_response, indent=4, sort_keys=True, default=str))\n",
    "    print(\"[INFO] Waiting for Autopilot Job to start...\")\n",
    "    sleep(15)\n",
    "\n",
    "print(\"[OK] AutoMLJob started.\")"
   ]
  },
  {
   "cell_type": "markdown",
   "id": "ff6b413f-0a7c-4f2e-957b-703d2a118852",
   "metadata": {},
   "source": [
    "#### Review the SageMaker Processing Jobs"
   ]
  },
  {
   "cell_type": "code",
   "execution_count": 34,
   "id": "77914435-16dc-4e72-8401-a55bc94d97af",
   "metadata": {
    "tags": []
   },
   "outputs": [
    {
     "data": {
      "text/html": [
       "<b>Review <a target=\"blank\" href=\"https://console.aws.amazon.com/sagemaker/home?region=us-east-1#/processing-jobs/\">Processing Jobs</a></b>"
      ],
      "text/plain": [
       "<IPython.core.display.HTML object>"
      ]
     },
     "metadata": {},
     "output_type": "display_data"
    }
   ],
   "source": [
    "from IPython.core.display import display, HTML\n",
    "\n",
    "display(\n",
    "    HTML(\n",
    "        '<b>Review <a target=\"blank\" href=\"https://console.aws.amazon.com/sagemaker/home?region={}#/processing-jobs/\">Processing Jobs</a></b>'.format(\n",
    "            region\n",
    "        )\n",
    "    )\n",
    ")"
   ]
  },
  {
   "cell_type": "code",
   "execution_count": 35,
   "id": "b8fba244-2038-4b49-a3c6-563fddef76c7",
   "metadata": {
    "tags": []
   },
   "outputs": [
    {
     "name": "stdout",
     "output_type": "stream",
     "text": [
      "InProgress AnalyzingData\n",
      "InProgress AnalyzingData\n",
      "InProgress AnalyzingData\n",
      "InProgress AnalyzingData\n",
      "InProgress AnalyzingData\n",
      "InProgress AnalyzingData\n",
      "InProgress AnalyzingData\n",
      "InProgress AnalyzingData\n",
      "InProgress AnalyzingData\n",
      "InProgress AnalyzingData\n",
      "InProgress AnalyzingData\n",
      "InProgress AnalyzingData\n",
      "InProgress AnalyzingData\n",
      "InProgress AnalyzingData\n",
      "InProgress AnalyzingData\n",
      "InProgress AnalyzingData\n",
      "InProgress AnalyzingData\n",
      "InProgress AnalyzingData\n",
      "InProgress AnalyzingData\n",
      "InProgress AnalyzingData\n",
      "InProgress AnalyzingData\n",
      "InProgress AnalyzingData\n",
      "InProgress AnalyzingData\n",
      "InProgress AnalyzingData\n",
      "InProgress AnalyzingData\n",
      "InProgress AnalyzingData\n",
      "InProgress AnalyzingData\n",
      "InProgress AnalyzingData\n",
      "InProgress AnalyzingData\n",
      "InProgress AnalyzingData\n",
      "InProgress AnalyzingData\n",
      "InProgress AnalyzingData\n",
      "InProgress AnalyzingData\n",
      "InProgress AnalyzingData\n",
      "InProgress AnalyzingData\n",
      "InProgress AnalyzingData\n",
      "InProgress FeatureEngineering\n",
      "[OK] Data analysis phase completed.\n",
      "\n"
     ]
    },
    {
     "ename": "NameError",
     "evalue": "name 'json' is not defined",
     "output_type": "error",
     "traceback": [
      "\u001b[0;31m---------------------------------------------------------------------------\u001b[0m",
      "\u001b[0;31mNameError\u001b[0m                                 Traceback (most recent call last)",
      "\u001b[0;32m<timed exec>\u001b[0m in \u001b[0;36m<module>\u001b[0;34m\u001b[0m\n",
      "\u001b[0;31mNameError\u001b[0m: name 'json' is not defined"
     ]
    }
   ],
   "source": [
    "%%time\n",
    "\n",
    "job_status = job_description_response[\"AutoMLJobStatus\"]\n",
    "job_sec_status = job_description_response[\"AutoMLJobSecondaryStatus\"]\n",
    "\n",
    "if job_status not in (\"Stopped\", \"Failed\"):\n",
    "    while job_status in (\"InProgress\") and job_sec_status in (\"Starting\", \"AnalyzingData\"):\n",
    "        job_description_response = sm.describe_auto_ml_job(AutoMLJobName=auto_ml_job_name)\n",
    "        job_status = job_description_response[\"AutoMLJobStatus\"]\n",
    "        job_sec_status = job_description_response[\"AutoMLJobSecondaryStatus\"]\n",
    "        print(job_status, job_sec_status)\n",
    "        sleep(15)\n",
    "    print(\"[OK] Data analysis phase completed.\\n\")\n",
    "\n",
    "print(json.dumps(job_description_response, indent=4, sort_keys=True, default=str))"
   ]
  },
  {
   "cell_type": "code",
   "execution_count": 37,
   "id": "37a08a54-1a95-43b1-81f9-08d4bdc61a92",
   "metadata": {
    "tags": []
   },
   "outputs": [
    {
     "name": "stdout",
     "output_type": "stream",
     "text": [
      "{\n",
      "    \"AutoMLJobArn\": \"arn:aws:sagemaker:us-east-1:924490614652:automl-job/automl-dm-10-07-32-11\",\n",
      "    \"AutoMLJobArtifacts\": {\n",
      "        \"CandidateDefinitionNotebookLocation\": \"s3://sagemaker-us-east-1-924490614652/models/autopilot/automl-dm-10-07-32-11/sagemaker-automl-candidates/automl-dm-10-07-32-11-pr-1-5552ac2104684f7498e34be6144a83be2c1e/notebooks/SageMakerAutopilotCandidateDefinitionNotebook.ipynb\",\n",
      "        \"DataExplorationNotebookLocation\": \"s3://sagemaker-us-east-1-924490614652/models/autopilot/automl-dm-10-07-32-11/sagemaker-automl-candidates/automl-dm-10-07-32-11-pr-1-5552ac2104684f7498e34be6144a83be2c1e/notebooks/SageMakerAutopilotDataExplorationNotebook.ipynb\"\n",
      "    },\n",
      "    \"AutoMLJobConfig\": {\n",
      "        \"CompletionCriteria\": {\n",
      "            \"MaxAutoMLJobRuntimeInSeconds\": 5400,\n",
      "            \"MaxCandidates\": 3,\n",
      "            \"MaxRuntimePerTrainingJobInSeconds\": 900\n",
      "        }\n",
      "    },\n",
      "    \"AutoMLJobName\": \"automl-dm-10-07-32-11\",\n",
      "    \"AutoMLJobSecondaryStatus\": \"FeatureEngineering\",\n",
      "    \"AutoMLJobStatus\": \"InProgress\",\n",
      "    \"CreationTime\": \"2023-04-10 07:33:28.039000+00:00\",\n",
      "    \"GenerateCandidateDefinitionsOnly\": false,\n",
      "    \"InputDataConfig\": [\n",
      "        {\n",
      "            \"ChannelType\": \"training\",\n",
      "            \"ContentType\": \"text/csv;header=present\",\n",
      "            \"DataSource\": {\n",
      "                \"S3DataSource\": {\n",
      "                    \"S3DataType\": \"S3Prefix\",\n",
      "                    \"S3Uri\": \"s3://sagemaker-us-east-1-924490614652/data/compensation_cpi_autopilot.csv\"\n",
      "                }\n",
      "            },\n",
      "            \"TargetAttributeName\": \"total_benefits\"\n",
      "        }\n",
      "    ],\n",
      "    \"LastModifiedTime\": \"2023-04-10 07:45:01.202000+00:00\",\n",
      "    \"OutputDataConfig\": {\n",
      "        \"S3OutputPath\": \"s3://sagemaker-us-east-1-924490614652/models/autopilot\"\n",
      "    },\n",
      "    \"ResolvedAttributes\": {\n",
      "        \"AutoMLJobObjective\": {\n",
      "            \"MetricName\": \"MSE\"\n",
      "        },\n",
      "        \"CompletionCriteria\": {\n",
      "            \"MaxAutoMLJobRuntimeInSeconds\": 5400,\n",
      "            \"MaxCandidates\": 3,\n",
      "            \"MaxRuntimePerTrainingJobInSeconds\": 900\n",
      "        },\n",
      "        \"ProblemType\": \"Regression\"\n",
      "    },\n",
      "    \"ResponseMetadata\": {\n",
      "        \"HTTPHeaders\": {\n",
      "            \"content-length\": \"1658\",\n",
      "            \"content-type\": \"application/x-amz-json-1.1\",\n",
      "            \"date\": \"Mon, 10 Apr 2023 07:45:06 GMT\",\n",
      "            \"x-amzn-requestid\": \"3115eaad-a0f1-45ea-9413-179e1b9610f2\"\n",
      "        },\n",
      "        \"HTTPStatusCode\": 200,\n",
      "        \"RequestId\": \"3115eaad-a0f1-45ea-9413-179e1b9610f2\",\n",
      "        \"RetryAttempts\": 0\n",
      "    },\n",
      "    \"RoleArn\": \"arn:aws:iam::924490614652:role/LabRole\"\n",
      "}\n"
     ]
    }
   ],
   "source": [
    "print(json.dumps(job_description_response, indent=4, sort_keys=True, default=str))"
   ]
  },
  {
   "cell_type": "markdown",
   "id": "c0261521-eca2-4079-aa7c-3243902d9871",
   "metadata": {},
   "source": [
    "#### Waiting For Generated Notebooks"
   ]
  },
  {
   "cell_type": "code",
   "execution_count": 38,
   "id": "27408473-749a-4fbb-8ed1-a5acf4e8c3db",
   "metadata": {
    "tags": []
   },
   "outputs": [
    {
     "name": "stdout",
     "output_type": "stream",
     "text": [
      "[OK] AutoMLJobArtifacts generated.\n"
     ]
    }
   ],
   "source": [
    "job_description_response = sm.describe_auto_ml_job(AutoMLJobName=auto_ml_job_name)\n",
    "\n",
    "while \"AutoMLJobArtifacts\" not in job_description_response.keys():\n",
    "    job_description_response = sm.describe_auto_ml_job(AutoMLJobName=auto_ml_job_name)\n",
    "    print(\"[INFO] Autopilot Job has not yet generated the artifacts. Please wait. \")\n",
    "    print(json.dumps(job_description_response, indent=4, sort_keys=True, default=str))\n",
    "    print(\"[INFO] Waiting for AutoMLJobArtifacts...\")\n",
    "    sleep(15)\n",
    "\n",
    "print(\"[OK] AutoMLJobArtifacts generated.\")"
   ]
  },
  {
   "cell_type": "code",
   "execution_count": 39,
   "id": "79b4a118-6c8e-4f48-b751-d53df4b0704a",
   "metadata": {
    "tags": []
   },
   "outputs": [
    {
     "name": "stdout",
     "output_type": "stream",
     "text": [
      "[OK] DataExplorationNotebookLocation found.\n"
     ]
    }
   ],
   "source": [
    "job_description_response = sm.describe_auto_ml_job(AutoMLJobName=auto_ml_job_name)\n",
    "\n",
    "while \"DataExplorationNotebookLocation\" not in job_description_response[\"AutoMLJobArtifacts\"].keys():\n",
    "    job_description_response = sm.describe_auto_ml_job(AutoMLJobName=auto_ml_job_name)\n",
    "    print(\"[INFO] Autopilot Job has not yet generated the notebooks. Please wait. \")\n",
    "    print(json.dumps(job_description_response, indent=4, sort_keys=True, default=str))\n",
    "    print(\"[INFO] Waiting for DataExplorationNotebookLocation...\")\n",
    "    sleep(15)\n",
    "\n",
    "print(\"[OK] DataExplorationNotebookLocation found.\")"
   ]
  },
  {
   "cell_type": "code",
   "execution_count": 40,
   "id": "40c9cf05-72e1-4da5-81d2-3652d819fdce",
   "metadata": {
    "tags": []
   },
   "outputs": [],
   "source": [
    "generated_resources = job_description_response[\"AutoMLJobArtifacts\"][\"DataExplorationNotebookLocation\"]\n",
    "download_path = generated_resources.rsplit(\"/notebooks/SageMakerAutopilotDataExplorationNotebook.ipynb\")[0]\n",
    "job_id = download_path.rsplit(\"/\", 1)[-1]"
   ]
  },
  {
   "cell_type": "code",
   "execution_count": 41,
   "id": "ca8def21-6031-4c86-91f9-c54140bee691",
   "metadata": {
    "tags": []
   },
   "outputs": [
    {
     "data": {
      "text/html": [
       "<b>Review <a target=\"blank\" href=\"https://s3.console.aws.amazon.com/s3/buckets/sagemaker-us-east-1-924490614652/models/autopilot/automl-dm-10-07-32-11/sagemaker-automl-candidates/automl-dm-10-07-32-11-pr-1-5552ac2104684f7498e34be6144a83be2c1e/\">S3 Generated Resources</a></b>"
      ],
      "text/plain": [
       "<IPython.core.display.HTML object>"
      ]
     },
     "metadata": {},
     "output_type": "display_data"
    }
   ],
   "source": [
    "from IPython.core.display import display, HTML\n",
    "\n",
    "if not job_id:\n",
    "    print(\"No AutoMLJobArtifacts found.\")\n",
    "else:\n",
    "    display(\n",
    "        HTML(\n",
    "            '<b>Review <a target=\"blank\" href=\"https://s3.console.aws.amazon.com/s3/buckets/{}/{}/{}/sagemaker-automl-candidates/{}/\">S3 Generated Resources</a></b>'.format(\n",
    "                bucket, prefix_model_output, auto_ml_job_name, job_id\n",
    "            )\n",
    "        )\n",
    "    )\n"
   ]
  },
  {
   "cell_type": "markdown",
   "id": "075fa538-01e3-46f6-ab49-d6d3bb24b79a",
   "metadata": {},
   "source": [
    "### Download Generated Notebooks & Code"
   ]
  },
  {
   "cell_type": "code",
   "execution_count": 42,
   "id": "5eaf2e11-62f5-46b0-96e8-dd50a7f3a065",
   "metadata": {
    "tags": []
   },
   "outputs": [
    {
     "name": "stdout",
     "output_type": "stream",
     "text": [
      "s3://sagemaker-us-east-1-924490614652/models/autopilot/automl-dm-10-07-32-11/sagemaker-automl-candidates/automl-dm-10-07-32-11-pr-1-5552ac2104684f7498e34be6144a83be2c1e\n"
     ]
    }
   ],
   "source": [
    "print(download_path)"
   ]
  },
  {
   "cell_type": "code",
   "execution_count": 43,
   "id": "ae7809cd-e484-413e-a41f-027f584ebd8b",
   "metadata": {
    "tags": []
   },
   "outputs": [
    {
     "name": "stdout",
     "output_type": "stream",
     "text": [
      "download: s3://sagemaker-us-east-1-924490614652/models/autopilot/automl-dm-10-07-32-11/sagemaker-automl-candidates/automl-dm-10-07-32-11-pr-1-5552ac2104684f7498e34be6144a83be2c1e/generated_module/MANIFEST.in to generated_module/MANIFEST.in\n",
      "download: s3://sagemaker-us-east-1-924490614652/models/autopilot/automl-dm-10-07-32-11/sagemaker-automl-candidates/automl-dm-10-07-32-11-pr-1-5552ac2104684f7498e34be6144a83be2c1e/generated_module/README.md to generated_module/README.md\n",
      "download: s3://sagemaker-us-east-1-924490614652/models/autopilot/automl-dm-10-07-32-11/sagemaker-automl-candidates/automl-dm-10-07-32-11-pr-1-5552ac2104684f7498e34be6144a83be2c1e/generated_module/candidate_data_processors/dpp0.py to generated_module/candidate_data_processors/dpp0.py\n",
      "download: s3://sagemaker-us-east-1-924490614652/models/autopilot/automl-dm-10-07-32-11/sagemaker-automl-candidates/automl-dm-10-07-32-11-pr-1-5552ac2104684f7498e34be6144a83be2c1e/generated_module/candidate_data_processors/sagemaker_serve.py to generated_module/candidate_data_processors/sagemaker_serve.py\n",
      "download: s3://sagemaker-us-east-1-924490614652/models/autopilot/automl-dm-10-07-32-11/sagemaker-automl-candidates/automl-dm-10-07-32-11-pr-1-5552ac2104684f7498e34be6144a83be2c1e/generated_module/candidate_data_processors/dpp1.py to generated_module/candidate_data_processors/dpp1.py\n",
      "download: s3://sagemaker-us-east-1-924490614652/models/autopilot/automl-dm-10-07-32-11/sagemaker-automl-candidates/automl-dm-10-07-32-11-pr-1-5552ac2104684f7498e34be6144a83be2c1e/generated_module/candidate_data_processors/trainer.py to generated_module/candidate_data_processors/trainer.py\n",
      "download: s3://sagemaker-us-east-1-924490614652/models/autopilot/automl-dm-10-07-32-11/sagemaker-automl-candidates/automl-dm-10-07-32-11-pr-1-5552ac2104684f7498e34be6144a83be2c1e/notebooks/sagemaker_automl/README.md to notebooks/sagemaker_automl/README.md\n",
      "download: s3://sagemaker-us-east-1-924490614652/models/autopilot/automl-dm-10-07-32-11/sagemaker-automl-candidates/automl-dm-10-07-32-11-pr-1-5552ac2104684f7498e34be6144a83be2c1e/generated_module/candidate_data_processors/dpp2.py to generated_module/candidate_data_processors/dpp2.py\n",
      "download: s3://sagemaker-us-east-1-924490614652/models/autopilot/automl-dm-10-07-32-11/sagemaker-automl-candidates/automl-dm-10-07-32-11-pr-1-5552ac2104684f7498e34be6144a83be2c1e/notebooks/sagemaker_automl/common.py to notebooks/sagemaker_automl/common.py\n",
      "download: s3://sagemaker-us-east-1-924490614652/models/autopilot/automl-dm-10-07-32-11/sagemaker-automl-candidates/automl-dm-10-07-32-11-pr-1-5552ac2104684f7498e34be6144a83be2c1e/notebooks/sagemaker_automl/__init__.py to notebooks/sagemaker_automl/__init__.py\n",
      "download: s3://sagemaker-us-east-1-924490614652/models/autopilot/automl-dm-10-07-32-11/sagemaker-automl-candidates/automl-dm-10-07-32-11-pr-1-5552ac2104684f7498e34be6144a83be2c1e/notebooks/SageMakerAutopilotCandidateDefinitionNotebook.ipynb to notebooks/SageMakerAutopilotCandidateDefinitionNotebook.ipynb\n",
      "download: s3://sagemaker-us-east-1-924490614652/models/autopilot/automl-dm-10-07-32-11/sagemaker-automl-candidates/automl-dm-10-07-32-11-pr-1-5552ac2104684f7498e34be6144a83be2c1e/notebooks/sagemaker_automl/config.py to notebooks/sagemaker_automl/config.py\n",
      "download: s3://sagemaker-us-east-1-924490614652/models/autopilot/automl-dm-10-07-32-11/sagemaker-automl-candidates/automl-dm-10-07-32-11-pr-1-5552ac2104684f7498e34be6144a83be2c1e/generated_module/setup.py to generated_module/setup.py\n",
      "download: s3://sagemaker-us-east-1-924490614652/models/autopilot/automl-dm-10-07-32-11/sagemaker-automl-candidates/automl-dm-10-07-32-11-pr-1-5552ac2104684f7498e34be6144a83be2c1e/notebooks/sagemaker_automl/local_candidate.py to notebooks/sagemaker_automl/local_candidate.py\n",
      "download: s3://sagemaker-us-east-1-924490614652/models/autopilot/automl-dm-10-07-32-11/sagemaker-automl-candidates/automl-dm-10-07-32-11-pr-1-5552ac2104684f7498e34be6144a83be2c1e/notebooks/sagemaker_automl/interactive_runner.py to notebooks/sagemaker_automl/interactive_runner.py\n",
      "download: s3://sagemaker-us-east-1-924490614652/models/autopilot/automl-dm-10-07-32-11/sagemaker-automl-candidates/automl-dm-10-07-32-11-pr-1-5552ac2104684f7498e34be6144a83be2c1e/notebooks/sagemaker_automl/steps.py to notebooks/sagemaker_automl/steps.py\n",
      "download: s3://sagemaker-us-east-1-924490614652/models/autopilot/automl-dm-10-07-32-11/sagemaker-automl-candidates/automl-dm-10-07-32-11-pr-1-5552ac2104684f7498e34be6144a83be2c1e/notebooks/SageMakerAutopilotDataExplorationNotebook.ipynb to notebooks/SageMakerAutopilotDataExplorationNotebook.ipynb\n"
     ]
    }
   ],
   "source": [
    "try:\n",
    "    !aws s3 cp --recursive $download_path .\n",
    "except:\n",
    "    print('Could not download the generated resources. Make sure the path is correct.')"
   ]
  },
  {
   "cell_type": "code",
   "execution_count": 44,
   "id": "a72031ef-7b03-4943-8414-91405947a28b",
   "metadata": {
    "tags": []
   },
   "outputs": [
    {
     "name": "stdout",
     "output_type": "stream",
     "text": [
      "dpp0.py  dpp1.py  dpp2.py  sagemaker_serve.py  trainer.py\n"
     ]
    }
   ],
   "source": [
    "!ls ./generated_module/candidate_data_processors"
   ]
  },
  {
   "cell_type": "code",
   "execution_count": 45,
   "id": "561ac7bb-494e-49d2-8876-55e1f78aa16b",
   "metadata": {
    "tags": []
   },
   "outputs": [
    {
     "name": "stdout",
     "output_type": "stream",
     "text": [
      "SageMakerAutopilotCandidateDefinitionNotebook.ipynb  sagemaker_automl\n",
      "SageMakerAutopilotDataExplorationNotebook.ipynb\n"
     ]
    }
   ],
   "source": [
    "!ls ./notebooks"
   ]
  },
  {
   "cell_type": "markdown",
   "id": "132d7eb2-6cc1-4d8f-86f7-ad364b6e7170",
   "metadata": {},
   "source": [
    "### Feature Engineering\n"
   ]
  },
  {
   "cell_type": "code",
   "execution_count": 46,
   "id": "b63becfb-6a53-45df-8529-2cb5e2cb0b03",
   "metadata": {
    "tags": []
   },
   "outputs": [
    {
     "data": {
      "text/html": [
       "<b>Review <a target=\"blank\" href=\"https://console.aws.amazon.com/sagemaker/home?region=us-east-1#/jobs/\">Training Jobs</a></b>"
      ],
      "text/plain": [
       "<IPython.core.display.HTML object>"
      ]
     },
     "metadata": {},
     "output_type": "display_data"
    }
   ],
   "source": [
    "from IPython.core.display import display, HTML\n",
    "\n",
    "display(\n",
    "    HTML(\n",
    "        '<b>Review <a target=\"blank\" href=\"https://console.aws.amazon.com/sagemaker/home?region={}#/jobs/\">Training Jobs</a></b>'.format(\n",
    "            region\n",
    "        )\n",
    "    )\n",
    ")"
   ]
  },
  {
   "cell_type": "code",
   "execution_count": 47,
   "id": "9225111e-56d6-4346-b531-4d22b2021022",
   "metadata": {
    "tags": []
   },
   "outputs": [
    {
     "data": {
      "text/html": [
       "<b>Review <a target=\"blank\" href=\"https://console.aws.amazon.com/sagemaker/home?region=us-east-1#/transform-jobs/\">Batch Transform Jobs</a></b>"
      ],
      "text/plain": [
       "<IPython.core.display.HTML object>"
      ]
     },
     "metadata": {},
     "output_type": "display_data"
    }
   ],
   "source": [
    "from IPython.core.display import display, HTML\n",
    "\n",
    "display(\n",
    "    HTML(\n",
    "        '<b>Review <a target=\"blank\" href=\"https://console.aws.amazon.com/sagemaker/home?region={}#/transform-jobs/\">Batch Transform Jobs</a></b>'.format(\n",
    "            region\n",
    "        )\n",
    "    )\n",
    ")"
   ]
  },
  {
   "cell_type": "code",
   "execution_count": 48,
   "id": "8c885423-799c-4e55-b9ff-c335be3cf289",
   "metadata": {
    "tags": []
   },
   "outputs": [
    {
     "name": "stdout",
     "output_type": "stream",
     "text": [
      "InProgress\n",
      "FeatureEngineering\n",
      "InProgress FeatureEngineering\n",
      "InProgress FeatureEngineering\n",
      "InProgress FeatureEngineering\n",
      "InProgress FeatureEngineering\n",
      "InProgress ModelTuning\n",
      "[OK] Feature engineering phase completed.\n",
      "\n",
      "{\n",
      "    \"AutoMLJobArn\": \"arn:aws:sagemaker:us-east-1:924490614652:automl-job/automl-dm-10-07-32-11\",\n",
      "    \"AutoMLJobArtifacts\": {\n",
      "        \"CandidateDefinitionNotebookLocation\": \"s3://sagemaker-us-east-1-924490614652/models/autopilot/automl-dm-10-07-32-11/sagemaker-automl-candidates/automl-dm-10-07-32-11-pr-1-5552ac2104684f7498e34be6144a83be2c1e/notebooks/SageMakerAutopilotCandidateDefinitionNotebook.ipynb\",\n",
      "        \"DataExplorationNotebookLocation\": \"s3://sagemaker-us-east-1-924490614652/models/autopilot/automl-dm-10-07-32-11/sagemaker-automl-candidates/automl-dm-10-07-32-11-pr-1-5552ac2104684f7498e34be6144a83be2c1e/notebooks/SageMakerAutopilotDataExplorationNotebook.ipynb\"\n",
      "    },\n",
      "    \"AutoMLJobConfig\": {\n",
      "        \"CompletionCriteria\": {\n",
      "            \"MaxAutoMLJobRuntimeInSeconds\": 5400,\n",
      "            \"MaxCandidates\": 3,\n",
      "            \"MaxRuntimePerTrainingJobInSeconds\": 900\n",
      "        }\n",
      "    },\n",
      "    \"AutoMLJobName\": \"automl-dm-10-07-32-11\",\n",
      "    \"AutoMLJobSecondaryStatus\": \"ModelTuning\",\n",
      "    \"AutoMLJobStatus\": \"InProgress\",\n",
      "    \"CreationTime\": \"2023-04-10 07:33:28.039000+00:00\",\n",
      "    \"GenerateCandidateDefinitionsOnly\": false,\n",
      "    \"InputDataConfig\": [\n",
      "        {\n",
      "            \"ChannelType\": \"training\",\n",
      "            \"ContentType\": \"text/csv;header=present\",\n",
      "            \"DataSource\": {\n",
      "                \"S3DataSource\": {\n",
      "                    \"S3DataType\": \"S3Prefix\",\n",
      "                    \"S3Uri\": \"s3://sagemaker-us-east-1-924490614652/data/compensation_cpi_autopilot.csv\"\n",
      "                }\n",
      "            },\n",
      "            \"TargetAttributeName\": \"total_benefits\"\n",
      "        }\n",
      "    ],\n",
      "    \"LastModifiedTime\": \"2023-04-10 07:54:58.819000+00:00\",\n",
      "    \"OutputDataConfig\": {\n",
      "        \"S3OutputPath\": \"s3://sagemaker-us-east-1-924490614652/models/autopilot\"\n",
      "    },\n",
      "    \"ResolvedAttributes\": {\n",
      "        \"AutoMLJobObjective\": {\n",
      "            \"MetricName\": \"MSE\"\n",
      "        },\n",
      "        \"CompletionCriteria\": {\n",
      "            \"MaxAutoMLJobRuntimeInSeconds\": 5400,\n",
      "            \"MaxCandidates\": 3,\n",
      "            \"MaxRuntimePerTrainingJobInSeconds\": 900\n",
      "        },\n",
      "        \"ProblemType\": \"Regression\"\n",
      "    },\n",
      "    \"ResponseMetadata\": {\n",
      "        \"HTTPHeaders\": {\n",
      "            \"content-length\": \"1651\",\n",
      "            \"content-type\": \"application/x-amz-json-1.1\",\n",
      "            \"date\": \"Mon, 10 Apr 2023 07:54:58 GMT\",\n",
      "            \"x-amzn-requestid\": \"91448537-56dc-4be7-9519-c69171fe9c14\"\n",
      "        },\n",
      "        \"HTTPStatusCode\": 200,\n",
      "        \"RequestId\": \"91448537-56dc-4be7-9519-c69171fe9c14\",\n",
      "        \"RetryAttempts\": 0\n",
      "    },\n",
      "    \"RoleArn\": \"arn:aws:iam::924490614652:role/LabRole\"\n",
      "}\n",
      "CPU times: user 39.2 ms, sys: 1 ms, total: 40.2 ms\n",
      "Wall time: 1min 15s\n"
     ]
    }
   ],
   "source": [
    "%%time\n",
    "\n",
    "job_description_response = sm.describe_auto_ml_job(AutoMLJobName=auto_ml_job_name)\n",
    "job_status = job_description_response[\"AutoMLJobStatus\"]\n",
    "job_sec_status = job_description_response[\"AutoMLJobSecondaryStatus\"]\n",
    "print(job_status)\n",
    "print(job_sec_status)\n",
    "if job_status not in (\"Stopped\", \"Failed\"):\n",
    "    while job_status in (\"InProgress\") and job_sec_status in (\"FeatureEngineering\"):\n",
    "        job_description_response = sm.describe_auto_ml_job(AutoMLJobName=auto_ml_job_name)\n",
    "        job_status = job_description_response[\"AutoMLJobStatus\"]\n",
    "        job_sec_status = job_description_response[\"AutoMLJobSecondaryStatus\"]\n",
    "        print(job_status, job_sec_status)\n",
    "        sleep(15)\n",
    "    print(\"[OK] Feature engineering phase completed.\\n\")\n",
    "\n",
    "print(json.dumps(job_description_response, indent=4, sort_keys=True, default=str))"
   ]
  },
  {
   "cell_type": "markdown",
   "id": "11693064-3513-45d4-8b29-9416ad370e1b",
   "metadata": {},
   "source": [
    "### Model Training and Tuning\n"
   ]
  },
  {
   "cell_type": "code",
   "execution_count": 49,
   "id": "70b8a103-d019-4c03-8984-6dec29ca8040",
   "metadata": {
    "tags": []
   },
   "outputs": [
    {
     "data": {
      "text/html": [
       "<b>Review <a target=\"blank\" href=\"https://console.aws.amazon.com/sagemaker/home?region=us-east-1#/hyper-tuning-jobs/\">Hyperparameter Tuning Jobs</a></b>"
      ],
      "text/plain": [
       "<IPython.core.display.HTML object>"
      ]
     },
     "metadata": {},
     "output_type": "display_data"
    }
   ],
   "source": [
    "from IPython.core.display import display, HTML\n",
    "\n",
    "display(\n",
    "    HTML(\n",
    "        '<b>Review <a target=\"blank\" href=\"https://console.aws.amazon.com/sagemaker/home?region={}#/hyper-tuning-jobs/\">Hyperparameter Tuning Jobs</a></b>'.format(\n",
    "            region\n",
    "        )\n",
    "    )\n",
    ")"
   ]
  },
  {
   "cell_type": "code",
   "execution_count": 50,
   "id": "07aaa7f0-5a0c-4a6b-b656-dac5b27250ec",
   "metadata": {
    "tags": []
   },
   "outputs": [
    {
     "name": "stdout",
     "output_type": "stream",
     "text": [
      "InProgress\n",
      "ModelTuning\n",
      "InProgress ModelTuning\n",
      "InProgress ModelTuning\n",
      "InProgress ModelTuning\n",
      "InProgress ModelTuning\n",
      "InProgress ModelTuning\n",
      "InProgress ModelTuning\n",
      "InProgress ModelTuning\n",
      "InProgress MergingAutoMLTaskReports\n",
      "[OK] Model tuning phase completed.\n",
      "\n",
      "{\n",
      "    \"AutoMLJobArn\": \"arn:aws:sagemaker:us-east-1:924490614652:automl-job/automl-dm-10-07-32-11\",\n",
      "    \"AutoMLJobArtifacts\": {\n",
      "        \"CandidateDefinitionNotebookLocation\": \"s3://sagemaker-us-east-1-924490614652/models/autopilot/automl-dm-10-07-32-11/sagemaker-automl-candidates/automl-dm-10-07-32-11-pr-1-5552ac2104684f7498e34be6144a83be2c1e/notebooks/SageMakerAutopilotCandidateDefinitionNotebook.ipynb\",\n",
      "        \"DataExplorationNotebookLocation\": \"s3://sagemaker-us-east-1-924490614652/models/autopilot/automl-dm-10-07-32-11/sagemaker-automl-candidates/automl-dm-10-07-32-11-pr-1-5552ac2104684f7498e34be6144a83be2c1e/notebooks/SageMakerAutopilotDataExplorationNotebook.ipynb\"\n",
      "    },\n",
      "    \"AutoMLJobConfig\": {\n",
      "        \"CompletionCriteria\": {\n",
      "            \"MaxAutoMLJobRuntimeInSeconds\": 5400,\n",
      "            \"MaxCandidates\": 3,\n",
      "            \"MaxRuntimePerTrainingJobInSeconds\": 900\n",
      "        }\n",
      "    },\n",
      "    \"AutoMLJobName\": \"automl-dm-10-07-32-11\",\n",
      "    \"AutoMLJobSecondaryStatus\": \"MergingAutoMLTaskReports\",\n",
      "    \"AutoMLJobStatus\": \"InProgress\",\n",
      "    \"BestCandidate\": {\n",
      "        \"CandidateName\": \"automl-dm-10-07-32-11KWw7cLa0hBd-001-3332516c\",\n",
      "        \"CandidateProperties\": {\n",
      "            \"CandidateMetrics\": [\n",
      "                {\n",
      "                    \"MetricName\": \"MAE\",\n",
      "                    \"Set\": \"Validation\",\n",
      "                    \"StandardMetricName\": \"MAE\",\n",
      "                    \"Value\": 5832.0615234375\n",
      "                },\n",
      "                {\n",
      "                    \"MetricName\": \"RMSE\",\n",
      "                    \"Set\": \"Validation\",\n",
      "                    \"StandardMetricName\": \"RMSE\",\n",
      "                    \"Value\": 8368.9462890625\n",
      "                },\n",
      "                {\n",
      "                    \"MetricName\": \"MSE\",\n",
      "                    \"Set\": \"Validation\",\n",
      "                    \"StandardMetricName\": \"MSE\",\n",
      "                    \"Value\": 70039264.0\n",
      "                },\n",
      "                {\n",
      "                    \"MetricName\": \"R2\",\n",
      "                    \"Set\": \"Validation\",\n",
      "                    \"StandardMetricName\": \"R2\",\n",
      "                    \"Value\": 0.8774399757385254\n",
      "                }\n",
      "            ]\n",
      "        },\n",
      "        \"CandidateStatus\": \"Completed\",\n",
      "        \"CandidateSteps\": [\n",
      "            {\n",
      "                \"CandidateStepArn\": \"arn:aws:sagemaker:us-east-1:924490614652:processing-job/automl-dm-10-07-32-11-db-1-88312a4a0ab24b24885cd11e84c5b1392bb9\",\n",
      "                \"CandidateStepName\": \"automl-dm-10-07-32-11-db-1-88312a4a0ab24b24885cd11e84c5b1392bb9\",\n",
      "                \"CandidateStepType\": \"AWS::SageMaker::ProcessingJob\"\n",
      "            },\n",
      "            {\n",
      "                \"CandidateStepArn\": \"arn:aws:sagemaker:us-east-1:924490614652:training-job/automl-dm-10-07-32-11-dpp1-1-9be00f19eeb64a97a58d95421a9ccb529a\",\n",
      "                \"CandidateStepName\": \"automl-dm-10-07-32-11-dpp1-1-9be00f19eeb64a97a58d95421a9ccb529a\",\n",
      "                \"CandidateStepType\": \"AWS::SageMaker::TrainingJob\"\n",
      "            },\n",
      "            {\n",
      "                \"CandidateStepArn\": \"arn:aws:sagemaker:us-east-1:924490614652:transform-job/automl-dm-10-07-32-11-dpp1-csv-1-ac6a2ee0cdc54bbfbe42995b7e2c5e\",\n",
      "                \"CandidateStepName\": \"automl-dm-10-07-32-11-dpp1-csv-1-ac6a2ee0cdc54bbfbe42995b7e2c5e\",\n",
      "                \"CandidateStepType\": \"AWS::SageMaker::TransformJob\"\n",
      "            },\n",
      "            {\n",
      "                \"CandidateStepArn\": \"arn:aws:sagemaker:us-east-1:924490614652:training-job/automl-dm-10-07-32-11KWw7cLa0hBd-001-3332516c\",\n",
      "                \"CandidateStepName\": \"automl-dm-10-07-32-11KWw7cLa0hBd-001-3332516c\",\n",
      "                \"CandidateStepType\": \"AWS::SageMaker::TrainingJob\"\n",
      "            }\n",
      "        ],\n",
      "        \"CreationTime\": \"2023-04-10 07:56:04+00:00\",\n",
      "        \"EndTime\": \"2023-04-10 07:58:57+00:00\",\n",
      "        \"FinalAutoMLJobObjectiveMetric\": {\n",
      "            \"MetricName\": \"validation:mse\",\n",
      "            \"StandardMetricName\": \"MSE\",\n",
      "            \"Value\": 70039264.0\n",
      "        },\n",
      "        \"InferenceContainers\": [\n",
      "            {\n",
      "                \"Environment\": {\n",
      "                    \"AUTOML_TRANSFORM_MODE\": \"feature-transform\",\n",
      "                    \"SAGEMAKER_DEFAULT_INVOCATIONS_ACCEPT\": \"application/x-recordio-protobuf\",\n",
      "                    \"SAGEMAKER_PROGRAM\": \"sagemaker_serve\",\n",
      "                    \"SAGEMAKER_SUBMIT_DIRECTORY\": \"/opt/ml/model/code\"\n",
      "                },\n",
      "                \"Image\": \"683313688378.dkr.ecr.us-east-1.amazonaws.com/sagemaker-sklearn-automl:2.5-1-cpu-py3\",\n",
      "                \"ModelDataUrl\": \"s3://sagemaker-us-east-1-924490614652/models/autopilot/automl-dm-10-07-32-11/data-processor-models/automl-dm-10-07-32-11-dpp1-1-9be00f19eeb64a97a58d95421a9ccb529a/output/model.tar.gz\"\n",
      "            },\n",
      "            {\n",
      "                \"Environment\": {\n",
      "                    \"MAX_CONTENT_LENGTH\": \"20971520\",\n",
      "                    \"SAGEMAKER_DEFAULT_INVOCATIONS_ACCEPT\": \"text/csv\"\n",
      "                },\n",
      "                \"Image\": \"683313688378.dkr.ecr.us-east-1.amazonaws.com/sagemaker-xgboost:1.3-1-cpu-py3\",\n",
      "                \"ModelDataUrl\": \"s3://sagemaker-us-east-1-924490614652/models/autopilot/automl-dm-10-07-32-11/tuning/automl-dm--dpp1-xgb/automl-dm-10-07-32-11KWw7cLa0hBd-001-3332516c/output/model.tar.gz\"\n",
      "            }\n",
      "        ],\n",
      "        \"LastModifiedTime\": \"2023-04-10 07:59:50.607000+00:00\",\n",
      "        \"ObjectiveStatus\": \"Succeeded\"\n",
      "    },\n",
      "    \"CreationTime\": \"2023-04-10 07:33:28.039000+00:00\",\n",
      "    \"GenerateCandidateDefinitionsOnly\": false,\n",
      "    \"InputDataConfig\": [\n",
      "        {\n",
      "            \"ChannelType\": \"training\",\n",
      "            \"ContentType\": \"text/csv;header=present\",\n",
      "            \"DataSource\": {\n",
      "                \"S3DataSource\": {\n",
      "                    \"S3DataType\": \"S3Prefix\",\n",
      "                    \"S3Uri\": \"s3://sagemaker-us-east-1-924490614652/data/compensation_cpi_autopilot.csv\"\n",
      "                }\n",
      "            },\n",
      "            \"TargetAttributeName\": \"total_benefits\"\n",
      "        }\n",
      "    ],\n",
      "    \"LastModifiedTime\": \"2023-04-10 07:59:51.626000+00:00\",\n",
      "    \"OutputDataConfig\": {\n",
      "        \"S3OutputPath\": \"s3://sagemaker-us-east-1-924490614652/models/autopilot\"\n",
      "    },\n",
      "    \"ResolvedAttributes\": {\n",
      "        \"AutoMLJobObjective\": {\n",
      "            \"MetricName\": \"MSE\"\n",
      "        },\n",
      "        \"CompletionCriteria\": {\n",
      "            \"MaxAutoMLJobRuntimeInSeconds\": 5400,\n",
      "            \"MaxCandidates\": 3,\n",
      "            \"MaxRuntimePerTrainingJobInSeconds\": 900\n",
      "        },\n",
      "        \"ProblemType\": \"Regression\"\n",
      "    },\n",
      "    \"ResponseMetadata\": {\n",
      "        \"HTTPHeaders\": {\n",
      "            \"content-length\": \"4451\",\n",
      "            \"content-type\": \"application/x-amz-json-1.1\",\n",
      "            \"date\": \"Mon, 10 Apr 2023 08:00:01 GMT\",\n",
      "            \"x-amzn-requestid\": \"e0d0fb22-5801-46e7-b782-a1f1b829ca31\"\n",
      "        },\n",
      "        \"HTTPStatusCode\": 200,\n",
      "        \"RequestId\": \"e0d0fb22-5801-46e7-b782-a1f1b829ca31\",\n",
      "        \"RetryAttempts\": 0\n",
      "    },\n",
      "    \"RoleArn\": \"arn:aws:iam::924490614652:role/LabRole\"\n",
      "}\n",
      "CPU times: user 39.9 ms, sys: 15 ms, total: 54.8 ms\n",
      "Wall time: 2min 1s\n"
     ]
    }
   ],
   "source": [
    "%%time\n",
    "#Tuning  phase\n",
    "job_description_response = sm.describe_auto_ml_job(AutoMLJobName=auto_ml_job_name)\n",
    "job_status = job_description_response[\"AutoMLJobStatus\"]\n",
    "job_sec_status = job_description_response[\"AutoMLJobSecondaryStatus\"]\n",
    "print(job_status)\n",
    "print(job_sec_status)\n",
    "if job_status not in (\"Stopped\", \"Failed\"):\n",
    "    while job_status in (\"InProgress\") and job_sec_status in (\"ModelTuning\"):\n",
    "        job_description_response = sm.describe_auto_ml_job(AutoMLJobName=auto_ml_job_name)\n",
    "        job_status = job_description_response[\"AutoMLJobStatus\"]\n",
    "        job_sec_status = job_description_response[\"AutoMLJobSecondaryStatus\"]\n",
    "        print(job_status, job_sec_status)\n",
    "        sleep(15)\n",
    "    print(\"[OK] Model tuning phase completed.\\n\")\n",
    "\n",
    "print(json.dumps(job_description_response, indent=4, sort_keys=True, default=str))\n"
   ]
  },
  {
   "cell_type": "code",
   "execution_count": 51,
   "id": "2a1661c9-38a4-4833-a738-4f0cbad8517e",
   "metadata": {
    "tags": []
   },
   "outputs": [
    {
     "name": "stdout",
     "output_type": "stream",
     "text": [
      "InProgress\n",
      "InProgress\n",
      "InProgress\n",
      "InProgress\n",
      "InProgress\n",
      "InProgress\n",
      "InProgress\n",
      "InProgress\n",
      "InProgress\n",
      "InProgress\n",
      "InProgress\n",
      "InProgress\n",
      "InProgress\n",
      "InProgress\n",
      "InProgress\n",
      "InProgress\n",
      "InProgress\n",
      "InProgress\n",
      "InProgress\n",
      "InProgress\n",
      "InProgress\n",
      "InProgress\n",
      "InProgress\n",
      "InProgress\n",
      "InProgress\n",
      "InProgress\n",
      "InProgress\n",
      "InProgress\n",
      "InProgress\n",
      "InProgress\n",
      "InProgress\n",
      "InProgress\n",
      "InProgress\n",
      "InProgress\n",
      "InProgress\n",
      "InProgress\n",
      "InProgress\n",
      "InProgress\n",
      "InProgress\n",
      "InProgress\n",
      "InProgress\n",
      "InProgress\n",
      "InProgress\n",
      "InProgress\n",
      "InProgress\n",
      "InProgress\n",
      "InProgress\n",
      "InProgress\n",
      "InProgress\n",
      "InProgress\n",
      "InProgress\n",
      "InProgress\n",
      "InProgress\n",
      "InProgress\n",
      "InProgress\n",
      "InProgress\n",
      "InProgress\n",
      "InProgress\n",
      "InProgress\n",
      "InProgress\n",
      "InProgress\n",
      "InProgress\n",
      "InProgress\n",
      "InProgress\n",
      "InProgress\n",
      "InProgress\n",
      "InProgress\n",
      "InProgress\n",
      "InProgress\n",
      "InProgress\n",
      "InProgress\n",
      "InProgress\n",
      "InProgress\n",
      "InProgress\n",
      "InProgress\n",
      "InProgress\n",
      "InProgress\n",
      "InProgress\n",
      "InProgress\n",
      "InProgress\n",
      "InProgress\n",
      "InProgress\n",
      "InProgress\n",
      "InProgress\n",
      "Completed\n",
      "[OK] Autopilot Job completed.\n",
      "\n",
      "CPU times: user 397 ms, sys: 25.6 ms, total: 422 ms\n",
      "Wall time: 14min 11s\n"
     ]
    }
   ],
   "source": [
    "%%time\n",
    "#Training phase\n",
    "job_description_response = sm.describe_auto_ml_job(AutoMLJobName=auto_ml_job_name)\n",
    "job_status = job_description_response[\"AutoMLJobStatus\"]\n",
    "print(job_status)\n",
    "if job_status not in (\"Stopped\", \"Failed\"):\n",
    "    while job_status not in (\"Completed\"):\n",
    "        job_description_response = sm.describe_auto_ml_job(AutoMLJobName=auto_ml_job_name)\n",
    "        job_status = job_description_response[\"AutoMLJobStatus\"]\n",
    "        print(job_status)\n",
    "        sleep(10)\n",
    "    print(\"[OK] Autopilot Job completed.\\n\")\n",
    "else:\n",
    "    print(job_status)"
   ]
  },
  {
   "cell_type": "markdown",
   "id": "87b91be7-7978-41e5-8ff9-e9b76c74f62d",
   "metadata": {},
   "source": [
    "### Viewing All Candidates\n"
   ]
  },
  {
   "cell_type": "code",
   "execution_count": 59,
   "id": "b96b8cdf-c79f-40d9-8509-8665d0e1c8e8",
   "metadata": {
    "tags": []
   },
   "outputs": [],
   "source": [
    "candidates_response = sm.list_candidates_for_auto_ml_job(\n",
    "    AutoMLJobName=auto_ml_job_name, SortBy=\"FinalObjectiveMetricValue\"\n",
    ")"
   ]
  },
  {
   "cell_type": "markdown",
   "id": "dd478cb6-b3ca-41b1-8ab9-8910339e3b00",
   "metadata": {},
   "source": [
    "#### Check that candidates exist"
   ]
  },
  {
   "cell_type": "code",
   "execution_count": 60,
   "id": "f9d35842-2105-4f3a-89aa-f1f3d0b83236",
   "metadata": {
    "tags": []
   },
   "outputs": [
    {
     "name": "stdout",
     "output_type": "stream",
     "text": [
      "dict_keys(['Candidates', 'ResponseMetadata'])\n"
     ]
    }
   ],
   "source": [
    "print(candidates_response.keys())"
   ]
  },
  {
   "cell_type": "code",
   "execution_count": 61,
   "id": "130de996-c0f6-4ec2-9e5a-83d8c87504ee",
   "metadata": {
    "tags": []
   },
   "outputs": [
    {
     "name": "stdout",
     "output_type": "stream",
     "text": [
      "[OK] Candidates generated.\n"
     ]
    }
   ],
   "source": [
    "while \"Candidates\" not in candidates_response.keys():\n",
    "    candidates_response = sm.list_candidates_for_auto_ml_job(\n",
    "        AutoMLJobName=auto_ml_job_name, SortBy=\"FinalObjectiveMetricValue\"\n",
    "    )\n",
    "    print(\"[INFO] Autopilot Job is generating the Candidates. Please wait.\")\n",
    "    print(json.dumps(candidates_response, indent=4, sort_keys=True, default=str))\n",
    "    sleep(10)\n",
    "\n",
    "candidates = candidates_response[\"Candidates\"]\n",
    "print(\"[OK] Candidates generated.\")"
   ]
  },
  {
   "cell_type": "code",
   "execution_count": 55,
   "id": "f990a7e5-f794-4361-a49a-f5f9b1280dc8",
   "metadata": {
    "tags": []
   },
   "outputs": [
    {
     "name": "stdout",
     "output_type": "stream",
     "text": [
      "dict_keys(['CandidateName', 'FinalAutoMLJobObjectiveMetric', 'ObjectiveStatus', 'CandidateSteps', 'CandidateStatus', 'InferenceContainers', 'CreationTime', 'EndTime', 'LastModifiedTime', 'CandidateProperties'])\n"
     ]
    }
   ],
   "source": [
    "print(candidates[0].keys())"
   ]
  },
  {
   "cell_type": "code",
   "execution_count": 56,
   "id": "77e4e8c5-bce4-4964-ac6a-08f22b744cfc",
   "metadata": {
    "tags": []
   },
   "outputs": [
    {
     "name": "stdout",
     "output_type": "stream",
     "text": [
      "[OK] CandidateName generated.\n"
     ]
    }
   ],
   "source": [
    "while \"CandidateName\" not in candidates[0]:\n",
    "    candidates_response = sm.list_candidates_for_auto_ml_job(\n",
    "        AutoMLJobName=auto_ml_job_name, SortBy=\"FinalObjectiveMetricValue\"\n",
    "    )\n",
    "    candidates = candidates_response[\"Candidates\"]\n",
    "    print(\"[INFO] Autopilot Job is generating CandidateName. Please wait. \")\n",
    "    print(json.dumps(candidates, indent=4, sort_keys=True, default=str))\n",
    "    sleep(10)\n",
    "\n",
    "print(\"[OK] CandidateName generated.\")"
   ]
  },
  {
   "cell_type": "code",
   "execution_count": 57,
   "id": "66b39b25-4839-44e5-8632-76330fdfdea3",
   "metadata": {
    "tags": []
   },
   "outputs": [
    {
     "name": "stdout",
     "output_type": "stream",
     "text": [
      "[OK] FinalAutoMLJobObjectiveMetric generated.\n"
     ]
    }
   ],
   "source": [
    "while \"FinalAutoMLJobObjectiveMetric\" not in candidates[0]:\n",
    "    candidates_response = sm.list_candidates_for_auto_ml_job(\n",
    "        AutoMLJobName=auto_ml_job_name, SortBy=\"FinalObjectiveMetricValue\"\n",
    "    )\n",
    "    candidates = candidates_response[\"Candidates\"]\n",
    "    print(\"[INFO] Autopilot Job is generating FinalAutoMLJobObjectiveMetric. Please wait. \")\n",
    "    print(json.dumps(candidates, indent=4, sort_keys=True, default=str))\n",
    "    sleep(10)\n",
    "\n",
    "print(\"[OK] FinalAutoMLJobObjectiveMetric generated.\")"
   ]
  },
  {
   "cell_type": "code",
   "execution_count": 58,
   "id": "b2f7a821-9d8d-459e-b57e-ad2282eda677",
   "metadata": {
    "tags": []
   },
   "outputs": [
    {
     "name": "stdout",
     "output_type": "stream",
     "text": [
      "[\n",
      "    {\n",
      "        \"CandidateName\": \"automl-dm-10-07-32-11KWw7cLa0hBd-003-66814648\",\n",
      "        \"CandidateProperties\": {\n",
      "            \"CandidateMetrics\": [\n",
      "                {\n",
      "                    \"MetricName\": \"MAE\",\n",
      "                    \"Set\": \"Validation\",\n",
      "                    \"StandardMetricName\": \"MAE\",\n",
      "                    \"Value\": 6531.89404296875\n",
      "                },\n",
      "                {\n",
      "                    \"MetricName\": \"RMSE\",\n",
      "                    \"Set\": \"Validation\",\n",
      "                    \"StandardMetricName\": \"RMSE\",\n",
      "                    \"Value\": 9452.228515625\n",
      "                },\n",
      "                {\n",
      "                    \"MetricName\": \"MSE\",\n",
      "                    \"Set\": \"Validation\",\n",
      "                    \"StandardMetricName\": \"MSE\",\n",
      "                    \"Value\": 89344632.0\n",
      "                },\n",
      "                {\n",
      "                    \"MetricName\": \"R2\",\n",
      "                    \"Set\": \"Validation\",\n",
      "                    \"StandardMetricName\": \"R2\",\n",
      "                    \"Value\": 0.8436599969863892\n",
      "                }\n",
      "            ]\n",
      "        },\n",
      "        \"CandidateStatus\": \"Completed\",\n",
      "        \"CandidateSteps\": [\n",
      "            {\n",
      "                \"CandidateStepArn\": \"arn:aws:sagemaker:us-east-1:924490614652:processing-job/automl-dm-10-07-32-11-db-1-88312a4a0ab24b24885cd11e84c5b1392bb9\",\n",
      "                \"CandidateStepName\": \"automl-dm-10-07-32-11-db-1-88312a4a0ab24b24885cd11e84c5b1392bb9\",\n",
      "                \"CandidateStepType\": \"AWS::SageMaker::ProcessingJob\"\n",
      "            },\n",
      "            {\n",
      "                \"CandidateStepArn\": \"arn:aws:sagemaker:us-east-1:924490614652:training-job/automl-dm-10-07-32-11-dpp1-1-9be00f19eeb64a97a58d95421a9ccb529a\",\n",
      "                \"CandidateStepName\": \"automl-dm-10-07-32-11-dpp1-1-9be00f19eeb64a97a58d95421a9ccb529a\",\n",
      "                \"CandidateStepType\": \"AWS::SageMaker::TrainingJob\"\n",
      "            },\n",
      "            {\n",
      "                \"CandidateStepArn\": \"arn:aws:sagemaker:us-east-1:924490614652:transform-job/automl-dm-10-07-32-11-dpp1-csv-1-ac6a2ee0cdc54bbfbe42995b7e2c5e\",\n",
      "                \"CandidateStepName\": \"automl-dm-10-07-32-11-dpp1-csv-1-ac6a2ee0cdc54bbfbe42995b7e2c5e\",\n",
      "                \"CandidateStepType\": \"AWS::SageMaker::TransformJob\"\n",
      "            },\n",
      "            {\n",
      "                \"CandidateStepArn\": \"arn:aws:sagemaker:us-east-1:924490614652:training-job/automl-dm-10-07-32-11KWw7cLa0hBd-003-66814648\",\n",
      "                \"CandidateStepName\": \"automl-dm-10-07-32-11KWw7cLa0hBd-003-66814648\",\n",
      "                \"CandidateStepType\": \"AWS::SageMaker::TrainingJob\"\n",
      "            }\n",
      "        ],\n",
      "        \"CreationTime\": \"2023-04-10 07:56:17+00:00\",\n",
      "        \"EndTime\": \"2023-04-10 07:59:09+00:00\",\n",
      "        \"FinalAutoMLJobObjectiveMetric\": {\n",
      "            \"MetricName\": \"validation:mse\",\n",
      "            \"StandardMetricName\": \"MSE\",\n",
      "            \"Value\": 89344632.0\n",
      "        },\n",
      "        \"InferenceContainers\": [\n",
      "            {\n",
      "                \"Environment\": {\n",
      "                    \"AUTOML_TRANSFORM_MODE\": \"feature-transform\",\n",
      "                    \"SAGEMAKER_DEFAULT_INVOCATIONS_ACCEPT\": \"application/x-recordio-protobuf\",\n",
      "                    \"SAGEMAKER_PROGRAM\": \"sagemaker_serve\",\n",
      "                    \"SAGEMAKER_SUBMIT_DIRECTORY\": \"/opt/ml/model/code\"\n",
      "                },\n",
      "                \"Image\": \"683313688378.dkr.ecr.us-east-1.amazonaws.com/sagemaker-sklearn-automl:2.5-1-cpu-py3\",\n",
      "                \"ModelDataUrl\": \"s3://sagemaker-us-east-1-924490614652/models/autopilot/automl-dm-10-07-32-11/data-processor-models/automl-dm-10-07-32-11-dpp1-1-9be00f19eeb64a97a58d95421a9ccb529a/output/model.tar.gz\"\n",
      "            },\n",
      "            {\n",
      "                \"Environment\": {\n",
      "                    \"MAX_CONTENT_LENGTH\": \"20971520\",\n",
      "                    \"SAGEMAKER_DEFAULT_INVOCATIONS_ACCEPT\": \"text/csv\"\n",
      "                },\n",
      "                \"Image\": \"683313688378.dkr.ecr.us-east-1.amazonaws.com/sagemaker-xgboost:1.3-1-cpu-py3\",\n",
      "                \"ModelDataUrl\": \"s3://sagemaker-us-east-1-924490614652/models/autopilot/automl-dm-10-07-32-11/tuning/automl-dm--dpp1-xgb/automl-dm-10-07-32-11KWw7cLa0hBd-003-66814648/output/model.tar.gz\"\n",
      "            }\n",
      "        ],\n",
      "        \"LastModifiedTime\": \"2023-04-10 07:59:50.544000+00:00\",\n",
      "        \"ObjectiveStatus\": \"Succeeded\"\n",
      "    },\n",
      "    {\n",
      "        \"CandidateName\": \"automl-dm-10-07-32-11KWw7cLa0hBd-002-3efd9c25\",\n",
      "        \"CandidateProperties\": {\n",
      "            \"CandidateMetrics\": [\n",
      "                {\n",
      "                    \"MetricName\": \"MAE\",\n",
      "                    \"Set\": \"Validation\",\n",
      "                    \"StandardMetricName\": \"MAE\",\n",
      "                    \"Value\": 6531.89404296875\n",
      "                },\n",
      "                {\n",
      "                    \"MetricName\": \"RMSE\",\n",
      "                    \"Set\": \"Validation\",\n",
      "                    \"StandardMetricName\": \"RMSE\",\n",
      "                    \"Value\": 9452.228515625\n",
      "                },\n",
      "                {\n",
      "                    \"MetricName\": \"MSE\",\n",
      "                    \"Set\": \"Validation\",\n",
      "                    \"StandardMetricName\": \"MSE\",\n",
      "                    \"Value\": 89344632.0\n",
      "                },\n",
      "                {\n",
      "                    \"MetricName\": \"R2\",\n",
      "                    \"Set\": \"Validation\",\n",
      "                    \"StandardMetricName\": \"R2\",\n",
      "                    \"Value\": 0.8436599969863892\n",
      "                }\n",
      "            ]\n",
      "        },\n",
      "        \"CandidateStatus\": \"Completed\",\n",
      "        \"CandidateSteps\": [\n",
      "            {\n",
      "                \"CandidateStepArn\": \"arn:aws:sagemaker:us-east-1:924490614652:processing-job/automl-dm-10-07-32-11-db-1-88312a4a0ab24b24885cd11e84c5b1392bb9\",\n",
      "                \"CandidateStepName\": \"automl-dm-10-07-32-11-db-1-88312a4a0ab24b24885cd11e84c5b1392bb9\",\n",
      "                \"CandidateStepType\": \"AWS::SageMaker::ProcessingJob\"\n",
      "            },\n",
      "            {\n",
      "                \"CandidateStepArn\": \"arn:aws:sagemaker:us-east-1:924490614652:training-job/automl-dm-10-07-32-11-dpp2-1-3421a8be86b04fe6ba472561f27359645a\",\n",
      "                \"CandidateStepName\": \"automl-dm-10-07-32-11-dpp2-1-3421a8be86b04fe6ba472561f27359645a\",\n",
      "                \"CandidateStepType\": \"AWS::SageMaker::TrainingJob\"\n",
      "            },\n",
      "            {\n",
      "                \"CandidateStepArn\": \"arn:aws:sagemaker:us-east-1:924490614652:transform-job/automl-dm-10-07-32-11-dpp2-csv-1-da418f26489c4476b1281a0b44bf88\",\n",
      "                \"CandidateStepName\": \"automl-dm-10-07-32-11-dpp2-csv-1-da418f26489c4476b1281a0b44bf88\",\n",
      "                \"CandidateStepType\": \"AWS::SageMaker::TransformJob\"\n",
      "            },\n",
      "            {\n",
      "                \"CandidateStepArn\": \"arn:aws:sagemaker:us-east-1:924490614652:training-job/automl-dm-10-07-32-11KWw7cLa0hBd-002-3efd9c25\",\n",
      "                \"CandidateStepName\": \"automl-dm-10-07-32-11KWw7cLa0hBd-002-3efd9c25\",\n",
      "                \"CandidateStepType\": \"AWS::SageMaker::TrainingJob\"\n",
      "            }\n",
      "        ],\n",
      "        \"CreationTime\": \"2023-04-10 07:56:07+00:00\",\n",
      "        \"EndTime\": \"2023-04-10 07:59:09+00:00\",\n",
      "        \"FinalAutoMLJobObjectiveMetric\": {\n",
      "            \"MetricName\": \"validation:mse\",\n",
      "            \"StandardMetricName\": \"MSE\",\n",
      "            \"Value\": 89344632.0\n",
      "        },\n",
      "        \"InferenceContainers\": [\n",
      "            {\n",
      "                \"Environment\": {\n",
      "                    \"AUTOML_TRANSFORM_MODE\": \"feature-transform\",\n",
      "                    \"SAGEMAKER_DEFAULT_INVOCATIONS_ACCEPT\": \"application/x-recordio-protobuf\",\n",
      "                    \"SAGEMAKER_PROGRAM\": \"sagemaker_serve\",\n",
      "                    \"SAGEMAKER_SUBMIT_DIRECTORY\": \"/opt/ml/model/code\"\n",
      "                },\n",
      "                \"Image\": \"683313688378.dkr.ecr.us-east-1.amazonaws.com/sagemaker-sklearn-automl:2.5-1-cpu-py3\",\n",
      "                \"ModelDataUrl\": \"s3://sagemaker-us-east-1-924490614652/models/autopilot/automl-dm-10-07-32-11/data-processor-models/automl-dm-10-07-32-11-dpp2-1-3421a8be86b04fe6ba472561f27359645a/output/model.tar.gz\"\n",
      "            },\n",
      "            {\n",
      "                \"Environment\": {\n",
      "                    \"MAX_CONTENT_LENGTH\": \"20971520\",\n",
      "                    \"SAGEMAKER_DEFAULT_INVOCATIONS_ACCEPT\": \"text/csv\"\n",
      "                },\n",
      "                \"Image\": \"683313688378.dkr.ecr.us-east-1.amazonaws.com/sagemaker-xgboost:1.3-1-cpu-py3\",\n",
      "                \"ModelDataUrl\": \"s3://sagemaker-us-east-1-924490614652/models/autopilot/automl-dm-10-07-32-11/tuning/automl-dm--dpp2-xgb/automl-dm-10-07-32-11KWw7cLa0hBd-002-3efd9c25/output/model.tar.gz\"\n",
      "            }\n",
      "        ],\n",
      "        \"LastModifiedTime\": \"2023-04-10 07:59:50.545000+00:00\",\n",
      "        \"ObjectiveStatus\": \"Succeeded\"\n",
      "    },\n",
      "    {\n",
      "        \"CandidateName\": \"automl-dm-10-07-32-11KWw7cLa0hBd-001-3332516c\",\n",
      "        \"CandidateProperties\": {\n",
      "            \"CandidateArtifactLocations\": {\n",
      "                \"Explainability\": \"s3://sagemaker-us-east-1-924490614652/models/autopilot/automl-dm-10-07-32-11/documentation/explainability/output\",\n",
      "                \"ModelInsights\": \"s3://sagemaker-us-east-1-924490614652/models/autopilot/automl-dm-10-07-32-11/documentation/model_monitor/output\"\n",
      "            },\n",
      "            \"CandidateMetrics\": [\n",
      "                {\n",
      "                    \"MetricName\": \"MAE\",\n",
      "                    \"Set\": \"Validation\",\n",
      "                    \"StandardMetricName\": \"MAE\",\n",
      "                    \"Value\": 5832.0615234375\n",
      "                },\n",
      "                {\n",
      "                    \"MetricName\": \"RMSE\",\n",
      "                    \"Set\": \"Validation\",\n",
      "                    \"StandardMetricName\": \"RMSE\",\n",
      "                    \"Value\": 8368.9462890625\n",
      "                },\n",
      "                {\n",
      "                    \"MetricName\": \"MSE\",\n",
      "                    \"Set\": \"Validation\",\n",
      "                    \"StandardMetricName\": \"MSE\",\n",
      "                    \"Value\": 70039264.0\n",
      "                },\n",
      "                {\n",
      "                    \"MetricName\": \"R2\",\n",
      "                    \"Set\": \"Validation\",\n",
      "                    \"StandardMetricName\": \"R2\",\n",
      "                    \"Value\": 0.8774399757385254\n",
      "                }\n",
      "            ]\n",
      "        },\n",
      "        \"CandidateStatus\": \"Completed\",\n",
      "        \"CandidateSteps\": [\n",
      "            {\n",
      "                \"CandidateStepArn\": \"arn:aws:sagemaker:us-east-1:924490614652:processing-job/automl-dm-10-07-32-11-db-1-88312a4a0ab24b24885cd11e84c5b1392bb9\",\n",
      "                \"CandidateStepName\": \"automl-dm-10-07-32-11-db-1-88312a4a0ab24b24885cd11e84c5b1392bb9\",\n",
      "                \"CandidateStepType\": \"AWS::SageMaker::ProcessingJob\"\n",
      "            },\n",
      "            {\n",
      "                \"CandidateStepArn\": \"arn:aws:sagemaker:us-east-1:924490614652:training-job/automl-dm-10-07-32-11-dpp1-1-9be00f19eeb64a97a58d95421a9ccb529a\",\n",
      "                \"CandidateStepName\": \"automl-dm-10-07-32-11-dpp1-1-9be00f19eeb64a97a58d95421a9ccb529a\",\n",
      "                \"CandidateStepType\": \"AWS::SageMaker::TrainingJob\"\n",
      "            },\n",
      "            {\n",
      "                \"CandidateStepArn\": \"arn:aws:sagemaker:us-east-1:924490614652:transform-job/automl-dm-10-07-32-11-dpp1-csv-1-ac6a2ee0cdc54bbfbe42995b7e2c5e\",\n",
      "                \"CandidateStepName\": \"automl-dm-10-07-32-11-dpp1-csv-1-ac6a2ee0cdc54bbfbe42995b7e2c5e\",\n",
      "                \"CandidateStepType\": \"AWS::SageMaker::TransformJob\"\n",
      "            },\n",
      "            {\n",
      "                \"CandidateStepArn\": \"arn:aws:sagemaker:us-east-1:924490614652:training-job/automl-dm-10-07-32-11KWw7cLa0hBd-001-3332516c\",\n",
      "                \"CandidateStepName\": \"automl-dm-10-07-32-11KWw7cLa0hBd-001-3332516c\",\n",
      "                \"CandidateStepType\": \"AWS::SageMaker::TrainingJob\"\n",
      "            }\n",
      "        ],\n",
      "        \"CreationTime\": \"2023-04-10 07:56:04+00:00\",\n",
      "        \"EndTime\": \"2023-04-10 07:58:57+00:00\",\n",
      "        \"FinalAutoMLJobObjectiveMetric\": {\n",
      "            \"MetricName\": \"validation:mse\",\n",
      "            \"StandardMetricName\": \"MSE\",\n",
      "            \"Value\": 70039264.0\n",
      "        },\n",
      "        \"InferenceContainers\": [\n",
      "            {\n",
      "                \"Environment\": {\n",
      "                    \"AUTOML_TRANSFORM_MODE\": \"feature-transform\",\n",
      "                    \"SAGEMAKER_DEFAULT_INVOCATIONS_ACCEPT\": \"application/x-recordio-protobuf\",\n",
      "                    \"SAGEMAKER_PROGRAM\": \"sagemaker_serve\",\n",
      "                    \"SAGEMAKER_SUBMIT_DIRECTORY\": \"/opt/ml/model/code\"\n",
      "                },\n",
      "                \"Image\": \"683313688378.dkr.ecr.us-east-1.amazonaws.com/sagemaker-sklearn-automl:2.5-1-cpu-py3\",\n",
      "                \"ModelDataUrl\": \"s3://sagemaker-us-east-1-924490614652/models/autopilot/automl-dm-10-07-32-11/data-processor-models/automl-dm-10-07-32-11-dpp1-1-9be00f19eeb64a97a58d95421a9ccb529a/output/model.tar.gz\"\n",
      "            },\n",
      "            {\n",
      "                \"Environment\": {\n",
      "                    \"MAX_CONTENT_LENGTH\": \"20971520\",\n",
      "                    \"SAGEMAKER_DEFAULT_INVOCATIONS_ACCEPT\": \"text/csv\"\n",
      "                },\n",
      "                \"Image\": \"683313688378.dkr.ecr.us-east-1.amazonaws.com/sagemaker-xgboost:1.3-1-cpu-py3\",\n",
      "                \"ModelDataUrl\": \"s3://sagemaker-us-east-1-924490614652/models/autopilot/automl-dm-10-07-32-11/tuning/automl-dm--dpp1-xgb/automl-dm-10-07-32-11KWw7cLa0hBd-001-3332516c/output/model.tar.gz\"\n",
      "            }\n",
      "        ],\n",
      "        \"LastModifiedTime\": \"2023-04-10 07:59:50.607000+00:00\",\n",
      "        \"ObjectiveStatus\": \"Succeeded\"\n",
      "    }\n",
      "]\n"
     ]
    }
   ],
   "source": [
    "print(json.dumps(candidates, indent=4, sort_keys=True, default=str))\n"
   ]
  },
  {
   "cell_type": "code",
   "execution_count": 62,
   "id": "5bc78942-dc8a-430d-ab16-aa023ed9ff60",
   "metadata": {
    "tags": []
   },
   "outputs": [
    {
     "name": "stdout",
     "output_type": "stream",
     "text": [
      "0  automl-dm-10-07-32-11KWw7cLa0hBd-003-66814648  89344632.0\n",
      "1  automl-dm-10-07-32-11KWw7cLa0hBd-002-3efd9c25  89344632.0\n",
      "2  automl-dm-10-07-32-11KWw7cLa0hBd-001-3332516c  70039264.0\n"
     ]
    }
   ],
   "source": [
    "for index, candidate in enumerate(candidates):\n",
    "    print(\n",
    "        str(index)\n",
    "        + \"  \"\n",
    "        + candidate[\"CandidateName\"]\n",
    "        + \"  \"\n",
    "        + str(candidate[\"FinalAutoMLJobObjectiveMetric\"][\"Value\"])\n",
    "    )"
   ]
  },
  {
   "cell_type": "markdown",
   "id": "033a9e9a-487d-48b1-944c-8dc640cc645f",
   "metadata": {},
   "source": [
    "### Inspect Trials using Experiments API"
   ]
  },
  {
   "cell_type": "code",
   "execution_count": 63,
   "id": "43628098-53ed-48c9-bc1f-c0de2e2b76c8",
   "metadata": {
    "tags": []
   },
   "outputs": [
    {
     "name": "stdout",
     "output_type": "stream",
     "text": [
      "                                  TrialComponentName  \\\n",
      "0  automl-dm-10-07-32-11KWw7cLa0hBd-002-3efd9c25-...   \n",
      "1  automl-dm-10-07-32-11KWw7cLa0hBd-003-66814648-...   \n",
      "2  automl-dm-10-07-32-11KWw7cLa0hBd-001-3332516c-...   \n",
      "3  automl-dm-10-07-32-11-dpp1-csv-1-ac6a2ee0cdc54...   \n",
      "4  automl-dm-10-07-32-11-dpp2-csv-1-da418f26489c4...   \n",
      "5  automl-dm-10-07-32-11-dpp2-1-3421a8be86b04fe6b...   \n",
      "6  automl-dm-10-07-32-11-dpp1-1-9be00f19eeb64a97a...   \n",
      "7  automl-dm-10-07-32-11-db-1-88312a4a0ab24b24885...   \n",
      "\n",
      "                                         DisplayName  \\\n",
      "0  automl-dm-10-07-32-11KWw7cLa0hBd-002-3efd9c25-...   \n",
      "1  automl-dm-10-07-32-11KWw7cLa0hBd-003-66814648-...   \n",
      "2  automl-dm-10-07-32-11KWw7cLa0hBd-001-3332516c-...   \n",
      "3  automl-dm-10-07-32-11-dpp1-csv-1-ac6a2ee0cdc54...   \n",
      "4  automl-dm-10-07-32-11-dpp2-csv-1-da418f26489c4...   \n",
      "5  automl-dm-10-07-32-11-dpp2-1-3421a8be86b04fe6b...   \n",
      "6  automl-dm-10-07-32-11-dpp1-1-9be00f19eeb64a97a...   \n",
      "7  automl-dm-10-07-32-11-db-1-88312a4a0ab24b24885...   \n",
      "\n",
      "                                           SourceArn  \\\n",
      "0  arn:aws:sagemaker:us-east-1:924490614652:train...   \n",
      "1  arn:aws:sagemaker:us-east-1:924490614652:train...   \n",
      "2  arn:aws:sagemaker:us-east-1:924490614652:train...   \n",
      "3  arn:aws:sagemaker:us-east-1:924490614652:trans...   \n",
      "4  arn:aws:sagemaker:us-east-1:924490614652:trans...   \n",
      "5  arn:aws:sagemaker:us-east-1:924490614652:train...   \n",
      "6  arn:aws:sagemaker:us-east-1:924490614652:train...   \n",
      "7  arn:aws:sagemaker:us-east-1:924490614652:proce...   \n",
      "\n",
      "                                  SageMaker.ImageUri  SageMaker.InstanceCount  \\\n",
      "0  683313688378.dkr.ecr.us-east-1.amazonaws.com/s...                      1.0   \n",
      "1  683313688378.dkr.ecr.us-east-1.amazonaws.com/s...                      1.0   \n",
      "2  683313688378.dkr.ecr.us-east-1.amazonaws.com/s...                      1.0   \n",
      "3                                                NaN                      1.0   \n",
      "4                                                NaN                      1.0   \n",
      "5  683313688378.dkr.ecr.us-east-1.amazonaws.com/s...                      1.0   \n",
      "6  683313688378.dkr.ecr.us-east-1.amazonaws.com/s...                      1.0   \n",
      "7                                                NaN                      1.0   \n",
      "\n",
      "  SageMaker.InstanceType  SageMaker.VolumeSizeInGB _tuning_objective_metric  \\\n",
      "0         ml.m5.12xlarge                      50.0           validation:mse   \n",
      "1         ml.m5.12xlarge                      50.0           validation:mse   \n",
      "2         ml.m5.12xlarge                      50.0           validation:mse   \n",
      "3          ml.m5.4xlarge                       NaN                      NaN   \n",
      "4          ml.m5.4xlarge                       NaN                      NaN   \n",
      "5         ml.m5.12xlarge                      50.0                      NaN   \n",
      "6         ml.m5.12xlarge                      50.0                      NaN   \n",
      "7          ml.m5.2xlarge                     250.0                      NaN   \n",
      "\n",
      "      alpha  colsample_bytree  ...  enable_validation_split  \\\n",
      "0  0.000283          0.666335  ...                      NaN   \n",
      "1  0.000283          0.666335  ...                      NaN   \n",
      "2  0.000001          0.693813  ...                      NaN   \n",
      "3       NaN               NaN  ...                      NaN   \n",
      "4       NaN               NaN  ...                      NaN   \n",
      "5       NaN               NaN  ...                      NaN   \n",
      "6       NaN               NaN  ...                      NaN   \n",
      "7       NaN               NaN  ...                     true   \n",
      "\n",
      "  input_channel_mode               job_name       label_col  max_dataset_size  \\\n",
      "0                NaN                    NaN             NaN               NaN   \n",
      "1                NaN                    NaN             NaN               NaN   \n",
      "2                NaN                    NaN             NaN               NaN   \n",
      "3                NaN                    NaN             NaN               NaN   \n",
      "4                NaN                    NaN             NaN               NaN   \n",
      "5                NaN                    NaN             NaN               NaN   \n",
      "6                NaN                    NaN             NaN               NaN   \n",
      "7               Pipe  automl-dm-10-07-32-11  total_benefits               100   \n",
      "\n",
      "   max_subsampled_dataset_size  SageMaker.ImageUri - MediaType  \\\n",
      "0                          NaN                             NaN   \n",
      "1                          NaN                             NaN   \n",
      "2                          NaN                             NaN   \n",
      "3                          NaN                             NaN   \n",
      "4                          NaN                             NaN   \n",
      "5                          NaN                             NaN   \n",
      "6                          NaN                             NaN   \n",
      "7                            5                             NaN   \n",
      "\n",
      "                          SageMaker.ImageUri - Value ds - MediaType  \\\n",
      "0                                                NaN            NaN   \n",
      "1                                                NaN            NaN   \n",
      "2                                                NaN            NaN   \n",
      "3                                                NaN            NaN   \n",
      "4                                                NaN            NaN   \n",
      "5                                                NaN            NaN   \n",
      "6                                                NaN            NaN   \n",
      "7  120479346908.dkr.ecr.us-east-1.amazonaws.com/d...            NaN   \n",
      "\n",
      "                                          ds - Value  \n",
      "0                                                NaN  \n",
      "1                                                NaN  \n",
      "2                                                NaN  \n",
      "3                                                NaN  \n",
      "4                                                NaN  \n",
      "5                                                NaN  \n",
      "6                                                NaN  \n",
      "7  s3://sagemaker-us-east-1-924490614652/models/a...  \n",
      "\n",
      "[8 rows x 101 columns]\n"
     ]
    }
   ],
   "source": [
    "from sagemaker.analytics import ExperimentAnalytics, TrainingJobAnalytics\n",
    "\n",
    "exp = ExperimentAnalytics(\n",
    "    sagemaker_session=sess,\n",
    "    experiment_name=auto_ml_job_name + \"-aws-auto-ml-job\",\n",
    ")\n",
    "\n",
    "df = exp.dataframe()\n",
    "print(df)"
   ]
  },
  {
   "cell_type": "markdown",
   "id": "684559d6-55e9-49bb-b22e-c2e5f74acc13",
   "metadata": {},
   "source": [
    "### Explore the Best Candidate\n"
   ]
  },
  {
   "cell_type": "code",
   "execution_count": 65,
   "id": "bd18ec26-5c81-4046-a7ba-12f089cb7499",
   "metadata": {
    "tags": []
   },
   "outputs": [],
   "source": [
    "best_candidate_response = sm.describe_auto_ml_job(AutoMLJobName=auto_ml_job_name)"
   ]
  },
  {
   "cell_type": "code",
   "execution_count": 66,
   "id": "d3231e56-a58d-49f0-b5a0-5dc6fc059169",
   "metadata": {
    "tags": []
   },
   "outputs": [
    {
     "name": "stdout",
     "output_type": "stream",
     "text": [
      "dict_keys(['AutoMLJobName', 'AutoMLJobArn', 'InputDataConfig', 'OutputDataConfig', 'RoleArn', 'AutoMLJobConfig', 'CreationTime', 'EndTime', 'LastModifiedTime', 'BestCandidate', 'AutoMLJobStatus', 'AutoMLJobSecondaryStatus', 'GenerateCandidateDefinitionsOnly', 'AutoMLJobArtifacts', 'ResolvedAttributes', 'ResponseMetadata'])\n"
     ]
    }
   ],
   "source": [
    "print(best_candidate_response.keys())"
   ]
  },
  {
   "cell_type": "code",
   "execution_count": 67,
   "id": "cde61166-08da-4a6d-96ef-9169723ef299",
   "metadata": {
    "tags": []
   },
   "outputs": [
    {
     "name": "stdout",
     "output_type": "stream",
     "text": [
      "[OK] BestCandidate generated.\n"
     ]
    }
   ],
   "source": [
    "while \"BestCandidate\" not in best_candidate_response:\n",
    "    best_candidate_response = sm.describe_auto_ml_job(AutoMLJobName=auto_ml_job_name)\n",
    "    print(\"[INFO] Autopilot Job is generating BestCandidate. Please wait. \")\n",
    "    print(json.dumps(best_candidate_response, indent=4, sort_keys=True, default=str))\n",
    "    sleep(10)\n",
    "\n",
    "best_candidate = best_candidate_response[\"BestCandidate\"]\n",
    "print(\"[OK] BestCandidate generated.\")"
   ]
  },
  {
   "cell_type": "code",
   "execution_count": 68,
   "id": "cd30eeb1-ebba-46b9-b17f-1574131191d1",
   "metadata": {
    "tags": []
   },
   "outputs": [
    {
     "name": "stdout",
     "output_type": "stream",
     "text": [
      "{\n",
      "    \"AutoMLJobArn\": \"arn:aws:sagemaker:us-east-1:924490614652:automl-job/automl-dm-10-07-32-11\",\n",
      "    \"AutoMLJobArtifacts\": {\n",
      "        \"CandidateDefinitionNotebookLocation\": \"s3://sagemaker-us-east-1-924490614652/models/autopilot/automl-dm-10-07-32-11/sagemaker-automl-candidates/automl-dm-10-07-32-11-pr-1-5552ac2104684f7498e34be6144a83be2c1e/notebooks/SageMakerAutopilotCandidateDefinitionNotebook.ipynb\",\n",
      "        \"DataExplorationNotebookLocation\": \"s3://sagemaker-us-east-1-924490614652/models/autopilot/automl-dm-10-07-32-11/sagemaker-automl-candidates/automl-dm-10-07-32-11-pr-1-5552ac2104684f7498e34be6144a83be2c1e/notebooks/SageMakerAutopilotDataExplorationNotebook.ipynb\"\n",
      "    },\n",
      "    \"AutoMLJobConfig\": {\n",
      "        \"CompletionCriteria\": {\n",
      "            \"MaxAutoMLJobRuntimeInSeconds\": 5400,\n",
      "            \"MaxCandidates\": 3,\n",
      "            \"MaxRuntimePerTrainingJobInSeconds\": 900\n",
      "        }\n",
      "    },\n",
      "    \"AutoMLJobName\": \"automl-dm-10-07-32-11\",\n",
      "    \"AutoMLJobSecondaryStatus\": \"Completed\",\n",
      "    \"AutoMLJobStatus\": \"Completed\",\n",
      "    \"BestCandidate\": {\n",
      "        \"CandidateName\": \"automl-dm-10-07-32-11KWw7cLa0hBd-001-3332516c\",\n",
      "        \"CandidateProperties\": {\n",
      "            \"CandidateArtifactLocations\": {\n",
      "                \"Explainability\": \"s3://sagemaker-us-east-1-924490614652/models/autopilot/automl-dm-10-07-32-11/documentation/explainability/output\",\n",
      "                \"ModelInsights\": \"s3://sagemaker-us-east-1-924490614652/models/autopilot/automl-dm-10-07-32-11/documentation/model_monitor/output\"\n",
      "            },\n",
      "            \"CandidateMetrics\": [\n",
      "                {\n",
      "                    \"MetricName\": \"MAE\",\n",
      "                    \"Set\": \"Validation\",\n",
      "                    \"StandardMetricName\": \"MAE\",\n",
      "                    \"Value\": 5832.0615234375\n",
      "                },\n",
      "                {\n",
      "                    \"MetricName\": \"RMSE\",\n",
      "                    \"Set\": \"Validation\",\n",
      "                    \"StandardMetricName\": \"RMSE\",\n",
      "                    \"Value\": 8368.9462890625\n",
      "                },\n",
      "                {\n",
      "                    \"MetricName\": \"MSE\",\n",
      "                    \"Set\": \"Validation\",\n",
      "                    \"StandardMetricName\": \"MSE\",\n",
      "                    \"Value\": 70039264.0\n",
      "                },\n",
      "                {\n",
      "                    \"MetricName\": \"R2\",\n",
      "                    \"Set\": \"Validation\",\n",
      "                    \"StandardMetricName\": \"R2\",\n",
      "                    \"Value\": 0.8774399757385254\n",
      "                }\n",
      "            ]\n",
      "        },\n",
      "        \"CandidateStatus\": \"Completed\",\n",
      "        \"CandidateSteps\": [\n",
      "            {\n",
      "                \"CandidateStepArn\": \"arn:aws:sagemaker:us-east-1:924490614652:processing-job/automl-dm-10-07-32-11-db-1-88312a4a0ab24b24885cd11e84c5b1392bb9\",\n",
      "                \"CandidateStepName\": \"automl-dm-10-07-32-11-db-1-88312a4a0ab24b24885cd11e84c5b1392bb9\",\n",
      "                \"CandidateStepType\": \"AWS::SageMaker::ProcessingJob\"\n",
      "            },\n",
      "            {\n",
      "                \"CandidateStepArn\": \"arn:aws:sagemaker:us-east-1:924490614652:training-job/automl-dm-10-07-32-11-dpp1-1-9be00f19eeb64a97a58d95421a9ccb529a\",\n",
      "                \"CandidateStepName\": \"automl-dm-10-07-32-11-dpp1-1-9be00f19eeb64a97a58d95421a9ccb529a\",\n",
      "                \"CandidateStepType\": \"AWS::SageMaker::TrainingJob\"\n",
      "            },\n",
      "            {\n",
      "                \"CandidateStepArn\": \"arn:aws:sagemaker:us-east-1:924490614652:transform-job/automl-dm-10-07-32-11-dpp1-csv-1-ac6a2ee0cdc54bbfbe42995b7e2c5e\",\n",
      "                \"CandidateStepName\": \"automl-dm-10-07-32-11-dpp1-csv-1-ac6a2ee0cdc54bbfbe42995b7e2c5e\",\n",
      "                \"CandidateStepType\": \"AWS::SageMaker::TransformJob\"\n",
      "            },\n",
      "            {\n",
      "                \"CandidateStepArn\": \"arn:aws:sagemaker:us-east-1:924490614652:training-job/automl-dm-10-07-32-11KWw7cLa0hBd-001-3332516c\",\n",
      "                \"CandidateStepName\": \"automl-dm-10-07-32-11KWw7cLa0hBd-001-3332516c\",\n",
      "                \"CandidateStepType\": \"AWS::SageMaker::TrainingJob\"\n",
      "            }\n",
      "        ],\n",
      "        \"CreationTime\": \"2023-04-10 07:56:04+00:00\",\n",
      "        \"EndTime\": \"2023-04-10 07:58:57+00:00\",\n",
      "        \"FinalAutoMLJobObjectiveMetric\": {\n",
      "            \"MetricName\": \"validation:mse\",\n",
      "            \"StandardMetricName\": \"MSE\",\n",
      "            \"Value\": 70039264.0\n",
      "        },\n",
      "        \"InferenceContainers\": [\n",
      "            {\n",
      "                \"Environment\": {\n",
      "                    \"AUTOML_TRANSFORM_MODE\": \"feature-transform\",\n",
      "                    \"SAGEMAKER_DEFAULT_INVOCATIONS_ACCEPT\": \"application/x-recordio-protobuf\",\n",
      "                    \"SAGEMAKER_PROGRAM\": \"sagemaker_serve\",\n",
      "                    \"SAGEMAKER_SUBMIT_DIRECTORY\": \"/opt/ml/model/code\"\n",
      "                },\n",
      "                \"Image\": \"683313688378.dkr.ecr.us-east-1.amazonaws.com/sagemaker-sklearn-automl:2.5-1-cpu-py3\",\n",
      "                \"ModelDataUrl\": \"s3://sagemaker-us-east-1-924490614652/models/autopilot/automl-dm-10-07-32-11/data-processor-models/automl-dm-10-07-32-11-dpp1-1-9be00f19eeb64a97a58d95421a9ccb529a/output/model.tar.gz\"\n",
      "            },\n",
      "            {\n",
      "                \"Environment\": {\n",
      "                    \"MAX_CONTENT_LENGTH\": \"20971520\",\n",
      "                    \"SAGEMAKER_DEFAULT_INVOCATIONS_ACCEPT\": \"text/csv\"\n",
      "                },\n",
      "                \"Image\": \"683313688378.dkr.ecr.us-east-1.amazonaws.com/sagemaker-xgboost:1.3-1-cpu-py3\",\n",
      "                \"ModelDataUrl\": \"s3://sagemaker-us-east-1-924490614652/models/autopilot/automl-dm-10-07-32-11/tuning/automl-dm--dpp1-xgb/automl-dm-10-07-32-11KWw7cLa0hBd-001-3332516c/output/model.tar.gz\"\n",
      "            }\n",
      "        ],\n",
      "        \"LastModifiedTime\": \"2023-04-10 07:59:50.607000+00:00\",\n",
      "        \"ObjectiveStatus\": \"Succeeded\"\n",
      "    },\n",
      "    \"CreationTime\": \"2023-04-10 07:33:28.039000+00:00\",\n",
      "    \"EndTime\": \"2023-04-10 08:14:15.668000+00:00\",\n",
      "    \"GenerateCandidateDefinitionsOnly\": false,\n",
      "    \"InputDataConfig\": [\n",
      "        {\n",
      "            \"ChannelType\": \"training\",\n",
      "            \"ContentType\": \"text/csv;header=present\",\n",
      "            \"DataSource\": {\n",
      "                \"S3DataSource\": {\n",
      "                    \"S3DataType\": \"S3Prefix\",\n",
      "                    \"S3Uri\": \"s3://sagemaker-us-east-1-924490614652/data/compensation_cpi_autopilot.csv\"\n",
      "                }\n",
      "            },\n",
      "            \"TargetAttributeName\": \"total_benefits\"\n",
      "        }\n",
      "    ],\n",
      "    \"LastModifiedTime\": \"2023-04-10 08:14:15.697000+00:00\",\n",
      "    \"OutputDataConfig\": {\n",
      "        \"S3OutputPath\": \"s3://sagemaker-us-east-1-924490614652/models/autopilot\"\n",
      "    },\n",
      "    \"ResolvedAttributes\": {\n",
      "        \"AutoMLJobObjective\": {\n",
      "            \"MetricName\": \"MSE\"\n",
      "        },\n",
      "        \"CompletionCriteria\": {\n",
      "            \"MaxAutoMLJobRuntimeInSeconds\": 5400,\n",
      "            \"MaxCandidates\": 3,\n",
      "            \"MaxRuntimePerTrainingJobInSeconds\": 900\n",
      "        },\n",
      "        \"ProblemType\": \"Regression\"\n",
      "    },\n",
      "    \"ResponseMetadata\": {\n",
      "        \"HTTPHeaders\": {\n",
      "            \"content-length\": \"4755\",\n",
      "            \"content-type\": \"application/x-amz-json-1.1\",\n",
      "            \"date\": \"Mon, 10 Apr 2023 08:25:12 GMT\",\n",
      "            \"x-amzn-requestid\": \"4ba5f011-89a0-4409-9f3a-23ff25e0f0ff\"\n",
      "        },\n",
      "        \"HTTPStatusCode\": 200,\n",
      "        \"RequestId\": \"4ba5f011-89a0-4409-9f3a-23ff25e0f0ff\",\n",
      "        \"RetryAttempts\": 0\n",
      "    },\n",
      "    \"RoleArn\": \"arn:aws:iam::924490614652:role/LabRole\"\n",
      "}\n"
     ]
    }
   ],
   "source": [
    "print(json.dumps(best_candidate_response, indent=4, sort_keys=True, default=str))"
   ]
  },
  {
   "cell_type": "code",
   "execution_count": 69,
   "id": "a3e41e64-5a11-4993-a3e9-b5f9096b26a1",
   "metadata": {
    "tags": []
   },
   "outputs": [
    {
     "name": "stdout",
     "output_type": "stream",
     "text": [
      "dict_keys(['CandidateName', 'FinalAutoMLJobObjectiveMetric', 'ObjectiveStatus', 'CandidateSteps', 'CandidateStatus', 'InferenceContainers', 'CreationTime', 'EndTime', 'LastModifiedTime', 'CandidateProperties'])\n"
     ]
    }
   ],
   "source": [
    "print(best_candidate.keys())"
   ]
  },
  {
   "cell_type": "code",
   "execution_count": 70,
   "id": "ecce8844-608d-42a4-ab85-b5799ac6b6a1",
   "metadata": {
    "tags": []
   },
   "outputs": [
    {
     "name": "stdout",
     "output_type": "stream",
     "text": [
      "[OK] BestCandidate CandidateName generated.\n"
     ]
    }
   ],
   "source": [
    "while \"CandidateName\" not in best_candidate:\n",
    "    best_candidate_response = sm.describe_auto_ml_job(AutoMLJobName=auto_ml_job_name)\n",
    "    best_candidate = best_candidate_response[\"BestCandidate\"]\n",
    "    print(\"[INFO] Autopilot Job is generating BestCandidate CandidateName. Please wait. \")\n",
    "    print(json.dumps(best_candidate, indent=4, sort_keys=True, default=str))\n",
    "    sleep(10)\n",
    "\n",
    "print(\"[OK] BestCandidate CandidateName generated.\")\n"
   ]
  },
  {
   "cell_type": "code",
   "execution_count": 71,
   "id": "9a3ac851-c567-48f9-b0d4-d643557b1796",
   "metadata": {
    "tags": []
   },
   "outputs": [
    {
     "name": "stdout",
     "output_type": "stream",
     "text": [
      "[OK] BestCandidate FinalAutoMLJobObjectiveMetric generated.\n"
     ]
    }
   ],
   "source": [
    "while \"FinalAutoMLJobObjectiveMetric\" not in best_candidate:\n",
    "    best_candidate_response = sm.describe_auto_ml_job(AutoMLJobName=auto_ml_job_name)\n",
    "    best_candidate = best_candidate_response[\"BestCandidate\"]\n",
    "    print(\"[INFO] Autopilot Job is generating BestCandidate FinalAutoMLJobObjectiveMetric. Please wait. \")\n",
    "    print(json.dumps(best_candidate, indent=4, sort_keys=True, default=str))\n",
    "    sleep(10)\n",
    "\n",
    "print(\"[OK] BestCandidate FinalAutoMLJobObjectiveMetric generated.\")"
   ]
  },
  {
   "cell_type": "code",
   "execution_count": 72,
   "id": "bccc58bd-2fb9-4619-9cb0-07e706d673ed",
   "metadata": {
    "tags": []
   },
   "outputs": [
    {
     "name": "stdout",
     "output_type": "stream",
     "text": [
      "Candidate name: automl-dm-10-07-32-11KWw7cLa0hBd-001-3332516c\n",
      "Metric name: validation:mse\n",
      "Metric value: 70039264.0\n"
     ]
    }
   ],
   "source": [
    "best_candidate_identifier = best_candidate[\"CandidateName\"]\n",
    "print(\"Candidate name: \" + best_candidate_identifier)\n",
    "print(\"Metric name: \" + best_candidate[\"FinalAutoMLJobObjectiveMetric\"][\"MetricName\"])\n",
    "print(\"Metric value: \" + str(best_candidate[\"FinalAutoMLJobObjectiveMetric\"][\"Value\"]))"
   ]
  },
  {
   "cell_type": "code",
   "execution_count": 73,
   "id": "9cc84122-77a9-46f8-84e1-763ffa59d875",
   "metadata": {
    "tags": []
   },
   "outputs": [
    {
     "name": "stdout",
     "output_type": "stream",
     "text": [
      "{\n",
      "    \"CandidateName\": \"automl-dm-10-07-32-11KWw7cLa0hBd-001-3332516c\",\n",
      "    \"CandidateProperties\": {\n",
      "        \"CandidateArtifactLocations\": {\n",
      "            \"Explainability\": \"s3://sagemaker-us-east-1-924490614652/models/autopilot/automl-dm-10-07-32-11/documentation/explainability/output\",\n",
      "            \"ModelInsights\": \"s3://sagemaker-us-east-1-924490614652/models/autopilot/automl-dm-10-07-32-11/documentation/model_monitor/output\"\n",
      "        },\n",
      "        \"CandidateMetrics\": [\n",
      "            {\n",
      "                \"MetricName\": \"MAE\",\n",
      "                \"Set\": \"Validation\",\n",
      "                \"StandardMetricName\": \"MAE\",\n",
      "                \"Value\": 5832.0615234375\n",
      "            },\n",
      "            {\n",
      "                \"MetricName\": \"RMSE\",\n",
      "                \"Set\": \"Validation\",\n",
      "                \"StandardMetricName\": \"RMSE\",\n",
      "                \"Value\": 8368.9462890625\n",
      "            },\n",
      "            {\n",
      "                \"MetricName\": \"MSE\",\n",
      "                \"Set\": \"Validation\",\n",
      "                \"StandardMetricName\": \"MSE\",\n",
      "                \"Value\": 70039264.0\n",
      "            },\n",
      "            {\n",
      "                \"MetricName\": \"R2\",\n",
      "                \"Set\": \"Validation\",\n",
      "                \"StandardMetricName\": \"R2\",\n",
      "                \"Value\": 0.8774399757385254\n",
      "            }\n",
      "        ]\n",
      "    },\n",
      "    \"CandidateStatus\": \"Completed\",\n",
      "    \"CandidateSteps\": [\n",
      "        {\n",
      "            \"CandidateStepArn\": \"arn:aws:sagemaker:us-east-1:924490614652:processing-job/automl-dm-10-07-32-11-db-1-88312a4a0ab24b24885cd11e84c5b1392bb9\",\n",
      "            \"CandidateStepName\": \"automl-dm-10-07-32-11-db-1-88312a4a0ab24b24885cd11e84c5b1392bb9\",\n",
      "            \"CandidateStepType\": \"AWS::SageMaker::ProcessingJob\"\n",
      "        },\n",
      "        {\n",
      "            \"CandidateStepArn\": \"arn:aws:sagemaker:us-east-1:924490614652:training-job/automl-dm-10-07-32-11-dpp1-1-9be00f19eeb64a97a58d95421a9ccb529a\",\n",
      "            \"CandidateStepName\": \"automl-dm-10-07-32-11-dpp1-1-9be00f19eeb64a97a58d95421a9ccb529a\",\n",
      "            \"CandidateStepType\": \"AWS::SageMaker::TrainingJob\"\n",
      "        },\n",
      "        {\n",
      "            \"CandidateStepArn\": \"arn:aws:sagemaker:us-east-1:924490614652:transform-job/automl-dm-10-07-32-11-dpp1-csv-1-ac6a2ee0cdc54bbfbe42995b7e2c5e\",\n",
      "            \"CandidateStepName\": \"automl-dm-10-07-32-11-dpp1-csv-1-ac6a2ee0cdc54bbfbe42995b7e2c5e\",\n",
      "            \"CandidateStepType\": \"AWS::SageMaker::TransformJob\"\n",
      "        },\n",
      "        {\n",
      "            \"CandidateStepArn\": \"arn:aws:sagemaker:us-east-1:924490614652:training-job/automl-dm-10-07-32-11KWw7cLa0hBd-001-3332516c\",\n",
      "            \"CandidateStepName\": \"automl-dm-10-07-32-11KWw7cLa0hBd-001-3332516c\",\n",
      "            \"CandidateStepType\": \"AWS::SageMaker::TrainingJob\"\n",
      "        }\n",
      "    ],\n",
      "    \"CreationTime\": \"2023-04-10 07:56:04+00:00\",\n",
      "    \"EndTime\": \"2023-04-10 07:58:57+00:00\",\n",
      "    \"FinalAutoMLJobObjectiveMetric\": {\n",
      "        \"MetricName\": \"validation:mse\",\n",
      "        \"StandardMetricName\": \"MSE\",\n",
      "        \"Value\": 70039264.0\n",
      "    },\n",
      "    \"InferenceContainers\": [\n",
      "        {\n",
      "            \"Environment\": {\n",
      "                \"AUTOML_TRANSFORM_MODE\": \"feature-transform\",\n",
      "                \"SAGEMAKER_DEFAULT_INVOCATIONS_ACCEPT\": \"application/x-recordio-protobuf\",\n",
      "                \"SAGEMAKER_PROGRAM\": \"sagemaker_serve\",\n",
      "                \"SAGEMAKER_SUBMIT_DIRECTORY\": \"/opt/ml/model/code\"\n",
      "            },\n",
      "            \"Image\": \"683313688378.dkr.ecr.us-east-1.amazonaws.com/sagemaker-sklearn-automl:2.5-1-cpu-py3\",\n",
      "            \"ModelDataUrl\": \"s3://sagemaker-us-east-1-924490614652/models/autopilot/automl-dm-10-07-32-11/data-processor-models/automl-dm-10-07-32-11-dpp1-1-9be00f19eeb64a97a58d95421a9ccb529a/output/model.tar.gz\"\n",
      "        },\n",
      "        {\n",
      "            \"Environment\": {\n",
      "                \"MAX_CONTENT_LENGTH\": \"20971520\",\n",
      "                \"SAGEMAKER_DEFAULT_INVOCATIONS_ACCEPT\": \"text/csv\"\n",
      "            },\n",
      "            \"Image\": \"683313688378.dkr.ecr.us-east-1.amazonaws.com/sagemaker-xgboost:1.3-1-cpu-py3\",\n",
      "            \"ModelDataUrl\": \"s3://sagemaker-us-east-1-924490614652/models/autopilot/automl-dm-10-07-32-11/tuning/automl-dm--dpp1-xgb/automl-dm-10-07-32-11KWw7cLa0hBd-001-3332516c/output/model.tar.gz\"\n",
      "        }\n",
      "    ],\n",
      "    \"LastModifiedTime\": \"2023-04-10 07:59:50.607000+00:00\",\n",
      "    \"ObjectiveStatus\": \"Succeeded\"\n",
      "}\n"
     ]
    }
   ],
   "source": [
    "print(json.dumps(best_candidate, indent=4, sort_keys=True, default=str))"
   ]
  },
  {
   "cell_type": "code",
   "execution_count": null,
   "id": "80924a3a-4c45-4556-a044-63285434047b",
   "metadata": {},
   "outputs": [],
   "source": []
  },
  {
   "cell_type": "code",
   "execution_count": 75,
   "id": "406e7404-9261-4a78-b655-f3fd509023c1",
   "metadata": {
    "tags": []
   },
   "outputs": [
    {
     "name": "stdout",
     "output_type": "stream",
     "text": [
      "Candidate Step Type: AWS::SageMaker::ProcessingJob\n",
      "Candidate Step Name: automl-dm-10-07-32-11-db-1-88312a4a0ab24b24885cd11e84c5b1392bb9\n",
      "Candidate Step Type: AWS::SageMaker::TrainingJob\n",
      "Candidate Step Name: automl-dm-10-07-32-11-dpp1-1-9be00f19eeb64a97a58d95421a9ccb529a\n",
      "Candidate Step Type: AWS::SageMaker::TransformJob\n",
      "Candidate Step Name: automl-dm-10-07-32-11-dpp1-csv-1-ac6a2ee0cdc54bbfbe42995b7e2c5e\n",
      "Candidate Step Type: AWS::SageMaker::TrainingJob\n",
      "Candidate Step Name: automl-dm-10-07-32-11KWw7cLa0hBd-001-3332516c\n"
     ]
    }
   ],
   "source": [
    "steps = []\n",
    "for step in best_candidate[\"CandidateSteps\"]:\n",
    "    print(\"Candidate Step Type: {}\".format(step[\"CandidateStepType\"]))\n",
    "    print(\"Candidate Step Name: {}\".format(step[\"CandidateStepName\"]))\n",
    "    steps.append(step[\"CandidateStepName\"])"
   ]
  },
  {
   "cell_type": "markdown",
   "id": "caa70441-b7ba-41ca-afa3-e25525646877",
   "metadata": {},
   "source": [
    "### See the Containers and Models within the Inference Pipeline"
   ]
  },
  {
   "cell_type": "code",
   "execution_count": 88,
   "id": "270c83b3-277d-4773-991c-bcaaaf55c024",
   "metadata": {
    "tags": []
   },
   "outputs": [
    {
     "name": "stdout",
     "output_type": "stream",
     "text": [
      "[OK] BestCandidate InferenceContainers generated.\n"
     ]
    }
   ],
   "source": [
    "while \"InferenceContainers\" not in best_candidate:\n",
    "    best_candidate_response = sm.describe_auto_ml_job(AutoMLJobName=auto_ml_job_name)\n",
    "    best_candidate = best_candidate_response[\"BestCandidate\"]\n",
    "    print(\"[INFO] Autopilot Job is generating BestCandidate InferenceContainers. Please wait. \")\n",
    "    print(json.dumps(best_candidate, indent=4, sort_keys=True, default=str))\n",
    "    sleep(10)\n",
    "\n",
    "print(\"[OK] BestCandidate InferenceContainers generated.\")"
   ]
  },
  {
   "cell_type": "code",
   "execution_count": 89,
   "id": "7bea58d1-c98d-42a5-935f-66ad914b4c87",
   "metadata": {
    "tags": []
   },
   "outputs": [],
   "source": [
    "best_candidate_containers = best_candidate[\"InferenceContainers\"]"
   ]
  },
  {
   "cell_type": "code",
   "execution_count": 90,
   "id": "5167c047-88b4-4c76-95bc-de7898d731d3",
   "metadata": {
    "tags": []
   },
   "outputs": [
    {
     "name": "stdout",
     "output_type": "stream",
     "text": [
      "683313688378.dkr.ecr.us-east-1.amazonaws.com/sagemaker-sklearn-automl:2.5-1-cpu-py3\n",
      "s3://sagemaker-us-east-1-924490614652/models/autopilot/automl-dm-10-07-32-11/data-processor-models/automl-dm-10-07-32-11-dpp1-1-9be00f19eeb64a97a58d95421a9ccb529a/output/model.tar.gz\n",
      "======================\n",
      "683313688378.dkr.ecr.us-east-1.amazonaws.com/sagemaker-xgboost:1.3-1-cpu-py3\n",
      "s3://sagemaker-us-east-1-924490614652/models/autopilot/automl-dm-10-07-32-11/tuning/automl-dm--dpp1-xgb/automl-dm-10-07-32-11KWw7cLa0hBd-001-3332516c/output/model.tar.gz\n",
      "======================\n"
     ]
    }
   ],
   "source": [
    "for container in best_candidate_containers:\n",
    "    print(container[\"Image\"])\n",
    "    print(container[\"ModelDataUrl\"])\n",
    "    print(\"======================\")"
   ]
  },
  {
   "cell_type": "code",
   "execution_count": null,
   "id": "20cc5d76-3d74-42f7-9fa6-1a72c0158093",
   "metadata": {},
   "outputs": [],
   "source": []
  },
  {
   "cell_type": "code",
   "execution_count": null,
   "id": "527eee88-d1f1-4a35-9c92-fbf3a342d90f",
   "metadata": {},
   "outputs": [],
   "source": []
  },
  {
   "cell_type": "code",
   "execution_count": 92,
   "id": "337fe73b-fcaa-47a6-a0ca-b84df1bd8878",
   "metadata": {
    "tags": []
   },
   "outputs": [
    {
     "data": {
      "text/html": [
       "\n",
       "<p><b>Shutting down your kernel for this notebook to release resources.</b></p>\n",
       "<button class=\"sm-command-button\" data-commandlinker-command=\"kernelmenu:shutdown\" style=\"display:none;\">Shutdown Kernel</button>\n",
       "        \n",
       "<script>\n",
       "try {\n",
       "    els = document.getElementsByClassName(\"sm-command-button\");\n",
       "    els[0].click();\n",
       "}\n",
       "catch(err) {\n",
       "    // NoOp\n",
       "}    \n",
       "</script>\n"
      ],
      "text/plain": [
       "<IPython.core.display.HTML object>"
      ]
     },
     "metadata": {},
     "output_type": "display_data"
    }
   ],
   "source": [
    "%%html\n",
    "\n",
    "<p><b>Shutting down your kernel for this notebook to release resources.</b></p>\n",
    "<button class=\"sm-command-button\" data-commandlinker-command=\"kernelmenu:shutdown\" style=\"display:none;\">Shutdown Kernel</button>\n",
    "        \n",
    "<script>\n",
    "try {\n",
    "    els = document.getElementsByClassName(\"sm-command-button\");\n",
    "    els[0].click();\n",
    "}\n",
    "catch(err) {\n",
    "    // NoOp\n",
    "}    \n",
    "</script>"
   ]
  },
  {
   "cell_type": "code",
   "execution_count": null,
   "id": "0649828d-e397-4593-b154-2ceed64f8d71",
   "metadata": {},
   "outputs": [],
   "source": [
    "%%javascript\n",
    "\n",
    "try {\n",
    "    Jupyter.notebook.save_checkpoint();\n",
    "    Jupyter.notebook.session.delete();\n",
    "}\n",
    "catch(err) {\n",
    "    // NoOp\n",
    "}"
   ]
  },
  {
   "cell_type": "code",
   "execution_count": null,
   "id": "8dcc5774-422a-4d26-b7ad-8c3c3da49e39",
   "metadata": {},
   "outputs": [],
   "source": []
  }
 ],
 "metadata": {
  "availableInstances": [
   {
    "_defaultOrder": 0,
    "_isFastLaunch": true,
    "category": "General purpose",
    "gpuNum": 0,
    "hideHardwareSpecs": false,
    "memoryGiB": 4,
    "name": "ml.t3.medium",
    "vcpuNum": 2
   },
   {
    "_defaultOrder": 1,
    "_isFastLaunch": false,
    "category": "General purpose",
    "gpuNum": 0,
    "hideHardwareSpecs": false,
    "memoryGiB": 8,
    "name": "ml.t3.large",
    "vcpuNum": 2
   },
   {
    "_defaultOrder": 2,
    "_isFastLaunch": false,
    "category": "General purpose",
    "gpuNum": 0,
    "hideHardwareSpecs": false,
    "memoryGiB": 16,
    "name": "ml.t3.xlarge",
    "vcpuNum": 4
   },
   {
    "_defaultOrder": 3,
    "_isFastLaunch": false,
    "category": "General purpose",
    "gpuNum": 0,
    "hideHardwareSpecs": false,
    "memoryGiB": 32,
    "name": "ml.t3.2xlarge",
    "vcpuNum": 8
   },
   {
    "_defaultOrder": 4,
    "_isFastLaunch": true,
    "category": "General purpose",
    "gpuNum": 0,
    "hideHardwareSpecs": false,
    "memoryGiB": 8,
    "name": "ml.m5.large",
    "vcpuNum": 2
   },
   {
    "_defaultOrder": 5,
    "_isFastLaunch": false,
    "category": "General purpose",
    "gpuNum": 0,
    "hideHardwareSpecs": false,
    "memoryGiB": 16,
    "name": "ml.m5.xlarge",
    "vcpuNum": 4
   },
   {
    "_defaultOrder": 6,
    "_isFastLaunch": false,
    "category": "General purpose",
    "gpuNum": 0,
    "hideHardwareSpecs": false,
    "memoryGiB": 32,
    "name": "ml.m5.2xlarge",
    "vcpuNum": 8
   },
   {
    "_defaultOrder": 7,
    "_isFastLaunch": false,
    "category": "General purpose",
    "gpuNum": 0,
    "hideHardwareSpecs": false,
    "memoryGiB": 64,
    "name": "ml.m5.4xlarge",
    "vcpuNum": 16
   },
   {
    "_defaultOrder": 8,
    "_isFastLaunch": false,
    "category": "General purpose",
    "gpuNum": 0,
    "hideHardwareSpecs": false,
    "memoryGiB": 128,
    "name": "ml.m5.8xlarge",
    "vcpuNum": 32
   },
   {
    "_defaultOrder": 9,
    "_isFastLaunch": false,
    "category": "General purpose",
    "gpuNum": 0,
    "hideHardwareSpecs": false,
    "memoryGiB": 192,
    "name": "ml.m5.12xlarge",
    "vcpuNum": 48
   },
   {
    "_defaultOrder": 10,
    "_isFastLaunch": false,
    "category": "General purpose",
    "gpuNum": 0,
    "hideHardwareSpecs": false,
    "memoryGiB": 256,
    "name": "ml.m5.16xlarge",
    "vcpuNum": 64
   },
   {
    "_defaultOrder": 11,
    "_isFastLaunch": false,
    "category": "General purpose",
    "gpuNum": 0,
    "hideHardwareSpecs": false,
    "memoryGiB": 384,
    "name": "ml.m5.24xlarge",
    "vcpuNum": 96
   },
   {
    "_defaultOrder": 12,
    "_isFastLaunch": false,
    "category": "General purpose",
    "gpuNum": 0,
    "hideHardwareSpecs": false,
    "memoryGiB": 8,
    "name": "ml.m5d.large",
    "vcpuNum": 2
   },
   {
    "_defaultOrder": 13,
    "_isFastLaunch": false,
    "category": "General purpose",
    "gpuNum": 0,
    "hideHardwareSpecs": false,
    "memoryGiB": 16,
    "name": "ml.m5d.xlarge",
    "vcpuNum": 4
   },
   {
    "_defaultOrder": 14,
    "_isFastLaunch": false,
    "category": "General purpose",
    "gpuNum": 0,
    "hideHardwareSpecs": false,
    "memoryGiB": 32,
    "name": "ml.m5d.2xlarge",
    "vcpuNum": 8
   },
   {
    "_defaultOrder": 15,
    "_isFastLaunch": false,
    "category": "General purpose",
    "gpuNum": 0,
    "hideHardwareSpecs": false,
    "memoryGiB": 64,
    "name": "ml.m5d.4xlarge",
    "vcpuNum": 16
   },
   {
    "_defaultOrder": 16,
    "_isFastLaunch": false,
    "category": "General purpose",
    "gpuNum": 0,
    "hideHardwareSpecs": false,
    "memoryGiB": 128,
    "name": "ml.m5d.8xlarge",
    "vcpuNum": 32
   },
   {
    "_defaultOrder": 17,
    "_isFastLaunch": false,
    "category": "General purpose",
    "gpuNum": 0,
    "hideHardwareSpecs": false,
    "memoryGiB": 192,
    "name": "ml.m5d.12xlarge",
    "vcpuNum": 48
   },
   {
    "_defaultOrder": 18,
    "_isFastLaunch": false,
    "category": "General purpose",
    "gpuNum": 0,
    "hideHardwareSpecs": false,
    "memoryGiB": 256,
    "name": "ml.m5d.16xlarge",
    "vcpuNum": 64
   },
   {
    "_defaultOrder": 19,
    "_isFastLaunch": false,
    "category": "General purpose",
    "gpuNum": 0,
    "hideHardwareSpecs": false,
    "memoryGiB": 384,
    "name": "ml.m5d.24xlarge",
    "vcpuNum": 96
   },
   {
    "_defaultOrder": 20,
    "_isFastLaunch": false,
    "category": "General purpose",
    "gpuNum": 0,
    "hideHardwareSpecs": true,
    "memoryGiB": 0,
    "name": "ml.geospatial.interactive",
    "supportedImageNames": [
     "sagemaker-geospatial-v1-0"
    ],
    "vcpuNum": 0
   },
   {
    "_defaultOrder": 21,
    "_isFastLaunch": true,
    "category": "Compute optimized",
    "gpuNum": 0,
    "hideHardwareSpecs": false,
    "memoryGiB": 4,
    "name": "ml.c5.large",
    "vcpuNum": 2
   },
   {
    "_defaultOrder": 22,
    "_isFastLaunch": false,
    "category": "Compute optimized",
    "gpuNum": 0,
    "hideHardwareSpecs": false,
    "memoryGiB": 8,
    "name": "ml.c5.xlarge",
    "vcpuNum": 4
   },
   {
    "_defaultOrder": 23,
    "_isFastLaunch": false,
    "category": "Compute optimized",
    "gpuNum": 0,
    "hideHardwareSpecs": false,
    "memoryGiB": 16,
    "name": "ml.c5.2xlarge",
    "vcpuNum": 8
   },
   {
    "_defaultOrder": 24,
    "_isFastLaunch": false,
    "category": "Compute optimized",
    "gpuNum": 0,
    "hideHardwareSpecs": false,
    "memoryGiB": 32,
    "name": "ml.c5.4xlarge",
    "vcpuNum": 16
   },
   {
    "_defaultOrder": 25,
    "_isFastLaunch": false,
    "category": "Compute optimized",
    "gpuNum": 0,
    "hideHardwareSpecs": false,
    "memoryGiB": 72,
    "name": "ml.c5.9xlarge",
    "vcpuNum": 36
   },
   {
    "_defaultOrder": 26,
    "_isFastLaunch": false,
    "category": "Compute optimized",
    "gpuNum": 0,
    "hideHardwareSpecs": false,
    "memoryGiB": 96,
    "name": "ml.c5.12xlarge",
    "vcpuNum": 48
   },
   {
    "_defaultOrder": 27,
    "_isFastLaunch": false,
    "category": "Compute optimized",
    "gpuNum": 0,
    "hideHardwareSpecs": false,
    "memoryGiB": 144,
    "name": "ml.c5.18xlarge",
    "vcpuNum": 72
   },
   {
    "_defaultOrder": 28,
    "_isFastLaunch": false,
    "category": "Compute optimized",
    "gpuNum": 0,
    "hideHardwareSpecs": false,
    "memoryGiB": 192,
    "name": "ml.c5.24xlarge",
    "vcpuNum": 96
   },
   {
    "_defaultOrder": 29,
    "_isFastLaunch": true,
    "category": "Accelerated computing",
    "gpuNum": 1,
    "hideHardwareSpecs": false,
    "memoryGiB": 16,
    "name": "ml.g4dn.xlarge",
    "vcpuNum": 4
   },
   {
    "_defaultOrder": 30,
    "_isFastLaunch": false,
    "category": "Accelerated computing",
    "gpuNum": 1,
    "hideHardwareSpecs": false,
    "memoryGiB": 32,
    "name": "ml.g4dn.2xlarge",
    "vcpuNum": 8
   },
   {
    "_defaultOrder": 31,
    "_isFastLaunch": false,
    "category": "Accelerated computing",
    "gpuNum": 1,
    "hideHardwareSpecs": false,
    "memoryGiB": 64,
    "name": "ml.g4dn.4xlarge",
    "vcpuNum": 16
   },
   {
    "_defaultOrder": 32,
    "_isFastLaunch": false,
    "category": "Accelerated computing",
    "gpuNum": 1,
    "hideHardwareSpecs": false,
    "memoryGiB": 128,
    "name": "ml.g4dn.8xlarge",
    "vcpuNum": 32
   },
   {
    "_defaultOrder": 33,
    "_isFastLaunch": false,
    "category": "Accelerated computing",
    "gpuNum": 4,
    "hideHardwareSpecs": false,
    "memoryGiB": 192,
    "name": "ml.g4dn.12xlarge",
    "vcpuNum": 48
   },
   {
    "_defaultOrder": 34,
    "_isFastLaunch": false,
    "category": "Accelerated computing",
    "gpuNum": 1,
    "hideHardwareSpecs": false,
    "memoryGiB": 256,
    "name": "ml.g4dn.16xlarge",
    "vcpuNum": 64
   },
   {
    "_defaultOrder": 35,
    "_isFastLaunch": false,
    "category": "Accelerated computing",
    "gpuNum": 1,
    "hideHardwareSpecs": false,
    "memoryGiB": 61,
    "name": "ml.p3.2xlarge",
    "vcpuNum": 8
   },
   {
    "_defaultOrder": 36,
    "_isFastLaunch": false,
    "category": "Accelerated computing",
    "gpuNum": 4,
    "hideHardwareSpecs": false,
    "memoryGiB": 244,
    "name": "ml.p3.8xlarge",
    "vcpuNum": 32
   },
   {
    "_defaultOrder": 37,
    "_isFastLaunch": false,
    "category": "Accelerated computing",
    "gpuNum": 8,
    "hideHardwareSpecs": false,
    "memoryGiB": 488,
    "name": "ml.p3.16xlarge",
    "vcpuNum": 64
   },
   {
    "_defaultOrder": 38,
    "_isFastLaunch": false,
    "category": "Accelerated computing",
    "gpuNum": 8,
    "hideHardwareSpecs": false,
    "memoryGiB": 768,
    "name": "ml.p3dn.24xlarge",
    "vcpuNum": 96
   },
   {
    "_defaultOrder": 39,
    "_isFastLaunch": false,
    "category": "Memory Optimized",
    "gpuNum": 0,
    "hideHardwareSpecs": false,
    "memoryGiB": 16,
    "name": "ml.r5.large",
    "vcpuNum": 2
   },
   {
    "_defaultOrder": 40,
    "_isFastLaunch": false,
    "category": "Memory Optimized",
    "gpuNum": 0,
    "hideHardwareSpecs": false,
    "memoryGiB": 32,
    "name": "ml.r5.xlarge",
    "vcpuNum": 4
   },
   {
    "_defaultOrder": 41,
    "_isFastLaunch": false,
    "category": "Memory Optimized",
    "gpuNum": 0,
    "hideHardwareSpecs": false,
    "memoryGiB": 64,
    "name": "ml.r5.2xlarge",
    "vcpuNum": 8
   },
   {
    "_defaultOrder": 42,
    "_isFastLaunch": false,
    "category": "Memory Optimized",
    "gpuNum": 0,
    "hideHardwareSpecs": false,
    "memoryGiB": 128,
    "name": "ml.r5.4xlarge",
    "vcpuNum": 16
   },
   {
    "_defaultOrder": 43,
    "_isFastLaunch": false,
    "category": "Memory Optimized",
    "gpuNum": 0,
    "hideHardwareSpecs": false,
    "memoryGiB": 256,
    "name": "ml.r5.8xlarge",
    "vcpuNum": 32
   },
   {
    "_defaultOrder": 44,
    "_isFastLaunch": false,
    "category": "Memory Optimized",
    "gpuNum": 0,
    "hideHardwareSpecs": false,
    "memoryGiB": 384,
    "name": "ml.r5.12xlarge",
    "vcpuNum": 48
   },
   {
    "_defaultOrder": 45,
    "_isFastLaunch": false,
    "category": "Memory Optimized",
    "gpuNum": 0,
    "hideHardwareSpecs": false,
    "memoryGiB": 512,
    "name": "ml.r5.16xlarge",
    "vcpuNum": 64
   },
   {
    "_defaultOrder": 46,
    "_isFastLaunch": false,
    "category": "Memory Optimized",
    "gpuNum": 0,
    "hideHardwareSpecs": false,
    "memoryGiB": 768,
    "name": "ml.r5.24xlarge",
    "vcpuNum": 96
   },
   {
    "_defaultOrder": 47,
    "_isFastLaunch": false,
    "category": "Accelerated computing",
    "gpuNum": 1,
    "hideHardwareSpecs": false,
    "memoryGiB": 16,
    "name": "ml.g5.xlarge",
    "vcpuNum": 4
   },
   {
    "_defaultOrder": 48,
    "_isFastLaunch": false,
    "category": "Accelerated computing",
    "gpuNum": 1,
    "hideHardwareSpecs": false,
    "memoryGiB": 32,
    "name": "ml.g5.2xlarge",
    "vcpuNum": 8
   },
   {
    "_defaultOrder": 49,
    "_isFastLaunch": false,
    "category": "Accelerated computing",
    "gpuNum": 1,
    "hideHardwareSpecs": false,
    "memoryGiB": 64,
    "name": "ml.g5.4xlarge",
    "vcpuNum": 16
   },
   {
    "_defaultOrder": 50,
    "_isFastLaunch": false,
    "category": "Accelerated computing",
    "gpuNum": 1,
    "hideHardwareSpecs": false,
    "memoryGiB": 128,
    "name": "ml.g5.8xlarge",
    "vcpuNum": 32
   },
   {
    "_defaultOrder": 51,
    "_isFastLaunch": false,
    "category": "Accelerated computing",
    "gpuNum": 1,
    "hideHardwareSpecs": false,
    "memoryGiB": 256,
    "name": "ml.g5.16xlarge",
    "vcpuNum": 64
   },
   {
    "_defaultOrder": 52,
    "_isFastLaunch": false,
    "category": "Accelerated computing",
    "gpuNum": 4,
    "hideHardwareSpecs": false,
    "memoryGiB": 192,
    "name": "ml.g5.12xlarge",
    "vcpuNum": 48
   },
   {
    "_defaultOrder": 53,
    "_isFastLaunch": false,
    "category": "Accelerated computing",
    "gpuNum": 4,
    "hideHardwareSpecs": false,
    "memoryGiB": 384,
    "name": "ml.g5.24xlarge",
    "vcpuNum": 96
   },
   {
    "_defaultOrder": 54,
    "_isFastLaunch": false,
    "category": "Accelerated computing",
    "gpuNum": 8,
    "hideHardwareSpecs": false,
    "memoryGiB": 768,
    "name": "ml.g5.48xlarge",
    "vcpuNum": 192
   }
  ],
  "instance_type": "ml.t3.medium",
  "kernelspec": {
   "display_name": "Python 3 (ipykernel)",
   "language": "python",
   "name": "python3"
  },
  "language_info": {
   "codemirror_mode": {
    "name": "ipython",
    "version": 3
   },
   "file_extension": ".py",
   "mimetype": "text/x-python",
   "name": "python",
   "nbconvert_exporter": "python",
   "pygments_lexer": "ipython3",
   "version": "3.9.7"
  }
 },
 "nbformat": 4,
 "nbformat_minor": 5
}

{
 "cells": [
  {
   "cell_type": "code",
   "execution_count": 3,
   "id": "ec19b556-2bfe-491c-891a-30ea95c1f985",
   "metadata": {
    "tags": []
   },
   "outputs": [],
   "source": [
    "import numpy as np\n",
    "import pandas as pd\n",
    "import sqlite3 as sq\n",
    "import matplotlib.pyplot as plt\n",
    "import seaborn as sns"
   ]
  },
  {
   "cell_type": "code",
   "execution_count": 3,
   "id": "2941e1dc-f3d1-4e70-b8d0-ac73ddcda9f7",
   "metadata": {
    "tags": []
   },
   "outputs": [
    {
     "name": "stderr",
     "output_type": "stream",
     "text": [
      "/opt/conda/lib/python3.7/site-packages/IPython/core/interactiveshell.py:3553: DtypeWarning: Columns (7) have mixed types.Specify dtype option on import or set low_memory=False.\n",
      "  exec(code_obj, self.user_global_ns, self.user_ns)\n"
     ]
    },
    {
     "data": {
      "text/html": [
       "<div>\n",
       "<style scoped>\n",
       "    .dataframe tbody tr th:only-of-type {\n",
       "        vertical-align: middle;\n",
       "    }\n",
       "\n",
       "    .dataframe tbody tr th {\n",
       "        vertical-align: top;\n",
       "    }\n",
       "\n",
       "    .dataframe thead th {\n",
       "        text-align: right;\n",
       "    }\n",
       "</style>\n",
       "<table border=\"1\" class=\"dataframe\">\n",
       "  <thead>\n",
       "    <tr style=\"text-align: right;\">\n",
       "      <th></th>\n",
       "      <th>name</th>\n",
       "      <th>department</th>\n",
       "      <th>job_title</th>\n",
       "      <th>total_cash</th>\n",
       "      <th>base_salary</th>\n",
       "      <th>overtime</th>\n",
       "      <th>health</th>\n",
       "      <th>retired</th>\n",
       "      <th>year</th>\n",
       "      <th>city_id</th>\n",
       "      <th>irregular_cash</th>\n",
       "      <th>retirement</th>\n",
       "      <th>other_benefits</th>\n",
       "      <th>total_benefits</th>\n",
       "      <th>total_compensation</th>\n",
       "    </tr>\n",
       "  </thead>\n",
       "  <tbody>\n",
       "    <tr>\n",
       "      <th>0</th>\n",
       "      <td>Bustillos Steven D</td>\n",
       "      <td>Police</td>\n",
       "      <td>Police Sergeant</td>\n",
       "      <td>286137.69</td>\n",
       "      <td>90888.00</td>\n",
       "      <td>89867.88</td>\n",
       "      <td>13640.50</td>\n",
       "      <td>Yes</td>\n",
       "      <td>2013</td>\n",
       "      <td>1</td>\n",
       "      <td>105381.81</td>\n",
       "      <td>74429.71</td>\n",
       "      <td>0.0</td>\n",
       "      <td>88070.21</td>\n",
       "      <td>374207.90</td>\n",
       "    </tr>\n",
       "    <tr>\n",
       "      <th>1</th>\n",
       "      <td>Figone Debra J</td>\n",
       "      <td>City Manager</td>\n",
       "      <td>City Manager U</td>\n",
       "      <td>248564.84</td>\n",
       "      <td>227975.02</td>\n",
       "      <td>NaN</td>\n",
       "      <td>15166.00</td>\n",
       "      <td>Yes</td>\n",
       "      <td>2013</td>\n",
       "      <td>1</td>\n",
       "      <td>20589.82</td>\n",
       "      <td>151550.08</td>\n",
       "      <td>0.0</td>\n",
       "      <td>166716.08</td>\n",
       "      <td>415280.92</td>\n",
       "    </tr>\n",
       "    <tr>\n",
       "      <th>2</th>\n",
       "      <td>Guerra Daniel P</td>\n",
       "      <td>Police</td>\n",
       "      <td>Police Officer</td>\n",
       "      <td>241039.12</td>\n",
       "      <td>97198.40</td>\n",
       "      <td>132104.54</td>\n",
       "      <td>15371.56</td>\n",
       "      <td>No</td>\n",
       "      <td>2013</td>\n",
       "      <td>1</td>\n",
       "      <td>11736.18</td>\n",
       "      <td>79821.51</td>\n",
       "      <td>0.0</td>\n",
       "      <td>95193.07</td>\n",
       "      <td>336232.19</td>\n",
       "    </tr>\n",
       "    <tr>\n",
       "      <th>3</th>\n",
       "      <td>Moore Christopher M</td>\n",
       "      <td>Police</td>\n",
       "      <td>Chief Of Police U</td>\n",
       "      <td>233540.32</td>\n",
       "      <td>15319.54</td>\n",
       "      <td>NaN</td>\n",
       "      <td>1371.81</td>\n",
       "      <td>Yes</td>\n",
       "      <td>2013</td>\n",
       "      <td>1</td>\n",
       "      <td>218220.78</td>\n",
       "      <td>11204.16</td>\n",
       "      <td>0.0</td>\n",
       "      <td>12575.97</td>\n",
       "      <td>246116.29</td>\n",
       "    </tr>\n",
       "    <tr>\n",
       "      <th>4</th>\n",
       "      <td>Vasquez Hector M</td>\n",
       "      <td>Police</td>\n",
       "      <td>Police Officer</td>\n",
       "      <td>230469.85</td>\n",
       "      <td>97198.40</td>\n",
       "      <td>124552.69</td>\n",
       "      <td>16345.32</td>\n",
       "      <td>No</td>\n",
       "      <td>2013</td>\n",
       "      <td>1</td>\n",
       "      <td>8718.76</td>\n",
       "      <td>79821.51</td>\n",
       "      <td>0.0</td>\n",
       "      <td>96166.83</td>\n",
       "      <td>326636.68</td>\n",
       "    </tr>\n",
       "  </tbody>\n",
       "</table>\n",
       "</div>"
      ],
      "text/plain": [
       "                  name    department          job_title  total_cash  \\\n",
       "0   Bustillos Steven D        Police    Police Sergeant   286137.69   \n",
       "1       Figone Debra J  City Manager     City Manager U   248564.84   \n",
       "2      Guerra Daniel P        Police     Police Officer   241039.12   \n",
       "3  Moore Christopher M        Police  Chief Of Police U   233540.32   \n",
       "4     Vasquez Hector M        Police     Police Officer   230469.85   \n",
       "\n",
       "   base_salary   overtime    health retired  year  city_id  irregular_cash  \\\n",
       "0     90888.00   89867.88  13640.50     Yes  2013        1       105381.81   \n",
       "1    227975.02        NaN  15166.00     Yes  2013        1        20589.82   \n",
       "2     97198.40  132104.54  15371.56      No  2013        1        11736.18   \n",
       "3     15319.54        NaN   1371.81     Yes  2013        1       218220.78   \n",
       "4     97198.40  124552.69  16345.32      No  2013        1         8718.76   \n",
       "\n",
       "   retirement  other_benefits  total_benefits  total_compensation  \n",
       "0    74429.71             0.0        88070.21           374207.90  \n",
       "1   151550.08             0.0       166716.08           415280.92  \n",
       "2    79821.51             0.0        95193.07           336232.19  \n",
       "3    11204.16             0.0        12575.97           246116.29  \n",
       "4    79821.51             0.0        96166.83           326636.68  "
      ]
     },
     "execution_count": 3,
     "metadata": {},
     "output_type": "execute_result"
    }
   ],
   "source": [
    "sj_df = pd.read_csv('s3://508-team4/data/sj_compensation/sj_compensation.csv')\n",
    "sj_df.head()"
   ]
  },
  {
   "cell_type": "code",
   "execution_count": 4,
   "id": "142eb1bd-7534-4b6f-8899-e763119745d3",
   "metadata": {
    "tags": []
   },
   "outputs": [
    {
     "data": {
      "text/plain": [
       "['name',\n",
       " 'department',\n",
       " 'job_title',\n",
       " 'total_cash',\n",
       " 'base_salary',\n",
       " 'overtime',\n",
       " 'health',\n",
       " 'retired',\n",
       " 'year',\n",
       " 'city_id',\n",
       " 'irregular_cash',\n",
       " 'retirement',\n",
       " 'other_benefits',\n",
       " 'total_benefits',\n",
       " 'total_compensation']"
      ]
     },
     "execution_count": 4,
     "metadata": {},
     "output_type": "execute_result"
    }
   ],
   "source": [
    "col_names_sj = sj_df.columns.tolist()\n",
    "col_names_sj"
   ]
  },
  {
   "cell_type": "code",
   "execution_count": 5,
   "id": "22a14568-738f-4a06-b392-80ef0afb7e12",
   "metadata": {
    "tags": []
   },
   "outputs": [
    {
     "data": {
      "text/html": [
       "<div>\n",
       "<style scoped>\n",
       "    .dataframe tbody tr th:only-of-type {\n",
       "        vertical-align: middle;\n",
       "    }\n",
       "\n",
       "    .dataframe tbody tr th {\n",
       "        vertical-align: top;\n",
       "    }\n",
       "\n",
       "    .dataframe thead th {\n",
       "        text-align: right;\n",
       "    }\n",
       "</style>\n",
       "<table border=\"1\" class=\"dataframe\">\n",
       "  <thead>\n",
       "    <tr style=\"text-align: right;\">\n",
       "      <th></th>\n",
       "      <th>organization_group_code</th>\n",
       "      <th>job_family_code</th>\n",
       "      <th>job_code</th>\n",
       "      <th>year_type</th>\n",
       "      <th>year</th>\n",
       "      <th>organization_group</th>\n",
       "      <th>department_code</th>\n",
       "      <th>department</th>\n",
       "      <th>union_code</th>\n",
       "      <th>union</th>\n",
       "      <th>...</th>\n",
       "      <th>salaries</th>\n",
       "      <th>overtime</th>\n",
       "      <th>other_salaries</th>\n",
       "      <th>total_salary</th>\n",
       "      <th>retirement</th>\n",
       "      <th>health_and_dental</th>\n",
       "      <th>other_benefits</th>\n",
       "      <th>total_benefits</th>\n",
       "      <th>total_compensation</th>\n",
       "      <th>city_id</th>\n",
       "    </tr>\n",
       "  </thead>\n",
       "  <tbody>\n",
       "    <tr>\n",
       "      <th>0</th>\n",
       "      <td>3</td>\n",
       "      <td>1400</td>\n",
       "      <td>1404</td>\n",
       "      <td>Fiscal</td>\n",
       "      <td>2019</td>\n",
       "      <td>Human Welfare &amp; Neighborhood Development</td>\n",
       "      <td>HSA</td>\n",
       "      <td>Human Services</td>\n",
       "      <td>790.0</td>\n",
       "      <td>SEIU  Local 1021  Misc</td>\n",
       "      <td>...</td>\n",
       "      <td>60720.01</td>\n",
       "      <td>0.00</td>\n",
       "      <td>0.00</td>\n",
       "      <td>60720.01</td>\n",
       "      <td>13653.20</td>\n",
       "      <td>14733.76</td>\n",
       "      <td>4904.34</td>\n",
       "      <td>33291.30</td>\n",
       "      <td>94011.31</td>\n",
       "      <td>2</td>\n",
       "    </tr>\n",
       "    <tr>\n",
       "      <th>1</th>\n",
       "      <td>3</td>\n",
       "      <td>9700</td>\n",
       "      <td>9703</td>\n",
       "      <td>Fiscal</td>\n",
       "      <td>2019</td>\n",
       "      <td>Human Welfare &amp; Neighborhood Development</td>\n",
       "      <td>HSA</td>\n",
       "      <td>Human Services</td>\n",
       "      <td>535.0</td>\n",
       "      <td>SEIU  Local 1021  Misc</td>\n",
       "      <td>...</td>\n",
       "      <td>91677.00</td>\n",
       "      <td>0.00</td>\n",
       "      <td>0.00</td>\n",
       "      <td>91677.00</td>\n",
       "      <td>17524.20</td>\n",
       "      <td>14733.76</td>\n",
       "      <td>7411.13</td>\n",
       "      <td>39669.09</td>\n",
       "      <td>131346.09</td>\n",
       "      <td>2</td>\n",
       "    </tr>\n",
       "    <tr>\n",
       "      <th>2</th>\n",
       "      <td>3</td>\n",
       "      <td>2900</td>\n",
       "      <td>2918</td>\n",
       "      <td>Fiscal</td>\n",
       "      <td>2019</td>\n",
       "      <td>Human Welfare &amp; Neighborhood Development</td>\n",
       "      <td>HSA</td>\n",
       "      <td>Human Services</td>\n",
       "      <td>535.0</td>\n",
       "      <td>SEIU  Local 1021  Misc</td>\n",
       "      <td>...</td>\n",
       "      <td>89106.03</td>\n",
       "      <td>0.00</td>\n",
       "      <td>1540.00</td>\n",
       "      <td>90646.03</td>\n",
       "      <td>17327.20</td>\n",
       "      <td>14733.76</td>\n",
       "      <td>7401.92</td>\n",
       "      <td>39462.88</td>\n",
       "      <td>130108.91</td>\n",
       "      <td>2</td>\n",
       "    </tr>\n",
       "    <tr>\n",
       "      <th>3</th>\n",
       "      <td>3</td>\n",
       "      <td>2900</td>\n",
       "      <td>2918</td>\n",
       "      <td>Fiscal</td>\n",
       "      <td>2019</td>\n",
       "      <td>Human Welfare &amp; Neighborhood Development</td>\n",
       "      <td>HSA</td>\n",
       "      <td>Human Services</td>\n",
       "      <td>535.0</td>\n",
       "      <td>SEIU  Local 1021  Misc</td>\n",
       "      <td>...</td>\n",
       "      <td>85581.11</td>\n",
       "      <td>3355.94</td>\n",
       "      <td>337.75</td>\n",
       "      <td>89274.80</td>\n",
       "      <td>16359.16</td>\n",
       "      <td>14151.56</td>\n",
       "      <td>7096.21</td>\n",
       "      <td>37606.93</td>\n",
       "      <td>126881.73</td>\n",
       "      <td>2</td>\n",
       "    </tr>\n",
       "    <tr>\n",
       "      <th>4</th>\n",
       "      <td>3</td>\n",
       "      <td>2900</td>\n",
       "      <td>2905</td>\n",
       "      <td>Fiscal</td>\n",
       "      <td>2019</td>\n",
       "      <td>Human Welfare &amp; Neighborhood Development</td>\n",
       "      <td>HSA</td>\n",
       "      <td>Human Services</td>\n",
       "      <td>535.0</td>\n",
       "      <td>SEIU  Local 1021  Misc</td>\n",
       "      <td>...</td>\n",
       "      <td>86457.00</td>\n",
       "      <td>0.00</td>\n",
       "      <td>2090.00</td>\n",
       "      <td>88547.00</td>\n",
       "      <td>16925.97</td>\n",
       "      <td>14733.76</td>\n",
       "      <td>7257.89</td>\n",
       "      <td>38917.62</td>\n",
       "      <td>127464.62</td>\n",
       "      <td>2</td>\n",
       "    </tr>\n",
       "  </tbody>\n",
       "</table>\n",
       "<p>5 rows × 23 columns</p>\n",
       "</div>"
      ],
      "text/plain": [
       "   organization_group_code job_family_code job_code year_type  year  \\\n",
       "0                        3            1400     1404    Fiscal  2019   \n",
       "1                        3            9700     9703    Fiscal  2019   \n",
       "2                        3            2900     2918    Fiscal  2019   \n",
       "3                        3            2900     2918    Fiscal  2019   \n",
       "4                        3            2900     2905    Fiscal  2019   \n",
       "\n",
       "                         organization_group department_code      department  \\\n",
       "0  Human Welfare & Neighborhood Development             HSA  Human Services   \n",
       "1  Human Welfare & Neighborhood Development             HSA  Human Services   \n",
       "2  Human Welfare & Neighborhood Development             HSA  Human Services   \n",
       "3  Human Welfare & Neighborhood Development             HSA  Human Services   \n",
       "4  Human Welfare & Neighborhood Development             HSA  Human Services   \n",
       "\n",
       "   union_code                   union  ...  salaries overtime  other_salaries  \\\n",
       "0       790.0  SEIU  Local 1021  Misc  ...  60720.01     0.00            0.00   \n",
       "1       535.0  SEIU  Local 1021  Misc  ...  91677.00     0.00            0.00   \n",
       "2       535.0  SEIU  Local 1021  Misc  ...  89106.03     0.00         1540.00   \n",
       "3       535.0  SEIU  Local 1021  Misc  ...  85581.11  3355.94          337.75   \n",
       "4       535.0  SEIU  Local 1021  Misc  ...  86457.00     0.00         2090.00   \n",
       "\n",
       "   total_salary  retirement  health_and_dental  other_benefits  \\\n",
       "0      60720.01    13653.20           14733.76         4904.34   \n",
       "1      91677.00    17524.20           14733.76         7411.13   \n",
       "2      90646.03    17327.20           14733.76         7401.92   \n",
       "3      89274.80    16359.16           14151.56         7096.21   \n",
       "4      88547.00    16925.97           14733.76         7257.89   \n",
       "\n",
       "   total_benefits  total_compensation  city_id  \n",
       "0        33291.30            94011.31        2  \n",
       "1        39669.09           131346.09        2  \n",
       "2        39462.88           130108.91        2  \n",
       "3        37606.93           126881.73        2  \n",
       "4        38917.62           127464.62        2  \n",
       "\n",
       "[5 rows x 23 columns]"
      ]
     },
     "execution_count": 5,
     "metadata": {},
     "output_type": "execute_result"
    }
   ],
   "source": [
    "sf_df = pd.read_csv('s3://508-team4/data/sf_compensation/sf_compensation.csv')\n",
    "#sf_df['city_id'] = 2\n",
    "sf_df.head()"
   ]
  },
  {
   "cell_type": "code",
   "execution_count": 6,
   "id": "f22befc8-19a3-46a6-9edc-a381530341fb",
   "metadata": {
    "tags": []
   },
   "outputs": [
    {
     "data": {
      "text/plain": [
       "['organization_group_code',\n",
       " 'job_family_code',\n",
       " 'job_code',\n",
       " 'year_type',\n",
       " 'year',\n",
       " 'organization_group',\n",
       " 'department_code',\n",
       " 'department',\n",
       " 'union_code',\n",
       " 'union',\n",
       " 'job_family',\n",
       " 'job',\n",
       " 'employee_identifier',\n",
       " 'salaries',\n",
       " 'overtime',\n",
       " 'other_salaries',\n",
       " 'total_salary',\n",
       " 'retirement',\n",
       " 'health_and_dental',\n",
       " 'other_benefits',\n",
       " 'total_benefits',\n",
       " 'total_compensation',\n",
       " 'city_id']"
      ]
     },
     "execution_count": 6,
     "metadata": {},
     "output_type": "execute_result"
    }
   ],
   "source": [
    "col_names_sf = sf_df.columns.tolist()\n",
    "col_names_sf"
   ]
  },
  {
   "cell_type": "code",
   "execution_count": 7,
   "id": "904ce4fb-67c3-4b1a-9bf5-e15bf8729dd6",
   "metadata": {
    "tags": []
   },
   "outputs": [
    {
     "name": "stderr",
     "output_type": "stream",
     "text": [
      "/opt/conda/lib/python3.7/site-packages/IPython/core/interactiveshell.py:3553: DtypeWarning: Columns (0,8) have mixed types.Specify dtype option on import or set low_memory=False.\n",
      "  exec(code_obj, self.user_global_ns, self.user_ns)\n"
     ]
    },
    {
     "name": "stdout",
     "output_type": "stream",
     "text": [
      "<class 'pandas.core.frame.DataFrame'>\n",
      "RangeIndex: 753959 entries, 0 to 753958\n",
      "Data columns (total 22 columns):\n",
      " #   Column              Non-Null Count   Dtype  \n",
      "---  ------              --------------   -----  \n",
      " 0   record_nbr          753959 non-null  object \n",
      " 1   year                753959 non-null  int64  \n",
      " 2   department_no       753959 non-null  int64  \n",
      " 3   department          753959 non-null  object \n",
      " 4   job_class_pgrade    753415 non-null  object \n",
      " 5   job_title           753415 non-null  object \n",
      " 6   employment_type     753959 non-null  object \n",
      " 7   job_status          753959 non-null  object \n",
      " 8   mou                 753273 non-null  object \n",
      " 9   mou_title           753166 non-null  object \n",
      " 10  base_salary         753959 non-null  float64\n",
      " 11  overtime            753525 non-null  float64\n",
      " 12  irregular_cash      753525 non-null  float64\n",
      " 13  total_cash          753959 non-null  float64\n",
      " 14  retirement          753959 non-null  float64\n",
      " 15  health              753959 non-null  float64\n",
      " 16  gender              750098 non-null  object \n",
      " 17  ethnicity           746703 non-null  object \n",
      " 18  city_id             753959 non-null  int64  \n",
      " 19  total_benefits      753959 non-null  float64\n",
      " 20  total_compensation  753959 non-null  float64\n",
      " 21  other_benefits      0 non-null       float64\n",
      "dtypes: float64(9), int64(3), object(10)\n",
      "memory usage: 126.5+ MB\n"
     ]
    }
   ],
   "source": [
    "la_df = pd.read_csv('s3://508-team4/data/la_compensation/la_compensation.csv')\n",
    "#la_df['city_id'] = 3\n",
    "la_df.info()"
   ]
  },
  {
   "cell_type": "code",
   "execution_count": 8,
   "id": "d957d415-87d9-4370-a993-1bb20b6736d6",
   "metadata": {
    "tags": []
   },
   "outputs": [],
   "source": [
    "import boto3\n",
    "import sagemaker\n",
    "\n",
    "sess = sagemaker.Session()\n",
    "bucket = sess.default_bucket()\n",
    "role = sagemaker.get_execution_role()\n",
    "region = boto3.Session().region_name"
   ]
  },
  {
   "cell_type": "code",
   "execution_count": 9,
   "id": "63921706-13b5-49fb-beb6-95cd20a11941",
   "metadata": {
    "tags": []
   },
   "outputs": [],
   "source": [
    "ingest_create_athena_db_passed = False"
   ]
  },
  {
   "cell_type": "code",
   "execution_count": 10,
   "id": "8f3c98a3-9195-420c-915b-6a4e4b3c80b0",
   "metadata": {
    "tags": []
   },
   "outputs": [
    {
     "name": "stdout",
     "output_type": "stream",
     "text": [
      "\u001b[33mWARNING: Running pip as the 'root' user can result in broken permissions and conflicting behaviour with the system package manager. It is recommended to use a virtual environment instead: https://pip.pypa.io/warnings/venv\u001b[0m\u001b[33m\n",
      "\u001b[0m"
     ]
    }
   ],
   "source": [
    "!pip install --disable-pip-version-check -q PyAthena==2.1.0\n",
    "from pyathena import connect"
   ]
  },
  {
   "cell_type": "code",
   "execution_count": 11,
   "id": "7acaefa3-f889-40e9-8231-6b5cb917c255",
   "metadata": {
    "tags": []
   },
   "outputs": [],
   "source": [
    "database_name = \"compens\""
   ]
  },
  {
   "cell_type": "code",
   "execution_count": 12,
   "id": "f7c5b860-23cc-48d1-9abd-7d21cb2bc67d",
   "metadata": {
    "tags": []
   },
   "outputs": [],
   "source": [
    "# Set S3 staging directory -- this is a temporary directory used for Athena queries\n",
    "s3_staging_dir = \"s3://{0}/athena/staging\".format(bucket)"
   ]
  },
  {
   "cell_type": "code",
   "execution_count": 13,
   "id": "417b4026-a1e3-49c4-bddb-4e11fd78b929",
   "metadata": {
    "tags": []
   },
   "outputs": [],
   "source": [
    "conn = connect(region_name=region, s3_staging_dir=s3_staging_dir)"
   ]
  },
  {
   "cell_type": "code",
   "execution_count": 14,
   "id": "710af65a-05b8-4679-945b-0d69f409565f",
   "metadata": {
    "tags": []
   },
   "outputs": [
    {
     "name": "stdout",
     "output_type": "stream",
     "text": [
      "CREATE DATABASE IF NOT EXISTS compens\n"
     ]
    }
   ],
   "source": [
    "statement = \"CREATE DATABASE IF NOT EXISTS {}\".format(database_name)\n",
    "print(statement)"
   ]
  },
  {
   "cell_type": "code",
   "execution_count": 15,
   "id": "66995dfa-2e81-469b-8fe0-235983ee8c7f",
   "metadata": {
    "tags": []
   },
   "outputs": [
    {
     "data": {
      "text/html": [
       "<div>\n",
       "<style scoped>\n",
       "    .dataframe tbody tr th:only-of-type {\n",
       "        vertical-align: middle;\n",
       "    }\n",
       "\n",
       "    .dataframe tbody tr th {\n",
       "        vertical-align: top;\n",
       "    }\n",
       "\n",
       "    .dataframe thead th {\n",
       "        text-align: right;\n",
       "    }\n",
       "</style>\n",
       "<table border=\"1\" class=\"dataframe\">\n",
       "  <thead>\n",
       "    <tr style=\"text-align: right;\">\n",
       "      <th></th>\n",
       "    </tr>\n",
       "  </thead>\n",
       "  <tbody>\n",
       "  </tbody>\n",
       "</table>\n",
       "</div>"
      ],
      "text/plain": [
       "Empty DataFrame\n",
       "Columns: []\n",
       "Index: []"
      ]
     },
     "execution_count": 15,
     "metadata": {},
     "output_type": "execute_result"
    }
   ],
   "source": [
    "pd.read_sql(statement, conn)"
   ]
  },
  {
   "cell_type": "code",
   "execution_count": 16,
   "id": "90c59451-62f0-462a-adf2-4e8e020fbaae",
   "metadata": {
    "tags": []
   },
   "outputs": [
    {
     "data": {
      "text/html": [
       "<div>\n",
       "<style scoped>\n",
       "    .dataframe tbody tr th:only-of-type {\n",
       "        vertical-align: middle;\n",
       "    }\n",
       "\n",
       "    .dataframe tbody tr th {\n",
       "        vertical-align: top;\n",
       "    }\n",
       "\n",
       "    .dataframe thead th {\n",
       "        text-align: right;\n",
       "    }\n",
       "</style>\n",
       "<table border=\"1\" class=\"dataframe\">\n",
       "  <thead>\n",
       "    <tr style=\"text-align: right;\">\n",
       "      <th></th>\n",
       "      <th>database_name</th>\n",
       "    </tr>\n",
       "  </thead>\n",
       "  <tbody>\n",
       "    <tr>\n",
       "      <th>0</th>\n",
       "      <td>compens</td>\n",
       "    </tr>\n",
       "    <tr>\n",
       "      <th>1</th>\n",
       "      <td>default</td>\n",
       "    </tr>\n",
       "  </tbody>\n",
       "</table>\n",
       "</div>"
      ],
      "text/plain": [
       "  database_name\n",
       "0       compens\n",
       "1       default"
      ]
     },
     "execution_count": 16,
     "metadata": {},
     "output_type": "execute_result"
    }
   ],
   "source": [
    "statement = \"SHOW DATABASES\"\n",
    "\n",
    "df_show = pd.read_sql(statement, conn)\n",
    "df_show.head(5)"
   ]
  },
  {
   "cell_type": "code",
   "execution_count": 17,
   "id": "1a110153-8647-4663-a45d-9d48a74a409c",
   "metadata": {
    "tags": []
   },
   "outputs": [],
   "source": [
    "#Directory for the data input\n",
    "data_dir = 's3://508-team4/data'"
   ]
  },
  {
   "cell_type": "code",
   "execution_count": 18,
   "id": "d56f09e0-4688-4c52-8e91-3e8cef29ff6c",
   "metadata": {
    "tags": []
   },
   "outputs": [
    {
     "data": {
      "text/html": [
       "<div>\n",
       "<style scoped>\n",
       "    .dataframe tbody tr th:only-of-type {\n",
       "        vertical-align: middle;\n",
       "    }\n",
       "\n",
       "    .dataframe tbody tr th {\n",
       "        vertical-align: top;\n",
       "    }\n",
       "\n",
       "    .dataframe thead th {\n",
       "        text-align: right;\n",
       "    }\n",
       "</style>\n",
       "<table border=\"1\" class=\"dataframe\">\n",
       "  <thead>\n",
       "    <tr style=\"text-align: right;\">\n",
       "      <th></th>\n",
       "      <th>name</th>\n",
       "      <th>department</th>\n",
       "      <th>job_title</th>\n",
       "      <th>total_cash</th>\n",
       "      <th>base_salary</th>\n",
       "      <th>overtime</th>\n",
       "      <th>health</th>\n",
       "      <th>retired</th>\n",
       "      <th>year</th>\n",
       "      <th>city_id</th>\n",
       "      <th>irregular_cash</th>\n",
       "      <th>retirement</th>\n",
       "      <th>other_benefits</th>\n",
       "      <th>total_benefits</th>\n",
       "      <th>total_compensation</th>\n",
       "    </tr>\n",
       "  </thead>\n",
       "  <tbody>\n",
       "    <tr>\n",
       "      <th>0</th>\n",
       "      <td>Bustillos Steven D</td>\n",
       "      <td>Police</td>\n",
       "      <td>Police Sergeant</td>\n",
       "      <td>286137.70</td>\n",
       "      <td>90888.00</td>\n",
       "      <td>89867.88</td>\n",
       "      <td>13640.50</td>\n",
       "      <td>Yes</td>\n",
       "      <td>2013</td>\n",
       "      <td>1</td>\n",
       "      <td>105381.81</td>\n",
       "      <td>74429.71</td>\n",
       "      <td>0.0</td>\n",
       "      <td>88070.21</td>\n",
       "      <td>374207.9</td>\n",
       "    </tr>\n",
       "    <tr>\n",
       "      <th>1</th>\n",
       "      <td>Figone Debra J</td>\n",
       "      <td>City Manager</td>\n",
       "      <td>City Manager U</td>\n",
       "      <td>248564.84</td>\n",
       "      <td>227975.02</td>\n",
       "      <td>NaN</td>\n",
       "      <td>15166.00</td>\n",
       "      <td>Yes</td>\n",
       "      <td>2013</td>\n",
       "      <td>1</td>\n",
       "      <td>20589.82</td>\n",
       "      <td>151550.08</td>\n",
       "      <td>0.0</td>\n",
       "      <td>166716.08</td>\n",
       "      <td>415280.9</td>\n",
       "    </tr>\n",
       "    <tr>\n",
       "      <th>2</th>\n",
       "      <td>Guerra Daniel P</td>\n",
       "      <td>Police</td>\n",
       "      <td>Police Officer</td>\n",
       "      <td>241039.12</td>\n",
       "      <td>97198.40</td>\n",
       "      <td>132104.55</td>\n",
       "      <td>15371.56</td>\n",
       "      <td>No</td>\n",
       "      <td>2013</td>\n",
       "      <td>1</td>\n",
       "      <td>11736.18</td>\n",
       "      <td>79821.51</td>\n",
       "      <td>0.0</td>\n",
       "      <td>95193.07</td>\n",
       "      <td>336232.2</td>\n",
       "    </tr>\n",
       "    <tr>\n",
       "      <th>3</th>\n",
       "      <td>Moore Christopher M</td>\n",
       "      <td>Police</td>\n",
       "      <td>Chief Of Police U</td>\n",
       "      <td>233540.31</td>\n",
       "      <td>15319.54</td>\n",
       "      <td>NaN</td>\n",
       "      <td>1371.81</td>\n",
       "      <td>Yes</td>\n",
       "      <td>2013</td>\n",
       "      <td>1</td>\n",
       "      <td>218220.78</td>\n",
       "      <td>11204.16</td>\n",
       "      <td>0.0</td>\n",
       "      <td>12575.97</td>\n",
       "      <td>246116.3</td>\n",
       "    </tr>\n",
       "    <tr>\n",
       "      <th>4</th>\n",
       "      <td>Vasquez Hector M</td>\n",
       "      <td>Police</td>\n",
       "      <td>Police Officer</td>\n",
       "      <td>230469.84</td>\n",
       "      <td>97198.40</td>\n",
       "      <td>124552.69</td>\n",
       "      <td>16345.32</td>\n",
       "      <td>No</td>\n",
       "      <td>2013</td>\n",
       "      <td>1</td>\n",
       "      <td>8718.76</td>\n",
       "      <td>79821.51</td>\n",
       "      <td>0.0</td>\n",
       "      <td>96166.83</td>\n",
       "      <td>326636.7</td>\n",
       "    </tr>\n",
       "  </tbody>\n",
       "</table>\n",
       "</div>"
      ],
      "text/plain": [
       "                  name    department          job_title  total_cash  \\\n",
       "0   Bustillos Steven D        Police    Police Sergeant   286137.70   \n",
       "1       Figone Debra J  City Manager     City Manager U   248564.84   \n",
       "2      Guerra Daniel P        Police     Police Officer   241039.12   \n",
       "3  Moore Christopher M        Police  Chief Of Police U   233540.31   \n",
       "4     Vasquez Hector M        Police     Police Officer   230469.84   \n",
       "\n",
       "   base_salary   overtime    health retired  year  city_id  irregular_cash  \\\n",
       "0     90888.00   89867.88  13640.50     Yes  2013        1       105381.81   \n",
       "1    227975.02        NaN  15166.00     Yes  2013        1        20589.82   \n",
       "2     97198.40  132104.55  15371.56      No  2013        1        11736.18   \n",
       "3     15319.54        NaN   1371.81     Yes  2013        1       218220.78   \n",
       "4     97198.40  124552.69  16345.32      No  2013        1         8718.76   \n",
       "\n",
       "   retirement  other_benefits  total_benefits  total_compensation  \n",
       "0    74429.71             0.0        88070.21            374207.9  \n",
       "1   151550.08             0.0       166716.08            415280.9  \n",
       "2    79821.51             0.0        95193.07            336232.2  \n",
       "3    11204.16             0.0        12575.97            246116.3  \n",
       "4    79821.51             0.0        96166.83            326636.7  "
      ]
     },
     "execution_count": 18,
     "metadata": {},
     "output_type": "execute_result"
    }
   ],
   "source": [
    "table_name1='sj_compensation'\n",
    "pd.read_sql(f'DROP TABLE IF EXISTS {database_name}.{table_name1}', conn)\n",
    "\n",
    "\n",
    "create_table = f\"\"\" \n",
    "CREATE EXTERNAL TABLE IF NOT EXISTS {database_name}.{table_name1}(\n",
    "                name string, \n",
    "                department string, \n",
    "                job_title string, \n",
    "                total_cash float,  \n",
    "                base_salary float, \n",
    "                overtime float, \n",
    "                health float, \n",
    "                retired string,\n",
    "                year int,\n",
    "                city_id int,\n",
    "                irregular_cash float, \n",
    "                retirement float, \n",
    "                other_benefits float,\n",
    "                total_benefits float,\n",
    "                total_compensation float\n",
    " )\n",
    "                \n",
    "                ROW FORMAT DELIMITED\n",
    "                FIELDS TERMINATED BY ','\n",
    "                LOCATION '{data_dir}/{table_name1}'\n",
    "                TBLPROPERTIES ('skip.header.line.count'='1')\n",
    "\"\"\"\n",
    "\n",
    "pd.read_sql(create_table, conn)\n",
    "\n",
    "pd.read_sql(f'SELECT * FROM {database_name}.{table_name1} LIMIT 5', conn)\n",
    "                "
   ]
  },
  {
   "cell_type": "code",
   "execution_count": 19,
   "id": "5cd6c5c2-0ba1-4bc5-95b9-855719d9f7d2",
   "metadata": {
    "tags": []
   },
   "outputs": [
    {
     "data": {
      "text/html": [
       "<div>\n",
       "<style scoped>\n",
       "    .dataframe tbody tr th:only-of-type {\n",
       "        vertical-align: middle;\n",
       "    }\n",
       "\n",
       "    .dataframe tbody tr th {\n",
       "        vertical-align: top;\n",
       "    }\n",
       "\n",
       "    .dataframe thead th {\n",
       "        text-align: right;\n",
       "    }\n",
       "</style>\n",
       "<table border=\"1\" class=\"dataframe\">\n",
       "  <thead>\n",
       "    <tr style=\"text-align: right;\">\n",
       "      <th></th>\n",
       "      <th>organization_group_code</th>\n",
       "      <th>job_family_code</th>\n",
       "      <th>job_code</th>\n",
       "      <th>year_type</th>\n",
       "      <th>year</th>\n",
       "      <th>organization_group</th>\n",
       "      <th>department_code</th>\n",
       "      <th>department</th>\n",
       "      <th>union_code</th>\n",
       "      <th>union</th>\n",
       "      <th>...</th>\n",
       "      <th>base_salary</th>\n",
       "      <th>overtime</th>\n",
       "      <th>irregular_cash</th>\n",
       "      <th>total_cash</th>\n",
       "      <th>retirement</th>\n",
       "      <th>health</th>\n",
       "      <th>other_benefits</th>\n",
       "      <th>total_benefits</th>\n",
       "      <th>total_compensation</th>\n",
       "      <th>city_id</th>\n",
       "    </tr>\n",
       "  </thead>\n",
       "  <tbody>\n",
       "    <tr>\n",
       "      <th>0</th>\n",
       "      <td>1</td>\n",
       "      <td>H000</td>\n",
       "      <td>H010</td>\n",
       "      <td>Calendar</td>\n",
       "      <td>2015</td>\n",
       "      <td>Public Protection</td>\n",
       "      <td>FIR</td>\n",
       "      <td>FIR Fire Department</td>\n",
       "      <td>798.0</td>\n",
       "      <td>Firefighters - Miscellaneous  Local 798</td>\n",
       "      <td>...</td>\n",
       "      <td>122778.10</td>\n",
       "      <td>0.00</td>\n",
       "      <td>16342.15</td>\n",
       "      <td>139120.25</td>\n",
       "      <td>27322.34</td>\n",
       "      <td>12424.50</td>\n",
       "      <td>2361.86</td>\n",
       "      <td>42108.70</td>\n",
       "      <td>181228.95</td>\n",
       "      <td>2</td>\n",
       "    </tr>\n",
       "    <tr>\n",
       "      <th>1</th>\n",
       "      <td>1</td>\n",
       "      <td>H000</td>\n",
       "      <td>H010</td>\n",
       "      <td>Calendar</td>\n",
       "      <td>2014</td>\n",
       "      <td>Public Protection</td>\n",
       "      <td>FIR</td>\n",
       "      <td>FIR Fire Department</td>\n",
       "      <td>798.0</td>\n",
       "      <td>Firefighters - Miscellaneous  Local 798</td>\n",
       "      <td>...</td>\n",
       "      <td>121525.81</td>\n",
       "      <td>27121.59</td>\n",
       "      <td>17082.50</td>\n",
       "      <td>165729.90</td>\n",
       "      <td>28910.01</td>\n",
       "      <td>15151.46</td>\n",
       "      <td>2744.64</td>\n",
       "      <td>46806.11</td>\n",
       "      <td>212536.02</td>\n",
       "      <td>2</td>\n",
       "    </tr>\n",
       "    <tr>\n",
       "      <th>2</th>\n",
       "      <td>1</td>\n",
       "      <td>H000</td>\n",
       "      <td>H010</td>\n",
       "      <td>Calendar</td>\n",
       "      <td>2013</td>\n",
       "      <td>Public Protection</td>\n",
       "      <td>FIR</td>\n",
       "      <td>FIR Fire Department</td>\n",
       "      <td>798.0</td>\n",
       "      <td>Firefighters - Miscellaneous  Local 798</td>\n",
       "      <td>...</td>\n",
       "      <td>127392.10</td>\n",
       "      <td>53433.11</td>\n",
       "      <td>21161.94</td>\n",
       "      <td>201987.16</td>\n",
       "      <td>28053.70</td>\n",
       "      <td>15788.96</td>\n",
       "      <td>3427.70</td>\n",
       "      <td>47270.36</td>\n",
       "      <td>249257.52</td>\n",
       "      <td>2</td>\n",
       "    </tr>\n",
       "    <tr>\n",
       "      <th>3</th>\n",
       "      <td>1</td>\n",
       "      <td>H000</td>\n",
       "      <td>H002</td>\n",
       "      <td>Fiscal</td>\n",
       "      <td>2016</td>\n",
       "      <td>Public Protection</td>\n",
       "      <td>FIR</td>\n",
       "      <td>FIR Fire Department</td>\n",
       "      <td>798.0</td>\n",
       "      <td>Firefighters - Miscellaneous  Local 798</td>\n",
       "      <td>...</td>\n",
       "      <td>2541.60</td>\n",
       "      <td>0.00</td>\n",
       "      <td>0.00</td>\n",
       "      <td>2541.60</td>\n",
       "      <td>460.79</td>\n",
       "      <td>448.90</td>\n",
       "      <td>197.28</td>\n",
       "      <td>1106.97</td>\n",
       "      <td>3648.57</td>\n",
       "      <td>2</td>\n",
       "    </tr>\n",
       "    <tr>\n",
       "      <th>4</th>\n",
       "      <td>1</td>\n",
       "      <td>H000</td>\n",
       "      <td>H002</td>\n",
       "      <td>Calendar</td>\n",
       "      <td>2016</td>\n",
       "      <td>Public Protection</td>\n",
       "      <td>FIR</td>\n",
       "      <td>FIR Fire Department</td>\n",
       "      <td>798.0</td>\n",
       "      <td>Firefighters - Miscellaneous  Local 798</td>\n",
       "      <td>...</td>\n",
       "      <td>37975.06</td>\n",
       "      <td>0.00</td>\n",
       "      <td>848.04</td>\n",
       "      <td>38823.10</td>\n",
       "      <td>6903.82</td>\n",
       "      <td>7148.36</td>\n",
       "      <td>2305.59</td>\n",
       "      <td>16357.77</td>\n",
       "      <td>55180.87</td>\n",
       "      <td>2</td>\n",
       "    </tr>\n",
       "  </tbody>\n",
       "</table>\n",
       "<p>5 rows × 23 columns</p>\n",
       "</div>"
      ],
      "text/plain": [
       "   organization_group_code job_family_code job_code year_type  year  \\\n",
       "0                        1            H000     H010  Calendar  2015   \n",
       "1                        1            H000     H010  Calendar  2014   \n",
       "2                        1            H000     H010  Calendar  2013   \n",
       "3                        1            H000     H002    Fiscal  2016   \n",
       "4                        1            H000     H002  Calendar  2016   \n",
       "\n",
       "  organization_group department_code           department  union_code  \\\n",
       "0  Public Protection             FIR  FIR Fire Department       798.0   \n",
       "1  Public Protection             FIR  FIR Fire Department       798.0   \n",
       "2  Public Protection             FIR  FIR Fire Department       798.0   \n",
       "3  Public Protection             FIR  FIR Fire Department       798.0   \n",
       "4  Public Protection             FIR  FIR Fire Department       798.0   \n",
       "\n",
       "                                     union  ... base_salary  overtime  \\\n",
       "0  Firefighters - Miscellaneous  Local 798  ...   122778.10      0.00   \n",
       "1  Firefighters - Miscellaneous  Local 798  ...   121525.81  27121.59   \n",
       "2  Firefighters - Miscellaneous  Local 798  ...   127392.10  53433.11   \n",
       "3  Firefighters - Miscellaneous  Local 798  ...     2541.60      0.00   \n",
       "4  Firefighters - Miscellaneous  Local 798  ...    37975.06      0.00   \n",
       "\n",
       "   irregular_cash  total_cash  retirement    health  other_benefits  \\\n",
       "0        16342.15   139120.25    27322.34  12424.50         2361.86   \n",
       "1        17082.50   165729.90    28910.01  15151.46         2744.64   \n",
       "2        21161.94   201987.16    28053.70  15788.96         3427.70   \n",
       "3            0.00     2541.60      460.79    448.90          197.28   \n",
       "4          848.04    38823.10     6903.82   7148.36         2305.59   \n",
       "\n",
       "   total_benefits  total_compensation  city_id  \n",
       "0        42108.70           181228.95        2  \n",
       "1        46806.11           212536.02        2  \n",
       "2        47270.36           249257.52        2  \n",
       "3         1106.97             3648.57        2  \n",
       "4        16357.77            55180.87        2  \n",
       "\n",
       "[5 rows x 23 columns]"
      ]
     },
     "execution_count": 19,
     "metadata": {},
     "output_type": "execute_result"
    }
   ],
   "source": [
    "table_name2 ='sf_compensation'\n",
    "pd.read_sql(f'DROP TABLE IF EXISTS {database_name}.{table_name2}', conn)\n",
    "\n",
    "\n",
    "create_table = f\"\"\"\n",
    "CREATE EXTERNAL TABLE IF NOT EXISTS {database_name}.{table_name2}(\n",
    "                organization_group_code int, \n",
    "                job_family_code string,\n",
    "                job_code string, \n",
    "                year_type string, \n",
    "                year int, \n",
    "                organization_group string, \n",
    "                department_code string, \n",
    "                department string, \n",
    "                union_code float, \n",
    "                union string, \n",
    "                job_family string, \n",
    "                job_title string, \n",
    "                employee_identifier int, \n",
    "                base_salary float, \n",
    "                overtime float, \n",
    "                irregular_cash float, \n",
    "                total_cash float, \n",
    "                retirement float,\n",
    "                health float, \n",
    "                other_benefits float, \n",
    "                total_benefits float, \n",
    "                total_compensation float,\n",
    "                city_id int\n",
    "                )\n",
    "                \n",
    "                ROW FORMAT DELIMITED\n",
    "                FIELDS TERMINATED BY ','\n",
    "                LOCATION '{data_dir}/{table_name2}'\n",
    "                TBLPROPERTIES ('skip.header.line.count'='1')\n",
    "\"\"\"\n",
    "\n",
    "pd.read_sql(create_table, conn)\n",
    "\n",
    "pd.read_sql(f'SELECT * FROM {database_name}.{table_name2} LIMIT 5', conn)"
   ]
  },
  {
   "cell_type": "code",
   "execution_count": 20,
   "id": "895e923f-244a-4599-b8c1-dbfe31ceecec",
   "metadata": {
    "tags": []
   },
   "outputs": [
    {
     "data": {
      "text/html": [
       "<div>\n",
       "<style scoped>\n",
       "    .dataframe tbody tr th:only-of-type {\n",
       "        vertical-align: middle;\n",
       "    }\n",
       "\n",
       "    .dataframe tbody tr th {\n",
       "        vertical-align: top;\n",
       "    }\n",
       "\n",
       "    .dataframe thead th {\n",
       "        text-align: right;\n",
       "    }\n",
       "</style>\n",
       "<table border=\"1\" class=\"dataframe\">\n",
       "  <thead>\n",
       "    <tr style=\"text-align: right;\">\n",
       "      <th></th>\n",
       "      <th>record_nbr</th>\n",
       "      <th>year</th>\n",
       "      <th>department_no</th>\n",
       "      <th>department</th>\n",
       "      <th>job_class_pgrade</th>\n",
       "      <th>job_title</th>\n",
       "      <th>employment_type</th>\n",
       "      <th>job_status</th>\n",
       "      <th>mou</th>\n",
       "      <th>mou_title</th>\n",
       "      <th>...</th>\n",
       "      <th>irregular_cash</th>\n",
       "      <th>total_cash</th>\n",
       "      <th>retirement</th>\n",
       "      <th>health</th>\n",
       "      <th>gender</th>\n",
       "      <th>ethnicity</th>\n",
       "      <th>city_id</th>\n",
       "      <th>total_benefits</th>\n",
       "      <th>total_compensation</th>\n",
       "      <th>other_benefits</th>\n",
       "    </tr>\n",
       "  </thead>\n",
       "  <tbody>\n",
       "    <tr>\n",
       "      <th>0</th>\n",
       "      <td>303530373633</td>\n",
       "      <td>2015</td>\n",
       "      <td>16</td>\n",
       "      <td>CITY EMPLOYEES RETIREMENT SYSTEM</td>\n",
       "      <td>None</td>\n",
       "      <td>ACCOUNTANT II</td>\n",
       "      <td>FULL_TIME</td>\n",
       "      <td>NOT_ACTIVE</td>\n",
       "      <td>01</td>\n",
       "      <td>ADMINISTRATIVE</td>\n",
       "      <td>...</td>\n",
       "      <td>1700.00</td>\n",
       "      <td>17252.00</td>\n",
       "      <td>4612.72</td>\n",
       "      <td>58.73</td>\n",
       "      <td>FEMALE</td>\n",
       "      <td>ASIAN</td>\n",
       "      <td>3.0</td>\n",
       "      <td>4671.45</td>\n",
       "      <td>21923.45</td>\n",
       "      <td>NaN</td>\n",
       "    </tr>\n",
       "    <tr>\n",
       "      <th>1</th>\n",
       "      <td>3035303737</td>\n",
       "      <td>2015</td>\n",
       "      <td>78</td>\n",
       "      <td>PUBLIC WORKS - ENGINEERING</td>\n",
       "      <td>None</td>\n",
       "      <td>SENIOR ADMINISTRATIVE CLERK</td>\n",
       "      <td>FULL_TIME</td>\n",
       "      <td>ACTIVE</td>\n",
       "      <td>03</td>\n",
       "      <td>CLERICAL</td>\n",
       "      <td>...</td>\n",
       "      <td>1304.00</td>\n",
       "      <td>65722.00</td>\n",
       "      <td>19106.38</td>\n",
       "      <td>6729.12</td>\n",
       "      <td>MALE</td>\n",
       "      <td>BLACK</td>\n",
       "      <td>3.0</td>\n",
       "      <td>25835.50</td>\n",
       "      <td>91557.50</td>\n",
       "      <td>NaN</td>\n",
       "    </tr>\n",
       "    <tr>\n",
       "      <th>2</th>\n",
       "      <td>303530373932</td>\n",
       "      <td>2015</td>\n",
       "      <td>70</td>\n",
       "      <td>POLICE</td>\n",
       "      <td>None</td>\n",
       "      <td>POLICE OFFICER II</td>\n",
       "      <td>FULL_TIME</td>\n",
       "      <td>ACTIVE</td>\n",
       "      <td>24</td>\n",
       "      <td>\"POLICE OFFICERS</td>\n",
       "      <td>...</td>\n",
       "      <td>4538.04</td>\n",
       "      <td>4021.00</td>\n",
       "      <td>92973.52</td>\n",
       "      <td>39548.18</td>\n",
       "      <td>15335.35</td>\n",
       "      <td>MALE</td>\n",
       "      <td>NaN</td>\n",
       "      <td>3.00</td>\n",
       "      <td>54883.53</td>\n",
       "      <td>147857.05</td>\n",
       "    </tr>\n",
       "    <tr>\n",
       "      <th>3</th>\n",
       "      <td>3035303832</td>\n",
       "      <td>2015</td>\n",
       "      <td>78</td>\n",
       "      <td>PUBLIC WORKS - ENGINEERING</td>\n",
       "      <td>None</td>\n",
       "      <td>SENIOR CIVIL ENGINEER</td>\n",
       "      <td>FULL_TIME</td>\n",
       "      <td>NOT_ACTIVE</td>\n",
       "      <td>17</td>\n",
       "      <td>SUPERVISORY PROFESSIONAL ENGINEERING AND SCIEN...</td>\n",
       "      <td>...</td>\n",
       "      <td>2564.34</td>\n",
       "      <td>137656.38</td>\n",
       "      <td>40050.97</td>\n",
       "      <td>16276.56</td>\n",
       "      <td>MALE</td>\n",
       "      <td>ASIAN</td>\n",
       "      <td>3.0</td>\n",
       "      <td>56327.53</td>\n",
       "      <td>193983.90</td>\n",
       "      <td>NaN</td>\n",
       "    </tr>\n",
       "    <tr>\n",
       "      <th>4</th>\n",
       "      <td>3035303833</td>\n",
       "      <td>2015</td>\n",
       "      <td>44</td>\n",
       "      <td>LIBRARY</td>\n",
       "      <td>None</td>\n",
       "      <td>LIBRARIAN II</td>\n",
       "      <td>FULL_TIME</td>\n",
       "      <td>ACTIVE</td>\n",
       "      <td>06</td>\n",
       "      <td>LIBRARIANS</td>\n",
       "      <td>...</td>\n",
       "      <td>5987.88</td>\n",
       "      <td>94611.00</td>\n",
       "      <td>26285.62</td>\n",
       "      <td>518.88</td>\n",
       "      <td>MALE</td>\n",
       "      <td>CAUCASIAN</td>\n",
       "      <td>3.0</td>\n",
       "      <td>26804.50</td>\n",
       "      <td>121415.50</td>\n",
       "      <td>NaN</td>\n",
       "    </tr>\n",
       "  </tbody>\n",
       "</table>\n",
       "<p>5 rows × 22 columns</p>\n",
       "</div>"
      ],
      "text/plain": [
       "     record_nbr  year department_no                        department  \\\n",
       "0  303530373633  2015            16  CITY EMPLOYEES RETIREMENT SYSTEM   \n",
       "1    3035303737  2015            78        PUBLIC WORKS - ENGINEERING   \n",
       "2  303530373932  2015            70                            POLICE   \n",
       "3    3035303832  2015            78        PUBLIC WORKS - ENGINEERING   \n",
       "4    3035303833  2015            44                           LIBRARY   \n",
       "\n",
       "  job_class_pgrade                    job_title employment_type  job_status  \\\n",
       "0             None                ACCOUNTANT II       FULL_TIME  NOT_ACTIVE   \n",
       "1             None  SENIOR ADMINISTRATIVE CLERK       FULL_TIME      ACTIVE   \n",
       "2             None            POLICE OFFICER II       FULL_TIME      ACTIVE   \n",
       "3             None        SENIOR CIVIL ENGINEER       FULL_TIME  NOT_ACTIVE   \n",
       "4             None                 LIBRARIAN II       FULL_TIME      ACTIVE   \n",
       "\n",
       "  mou                                          mou_title  ...  irregular_cash  \\\n",
       "0  01                                     ADMINISTRATIVE  ...         1700.00   \n",
       "1  03                                           CLERICAL  ...         1304.00   \n",
       "2  24                                   \"POLICE OFFICERS  ...         4538.04   \n",
       "3  17  SUPERVISORY PROFESSIONAL ENGINEERING AND SCIEN...  ...         2564.34   \n",
       "4  06                                         LIBRARIANS  ...         5987.88   \n",
       "\n",
       "   total_cash  retirement    health    gender  ethnicity city_id  \\\n",
       "0    17252.00     4612.72     58.73    FEMALE      ASIAN     3.0   \n",
       "1    65722.00    19106.38   6729.12      MALE      BLACK     3.0   \n",
       "2     4021.00    92973.52  39548.18  15335.35       MALE     NaN   \n",
       "3   137656.38    40050.97  16276.56      MALE      ASIAN     3.0   \n",
       "4    94611.00    26285.62    518.88      MALE  CAUCASIAN     3.0   \n",
       "\n",
       "  total_benefits  total_compensation  other_benefits  \n",
       "0        4671.45            21923.45             NaN  \n",
       "1       25835.50            91557.50             NaN  \n",
       "2           3.00            54883.53       147857.05  \n",
       "3       56327.53           193983.90             NaN  \n",
       "4       26804.50           121415.50             NaN  \n",
       "\n",
       "[5 rows x 22 columns]"
      ]
     },
     "execution_count": 20,
     "metadata": {},
     "output_type": "execute_result"
    }
   ],
   "source": [
    "table_name3 ='la_compensation'\n",
    "pd.read_sql(f'DROP TABLE IF EXISTS {database_name}.{table_name3}', conn)\n",
    "\n",
    "\n",
    "create_table = f\"\"\"\n",
    "CREATE EXTERNAL TABLE IF NOT EXISTS {database_name}.{table_name3}(\n",
    "                record_nbr string,\n",
    "                year int,\n",
    "                department_no string,\n",
    "                department string,\n",
    "                job_class_pgrade int,\n",
    "                job_title string,\n",
    "                employment_type string,\n",
    "                job_status string,\n",
    "                mou string,\n",
    "                mou_title string,\n",
    "                base_salary float,\n",
    "                overtime float,\n",
    "                irregular_cash float,\n",
    "                total_cash float,\n",
    "                retirement float,\n",
    "                health float,\n",
    "                gender string,\n",
    "                ethnicity string,\n",
    "                city_id int,\n",
    "                total_benefits float,\n",
    "                total_compensation float,\n",
    "                other_benefits float\n",
    "                )\n",
    "                \n",
    "                ROW FORMAT DELIMITED\n",
    "                FIELDS TERMINATED BY ','\n",
    "                LOCATION '{data_dir}/{table_name3}'\n",
    "                TBLPROPERTIES ('skip.header.line.count'='1')\n",
    "\"\"\"\n",
    "\n",
    "pd.read_sql(create_table, conn)\n",
    "\n",
    "pd.read_sql(f'SELECT * FROM {database_name}.{table_name3} LIMIT 5', conn)\n",
    "                "
   ]
  },
  {
   "cell_type": "code",
   "execution_count": 21,
   "id": "ea1df4c0-dcdc-4438-a03c-3ae28d190143",
   "metadata": {},
   "outputs": [],
   "source": [
    "# cursor = conn.cursor()\n",
    "# cursor.execute(f'''ALTER TABLE {database_name}.{table_name3} ADD COLUMNS (other_benefits FLOAT)''')\n",
    "# conn.commit()\n",
    "# cursor.close()\n",
    "# pd.read_sql(f'SELECT * FROM {database_name}.{table_name3} LIMIT 5', conn)"
   ]
  },
  {
   "cell_type": "code",
   "execution_count": 22,
   "id": "4161c599-b6db-4d0f-834b-28a1a7d99415",
   "metadata": {
    "tags": []
   },
   "outputs": [
    {
     "data": {
      "text/html": [
       "<div>\n",
       "<style scoped>\n",
       "    .dataframe tbody tr th:only-of-type {\n",
       "        vertical-align: middle;\n",
       "    }\n",
       "\n",
       "    .dataframe tbody tr th {\n",
       "        vertical-align: top;\n",
       "    }\n",
       "\n",
       "    .dataframe thead th {\n",
       "        text-align: right;\n",
       "    }\n",
       "</style>\n",
       "<table border=\"1\" class=\"dataframe\">\n",
       "  <thead>\n",
       "    <tr style=\"text-align: right;\">\n",
       "      <th></th>\n",
       "      <th>tab_name</th>\n",
       "    </tr>\n",
       "  </thead>\n",
       "  <tbody>\n",
       "    <tr>\n",
       "      <th>0</th>\n",
       "      <td>la_compensation</td>\n",
       "    </tr>\n",
       "    <tr>\n",
       "      <th>1</th>\n",
       "      <td>sf_compensation</td>\n",
       "    </tr>\n",
       "    <tr>\n",
       "      <th>2</th>\n",
       "      <td>sj_compensation</td>\n",
       "    </tr>\n",
       "  </tbody>\n",
       "</table>\n",
       "</div>"
      ],
      "text/plain": [
       "          tab_name\n",
       "0  la_compensation\n",
       "1  sf_compensation\n",
       "2  sj_compensation"
      ]
     },
     "execution_count": 22,
     "metadata": {},
     "output_type": "execute_result"
    }
   ],
   "source": [
    "#Check tables in the database\n",
    "df_show = pd.read_sql('SHOW TABLES IN compens', conn)\n",
    "df_show.head(5)\n"
   ]
  },
  {
   "cell_type": "code",
   "execution_count": 23,
   "id": "2101f80b-aa3e-4622-a2e5-a21e21443b62",
   "metadata": {},
   "outputs": [],
   "source": [
    "# change_table = f'''ALTER TABLE {database_name}.{table_name1} CHANGE (pay_year year int, department_title department string)'''\n",
    "# cursor.execute(change_table)\n",
    "# conn.commit()\n",
    "# # pd.read_sql(f'SELECT * FROM {database_name}.{table_name1} LIMIT 5', conn)"
   ]
  },
  {
   "cell_type": "code",
   "execution_count": 24,
   "id": "a6f7f68e-8c14-4e76-8c37-a0cdc3c50ef2",
   "metadata": {},
   "outputs": [],
   "source": [
    "# cursor = conn.cursor()\n",
    "\n",
    "# cursor.execute(f'ALTER TABLE {database_name}.{table_name1} CHANGE pay_year year int')\n",
    "# cursor.execute(f'ALTER TABLE {database_name}.{table_name1} CHANGE department_title department string')\n",
    "# cursor.execute(f'ALTER TABLE {database_name}.{table_name1} CHANGE regular_pay base_salary float')\n",
    "# cursor.execute(f'ALTER TABLE {database_name}.{table_name1} CHANGE overtime_pay overtime float')\n",
    "# cursor.execute(f'ALTER TABLE {database_name}.{table_name1} CHANGE all_other_pay irregular_cash float')\n",
    "# cursor.execute(f'ALTER TABLE {database_name}.{table_name1} CHANGE total_pay total_cash float')\n",
    "# cursor.execute(f'ALTER TABLE {database_name}.{table_name1} CHANGE city_retirement_contributions retirement float')\n",
    "# cursor.execute(f'ALTER TABLE {database_name}.{table_name1} CHANGE benefit_pay health float')\n",
    "\n",
    "# conn.commit()\n",
    "  \n",
    "# pd.read_sql(f'SELECT * FROM {database_name}.{table_name1} LIMIT 5', conn)\n",
    "   "
   ]
  },
  {
   "cell_type": "code",
   "execution_count": 25,
   "id": "1ab81aee-dab5-4377-acd8-2d80fb75833d",
   "metadata": {
    "tags": []
   },
   "outputs": [],
   "source": [
    "##merge table"
   ]
  },
  {
   "cell_type": "code",
   "execution_count": 26,
   "id": "ca5af60b-90c9-43a1-a438-82921d26f7e8",
   "metadata": {
    "tags": []
   },
   "outputs": [],
   "source": [
    "# The 3 table were merge based on the columns of interest\n",
    "df = pd.read_sql(f'SELECT year, department, job_title, base_salary, overtime, irregular_cash, \\\n",
    "total_cash, retirement, health, other_benefits, \\\n",
    "total_benefits, total_compensation, city_id \\\n",
    "FROM {database_name}.{table_name1} \\\n",
    "UNION ALL SELECT year, department, job_title, base_salary, overtime, irregular_cash, \\\n",
    "total_cash, retirement, health, other_benefits, total_benefits, total_compensation, city_id \\\n",
    "FROM {database_name}.{table_name2} \\\n",
    "UNION ALL SELECT year, department, job_title, base_salary, overtime, irregular_cash, \\\n",
    "total_cash, retirement, health, other_benefits, \\\n",
    "total_benefits, total_compensation, city_id \\\n",
    "FROM {database_name}.{table_name3}', conn)"
   ]
  },
  {
   "cell_type": "code",
   "execution_count": 27,
   "id": "ecbb29b3-4d16-4617-87f1-94721cadae4b",
   "metadata": {
    "tags": []
   },
   "outputs": [
    {
     "data": {
      "text/html": [
       "<div>\n",
       "<style scoped>\n",
       "    .dataframe tbody tr th:only-of-type {\n",
       "        vertical-align: middle;\n",
       "    }\n",
       "\n",
       "    .dataframe tbody tr th {\n",
       "        vertical-align: top;\n",
       "    }\n",
       "\n",
       "    .dataframe thead th {\n",
       "        text-align: right;\n",
       "    }\n",
       "</style>\n",
       "<table border=\"1\" class=\"dataframe\">\n",
       "  <thead>\n",
       "    <tr style=\"text-align: right;\">\n",
       "      <th></th>\n",
       "      <th>year</th>\n",
       "      <th>department</th>\n",
       "      <th>job_title</th>\n",
       "      <th>base_salary</th>\n",
       "      <th>overtime</th>\n",
       "      <th>irregular_cash</th>\n",
       "      <th>total_cash</th>\n",
       "      <th>retirement</th>\n",
       "      <th>health</th>\n",
       "      <th>other_benefits</th>\n",
       "      <th>total_benefits</th>\n",
       "      <th>total_compensation</th>\n",
       "      <th>city_id</th>\n",
       "    </tr>\n",
       "  </thead>\n",
       "  <tbody>\n",
       "    <tr>\n",
       "      <th>1625462</th>\n",
       "      <td>2015.0</td>\n",
       "      <td>AIRPORTS</td>\n",
       "      <td>CUSTODIAN - AIRPORTS</td>\n",
       "      <td>33816.39</td>\n",
       "      <td>2035.03</td>\n",
       "      <td>4383.82</td>\n",
       "      <td>40235.24</td>\n",
       "      <td>10029.94</td>\n",
       "      <td>11159.10</td>\n",
       "      <td>NaN</td>\n",
       "      <td>21189.04</td>\n",
       "      <td>61424.28</td>\n",
       "      <td>3.0</td>\n",
       "    </tr>\n",
       "    <tr>\n",
       "      <th>1625463</th>\n",
       "      <td>2015.0</td>\n",
       "      <td>AIRPORTS</td>\n",
       "      <td>PRINCIPAL CLERK</td>\n",
       "      <td>70567.23</td>\n",
       "      <td>5770.57</td>\n",
       "      <td>442.12</td>\n",
       "      <td>76779.92</td>\n",
       "      <td>20930.24</td>\n",
       "      <td>15480.48</td>\n",
       "      <td>NaN</td>\n",
       "      <td>36410.72</td>\n",
       "      <td>113190.64</td>\n",
       "      <td>3.0</td>\n",
       "    </tr>\n",
       "    <tr>\n",
       "      <th>1625464</th>\n",
       "      <td>2015.0</td>\n",
       "      <td>POLICE</td>\n",
       "      <td>POLICE OFFICER II</td>\n",
       "      <td>NaN</td>\n",
       "      <td>89357.40</td>\n",
       "      <td>984.29</td>\n",
       "      <td>4997.00</td>\n",
       "      <td>95338.69</td>\n",
       "      <td>41863.94</td>\n",
       "      <td>151712.78</td>\n",
       "      <td>3.00</td>\n",
       "      <td>56374.09</td>\n",
       "      <td>NaN</td>\n",
       "    </tr>\n",
       "    <tr>\n",
       "      <th>1625465</th>\n",
       "      <td>2015.0</td>\n",
       "      <td>PUBLIC WORKS - STREET SERVICES</td>\n",
       "      <td>STREET SERVICES WORKER I</td>\n",
       "      <td>60910.99</td>\n",
       "      <td>6190.12</td>\n",
       "      <td>3606.55</td>\n",
       "      <td>70707.66</td>\n",
       "      <td>18066.20</td>\n",
       "      <td>14561.28</td>\n",
       "      <td>NaN</td>\n",
       "      <td>32627.48</td>\n",
       "      <td>103335.14</td>\n",
       "      <td>3.0</td>\n",
       "    </tr>\n",
       "    <tr>\n",
       "      <th>1625466</th>\n",
       "      <td>2015.0</td>\n",
       "      <td>CITY EMPLOYEES RETIREMENT SYSTEM</td>\n",
       "      <td>ACCOUNTANT I</td>\n",
       "      <td>31890.40</td>\n",
       "      <td>0.00</td>\n",
       "      <td>3980.00</td>\n",
       "      <td>35870.40</td>\n",
       "      <td>9458.69</td>\n",
       "      <td>142.63</td>\n",
       "      <td>NaN</td>\n",
       "      <td>9601.32</td>\n",
       "      <td>45471.72</td>\n",
       "      <td>3.0</td>\n",
       "    </tr>\n",
       "  </tbody>\n",
       "</table>\n",
       "</div>"
      ],
      "text/plain": [
       "           year                        department                 job_title  \\\n",
       "1625462  2015.0                          AIRPORTS      CUSTODIAN - AIRPORTS   \n",
       "1625463  2015.0                          AIRPORTS           PRINCIPAL CLERK   \n",
       "1625464  2015.0                            POLICE         POLICE OFFICER II   \n",
       "1625465  2015.0    PUBLIC WORKS - STREET SERVICES  STREET SERVICES WORKER I   \n",
       "1625466  2015.0  CITY EMPLOYEES RETIREMENT SYSTEM              ACCOUNTANT I   \n",
       "\n",
       "         base_salary  overtime  irregular_cash  total_cash  retirement  \\\n",
       "1625462     33816.39   2035.03         4383.82    40235.24    10029.94   \n",
       "1625463     70567.23   5770.57          442.12    76779.92    20930.24   \n",
       "1625464          NaN  89357.40          984.29     4997.00    95338.69   \n",
       "1625465     60910.99   6190.12         3606.55    70707.66    18066.20   \n",
       "1625466     31890.40      0.00         3980.00    35870.40     9458.69   \n",
       "\n",
       "           health  other_benefits  total_benefits  total_compensation  city_id  \n",
       "1625462  11159.10             NaN        21189.04            61424.28      3.0  \n",
       "1625463  15480.48             NaN        36410.72           113190.64      3.0  \n",
       "1625464  41863.94       151712.78            3.00            56374.09      NaN  \n",
       "1625465  14561.28             NaN        32627.48           103335.14      3.0  \n",
       "1625466    142.63             NaN         9601.32            45471.72      3.0  "
      ]
     },
     "execution_count": 27,
     "metadata": {},
     "output_type": "execute_result"
    }
   ],
   "source": [
    "df.tail()"
   ]
  },
  {
   "cell_type": "code",
   "execution_count": 28,
   "id": "9437922b-e6ba-4bb0-a86a-a5bd9935e091",
   "metadata": {
    "tags": []
   },
   "outputs": [
    {
     "data": {
      "text/html": [
       "<div>\n",
       "<style scoped>\n",
       "    .dataframe tbody tr th:only-of-type {\n",
       "        vertical-align: middle;\n",
       "    }\n",
       "\n",
       "    .dataframe tbody tr th {\n",
       "        vertical-align: top;\n",
       "    }\n",
       "\n",
       "    .dataframe thead th {\n",
       "        text-align: right;\n",
       "    }\n",
       "</style>\n",
       "<table border=\"1\" class=\"dataframe\">\n",
       "  <thead>\n",
       "    <tr style=\"text-align: right;\">\n",
       "      <th></th>\n",
       "      <th>year</th>\n",
       "      <th>department</th>\n",
       "      <th>job_title</th>\n",
       "      <th>base_salary</th>\n",
       "      <th>overtime</th>\n",
       "      <th>irregular_cash</th>\n",
       "      <th>total_cash</th>\n",
       "      <th>retirement</th>\n",
       "      <th>health</th>\n",
       "      <th>other_benefits</th>\n",
       "      <th>total_benefits</th>\n",
       "      <th>total_compensation</th>\n",
       "      <th>city_id</th>\n",
       "    </tr>\n",
       "  </thead>\n",
       "  <tbody>\n",
       "  </tbody>\n",
       "</table>\n",
       "</div>"
      ],
      "text/plain": [
       "Empty DataFrame\n",
       "Columns: [year, department, job_title, base_salary, overtime, irregular_cash, total_cash, retirement, health, other_benefits, total_benefits, total_compensation, city_id]\n",
       "Index: []"
      ]
     },
     "execution_count": 28,
     "metadata": {},
     "output_type": "execute_result"
    }
   ],
   "source": [
    "df[df['department'].isna()]"
   ]
  },
  {
   "cell_type": "code",
   "execution_count": 29,
   "id": "febd48de-76be-404c-9097-b1a513634f95",
   "metadata": {},
   "outputs": [],
   "source": [
    "df['department'] = df['department'].fillna('Police')"
   ]
  },
  {
   "cell_type": "code",
   "execution_count": 30,
   "id": "9d9e258a-43a6-42ce-af01-6674b986a676",
   "metadata": {},
   "outputs": [
    {
     "data": {
      "text/plain": [
       "552"
      ]
     },
     "execution_count": 30,
     "metadata": {},
     "output_type": "execute_result"
    }
   ],
   "source": [
    "num_unique_strings = df['department'].nunique()\n",
    "num_unique_strings"
   ]
  },
  {
   "cell_type": "code",
   "execution_count": 31,
   "id": "afd89ac3-8c36-4e56-97f8-7cdf2f57d56e",
   "metadata": {
    "tags": []
   },
   "outputs": [],
   "source": [
    "#df.to_csv('df1.csv', index=False)"
   ]
  },
  {
   "cell_type": "code",
   "execution_count": 32,
   "id": "a523f072-558f-4074-b768-ce81ee01c6d2",
   "metadata": {
    "tags": []
   },
   "outputs": [],
   "source": [
    "def replace_text(text):\n",
    "    if pd.isna(text) or text is None:\n",
    "        return text\n",
    "    elif target_word.lower() in text.lower():\n",
    "        return new_word\n",
    "    else:\n",
    "        return text"
   ]
  },
  {
   "cell_type": "code",
   "execution_count": 33,
   "id": "0c2c30ed-b60e-40cf-9463-61c14bbe30e8",
   "metadata": {
    "tags": []
   },
   "outputs": [],
   "source": [
    "# use the apply method to apply the replace_text function to the text_column"
   ]
  },
  {
   "cell_type": "code",
   "execution_count": 34,
   "id": "4214c7dd-e6d8-47bf-b5ab-582f26ce52c8",
   "metadata": {
    "tags": []
   },
   "outputs": [
    {
     "data": {
      "text/plain": [
       "478"
      ]
     },
     "execution_count": 34,
     "metadata": {},
     "output_type": "execute_result"
    }
   ],
   "source": [
    "target_word= \"Police\"\n",
    "new_word= \"Police\"\n",
    "df['department'] = df['department'].apply(replace_text)\n",
    "num_unique_strings = df['department'].nunique()\n",
    "num_unique_strings"
   ]
  },
  {
   "cell_type": "code",
   "execution_count": 35,
   "id": "ad995245-0a6a-4788-96dc-c696754b115b",
   "metadata": {
    "tags": []
   },
   "outputs": [
    {
     "data": {
      "text/plain": [
       "475"
      ]
     },
     "execution_count": 35,
     "metadata": {},
     "output_type": "execute_result"
    }
   ],
   "source": [
    "target_word= \"Sheriff\"\n",
    "new_word= \"Police\"\n",
    "df['department'] = df['department'].apply(replace_text)\n",
    "num_unique_strings = df['department'].nunique()\n",
    "num_unique_strings"
   ]
  },
  {
   "cell_type": "code",
   "execution_count": 36,
   "id": "3fc37a52-6918-4342-aafc-79697c4bb512",
   "metadata": {
    "tags": []
   },
   "outputs": [
    {
     "data": {
      "text/plain": [
       "474"
      ]
     },
     "execution_count": 36,
     "metadata": {},
     "output_type": "execute_result"
    }
   ],
   "source": [
    "target_word= \"Vcet\"\n",
    "new_word= \"Police\"\n",
    "df['department'] = df['department'].apply(replace_text)\n",
    "num_unique_strings = df['department'].nunique()\n",
    "num_unique_strings"
   ]
  },
  {
   "cell_type": "code",
   "execution_count": 37,
   "id": "20abbefa-c51f-469c-bba9-e78c9064474a",
   "metadata": {
    "tags": []
   },
   "outputs": [
    {
     "data": {
      "text/plain": [
       "433"
      ]
     },
     "execution_count": 37,
     "metadata": {},
     "output_type": "execute_result"
    }
   ],
   "source": [
    "target_word= \"Fire\"\n",
    "new_word= \"Emergency Manangement\"\n",
    "df['department'] = df['department'].apply(replace_text)\n",
    "num_unique_strings = df['department'].nunique()\n",
    "num_unique_strings"
   ]
  },
  {
   "cell_type": "code",
   "execution_count": 38,
   "id": "8fecfaff-d591-452d-937b-6d91f6483260",
   "metadata": {
    "tags": []
   },
   "outputs": [
    {
     "data": {
      "text/plain": [
       "428"
      ]
     },
     "execution_count": 38,
     "metadata": {},
     "output_type": "execute_result"
    }
   ],
   "source": [
    "target_word= \"Emergency\"\n",
    "new_word= \"Emergency Manangement\"\n",
    "df['department'] = df['department'].apply(replace_text)\n",
    "num_unique_strings = df['department'].nunique()\n",
    "num_unique_strings"
   ]
  },
  {
   "cell_type": "code",
   "execution_count": 39,
   "id": "b8d8fa3b-5734-4b10-978d-3340b8589f43",
   "metadata": {
    "tags": []
   },
   "outputs": [
    {
     "data": {
      "text/plain": [
       "384"
      ]
     },
     "execution_count": 39,
     "metadata": {},
     "output_type": "execute_result"
    }
   ],
   "source": [
    "target_word= \"PW\"\n",
    "new_word= \"Public works and Planning\"\n",
    "df['department'] = df['department'].apply(replace_text)\n",
    "num_unique_strings = df['department'].nunique()\n",
    "num_unique_strings"
   ]
  },
  {
   "cell_type": "code",
   "execution_count": 40,
   "id": "74b521ab-4aaf-41f5-a778-de6e3734733e",
   "metadata": {
    "tags": []
   },
   "outputs": [
    {
     "data": {
      "text/plain": [
       "367"
      ]
     },
     "execution_count": 40,
     "metadata": {},
     "output_type": "execute_result"
    }
   ],
   "source": [
    "target_word= \"Public\"\n",
    "new_word= \"Public works and Planning\"\n",
    "df['department'] = df['department'].apply(replace_text)\n",
    "num_unique_strings = df['department'].nunique()\n",
    "num_unique_strings"
   ]
  },
  {
   "cell_type": "code",
   "execution_count": 41,
   "id": "faeb2d68-e294-4e39-98c4-869d8a01fc0f",
   "metadata": {
    "tags": []
   },
   "outputs": [
    {
     "data": {
      "text/plain": [
       "360"
      ]
     },
     "execution_count": 41,
     "metadata": {},
     "output_type": "execute_result"
    }
   ],
   "source": [
    "target_word= \"Water\"\n",
    "new_word= \"Public works and Planning\"\n",
    "df['department'] = df['department'].apply(replace_text)\n",
    "num_unique_strings = df['department'].nunique()\n",
    "num_unique_strings"
   ]
  },
  {
   "cell_type": "code",
   "execution_count": 42,
   "id": "f74bcc19-ba52-4667-a309-780e17d72999",
   "metadata": {
    "tags": []
   },
   "outputs": [
    {
     "data": {
      "text/plain": [
       "322"
      ]
     },
     "execution_count": 42,
     "metadata": {},
     "output_type": "execute_result"
    }
   ],
   "source": [
    "target_word= \"DOT\"\n",
    "new_word= \"Public works and Planning\"\n",
    "df['department'] = df['department'].apply(replace_text)\n",
    "num_unique_strings = df['department'].nunique()\n",
    "num_unique_strings"
   ]
  },
  {
   "cell_type": "code",
   "execution_count": 43,
   "id": "758e2dee-45f2-44a2-b2b9-5e1f26be5387",
   "metadata": {
    "tags": []
   },
   "outputs": [
    {
     "data": {
      "text/plain": [
       "319"
      ]
     },
     "execution_count": 43,
     "metadata": {},
     "output_type": "execute_result"
    }
   ],
   "source": [
    "target_word= \"transport\"\n",
    "new_word= \"Public works and Planning\"\n",
    "df['department'] = df['department'].apply(replace_text)\n",
    "num_unique_strings = df['department'].nunique()\n",
    "num_unique_strings"
   ]
  },
  {
   "cell_type": "code",
   "execution_count": 44,
   "id": "7212e09b-688d-43fa-a635-baf8eb76dc30",
   "metadata": {
    "tags": []
   },
   "outputs": [
    {
     "data": {
      "text/plain": [
       "310"
      ]
     },
     "execution_count": 44,
     "metadata": {},
     "output_type": "execute_result"
    }
   ],
   "source": [
    "target_word= \"Plan\"\n",
    "new_word= \"Public works and Planning\"\n",
    "df['department'] = df['department'].apply(replace_text)\n",
    "num_unique_strings = df['department'].nunique()\n",
    "num_unique_strings"
   ]
  },
  {
   "cell_type": "code",
   "execution_count": 45,
   "id": "e9e057b9-8e66-4ee1-9d44-1f8fb3722fa4",
   "metadata": {
    "tags": []
   },
   "outputs": [
    {
     "data": {
      "text/plain": [
       "307"
      ]
     },
     "execution_count": 45,
     "metadata": {},
     "output_type": "execute_result"
    }
   ],
   "source": [
    "target_word= \"Building\"\n",
    "new_word= \"Public works and Planning\"\n",
    "df['department'] = df['department'].apply(replace_text)\n",
    "num_unique_strings = df['department'].nunique()\n",
    "num_unique_strings"
   ]
  },
  {
   "cell_type": "code",
   "execution_count": 46,
   "id": "88269b86-edf9-4313-b3e3-edae378b3fed",
   "metadata": {
    "tags": []
   },
   "outputs": [
    {
     "data": {
      "text/plain": [
       "294"
      ]
     },
     "execution_count": 46,
     "metadata": {},
     "output_type": "execute_result"
    }
   ],
   "source": [
    "target_word= \"District\"\n",
    "new_word= \"Public works and Planning\"\n",
    "df['department'] = df['department'].apply(replace_text)\n",
    "num_unique_strings = df['department'].nunique()\n",
    "num_unique_strings"
   ]
  },
  {
   "cell_type": "code",
   "execution_count": 47,
   "id": "6a004896-700e-4a2a-bd47-de2ec391fd04",
   "metadata": {
    "tags": []
   },
   "outputs": [
    {
     "data": {
      "text/plain": [
       "248"
      ]
     },
     "execution_count": 47,
     "metadata": {},
     "output_type": "execute_result"
    }
   ],
   "source": [
    "target_word= \"PRNS\"\n",
    "new_word= \"Public works and Planning\"\n",
    "df['department'] = df['department'].apply(replace_text)\n",
    "num_unique_strings = df['department'].nunique()\n",
    "num_unique_strings"
   ]
  },
  {
   "cell_type": "code",
   "execution_count": 48,
   "id": "2aabf84e-c7ea-47cb-a7a7-31ee1ab62d93",
   "metadata": {
    "tags": []
   },
   "outputs": [
    {
     "data": {
      "text/plain": [
       "245"
      ]
     },
     "execution_count": 48,
     "metadata": {},
     "output_type": "execute_result"
    }
   ],
   "source": [
    "target_word= \"Recre\"\n",
    "new_word= \"Public works and Planning\"\n",
    "df['department'] = df['department'].apply(replace_text)\n",
    "num_unique_strings = df['department'].nunique()\n",
    "num_unique_strings"
   ]
  },
  {
   "cell_type": "code",
   "execution_count": 49,
   "id": "397e4efe-7da4-487a-bf4c-326f43ed9c1a",
   "metadata": {
    "tags": []
   },
   "outputs": [
    {
     "data": {
      "text/plain": [
       "244"
      ]
     },
     "execution_count": 49,
     "metadata": {},
     "output_type": "execute_result"
    }
   ],
   "source": [
    "target_word= \"zoo\"\n",
    "new_word= \"Public works and Planning\"\n",
    "df['department'] = df['department'].apply(replace_text)\n",
    "num_unique_strings = df['department'].nunique()\n",
    "num_unique_strings"
   ]
  },
  {
   "cell_type": "code",
   "execution_count": 50,
   "id": "ec0df868-ddd1-44d6-9d26-ed2fa4057df1",
   "metadata": {
    "tags": []
   },
   "outputs": [
    {
     "data": {
      "text/plain": [
       "243"
      ]
     },
     "execution_count": 50,
     "metadata": {},
     "output_type": "execute_result"
    }
   ],
   "source": [
    "target_word= \"Parks\"\n",
    "new_word= \"Public works and Planning\"\n",
    "df['department'] = df['department'].apply(replace_text)\n",
    "num_unique_strings = df['department'].nunique()\n",
    "num_unique_strings"
   ]
  },
  {
   "cell_type": "code",
   "execution_count": 51,
   "id": "ca84ec84-3cae-4293-b041-70c99b84743f",
   "metadata": {
    "tags": []
   },
   "outputs": [
    {
     "data": {
      "text/plain": [
       "242"
      ]
     },
     "execution_count": 51,
     "metadata": {},
     "output_type": "execute_result"
    }
   ],
   "source": [
    "target_word= \"Arena\"\n",
    "new_word= \"Public works and Planning\"\n",
    "df['department'] = df['department'].apply(replace_text)\n",
    "num_unique_strings = df['department'].nunique()\n",
    "num_unique_strings"
   ]
  },
  {
   "cell_type": "code",
   "execution_count": 52,
   "id": "256bdd76-094b-464e-b53c-3f277f5d958e",
   "metadata": {
    "tags": []
   },
   "outputs": [
    {
     "data": {
      "text/plain": [
       "228"
      ]
     },
     "execution_count": 52,
     "metadata": {},
     "output_type": "execute_result"
    }
   ],
   "source": [
    "target_word= \"City\"\n",
    "new_word= \"City Management and Council\"\n",
    "df['department'] = df['department'].apply(replace_text)\n",
    "num_unique_strings = df['department'].nunique()\n",
    "num_unique_strings"
   ]
  },
  {
   "cell_type": "code",
   "execution_count": 53,
   "id": "bf34ed6e-16f5-4585-8f41-f13109a4a0ec",
   "metadata": {
    "tags": []
   },
   "outputs": [
    {
     "data": {
      "text/plain": [
       "227"
      ]
     },
     "execution_count": 53,
     "metadata": {},
     "output_type": "execute_result"
    }
   ],
   "source": [
    "target_word= \"Convention\"\n",
    "new_word= \"City Management and Council\"\n",
    "df['department'] = df['department'].apply(replace_text)\n",
    "num_unique_strings = df['department'].nunique()\n",
    "num_unique_strings"
   ]
  },
  {
   "cell_type": "code",
   "execution_count": 54,
   "id": "81aa7c9d-883f-4e3f-aff9-2160398c828c",
   "metadata": {
    "tags": []
   },
   "outputs": [
    {
     "data": {
      "text/plain": [
       "226"
      ]
     },
     "execution_count": 54,
     "metadata": {},
     "output_type": "execute_result"
    }
   ],
   "source": [
    "target_word= \"Neighbor\"\n",
    "new_word= \"City Management and Council\"\n",
    "df['department'] = df['department'].apply(replace_text)\n",
    "num_unique_strings = df['department'].nunique()\n",
    "num_unique_strings"
   ]
  },
  {
   "cell_type": "code",
   "execution_count": 55,
   "id": "feffe983-c25c-41fc-878b-f29b3d028dea",
   "metadata": {
    "tags": []
   },
   "outputs": [
    {
     "data": {
      "text/plain": [
       "225"
      ]
     },
     "execution_count": 55,
     "metadata": {},
     "output_type": "execute_result"
    }
   ],
   "source": [
    "target_word= \"Election\"\n",
    "new_word= \"City Management and Council\"\n",
    "df['department'] = df['department'].apply(replace_text)\n",
    "num_unique_strings = df['department'].nunique()\n",
    "num_unique_strings"
   ]
  },
  {
   "cell_type": "code",
   "execution_count": 56,
   "id": "39d8ee5e-ada3-43a8-934c-dc68fb09321f",
   "metadata": {
    "tags": []
   },
   "outputs": [
    {
     "data": {
      "text/plain": [
       "223"
      ]
     },
     "execution_count": 56,
     "metadata": {},
     "output_type": "execute_result"
    }
   ],
   "source": [
    "target_word= \"Council\"\n",
    "new_word= \"City Management and Council\"\n",
    "df['department'] = df['department'].apply(replace_text)\n",
    "num_unique_strings = df['department'].nunique()\n",
    "num_unique_strings"
   ]
  },
  {
   "cell_type": "code",
   "execution_count": 57,
   "id": "02743781-d340-45f9-9e9b-03ef64009278",
   "metadata": {
    "tags": []
   },
   "outputs": [
    {
     "data": {
      "text/plain": [
       "222"
      ]
     },
     "execution_count": 57,
     "metadata": {},
     "output_type": "execute_result"
    }
   ],
   "source": [
    "target_word= \"CII\"\n",
    "new_word= \"City Management and Council\"\n",
    "df['department'] = df['department'].apply(replace_text)\n",
    "num_unique_strings = df['department'].nunique()\n",
    "num_unique_strings"
   ]
  },
  {
   "cell_type": "code",
   "execution_count": 58,
   "id": "e9bbb255-a141-4dca-9fb2-e233d949604c",
   "metadata": {
    "tags": []
   },
   "outputs": [
    {
     "data": {
      "text/plain": [
       "220"
      ]
     },
     "execution_count": 58,
     "metadata": {},
     "output_type": "execute_result"
    }
   ],
   "source": [
    "target_word= \"Clerk\"\n",
    "new_word= \"City Management and Council\"\n",
    "df['department'] = df['department'].apply(replace_text)\n",
    "num_unique_strings = df['department'].nunique()\n",
    "num_unique_strings"
   ]
  },
  {
   "cell_type": "code",
   "execution_count": 59,
   "id": "e085bd7c-2e79-41aa-93d9-e836ce74c575",
   "metadata": {
    "tags": []
   },
   "outputs": [
    {
     "data": {
      "text/plain": [
       "219"
      ]
     },
     "execution_count": 59,
     "metadata": {},
     "output_type": "execute_result"
    }
   ],
   "source": [
    "target_word= \"Registrar\"\n",
    "new_word= \"City Management and Council\"\n",
    "df['department'] = df['department'].apply(replace_text)\n",
    "num_unique_strings = df['department'].nunique()\n",
    "num_unique_strings"
   ]
  },
  {
   "cell_type": "code",
   "execution_count": 60,
   "id": "8750c0f5-b1ed-4bf3-b409-8edff6c0297c",
   "metadata": {
    "tags": []
   },
   "outputs": [
    {
     "data": {
      "text/plain": [
       "215"
      ]
     },
     "execution_count": 60,
     "metadata": {},
     "output_type": "execute_result"
    }
   ],
   "source": [
    "target_word= \"Housing\"\n",
    "new_word= \"City Management and Council\"\n",
    "df['department'] = df['department'].apply(replace_text)\n",
    "num_unique_strings = df['department'].nunique()\n",
    "num_unique_strings"
   ]
  },
  {
   "cell_type": "code",
   "execution_count": 61,
   "id": "3c7cc904-b15d-40b5-b095-2a31e238ee77",
   "metadata": {
    "tags": []
   },
   "outputs": [
    {
     "data": {
      "text/plain": [
       "211"
      ]
     },
     "execution_count": 61,
     "metadata": {},
     "output_type": "execute_result"
    }
   ],
   "source": [
    "target_word= \"Mayor\"\n",
    "new_word= \"City Management and Council\"\n",
    "df['department'] = df['department'].apply(replace_text)\n",
    "num_unique_strings = df['department'].nunique()\n",
    "num_unique_strings"
   ]
  },
  {
   "cell_type": "code",
   "execution_count": 62,
   "id": "c4473bee-7e03-43bf-8669-635ab99c5c16",
   "metadata": {
    "tags": []
   },
   "outputs": [
    {
     "data": {
      "text/plain": [
       "210"
      ]
     },
     "execution_count": 62,
     "metadata": {},
     "output_type": "execute_result"
    }
   ],
   "source": [
    "target_word= \"rda\"\n",
    "new_word= \"City Management and Council\"\n",
    "df['department'] = df['department'].apply(replace_text)\n",
    "num_unique_strings = df['department'].nunique()\n",
    "num_unique_strings"
   ]
  },
  {
   "cell_type": "code",
   "execution_count": 63,
   "id": "cdc67bc6-006e-498a-bfa7-37b23865bf21",
   "metadata": {
    "tags": []
   },
   "outputs": [
    {
     "data": {
      "text/plain": [
       "190"
      ]
     },
     "execution_count": 63,
     "metadata": {},
     "output_type": "execute_result"
    }
   ],
   "source": [
    "target_word= \"ESD\"\n",
    "new_word= \"Employment\"\n",
    "df['department'] = df['department'].apply(replace_text)\n",
    "num_unique_strings = df['department'].nunique()\n",
    "num_unique_strings"
   ]
  },
  {
   "cell_type": "code",
   "execution_count": 64,
   "id": "7d6bdec4-78ed-4242-8b83-bcd18a8045e8",
   "metadata": {
    "tags": []
   },
   "outputs": [
    {
     "data": {
      "text/plain": [
       "188"
      ]
     },
     "execution_count": 64,
     "metadata": {},
     "output_type": "execute_result"
    }
   ],
   "source": [
    "target_word= \"Employee\"\n",
    "new_word= \"Employment\"\n",
    "df['department'] = df['department'].apply(replace_text)\n",
    "num_unique_strings = df['department'].nunique()\n",
    "num_unique_strings"
   ]
  },
  {
   "cell_type": "code",
   "execution_count": 65,
   "id": "703b4125-043a-4e73-ae3a-e4aaae88f0d4",
   "metadata": {
    "tags": []
   },
   "outputs": [
    {
     "data": {
      "text/plain": [
       "178"
      ]
     },
     "execution_count": 65,
     "metadata": {},
     "output_type": "execute_result"
    }
   ],
   "source": [
    "target_word= \"Airport\"\n",
    "new_word= \"Airport\"\n",
    "df['department'] = df['department'].apply(replace_text)\n",
    "num_unique_strings = df['department'].nunique()\n",
    "num_unique_strings"
   ]
  },
  {
   "cell_type": "code",
   "execution_count": 66,
   "id": "4bc3b77c-c499-46ac-b1da-557e0f840cb8",
   "metadata": {
    "tags": []
   },
   "outputs": [
    {
     "data": {
      "text/plain": [
       "177"
      ]
     },
     "execution_count": 66,
     "metadata": {},
     "output_type": "execute_result"
    }
   ],
   "source": [
    "target_word= \"Airside\"\n",
    "new_word= \"Airport\"\n",
    "df['department'] = df['department'].apply(replace_text)\n",
    "num_unique_strings = df['department'].nunique()\n",
    "num_unique_strings"
   ]
  },
  {
   "cell_type": "code",
   "execution_count": 67,
   "id": "5d6927e5-7f5d-4b31-914e-faa905ee9779",
   "metadata": {
    "tags": []
   },
   "outputs": [
    {
     "data": {
      "text/plain": [
       "170"
      ]
     },
     "execution_count": 67,
     "metadata": {},
     "output_type": "execute_result"
    }
   ],
   "source": [
    "target_word= \"Econ\"\n",
    "new_word= \"Economic Development\"\n",
    "df['department'] = df['department'].apply(replace_text)\n",
    "num_unique_strings = df['department'].nunique()\n",
    "num_unique_strings"
   ]
  },
  {
   "cell_type": "code",
   "execution_count": 68,
   "id": "58463d8e-084f-4f43-8cbf-56a67f3b1611",
   "metadata": {
    "tags": []
   },
   "outputs": [
    {
     "data": {
      "text/plain": [
       "164"
      ]
     },
     "execution_count": 68,
     "metadata": {},
     "output_type": "execute_result"
    }
   ],
   "source": [
    "target_word= \"Finance\"\n",
    "new_word= \"Finance\"\n",
    "df['department'] = df['department'].apply(replace_text)\n",
    "num_unique_strings = df['department'].nunique()\n",
    "num_unique_strings"
   ]
  },
  {
   "cell_type": "code",
   "execution_count": 69,
   "id": "2ea1a620-9bb4-45a2-a2bc-3ac08191916b",
   "metadata": {
    "tags": []
   },
   "outputs": [
    {
     "data": {
      "text/plain": [
       "162"
      ]
     },
     "execution_count": 69,
     "metadata": {},
     "output_type": "execute_result"
    }
   ],
   "source": [
    "target_word= \"Auditor\"\n",
    "new_word= \"Finance\"\n",
    "df['department'] = df['department'].apply(replace_text)\n",
    "num_unique_strings = df['department'].nunique()\n",
    "num_unique_strings"
   ]
  },
  {
   "cell_type": "code",
   "execution_count": 70,
   "id": "8f09fb95-9720-48b9-ba51-0c5cd72fabf1",
   "metadata": {
    "tags": []
   },
   "outputs": [
    {
     "data": {
      "text/plain": [
       "160"
      ]
     },
     "execution_count": 70,
     "metadata": {},
     "output_type": "execute_result"
    }
   ],
   "source": [
    "target_word= \"Assessor\"\n",
    "new_word= \"Finance\"\n",
    "df['department'] = df['department'].apply(replace_text)\n",
    "num_unique_strings = df['department'].nunique()\n",
    "num_unique_strings"
   ]
  },
  {
   "cell_type": "code",
   "execution_count": 71,
   "id": "6e0cbc17-c169-4610-9d67-f74e9d771439",
   "metadata": {
    "tags": []
   },
   "outputs": [
    {
     "data": {
      "text/plain": [
       "157"
      ]
     },
     "execution_count": 71,
     "metadata": {},
     "output_type": "execute_result"
    }
   ],
   "source": [
    "target_word= \"Controller\"\n",
    "new_word= \"Finance\"\n",
    "df['department'] = df['department'].apply(replace_text)\n",
    "num_unique_strings = df['department'].nunique()\n",
    "num_unique_strings"
   ]
  },
  {
   "cell_type": "code",
   "execution_count": 72,
   "id": "719e9e5d-cda7-4aa1-a585-7ebda1d73af2",
   "metadata": {
    "tags": []
   },
   "outputs": [
    {
     "data": {
      "text/plain": [
       "155"
      ]
     },
     "execution_count": 72,
     "metadata": {},
     "output_type": "execute_result"
    }
   ],
   "source": [
    "target_word= \"Tax\"\n",
    "new_word= \"Finance\"\n",
    "df['department'] = df['department'].apply(replace_text)\n",
    "num_unique_strings = df['department'].nunique()\n",
    "num_unique_strings"
   ]
  },
  {
   "cell_type": "code",
   "execution_count": 73,
   "id": "be9e9ae3-04a1-45fd-ba48-2db53bd064fa",
   "metadata": {
    "tags": []
   },
   "outputs": [
    {
     "data": {
      "text/plain": [
       "149"
      ]
     },
     "execution_count": 73,
     "metadata": {},
     "output_type": "execute_result"
    }
   ],
   "source": [
    "target_word= \"Board\"\n",
    "new_word= \"Law and regulation\"\n",
    "df['department'] = df['department'].apply(replace_text)\n",
    "num_unique_strings = df['department'].nunique()\n",
    "num_unique_strings"
   ]
  },
  {
   "cell_type": "code",
   "execution_count": 74,
   "id": "c2651935-ced3-4cfc-8a74-69c591d9d8b7",
   "metadata": {
    "tags": []
   },
   "outputs": [
    {
     "data": {
      "text/plain": [
       "146"
      ]
     },
     "execution_count": 74,
     "metadata": {},
     "output_type": "execute_result"
    }
   ],
   "source": [
    "target_word= \"Attorney\"\n",
    "new_word= \"Law and regulation\"\n",
    "df['department'] = df['department'].apply(replace_text)\n",
    "num_unique_strings = df['department'].nunique()\n",
    "num_unique_strings"
   ]
  },
  {
   "cell_type": "code",
   "execution_count": 75,
   "id": "8cf4fa89-1424-479e-957a-9468e502e912",
   "metadata": {
    "tags": []
   },
   "outputs": [
    {
     "data": {
      "text/plain": [
       "143"
      ]
     },
     "execution_count": 75,
     "metadata": {},
     "output_type": "execute_result"
    }
   ],
   "source": [
    "target_word= \"Court\"\n",
    "new_word= \"Law and regulation\"\n",
    "df['department'] = df['department'].apply(replace_text)\n",
    "num_unique_strings = df['department'].nunique()\n",
    "num_unique_strings"
   ]
  },
  {
   "cell_type": "code",
   "execution_count": 76,
   "id": "18d264c1-74e5-4ec7-ab54-b30420431060",
   "metadata": {
    "tags": []
   },
   "outputs": [
    {
     "data": {
      "text/plain": [
       "141"
      ]
     },
     "execution_count": 76,
     "metadata": {},
     "output_type": "execute_result"
    }
   ],
   "source": [
    "target_word= \"Ethics\"\n",
    "new_word= \"Law and regulation\"\n",
    "df['department'] = df['department'].apply(replace_text)\n",
    "num_unique_strings = df['department'].nunique()\n",
    "num_unique_strings"
   ]
  },
  {
   "cell_type": "code",
   "execution_count": 77,
   "id": "da2a7c1d-e004-4e3d-9a51-651b8b0639c6",
   "metadata": {
    "tags": []
   },
   "outputs": [
    {
     "data": {
      "text/plain": [
       "138"
      ]
     },
     "execution_count": 77,
     "metadata": {},
     "output_type": "execute_result"
    }
   ],
   "source": [
    "target_word= \"probation\"\n",
    "new_word= \"Law and regulation\"\n",
    "df['department'] = df['department'].apply(replace_text)\n",
    "num_unique_strings = df['department'].nunique()\n",
    "num_unique_strings"
   ]
  },
  {
   "cell_type": "code",
   "execution_count": 78,
   "id": "9ca1cbab-817c-4d5b-94db-2cf664f7019c",
   "metadata": {
    "tags": []
   },
   "outputs": [
    {
     "data": {
      "text/plain": [
       "137"
      ]
     },
     "execution_count": 78,
     "metadata": {},
     "output_type": "execute_result"
    }
   ],
   "source": [
    "target_word= \"regulation\"\n",
    "new_word= \"Law and regulation\"\n",
    "df['department'] = df['department'].apply(replace_text)\n",
    "num_unique_strings = df['department'].nunique()\n",
    "num_unique_strings"
   ]
  },
  {
   "cell_type": "code",
   "execution_count": 79,
   "id": "b3f2f0c1-abf0-4fcb-9960-3e57031f21c3",
   "metadata": {
    "tags": []
   },
   "outputs": [
    {
     "data": {
      "text/plain": [
       "135"
      ]
     },
     "execution_count": 79,
     "metadata": {},
     "output_type": "execute_result"
    }
   ],
   "source": [
    "target_word= \"Prt\"\n",
    "new_word= \"Port\"\n",
    "df['department'] = df['department'].apply(replace_text)\n",
    "num_unique_strings = df['department'].nunique()\n",
    "num_unique_strings"
   ]
  },
  {
   "cell_type": "code",
   "execution_count": 80,
   "id": "937c352c-87b5-471b-9373-7a43974755b2",
   "metadata": {
    "tags": []
   },
   "outputs": [
    {
     "data": {
      "text/plain": [
       "134"
      ]
     },
     "execution_count": 80,
     "metadata": {},
     "output_type": "execute_result"
    }
   ],
   "source": [
    "target_word= \"Harbor\"\n",
    "new_word= \"Port\"\n",
    "df['department'] = df['department'].apply(replace_text)\n",
    "num_unique_strings = df['department'].nunique()\n",
    "num_unique_strings"
   ]
  },
  {
   "cell_type": "code",
   "execution_count": 81,
   "id": "5cba754c-403d-432e-bcd7-9436a88ac89a",
   "metadata": {
    "tags": []
   },
   "outputs": [
    {
     "data": {
      "text/plain": [
       "126"
      ]
     },
     "execution_count": 81,
     "metadata": {},
     "output_type": "execute_result"
    }
   ],
   "source": [
    "target_word= \"Human\"\n",
    "new_word= \"Human Services\"\n",
    "df['department'] = df['department'].apply(replace_text)\n",
    "num_unique_strings = df['department'].nunique()\n",
    "num_unique_strings"
   ]
  },
  {
   "cell_type": "code",
   "execution_count": 82,
   "id": "a7986307-54e1-4b4c-84a4-fb8106882432",
   "metadata": {
    "tags": []
   },
   "outputs": [
    {
     "data": {
      "text/plain": [
       "124"
      ]
     },
     "execution_count": 82,
     "metadata": {},
     "output_type": "execute_result"
    }
   ],
   "source": [
    "target_word= \"Retire\"\n",
    "new_word= \"Human Services\"\n",
    "df['department'] = df['department'].apply(replace_text)\n",
    "num_unique_strings = df['department'].nunique()\n",
    "num_unique_strings"
   ]
  },
  {
   "cell_type": "code",
   "execution_count": 83,
   "id": "ab47c4d0-c855-4f29-801c-fbd97d65ebb9",
   "metadata": {
    "tags": []
   },
   "outputs": [
    {
     "data": {
      "text/plain": [
       "117"
      ]
     },
     "execution_count": 83,
     "metadata": {},
     "output_type": "execute_result"
    }
   ],
   "source": [
    "target_word= \"Child\"\n",
    "new_word= \"Human Services\"\n",
    "df['department'] = df['department'].apply(replace_text)\n",
    "num_unique_strings = df['department'].nunique()\n",
    "num_unique_strings"
   ]
  },
  {
   "cell_type": "code",
   "execution_count": 84,
   "id": "458eba2e-a6f7-4e8e-9e4a-2253428df75d",
   "metadata": {
    "tags": []
   },
   "outputs": [
    {
     "data": {
      "text/plain": [
       "105"
      ]
     },
     "execution_count": 84,
     "metadata": {},
     "output_type": "execute_result"
    }
   ],
   "source": [
    "target_word= \"Service\"\n",
    "new_word= \"Human Services\"\n",
    "df['department'] = df['department'].apply(replace_text)\n",
    "num_unique_strings = df['department'].nunique()\n",
    "num_unique_strings"
   ]
  },
  {
   "cell_type": "code",
   "execution_count": 85,
   "id": "7e9d9bec-e5ee-4148-ad09-5c80fe55ff3b",
   "metadata": {
    "tags": []
   },
   "outputs": [
    {
     "data": {
      "text/plain": [
       "104"
      ]
     },
     "execution_count": 85,
     "metadata": {},
     "output_type": "execute_result"
    }
   ],
   "source": [
    "target_word= \"Personnel\"\n",
    "new_word= \"Human Services\"\n",
    "df['department'] = df['department'].apply(replace_text)\n",
    "num_unique_strings = df['department'].nunique()\n",
    "num_unique_strings"
   ]
  },
  {
   "cell_type": "code",
   "execution_count": 86,
   "id": "3feefa8e-fb52-4d98-8dcb-dfaa806d67ff",
   "metadata": {
    "tags": []
   },
   "outputs": [
    {
     "data": {
      "text/plain": [
       "103"
      ]
     },
     "execution_count": 86,
     "metadata": {},
     "output_type": "execute_result"
    }
   ],
   "source": [
    "target_word= \"Aging\"\n",
    "new_word= \"Human Services\"\n",
    "df['department'] = df['department'].apply(replace_text)\n",
    "num_unique_strings = df['department'].nunique()\n",
    "num_unique_strings"
   ]
  },
  {
   "cell_type": "code",
   "execution_count": 87,
   "id": "b2df1115-ba1b-4959-b0e3-bf35c5773e66",
   "metadata": {
    "tags": []
   },
   "outputs": [
    {
     "data": {
      "text/plain": [
       "100"
      ]
     },
     "execution_count": 87,
     "metadata": {},
     "output_type": "execute_result"
    }
   ],
   "source": [
    "target_word= \"Women\"\n",
    "new_word= \"Human Services\"\n",
    "df['department'] = df['department'].apply(replace_text)\n",
    "num_unique_strings = df['department'].nunique()\n",
    "num_unique_strings"
   ]
  },
  {
   "cell_type": "code",
   "execution_count": 88,
   "id": "59bb2763-e164-4c8a-a5c5-9c1041650599",
   "metadata": {
    "tags": []
   },
   "outputs": [
    {
     "data": {
      "text/plain": [
       "99"
      ]
     },
     "execution_count": 88,
     "metadata": {},
     "output_type": "execute_result"
    }
   ],
   "source": [
    "target_word= \"Pension\"\n",
    "new_word= \"Human Services\"\n",
    "df['department'] = df['department'].apply(replace_text)\n",
    "num_unique_strings = df['department'].nunique()\n",
    "num_unique_strings"
   ]
  },
  {
   "cell_type": "code",
   "execution_count": 89,
   "id": "27202936-95a9-468f-8777-38fdaa21d4b7",
   "metadata": {
    "tags": []
   },
   "outputs": [
    {
     "data": {
      "text/plain": [
       "98"
      ]
     },
     "execution_count": 89,
     "metadata": {},
     "output_type": "execute_result"
    }
   ],
   "source": [
    "target_word= \"Disability\"\n",
    "new_word= \"Human Services\"\n",
    "df['department'] = df['department'].apply(replace_text)\n",
    "num_unique_strings = df['department'].nunique()\n",
    "num_unique_strings"
   ]
  },
  {
   "cell_type": "code",
   "execution_count": 90,
   "id": "f5168373-0c5f-4f57-ac5e-bb1ca23f73b8",
   "metadata": {
    "tags": []
   },
   "outputs": [
    {
     "data": {
      "text/plain": [
       "97"
      ]
     },
     "execution_count": 90,
     "metadata": {},
     "output_type": "execute_result"
    }
   ],
   "source": [
    "target_word= \"Families\"\n",
    "new_word= \"Human Services\"\n",
    "df['department'] = df['department'].apply(replace_text)\n",
    "num_unique_strings = df['department'].nunique()\n",
    "num_unique_strings"
   ]
  },
  {
   "cell_type": "code",
   "execution_count": 91,
   "id": "1088779b-e6a8-4620-b716-f179e6573f8c",
   "metadata": {
    "tags": []
   },
   "outputs": [
    {
     "data": {
      "text/plain": [
       "94"
      ]
     },
     "execution_count": 91,
     "metadata": {},
     "output_type": "execute_result"
    }
   ],
   "source": [
    "target_word= \"Info\"\n",
    "new_word= \"InformationTech\"\n",
    "df['department'] = df['department'].apply(replace_text)\n",
    "num_unique_strings = df['department'].nunique()\n",
    "num_unique_strings"
   ]
  },
  {
   "cell_type": "code",
   "execution_count": 92,
   "id": "615b9348-3862-416c-b00a-36c177f997fd",
   "metadata": {
    "tags": []
   },
   "outputs": [
    {
     "data": {
      "text/plain": [
       "90"
      ]
     },
     "execution_count": 92,
     "metadata": {},
     "output_type": "execute_result"
    }
   ],
   "source": [
    "target_word= \"Tech\"\n",
    "new_word= \"InformationTech\"\n",
    "df['department'] = df['department'].apply(replace_text)\n",
    "num_unique_strings = df['department'].nunique()\n",
    "num_unique_strings"
   ]
  },
  {
   "cell_type": "code",
   "execution_count": 93,
   "id": "e6ac8873-dc98-4b5e-81d1-78d1065bee4f",
   "metadata": {
    "tags": []
   },
   "outputs": [
    {
     "data": {
      "text/plain": [
       "88"
      ]
     },
     "execution_count": 93,
     "metadata": {},
     "output_type": "execute_result"
    }
   ],
   "source": [
    "target_word= \"Envi\"\n",
    "new_word= \"Energy and Environment\"\n",
    "df['department'] = df['department'].apply(replace_text)\n",
    "num_unique_strings = df['department'].nunique()\n",
    "num_unique_strings"
   ]
  },
  {
   "cell_type": "code",
   "execution_count": 94,
   "id": "b4e8cf66-5632-465d-8158-9f243607c8bd",
   "metadata": {
    "tags": []
   },
   "outputs": [
    {
     "data": {
      "text/plain": [
       "86"
      ]
     },
     "execution_count": 94,
     "metadata": {},
     "output_type": "execute_result"
    }
   ],
   "source": [
    "target_word= \"Energy\"\n",
    "new_word= \"Energy and Environment\"\n",
    "df['department'] = df['department'].apply(replace_text)\n",
    "num_unique_strings = df['department'].nunique()\n",
    "num_unique_strings"
   ]
  },
  {
   "cell_type": "code",
   "execution_count": 95,
   "id": "1a2193bb-f322-4079-a33d-98656241d176",
   "metadata": {
    "tags": []
   },
   "outputs": [
    {
     "data": {
      "text/plain": [
       "85"
      ]
     },
     "execution_count": 95,
     "metadata": {},
     "output_type": "execute_result"
    }
   ],
   "source": [
    "target_word= \"Power\"\n",
    "new_word= \"Energy and Environment\"\n",
    "df['department'] = df['department'].apply(replace_text)\n",
    "num_unique_strings = df['department'].nunique()\n",
    "num_unique_strings"
   ]
  },
  {
   "cell_type": "code",
   "execution_count": 96,
   "id": "7779ea64-aaa2-4a50-ac61-eadd4f6456d3",
   "metadata": {
    "tags": []
   },
   "outputs": [
    {
     "data": {
      "text/plain": [
       "84"
      ]
     },
     "execution_count": 96,
     "metadata": {},
     "output_type": "execute_result"
    }
   ],
   "source": [
    "target_word= \"Sciences\"\n",
    "new_word= \"Library, Arts, Science and Museum\"\n",
    "df['department'] = df['department'].apply(replace_text)\n",
    "num_unique_strings = df['department'].nunique()\n",
    "num_unique_strings"
   ]
  },
  {
   "cell_type": "code",
   "execution_count": 97,
   "id": "7ec3a2b6-e774-4e44-972e-4a071cafd122",
   "metadata": {},
   "outputs": [
    {
     "data": {
      "text/plain": [
       "28"
      ]
     },
     "execution_count": 97,
     "metadata": {},
     "output_type": "execute_result"
    }
   ],
   "source": [
    "target_word= \"Library\"\n",
    "new_word= \"Library, Arts, Science and Museum\"\n",
    "df['department'] = df['department'].apply(replace_text)\n",
    "num_unique_strings = df['department'].nunique()\n",
    "num_unique_strings"
   ]
  },
  {
   "cell_type": "code",
   "execution_count": 98,
   "id": "991b5bd5-7d70-46fa-82c9-49736fc87766",
   "metadata": {},
   "outputs": [
    {
     "data": {
      "text/plain": [
       "24"
      ]
     },
     "execution_count": 98,
     "metadata": {},
     "output_type": "execute_result"
    }
   ],
   "source": [
    "target_word= \"Museum\"\n",
    "new_word= \"Library, Arts, Science and Museum\"\n",
    "df['department'] = df['department'].apply(replace_text)\n",
    "num_unique_strings = df['department'].nunique()\n",
    "num_unique_strings"
   ]
  },
  {
   "cell_type": "code",
   "execution_count": 99,
   "id": "67a8d36d-599f-4b78-bf6f-edce9eb587a3",
   "metadata": {},
   "outputs": [
    {
     "data": {
      "text/plain": [
       "22"
      ]
     },
     "execution_count": 99,
     "metadata": {},
     "output_type": "execute_result"
    }
   ],
   "source": [
    "target_word= \"Memorial\"\n",
    "new_word= \"Library, Arts, Science and Museum\"\n",
    "df['department'] = df['department'].apply(replace_text)\n",
    "num_unique_strings = df['department'].nunique()\n",
    "num_unique_strings"
   ]
  },
  {
   "cell_type": "code",
   "execution_count": 100,
   "id": "0ddb845f-cec7-4094-b539-7100ec8b337e",
   "metadata": {},
   "outputs": [
    {
     "data": {
      "text/plain": [
       "21"
      ]
     },
     "execution_count": 100,
     "metadata": {},
     "output_type": "execute_result"
    }
   ],
   "source": [
    "target_word= \"Monument\"\n",
    "new_word= \"Library, Arts, Science and Museum\"\n",
    "df['department'] = df['department'].apply(replace_text)\n",
    "num_unique_strings = df['department'].nunique()\n",
    "num_unique_strings\n"
   ]
  },
  {
   "cell_type": "code",
   "execution_count": 102,
   "id": "d90660c5-b417-4fbe-b901-8ab2738185f6",
   "metadata": {},
   "outputs": [
    {
     "data": {
      "text/plain": [
       "20"
      ]
     },
     "execution_count": 102,
     "metadata": {},
     "output_type": "execute_result"
    }
   ],
   "source": [
    "target_word= \"Arts\"\n",
    "new_word= \"Library, Arts, Science and Museum\"\n",
    "df['department'] = df['department'].apply(replace_text)\n",
    "num_unique_strings = df['department'].nunique()\n",
    "num_unique_strings"
   ]
  },
  {
   "cell_type": "code",
   "execution_count": 103,
   "id": "def1dd8f-24f0-4387-8a8d-9887821c5a1d",
   "metadata": {},
   "outputs": [
    {
     "data": {
      "text/plain": [
       "19"
      ]
     },
     "execution_count": 103,
     "metadata": {},
     "output_type": "execute_result"
    }
   ],
   "source": [
    "target_word= \"Cultural\"\n",
    "new_word= \"Library, Arts, Science and Museum\"\n",
    "df['department'] = df['department'].apply(replace_text)\n",
    "num_unique_strings = df['department'].nunique()\n",
    "num_unique_strings"
   ]
  },
  {
   "cell_type": "code",
   "execution_count": 105,
   "id": "8a467205-0a0c-44a6-95fe-e9118cf489d4",
   "metadata": {},
   "outputs": [
    {
     "data": {
      "text/plain": [
       "18"
      ]
     },
     "execution_count": 105,
     "metadata": {},
     "output_type": "execute_result"
    }
   ],
   "source": [
    "target_word= \"Art commission\"\n",
    "new_word= \"Library, Arts, Science and Museum\"\n",
    "df['department'] = df['department'].apply(replace_text)\n",
    "num_unique_strings = df['department'].nunique()\n",
    "num_unique_strings"
   ]
  },
  {
   "cell_type": "code",
   "execution_count": 106,
   "id": "809fa8fd-b494-4f18-af97-083894437124",
   "metadata": {
    "tags": []
   },
   "outputs": [],
   "source": [
    "df.to_csv('df2.csv', index=False)"
   ]
  },
  {
   "cell_type": "code",
   "execution_count": 107,
   "id": "b702a8b8-d203-4a74-a903-83817f553e49",
   "metadata": {
    "tags": []
   },
   "outputs": [],
   "source": [
    "n_records = len(df)\n",
    "\n",
    "# Calculate the midpoint\n",
    "midpoint = n_records // 2\n",
    "\n",
    "# Split the DataFrame into two parts\n",
    "dfra1 = df.iloc[:midpoint]\n",
    "dfra2 = df.iloc[midpoint:]\n",
    "\n",
    "# Save each part to a separate Excel file\n",
    "#dfra1.to_csv('output1.csv', index=False)\n",
    "#dfra2.to_csv('output2.csv', index=False)"
   ]
  },
  {
   "cell_type": "code",
   "execution_count": null,
   "id": "496d44a1-193f-4dba-bb2c-c0d56255ce0f",
   "metadata": {
    "tags": []
   },
   "outputs": [],
   "source": [
    "conn.close()"
   ]
  },
  {
   "cell_type": "code",
   "execution_count": null,
   "id": "3a208aa5-1ae6-4fcc-8397-6319848ea0b1",
   "metadata": {
    "tags": []
   },
   "outputs": [],
   "source": [
    "%%html\n",
    "\n",
    "<p><b>Shutting down your kernel for this notebook to release resources.</b></p>\n",
    "<button class=\"sm-command-button\" data-commandlinker-command=\"kernelmenu:shutdown\" style=\"display:none;\">Shutdown Kernel</button>\n",
    "        \n",
    "<script>\n",
    "try {\n",
    "    els = document.getElementsByClassName(\"sm-command-button\");\n",
    "    els[0].click();\n",
    "}\n",
    "catch(err) {\n",
    "    // NoOp\n",
    "}    \n",
    "</script>"
   ]
  },
  {
   "cell_type": "code",
   "execution_count": null,
   "id": "a1568a16-0e8b-4976-a192-8b908fa462de",
   "metadata": {},
   "outputs": [],
   "source": []
  }
 ],
 "metadata": {
  "availableInstances": [
   {
    "_defaultOrder": 0,
    "_isFastLaunch": true,
    "category": "General purpose",
    "gpuNum": 0,
    "hideHardwareSpecs": false,
    "memoryGiB": 4,
    "name": "ml.t3.medium",
    "vcpuNum": 2
   },
   {
    "_defaultOrder": 1,
    "_isFastLaunch": false,
    "category": "General purpose",
    "gpuNum": 0,
    "hideHardwareSpecs": false,
    "memoryGiB": 8,
    "name": "ml.t3.large",
    "vcpuNum": 2
   },
   {
    "_defaultOrder": 2,
    "_isFastLaunch": false,
    "category": "General purpose",
    "gpuNum": 0,
    "hideHardwareSpecs": false,
    "memoryGiB": 16,
    "name": "ml.t3.xlarge",
    "vcpuNum": 4
   },
   {
    "_defaultOrder": 3,
    "_isFastLaunch": false,
    "category": "General purpose",
    "gpuNum": 0,
    "hideHardwareSpecs": false,
    "memoryGiB": 32,
    "name": "ml.t3.2xlarge",
    "vcpuNum": 8
   },
   {
    "_defaultOrder": 4,
    "_isFastLaunch": true,
    "category": "General purpose",
    "gpuNum": 0,
    "hideHardwareSpecs": false,
    "memoryGiB": 8,
    "name": "ml.m5.large",
    "vcpuNum": 2
   },
   {
    "_defaultOrder": 5,
    "_isFastLaunch": false,
    "category": "General purpose",
    "gpuNum": 0,
    "hideHardwareSpecs": false,
    "memoryGiB": 16,
    "name": "ml.m5.xlarge",
    "vcpuNum": 4
   },
   {
    "_defaultOrder": 6,
    "_isFastLaunch": false,
    "category": "General purpose",
    "gpuNum": 0,
    "hideHardwareSpecs": false,
    "memoryGiB": 32,
    "name": "ml.m5.2xlarge",
    "vcpuNum": 8
   },
   {
    "_defaultOrder": 7,
    "_isFastLaunch": false,
    "category": "General purpose",
    "gpuNum": 0,
    "hideHardwareSpecs": false,
    "memoryGiB": 64,
    "name": "ml.m5.4xlarge",
    "vcpuNum": 16
   },
   {
    "_defaultOrder": 8,
    "_isFastLaunch": false,
    "category": "General purpose",
    "gpuNum": 0,
    "hideHardwareSpecs": false,
    "memoryGiB": 128,
    "name": "ml.m5.8xlarge",
    "vcpuNum": 32
   },
   {
    "_defaultOrder": 9,
    "_isFastLaunch": false,
    "category": "General purpose",
    "gpuNum": 0,
    "hideHardwareSpecs": false,
    "memoryGiB": 192,
    "name": "ml.m5.12xlarge",
    "vcpuNum": 48
   },
   {
    "_defaultOrder": 10,
    "_isFastLaunch": false,
    "category": "General purpose",
    "gpuNum": 0,
    "hideHardwareSpecs": false,
    "memoryGiB": 256,
    "name": "ml.m5.16xlarge",
    "vcpuNum": 64
   },
   {
    "_defaultOrder": 11,
    "_isFastLaunch": false,
    "category": "General purpose",
    "gpuNum": 0,
    "hideHardwareSpecs": false,
    "memoryGiB": 384,
    "name": "ml.m5.24xlarge",
    "vcpuNum": 96
   },
   {
    "_defaultOrder": 12,
    "_isFastLaunch": false,
    "category": "General purpose",
    "gpuNum": 0,
    "hideHardwareSpecs": false,
    "memoryGiB": 8,
    "name": "ml.m5d.large",
    "vcpuNum": 2
   },
   {
    "_defaultOrder": 13,
    "_isFastLaunch": false,
    "category": "General purpose",
    "gpuNum": 0,
    "hideHardwareSpecs": false,
    "memoryGiB": 16,
    "name": "ml.m5d.xlarge",
    "vcpuNum": 4
   },
   {
    "_defaultOrder": 14,
    "_isFastLaunch": false,
    "category": "General purpose",
    "gpuNum": 0,
    "hideHardwareSpecs": false,
    "memoryGiB": 32,
    "name": "ml.m5d.2xlarge",
    "vcpuNum": 8
   },
   {
    "_defaultOrder": 15,
    "_isFastLaunch": false,
    "category": "General purpose",
    "gpuNum": 0,
    "hideHardwareSpecs": false,
    "memoryGiB": 64,
    "name": "ml.m5d.4xlarge",
    "vcpuNum": 16
   },
   {
    "_defaultOrder": 16,
    "_isFastLaunch": false,
    "category": "General purpose",
    "gpuNum": 0,
    "hideHardwareSpecs": false,
    "memoryGiB": 128,
    "name": "ml.m5d.8xlarge",
    "vcpuNum": 32
   },
   {
    "_defaultOrder": 17,
    "_isFastLaunch": false,
    "category": "General purpose",
    "gpuNum": 0,
    "hideHardwareSpecs": false,
    "memoryGiB": 192,
    "name": "ml.m5d.12xlarge",
    "vcpuNum": 48
   },
   {
    "_defaultOrder": 18,
    "_isFastLaunch": false,
    "category": "General purpose",
    "gpuNum": 0,
    "hideHardwareSpecs": false,
    "memoryGiB": 256,
    "name": "ml.m5d.16xlarge",
    "vcpuNum": 64
   },
   {
    "_defaultOrder": 19,
    "_isFastLaunch": false,
    "category": "General purpose",
    "gpuNum": 0,
    "hideHardwareSpecs": false,
    "memoryGiB": 384,
    "name": "ml.m5d.24xlarge",
    "vcpuNum": 96
   },
   {
    "_defaultOrder": 20,
    "_isFastLaunch": false,
    "category": "General purpose",
    "gpuNum": 0,
    "hideHardwareSpecs": true,
    "memoryGiB": 0,
    "name": "ml.geospatial.interactive",
    "supportedImageNames": [
     "sagemaker-geospatial-v1-0"
    ],
    "vcpuNum": 0
   },
   {
    "_defaultOrder": 21,
    "_isFastLaunch": true,
    "category": "Compute optimized",
    "gpuNum": 0,
    "hideHardwareSpecs": false,
    "memoryGiB": 4,
    "name": "ml.c5.large",
    "vcpuNum": 2
   },
   {
    "_defaultOrder": 22,
    "_isFastLaunch": false,
    "category": "Compute optimized",
    "gpuNum": 0,
    "hideHardwareSpecs": false,
    "memoryGiB": 8,
    "name": "ml.c5.xlarge",
    "vcpuNum": 4
   },
   {
    "_defaultOrder": 23,
    "_isFastLaunch": false,
    "category": "Compute optimized",
    "gpuNum": 0,
    "hideHardwareSpecs": false,
    "memoryGiB": 16,
    "name": "ml.c5.2xlarge",
    "vcpuNum": 8
   },
   {
    "_defaultOrder": 24,
    "_isFastLaunch": false,
    "category": "Compute optimized",
    "gpuNum": 0,
    "hideHardwareSpecs": false,
    "memoryGiB": 32,
    "name": "ml.c5.4xlarge",
    "vcpuNum": 16
   },
   {
    "_defaultOrder": 25,
    "_isFastLaunch": false,
    "category": "Compute optimized",
    "gpuNum": 0,
    "hideHardwareSpecs": false,
    "memoryGiB": 72,
    "name": "ml.c5.9xlarge",
    "vcpuNum": 36
   },
   {
    "_defaultOrder": 26,
    "_isFastLaunch": false,
    "category": "Compute optimized",
    "gpuNum": 0,
    "hideHardwareSpecs": false,
    "memoryGiB": 96,
    "name": "ml.c5.12xlarge",
    "vcpuNum": 48
   },
   {
    "_defaultOrder": 27,
    "_isFastLaunch": false,
    "category": "Compute optimized",
    "gpuNum": 0,
    "hideHardwareSpecs": false,
    "memoryGiB": 144,
    "name": "ml.c5.18xlarge",
    "vcpuNum": 72
   },
   {
    "_defaultOrder": 28,
    "_isFastLaunch": false,
    "category": "Compute optimized",
    "gpuNum": 0,
    "hideHardwareSpecs": false,
    "memoryGiB": 192,
    "name": "ml.c5.24xlarge",
    "vcpuNum": 96
   },
   {
    "_defaultOrder": 29,
    "_isFastLaunch": true,
    "category": "Accelerated computing",
    "gpuNum": 1,
    "hideHardwareSpecs": false,
    "memoryGiB": 16,
    "name": "ml.g4dn.xlarge",
    "vcpuNum": 4
   },
   {
    "_defaultOrder": 30,
    "_isFastLaunch": false,
    "category": "Accelerated computing",
    "gpuNum": 1,
    "hideHardwareSpecs": false,
    "memoryGiB": 32,
    "name": "ml.g4dn.2xlarge",
    "vcpuNum": 8
   },
   {
    "_defaultOrder": 31,
    "_isFastLaunch": false,
    "category": "Accelerated computing",
    "gpuNum": 1,
    "hideHardwareSpecs": false,
    "memoryGiB": 64,
    "name": "ml.g4dn.4xlarge",
    "vcpuNum": 16
   },
   {
    "_defaultOrder": 32,
    "_isFastLaunch": false,
    "category": "Accelerated computing",
    "gpuNum": 1,
    "hideHardwareSpecs": false,
    "memoryGiB": 128,
    "name": "ml.g4dn.8xlarge",
    "vcpuNum": 32
   },
   {
    "_defaultOrder": 33,
    "_isFastLaunch": false,
    "category": "Accelerated computing",
    "gpuNum": 4,
    "hideHardwareSpecs": false,
    "memoryGiB": 192,
    "name": "ml.g4dn.12xlarge",
    "vcpuNum": 48
   },
   {
    "_defaultOrder": 34,
    "_isFastLaunch": false,
    "category": "Accelerated computing",
    "gpuNum": 1,
    "hideHardwareSpecs": false,
    "memoryGiB": 256,
    "name": "ml.g4dn.16xlarge",
    "vcpuNum": 64
   },
   {
    "_defaultOrder": 35,
    "_isFastLaunch": false,
    "category": "Accelerated computing",
    "gpuNum": 1,
    "hideHardwareSpecs": false,
    "memoryGiB": 61,
    "name": "ml.p3.2xlarge",
    "vcpuNum": 8
   },
   {
    "_defaultOrder": 36,
    "_isFastLaunch": false,
    "category": "Accelerated computing",
    "gpuNum": 4,
    "hideHardwareSpecs": false,
    "memoryGiB": 244,
    "name": "ml.p3.8xlarge",
    "vcpuNum": 32
   },
   {
    "_defaultOrder": 37,
    "_isFastLaunch": false,
    "category": "Accelerated computing",
    "gpuNum": 8,
    "hideHardwareSpecs": false,
    "memoryGiB": 488,
    "name": "ml.p3.16xlarge",
    "vcpuNum": 64
   },
   {
    "_defaultOrder": 38,
    "_isFastLaunch": false,
    "category": "Accelerated computing",
    "gpuNum": 8,
    "hideHardwareSpecs": false,
    "memoryGiB": 768,
    "name": "ml.p3dn.24xlarge",
    "vcpuNum": 96
   },
   {
    "_defaultOrder": 39,
    "_isFastLaunch": false,
    "category": "Memory Optimized",
    "gpuNum": 0,
    "hideHardwareSpecs": false,
    "memoryGiB": 16,
    "name": "ml.r5.large",
    "vcpuNum": 2
   },
   {
    "_defaultOrder": 40,
    "_isFastLaunch": false,
    "category": "Memory Optimized",
    "gpuNum": 0,
    "hideHardwareSpecs": false,
    "memoryGiB": 32,
    "name": "ml.r5.xlarge",
    "vcpuNum": 4
   },
   {
    "_defaultOrder": 41,
    "_isFastLaunch": false,
    "category": "Memory Optimized",
    "gpuNum": 0,
    "hideHardwareSpecs": false,
    "memoryGiB": 64,
    "name": "ml.r5.2xlarge",
    "vcpuNum": 8
   },
   {
    "_defaultOrder": 42,
    "_isFastLaunch": false,
    "category": "Memory Optimized",
    "gpuNum": 0,
    "hideHardwareSpecs": false,
    "memoryGiB": 128,
    "name": "ml.r5.4xlarge",
    "vcpuNum": 16
   },
   {
    "_defaultOrder": 43,
    "_isFastLaunch": false,
    "category": "Memory Optimized",
    "gpuNum": 0,
    "hideHardwareSpecs": false,
    "memoryGiB": 256,
    "name": "ml.r5.8xlarge",
    "vcpuNum": 32
   },
   {
    "_defaultOrder": 44,
    "_isFastLaunch": false,
    "category": "Memory Optimized",
    "gpuNum": 0,
    "hideHardwareSpecs": false,
    "memoryGiB": 384,
    "name": "ml.r5.12xlarge",
    "vcpuNum": 48
   },
   {
    "_defaultOrder": 45,
    "_isFastLaunch": false,
    "category": "Memory Optimized",
    "gpuNum": 0,
    "hideHardwareSpecs": false,
    "memoryGiB": 512,
    "name": "ml.r5.16xlarge",
    "vcpuNum": 64
   },
   {
    "_defaultOrder": 46,
    "_isFastLaunch": false,
    "category": "Memory Optimized",
    "gpuNum": 0,
    "hideHardwareSpecs": false,
    "memoryGiB": 768,
    "name": "ml.r5.24xlarge",
    "vcpuNum": 96
   },
   {
    "_defaultOrder": 47,
    "_isFastLaunch": false,
    "category": "Accelerated computing",
    "gpuNum": 1,
    "hideHardwareSpecs": false,
    "memoryGiB": 16,
    "name": "ml.g5.xlarge",
    "vcpuNum": 4
   },
   {
    "_defaultOrder": 48,
    "_isFastLaunch": false,
    "category": "Accelerated computing",
    "gpuNum": 1,
    "hideHardwareSpecs": false,
    "memoryGiB": 32,
    "name": "ml.g5.2xlarge",
    "vcpuNum": 8
   },
   {
    "_defaultOrder": 49,
    "_isFastLaunch": false,
    "category": "Accelerated computing",
    "gpuNum": 1,
    "hideHardwareSpecs": false,
    "memoryGiB": 64,
    "name": "ml.g5.4xlarge",
    "vcpuNum": 16
   },
   {
    "_defaultOrder": 50,
    "_isFastLaunch": false,
    "category": "Accelerated computing",
    "gpuNum": 1,
    "hideHardwareSpecs": false,
    "memoryGiB": 128,
    "name": "ml.g5.8xlarge",
    "vcpuNum": 32
   },
   {
    "_defaultOrder": 51,
    "_isFastLaunch": false,
    "category": "Accelerated computing",
    "gpuNum": 1,
    "hideHardwareSpecs": false,
    "memoryGiB": 256,
    "name": "ml.g5.16xlarge",
    "vcpuNum": 64
   },
   {
    "_defaultOrder": 52,
    "_isFastLaunch": false,
    "category": "Accelerated computing",
    "gpuNum": 4,
    "hideHardwareSpecs": false,
    "memoryGiB": 192,
    "name": "ml.g5.12xlarge",
    "vcpuNum": 48
   },
   {
    "_defaultOrder": 53,
    "_isFastLaunch": false,
    "category": "Accelerated computing",
    "gpuNum": 4,
    "hideHardwareSpecs": false,
    "memoryGiB": 384,
    "name": "ml.g5.24xlarge",
    "vcpuNum": 96
   },
   {
    "_defaultOrder": 54,
    "_isFastLaunch": false,
    "category": "Accelerated computing",
    "gpuNum": 8,
    "hideHardwareSpecs": false,
    "memoryGiB": 768,
    "name": "ml.g5.48xlarge",
    "vcpuNum": 192
   }
  ],
  "instance_type": "ml.t3.medium",
  "kernelspec": {
   "display_name": "Python 3 (Data Science)",
   "language": "python",
   "name": "python3__SAGEMAKER_INTERNAL__arn:aws:sagemaker:us-east-1:081325390199:image/datascience-1.0"
  },
  "language_info": {
   "codemirror_mode": {
    "name": "ipython",
    "version": 3
   },
   "file_extension": ".py",
   "mimetype": "text/x-python",
   "name": "python",
   "nbconvert_exporter": "python",
   "pygments_lexer": "ipython3",
   "version": "3.7.10"
  }
 },
 "nbformat": 4,
 "nbformat_minor": 5
}

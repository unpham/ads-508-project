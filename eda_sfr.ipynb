{
 "cells": [
  {
   "cell_type": "code",
   "execution_count": 2,
   "id": "54e0661e-b8dc-41ec-8a4d-5181ef669c5d",
   "metadata": {
    "tags": []
   },
   "outputs": [],
   "source": [
    "import gzip\n",
    "import pandas as pd"
   ]
  },
  {
   "cell_type": "code",
   "execution_count": 3,
   "id": "dc39bd97-0c3c-4c33-95a9-6d36c88f86f0",
   "metadata": {
    "tags": []
   },
   "outputs": [],
   "source": [
    "import numpy as np\n",
    "\n",
    "%matplotlib inline\n",
    "import matplotlib.pyplot as plt\n",
    "import seaborn as sns"
   ]
  },
  {
   "cell_type": "code",
   "execution_count": 4,
   "id": "638bae2b-af12-4cb9-830f-3e0fc602d4a5",
   "metadata": {
    "tags": []
   },
   "outputs": [],
   "source": [
    "with gzip.open('compensation_cpi.csv.gz', 'rb') as f:\n",
    "    df = pd.read_csv(f)"
   ]
  },
  {
   "cell_type": "code",
   "execution_count": 5,
   "id": "c32e1e34-cf82-463f-83ad-c5ae21d1f505",
   "metadata": {
    "tags": []
   },
   "outputs": [
    {
     "name": "stdout",
     "output_type": "stream",
     "text": [
      "<class 'pandas.core.frame.DataFrame'>\n",
      "RangeIndex: 1466589 entries, 0 to 1466588\n",
      "Data columns (total 15 columns):\n",
      " #   Column              Non-Null Count    Dtype  \n",
      "---  ------              --------------    -----  \n",
      " 0   year                1466589 non-null  int64  \n",
      " 1   department          1466587 non-null  object \n",
      " 2   job_title           1466043 non-null  object \n",
      " 3   base_salary         1465890 non-null  float64\n",
      " 4   overtime            1433207 non-null  float64\n",
      " 5   irregular_cash      1466155 non-null  float64\n",
      " 6   total_cash          1466589 non-null  float64\n",
      " 7   retirement          1466589 non-null  float64\n",
      " 8   health              1447602 non-null  float64\n",
      " 9   other_benefits      830557 non-null   float64\n",
      " 10  total_benefits      1466589 non-null  float64\n",
      " 11  total_compensation  1466589 non-null  float64\n",
      " 12  city_id             1466589 non-null  int64  \n",
      " 13  annual_average_cpi  1466589 non-null  float64\n",
      " 14  inflation_rate      1466589 non-null  float64\n",
      "dtypes: float64(11), int64(2), object(2)\n",
      "memory usage: 167.8+ MB\n"
     ]
    }
   ],
   "source": [
    "df.info()"
   ]
  },
  {
   "cell_type": "code",
   "execution_count": 6,
   "id": "e3ba3963-b90d-4e04-87f5-4de3ce922b79",
   "metadata": {
    "tags": []
   },
   "outputs": [
    {
     "data": {
      "text/html": [
       "<div>\n",
       "<style scoped>\n",
       "    .dataframe tbody tr th:only-of-type {\n",
       "        vertical-align: middle;\n",
       "    }\n",
       "\n",
       "    .dataframe tbody tr th {\n",
       "        vertical-align: top;\n",
       "    }\n",
       "\n",
       "    .dataframe thead th {\n",
       "        text-align: right;\n",
       "    }\n",
       "</style>\n",
       "<table border=\"1\" class=\"dataframe\">\n",
       "  <thead>\n",
       "    <tr style=\"text-align: right;\">\n",
       "      <th></th>\n",
       "      <th>year</th>\n",
       "      <th>department</th>\n",
       "      <th>job_title</th>\n",
       "      <th>base_salary</th>\n",
       "      <th>overtime</th>\n",
       "      <th>irregular_cash</th>\n",
       "      <th>total_cash</th>\n",
       "      <th>retirement</th>\n",
       "      <th>health</th>\n",
       "      <th>other_benefits</th>\n",
       "      <th>total_benefits</th>\n",
       "      <th>total_compensation</th>\n",
       "      <th>city_id</th>\n",
       "      <th>annual_average_cpi</th>\n",
       "      <th>inflation_rate</th>\n",
       "    </tr>\n",
       "  </thead>\n",
       "  <tbody>\n",
       "    <tr>\n",
       "      <th>0</th>\n",
       "      <td>2020</td>\n",
       "      <td>Recreation And Park Commission</td>\n",
       "      <td>Camp Assistant</td>\n",
       "      <td>5257.50</td>\n",
       "      <td>0.0</td>\n",
       "      <td>139.32</td>\n",
       "      <td>5396.82</td>\n",
       "      <td>0.0</td>\n",
       "      <td>0.0</td>\n",
       "      <td>418.88</td>\n",
       "      <td>418.88</td>\n",
       "      <td>5815.70</td>\n",
       "      <td>2</td>\n",
       "      <td>258.8</td>\n",
       "      <td>1.2</td>\n",
       "    </tr>\n",
       "    <tr>\n",
       "      <th>1</th>\n",
       "      <td>2020</td>\n",
       "      <td>Registrar</td>\n",
       "      <td>Junior Clerk</td>\n",
       "      <td>7699.19</td>\n",
       "      <td>1916.9</td>\n",
       "      <td>0.00</td>\n",
       "      <td>9616.09</td>\n",
       "      <td>0.0</td>\n",
       "      <td>0.0</td>\n",
       "      <td>746.36</td>\n",
       "      <td>746.36</td>\n",
       "      <td>10362.45</td>\n",
       "      <td>2</td>\n",
       "      <td>258.8</td>\n",
       "      <td>1.2</td>\n",
       "    </tr>\n",
       "    <tr>\n",
       "      <th>2</th>\n",
       "      <td>2020</td>\n",
       "      <td>Registrar</td>\n",
       "      <td>Junior Clerk</td>\n",
       "      <td>2619.15</td>\n",
       "      <td>930.5</td>\n",
       "      <td>0.00</td>\n",
       "      <td>3549.65</td>\n",
       "      <td>0.0</td>\n",
       "      <td>0.0</td>\n",
       "      <td>275.51</td>\n",
       "      <td>275.51</td>\n",
       "      <td>3825.16</td>\n",
       "      <td>2</td>\n",
       "      <td>258.8</td>\n",
       "      <td>1.2</td>\n",
       "    </tr>\n",
       "  </tbody>\n",
       "</table>\n",
       "</div>"
      ],
      "text/plain": [
       "   year                      department       job_title  base_salary  \\\n",
       "0  2020  Recreation And Park Commission  Camp Assistant      5257.50   \n",
       "1  2020                       Registrar    Junior Clerk      7699.19   \n",
       "2  2020                       Registrar    Junior Clerk      2619.15   \n",
       "\n",
       "   overtime  irregular_cash  total_cash  retirement  health  other_benefits  \\\n",
       "0       0.0          139.32     5396.82         0.0     0.0          418.88   \n",
       "1    1916.9            0.00     9616.09         0.0     0.0          746.36   \n",
       "2     930.5            0.00     3549.65         0.0     0.0          275.51   \n",
       "\n",
       "   total_benefits  total_compensation  city_id  annual_average_cpi  \\\n",
       "0          418.88             5815.70        2               258.8   \n",
       "1          746.36            10362.45        2               258.8   \n",
       "2          275.51             3825.16        2               258.8   \n",
       "\n",
       "   inflation_rate  \n",
       "0             1.2  \n",
       "1             1.2  \n",
       "2             1.2  "
      ]
     },
     "execution_count": 6,
     "metadata": {},
     "output_type": "execute_result"
    }
   ],
   "source": [
    "df.head(3)"
   ]
  },
  {
   "cell_type": "code",
   "execution_count": 7,
   "id": "8ca522d5-e220-4d0a-8f59-37c75f134eb0",
   "metadata": {
    "tags": []
   },
   "outputs": [
    {
     "data": {
      "image/png": "[encoded data removed]",
      "text/plain": [
       "<Figure size 640x480 with 1 Axes>"
      ]
     },
     "metadata": {},
     "output_type": "display_data"
    }
   ],
   "source": [
    "sns.scatterplot(data=df,x='year',y=\"annual_average_cpi\")\n",
    "plt.title(\"Inflation / CPI index 2013 - 2021\");"
   ]
  },
  {
   "cell_type": "markdown",
   "id": "99697352-85ec-4e99-82b8-3096794f0223",
   "metadata": {},
   "source": [
    "### Condensing Department Names"
   ]
  },
  {
   "cell_type": "code",
   "execution_count": 8,
   "id": "86945af9-ec26-40e4-9889-d30456f4b03a",
   "metadata": {
    "tags": []
   },
   "outputs": [
    {
     "data": {
      "text/plain": [
       "POLICE                          136819\n",
       "WATER AND POWER                 109906\n",
       "Public Health                    95725\n",
       "RECREATION AND PARKS             84680\n",
       "DPH Public Health                73093\n",
       "                                 ...  \n",
       "Airport-Custodians                   1\n",
       "Police-Crisis Management             1\n",
       "Police-TABS                          1\n",
       "Attorney-Part Time                   1\n",
       "DOT/Pavement Maint Southeast         1\n",
       "Name: department, Length: 550, dtype: int64"
      ]
     },
     "execution_count": 8,
     "metadata": {},
     "output_type": "execute_result"
    }
   ],
   "source": [
    "df['department'].value_counts()"
   ]
  },
  {
   "cell_type": "code",
   "execution_count": 9,
   "id": "cebbfa8f-14db-4eb5-abd7-9a73b1dc48f8",
   "metadata": {
    "tags": []
   },
   "outputs": [
    {
     "data": {
      "text/html": [
       "<div>\n",
       "<style scoped>\n",
       "    .dataframe tbody tr th:only-of-type {\n",
       "        vertical-align: middle;\n",
       "    }\n",
       "\n",
       "    .dataframe tbody tr th {\n",
       "        vertical-align: top;\n",
       "    }\n",
       "\n",
       "    .dataframe thead th {\n",
       "        text-align: right;\n",
       "    }\n",
       "</style>\n",
       "<table border=\"1\" class=\"dataframe\">\n",
       "  <thead>\n",
       "    <tr style=\"text-align: right;\">\n",
       "      <th></th>\n",
       "      <th>year</th>\n",
       "      <th>department</th>\n",
       "      <th>job_title</th>\n",
       "      <th>base_salary</th>\n",
       "      <th>overtime</th>\n",
       "      <th>irregular_cash</th>\n",
       "      <th>total_cash</th>\n",
       "      <th>retirement</th>\n",
       "      <th>health</th>\n",
       "      <th>other_benefits</th>\n",
       "      <th>total_benefits</th>\n",
       "      <th>total_compensation</th>\n",
       "      <th>city_id</th>\n",
       "      <th>annual_average_cpi</th>\n",
       "      <th>inflation_rate</th>\n",
       "    </tr>\n",
       "  </thead>\n",
       "  <tbody>\n",
       "    <tr>\n",
       "      <th>139761</th>\n",
       "      <td>2017</td>\n",
       "      <td>NaN</td>\n",
       "      <td>Sheriff's Cadet</td>\n",
       "      <td>49630.50</td>\n",
       "      <td>15016.51</td>\n",
       "      <td>3197.52</td>\n",
       "      <td>67844.53</td>\n",
       "      <td>10619.27</td>\n",
       "      <td>12779.88</td>\n",
       "      <td>4796.56</td>\n",
       "      <td>28195.71</td>\n",
       "      <td>96040.24</td>\n",
       "      <td>2</td>\n",
       "      <td>245.1</td>\n",
       "      <td>2.1</td>\n",
       "    </tr>\n",
       "    <tr>\n",
       "      <th>430579</th>\n",
       "      <td>2017</td>\n",
       "      <td>NaN</td>\n",
       "      <td>Police Officer 2</td>\n",
       "      <td>116189.62</td>\n",
       "      <td>40990.09</td>\n",
       "      <td>2260.08</td>\n",
       "      <td>159439.80</td>\n",
       "      <td>20076.66</td>\n",
       "      <td>14515.01</td>\n",
       "      <td>2724.05</td>\n",
       "      <td>37315.72</td>\n",
       "      <td>196755.52</td>\n",
       "      <td>2</td>\n",
       "      <td>245.1</td>\n",
       "      <td>2.1</td>\n",
       "    </tr>\n",
       "  </tbody>\n",
       "</table>\n",
       "</div>"
      ],
      "text/plain": [
       "        year department         job_title  base_salary  overtime  \\\n",
       "139761  2017        NaN   Sheriff's Cadet     49630.50  15016.51   \n",
       "430579  2017        NaN  Police Officer 2    116189.62  40990.09   \n",
       "\n",
       "        irregular_cash  total_cash  retirement    health  other_benefits  \\\n",
       "139761         3197.52    67844.53    10619.27  12779.88         4796.56   \n",
       "430579         2260.08   159439.80    20076.66  14515.01         2724.05   \n",
       "\n",
       "        total_benefits  total_compensation  city_id  annual_average_cpi  \\\n",
       "139761        28195.71            96040.24        2               245.1   \n",
       "430579        37315.72           196755.52        2               245.1   \n",
       "\n",
       "        inflation_rate  \n",
       "139761             2.1  \n",
       "430579             2.1  "
      ]
     },
     "execution_count": 9,
     "metadata": {},
     "output_type": "execute_result"
    }
   ],
   "source": [
    "#we have two missing department names but they are both police\n",
    "df[df['department'].isna()]"
   ]
  },
  {
   "cell_type": "code",
   "execution_count": 10,
   "id": "9e126458-0291-4bd0-b913-04a1d1a0587f",
   "metadata": {
    "tags": []
   },
   "outputs": [],
   "source": [
    "#fill in the missing police department names\n",
    "df['department'].fillna('Police',inplace=True)"
   ]
  },
  {
   "cell_type": "markdown",
   "id": "dc488e43-8e40-4d1d-9522-c94195db5b18",
   "metadata": {},
   "source": [
    "##### This function will condense the departments based on a dictionary"
   ]
  },
  {
   "cell_type": "code",
   "execution_count": 11,
   "id": "da27adea-bafe-408c-824e-e44fa5e862c6",
   "metadata": {
    "tags": []
   },
   "outputs": [],
   "source": [
    "def replace_text(text):\n",
    "    if pd.isna(text) or text is None:\n",
    "        return text\n",
    "    elif target_word.lower() in text.lower():\n",
    "        return new_word\n",
    "    else:\n",
    "        return text"
   ]
  },
  {
   "cell_type": "code",
   "execution_count": 12,
   "id": "717acf97-49d8-4a97-b441-35423e94af97",
   "metadata": {
    "tags": []
   },
   "outputs": [],
   "source": [
    "#this is the core for how the above functions works\n",
    "#target_word= \"Police\"\n",
    "#new_word= \"Police\"\n",
    "#df['department'] = df['department'].apply(replace_text)"
   ]
  },
  {
   "cell_type": "code",
   "execution_count": 13,
   "id": "d11df515-e8d6-4a95-b613-91cc0fe514a4",
   "metadata": {
    "tags": []
   },
   "outputs": [],
   "source": [
    "dept_dict = {\n",
    "    'Police': 'Police', 'Sheriff': 'Police', \"Vcet\" : \"Police\",   \n",
    "    \"Fire\" : \"Emergency Management\",    \"Emergency\" : \"Emergency Management\",\n",
    "    \"PW\" : \"Public Works\",    \"Public\" : \"Public Works\",    \"Water\" : \"Public Works\",    \"DOT\" : \"Public Works\",    \"Transport\" : \"Public Works\",\n",
    "    \"Plan\" : \"Public Works\",    \"Building\" : \"Public Works\",    #\"District\" : \"Public Works\",    \n",
    "    \"PRNS\" : \"Parks\",    \"Recre\" : \"Parks\",    \"Zoo\" : \"Parks\",    \"Parks\" : \"Parks\",    \"Arena\" : \"Parks\",\n",
    "    \"City\" : \"City Mgmt\",    \"Convention\" : \"City Mgmt\",    \"Neighbor\" : \"City Mgmt\",    \"Election\" : \"City Mgmt\",    \"Council\" : \"City Mgmt\",\n",
    "    \"CII\" : \"City Mgmt\",    \"Clerk\" : \"City Mgmt\",    \"Registrar\" : \"City Mgmt\",    \"Housing\" : \"City Mgmt\",    \"Mayor\" : \"City Mgmt\",    \"rda\" : \"City Mgmt\",\n",
    "    \"Airport\" : \"Airport\",    \"Airside\" : \"Airport\",\n",
    "    \"Finance\" : \"Finance\",    \"Auditor\" : \"Finance\",    \"Assessor\" : \"Finance\",    \"Controller\" : \"Finance\",    \"Tax\" : \"Finance\", \"Treasure\" : \"Finance\",\n",
    "    \"Board\" : \"Law and Reg\",    \"Attorney\" : \"Law and Reg\",    \"Court\" : \"Law and Reg\",\n",
    "    \"Ethics\" : \"Law and Reg\",    \"Probation\" : \"Law and Reg\",    \"Regulation\" : \"Law and Reg\",\n",
    "    \"prt\" : \"Port\",    \"port\" : \"Port\", \"Harbor\" : \"Port\",\n",
    "    \"Human\" : \"Human Services\",    \"Retire\" : \"Human Services\",    \"Child\" : \"Human Services\",    \"Service\" : \"Human Services\",\n",
    "    \"Personnel\" : \"Human Services\",    \"Aging\" : \"Human Services\",    \"Women\" : \"Human Services\",    \"Pension\" : \"Human Services\",\n",
    "    \"Disability\" : \"Human Services\",    \"Families\" : \"Human Services\", \"Youth\" : \"Human Services\",\n",
    "    \"ESD\" : \"Human Services\",    \"Employee\" : \"Human Services\",\n",
    "    \"Info\" : \"IT\",    \"Tech\" : \"IT\",\n",
    "    \"Envi\" : \"Energy, Env, Economy\",    \"Energy\" : \"Energy, Env, Economy\",    \"Power\" : \"Energy, Env, Economy\", \"Econ\" : \"Energy, Env, Economy\",\n",
    "    \"Science\" : \"Libraries, Arts, Science, Museums\",    \"Librar\" : \"Libraries, Arts, Science, Museums\",    \"Museum\" : \"Libraries, Arts, Science, Museums\",\n",
    "    \"Memorial\" : \"Libraries, Arts, Science, Museums\",    \"Monument\" : \"Libraries, Arts, Science, Museums\",    \"Arts\" : \"Libraries, Arts, Science, Museums\",\n",
    "    \"Cultur\" : \"Libraries, Arts, Science, Museums\", \"Art Commission\" : \"Libraries, Arts, Science, Museums\"\n",
    "}"
   ]
  },
  {
   "cell_type": "code",
   "execution_count": 14,
   "id": "d1433337-ed87-4e3f-89db-f630eadd9369",
   "metadata": {
    "tags": []
   },
   "outputs": [],
   "source": [
    "for key in dept_dict:\n",
    "    target_word= key\n",
    "    new_word= dept_dict[key]\n",
    "    df['department'] = df['department'].apply(replace_text)"
   ]
  },
  {
   "cell_type": "code",
   "execution_count": 15,
   "id": "5d94637e-7954-44ca-8ef6-2c15721c4be7",
   "metadata": {
    "tags": []
   },
   "outputs": [
    {
     "data": {
      "text/plain": [
       "Public Works                         0.384807\n",
       "Police                               0.159051\n",
       "Port                                 0.098913\n",
       "Parks                                0.097807\n",
       "Human Services                       0.085051\n",
       "Emergency Management                 0.057883\n",
       "City Mgmt                            0.046575\n",
       "Libraries, Arts, Science, Museums    0.022667\n",
       "Law and Reg                          0.019740\n",
       "Finance                              0.014328\n",
       "IT                                   0.008094\n",
       "Energy, Env, Economy                 0.005083\n",
       "Name: department, dtype: float64"
      ]
     },
     "execution_count": 15,
     "metadata": {},
     "output_type": "execute_result"
    }
   ],
   "source": [
    "df['department'].value_counts(normalize=True)"
   ]
  },
  {
   "cell_type": "markdown",
   "id": "46a0b2ca-378e-465f-b887-a4d348d79e7c",
   "metadata": {},
   "source": [
    "### More cleaning"
   ]
  },
  {
   "cell_type": "markdown",
   "id": "ce4c01e1-d30f-42de-9fc4-94d02b3af182",
   "metadata": {},
   "source": [
    "Changing integers for Year and City into categorical variables"
   ]
  },
  {
   "cell_type": "code",
   "execution_count": 16,
   "id": "61ab4fcb-f90b-458c-9d3f-cefb77417f50",
   "metadata": {
    "tags": []
   },
   "outputs": [],
   "source": [
    "df['year'] = df['year'].astype('category')\n",
    "df['city_id'] = df['city_id'].astype('category')"
   ]
  },
  {
   "cell_type": "code",
   "execution_count": 17,
   "id": "f4bc1859-25be-4658-9a9e-c03d360a4f3e",
   "metadata": {
    "tags": []
   },
   "outputs": [
    {
     "data": {
      "text/plain": [
       "year                       0\n",
       "department                 0\n",
       "job_title                546\n",
       "base_salary              699\n",
       "overtime               33382\n",
       "irregular_cash           434\n",
       "total_cash                 0\n",
       "retirement                 0\n",
       "health                 18987\n",
       "other_benefits        636032\n",
       "total_benefits             0\n",
       "total_compensation         0\n",
       "city_id                    0\n",
       "annual_average_cpi         0\n",
       "inflation_rate             0\n",
       "dtype: int64"
      ]
     },
     "execution_count": 17,
     "metadata": {},
     "output_type": "execute_result"
    }
   ],
   "source": [
    "df.isna().sum()"
   ]
  },
  {
   "cell_type": "markdown",
   "id": "39e5b060-33bf-4a3c-ab46-62365d985bfe",
   "metadata": {},
   "source": [
    "I feel justified filling in the null values for `health` /  `other_benefits` / `overtime` with 0 because it's the single most common practice"
   ]
  },
  {
   "cell_type": "code",
   "execution_count": 18,
   "id": "1c4c90c8-b107-4ebe-acec-615e9d7f82f8",
   "metadata": {
    "tags": []
   },
   "outputs": [
    {
     "data": {
      "image/png": "[encoded data removed]",
      "text/plain": [
       "<Figure size 600x300 with 1 Axes>"
      ]
     },
     "metadata": {},
     "output_type": "display_data"
    }
   ],
   "source": [
    "plt.figure(figsize=(6,3))\n",
    "plt.xlim(-10000,50000)\n",
    "df['health'].plot.hist(bins=1000);"
   ]
  },
  {
   "cell_type": "code",
   "execution_count": 19,
   "id": "4bdea3ee-0cf0-45eb-9a5c-a4ddc4775d3d",
   "metadata": {
    "tags": []
   },
   "outputs": [
    {
     "data": {
      "image/png": "[encoded data removed]",
      "text/plain": [
       "<Figure size 600x300 with 1 Axes>"
      ]
     },
     "metadata": {},
     "output_type": "display_data"
    }
   ],
   "source": [
    "plt.figure(figsize=(6,3))\n",
    "#plt.xlim(-5000,30000)\n",
    "df['other_benefits'].plot.hist(bins=1000);"
   ]
  },
  {
   "cell_type": "code",
   "execution_count": 20,
   "id": "59aca33a-a8dc-449a-ba4d-decc983fe422",
   "metadata": {
    "tags": []
   },
   "outputs": [
    {
     "data": {
      "image/png": "[encoded data removed]",
      "text/plain": [
       "<Figure size 600x300 with 1 Axes>"
      ]
     },
     "metadata": {},
     "output_type": "display_data"
    }
   ],
   "source": [
    "plt.figure(figsize=(6,3))\n",
    "plt.xlim(-5000,30000)\n",
    "df['overtime'].plot.hist(bins=2000);"
   ]
  },
  {
   "cell_type": "code",
   "execution_count": 21,
   "id": "da2a56b3-a0b9-467b-8248-b6f415102861",
   "metadata": {
    "tags": []
   },
   "outputs": [
    {
     "data": {
      "text/plain": [
       "year                  0\n",
       "department            0\n",
       "job_title             0\n",
       "base_salary           0\n",
       "overtime              0\n",
       "irregular_cash        0\n",
       "total_cash            0\n",
       "retirement            0\n",
       "health                0\n",
       "other_benefits        0\n",
       "total_benefits        0\n",
       "total_compensation    0\n",
       "city_id               0\n",
       "annual_average_cpi    0\n",
       "inflation_rate        0\n",
       "dtype: int64"
      ]
     },
     "execution_count": 21,
     "metadata": {},
     "output_type": "execute_result"
    }
   ],
   "source": [
    "df['job_title'] = df['job_title'].fillna(\"Not disclosed\")\n",
    "df['overtime'] = df['overtime'].fillna(0)\n",
    "df['irregular_cash'] = df['irregular_cash'].fillna(0)\n",
    "df['health'] = df['health'].fillna(0)\n",
    "df['other_benefits'] = df['other_benefits'].fillna(0)\n",
    "\n",
    "df['base_salary'] = df['base_salary'].fillna((df['total_cash'] - df['overtime'] - df['irregular_cash']))\n",
    "\n",
    "df.isna().sum()"
   ]
  },
  {
   "cell_type": "code",
   "execution_count": 22,
   "id": "b81d5f51-0840-49ac-92f9-d2a99b8f51c3",
   "metadata": {
    "tags": []
   },
   "outputs": [
    {
     "data": {
      "text/html": [
       "<div>\n",
       "<style scoped>\n",
       "    .dataframe tbody tr th:only-of-type {\n",
       "        vertical-align: middle;\n",
       "    }\n",
       "\n",
       "    .dataframe tbody tr th {\n",
       "        vertical-align: top;\n",
       "    }\n",
       "\n",
       "    .dataframe thead th {\n",
       "        text-align: right;\n",
       "    }\n",
       "</style>\n",
       "<table border=\"1\" class=\"dataframe\">\n",
       "  <thead>\n",
       "    <tr style=\"text-align: right;\">\n",
       "      <th></th>\n",
       "      <th>year</th>\n",
       "      <th>department</th>\n",
       "      <th>job_title</th>\n",
       "      <th>base_salary</th>\n",
       "      <th>overtime</th>\n",
       "      <th>irregular_cash</th>\n",
       "      <th>total_cash</th>\n",
       "      <th>retirement</th>\n",
       "      <th>health</th>\n",
       "      <th>other_benefits</th>\n",
       "      <th>total_benefits</th>\n",
       "      <th>total_compensation</th>\n",
       "      <th>city_id</th>\n",
       "      <th>annual_average_cpi</th>\n",
       "      <th>inflation_rate</th>\n",
       "    </tr>\n",
       "  </thead>\n",
       "  <tbody>\n",
       "    <tr>\n",
       "      <th>13435</th>\n",
       "      <td>2019</td>\n",
       "      <td>Port</td>\n",
       "      <td>SECURITY OFFICER</td>\n",
       "      <td>-7637.56</td>\n",
       "      <td>0.00</td>\n",
       "      <td>7637.56</td>\n",
       "      <td>0.00</td>\n",
       "      <td>1184.13</td>\n",
       "      <td>647.20</td>\n",
       "      <td>0.00</td>\n",
       "      <td>1831.33</td>\n",
       "      <td>1831.33</td>\n",
       "      <td>3</td>\n",
       "      <td>255.7</td>\n",
       "      <td>1.8</td>\n",
       "    </tr>\n",
       "    <tr>\n",
       "      <th>16831</th>\n",
       "      <td>2019</td>\n",
       "      <td>Public Works</td>\n",
       "      <td>PS Aide Health Services</td>\n",
       "      <td>-140.53</td>\n",
       "      <td>0.00</td>\n",
       "      <td>0.00</td>\n",
       "      <td>-140.53</td>\n",
       "      <td>-31.80</td>\n",
       "      <td>591.20</td>\n",
       "      <td>-10.91</td>\n",
       "      <td>548.49</td>\n",
       "      <td>407.96</td>\n",
       "      <td>2</td>\n",
       "      <td>255.7</td>\n",
       "      <td>1.8</td>\n",
       "    </tr>\n",
       "    <tr>\n",
       "      <th>22478</th>\n",
       "      <td>2019</td>\n",
       "      <td>Parks</td>\n",
       "      <td>Not disclosed</td>\n",
       "      <td>-61.44</td>\n",
       "      <td>184.32</td>\n",
       "      <td>0.00</td>\n",
       "      <td>122.88</td>\n",
       "      <td>0.00</td>\n",
       "      <td>0.00</td>\n",
       "      <td>0.00</td>\n",
       "      <td>0.00</td>\n",
       "      <td>122.88</td>\n",
       "      <td>3</td>\n",
       "      <td>255.7</td>\n",
       "      <td>1.8</td>\n",
       "    </tr>\n",
       "    <tr>\n",
       "      <th>27136</th>\n",
       "      <td>2019</td>\n",
       "      <td>Police</td>\n",
       "      <td>POLICE OFFICER II</td>\n",
       "      <td>-14952.00</td>\n",
       "      <td>358.80</td>\n",
       "      <td>17985.10</td>\n",
       "      <td>3391.90</td>\n",
       "      <td>0.00</td>\n",
       "      <td>0.00</td>\n",
       "      <td>0.00</td>\n",
       "      <td>0.00</td>\n",
       "      <td>3391.90</td>\n",
       "      <td>3</td>\n",
       "      <td>255.7</td>\n",
       "      <td>1.8</td>\n",
       "    </tr>\n",
       "    <tr>\n",
       "      <th>27549</th>\n",
       "      <td>2019</td>\n",
       "      <td>Port</td>\n",
       "      <td>GARDENER CARETAKER</td>\n",
       "      <td>-789.64</td>\n",
       "      <td>0.00</td>\n",
       "      <td>789.64</td>\n",
       "      <td>0.00</td>\n",
       "      <td>0.00</td>\n",
       "      <td>0.00</td>\n",
       "      <td>0.00</td>\n",
       "      <td>0.00</td>\n",
       "      <td>0.00</td>\n",
       "      <td>3</td>\n",
       "      <td>255.7</td>\n",
       "      <td>1.8</td>\n",
       "    </tr>\n",
       "    <tr>\n",
       "      <th>...</th>\n",
       "      <td>...</td>\n",
       "      <td>...</td>\n",
       "      <td>...</td>\n",
       "      <td>...</td>\n",
       "      <td>...</td>\n",
       "      <td>...</td>\n",
       "      <td>...</td>\n",
       "      <td>...</td>\n",
       "      <td>...</td>\n",
       "      <td>...</td>\n",
       "      <td>...</td>\n",
       "      <td>...</td>\n",
       "      <td>...</td>\n",
       "      <td>...</td>\n",
       "      <td>...</td>\n",
       "    </tr>\n",
       "    <tr>\n",
       "      <th>1439466</th>\n",
       "      <td>2021</td>\n",
       "      <td>Police</td>\n",
       "      <td>POLICE OFFICER II</td>\n",
       "      <td>-520.90</td>\n",
       "      <td>6675.33</td>\n",
       "      <td>0.00</td>\n",
       "      <td>6154.43</td>\n",
       "      <td>0.00</td>\n",
       "      <td>0.00</td>\n",
       "      <td>0.00</td>\n",
       "      <td>0.00</td>\n",
       "      <td>6154.43</td>\n",
       "      <td>3</td>\n",
       "      <td>271.0</td>\n",
       "      <td>4.7</td>\n",
       "    </tr>\n",
       "    <tr>\n",
       "      <th>1444156</th>\n",
       "      <td>2019</td>\n",
       "      <td>Public Works</td>\n",
       "      <td>TRAFFIC OFFICER I</td>\n",
       "      <td>-1760.00</td>\n",
       "      <td>0.00</td>\n",
       "      <td>1760.00</td>\n",
       "      <td>0.00</td>\n",
       "      <td>522.02</td>\n",
       "      <td>328.28</td>\n",
       "      <td>0.00</td>\n",
       "      <td>850.30</td>\n",
       "      <td>850.30</td>\n",
       "      <td>3</td>\n",
       "      <td>255.7</td>\n",
       "      <td>1.8</td>\n",
       "    </tr>\n",
       "    <tr>\n",
       "      <th>1452282</th>\n",
       "      <td>2014</td>\n",
       "      <td>City Mgmt</td>\n",
       "      <td>EVENT ATTENDANT II</td>\n",
       "      <td>-111.28</td>\n",
       "      <td>166.92</td>\n",
       "      <td>1.85</td>\n",
       "      <td>57.49</td>\n",
       "      <td>0.00</td>\n",
       "      <td>0.00</td>\n",
       "      <td>0.00</td>\n",
       "      <td>0.00</td>\n",
       "      <td>57.49</td>\n",
       "      <td>3</td>\n",
       "      <td>236.7</td>\n",
       "      <td>1.6</td>\n",
       "    </tr>\n",
       "    <tr>\n",
       "      <th>1453404</th>\n",
       "      <td>2014</td>\n",
       "      <td>Police</td>\n",
       "      <td>POLICE OFFICER II</td>\n",
       "      <td>-120.72</td>\n",
       "      <td>2981.78</td>\n",
       "      <td>8446.12</td>\n",
       "      <td>11307.18</td>\n",
       "      <td>-56.56</td>\n",
       "      <td>0.00</td>\n",
       "      <td>0.00</td>\n",
       "      <td>-56.56</td>\n",
       "      <td>11250.62</td>\n",
       "      <td>3</td>\n",
       "      <td>236.7</td>\n",
       "      <td>1.6</td>\n",
       "    </tr>\n",
       "    <tr>\n",
       "      <th>1466019</th>\n",
       "      <td>2015</td>\n",
       "      <td>Police</td>\n",
       "      <td>DETENTION OFFICER</td>\n",
       "      <td>-232.95</td>\n",
       "      <td>463.96</td>\n",
       "      <td>3907.92</td>\n",
       "      <td>4138.93</td>\n",
       "      <td>0.00</td>\n",
       "      <td>0.00</td>\n",
       "      <td>0.00</td>\n",
       "      <td>0.00</td>\n",
       "      <td>4138.93</td>\n",
       "      <td>3</td>\n",
       "      <td>237.0</td>\n",
       "      <td>0.1</td>\n",
       "    </tr>\n",
       "  </tbody>\n",
       "</table>\n",
       "<p>403 rows × 15 columns</p>\n",
       "</div>"
      ],
      "text/plain": [
       "         year    department                job_title  base_salary  overtime  \\\n",
       "13435    2019          Port         SECURITY OFFICER     -7637.56      0.00   \n",
       "16831    2019  Public Works  PS Aide Health Services      -140.53      0.00   \n",
       "22478    2019         Parks            Not disclosed       -61.44    184.32   \n",
       "27136    2019        Police        POLICE OFFICER II    -14952.00    358.80   \n",
       "27549    2019          Port       GARDENER CARETAKER      -789.64      0.00   \n",
       "...       ...           ...                      ...          ...       ...   \n",
       "1439466  2021        Police        POLICE OFFICER II      -520.90   6675.33   \n",
       "1444156  2019  Public Works        TRAFFIC OFFICER I     -1760.00      0.00   \n",
       "1452282  2014     City Mgmt       EVENT ATTENDANT II      -111.28    166.92   \n",
       "1453404  2014        Police        POLICE OFFICER II      -120.72   2981.78   \n",
       "1466019  2015        Police        DETENTION OFFICER      -232.95    463.96   \n",
       "\n",
       "         irregular_cash  total_cash  retirement  health  other_benefits  \\\n",
       "13435           7637.56        0.00     1184.13  647.20            0.00   \n",
       "16831              0.00     -140.53      -31.80  591.20          -10.91   \n",
       "22478              0.00      122.88        0.00    0.00            0.00   \n",
       "27136          17985.10     3391.90        0.00    0.00            0.00   \n",
       "27549            789.64        0.00        0.00    0.00            0.00   \n",
       "...                 ...         ...         ...     ...             ...   \n",
       "1439466            0.00     6154.43        0.00    0.00            0.00   \n",
       "1444156         1760.00        0.00      522.02  328.28            0.00   \n",
       "1452282            1.85       57.49        0.00    0.00            0.00   \n",
       "1453404         8446.12    11307.18      -56.56    0.00            0.00   \n",
       "1466019         3907.92     4138.93        0.00    0.00            0.00   \n",
       "\n",
       "         total_benefits  total_compensation city_id  annual_average_cpi  \\\n",
       "13435           1831.33             1831.33       3               255.7   \n",
       "16831            548.49              407.96       2               255.7   \n",
       "22478              0.00              122.88       3               255.7   \n",
       "27136              0.00             3391.90       3               255.7   \n",
       "27549              0.00                0.00       3               255.7   \n",
       "...                 ...                 ...     ...                 ...   \n",
       "1439466            0.00             6154.43       3               271.0   \n",
       "1444156          850.30              850.30       3               255.7   \n",
       "1452282            0.00               57.49       3               236.7   \n",
       "1453404          -56.56            11250.62       3               236.7   \n",
       "1466019            0.00             4138.93       3               237.0   \n",
       "\n",
       "         inflation_rate  \n",
       "13435               1.8  \n",
       "16831               1.8  \n",
       "22478               1.8  \n",
       "27136               1.8  \n",
       "27549               1.8  \n",
       "...                 ...  \n",
       "1439466             4.7  \n",
       "1444156             1.8  \n",
       "1452282             1.6  \n",
       "1453404             1.6  \n",
       "1466019             0.1  \n",
       "\n",
       "[403 rows x 15 columns]"
      ]
     },
     "execution_count": 22,
     "metadata": {},
     "output_type": "execute_result"
    }
   ],
   "source": [
    "df[df['base_salary'] < 0]"
   ]
  },
  {
   "cell_type": "code",
   "execution_count": null,
   "id": "7b05985e-6bbc-4120-a8e7-f24456bfc540",
   "metadata": {},
   "outputs": [],
   "source": []
  },
  {
   "cell_type": "code",
   "execution_count": null,
   "id": "4ed66fa7-b8b8-4f3f-a627-1623e379c0a5",
   "metadata": {},
   "outputs": [],
   "source": []
  },
  {
   "cell_type": "code",
   "execution_count": 23,
   "id": "d7681f0e-939d-43d3-9044-af6a1c10c7a3",
   "metadata": {
    "tags": []
   },
   "outputs": [
    {
     "data": {
      "image/png": "[encoded data removed]",
      "text/plain": [
       "<Figure size 1200x600 with 1 Axes>"
      ]
     },
     "metadata": {},
     "output_type": "display_data"
    }
   ],
   "source": [
    "plt.figure(figsize=(12,6))\n",
    "sns.boxplot(data=df,x='department',y='base_salary')\n",
    "plt.xticks(rotation=90);"
   ]
  },
  {
   "cell_type": "code",
   "execution_count": null,
   "id": "b7b1ba87-6bc8-484d-8f5d-94bd6b56a192",
   "metadata": {},
   "outputs": [],
   "source": []
  },
  {
   "cell_type": "code",
   "execution_count": null,
   "id": "ff7fda8f-d4e3-4afd-a04e-ad2f3a0900a3",
   "metadata": {},
   "outputs": [],
   "source": []
  },
  {
   "cell_type": "code",
   "execution_count": null,
   "id": "27c47999-a00a-4cd1-84d0-d14df400475f",
   "metadata": {},
   "outputs": [],
   "source": []
  },
  {
   "cell_type": "code",
   "execution_count": 24,
   "id": "aba6df01-1c6a-4514-8f91-b55f7dec0439",
   "metadata": {},
   "outputs": [
    {
     "data": {
      "text/plain": [
       "<matplotlib.axes._subplots.AxesSubplot at 0x7f32b88a7310>"
      ]
     },
     "execution_count": 24,
     "metadata": {},
     "output_type": "execute_result"
    },
    {
     "data": {
      "image/png": "[encoded data removed]",
      "text/plain": [
       "<Figure size 640x480 with 1 Axes>"
      ]
     },
     "metadata": {},
     "output_type": "display_data"
    }
   ],
   "source": [
    "df.groupby('year')['base_salary'].mean().plot.bar()"
   ]
  },
  {
   "cell_type": "markdown",
   "id": "719c3381-98aa-41dd-a5ad-fee91a2e64c1",
   "metadata": {},
   "source": [
    "### Adjusting all numbers to present-day CPI"
   ]
  },
  {
   "cell_type": "code",
   "execution_count": 25,
   "id": "c739adec-27ac-4bab-b502-2c022834b0b9",
   "metadata": {
    "tags": []
   },
   "outputs": [],
   "source": [
    "df['base_salary'] = df['base_salary'] * (df['annual_average_cpi'].max() / df['annual_average_cpi'])\n",
    "df['overtime'] = df['overtime'] * (df['annual_average_cpi'].max() / df['annual_average_cpi'])\n",
    "df['irregular_cash'] = df['irregular_cash'] * (df['annual_average_cpi'].max() / df['annual_average_cpi'])\n",
    "df['total_cash'] = df['total_cash'] * (df['annual_average_cpi'].max() / df['annual_average_cpi'])\n",
    "\n",
    "df['retirement'] = df['retirement'] * (df['annual_average_cpi'].max() / df['annual_average_cpi'])\n",
    "df['health'] = df['health'] * (df['annual_average_cpi'].max() / df['annual_average_cpi'])\n",
    "df['other_benefits'] = df['other_benefits'] * (df['annual_average_cpi'].max() / df['annual_average_cpi'])\n",
    "df['total_benefits'] = df['total_benefits'] * (df['annual_average_cpi'].max() / df['annual_average_cpi'])\n",
    "df['total_compensation'] = df['total_compensation'] * (df['annual_average_cpi'].max() / df['annual_average_cpi'])"
   ]
  },
  {
   "cell_type": "code",
   "execution_count": 26,
   "id": "7b5848e7-143d-47cc-8716-02421be4fa14",
   "metadata": {
    "tags": []
   },
   "outputs": [
    {
     "data": {
      "text/html": [
       "<div>\n",
       "<style scoped>\n",
       "    .dataframe tbody tr th:only-of-type {\n",
       "        vertical-align: middle;\n",
       "    }\n",
       "\n",
       "    .dataframe tbody tr th {\n",
       "        vertical-align: top;\n",
       "    }\n",
       "\n",
       "    .dataframe thead th {\n",
       "        text-align: right;\n",
       "    }\n",
       "</style>\n",
       "<table border=\"1\" class=\"dataframe\">\n",
       "  <thead>\n",
       "    <tr style=\"text-align: right;\">\n",
       "      <th></th>\n",
       "      <th>year</th>\n",
       "      <th>department</th>\n",
       "      <th>job_title</th>\n",
       "      <th>base_salary</th>\n",
       "      <th>overtime</th>\n",
       "      <th>irregular_cash</th>\n",
       "      <th>total_cash</th>\n",
       "      <th>retirement</th>\n",
       "      <th>health</th>\n",
       "      <th>other_benefits</th>\n",
       "      <th>total_benefits</th>\n",
       "      <th>total_compensation</th>\n",
       "      <th>city_id</th>\n",
       "      <th>annual_average_cpi</th>\n",
       "      <th>inflation_rate</th>\n",
       "    </tr>\n",
       "  </thead>\n",
       "  <tbody>\n",
       "    <tr>\n",
       "      <th>0</th>\n",
       "      <td>2020</td>\n",
       "      <td>Parks</td>\n",
       "      <td>Camp Assistant</td>\n",
       "      <td>5505.341963</td>\n",
       "      <td>0.000000</td>\n",
       "      <td>145.887635</td>\n",
       "      <td>5651.229598</td>\n",
       "      <td>0.000000</td>\n",
       "      <td>0.000000</td>\n",
       "      <td>438.626275</td>\n",
       "      <td>438.626275</td>\n",
       "      <td>6089.855873</td>\n",
       "      <td>2</td>\n",
       "      <td>258.8</td>\n",
       "      <td>1.2</td>\n",
       "    </tr>\n",
       "    <tr>\n",
       "      <th>1</th>\n",
       "      <td>2020</td>\n",
       "      <td>City Mgmt</td>\n",
       "      <td>Junior Clerk</td>\n",
       "      <td>8062.134815</td>\n",
       "      <td>2007.263910</td>\n",
       "      <td>0.000000</td>\n",
       "      <td>10069.398725</td>\n",
       "      <td>0.000000</td>\n",
       "      <td>0.000000</td>\n",
       "      <td>781.543895</td>\n",
       "      <td>781.543895</td>\n",
       "      <td>10850.942620</td>\n",
       "      <td>2</td>\n",
       "      <td>258.8</td>\n",
       "      <td>1.2</td>\n",
       "    </tr>\n",
       "    <tr>\n",
       "      <th>2</th>\n",
       "      <td>2020</td>\n",
       "      <td>City Mgmt</td>\n",
       "      <td>Junior Clerk</td>\n",
       "      <td>2742.618431</td>\n",
       "      <td>974.364374</td>\n",
       "      <td>0.000000</td>\n",
       "      <td>3716.982805</td>\n",
       "      <td>0.000000</td>\n",
       "      <td>0.000000</td>\n",
       "      <td>288.497720</td>\n",
       "      <td>288.497720</td>\n",
       "      <td>4005.480526</td>\n",
       "      <td>2</td>\n",
       "      <td>258.8</td>\n",
       "      <td>1.2</td>\n",
       "    </tr>\n",
       "    <tr>\n",
       "      <th>3</th>\n",
       "      <td>2020</td>\n",
       "      <td>City Mgmt</td>\n",
       "      <td>Clerk</td>\n",
       "      <td>1958.802241</td>\n",
       "      <td>619.090495</td>\n",
       "      <td>0.000000</td>\n",
       "      <td>2577.892736</td>\n",
       "      <td>0.000000</td>\n",
       "      <td>0.000000</td>\n",
       "      <td>200.077164</td>\n",
       "      <td>200.077164</td>\n",
       "      <td>2777.969900</td>\n",
       "      <td>2</td>\n",
       "      <td>258.8</td>\n",
       "      <td>1.2</td>\n",
       "    </tr>\n",
       "    <tr>\n",
       "      <th>4</th>\n",
       "      <td>2020</td>\n",
       "      <td>Public Works</td>\n",
       "      <td>Engineer</td>\n",
       "      <td>166298.647372</td>\n",
       "      <td>0.000000</td>\n",
       "      <td>5944.554637</td>\n",
       "      <td>172243.202009</td>\n",
       "      <td>35106.269861</td>\n",
       "      <td>15799.729328</td>\n",
       "      <td>12219.283192</td>\n",
       "      <td>63125.282380</td>\n",
       "      <td>235368.484389</td>\n",
       "      <td>2</td>\n",
       "      <td>258.8</td>\n",
       "      <td>1.2</td>\n",
       "    </tr>\n",
       "  </tbody>\n",
       "</table>\n",
       "</div>"
      ],
      "text/plain": [
       "   year    department       job_title    base_salary     overtime  \\\n",
       "0  2020         Parks  Camp Assistant    5505.341963     0.000000   \n",
       "1  2020     City Mgmt    Junior Clerk    8062.134815  2007.263910   \n",
       "2  2020     City Mgmt    Junior Clerk    2742.618431   974.364374   \n",
       "3  2020     City Mgmt           Clerk    1958.802241   619.090495   \n",
       "4  2020  Public Works        Engineer  166298.647372     0.000000   \n",
       "\n",
       "   irregular_cash     total_cash    retirement        health  other_benefits  \\\n",
       "0      145.887635    5651.229598      0.000000      0.000000      438.626275   \n",
       "1        0.000000   10069.398725      0.000000      0.000000      781.543895   \n",
       "2        0.000000    3716.982805      0.000000      0.000000      288.497720   \n",
       "3        0.000000    2577.892736      0.000000      0.000000      200.077164   \n",
       "4     5944.554637  172243.202009  35106.269861  15799.729328    12219.283192   \n",
       "\n",
       "   total_benefits  total_compensation city_id  annual_average_cpi  \\\n",
       "0      438.626275         6089.855873       2               258.8   \n",
       "1      781.543895        10850.942620       2               258.8   \n",
       "2      288.497720         4005.480526       2               258.8   \n",
       "3      200.077164         2777.969900       2               258.8   \n",
       "4    63125.282380       235368.484389       2               258.8   \n",
       "\n",
       "   inflation_rate  \n",
       "0             1.2  \n",
       "1             1.2  \n",
       "2             1.2  \n",
       "3             1.2  \n",
       "4             1.2  "
      ]
     },
     "execution_count": 26,
     "metadata": {},
     "output_type": "execute_result"
    }
   ],
   "source": [
    "df.head()"
   ]
  },
  {
   "cell_type": "markdown",
   "id": "8982bf20-08eb-4ff5-82c4-1f5023057e87",
   "metadata": {},
   "source": [
    "### Some visuals"
   ]
  },
  {
   "cell_type": "code",
   "execution_count": 27,
   "id": "2a6d37d8-ab6f-462a-912c-29fb52058c43",
   "metadata": {
    "tags": []
   },
   "outputs": [
    {
     "data": {
      "image/png": "[encoded data removed]",
      "text/plain": [
       "<Figure size 640x480 with 1 Axes>"
      ]
     },
     "metadata": {},
     "output_type": "display_data"
    }
   ],
   "source": [
    "df.groupby('year')['base_salary'].mean().plot.bar()\n",
    "plt.title(\"Inflation-adjusted average salaries\");"
   ]
  },
  {
   "cell_type": "code",
   "execution_count": 28,
   "id": "4c49ba37-143f-421a-be5d-059c03704ba6",
   "metadata": {
    "tags": []
   },
   "outputs": [
    {
     "data": {
      "image/png": "[encoded data removed]",
      "text/plain": [
       "<Figure size 640x480 with 1 Axes>"
      ]
     },
     "metadata": {},
     "output_type": "display_data"
    }
   ],
   "source": [
    "df.groupby('year')['overtime'].mean().plot.bar()\n",
    "plt.title(\"Inflation-adjusted average overtime\");"
   ]
  },
  {
   "cell_type": "code",
   "execution_count": 29,
   "id": "92d3ec91-bdc1-465a-82c7-0eb807cc8125",
   "metadata": {
    "tags": []
   },
   "outputs": [
    {
     "data": {
      "image/png": "[encoded data removed]",
      "text/plain": [
       "<Figure size 640x480 with 1 Axes>"
      ]
     },
     "metadata": {},
     "output_type": "display_data"
    }
   ],
   "source": [
    "df.groupby('year')['total_cash'].mean().plot.bar()\n",
    "plt.title(\"Inflation-adjusted average total cash\");"
   ]
  },
  {
   "cell_type": "code",
   "execution_count": 30,
   "id": "b78755ce-29a8-425e-9495-9e8131c0ddf4",
   "metadata": {
    "tags": []
   },
   "outputs": [
    {
     "data": {
      "text/plain": [
       "<matplotlib.axes._subplots.AxesSubplot at 0x7f32b11d9e90>"
      ]
     },
     "execution_count": 30,
     "metadata": {},
     "output_type": "execute_result"
    },
    {
     "data": {
      "image/png": "[encoded data removed]",
      "text/plain": [
       "<Figure size 640x480 with 1 Axes>"
      ]
     },
     "metadata": {},
     "output_type": "display_data"
    }
   ],
   "source": [
    "df.groupby(['city_id','year'])['total_cash'].mean().plot.bar()"
   ]
  },
  {
   "cell_type": "code",
   "execution_count": null,
   "id": "582428ef-ef31-46b2-afbb-4b54c2e4ff55",
   "metadata": {},
   "outputs": [],
   "source": []
  },
  {
   "cell_type": "code",
   "execution_count": null,
   "id": "68fd0c9f-855a-4d49-8f98-43ec83ee0f1c",
   "metadata": {},
   "outputs": [],
   "source": []
  },
  {
   "cell_type": "code",
   "execution_count": null,
   "id": "0339c4a1-d9c4-42bc-ad67-e23f1667fd1f",
   "metadata": {},
   "outputs": [],
   "source": []
  },
  {
   "cell_type": "markdown",
   "id": "f979125b-7440-497b-9745-5234256ac5c3",
   "metadata": {},
   "source": [
    "## SageMaker regression\n",
    "Following along here https://towardsdatascience.com/using-aws-sagemakers-linear-learner-to-solve-regression-problems-36732d802ba6"
   ]
  },
  {
   "cell_type": "code",
   "execution_count": 31,
   "id": "48c0077a-2f8c-400a-b5d4-d3d998b4dda5",
   "metadata": {
    "tags": []
   },
   "outputs": [],
   "source": [
    "import sagemaker\n",
    "import boto3\n",
    "\n",
    "sess = sagemaker.Session()\n",
    "role = sagemaker.get_execution_role()\n",
    "bucket = sess.default_bucket()\n",
    "region = boto3.Session().region_name\n",
    "\n",
    "sm = boto3.Session().client(service_name=\"sagemaker\", region_name=region)\n",
    "s3 = boto3.Session().client(service_name=\"s3\", region_name=region)"
   ]
  },
  {
   "cell_type": "code",
   "execution_count": 32,
   "id": "a28bfe9d-33e3-47fa-8c15-daa64bfb29dc",
   "metadata": {},
   "outputs": [],
   "source": [
    "from sagemaker import get_execution_role\n",
    "from sagemaker.sklearn.processing import SKLearnProcessor\n",
    "\n",
    "role = get_execution_role()\n",
    "sklearn_processor = SKLearnProcessor( framework_version=\"0.20.0\", role=role, instance_type=\"ml.m5.xlarge\", instance_count=1)"
   ]
  },
  {
   "cell_type": "code",
   "execution_count": 33,
   "id": "51448333-aee2-4863-bea3-8cc47041811a",
   "metadata": {
    "tags": []
   },
   "outputs": [],
   "source": [
    "from sklearn.model_selection import train_test_split\n",
    "from sklearn.preprocessing import StandardScaler, OneHotEncoder"
   ]
  },
  {
   "cell_type": "code",
   "execution_count": 35,
   "id": "f6b72ef1-cf5e-4c62-8aa8-a3772d379c9d",
   "metadata": {
    "tags": []
   },
   "outputs": [
    {
     "data": {
      "text/html": [
       "<div>\n",
       "<style scoped>\n",
       "    .dataframe tbody tr th:only-of-type {\n",
       "        vertical-align: middle;\n",
       "    }\n",
       "\n",
       "    .dataframe tbody tr th {\n",
       "        vertical-align: top;\n",
       "    }\n",
       "\n",
       "    .dataframe thead th {\n",
       "        text-align: right;\n",
       "    }\n",
       "</style>\n",
       "<table border=\"1\" class=\"dataframe\">\n",
       "  <thead>\n",
       "    <tr style=\"text-align: right;\">\n",
       "      <th></th>\n",
       "      <th>base_salary</th>\n",
       "      <th>overtime</th>\n",
       "      <th>irregular_cash</th>\n",
       "      <th>total_cash</th>\n",
       "      <th>retirement</th>\n",
       "      <th>health</th>\n",
       "      <th>other_benefits</th>\n",
       "      <th>total_benefits</th>\n",
       "      <th>total_compensation</th>\n",
       "      <th>annual_average_cpi</th>\n",
       "      <th>...</th>\n",
       "      <th>year_2019</th>\n",
       "      <th>year_2020</th>\n",
       "      <th>year_2021</th>\n",
       "      <th>department_Parks</th>\n",
       "      <th>department_Public Works</th>\n",
       "      <th>job_title_Clerk</th>\n",
       "      <th>job_title_Engineer</th>\n",
       "      <th>job_title_Junior Clerk</th>\n",
       "      <th>city_id_2</th>\n",
       "      <th>city_id_3</th>\n",
       "    </tr>\n",
       "  </thead>\n",
       "  <tbody>\n",
       "    <tr>\n",
       "      <th>0</th>\n",
       "      <td>5505.341963</td>\n",
       "      <td>0.000000</td>\n",
       "      <td>145.887635</td>\n",
       "      <td>5651.229598</td>\n",
       "      <td>0.000000</td>\n",
       "      <td>0.000000</td>\n",
       "      <td>438.626275</td>\n",
       "      <td>438.626275</td>\n",
       "      <td>6089.855873</td>\n",
       "      <td>258.8</td>\n",
       "      <td>...</td>\n",
       "      <td>0</td>\n",
       "      <td>1</td>\n",
       "      <td>0</td>\n",
       "      <td>1</td>\n",
       "      <td>0</td>\n",
       "      <td>0</td>\n",
       "      <td>0</td>\n",
       "      <td>0</td>\n",
       "      <td>1</td>\n",
       "      <td>0</td>\n",
       "    </tr>\n",
       "    <tr>\n",
       "      <th>1</th>\n",
       "      <td>8062.134815</td>\n",
       "      <td>2007.263910</td>\n",
       "      <td>0.000000</td>\n",
       "      <td>10069.398725</td>\n",
       "      <td>0.000000</td>\n",
       "      <td>0.000000</td>\n",
       "      <td>781.543895</td>\n",
       "      <td>781.543895</td>\n",
       "      <td>10850.942620</td>\n",
       "      <td>258.8</td>\n",
       "      <td>...</td>\n",
       "      <td>0</td>\n",
       "      <td>1</td>\n",
       "      <td>0</td>\n",
       "      <td>0</td>\n",
       "      <td>0</td>\n",
       "      <td>0</td>\n",
       "      <td>0</td>\n",
       "      <td>1</td>\n",
       "      <td>1</td>\n",
       "      <td>0</td>\n",
       "    </tr>\n",
       "    <tr>\n",
       "      <th>2</th>\n",
       "      <td>2742.618431</td>\n",
       "      <td>974.364374</td>\n",
       "      <td>0.000000</td>\n",
       "      <td>3716.982805</td>\n",
       "      <td>0.000000</td>\n",
       "      <td>0.000000</td>\n",
       "      <td>288.497720</td>\n",
       "      <td>288.497720</td>\n",
       "      <td>4005.480526</td>\n",
       "      <td>258.8</td>\n",
       "      <td>...</td>\n",
       "      <td>0</td>\n",
       "      <td>1</td>\n",
       "      <td>0</td>\n",
       "      <td>0</td>\n",
       "      <td>0</td>\n",
       "      <td>0</td>\n",
       "      <td>0</td>\n",
       "      <td>1</td>\n",
       "      <td>1</td>\n",
       "      <td>0</td>\n",
       "    </tr>\n",
       "    <tr>\n",
       "      <th>3</th>\n",
       "      <td>1958.802241</td>\n",
       "      <td>619.090495</td>\n",
       "      <td>0.000000</td>\n",
       "      <td>2577.892736</td>\n",
       "      <td>0.000000</td>\n",
       "      <td>0.000000</td>\n",
       "      <td>200.077164</td>\n",
       "      <td>200.077164</td>\n",
       "      <td>2777.969900</td>\n",
       "      <td>258.8</td>\n",
       "      <td>...</td>\n",
       "      <td>0</td>\n",
       "      <td>1</td>\n",
       "      <td>0</td>\n",
       "      <td>0</td>\n",
       "      <td>0</td>\n",
       "      <td>1</td>\n",
       "      <td>0</td>\n",
       "      <td>0</td>\n",
       "      <td>1</td>\n",
       "      <td>0</td>\n",
       "    </tr>\n",
       "    <tr>\n",
       "      <th>4</th>\n",
       "      <td>166298.647372</td>\n",
       "      <td>0.000000</td>\n",
       "      <td>5944.554637</td>\n",
       "      <td>172243.202009</td>\n",
       "      <td>35106.269861</td>\n",
       "      <td>15799.729328</td>\n",
       "      <td>12219.283192</td>\n",
       "      <td>63125.282380</td>\n",
       "      <td>235368.484389</td>\n",
       "      <td>258.8</td>\n",
       "      <td>...</td>\n",
       "      <td>0</td>\n",
       "      <td>1</td>\n",
       "      <td>0</td>\n",
       "      <td>0</td>\n",
       "      <td>1</td>\n",
       "      <td>0</td>\n",
       "      <td>1</td>\n",
       "      <td>0</td>\n",
       "      <td>1</td>\n",
       "      <td>0</td>\n",
       "    </tr>\n",
       "  </tbody>\n",
       "</table>\n",
       "<p>5 rows × 26 columns</p>\n",
       "</div>"
      ],
      "text/plain": [
       "     base_salary     overtime  irregular_cash     total_cash    retirement  \\\n",
       "0    5505.341963     0.000000      145.887635    5651.229598      0.000000   \n",
       "1    8062.134815  2007.263910        0.000000   10069.398725      0.000000   \n",
       "2    2742.618431   974.364374        0.000000    3716.982805      0.000000   \n",
       "3    1958.802241   619.090495        0.000000    2577.892736      0.000000   \n",
       "4  166298.647372     0.000000     5944.554637  172243.202009  35106.269861   \n",
       "\n",
       "         health  other_benefits  total_benefits  total_compensation  \\\n",
       "0      0.000000      438.626275      438.626275         6089.855873   \n",
       "1      0.000000      781.543895      781.543895        10850.942620   \n",
       "2      0.000000      288.497720      288.497720         4005.480526   \n",
       "3      0.000000      200.077164      200.077164         2777.969900   \n",
       "4  15799.729328    12219.283192    63125.282380       235368.484389   \n",
       "\n",
       "   annual_average_cpi  ...  year_2019  year_2020  year_2021  department_Parks  \\\n",
       "0               258.8  ...          0          1          0                 1   \n",
       "1               258.8  ...          0          1          0                 0   \n",
       "2               258.8  ...          0          1          0                 0   \n",
       "3               258.8  ...          0          1          0                 0   \n",
       "4               258.8  ...          0          1          0                 0   \n",
       "\n",
       "   department_Public Works  job_title_Clerk  job_title_Engineer  \\\n",
       "0                        0                0                   0   \n",
       "1                        0                0                   0   \n",
       "2                        0                0                   0   \n",
       "3                        0                1                   0   \n",
       "4                        1                0                   1   \n",
       "\n",
       "   job_title_Junior Clerk  city_id_2  city_id_3  \n",
       "0                       0          1          0  \n",
       "1                       1          1          0  \n",
       "2                       1          1          0  \n",
       "3                       0          1          0  \n",
       "4                       0          1          0  \n",
       "\n",
       "[5 rows x 26 columns]"
      ]
     },
     "execution_count": 35,
     "metadata": {},
     "output_type": "execute_result"
    }
   ],
   "source": [
    "pd.get_dummies(df.head(),drop_first=True)"
   ]
  },
  {
   "cell_type": "code",
   "execution_count": 82,
   "id": "5eecd9e4-0cf6-45a4-abe8-93686433575e",
   "metadata": {
    "tags": []
   },
   "outputs": [],
   "source": [
    "X = pd.get_dummies(df[['base_salary', 'overtime', 'irregular_cash', 'year',  'department',  'annual_average_cpi', 'city_id']],drop_first=True)\n",
    "y = df['total_benefits']"
   ]
  },
  {
   "cell_type": "code",
   "execution_count": 99,
   "id": "c898aaaa-fc03-423e-855c-99761e1b47f8",
   "metadata": {
    "tags": []
   },
   "outputs": [],
   "source": [
    "X_train, X_test, y_train, y_test = train_test_split(X, y, test_size=0.3, random_state = 0)\n",
    "\n",
    "X_train = X_train.astype('float32')\n",
    "X_test = X_test.astype('float32')\n",
    "\n",
    "y_train = y_train.astype(\"float32\")\n",
    "y_test = y_test.astype(\"float32\")"
   ]
  },
  {
   "cell_type": "code",
   "execution_count": 100,
   "id": "40761e9f-ea49-4d47-8232-2398f8c407eb",
   "metadata": {
    "tags": []
   },
   "outputs": [],
   "source": [
    "sc = StandardScaler()\n",
    "\n",
    "X_train_sc = sc.fit_transform(X_train)\n",
    "X_test_sc = sc.transform(X_test)"
   ]
  },
  {
   "cell_type": "markdown",
   "id": "35dd03cc-c8da-49ab-9c04-fa80ccb1179e",
   "metadata": {
    "tags": []
   },
   "source": [
    "### Following external resource"
   ]
  },
  {
   "cell_type": "code",
   "execution_count": 101,
   "id": "5278e831-c0cb-4c60-b047-ea971f20237a",
   "metadata": {
    "tags": []
   },
   "outputs": [],
   "source": [
    "prefix = \"linear-learner\""
   ]
  },
  {
   "cell_type": "code",
   "execution_count": 102,
   "id": "776b29b6-3f9e-429e-88a8-9756908e0d57",
   "metadata": {
    "tags": []
   },
   "outputs": [],
   "source": [
    "import io\n",
    "import sagemaker.amazon.common as smac\n",
    "import os"
   ]
  },
  {
   "cell_type": "code",
   "execution_count": 103,
   "id": "d0e535c7-b51d-4286-8116-656fc72179ff",
   "metadata": {
    "tags": []
   },
   "outputs": [
    {
     "name": "stdout",
     "output_type": "stream",
     "text": [
      "uploaded training data location: s3://sagemaker-us-east-1-117315948243/linear-learner/train/linear-train-data\n"
     ]
    }
   ],
   "source": [
    "#upload training data\n",
    "buf = io.BytesIO()\n",
    "smac.write_numpy_to_dense_tensor(buf, X_train_sc, y_train.reset_index(drop=True))\n",
    "buf.seek(0)\n",
    "\n",
    "key = 'linear-train-data'\n",
    "\n",
    "boto3.resource('s3').Bucket(bucket).Object(os.path.join(prefix, 'train', key)).upload_fileobj(buf)\n",
    "s3_train_data = 's3://{}/{}/train/{}'.format(bucket, prefix, key)\n",
    "\n",
    "print('uploaded training data location: {}'.format(s3_train_data))"
   ]
  },
  {
   "cell_type": "code",
   "execution_count": 104,
   "id": "aa3e0354-7220-4aef-adf2-78f0f698a5ea",
   "metadata": {
    "tags": []
   },
   "outputs": [
    {
     "name": "stdout",
     "output_type": "stream",
     "text": [
      "uploaded training data location: s3://sagemaker-us-east-1-117315948243/linear-learner/test/linear-test-data\n"
     ]
    }
   ],
   "source": [
    "buf = io.BytesIO()\n",
    "smac.write_numpy_to_dense_tensor(buf, X_test_sc, y_test.reset_index(drop=True))\n",
    "buf.seek(0)\n",
    "\n",
    "key = 'linear-test-data'\n",
    "\n",
    "boto3.resource('s3').Bucket(bucket).Object(os.path.join(prefix, 'test', key)).upload_fileobj(buf)\n",
    "s3_test_data = 's3://{}/{}/test/{}'.format(bucket, prefix, key)\n",
    "\n",
    "print('uploaded training data location: {}'.format(s3_test_data))"
   ]
  },
  {
   "cell_type": "code",
   "execution_count": 105,
   "id": "9d7e4a88-a398-4c0a-b7ec-ca62530ace6f",
   "metadata": {
    "tags": []
   },
   "outputs": [
    {
     "name": "stdout",
     "output_type": "stream",
     "text": [
      "Training artifacts will be uploaded to: s3://sagemaker-us-east-1-117315948243/linear-learner/output\n"
     ]
    }
   ],
   "source": [
    "output_location = 's3://{}/{}/output'.format(bucket, prefix)\n",
    "print('Training artifacts will be uploaded to: {}'.format(output_location))"
   ]
  },
  {
   "cell_type": "markdown",
   "id": "d8f7a764-f283-417f-b104-0463db466e01",
   "metadata": {},
   "source": [
    "#### Training Linear Learner"
   ]
  },
  {
   "cell_type": "code",
   "execution_count": 106,
   "id": "1d926cf4-cc14-4096-a43b-5a4074a058e2",
   "metadata": {
    "tags": []
   },
   "outputs": [],
   "source": [
    "from sagemaker.amazon.amazon_estimator import image_uris"
   ]
  },
  {
   "cell_type": "code",
   "execution_count": 107,
   "id": "c0c9e173-1027-43e9-b4b9-ce00981d90ee",
   "metadata": {
    "tags": []
   },
   "outputs": [
    {
     "name": "stderr",
     "output_type": "stream",
     "text": [
      "INFO:sagemaker.image_uris:Same images used for training and inference. Defaulting to image scope: inference.\n",
      "INFO:sagemaker.image_uris:Defaulting to the only supported framework/algorithm version: 1.\n",
      "INFO:sagemaker.image_uris:Ignoring unnecessary instance type: None.\n"
     ]
    }
   ],
   "source": [
    "container = image_uris.retrieve('linear-learner', boto3.Session().region_name)\n",
    "\n",
    "linear = sagemaker.estimator.Estimator(container,\n",
    "                                       role, \n",
    "                                       instance_count = 1, \n",
    "                                       instance_type = 'ml.c4.xlarge',\n",
    "                                       output_path = output_location,\n",
    "                                       sagemaker_session = sess)"
   ]
  },
  {
   "cell_type": "code",
   "execution_count": 108,
   "id": "d0ab3fe0-2c3d-42f0-83d8-5676b77e1ae6",
   "metadata": {
    "tags": []
   },
   "outputs": [],
   "source": [
    "linear.set_hyperparameters(feature_dim = 25,\n",
    "                           predictor_type = 'regressor',\n",
    "                           mini_batch_size = 20,\n",
    "                           epochs = 5,\n",
    "                           num_models = 10,\n",
    "                           loss = 'absolute_loss')"
   ]
  },
  {
   "cell_type": "code",
   "execution_count": 109,
   "id": "b36e791a-a686-440d-9ace-58bbaa42edb0",
   "metadata": {
    "tags": []
   },
   "outputs": [
    {
     "name": "stderr",
     "output_type": "stream",
     "text": [
      "INFO:sagemaker:Creating training-job with name: linear-learner-2023-04-06-21-42-00-708\n"
     ]
    },
    {
     "name": "stdout",
     "output_type": "stream",
     "text": [
      "2023-04-06 21:42:01 Starting - Starting the training job...\n",
      "2023-04-06 21:42:19 Starting - Preparing the instances for training......\n",
      "2023-04-06 21:43:27 Downloading - Downloading input data...\n",
      "2023-04-06 21:43:58 Training - Downloading the training image........\u001b[34mDocker entrypoint called with argument(s): train\u001b[0m\n",
      "\u001b[34mRunning default environment configuration script\u001b[0m\n",
      "\u001b[34m[04/06/2023 21:45:25 INFO 139636117940032] Reading default configuration from /opt/amazon/lib/python3.7/site-packages/algorithm/resources/default-input.json: {'mini_batch_size': '1000', 'epochs': '15', 'feature_dim': 'auto', 'use_bias': 'true', 'binary_classifier_model_selection_criteria': 'accuracy', 'f_beta': '1.0', 'target_recall': '0.8', 'target_precision': '0.8', 'num_models': 'auto', 'num_calibration_samples': '10000000', 'init_method': 'uniform', 'init_scale': '0.07', 'init_sigma': '0.01', 'init_bias': '0.0', 'optimizer': 'auto', 'loss': 'auto', 'margin': '1.0', 'quantile': '0.5', 'loss_insensitivity': '0.01', 'huber_delta': '1.0', 'num_classes': '1', 'accuracy_top_k': '3', 'wd': 'auto', 'l1': 'auto', 'momentum': 'auto', 'learning_rate': 'auto', 'beta_1': 'auto', 'beta_2': 'auto', 'bias_lr_mult': 'auto', 'bias_wd_mult': 'auto', 'use_lr_scheduler': 'true', 'lr_scheduler_step': 'auto', 'lr_scheduler_factor': 'auto', 'lr_scheduler_minimum_lr': 'auto', 'positive_example_weight_mult': '1.0', 'balance_multiclass_weights': 'false', 'normalize_data': 'true', 'normalize_label': 'auto', 'unbias_data': 'auto', 'unbias_label': 'auto', 'num_point_for_scaler': '10000', '_kvstore': 'auto', '_num_gpus': 'auto', '_num_kv_servers': 'auto', '_log_level': 'info', '_tuning_objective_metric': '', 'early_stopping_patience': '3', 'early_stopping_tolerance': '0.001', '_enable_profiler': 'false'}\u001b[0m\n",
      "\u001b[34m[04/06/2023 21:45:25 INFO 139636117940032] Merging with provided configuration from /opt/ml/input/config/hyperparameters.json: {'epochs': '5', 'feature_dim': '25', 'loss': 'absolute_loss', 'mini_batch_size': '20', 'num_models': '10', 'predictor_type': 'regressor'}\u001b[0m\n",
      "\u001b[34m[04/06/2023 21:45:25 INFO 139636117940032] Final configuration: {'mini_batch_size': '20', 'epochs': '5', 'feature_dim': '25', 'use_bias': 'true', 'binary_classifier_model_selection_criteria': 'accuracy', 'f_beta': '1.0', 'target_recall': '0.8', 'target_precision': '0.8', 'num_models': '10', 'num_calibration_samples': '10000000', 'init_method': 'uniform', 'init_scale': '0.07', 'init_sigma': '0.01', 'init_bias': '0.0', 'optimizer': 'auto', 'loss': 'absolute_loss', 'margin': '1.0', 'quantile': '0.5', 'loss_insensitivity': '0.01', 'huber_delta': '1.0', 'num_classes': '1', 'accuracy_top_k': '3', 'wd': 'auto', 'l1': 'auto', 'momentum': 'auto', 'learning_rate': 'auto', 'beta_1': 'auto', 'beta_2': 'auto', 'bias_lr_mult': 'auto', 'bias_wd_mult': 'auto', 'use_lr_scheduler': 'true', 'lr_scheduler_step': 'auto', 'lr_scheduler_factor': 'auto', 'lr_scheduler_minimum_lr': 'auto', 'positive_example_weight_mult': '1.0', 'balance_multiclass_weights': 'false', 'normalize_data': 'true', 'normalize_label': 'auto', 'unbias_data': 'auto', 'unbias_label': 'auto', 'num_point_for_scaler': '10000', '_kvstore': 'auto', '_num_gpus': 'auto', '_num_kv_servers': 'auto', '_log_level': 'info', '_tuning_objective_metric': '', 'early_stopping_patience': '3', 'early_stopping_tolerance': '0.001', '_enable_profiler': 'false', 'predictor_type': 'regressor'}\u001b[0m\n",
      "\u001b[34m[04/06/2023 21:45:28 WARNING 139636117940032] Loggers have already been setup.\u001b[0m\n",
      "\u001b[34m[04/06/2023 21:45:28 INFO 139636117940032] Final configuration: {'mini_batch_size': '20', 'epochs': '5', 'feature_dim': '25', 'use_bias': 'true', 'binary_classifier_model_selection_criteria': 'accuracy', 'f_beta': '1.0', 'target_recall': '0.8', 'target_precision': '0.8', 'num_models': '10', 'num_calibration_samples': '10000000', 'init_method': 'uniform', 'init_scale': '0.07', 'init_sigma': '0.01', 'init_bias': '0.0', 'optimizer': 'auto', 'loss': 'absolute_loss', 'margin': '1.0', 'quantile': '0.5', 'loss_insensitivity': '0.01', 'huber_delta': '1.0', 'num_classes': '1', 'accuracy_top_k': '3', 'wd': 'auto', 'l1': 'auto', 'momentum': 'auto', 'learning_rate': 'auto', 'beta_1': 'auto', 'beta_2': 'auto', 'bias_lr_mult': 'auto', 'bias_wd_mult': 'auto', 'use_lr_scheduler': 'true', 'lr_scheduler_step': 'auto', 'lr_scheduler_factor': 'auto', 'lr_scheduler_minimum_lr': 'auto', 'positive_example_weight_mult': '1.0', 'balance_multiclass_weights': 'false', 'normalize_data': 'true', 'normalize_label': 'auto', 'unbias_data': 'auto', 'unbias_label': 'auto', 'num_point_for_scaler': '10000', '_kvstore': 'auto', '_num_gpus': 'auto', '_num_kv_servers': 'auto', '_log_level': 'info', '_tuning_objective_metric': '', 'early_stopping_patience': '3', 'early_stopping_tolerance': '0.001', '_enable_profiler': 'false', 'predictor_type': 'regressor'}\u001b[0m\n",
      "\u001b[34m[04/06/2023 21:45:28 WARNING 139636117940032] Loggers have already been setup.\u001b[0m\n",
      "\u001b[34mProcess 7 is a worker.\u001b[0m\n",
      "\u001b[34m[04/06/2023 21:45:28 INFO 139636117940032] Using default worker.\u001b[0m\n",
      "\u001b[34m[04/06/2023 21:45:28 INFO 139636117940032] Checkpoint loading and saving are disabled.\u001b[0m\n",
      "\u001b[34m[2023-04-06 21:45:28.695] [tensorio] [info] epoch_stats={\"data_pipeline\": \"/opt/ml/input/data/train\", \"epoch\": 0, \"duration\": 34, \"num_examples\": 1, \"num_bytes\": 2880}\u001b[0m\n",
      "\u001b[34m[04/06/2023 21:45:28 INFO 139636117940032] Create Store: local\u001b[0m\n",
      "\n",
      "2023-04-06 21:45:18 Training - Training image download completed. Training in progress.\u001b[34m[2023-04-06 21:45:31.996] [tensorio] [info] epoch_stats={\"data_pipeline\": \"/opt/ml/input/data/train\", \"epoch\": 1, \"duration\": 3300, \"num_examples\": 501, \"num_bytes\": 1442880}\u001b[0m\n",
      "\u001b[34m[04/06/2023 21:45:31 INFO 139636117940032] Scaler algorithm parameters\n",
      " <algorithm.scaler.ScalerAlgorithmStable object at 0x7eff009854d0>\u001b[0m\n",
      "\u001b[34m[04/06/2023 21:45:31 INFO 139636117940032] Scaling model computed with parameters:\n",
      " {'stdev_label': \u001b[0m\n",
      "\u001b[34m[24151.914]\u001b[0m\n",
      "\u001b[34m<NDArray 1 @cpu(0)>, 'stdev_weight': \u001b[0m\n",
      "\u001b[34m[1.0025886  0.9798619  1.0517213  0.9833616  0.9938397  1.0055946\n",
      " 1.0031267  1.0087105  1.0286226  1.0008031  0.98754025 0.96758264\n",
      " 0.9833613  1.0037589  1.0357529  0.9962312  1.0071249  1.007429\n",
      " 1.0013174  0.99462456 0.9987299  1.0222116  0.99934596 0.9999126\n",
      " 0.999704  ]\u001b[0m\n",
      "\u001b[34m<NDArray 25 @cpu(0)>, 'mean_label': \u001b[0m\n",
      "\u001b[34m[32464.303]\u001b[0m\n",
      "\u001b[34m<NDArray 1 @cpu(0)>, 'mean_weight': \u001b[0m\n",
      "\u001b[34m[ 1.4473288e-02  3.4424127e-05  1.2415959e-02 -1.6292194e-02\n",
      " -4.7600796e-03  4.5174169e-03  2.6007164e-03  7.1570054e-03\n",
      "  2.4697648e-02  6.7498034e-04 -1.0131971e-02 -2.4697363e-02\n",
      " -8.7080505e-03  5.3957407e-04  8.9089014e-03 -2.5263566e-03\n",
      "  1.3082669e-03  2.1557948e-03  4.1018651e-04 -3.9560972e-03\n",
      " -1.3596788e-03  1.6840592e-02 -2.7397729e-03  2.4492587e-03\n",
      " -2.1974726e-03]\u001b[0m\n",
      "\u001b[34m<NDArray 25 @cpu(0)>}\u001b[0m\n",
      "\u001b[34m[04/06/2023 21:45:32 INFO 139636117940032] nvidia-smi: took 0.032 seconds to run.\u001b[0m\n",
      "\u001b[34m[04/06/2023 21:45:32 INFO 139636117940032] nvidia-smi identified 0 GPUs.\u001b[0m\n",
      "\u001b[34m[04/06/2023 21:45:32 INFO 139636117940032] Number of GPUs being used: 0\u001b[0m\n",
      "\u001b[34m#metrics {\"StartTime\": 1680817532.0524197, \"EndTime\": 1680817532.0524564, \"Dimensions\": {\"Algorithm\": \"Linear Learner\", \"Host\": \"algo-1\", \"Operation\": \"training\", \"Meta\": \"init_train_data_iter\"}, \"Metrics\": {\"Total Records Seen\": {\"sum\": 10040.0, \"count\": 1, \"min\": 10040, \"max\": 10040}, \"Total Batches Seen\": {\"sum\": 502.0, \"count\": 1, \"min\": 502, \"max\": 502}, \"Max Records Seen Between Resets\": {\"sum\": 10020.0, \"count\": 1, \"min\": 10020, \"max\": 10020}, \"Max Batches Seen Between Resets\": {\"sum\": 501.0, \"count\": 1, \"min\": 501, \"max\": 501}, \"Reset Count\": {\"sum\": 2.0, \"count\": 1, \"min\": 2, \"max\": 2}, \"Number of Records Since Last Reset\": {\"sum\": 0.0, \"count\": 1, \"min\": 0, \"max\": 0}, \"Number of Batches Since Last Reset\": {\"sum\": 0.0, \"count\": 1, \"min\": 0, \"max\": 0}}}\u001b[0m\n",
      "\u001b[34m[2023-04-06 21:51:19.835] [tensorio] [info] epoch_stats={\"data_pipeline\": \"/opt/ml/input/data/train\", \"epoch\": 3, \"duration\": 347782, \"num_examples\": 51331, \"num_bytes\": 147832128}\u001b[0m\n",
      "\u001b[34m#metrics {\"StartTime\": 1680817879.835465, \"EndTime\": 1680817879.8355315, \"Dimensions\": {\"Algorithm\": \"Linear Learner\", \"Host\": \"algo-1\", \"Operation\": \"training\", \"epoch\": 0, \"model\": 0}, \"Metrics\": {\"train_absolute_loss_objective\": {\"sum\": 0.3073006487771732, \"count\": 1, \"min\": 0.3073006487771732, \"max\": 0.3073006487771732}}}\u001b[0m\n",
      "\u001b[34m#metrics {\"StartTime\": 1680817879.835672, \"EndTime\": 1680817879.8356924, \"Dimensions\": {\"Algorithm\": \"Linear Learner\", \"Host\": \"algo-1\", \"Operation\": \"training\", \"epoch\": 0, \"model\": 1}, \"Metrics\": {\"train_absolute_loss_objective\": {\"sum\": 0.3090235244361555, \"count\": 1, \"min\": 0.3090235244361555, \"max\": 0.3090235244361555}}}\u001b[0m\n",
      "\u001b[34m#metrics {\"StartTime\": 1680817879.8357458, \"EndTime\": 1680817879.8357577, \"Dimensions\": {\"Algorithm\": \"Linear Learner\", \"Host\": \"algo-1\", \"Operation\": \"training\", \"epoch\": 0, \"model\": 2}, \"Metrics\": {\"train_absolute_loss_objective\": {\"sum\": 0.30742185259617816, \"count\": 1, \"min\": 0.30742185259617816, \"max\": 0.30742185259617816}}}\u001b[0m\n",
      "\u001b[34m#metrics {\"StartTime\": 1680817879.835801, \"EndTime\": 1680817879.8358116, \"Dimensions\": {\"Algorithm\": \"Linear Learner\", \"Host\": \"algo-1\", \"Operation\": \"training\", \"epoch\": 0, \"model\": 3}, \"Metrics\": {\"train_absolute_loss_objective\": {\"sum\": 0.30900738624390306, \"count\": 1, \"min\": 0.30900738624390306, \"max\": 0.30900738624390306}}}\u001b[0m\n",
      "\u001b[34m#metrics {\"StartTime\": 1680817879.8358524, \"EndTime\": 1680817879.8358622, \"Dimensions\": {\"Algorithm\": \"Linear Learner\", \"Host\": \"algo-1\", \"Operation\": \"training\", \"epoch\": 0, \"model\": 4}, \"Metrics\": {\"train_absolute_loss_objective\": {\"sum\": 0.31050350865216, \"count\": 1, \"min\": 0.31050350865216, \"max\": 0.31050350865216}}}\u001b[0m\n",
      "\u001b[34m#metrics {\"StartTime\": 1680817879.8359017, \"EndTime\": 1680817879.835912, \"Dimensions\": {\"Algorithm\": \"Linear Learner\", \"Host\": \"algo-1\", \"Operation\": \"training\", \"epoch\": 0, \"model\": 5}, \"Metrics\": {\"train_absolute_loss_objective\": {\"sum\": 0.3467534000041446, \"count\": 1, \"min\": 0.3467534000041446, \"max\": 0.3467534000041446}}}\u001b[0m\n",
      "\u001b[34m#metrics {\"StartTime\": 1680817879.835951, \"EndTime\": 1680817879.835961, \"Dimensions\": {\"Algorithm\": \"Linear Learner\", \"Host\": \"algo-1\", \"Operation\": \"training\", \"epoch\": 0, \"model\": 6}, \"Metrics\": {\"train_absolute_loss_objective\": {\"sum\": 0.3108230959375119, \"count\": 1, \"min\": 0.3108230959375119, \"max\": 0.3108230959375119}}}\u001b[0m\n",
      "\u001b[34m#metrics {\"StartTime\": 1680817879.836, \"EndTime\": 1680817879.83601, \"Dimensions\": {\"Algorithm\": \"Linear Learner\", \"Host\": \"algo-1\", \"Operation\": \"training\", \"epoch\": 0, \"model\": 7}, \"Metrics\": {\"train_absolute_loss_objective\": {\"sum\": 0.3473019189987177, \"count\": 1, \"min\": 0.3473019189987177, \"max\": 0.3473019189987177}}}\u001b[0m\n",
      "\u001b[34m#metrics {\"StartTime\": 1680817879.8360488, \"EndTime\": 1680817879.8360589, \"Dimensions\": {\"Algorithm\": \"Linear Learner\", \"Host\": \"algo-1\", \"Operation\": \"training\", \"epoch\": 0, \"model\": 8}, \"Metrics\": {\"train_absolute_loss_objective\": {\"sum\": 0.3072909878752001, \"count\": 1, \"min\": 0.3072909878752001, \"max\": 0.3072909878752001}}}\u001b[0m\n",
      "\u001b[34m#metrics {\"StartTime\": 1680817879.836098, \"EndTime\": 1680817879.836108, \"Dimensions\": {\"Algorithm\": \"Linear Learner\", \"Host\": \"algo-1\", \"Operation\": \"training\", \"epoch\": 0, \"model\": 9}, \"Metrics\": {\"train_absolute_loss_objective\": {\"sum\": 0.3091402463717417, \"count\": 1, \"min\": 0.3091402463717417, \"max\": 0.3091402463717417}}}\u001b[0m\n",
      "\u001b[34m[04/06/2023 21:51:19 INFO 139636117940032] #quality_metric: host=algo-1, epoch=0, train absolute_loss_objective <loss>=0.3073006487771732\u001b[0m\n",
      "\u001b[34m[04/06/2023 21:51:19 INFO 139636117940032] #early_stopping_criteria_metric: host=algo-1, epoch=0, criteria=absolute_loss_objective, value=0.3072909878752001\u001b[0m\n",
      "\u001b[34m[04/06/2023 21:51:19 INFO 139636117940032] Epoch 0: Loss improved. Updating best model\u001b[0m\n",
      "\u001b[34m[04/06/2023 21:51:19 INFO 139636117940032] Saving model for epoch: 0\u001b[0m\n",
      "\u001b[34m[04/06/2023 21:51:19 INFO 139636117940032] Saved checkpoint to \"/tmp/tmprga7r20e/mx-mod-0000.params\"\u001b[0m\n",
      "\u001b[34m[04/06/2023 21:51:19 INFO 139636117940032] #progress_metric: host=algo-1, completed 20.0 % of epochs\u001b[0m\n",
      "\u001b[34m#metrics {\"StartTime\": 1680817532.0527554, \"EndTime\": 1680817879.8455803, \"Dimensions\": {\"Algorithm\": \"Linear Learner\", \"Host\": \"algo-1\", \"Operation\": \"training\", \"epoch\": 0, \"Meta\": \"training_data_iter\"}, \"Metrics\": {\"Total Records Seen\": {\"sum\": 1036652.0, \"count\": 1, \"min\": 1036652, \"max\": 1036652}, \"Total Batches Seen\": {\"sum\": 51833.0, \"count\": 1, \"min\": 51833, \"max\": 51833}, \"Max Records Seen Between Resets\": {\"sum\": 1026612.0, \"count\": 1, \"min\": 1026612, \"max\": 1026612}, \"Max Batches Seen Between Resets\": {\"sum\": 51331.0, \"count\": 1, \"min\": 51331, \"max\": 51331}, \"Reset Count\": {\"sum\": 3.0, \"count\": 1, \"min\": 3, \"max\": 3}, \"Number of Records Since Last Reset\": {\"sum\": 1026612.0, \"count\": 1, \"min\": 1026612, \"max\": 1026612}, \"Number of Batches Since Last Reset\": {\"sum\": 51331.0, \"count\": 1, \"min\": 51331, \"max\": 51331}}}\u001b[0m\n",
      "\u001b[34m[04/06/2023 21:51:19 INFO 139636117940032] #throughput_metric: host=algo-1, train throughput=2951.7904915476743 records/second\u001b[0m\n",
      "\u001b[34m[2023-04-06 21:56:59.923] [tensorio] [info] epoch_stats={\"data_pipeline\": \"/opt/ml/input/data/train\", \"epoch\": 5, \"duration\": 340076, \"num_examples\": 51331, \"num_bytes\": 147832128}\u001b[0m\n",
      "\u001b[34m#metrics {\"StartTime\": 1680818219.9233587, \"EndTime\": 1680818219.9234238, \"Dimensions\": {\"Algorithm\": \"Linear Learner\", \"Host\": \"algo-1\", \"Operation\": \"training\", \"epoch\": 1, \"model\": 0}, \"Metrics\": {\"train_absolute_loss_objective\": {\"sum\": 0.30634301322421065, \"count\": 1, \"min\": 0.30634301322421065, \"max\": 0.30634301322421065}}}\u001b[0m\n",
      "\u001b[34m#metrics {\"StartTime\": 1680818219.9235244, \"EndTime\": 1680818219.923547, \"Dimensions\": {\"Algorithm\": \"Linear Learner\", \"Host\": \"algo-1\", \"Operation\": \"training\", \"epoch\": 1, \"model\": 1}, \"Metrics\": {\"train_absolute_loss_objective\": {\"sum\": 0.306350212125153, \"count\": 1, \"min\": 0.306350212125153, \"max\": 0.306350212125153}}}\u001b[0m\n",
      "\u001b[34m#metrics {\"StartTime\": 1680818219.9236164, \"EndTime\": 1680818219.9236352, \"Dimensions\": {\"Algorithm\": \"Linear Learner\", \"Host\": \"algo-1\", \"Operation\": \"training\", \"epoch\": 1, \"model\": 2}, \"Metrics\": {\"train_absolute_loss_objective\": {\"sum\": 0.3065107272296256, \"count\": 1, \"min\": 0.3065107272296256, \"max\": 0.3065107272296256}}}\u001b[0m\n",
      "\u001b[34m#metrics {\"StartTime\": 1680818219.9236944, \"EndTime\": 1680818219.923712, \"Dimensions\": {\"Algorithm\": \"Linear Learner\", \"Host\": \"algo-1\", \"Operation\": \"training\", \"epoch\": 1, \"model\": 3}, \"Metrics\": {\"train_absolute_loss_objective\": {\"sum\": 0.3065102827942629, \"count\": 1, \"min\": 0.3065102827942629, \"max\": 0.3065102827942629}}}\u001b[0m\n",
      "\u001b[34m#metrics {\"StartTime\": 1680818219.9237683, \"EndTime\": 1680818219.9237847, \"Dimensions\": {\"Algorithm\": \"Linear Learner\", \"Host\": \"algo-1\", \"Operation\": \"training\", \"epoch\": 1, \"model\": 4}, \"Metrics\": {\"train_absolute_loss_objective\": {\"sum\": 0.306343804805478, \"count\": 1, \"min\": 0.306343804805478, \"max\": 0.306343804805478}}}\u001b[0m\n",
      "\u001b[34m#metrics {\"StartTime\": 1680818219.9238513, \"EndTime\": 1680818219.9238684, \"Dimensions\": {\"Algorithm\": \"Linear Learner\", \"Host\": \"algo-1\", \"Operation\": \"training\", \"epoch\": 1, \"model\": 5}, \"Metrics\": {\"train_absolute_loss_objective\": {\"sum\": 0.3065510535215788, \"count\": 1, \"min\": 0.3065510535215788, \"max\": 0.3065510535215788}}}\u001b[0m\n",
      "\u001b[34m#metrics {\"StartTime\": 1680818219.9239314, \"EndTime\": 1680818219.9239485, \"Dimensions\": {\"Algorithm\": \"Linear Learner\", \"Host\": \"algo-1\", \"Operation\": \"training\", \"epoch\": 1, \"model\": 6}, \"Metrics\": {\"train_absolute_loss_objective\": {\"sum\": 0.30651117248317317, \"count\": 1, \"min\": 0.30651117248317317, \"max\": 0.30651117248317317}}}\u001b[0m\n",
      "\u001b[34m#metrics {\"StartTime\": 1680818219.9240043, \"EndTime\": 1680818219.9240208, \"Dimensions\": {\"Algorithm\": \"Linear Learner\", \"Host\": \"algo-1\", \"Operation\": \"training\", \"epoch\": 1, \"model\": 7}, \"Metrics\": {\"train_absolute_loss_objective\": {\"sum\": 0.3066280195932743, \"count\": 1, \"min\": 0.3066280195932743, \"max\": 0.3066280195932743}}}\u001b[0m\n",
      "\u001b[34m#metrics {\"StartTime\": 1680818219.9240832, \"EndTime\": 1680818219.9241002, \"Dimensions\": {\"Algorithm\": \"Linear Learner\", \"Host\": \"algo-1\", \"Operation\": \"training\", \"epoch\": 1, \"model\": 8}, \"Metrics\": {\"train_absolute_loss_objective\": {\"sum\": 0.3063595339340609, \"count\": 1, \"min\": 0.3063595339340609, \"max\": 0.3063595339340609}}}\u001b[0m\n",
      "\u001b[34m#metrics {\"StartTime\": 1680818219.9241629, \"EndTime\": 1680818219.9241807, \"Dimensions\": {\"Algorithm\": \"Linear Learner\", \"Host\": \"algo-1\", \"Operation\": \"training\", \"epoch\": 1, \"model\": 9}, \"Metrics\": {\"train_absolute_loss_objective\": {\"sum\": 0.30637006903180086, \"count\": 1, \"min\": 0.30637006903180086, \"max\": 0.30637006903180086}}}\u001b[0m\n",
      "\u001b[34m[04/06/2023 21:56:59 INFO 139636117940032] #quality_metric: host=algo-1, epoch=1, train absolute_loss_objective <loss>=0.30634301322421065\u001b[0m\n",
      "\u001b[34m[04/06/2023 21:56:59 INFO 139636117940032] #early_stopping_criteria_metric: host=algo-1, epoch=1, criteria=absolute_loss_objective, value=0.30634301322421065\u001b[0m\n",
      "\u001b[34m[04/06/2023 21:56:59 INFO 139636117940032] Epoch 1: Loss improved. Updating best model\u001b[0m\n",
      "\u001b[34m[04/06/2023 21:56:59 INFO 139636117940032] Saving model for epoch: 1\u001b[0m\n",
      "\u001b[34m[04/06/2023 21:56:59 INFO 139636117940032] Saved checkpoint to \"/tmp/tmplf9k3xa5/mx-mod-0000.params\"\u001b[0m\n",
      "\u001b[34m[04/06/2023 21:56:59 INFO 139636117940032] #progress_metric: host=algo-1, completed 40.0 % of epochs\u001b[0m\n",
      "\u001b[34m#metrics {\"StartTime\": 1680817879.8467882, \"EndTime\": 1680818219.9313674, \"Dimensions\": {\"Algorithm\": \"Linear Learner\", \"Host\": \"algo-1\", \"Operation\": \"training\", \"epoch\": 1, \"Meta\": \"training_data_iter\"}, \"Metrics\": {\"Total Records Seen\": {\"sum\": 2063264.0, \"count\": 1, \"min\": 2063264, \"max\": 2063264}, \"Total Batches Seen\": {\"sum\": 103164.0, \"count\": 1, \"min\": 103164, \"max\": 103164}, \"Max Records Seen Between Resets\": {\"sum\": 1026612.0, \"count\": 1, \"min\": 1026612, \"max\": 1026612}, \"Max Batches Seen Between Resets\": {\"sum\": 51331.0, \"count\": 1, \"min\": 51331, \"max\": 51331}, \"Reset Count\": {\"sum\": 4.0, \"count\": 1, \"min\": 4, \"max\": 4}, \"Number of Records Since Last Reset\": {\"sum\": 1026612.0, \"count\": 1, \"min\": 1026612, \"max\": 1026612}, \"Number of Batches Since Last Reset\": {\"sum\": 51331.0, \"count\": 1, \"min\": 51331, \"max\": 51331}}}\u001b[0m\n",
      "\u001b[34m[04/06/2023 21:56:59 INFO 139636117940032] #throughput_metric: host=algo-1, train throughput=3018.6950032191776 records/second\u001b[0m\n",
      "\u001b[34m[2023-04-06 22:02:38.867] [tensorio] [info] epoch_stats={\"data_pipeline\": \"/opt/ml/input/data/train\", \"epoch\": 7, \"duration\": 338935, \"num_examples\": 51331, \"num_bytes\": 147832128}\u001b[0m\n",
      "\u001b[34m#metrics {\"StartTime\": 1680818558.8679452, \"EndTime\": 1680818558.86799, \"Dimensions\": {\"Algorithm\": \"Linear Learner\", \"Host\": \"algo-1\", \"Operation\": \"training\", \"epoch\": 2, \"model\": 0}, \"Metrics\": {\"train_absolute_loss_objective\": {\"sum\": 0.30634282467403817, \"count\": 1, \"min\": 0.30634282467403817, \"max\": 0.30634282467403817}}}\u001b[0m\n",
      "\u001b[34m#metrics {\"StartTime\": 1680818558.8680828, \"EndTime\": 1680818558.8680978, \"Dimensions\": {\"Algorithm\": \"Linear Learner\", \"Host\": \"algo-1\", \"Operation\": \"training\", \"epoch\": 2, \"model\": 1}, \"Metrics\": {\"train_absolute_loss_objective\": {\"sum\": 0.306342971598965, \"count\": 1, \"min\": 0.306342971598965, \"max\": 0.306342971598965}}}\u001b[0m\n",
      "\u001b[34m#metrics {\"StartTime\": 1680818558.8681297, \"EndTime\": 1680818558.8681383, \"Dimensions\": {\"Algorithm\": \"Linear Learner\", \"Host\": \"algo-1\", \"Operation\": \"training\", \"epoch\": 2, \"model\": 2}, \"Metrics\": {\"train_absolute_loss_objective\": {\"sum\": 0.30651108320544806, \"count\": 1, \"min\": 0.30651108320544806, \"max\": 0.30651108320544806}}}\u001b[0m\n",
      "\u001b[34m#metrics {\"StartTime\": 1680818558.868163, \"EndTime\": 1680818558.8681703, \"Dimensions\": {\"Algorithm\": \"Linear Learner\", \"Host\": \"algo-1\", \"Operation\": \"training\", \"epoch\": 2, \"model\": 3}, \"Metrics\": {\"train_absolute_loss_objective\": {\"sum\": 0.3065103093302322, \"count\": 1, \"min\": 0.3065103093302322, \"max\": 0.3065103093302322}}}\u001b[0m\n",
      "\u001b[34m#metrics {\"StartTime\": 1680818558.8682067, \"EndTime\": 1680818558.8682213, \"Dimensions\": {\"Algorithm\": \"Linear Learner\", \"Host\": \"algo-1\", \"Operation\": \"training\", \"epoch\": 2, \"model\": 4}, \"Metrics\": {\"train_absolute_loss_objective\": {\"sum\": 0.30634316362892006, \"count\": 1, \"min\": 0.30634316362892006, \"max\": 0.30634316362892006}}}\u001b[0m\n",
      "\u001b[34m#metrics {\"StartTime\": 1680818558.868293, \"EndTime\": 1680818558.8683097, \"Dimensions\": {\"Algorithm\": \"Linear Learner\", \"Host\": \"algo-1\", \"Operation\": \"training\", \"epoch\": 2, \"model\": 5}, \"Metrics\": {\"train_absolute_loss_objective\": {\"sum\": 0.3063425568869628, \"count\": 1, \"min\": 0.3063425568869628, \"max\": 0.3063425568869628}}}\u001b[0m\n",
      "\u001b[34m#metrics {\"StartTime\": 1680818558.8683534, \"EndTime\": 1680818558.8683684, \"Dimensions\": {\"Algorithm\": \"Linear Learner\", \"Host\": \"algo-1\", \"Operation\": \"training\", \"epoch\": 2, \"model\": 6}, \"Metrics\": {\"train_absolute_loss_objective\": {\"sum\": 0.3065110138902278, \"count\": 1, \"min\": 0.3065110138902278, \"max\": 0.3065110138902278}}}\u001b[0m\n",
      "\u001b[34m#metrics {\"StartTime\": 1680818558.868416, \"EndTime\": 1680818558.8684323, \"Dimensions\": {\"Algorithm\": \"Linear Learner\", \"Host\": \"algo-1\", \"Operation\": \"training\", \"epoch\": 2, \"model\": 7}, \"Metrics\": {\"train_absolute_loss_objective\": {\"sum\": 0.3065111651112642, \"count\": 1, \"min\": 0.3065111651112642, \"max\": 0.3065111651112642}}}\u001b[0m\n",
      "\u001b[34m#metrics {\"StartTime\": 1680818558.8684866, \"EndTime\": 1680818558.8685017, \"Dimensions\": {\"Algorithm\": \"Linear Learner\", \"Host\": \"algo-1\", \"Operation\": \"training\", \"epoch\": 2, \"model\": 8}, \"Metrics\": {\"train_absolute_loss_objective\": {\"sum\": 0.3063600672819497, \"count\": 1, \"min\": 0.3063600672819497, \"max\": 0.3063600672819497}}}\u001b[0m\n",
      "\u001b[34m#metrics {\"StartTime\": 1680818558.868542, \"EndTime\": 1680818558.8685572, \"Dimensions\": {\"Algorithm\": \"Linear Learner\", \"Host\": \"algo-1\", \"Operation\": \"training\", \"epoch\": 2, \"model\": 9}, \"Metrics\": {\"train_absolute_loss_objective\": {\"sum\": 0.3063630591164828, \"count\": 1, \"min\": 0.3063630591164828, \"max\": 0.3063630591164828}}}\u001b[0m\n",
      "\u001b[34m[04/06/2023 22:02:38 INFO 139636117940032] #quality_metric: host=algo-1, epoch=2, train absolute_loss_objective <loss>=0.30634282467403817\u001b[0m\n",
      "\u001b[34m[04/06/2023 22:02:38 INFO 139636117940032] #early_stopping_criteria_metric: host=algo-1, epoch=2, criteria=absolute_loss_objective, value=0.3063425568869628\u001b[0m\n",
      "\u001b[34m[04/06/2023 22:02:38 INFO 139636117940032] Saving model for epoch: 2\u001b[0m\n",
      "\u001b[34m[04/06/2023 22:02:38 INFO 139636117940032] Saved checkpoint to \"/tmp/tmpa8t96wh9/mx-mod-0000.params\"\u001b[0m\n",
      "\u001b[34m[04/06/2023 22:02:38 INFO 139636117940032] #progress_metric: host=algo-1, completed 60.0 % of epochs\u001b[0m\n",
      "\u001b[34m#metrics {\"StartTime\": 1680818219.9327796, \"EndTime\": 1680818558.8749285, \"Dimensions\": {\"Algorithm\": \"Linear Learner\", \"Host\": \"algo-1\", \"Operation\": \"training\", \"epoch\": 2, \"Meta\": \"training_data_iter\"}, \"Metrics\": {\"Total Records Seen\": {\"sum\": 3089876.0, \"count\": 1, \"min\": 3089876, \"max\": 3089876}, \"Total Batches Seen\": {\"sum\": 154495.0, \"count\": 1, \"min\": 154495, \"max\": 154495}, \"Max Records Seen Between Resets\": {\"sum\": 1026612.0, \"count\": 1, \"min\": 1026612, \"max\": 1026612}, \"Max Batches Seen Between Resets\": {\"sum\": 51331.0, \"count\": 1, \"min\": 51331, \"max\": 51331}, \"Reset Count\": {\"sum\": 5.0, \"count\": 1, \"min\": 5, \"max\": 5}, \"Number of Records Since Last Reset\": {\"sum\": 1026612.0, \"count\": 1, \"min\": 1026612, \"max\": 1026612}, \"Number of Batches Since Last Reset\": {\"sum\": 51331.0, \"count\": 1, \"min\": 51331, \"max\": 51331}}}\u001b[0m\n",
      "\u001b[34m[04/06/2023 22:02:38 INFO 139636117940032] #throughput_metric: host=algo-1, train throughput=3028.8697577072 records/second\u001b[0m\n",
      "\u001b[34m[2023-04-06 22:08:17.597] [tensorio] [info] epoch_stats={\"data_pipeline\": \"/opt/ml/input/data/train\", \"epoch\": 9, \"duration\": 338717, \"num_examples\": 51331, \"num_bytes\": 147832128}\u001b[0m\n",
      "\u001b[34m#metrics {\"StartTime\": 1680818897.5974853, \"EndTime\": 1680818897.5975509, \"Dimensions\": {\"Algorithm\": \"Linear Learner\", \"Host\": \"algo-1\", \"Operation\": \"training\", \"epoch\": 3, \"model\": 0}, \"Metrics\": {\"train_absolute_loss_objective\": {\"sum\": 0.30634282800646384, \"count\": 1, \"min\": 0.30634282800646384, \"max\": 0.30634282800646384}}}\u001b[0m\n",
      "\u001b[34m#metrics {\"StartTime\": 1680818897.597649, \"EndTime\": 1680818897.5976696, \"Dimensions\": {\"Algorithm\": \"Linear Learner\", \"Host\": \"algo-1\", \"Operation\": \"training\", \"epoch\": 3, \"model\": 1}, \"Metrics\": {\"train_absolute_loss_objective\": {\"sum\": 0.30634271212553577, \"count\": 1, \"min\": 0.30634271212553577, \"max\": 0.30634271212553577}}}\u001b[0m\n",
      "\u001b[34m#metrics {\"StartTime\": 1680818897.5977187, \"EndTime\": 1680818897.5977345, \"Dimensions\": {\"Algorithm\": \"Linear Learner\", \"Host\": \"algo-1\", \"Operation\": \"training\", \"epoch\": 3, \"model\": 2}, \"Metrics\": {\"train_absolute_loss_objective\": {\"sum\": 0.30651054514782855, \"count\": 1, \"min\": 0.30651054514782855, \"max\": 0.30651054514782855}}}\u001b[0m\n",
      "\u001b[34m#metrics {\"StartTime\": 1680818897.5977876, \"EndTime\": 1680818897.5978048, \"Dimensions\": {\"Algorithm\": \"Linear Learner\", \"Host\": \"algo-1\", \"Operation\": \"training\", \"epoch\": 3, \"model\": 3}, \"Metrics\": {\"train_absolute_loss_objective\": {\"sum\": 0.30651097490103324, \"count\": 1, \"min\": 0.30651097490103324, \"max\": 0.30651097490103324}}}\u001b[0m\n",
      "\u001b[34m#metrics {\"StartTime\": 1680818897.5978582, \"EndTime\": 1680818897.5978749, \"Dimensions\": {\"Algorithm\": \"Linear Learner\", \"Host\": \"algo-1\", \"Operation\": \"training\", \"epoch\": 3, \"model\": 4}, \"Metrics\": {\"train_absolute_loss_objective\": {\"sum\": 0.30634292670074736, \"count\": 1, \"min\": 0.30634292670074736, \"max\": 0.30634292670074736}}}\u001b[0m\n",
      "\u001b[34m#metrics {\"StartTime\": 1680818897.5979254, \"EndTime\": 1680818897.5979402, \"Dimensions\": {\"Algorithm\": \"Linear Learner\", \"Host\": \"algo-1\", \"Operation\": \"training\", \"epoch\": 3, \"model\": 5}, \"Metrics\": {\"train_absolute_loss_objective\": {\"sum\": 0.30634271637751953, \"count\": 1, \"min\": 0.30634271637751953, \"max\": 0.30634271637751953}}}\u001b[0m\n",
      "\u001b[34m#metrics {\"StartTime\": 1680818897.5979898, \"EndTime\": 1680818897.5980065, \"Dimensions\": {\"Algorithm\": \"Linear Learner\", \"Host\": \"algo-1\", \"Operation\": \"training\", \"epoch\": 3, \"model\": 6}, \"Metrics\": {\"train_absolute_loss_objective\": {\"sum\": 0.30651080431156447, \"count\": 1, \"min\": 0.30651080431156447, \"max\": 0.30651080431156447}}}\u001b[0m\n",
      "\u001b[34m#metrics {\"StartTime\": 1680818897.5980608, \"EndTime\": 1680818897.5980768, \"Dimensions\": {\"Algorithm\": \"Linear Learner\", \"Host\": \"algo-1\", \"Operation\": \"training\", \"epoch\": 3, \"model\": 7}, \"Metrics\": {\"train_absolute_loss_objective\": {\"sum\": 0.3065101406570998, \"count\": 1, \"min\": 0.3065101406570998, \"max\": 0.3065101406570998}}}\u001b[0m\n",
      "\u001b[34m#metrics {\"StartTime\": 1680818897.5981266, \"EndTime\": 1680818897.5981417, \"Dimensions\": {\"Algorithm\": \"Linear Learner\", \"Host\": \"algo-1\", \"Operation\": \"training\", \"epoch\": 3, \"model\": 8}, \"Metrics\": {\"train_absolute_loss_objective\": {\"sum\": 0.3063607875131014, \"count\": 1, \"min\": 0.3063607875131014, \"max\": 0.3063607875131014}}}\u001b[0m\n",
      "\u001b[34m#metrics {\"StartTime\": 1680818897.5981922, \"EndTime\": 1680818897.5982091, \"Dimensions\": {\"Algorithm\": \"Linear Learner\", \"Host\": \"algo-1\", \"Operation\": \"training\", \"epoch\": 3, \"model\": 9}, \"Metrics\": {\"train_absolute_loss_objective\": {\"sum\": 0.3063626020224778, \"count\": 1, \"min\": 0.3063626020224778, \"max\": 0.3063626020224778}}}\u001b[0m\n",
      "\u001b[34m[04/06/2023 22:08:17 INFO 139636117940032] #quality_metric: host=algo-1, epoch=3, train absolute_loss_objective <loss>=0.30634282800646384\u001b[0m\n",
      "\u001b[34m[04/06/2023 22:08:17 INFO 139636117940032] #early_stopping_criteria_metric: host=algo-1, epoch=3, criteria=absolute_loss_objective, value=0.30634271212553577\u001b[0m\n",
      "\u001b[34m[04/06/2023 22:08:17 INFO 139636117940032] Saving model for epoch: 3\u001b[0m\n",
      "\u001b[34m[04/06/2023 22:08:17 INFO 139636117940032] Saved checkpoint to \"/tmp/tmp9bjdn5nx/mx-mod-0000.params\"\u001b[0m\n",
      "\u001b[34m[04/06/2023 22:08:17 INFO 139636117940032] #progress_metric: host=algo-1, completed 80.0 % of epochs\u001b[0m\n",
      "\u001b[34m#metrics {\"StartTime\": 1680818558.8800168, \"EndTime\": 1680818897.6050825, \"Dimensions\": {\"Algorithm\": \"Linear Learner\", \"Host\": \"algo-1\", \"Operation\": \"training\", \"epoch\": 3, \"Meta\": \"training_data_iter\"}, \"Metrics\": {\"Total Records Seen\": {\"sum\": 4116488.0, \"count\": 1, \"min\": 4116488, \"max\": 4116488}, \"Total Batches Seen\": {\"sum\": 205826.0, \"count\": 1, \"min\": 205826, \"max\": 205826}, \"Max Records Seen Between Resets\": {\"sum\": 1026612.0, \"count\": 1, \"min\": 1026612, \"max\": 1026612}, \"Max Batches Seen Between Resets\": {\"sum\": 51331.0, \"count\": 1, \"min\": 51331, \"max\": 51331}, \"Reset Count\": {\"sum\": 6.0, \"count\": 1, \"min\": 6, \"max\": 6}, \"Number of Records Since Last Reset\": {\"sum\": 1026612.0, \"count\": 1, \"min\": 1026612, \"max\": 1026612}, \"Number of Batches Since Last Reset\": {\"sum\": 51331.0, \"count\": 1, \"min\": 51331, \"max\": 51331}}}\u001b[0m\n",
      "\u001b[34m[04/06/2023 22:08:17 INFO 139636117940032] #throughput_metric: host=algo-1, train throughput=3030.810793645813 records/second\u001b[0m\n",
      "\u001b[34m[2023-04-06 22:13:56.338] [tensorio] [info] epoch_stats={\"data_pipeline\": \"/opt/ml/input/data/train\", \"epoch\": 11, \"duration\": 338731, \"num_examples\": 51331, \"num_bytes\": 147832128}\u001b[0m\n",
      "\u001b[34m#metrics {\"StartTime\": 1680819236.3384461, \"EndTime\": 1680819236.3385057, \"Dimensions\": {\"Algorithm\": \"Linear Learner\", \"Host\": \"algo-1\", \"Operation\": \"training\", \"epoch\": 4, \"model\": 0}, \"Metrics\": {\"train_absolute_loss_objective\": {\"sum\": 0.30634272489820846, \"count\": 1, \"min\": 0.30634272489820846, \"max\": 0.30634272489820846}}}\u001b[0m\n",
      "\u001b[34m#metrics {\"StartTime\": 1680819236.338594, \"EndTime\": 1680819236.3386135, \"Dimensions\": {\"Algorithm\": \"Linear Learner\", \"Host\": \"algo-1\", \"Operation\": \"training\", \"epoch\": 4, \"model\": 1}, \"Metrics\": {\"train_absolute_loss_objective\": {\"sum\": 0.3063427838327219, \"count\": 1, \"min\": 0.3063427838327219, \"max\": 0.3063427838327219}}}\u001b[0m\n",
      "\u001b[34m#metrics {\"StartTime\": 1680819236.3386617, \"EndTime\": 1680819236.338676, \"Dimensions\": {\"Algorithm\": \"Linear Learner\", \"Host\": \"algo-1\", \"Operation\": \"training\", \"epoch\": 4, \"model\": 2}, \"Metrics\": {\"train_absolute_loss_objective\": {\"sum\": 0.30651035140950894, \"count\": 1, \"min\": 0.30651035140950894, \"max\": 0.30651035140950894}}}\u001b[0m\n",
      "\u001b[34m#metrics {\"StartTime\": 1680819236.338726, \"EndTime\": 1680819236.3387418, \"Dimensions\": {\"Algorithm\": \"Linear Learner\", \"Host\": \"algo-1\", \"Operation\": \"training\", \"epoch\": 4, \"model\": 3}, \"Metrics\": {\"train_absolute_loss_objective\": {\"sum\": 0.30651057177518465, \"count\": 1, \"min\": 0.30651057177518465, \"max\": 0.30651057177518465}}}\u001b[0m\n",
      "\u001b[34m#metrics {\"StartTime\": 1680819236.3387895, \"EndTime\": 1680819236.3388047, \"Dimensions\": {\"Algorithm\": \"Linear Learner\", \"Host\": \"algo-1\", \"Operation\": \"training\", \"epoch\": 4, \"model\": 4}, \"Metrics\": {\"train_absolute_loss_objective\": {\"sum\": 0.3063428473668839, \"count\": 1, \"min\": 0.3063428473668839, \"max\": 0.3063428473668839}}}\u001b[0m\n",
      "\u001b[34m#metrics {\"StartTime\": 1680819236.3388567, \"EndTime\": 1680819236.338873, \"Dimensions\": {\"Algorithm\": \"Linear Learner\", \"Host\": \"algo-1\", \"Operation\": \"training\", \"epoch\": 4, \"model\": 5}, \"Metrics\": {\"train_absolute_loss_objective\": {\"sum\": 0.3063427172287988, \"count\": 1, \"min\": 0.3063427172287988, \"max\": 0.3063427172287988}}}\u001b[0m\n",
      "\u001b[34m#metrics {\"StartTime\": 1680819236.3389242, \"EndTime\": 1680819236.3389404, \"Dimensions\": {\"Algorithm\": \"Linear Learner\", \"Host\": \"algo-1\", \"Operation\": \"training\", \"epoch\": 4, \"model\": 6}, \"Metrics\": {\"train_absolute_loss_objective\": {\"sum\": 0.30651045544521865, \"count\": 1, \"min\": 0.30651045544521865, \"max\": 0.30651045544521865}}}\u001b[0m\n",
      "\u001b[34m#metrics {\"StartTime\": 1680819236.3389888, \"EndTime\": 1680819236.3390043, \"Dimensions\": {\"Algorithm\": \"Linear Learner\", \"Host\": \"algo-1\", \"Operation\": \"training\", \"epoch\": 4, \"model\": 7}, \"Metrics\": {\"train_absolute_loss_objective\": {\"sum\": 0.3065108229316003, \"count\": 1, \"min\": 0.3065108229316003, \"max\": 0.3065108229316003}}}\u001b[0m\n",
      "\u001b[34m#metrics {\"StartTime\": 1680819236.3390574, \"EndTime\": 1680819236.3390727, \"Dimensions\": {\"Algorithm\": \"Linear Learner\", \"Host\": \"algo-1\", \"Operation\": \"training\", \"epoch\": 4, \"model\": 8}, \"Metrics\": {\"train_absolute_loss_objective\": {\"sum\": 0.30636111502349667, \"count\": 1, \"min\": 0.30636111502349667, \"max\": 0.30636111502349667}}}\u001b[0m\n",
      "\u001b[34m#metrics {\"StartTime\": 1680819236.3391252, \"EndTime\": 1680819236.3391407, \"Dimensions\": {\"Algorithm\": \"Linear Learner\", \"Host\": \"algo-1\", \"Operation\": \"training\", \"epoch\": 4, \"model\": 9}, \"Metrics\": {\"train_absolute_loss_objective\": {\"sum\": 0.30636256194395695, \"count\": 1, \"min\": 0.30636256194395695, \"max\": 0.30636256194395695}}}\u001b[0m\n",
      "\u001b[34m[04/06/2023 22:13:56 INFO 139636117940032] #quality_metric: host=algo-1, epoch=4, train absolute_loss_objective <loss>=0.30634272489820846\u001b[0m\n",
      "\u001b[34m[04/06/2023 22:13:56 INFO 139636117940032] #early_stopping_criteria_metric: host=algo-1, epoch=4, criteria=absolute_loss_objective, value=0.3063427172287988\u001b[0m\n",
      "\u001b[34m[04/06/2023 22:13:56 INFO 139636117940032] Saving model for epoch: 4\u001b[0m\n",
      "\u001b[34m[04/06/2023 22:13:56 INFO 139636117940032] Saved checkpoint to \"/tmp/tmprqo8bemm/mx-mod-0000.params\"\u001b[0m\n",
      "\u001b[34m[04/06/2023 22:13:56 INFO 139636117940032] #progress_metric: host=algo-1, completed 100.0 % of epochs\u001b[0m\n",
      "\u001b[34m#metrics {\"StartTime\": 1680818897.6063855, \"EndTime\": 1680819236.346007, \"Dimensions\": {\"Algorithm\": \"Linear Learner\", \"Host\": \"algo-1\", \"Operation\": \"training\", \"epoch\": 4, \"Meta\": \"training_data_iter\"}, \"Metrics\": {\"Total Records Seen\": {\"sum\": 5143100.0, \"count\": 1, \"min\": 5143100, \"max\": 5143100}, \"Total Batches Seen\": {\"sum\": 257157.0, \"count\": 1, \"min\": 257157, \"max\": 257157}, \"Max Records Seen Between Resets\": {\"sum\": 1026612.0, \"count\": 1, \"min\": 1026612, \"max\": 1026612}, \"Max Batches Seen Between Resets\": {\"sum\": 51331.0, \"count\": 1, \"min\": 51331, \"max\": 51331}, \"Reset Count\": {\"sum\": 7.0, \"count\": 1, \"min\": 7, \"max\": 7}, \"Number of Records Since Last Reset\": {\"sum\": 1026612.0, \"count\": 1, \"min\": 1026612, \"max\": 1026612}, \"Number of Batches Since Last Reset\": {\"sum\": 51331.0, \"count\": 1, \"min\": 51331, \"max\": 51331}}}\u001b[0m\n",
      "\u001b[34m[04/06/2023 22:13:56 INFO 139636117940032] #throughput_metric: host=algo-1, train throughput=3030.6806190282455 records/second\u001b[0m\n",
      "\u001b[34m[04/06/2023 22:13:56 WARNING 139636117940032] wait_for_all_workers will not sync workers since the kv store is not running distributed\u001b[0m\n",
      "\u001b[34m[04/06/2023 22:13:56 WARNING 139636117940032] wait_for_all_workers will not sync workers since the kv store is not running distributed\u001b[0m\n",
      "\u001b[34m[2023-04-06 22:13:56.348] [tensorio] [info] epoch_stats={\"data_pipeline\": \"/opt/ml/input/data/train\", \"epoch\": 13, \"duration\": 0, \"num_examples\": 1, \"num_bytes\": 2880}\u001b[0m\n",
      "\u001b[34m[2023-04-06 22:18:50.757] [tensorio] [info] epoch_stats={\"data_pipeline\": \"/opt/ml/input/data/train\", \"epoch\": 15, \"duration\": 294406, \"num_examples\": 51331, \"num_bytes\": 147832128}\u001b[0m\n",
      "\u001b[34m[04/06/2023 22:18:50 INFO 139636117940032] #train_score (algo-1) : ('absolute_loss_objective', 7399.774961673081)\u001b[0m\n",
      "\u001b[34m[04/06/2023 22:18:50 INFO 139636117940032] #train_score (algo-1) : ('mse', 135367573.97617796)\u001b[0m\n",
      "\u001b[34m[04/06/2023 22:18:50 INFO 139636117940032] #train_score (algo-1) : ('absolute_loss', 7399.774961673081)\u001b[0m\n",
      "\u001b[34m[04/06/2023 22:18:50 INFO 139636117940032] #train_score (algo-1) : ('rmse', 11634.75715157725)\u001b[0m\n",
      "\u001b[34m[04/06/2023 22:18:50 INFO 139636117940032] #train_score (algo-1) : ('r2', 0.7670055688981828)\u001b[0m\n",
      "\u001b[34m[04/06/2023 22:18:50 INFO 139636117940032] #train_score (algo-1) : ('mae', 7399.774962383461)\u001b[0m\n",
      "\u001b[34m[04/06/2023 22:18:50 INFO 139636117940032] #quality_metric: host=algo-1, train absolute_loss_objective <loss>=7399.774961673081\u001b[0m\n",
      "\u001b[34m[04/06/2023 22:18:50 INFO 139636117940032] #quality_metric: host=algo-1, train mse <loss>=135367573.97617796\u001b[0m\n",
      "\u001b[34m[04/06/2023 22:18:50 INFO 139636117940032] #quality_metric: host=algo-1, train absolute_loss <loss>=7399.774961673081\u001b[0m\n",
      "\u001b[34m[04/06/2023 22:18:50 INFO 139636117940032] #quality_metric: host=algo-1, train rmse <loss>=11634.75715157725\u001b[0m\n",
      "\u001b[34m[04/06/2023 22:18:50 INFO 139636117940032] #quality_metric: host=algo-1, train r2 <loss>=0.7670055688981828\u001b[0m\n",
      "\u001b[34m[04/06/2023 22:18:50 INFO 139636117940032] #quality_metric: host=algo-1, train mae <loss>=7399.774962383461\u001b[0m\n",
      "\u001b[34m[04/06/2023 22:18:50 INFO 139636117940032] Best model found for hyperparameters: {\"optimizer\": \"adam\", \"learning_rate\": 0.005, \"l1\": 0.0, \"wd\": 0.0001, \"lr_scheduler_step\": 10, \"lr_scheduler_factor\": 0.99, \"lr_scheduler_minimum_lr\": 1e-05}\u001b[0m\n",
      "\u001b[34m[04/06/2023 22:18:50 INFO 139636117940032] Saved checkpoint to \"/tmp/tmps8gf05dt/mx-mod-0000.params\"\u001b[0m\n",
      "\u001b[34m[04/06/2023 22:18:50 INFO 139636117940032] Test data is not provided.\u001b[0m\n",
      "\u001b[34m#metrics {\"StartTime\": 1680817528.6603682, \"EndTime\": 1680819530.78087, \"Dimensions\": {\"Algorithm\": \"Linear Learner\", \"Host\": \"algo-1\", \"Operation\": \"training\"}, \"Metrics\": {\"initialize.time\": {\"sum\": 3379.92787361145, \"count\": 1, \"min\": 3379.92787361145, \"max\": 3379.92787361145}, \"epochs\": {\"sum\": 5.0, \"count\": 1, \"min\": 5, \"max\": 5}, \"check_early_stopping.time\": {\"sum\": 2.8939247131347656, \"count\": 5, \"min\": 0.1914501190185547, \"max\": 1.300811767578125}, \"update.time\": {\"sum\": 1704269.9975967407, \"count\": 5, \"min\": 338722.2228050232, \"max\": 347789.7119522095}, \"finalize.time\": {\"sum\": 294430.43327331543, \"count\": 1, \"min\": 294430.43327331543, \"max\": 294430.43327331543}, \"setuptime\": {\"sum\": 2.469778060913086, \"count\": 1, \"min\": 2.469778060913086, \"max\": 2.469778060913086}, \"totaltime\": {\"sum\": 2002230.4542064667, \"count\": 1, \"min\": 2002230.4542064667, \"max\": 2002230.4542064667}}}\u001b[0m\n",
      "\n",
      "2023-04-06 22:19:08 Uploading - Uploading generated training model\n",
      "2023-04-06 22:19:08 Completed - Training job completed\n",
      "Training seconds: 2141\n",
      "Billable seconds: 2141\n"
     ]
    }
   ],
   "source": [
    "linear.fit({'train': s3_train_data})"
   ]
  },
  {
   "cell_type": "markdown",
   "id": "ab65ff48-3202-4cc3-9583-528377d5bbd1",
   "metadata": {},
   "source": [
    "##### Endpoint creation & Model evaluation"
   ]
  },
  {
   "cell_type": "code",
   "execution_count": 114,
   "id": "432c2fc5-13c4-40fa-8c39-19bb6e955ca7",
   "metadata": {
    "tags": []
   },
   "outputs": [
    {
     "name": "stderr",
     "output_type": "stream",
     "text": [
      "INFO:sagemaker:Creating model with name: linear-learner-2023-04-06-22-28-34-861\n",
      "INFO:sagemaker:Creating endpoint-config with name linear-learner-2023-04-06-22-28-34-861\n",
      "INFO:sagemaker:Creating endpoint with name linear-learner-2023-04-06-22-28-34-861\n"
     ]
    },
    {
     "name": "stdout",
     "output_type": "stream",
     "text": [
      "--------!"
     ]
    }
   ],
   "source": [
    "linear_regressor = linear.deploy(initial_instance_count = 1, instance_type = 'ml.m4.xlarge')"
   ]
  },
  {
   "cell_type": "code",
   "execution_count": 111,
   "id": "7cc32e58-3566-412b-9302-945c635c46c6",
   "metadata": {
    "tags": []
   },
   "outputs": [],
   "source": [
    "from sagemaker.predictor import csv_serializer, json_deserializer"
   ]
  },
  {
   "cell_type": "code",
   "execution_count": 118,
   "id": "6e7e65f8-ae63-4657-ae8c-9c16650480ad",
   "metadata": {
    "tags": []
   },
   "outputs": [],
   "source": [
    "linear_regressor.serializer = csv_serializer\n",
    "linear_regressor.deserializer = json_deserializer"
   ]
  },
  {
   "cell_type": "code",
   "execution_count": 137,
   "id": "25d610a3-d168-4563-bb93-04291ed3899e",
   "metadata": {
    "tags": []
   },
   "outputs": [
    {
     "name": "stderr",
     "output_type": "stream",
     "text": [
      "WARNING:sagemaker.deprecations:The csv_serializer has been renamed in sagemaker>=2.\n",
      "See: https://sagemaker.readthedocs.io/en/stable/v2.html for details.\n",
      "WARNING:sagemaker.deprecations:The json_deserializer has been renamed in sagemaker>=2.\n",
      "See: https://sagemaker.readthedocs.io/en/stable/v2.html for details.\n",
      "WARNING:sagemaker.deprecations:The csv_serializer has been renamed in sagemaker>=2.\n",
      "See: https://sagemaker.readthedocs.io/en/stable/v2.html for details.\n",
      "WARNING:sagemaker.deprecations:The json_deserializer has been renamed in sagemaker>=2.\n",
      "See: https://sagemaker.readthedocs.io/en/stable/v2.html for details.\n",
      "WARNING:sagemaker.deprecations:The csv_serializer has been renamed in sagemaker>=2.\n",
      "See: https://sagemaker.readthedocs.io/en/stable/v2.html for details.\n",
      "WARNING:sagemaker.deprecations:The json_deserializer has been renamed in sagemaker>=2.\n",
      "See: https://sagemaker.readthedocs.io/en/stable/v2.html for details.\n",
      "WARNING:sagemaker.deprecations:The csv_serializer has been renamed in sagemaker>=2.\n",
      "See: https://sagemaker.readthedocs.io/en/stable/v2.html for details.\n",
      "WARNING:sagemaker.deprecations:The json_deserializer has been renamed in sagemaker>=2.\n",
      "See: https://sagemaker.readthedocs.io/en/stable/v2.html for details.\n",
      "WARNING:sagemaker.deprecations:The csv_serializer has been renamed in sagemaker>=2.\n",
      "See: https://sagemaker.readthedocs.io/en/stable/v2.html for details.\n",
      "WARNING:sagemaker.deprecations:The json_deserializer has been renamed in sagemaker>=2.\n",
      "See: https://sagemaker.readthedocs.io/en/stable/v2.html for details.\n",
      "WARNING:sagemaker.deprecations:The csv_serializer has been renamed in sagemaker>=2.\n",
      "See: https://sagemaker.readthedocs.io/en/stable/v2.html for details.\n",
      "WARNING:sagemaker.deprecations:The json_deserializer has been renamed in sagemaker>=2.\n",
      "See: https://sagemaker.readthedocs.io/en/stable/v2.html for details.\n",
      "WARNING:sagemaker.deprecations:The csv_serializer has been renamed in sagemaker>=2.\n",
      "See: https://sagemaker.readthedocs.io/en/stable/v2.html for details.\n",
      "WARNING:sagemaker.deprecations:The json_deserializer has been renamed in sagemaker>=2.\n",
      "See: https://sagemaker.readthedocs.io/en/stable/v2.html for details.\n",
      "WARNING:sagemaker.deprecations:The csv_serializer has been renamed in sagemaker>=2.\n",
      "See: https://sagemaker.readthedocs.io/en/stable/v2.html for details.\n",
      "WARNING:sagemaker.deprecations:The json_deserializer has been renamed in sagemaker>=2.\n",
      "See: https://sagemaker.readthedocs.io/en/stable/v2.html for details.\n",
      "WARNING:sagemaker.deprecations:The csv_serializer has been renamed in sagemaker>=2.\n",
      "See: https://sagemaker.readthedocs.io/en/stable/v2.html for details.\n",
      "WARNING:sagemaker.deprecations:The json_deserializer has been renamed in sagemaker>=2.\n",
      "See: https://sagemaker.readthedocs.io/en/stable/v2.html for details.\n",
      "WARNING:sagemaker.deprecations:The csv_serializer has been renamed in sagemaker>=2.\n",
      "See: https://sagemaker.readthedocs.io/en/stable/v2.html for details.\n",
      "WARNING:sagemaker.deprecations:The json_deserializer has been renamed in sagemaker>=2.\n",
      "See: https://sagemaker.readthedocs.io/en/stable/v2.html for details.\n",
      "WARNING:sagemaker.deprecations:The csv_serializer has been renamed in sagemaker>=2.\n",
      "See: https://sagemaker.readthedocs.io/en/stable/v2.html for details.\n",
      "WARNING:sagemaker.deprecations:The json_deserializer has been renamed in sagemaker>=2.\n",
      "See: https://sagemaker.readthedocs.io/en/stable/v2.html for details.\n",
      "WARNING:sagemaker.deprecations:The csv_serializer has been renamed in sagemaker>=2.\n",
      "See: https://sagemaker.readthedocs.io/en/stable/v2.html for details.\n",
      "WARNING:sagemaker.deprecations:The json_deserializer has been renamed in sagemaker>=2.\n",
      "See: https://sagemaker.readthedocs.io/en/stable/v2.html for details.\n",
      "WARNING:sagemaker.deprecations:The csv_serializer has been renamed in sagemaker>=2.\n",
      "See: https://sagemaker.readthedocs.io/en/stable/v2.html for details.\n",
      "WARNING:sagemaker.deprecations:The json_deserializer has been renamed in sagemaker>=2.\n",
      "See: https://sagemaker.readthedocs.io/en/stable/v2.html for details.\n",
      "WARNING:sagemaker.deprecations:The csv_serializer has been renamed in sagemaker>=2.\n",
      "See: https://sagemaker.readthedocs.io/en/stable/v2.html for details.\n",
      "WARNING:sagemaker.deprecations:The json_deserializer has been renamed in sagemaker>=2.\n",
      "See: https://sagemaker.readthedocs.io/en/stable/v2.html for details.\n",
      "WARNING:sagemaker.deprecations:The csv_serializer has been renamed in sagemaker>=2.\n",
      "See: https://sagemaker.readthedocs.io/en/stable/v2.html for details.\n",
      "WARNING:sagemaker.deprecations:The json_deserializer has been renamed in sagemaker>=2.\n",
      "See: https://sagemaker.readthedocs.io/en/stable/v2.html for details.\n",
      "WARNING:sagemaker.deprecations:The csv_serializer has been renamed in sagemaker>=2.\n",
      "See: https://sagemaker.readthedocs.io/en/stable/v2.html for details.\n",
      "WARNING:sagemaker.deprecations:The json_deserializer has been renamed in sagemaker>=2.\n",
      "See: https://sagemaker.readthedocs.io/en/stable/v2.html for details.\n",
      "WARNING:sagemaker.deprecations:The csv_serializer has been renamed in sagemaker>=2.\n",
      "See: https://sagemaker.readthedocs.io/en/stable/v2.html for details.\n",
      "WARNING:sagemaker.deprecations:The json_deserializer has been renamed in sagemaker>=2.\n",
      "See: https://sagemaker.readthedocs.io/en/stable/v2.html for details.\n",
      "WARNING:sagemaker.deprecations:The csv_serializer has been renamed in sagemaker>=2.\n",
      "See: https://sagemaker.readthedocs.io/en/stable/v2.html for details.\n",
      "WARNING:sagemaker.deprecations:The json_deserializer has been renamed in sagemaker>=2.\n",
      "See: https://sagemaker.readthedocs.io/en/stable/v2.html for details.\n",
      "WARNING:sagemaker.deprecations:The csv_serializer has been renamed in sagemaker>=2.\n",
      "See: https://sagemaker.readthedocs.io/en/stable/v2.html for details.\n",
      "WARNING:sagemaker.deprecations:The json_deserializer has been renamed in sagemaker>=2.\n",
      "See: https://sagemaker.readthedocs.io/en/stable/v2.html for details.\n",
      "WARNING:sagemaker.deprecations:The csv_serializer has been renamed in sagemaker>=2.\n",
      "See: https://sagemaker.readthedocs.io/en/stable/v2.html for details.\n",
      "WARNING:sagemaker.deprecations:The json_deserializer has been renamed in sagemaker>=2.\n",
      "See: https://sagemaker.readthedocs.io/en/stable/v2.html for details.\n",
      "WARNING:sagemaker.deprecations:The csv_serializer has been renamed in sagemaker>=2.\n",
      "See: https://sagemaker.readthedocs.io/en/stable/v2.html for details.\n",
      "WARNING:sagemaker.deprecations:The json_deserializer has been renamed in sagemaker>=2.\n",
      "See: https://sagemaker.readthedocs.io/en/stable/v2.html for details.\n",
      "WARNING:sagemaker.deprecations:The csv_serializer has been renamed in sagemaker>=2.\n",
      "See: https://sagemaker.readthedocs.io/en/stable/v2.html for details.\n",
      "WARNING:sagemaker.deprecations:The json_deserializer has been renamed in sagemaker>=2.\n",
      "See: https://sagemaker.readthedocs.io/en/stable/v2.html for details.\n"
     ]
    }
   ],
   "source": [
    "result0 = linear_regressor.predict(X_test_sc[0:20000])\n",
    "result1 = linear_regressor.predict(X_test_sc[20000:40000])\n",
    "result2 = linear_regressor.predict(X_test_sc[40000:60000])\n",
    "result3 = linear_regressor.predict(X_test_sc[60000:80000])\n",
    "result4 = linear_regressor.predict(X_test_sc[80000:100000])\n",
    "\n",
    "result5 = linear_regressor.predict(X_test_sc[100000:120000])\n",
    "result6 = linear_regressor.predict(X_test_sc[120000:140000])\n",
    "result7 = linear_regressor.predict(X_test_sc[140000:160000])\n",
    "result8 = linear_regressor.predict(X_test_sc[160000:180000])\n",
    "result9 = linear_regressor.predict(X_test_sc[180000:200000])\n",
    "\n",
    "result10 = linear_regressor.predict(X_test_sc[200000:220000])\n",
    "result11 = linear_regressor.predict(X_test_sc[220000:240000])\n",
    "result12 = linear_regressor.predict(X_test_sc[240000:260000])\n",
    "result13 = linear_regressor.predict(X_test_sc[260000:280000])\n",
    "result14 = linear_regressor.predict(X_test_sc[280000:300000])\n",
    "\n",
    "result15 = linear_regressor.predict(X_test_sc[300000:320000])\n",
    "result16 = linear_regressor.predict(X_test_sc[320000:340000])\n",
    "result17 = linear_regressor.predict(X_test_sc[340000:360000])\n",
    "result18 = linear_regressor.predict(X_test_sc[360000:380000])\n",
    "result19 = linear_regressor.predict(X_test_sc[380000:400000])\n",
    "\n",
    "result20 = linear_regressor.predict(X_test_sc[400000:420000])\n",
    "result21 = linear_regressor.predict(X_test_sc[420000:439977])"
   ]
  },
  {
   "cell_type": "code",
   "execution_count": 136,
   "id": "7022f3c9-8506-4945-8036-27555aae3aec",
   "metadata": {
    "tags": []
   },
   "outputs": [
    {
     "data": {
      "text/plain": [
       "439977"
      ]
     },
     "execution_count": 136,
     "metadata": {},
     "output_type": "execute_result"
    }
   ],
   "source": [
    "len(X_test_sc)"
   ]
  },
  {
   "cell_type": "code",
   "execution_count": 143,
   "id": "d8ba46f8-fb6c-4cfa-91a6-e89ea1ec182c",
   "metadata": {
    "tags": []
   },
   "outputs": [],
   "source": [
    "predictions0 = np.array([res['score'] for res in result0['predictions']])\n",
    "predictions1 = np.array([res['score'] for res in result1['predictions']])\n",
    "predictions2 = np.array([res['score'] for res in result2['predictions']])\n",
    "predictions3 = np.array([res['score'] for res in result3['predictions']])\n",
    "predictions4 = np.array([res['score'] for res in result4['predictions']])\n",
    "predictions5 = np.array([res['score'] for res in result5['predictions']])\n",
    "predictions6 = np.array([res['score'] for res in result6['predictions']])\n",
    "predictions7 = np.array([res['score'] for res in result7['predictions']])\n",
    "predictions8 = np.array([res['score'] for res in result8['predictions']])\n",
    "predictions9 = np.array([res['score'] for res in result9['predictions']])\n",
    "predictions10 = np.array([res['score'] for res in result10['predictions']])\n",
    "predictions11 = np.array([res['score'] for res in result11['predictions']])\n",
    "predictions12 = np.array([res['score'] for res in result12['predictions']])\n",
    "predictions13 = np.array([res['score'] for res in result13['predictions']])\n",
    "predictions14 = np.array([res['score'] for res in result14['predictions']])\n",
    "predictions15 = np.array([res['score'] for res in result15['predictions']])\n",
    "predictions16 = np.array([res['score'] for res in result16['predictions']])\n",
    "predictions17 = np.array([res['score'] for res in result17['predictions']])\n",
    "predictions18 = np.array([res['score'] for res in result18['predictions']])\n",
    "predictions19 = np.array([res['score'] for res in result19['predictions']])\n",
    "predictions20 = np.array([res['score'] for res in result20['predictions']])\n",
    "predictions21 = np.array([res['score'] for res in result21['predictions']])"
   ]
  },
  {
   "cell_type": "code",
   "execution_count": 144,
   "id": "dedc2a5f-af7c-486e-a251-f37a48eff12d",
   "metadata": {
    "tags": []
   },
   "outputs": [],
   "source": [
    "#predictions = np.array([res['score'] for res in result['predictions']])"
   ]
  },
  {
   "cell_type": "code",
   "execution_count": 149,
   "id": "f6efa2ca-e943-45b4-bb81-e66adbb45f52",
   "metadata": {
    "tags": []
   },
   "outputs": [],
   "source": [
    "all_preds = np.concatenate((predictions0,\n",
    "               predictions1,\n",
    "               predictions2,\n",
    "               predictions3,\n",
    "               predictions4,\n",
    "               predictions5,\n",
    "               predictions6,\n",
    "               predictions7,\n",
    "               predictions8,\n",
    "               predictions9,\n",
    "               predictions10,\n",
    "               predictions11,\n",
    "               predictions12,\n",
    "               predictions13,\n",
    "               predictions14,\n",
    "               predictions15,\n",
    "               predictions16,\n",
    "               predictions17,\n",
    "               predictions18,\n",
    "               predictions19,\n",
    "               predictions20,\n",
    "               predictions21))"
   ]
  },
  {
   "cell_type": "code",
   "execution_count": 150,
   "id": "557cd199-9af4-4dd0-b1a0-0a16e542db6e",
   "metadata": {
    "tags": []
   },
   "outputs": [
    {
     "data": {
      "text/plain": [
       "<matplotlib.collections.PathCollection at 0x7f327f2dbb10>"
      ]
     },
     "execution_count": 150,
     "metadata": {},
     "output_type": "execute_result"
    },
    {
     "data": {
      "image/png": "[encoded data removed]",
      "text/plain": [
       "<Figure size 640x480 with 1 Axes>"
      ]
     },
     "metadata": {},
     "output_type": "display_data"
    }
   ],
   "source": [
    "plt.scatter(y_test, all_preds)"
   ]
  },
  {
   "cell_type": "code",
   "execution_count": 132,
   "id": "a9bc48c1-18a3-41c9-9524-ad0720c88168",
   "metadata": {
    "tags": []
   },
   "outputs": [],
   "source": [
    "from sklearn import metrics "
   ]
  },
  {
   "cell_type": "code",
   "execution_count": 151,
   "id": "7337c2e0-136e-4d75-b4d8-ec389d52566f",
   "metadata": {
    "tags": []
   },
   "outputs": [
    {
     "data": {
      "text/plain": [
       "11592.010286298273"
      ]
     },
     "execution_count": 151,
     "metadata": {},
     "output_type": "execute_result"
    }
   ],
   "source": [
    "np.sqrt(metrics.mean_squared_error(y_test, all_preds))"
   ]
  },
  {
   "cell_type": "code",
   "execution_count": 155,
   "id": "35b32573-0548-4c84-903e-3e215dec0623",
   "metadata": {
    "tags": []
   },
   "outputs": [
    {
     "name": "stdout",
     "output_type": "stream",
     "text": [
      "Stored 'all_preds' (ndarray)\n"
     ]
    }
   ],
   "source": [
    "%store all_preds"
   ]
  },
  {
   "cell_type": "code",
   "execution_count": 156,
   "id": "2e7f6bbf-b1f2-4cce-bbc5-25aeed53416b",
   "metadata": {
    "tags": []
   },
   "outputs": [
    {
     "name": "stdout",
     "output_type": "stream",
     "text": [
      "Stored 'y_test' (Series)\n"
     ]
    }
   ],
   "source": [
    "%store y_test"
   ]
  },
  {
   "cell_type": "code",
   "execution_count": 157,
   "id": "ea9d1ff4-c929-48d6-b248-d93f57bc8a46",
   "metadata": {
    "tags": []
   },
   "outputs": [
    {
     "name": "stdout",
     "output_type": "stream",
     "text": [
      "Stored 'X_test_sc' (ndarray)\n"
     ]
    }
   ],
   "source": [
    "%store X_test_sc"
   ]
  },
  {
   "cell_type": "code",
   "execution_count": 158,
   "id": "1e6b9bf2-5302-4867-9e22-8b2c84bd8cc3",
   "metadata": {
    "tags": []
   },
   "outputs": [
    {
     "name": "stdout",
     "output_type": "stream",
     "text": [
      "Stored 'y_train' (Series)\n"
     ]
    }
   ],
   "source": [
    "%store y_train"
   ]
  },
  {
   "cell_type": "code",
   "execution_count": 159,
   "id": "2b4a4b70-5b9b-4216-8933-58fcba3b07ed",
   "metadata": {
    "tags": []
   },
   "outputs": [
    {
     "name": "stdout",
     "output_type": "stream",
     "text": [
      "Stored 'X_train_sc' (ndarray)\n"
     ]
    }
   ],
   "source": [
    "%store X_train_sc"
   ]
  },
  {
   "cell_type": "code",
   "execution_count": null,
   "id": "d831ca71-301f-4358-86a2-7364288ce22f",
   "metadata": {},
   "outputs": [],
   "source": []
  }
 ],
 "metadata": {
  "availableInstances": [
   {
    "_defaultOrder": 0,
    "_isFastLaunch": true,
    "category": "General purpose",
    "gpuNum": 0,
    "hideHardwareSpecs": false,
    "memoryGiB": 4,
    "name": "ml.t3.medium",
    "vcpuNum": 2
   },
   {
    "_defaultOrder": 1,
    "_isFastLaunch": false,
    "category": "General purpose",
    "gpuNum": 0,
    "hideHardwareSpecs": false,
    "memoryGiB": 8,
    "name": "ml.t3.large",
    "vcpuNum": 2
   },
   {
    "_defaultOrder": 2,
    "_isFastLaunch": false,
    "category": "General purpose",
    "gpuNum": 0,
    "hideHardwareSpecs": false,
    "memoryGiB": 16,
    "name": "ml.t3.xlarge",
    "vcpuNum": 4
   },
   {
    "_defaultOrder": 3,
    "_isFastLaunch": false,
    "category": "General purpose",
    "gpuNum": 0,
    "hideHardwareSpecs": false,
    "memoryGiB": 32,
    "name": "ml.t3.2xlarge",
    "vcpuNum": 8
   },
   {
    "_defaultOrder": 4,
    "_isFastLaunch": true,
    "category": "General purpose",
    "gpuNum": 0,
    "hideHardwareSpecs": false,
    "memoryGiB": 8,
    "name": "ml.m5.large",
    "vcpuNum": 2
   },
   {
    "_defaultOrder": 5,
    "_isFastLaunch": false,
    "category": "General purpose",
    "gpuNum": 0,
    "hideHardwareSpecs": false,
    "memoryGiB": 16,
    "name": "ml.m5.xlarge",
    "vcpuNum": 4
   },
   {
    "_defaultOrder": 6,
    "_isFastLaunch": false,
    "category": "General purpose",
    "gpuNum": 0,
    "hideHardwareSpecs": false,
    "memoryGiB": 32,
    "name": "ml.m5.2xlarge",
    "vcpuNum": 8
   },
   {
    "_defaultOrder": 7,
    "_isFastLaunch": false,
    "category": "General purpose",
    "gpuNum": 0,
    "hideHardwareSpecs": false,
    "memoryGiB": 64,
    "name": "ml.m5.4xlarge",
    "vcpuNum": 16
   },
   {
    "_defaultOrder": 8,
    "_isFastLaunch": false,
    "category": "General purpose",
    "gpuNum": 0,
    "hideHardwareSpecs": false,
    "memoryGiB": 128,
    "name": "ml.m5.8xlarge",
    "vcpuNum": 32
   },
   {
    "_defaultOrder": 9,
    "_isFastLaunch": false,
    "category": "General purpose",
    "gpuNum": 0,
    "hideHardwareSpecs": false,
    "memoryGiB": 192,
    "name": "ml.m5.12xlarge",
    "vcpuNum": 48
   },
   {
    "_defaultOrder": 10,
    "_isFastLaunch": false,
    "category": "General purpose",
    "gpuNum": 0,
    "hideHardwareSpecs": false,
    "memoryGiB": 256,
    "name": "ml.m5.16xlarge",
    "vcpuNum": 64
   },
   {
    "_defaultOrder": 11,
    "_isFastLaunch": false,
    "category": "General purpose",
    "gpuNum": 0,
    "hideHardwareSpecs": false,
    "memoryGiB": 384,
    "name": "ml.m5.24xlarge",
    "vcpuNum": 96
   },
   {
    "_defaultOrder": 12,
    "_isFastLaunch": false,
    "category": "General purpose",
    "gpuNum": 0,
    "hideHardwareSpecs": false,
    "memoryGiB": 8,
    "name": "ml.m5d.large",
    "vcpuNum": 2
   },
   {
    "_defaultOrder": 13,
    "_isFastLaunch": false,
    "category": "General purpose",
    "gpuNum": 0,
    "hideHardwareSpecs": false,
    "memoryGiB": 16,
    "name": "ml.m5d.xlarge",
    "vcpuNum": 4
   },
   {
    "_defaultOrder": 14,
    "_isFastLaunch": false,
    "category": "General purpose",
    "gpuNum": 0,
    "hideHardwareSpecs": false,
    "memoryGiB": 32,
    "name": "ml.m5d.2xlarge",
    "vcpuNum": 8
   },
   {
    "_defaultOrder": 15,
    "_isFastLaunch": false,
    "category": "General purpose",
    "gpuNum": 0,
    "hideHardwareSpecs": false,
    "memoryGiB": 64,
    "name": "ml.m5d.4xlarge",
    "vcpuNum": 16
   },
   {
    "_defaultOrder": 16,
    "_isFastLaunch": false,
    "category": "General purpose",
    "gpuNum": 0,
    "hideHardwareSpecs": false,
    "memoryGiB": 128,
    "name": "ml.m5d.8xlarge",
    "vcpuNum": 32
   },
   {
    "_defaultOrder": 17,
    "_isFastLaunch": false,
    "category": "General purpose",
    "gpuNum": 0,
    "hideHardwareSpecs": false,
    "memoryGiB": 192,
    "name": "ml.m5d.12xlarge",
    "vcpuNum": 48
   },
   {
    "_defaultOrder": 18,
    "_isFastLaunch": false,
    "category": "General purpose",
    "gpuNum": 0,
    "hideHardwareSpecs": false,
    "memoryGiB": 256,
    "name": "ml.m5d.16xlarge",
    "vcpuNum": 64
   },
   {
    "_defaultOrder": 19,
    "_isFastLaunch": false,
    "category": "General purpose",
    "gpuNum": 0,
    "hideHardwareSpecs": false,
    "memoryGiB": 384,
    "name": "ml.m5d.24xlarge",
    "vcpuNum": 96
   },
   {
    "_defaultOrder": 20,
    "_isFastLaunch": false,
    "category": "General purpose",
    "gpuNum": 0,
    "hideHardwareSpecs": true,
    "memoryGiB": 0,
    "name": "ml.geospatial.interactive",
    "supportedImageNames": [
     "sagemaker-geospatial-v1-0"
    ],
    "vcpuNum": 0
   },
   {
    "_defaultOrder": 21,
    "_isFastLaunch": true,
    "category": "Compute optimized",
    "gpuNum": 0,
    "hideHardwareSpecs": false,
    "memoryGiB": 4,
    "name": "ml.c5.large",
    "vcpuNum": 2
   },
   {
    "_defaultOrder": 22,
    "_isFastLaunch": false,
    "category": "Compute optimized",
    "gpuNum": 0,
    "hideHardwareSpecs": false,
    "memoryGiB": 8,
    "name": "ml.c5.xlarge",
    "vcpuNum": 4
   },
   {
    "_defaultOrder": 23,
    "_isFastLaunch": false,
    "category": "Compute optimized",
    "gpuNum": 0,
    "hideHardwareSpecs": false,
    "memoryGiB": 16,
    "name": "ml.c5.2xlarge",
    "vcpuNum": 8
   },
   {
    "_defaultOrder": 24,
    "_isFastLaunch": false,
    "category": "Compute optimized",
    "gpuNum": 0,
    "hideHardwareSpecs": false,
    "memoryGiB": 32,
    "name": "ml.c5.4xlarge",
    "vcpuNum": 16
   },
   {
    "_defaultOrder": 25,
    "_isFastLaunch": false,
    "category": "Compute optimized",
    "gpuNum": 0,
    "hideHardwareSpecs": false,
    "memoryGiB": 72,
    "name": "ml.c5.9xlarge",
    "vcpuNum": 36
   },
   {
    "_defaultOrder": 26,
    "_isFastLaunch": false,
    "category": "Compute optimized",
    "gpuNum": 0,
    "hideHardwareSpecs": false,
    "memoryGiB": 96,
    "name": "ml.c5.12xlarge",
    "vcpuNum": 48
   },
   {
    "_defaultOrder": 27,
    "_isFastLaunch": false,
    "category": "Compute optimized",
    "gpuNum": 0,
    "hideHardwareSpecs": false,
    "memoryGiB": 144,
    "name": "ml.c5.18xlarge",
    "vcpuNum": 72
   },
   {
    "_defaultOrder": 28,
    "_isFastLaunch": false,
    "category": "Compute optimized",
    "gpuNum": 0,
    "hideHardwareSpecs": false,
    "memoryGiB": 192,
    "name": "ml.c5.24xlarge",
    "vcpuNum": 96
   },
   {
    "_defaultOrder": 29,
    "_isFastLaunch": true,
    "category": "Accelerated computing",
    "gpuNum": 1,
    "hideHardwareSpecs": false,
    "memoryGiB": 16,
    "name": "ml.g4dn.xlarge",
    "vcpuNum": 4
   },
   {
    "_defaultOrder": 30,
    "_isFastLaunch": false,
    "category": "Accelerated computing",
    "gpuNum": 1,
    "hideHardwareSpecs": false,
    "memoryGiB": 32,
    "name": "ml.g4dn.2xlarge",
    "vcpuNum": 8
   },
   {
    "_defaultOrder": 31,
    "_isFastLaunch": false,
    "category": "Accelerated computing",
    "gpuNum": 1,
    "hideHardwareSpecs": false,
    "memoryGiB": 64,
    "name": "ml.g4dn.4xlarge",
    "vcpuNum": 16
   },
   {
    "_defaultOrder": 32,
    "_isFastLaunch": false,
    "category": "Accelerated computing",
    "gpuNum": 1,
    "hideHardwareSpecs": false,
    "memoryGiB": 128,
    "name": "ml.g4dn.8xlarge",
    "vcpuNum": 32
   },
   {
    "_defaultOrder": 33,
    "_isFastLaunch": false,
    "category": "Accelerated computing",
    "gpuNum": 4,
    "hideHardwareSpecs": false,
    "memoryGiB": 192,
    "name": "ml.g4dn.12xlarge",
    "vcpuNum": 48
   },
   {
    "_defaultOrder": 34,
    "_isFastLaunch": false,
    "category": "Accelerated computing",
    "gpuNum": 1,
    "hideHardwareSpecs": false,
    "memoryGiB": 256,
    "name": "ml.g4dn.16xlarge",
    "vcpuNum": 64
   },
   {
    "_defaultOrder": 35,
    "_isFastLaunch": false,
    "category": "Accelerated computing",
    "gpuNum": 1,
    "hideHardwareSpecs": false,
    "memoryGiB": 61,
    "name": "ml.p3.2xlarge",
    "vcpuNum": 8
   },
   {
    "_defaultOrder": 36,
    "_isFastLaunch": false,
    "category": "Accelerated computing",
    "gpuNum": 4,
    "hideHardwareSpecs": false,
    "memoryGiB": 244,
    "name": "ml.p3.8xlarge",
    "vcpuNum": 32
   },
   {
    "_defaultOrder": 37,
    "_isFastLaunch": false,
    "category": "Accelerated computing",
    "gpuNum": 8,
    "hideHardwareSpecs": false,
    "memoryGiB": 488,
    "name": "ml.p3.16xlarge",
    "vcpuNum": 64
   },
   {
    "_defaultOrder": 38,
    "_isFastLaunch": false,
    "category": "Accelerated computing",
    "gpuNum": 8,
    "hideHardwareSpecs": false,
    "memoryGiB": 768,
    "name": "ml.p3dn.24xlarge",
    "vcpuNum": 96
   },
   {
    "_defaultOrder": 39,
    "_isFastLaunch": false,
    "category": "Memory Optimized",
    "gpuNum": 0,
    "hideHardwareSpecs": false,
    "memoryGiB": 16,
    "name": "ml.r5.large",
    "vcpuNum": 2
   },
   {
    "_defaultOrder": 40,
    "_isFastLaunch": false,
    "category": "Memory Optimized",
    "gpuNum": 0,
    "hideHardwareSpecs": false,
    "memoryGiB": 32,
    "name": "ml.r5.xlarge",
    "vcpuNum": 4
   },
   {
    "_defaultOrder": 41,
    "_isFastLaunch": false,
    "category": "Memory Optimized",
    "gpuNum": 0,
    "hideHardwareSpecs": false,
    "memoryGiB": 64,
    "name": "ml.r5.2xlarge",
    "vcpuNum": 8
   },
   {
    "_defaultOrder": 42,
    "_isFastLaunch": false,
    "category": "Memory Optimized",
    "gpuNum": 0,
    "hideHardwareSpecs": false,
    "memoryGiB": 128,
    "name": "ml.r5.4xlarge",
    "vcpuNum": 16
   },
   {
    "_defaultOrder": 43,
    "_isFastLaunch": false,
    "category": "Memory Optimized",
    "gpuNum": 0,
    "hideHardwareSpecs": false,
    "memoryGiB": 256,
    "name": "ml.r5.8xlarge",
    "vcpuNum": 32
   },
   {
    "_defaultOrder": 44,
    "_isFastLaunch": false,
    "category": "Memory Optimized",
    "gpuNum": 0,
    "hideHardwareSpecs": false,
    "memoryGiB": 384,
    "name": "ml.r5.12xlarge",
    "vcpuNum": 48
   },
   {
    "_defaultOrder": 45,
    "_isFastLaunch": false,
    "category": "Memory Optimized",
    "gpuNum": 0,
    "hideHardwareSpecs": false,
    "memoryGiB": 512,
    "name": "ml.r5.16xlarge",
    "vcpuNum": 64
   },
   {
    "_defaultOrder": 46,
    "_isFastLaunch": false,
    "category": "Memory Optimized",
    "gpuNum": 0,
    "hideHardwareSpecs": false,
    "memoryGiB": 768,
    "name": "ml.r5.24xlarge",
    "vcpuNum": 96
   },
   {
    "_defaultOrder": 47,
    "_isFastLaunch": false,
    "category": "Accelerated computing",
    "gpuNum": 1,
    "hideHardwareSpecs": false,
    "memoryGiB": 16,
    "name": "ml.g5.xlarge",
    "vcpuNum": 4
   },
   {
    "_defaultOrder": 48,
    "_isFastLaunch": false,
    "category": "Accelerated computing",
    "gpuNum": 1,
    "hideHardwareSpecs": false,
    "memoryGiB": 32,
    "name": "ml.g5.2xlarge",
    "vcpuNum": 8
   },
   {
    "_defaultOrder": 49,
    "_isFastLaunch": false,
    "category": "Accelerated computing",
    "gpuNum": 1,
    "hideHardwareSpecs": false,
    "memoryGiB": 64,
    "name": "ml.g5.4xlarge",
    "vcpuNum": 16
   },
   {
    "_defaultOrder": 50,
    "_isFastLaunch": false,
    "category": "Accelerated computing",
    "gpuNum": 1,
    "hideHardwareSpecs": false,
    "memoryGiB": 128,
    "name": "ml.g5.8xlarge",
    "vcpuNum": 32
   },
   {
    "_defaultOrder": 51,
    "_isFastLaunch": false,
    "category": "Accelerated computing",
    "gpuNum": 1,
    "hideHardwareSpecs": false,
    "memoryGiB": 256,
    "name": "ml.g5.16xlarge",
    "vcpuNum": 64
   },
   {
    "_defaultOrder": 52,
    "_isFastLaunch": false,
    "category": "Accelerated computing",
    "gpuNum": 4,
    "hideHardwareSpecs": false,
    "memoryGiB": 192,
    "name": "ml.g5.12xlarge",
    "vcpuNum": 48
   },
   {
    "_defaultOrder": 53,
    "_isFastLaunch": false,
    "category": "Accelerated computing",
    "gpuNum": 4,
    "hideHardwareSpecs": false,
    "memoryGiB": 384,
    "name": "ml.g5.24xlarge",
    "vcpuNum": 96
   },
   {
    "_defaultOrder": 54,
    "_isFastLaunch": false,
    "category": "Accelerated computing",
    "gpuNum": 8,
    "hideHardwareSpecs": false,
    "memoryGiB": 768,
    "name": "ml.g5.48xlarge",
    "vcpuNum": 192
   }
  ],
  "instance_type": "ml.t3.medium",
  "kernelspec": {
   "display_name": "Python 3 (Data Science)",
   "language": "python",
   "name": "python3__SAGEMAKER_INTERNAL__arn:aws:sagemaker:us-east-1:081325390199:image/datascience-1.0"
  },
  "language_info": {
   "codemirror_mode": {
    "name": "ipython",
    "version": 3
   },
   "file_extension": ".py",
   "mimetype": "text/x-python",
   "name": "python",
   "nbconvert_exporter": "python",
   "pygments_lexer": "ipython3",
   "version": "3.7.10"
  }
 },
 "nbformat": 4,
 "nbformat_minor": 5
}

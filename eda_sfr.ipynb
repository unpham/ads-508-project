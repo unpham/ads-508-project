{
 "cells": [
  {
   "cell_type": "code",
   "execution_count": 1,
   "id": "54e0661e-b8dc-41ec-8a4d-5181ef669c5d",
   "metadata": {
    "tags": []
   },
   "outputs": [],
   "source": [
    "import gzip\n",
    "# Import dependences\n",
    "import pandas as pd\n",
    "import numpy as np\n",
    "import matplotlib as mpl\n",
    "import matplotlib.pyplot as plt\n",
    "import seaborn as sns\n",
    "import warnings\n",
    "import statsmodels.api as sm\n",
    "from statsmodels.stats.outliers_influence import variance_inflation_factor\n",
    "from sklearn import preprocessing\n",
    "from sklearn.discriminant_analysis import LinearDiscriminantAnalysis\n",
    "from sklearn.model_selection import train_test_split, KFold, cross_val_score\n",
    "import sklearn.metrics as metrics\n",
    "from sklearn.metrics import accuracy_score, confusion_matrix, precision_score,recall_score, f1_score\n",
    "from sklearn.neural_network import MLPClassifier, MLPRegressor\n",
    "from sklearn.linear_model import LinearRegression\n",
    "from sklearn.tree import DecisionTreeClassifier, DecisionTreeRegressor\n",
    "from sklearn.ensemble import RandomForestRegressor\n",
    "from sklearn.neighbors import NearestNeighbors, KNeighborsClassifier,KNeighborsRegressor\n",
    "from sklearn.preprocessing import StandardScaler\n",
    "from sklearn.linear_model import LogisticRegression, LogisticRegressionCV\n",
    "from sklearn.svm import SVR\n",
    "from dmba import AIC_score, adjusted_r2_score, BIC_score, stepwise_selection\n",
    "import math\n",
    "import operator\n",
    "from prettytable import PrettyTable\n",
    "warnings.filterwarnings(\"ignore\")\n",
    "%matplotlib inline"
   ]
  },
  {
   "cell_type": "code",
   "execution_count": 2,
   "id": "638bae2b-af12-4cb9-830f-3e0fc602d4a5",
   "metadata": {
    "tags": []
   },
   "outputs": [],
   "source": [
    "with gzip.open('compensation_cpi.csv.gz', 'rb') as f:\n",
    "    df = pd.read_csv(f)"
   ]
  },
  {
   "cell_type": "code",
   "execution_count": 3,
   "id": "c32e1e34-cf82-463f-83ad-c5ae21d1f505",
   "metadata": {
    "tags": []
   },
   "outputs": [
    {
     "name": "stdout",
     "output_type": "stream",
     "text": [
      "<class 'pandas.core.frame.DataFrame'>\n",
      "RangeIndex: 1466589 entries, 0 to 1466588\n",
      "Data columns (total 15 columns):\n",
      " #   Column              Non-Null Count    Dtype  \n",
      "---  ------              --------------    -----  \n",
      " 0   year                1466589 non-null  int64  \n",
      " 1   department          1466587 non-null  object \n",
      " 2   job_title           1466043 non-null  object \n",
      " 3   base_salary         1465890 non-null  float64\n",
      " 4   overtime            1433207 non-null  float64\n",
      " 5   irregular_cash      1466155 non-null  float64\n",
      " 6   total_cash          1466589 non-null  float64\n",
      " 7   retirement          1466589 non-null  float64\n",
      " 8   health              1447602 non-null  float64\n",
      " 9   other_benefits      830557 non-null   float64\n",
      " 10  total_benefits      1466589 non-null  float64\n",
      " 11  total_compensation  1466589 non-null  float64\n",
      " 12  city_id             1466589 non-null  int64  \n",
      " 13  annual_average_cpi  1466589 non-null  float64\n",
      " 14  inflation_rate      1466589 non-null  float64\n",
      "dtypes: float64(11), int64(2), object(2)\n",
      "memory usage: 167.8+ MB\n"
     ]
    }
   ],
   "source": [
    "df.info()"
   ]
  },
  {
   "cell_type": "code",
   "execution_count": 4,
   "id": "e3ba3963-b90d-4e04-87f5-4de3ce922b79",
   "metadata": {
    "tags": []
   },
   "outputs": [
    {
     "data": {
      "text/html": [
       "<div>\n",
       "<style scoped>\n",
       "    .dataframe tbody tr th:only-of-type {\n",
       "        vertical-align: middle;\n",
       "    }\n",
       "\n",
       "    .dataframe tbody tr th {\n",
       "        vertical-align: top;\n",
       "    }\n",
       "\n",
       "    .dataframe thead th {\n",
       "        text-align: right;\n",
       "    }\n",
       "</style>\n",
       "<table border=\"1\" class=\"dataframe\">\n",
       "  <thead>\n",
       "    <tr style=\"text-align: right;\">\n",
       "      <th></th>\n",
       "      <th>year</th>\n",
       "      <th>department</th>\n",
       "      <th>job_title</th>\n",
       "      <th>base_salary</th>\n",
       "      <th>overtime</th>\n",
       "      <th>irregular_cash</th>\n",
       "      <th>total_cash</th>\n",
       "      <th>retirement</th>\n",
       "      <th>health</th>\n",
       "      <th>other_benefits</th>\n",
       "      <th>total_benefits</th>\n",
       "      <th>total_compensation</th>\n",
       "      <th>city_id</th>\n",
       "      <th>annual_average_cpi</th>\n",
       "      <th>inflation_rate</th>\n",
       "    </tr>\n",
       "  </thead>\n",
       "  <tbody>\n",
       "    <tr>\n",
       "      <th>0</th>\n",
       "      <td>2020</td>\n",
       "      <td>Recreation And Park Commission</td>\n",
       "      <td>Camp Assistant</td>\n",
       "      <td>5257.50</td>\n",
       "      <td>0.0</td>\n",
       "      <td>139.32</td>\n",
       "      <td>5396.82</td>\n",
       "      <td>0.0</td>\n",
       "      <td>0.0</td>\n",
       "      <td>418.88</td>\n",
       "      <td>418.88</td>\n",
       "      <td>5815.70</td>\n",
       "      <td>2</td>\n",
       "      <td>258.8</td>\n",
       "      <td>1.2</td>\n",
       "    </tr>\n",
       "    <tr>\n",
       "      <th>1</th>\n",
       "      <td>2020</td>\n",
       "      <td>Registrar</td>\n",
       "      <td>Junior Clerk</td>\n",
       "      <td>7699.19</td>\n",
       "      <td>1916.9</td>\n",
       "      <td>0.00</td>\n",
       "      <td>9616.09</td>\n",
       "      <td>0.0</td>\n",
       "      <td>0.0</td>\n",
       "      <td>746.36</td>\n",
       "      <td>746.36</td>\n",
       "      <td>10362.45</td>\n",
       "      <td>2</td>\n",
       "      <td>258.8</td>\n",
       "      <td>1.2</td>\n",
       "    </tr>\n",
       "    <tr>\n",
       "      <th>2</th>\n",
       "      <td>2020</td>\n",
       "      <td>Registrar</td>\n",
       "      <td>Junior Clerk</td>\n",
       "      <td>2619.15</td>\n",
       "      <td>930.5</td>\n",
       "      <td>0.00</td>\n",
       "      <td>3549.65</td>\n",
       "      <td>0.0</td>\n",
       "      <td>0.0</td>\n",
       "      <td>275.51</td>\n",
       "      <td>275.51</td>\n",
       "      <td>3825.16</td>\n",
       "      <td>2</td>\n",
       "      <td>258.8</td>\n",
       "      <td>1.2</td>\n",
       "    </tr>\n",
       "  </tbody>\n",
       "</table>\n",
       "</div>"
      ],
      "text/plain": [
       "   year                      department       job_title  base_salary  \\\n",
       "0  2020  Recreation And Park Commission  Camp Assistant      5257.50   \n",
       "1  2020                       Registrar    Junior Clerk      7699.19   \n",
       "2  2020                       Registrar    Junior Clerk      2619.15   \n",
       "\n",
       "   overtime  irregular_cash  total_cash  retirement  health  other_benefits  \\\n",
       "0       0.0          139.32     5396.82         0.0     0.0          418.88   \n",
       "1    1916.9            0.00     9616.09         0.0     0.0          746.36   \n",
       "2     930.5            0.00     3549.65         0.0     0.0          275.51   \n",
       "\n",
       "   total_benefits  total_compensation  city_id  annual_average_cpi  \\\n",
       "0          418.88             5815.70        2               258.8   \n",
       "1          746.36            10362.45        2               258.8   \n",
       "2          275.51             3825.16        2               258.8   \n",
       "\n",
       "   inflation_rate  \n",
       "0             1.2  \n",
       "1             1.2  \n",
       "2             1.2  "
      ]
     },
     "execution_count": 4,
     "metadata": {},
     "output_type": "execute_result"
    }
   ],
   "source": [
    "df.head(3)"
   ]
  },
  {
   "cell_type": "code",
   "execution_count": 5,
   "id": "9cf15fc2-f25f-49ab-bcdf-958bef0033c0",
   "metadata": {
    "tags": []
   },
   "outputs": [
    {
     "data": {
      "text/plain": [
       "array(['District Attorney', 'DAT District Attorney',\n",
       "       'Council - District 7', 'Council - District 2',\n",
       "       'Council - District 10', 'Council - District 8',\n",
       "       'Council - District 3', 'Council - District 5',\n",
       "       'Council - District 1', 'Council - District 9',\n",
       "       'Council - District 4', 'Council - District 6', 'Parks District 8'],\n",
       "      dtype=object)"
      ]
     },
     "execution_count": 5,
     "metadata": {},
     "output_type": "execute_result"
    }
   ],
   "source": [
    "df[df['department'].str.contains('District') == True]['department'].unique()"
   ]
  },
  {
   "cell_type": "code",
   "execution_count": 6,
   "id": "8ca522d5-e220-4d0a-8f59-37c75f134eb0",
   "metadata": {
    "tags": []
   },
   "outputs": [
    {
     "data": {
      "image/png": "[encoded data removed]",
      "text/plain": [
       "<Figure size 432x288 with 1 Axes>"
      ]
     },
     "metadata": {
      "needs_background": "light"
     },
     "output_type": "display_data"
    }
   ],
   "source": [
    "sns.scatterplot(data=df,x='year',y=\"annual_average_cpi\")\n",
    "plt.title(\"Inflation / CPI index 2013 - 2021\");"
   ]
  },
  {
   "cell_type": "code",
   "execution_count": 7,
   "id": "cebbfa8f-14db-4eb5-abd7-9a73b1dc48f8",
   "metadata": {
    "tags": []
   },
   "outputs": [
    {
     "data": {
      "text/html": [
       "<div>\n",
       "<style scoped>\n",
       "    .dataframe tbody tr th:only-of-type {\n",
       "        vertical-align: middle;\n",
       "    }\n",
       "\n",
       "    .dataframe tbody tr th {\n",
       "        vertical-align: top;\n",
       "    }\n",
       "\n",
       "    .dataframe thead th {\n",
       "        text-align: right;\n",
       "    }\n",
       "</style>\n",
       "<table border=\"1\" class=\"dataframe\">\n",
       "  <thead>\n",
       "    <tr style=\"text-align: right;\">\n",
       "      <th></th>\n",
       "      <th>year</th>\n",
       "      <th>department</th>\n",
       "      <th>job_title</th>\n",
       "      <th>base_salary</th>\n",
       "      <th>overtime</th>\n",
       "      <th>irregular_cash</th>\n",
       "      <th>total_cash</th>\n",
       "      <th>retirement</th>\n",
       "      <th>health</th>\n",
       "      <th>other_benefits</th>\n",
       "      <th>total_benefits</th>\n",
       "      <th>total_compensation</th>\n",
       "      <th>city_id</th>\n",
       "      <th>annual_average_cpi</th>\n",
       "      <th>inflation_rate</th>\n",
       "    </tr>\n",
       "  </thead>\n",
       "  <tbody>\n",
       "    <tr>\n",
       "      <th>139761</th>\n",
       "      <td>2017</td>\n",
       "      <td>NaN</td>\n",
       "      <td>Sheriff's Cadet</td>\n",
       "      <td>49630.50</td>\n",
       "      <td>15016.51</td>\n",
       "      <td>3197.52</td>\n",
       "      <td>67844.53</td>\n",
       "      <td>10619.27</td>\n",
       "      <td>12779.88</td>\n",
       "      <td>4796.56</td>\n",
       "      <td>28195.71</td>\n",
       "      <td>96040.24</td>\n",
       "      <td>2</td>\n",
       "      <td>245.1</td>\n",
       "      <td>2.1</td>\n",
       "    </tr>\n",
       "    <tr>\n",
       "      <th>430579</th>\n",
       "      <td>2017</td>\n",
       "      <td>NaN</td>\n",
       "      <td>Police Officer 2</td>\n",
       "      <td>116189.62</td>\n",
       "      <td>40990.09</td>\n",
       "      <td>2260.08</td>\n",
       "      <td>159439.80</td>\n",
       "      <td>20076.66</td>\n",
       "      <td>14515.01</td>\n",
       "      <td>2724.05</td>\n",
       "      <td>37315.72</td>\n",
       "      <td>196755.52</td>\n",
       "      <td>2</td>\n",
       "      <td>245.1</td>\n",
       "      <td>2.1</td>\n",
       "    </tr>\n",
       "  </tbody>\n",
       "</table>\n",
       "</div>"
      ],
      "text/plain": [
       "        year department         job_title  base_salary  overtime  \\\n",
       "139761  2017        NaN   Sheriff's Cadet     49630.50  15016.51   \n",
       "430579  2017        NaN  Police Officer 2    116189.62  40990.09   \n",
       "\n",
       "        irregular_cash  total_cash  retirement    health  other_benefits  \\\n",
       "139761         3197.52    67844.53    10619.27  12779.88         4796.56   \n",
       "430579         2260.08   159439.80    20076.66  14515.01         2724.05   \n",
       "\n",
       "        total_benefits  total_compensation  city_id  annual_average_cpi  \\\n",
       "139761        28195.71            96040.24        2               245.1   \n",
       "430579        37315.72           196755.52        2               245.1   \n",
       "\n",
       "        inflation_rate  \n",
       "139761             2.1  \n",
       "430579             2.1  "
      ]
     },
     "execution_count": 7,
     "metadata": {},
     "output_type": "execute_result"
    }
   ],
   "source": [
    "#we have two missing department names but they are both police\n",
    "df[df['department'].isna()]"
   ]
  },
  {
   "cell_type": "code",
   "execution_count": 8,
   "id": "9e126458-0291-4bd0-b913-04a1d1a0587f",
   "metadata": {
    "tags": []
   },
   "outputs": [],
   "source": [
    "#fill in the missing police department names\n",
    "df['department'].fillna('Police',inplace=True)"
   ]
  },
  {
   "cell_type": "code",
   "execution_count": 9,
   "id": "86945af9-ec26-40e4-9889-d30456f4b03a",
   "metadata": {
    "tags": []
   },
   "outputs": [
    {
     "data": {
      "text/plain": [
       "POLICE                          136819\n",
       "WATER AND POWER                 109906\n",
       "Public Health                    95725\n",
       "RECREATION AND PARKS             84680\n",
       "DPH Public Health                73093\n",
       "                                 ...  \n",
       "Airport-Custodians                   1\n",
       "Police-Crisis Management             1\n",
       "Police-TABS                          1\n",
       "Attorney-Part Time                   1\n",
       "DOT/Pavement Maint Southeast         1\n",
       "Name: department, Length: 550, dtype: int64"
      ]
     },
     "execution_count": 9,
     "metadata": {},
     "output_type": "execute_result"
    }
   ],
   "source": [
    "df['department'].value_counts()"
   ]
  },
  {
   "cell_type": "markdown",
   "id": "99697352-85ec-4e99-82b8-3096794f0223",
   "metadata": {},
   "source": [
    "### Condensing Department Names"
   ]
  },
  {
   "cell_type": "code",
   "execution_count": 10,
   "id": "da27adea-bafe-408c-824e-e44fa5e862c6",
   "metadata": {
    "tags": []
   },
   "outputs": [],
   "source": [
    "def replace_text(text):\n",
    "    if pd.isna(text) or text is None:\n",
    "        return text\n",
    "    elif target_word.lower() in text.lower():\n",
    "        return new_word\n",
    "    else:\n",
    "        return text"
   ]
  },
  {
   "cell_type": "code",
   "execution_count": 11,
   "id": "717acf97-49d8-4a97-b441-35423e94af97",
   "metadata": {
    "tags": []
   },
   "outputs": [],
   "source": [
    "target_word= \"Police\"\n",
    "new_word= \"Police\"\n",
    "df['department'] = df['department'].apply(replace_text)"
   ]
  },
  {
   "cell_type": "code",
   "execution_count": 12,
   "id": "d11df515-e8d6-4a95-b613-91cc0fe514a4",
   "metadata": {
    "tags": []
   },
   "outputs": [],
   "source": [
    "dept_dict = {\n",
    "    'Police': 'Police', 'Sheriff': 'Police', \"Vcet\" : \"Police\",   \n",
    "    \"Fire\" : \"Emergency Management\",    \"Emergency\" : \"Emergency Management\",\n",
    "    \"PW\" : \"Public Works\",    \"Public\" : \"Public Works\",    \"Water\" : \"Public Works\",    \"DOT\" : \"Public Works\",    \"Transport\" : \"Public Works\",\n",
    "    \"Plan\" : \"Public Works\",    \"Building\" : \"Public Works\",    #\"District\" : \"Public Works\",    \n",
    "    \"PRNS\" : \"Parks\",    \"Recre\" : \"Parks\",    \"Zoo\" : \"Parks\",    \"Parks\" : \"Parks\",    \"Arena\" : \"Parks\",\n",
    "    \"City\" : \"City Mgmt\",    \"Convention\" : \"City Mgmt\",    \"Neighbor\" : \"City Mgmt\",    \"Election\" : \"City Mgmt\",    \"Council\" : \"City Mgmt\",\n",
    "    \"CII\" : \"City Mgmt\",    \"Clerk\" : \"City Mgmt\",    \"Registrar\" : \"City Mgmt\",    \"Housing\" : \"City Mgmt\",    \"Mayor\" : \"City Mgmt\",    \"rda\" : \"City Mgmt\",\n",
    "    \"Airport\" : \"Airport\",    \"Airside\" : \"Airport\",\n",
    "    \"Finance\" : \"Finance\",    \"Auditor\" : \"Finance\",    \"Assessor\" : \"Finance\",    \"Controller\" : \"Finance\",    \"Tax\" : \"Finance\", \"Treasure\" : \"Finance\",\n",
    "    \"Board\" : \"Law and Reg\",    \"Attorney\" : \"Law and Reg\",    \"Court\" : \"Law and Reg\",\n",
    "    \"Ethics\" : \"Law and Reg\",    \"Probation\" : \"Law and Reg\",    \"Regulation\" : \"Law and Reg\",\n",
    "    \"prt\" : \"Port\",    \"port\" : \"Port\", \"Harbor\" : \"Port\",\n",
    "    \"Human\" : \"Human Services\",    \"Retire\" : \"Human Services\",    \"Child\" : \"Human Services\",    \"Service\" : \"Human Services\",\n",
    "    \"Personnel\" : \"Human Services\",    \"Aging\" : \"Human Services\",    \"Women\" : \"Human Services\",    \"Pension\" : \"Human Services\",\n",
    "    \"Disability\" : \"Human Services\",    \"Families\" : \"Human Services\", \"Youth\" : \"Human Services\",\n",
    "    \"ESD\" : \"Human Services\",    \"Employee\" : \"Human Services\",\n",
    "    \"Info\" : \"IT\",    \"Tech\" : \"IT\",\n",
    "    \"Envi\" : \"Energy, Env, Economy\",    \"Energy\" : \"Energy, Env, Economy\",    \"Power\" : \"Energy, Env, Economy\", \"Econ\" : \"Energy, Env, Economy\",\n",
    "    \"Science\" : \"Libraries, Arts, Science, Museums\",    \"Librar\" : \"Libraries, Arts, Science, Museums\",    \"Museum\" : \"Libraries, Arts, Science, Museums\",\n",
    "    \"Memorial\" : \"Libraries, Arts, Science, Museums\",    \"Monument\" : \"Libraries, Arts, Science, Museums\",    \"Arts\" : \"Libraries, Arts, Science, Museums\",\n",
    "    \"Cultur\" : \"Libraries, Arts, Science, Museums\", \"Art Commission\" : \"Libraries, Arts, Science, Museums\"\n",
    "}"
   ]
  },
  {
   "cell_type": "code",
   "execution_count": 13,
   "id": "d1433337-ed87-4e3f-89db-f630eadd9369",
   "metadata": {
    "tags": []
   },
   "outputs": [],
   "source": [
    "for key in dept_dict:\n",
    "    target_word= key\n",
    "    new_word= dept_dict[key]\n",
    "    df['department'] = df['department'].apply(replace_text)"
   ]
  },
  {
   "cell_type": "code",
   "execution_count": 14,
   "id": "5d94637e-7954-44ca-8ef6-2c15721c4be7",
   "metadata": {
    "tags": []
   },
   "outputs": [
    {
     "data": {
      "text/plain": [
       "Public Works                         0.384807\n",
       "Police                               0.159051\n",
       "Port                                 0.098913\n",
       "Parks                                0.097807\n",
       "Human Services                       0.085051\n",
       "Emergency Management                 0.057883\n",
       "City Mgmt                            0.046575\n",
       "Libraries, Arts, Science, Museums    0.022667\n",
       "Law and Reg                          0.019740\n",
       "Finance                              0.014328\n",
       "IT                                   0.008094\n",
       "Energy, Env, Economy                 0.005083\n",
       "Name: department, dtype: float64"
      ]
     },
     "execution_count": 14,
     "metadata": {},
     "output_type": "execute_result"
    }
   ],
   "source": [
    "df['department'].value_counts(normalize=True)"
   ]
  },
  {
   "cell_type": "markdown",
   "id": "37f21447-41e5-47c5-82dc-20d4523525c2",
   "metadata": {},
   "source": [
    "### Adjusting all numbers to present-day CPI"
   ]
  },
  {
   "cell_type": "code",
   "execution_count": 15,
   "id": "c739adec-27ac-4bab-b502-2c022834b0b9",
   "metadata": {
    "tags": []
   },
   "outputs": [],
   "source": [
    "df['base_salary'] = df['base_salary'] * (df['annual_average_cpi'].max() / df['annual_average_cpi'])\n",
    "df['overtime'] = df['overtime'] * (df['annual_average_cpi'].max() / df['annual_average_cpi'])\n",
    "df['irregular_cash'] = df['irregular_cash'] * (df['annual_average_cpi'].max() / df['annual_average_cpi'])\n",
    "df['total_cash'] = df['total_cash'] * (df['annual_average_cpi'].max() / df['annual_average_cpi'])\n",
    "\n",
    "df['retirement'] = df['retirement'] * (df['annual_average_cpi'].max() / df['annual_average_cpi'])\n",
    "df['health'] = df['health'] * (df['annual_average_cpi'].max() / df['annual_average_cpi'])\n",
    "df['other_benefits'] = df['other_benefits'] * (df['annual_average_cpi'].max() / df['annual_average_cpi'])\n",
    "df['total_benefits'] = df['total_benefits'] * (df['annual_average_cpi'].max() / df['annual_average_cpi'])\n",
    "df['total_compensation'] = df['total_compensation'] * (df['annual_average_cpi'].max() / df['annual_average_cpi'])"
   ]
  },
  {
   "cell_type": "code",
   "execution_count": 16,
   "id": "7b5848e7-143d-47cc-8716-02421be4fa14",
   "metadata": {
    "tags": []
   },
   "outputs": [
    {
     "data": {
      "text/html": [
       "<div>\n",
       "<style scoped>\n",
       "    .dataframe tbody tr th:only-of-type {\n",
       "        vertical-align: middle;\n",
       "    }\n",
       "\n",
       "    .dataframe tbody tr th {\n",
       "        vertical-align: top;\n",
       "    }\n",
       "\n",
       "    .dataframe thead th {\n",
       "        text-align: right;\n",
       "    }\n",
       "</style>\n",
       "<table border=\"1\" class=\"dataframe\">\n",
       "  <thead>\n",
       "    <tr style=\"text-align: right;\">\n",
       "      <th></th>\n",
       "      <th>year</th>\n",
       "      <th>department</th>\n",
       "      <th>job_title</th>\n",
       "      <th>base_salary</th>\n",
       "      <th>overtime</th>\n",
       "      <th>irregular_cash</th>\n",
       "      <th>total_cash</th>\n",
       "      <th>retirement</th>\n",
       "      <th>health</th>\n",
       "      <th>other_benefits</th>\n",
       "      <th>total_benefits</th>\n",
       "      <th>total_compensation</th>\n",
       "      <th>city_id</th>\n",
       "      <th>annual_average_cpi</th>\n",
       "      <th>inflation_rate</th>\n",
       "    </tr>\n",
       "  </thead>\n",
       "  <tbody>\n",
       "    <tr>\n",
       "      <th>0</th>\n",
       "      <td>2020</td>\n",
       "      <td>Parks</td>\n",
       "      <td>Camp Assistant</td>\n",
       "      <td>5505.341963</td>\n",
       "      <td>0.000000</td>\n",
       "      <td>145.887635</td>\n",
       "      <td>5651.229598</td>\n",
       "      <td>0.000000</td>\n",
       "      <td>0.000000</td>\n",
       "      <td>438.626275</td>\n",
       "      <td>438.626275</td>\n",
       "      <td>6089.855873</td>\n",
       "      <td>2</td>\n",
       "      <td>258.8</td>\n",
       "      <td>1.2</td>\n",
       "    </tr>\n",
       "    <tr>\n",
       "      <th>1</th>\n",
       "      <td>2020</td>\n",
       "      <td>City Mgmt</td>\n",
       "      <td>Junior Clerk</td>\n",
       "      <td>8062.134815</td>\n",
       "      <td>2007.263910</td>\n",
       "      <td>0.000000</td>\n",
       "      <td>10069.398725</td>\n",
       "      <td>0.000000</td>\n",
       "      <td>0.000000</td>\n",
       "      <td>781.543895</td>\n",
       "      <td>781.543895</td>\n",
       "      <td>10850.942620</td>\n",
       "      <td>2</td>\n",
       "      <td>258.8</td>\n",
       "      <td>1.2</td>\n",
       "    </tr>\n",
       "    <tr>\n",
       "      <th>2</th>\n",
       "      <td>2020</td>\n",
       "      <td>City Mgmt</td>\n",
       "      <td>Junior Clerk</td>\n",
       "      <td>2742.618431</td>\n",
       "      <td>974.364374</td>\n",
       "      <td>0.000000</td>\n",
       "      <td>3716.982805</td>\n",
       "      <td>0.000000</td>\n",
       "      <td>0.000000</td>\n",
       "      <td>288.497720</td>\n",
       "      <td>288.497720</td>\n",
       "      <td>4005.480526</td>\n",
       "      <td>2</td>\n",
       "      <td>258.8</td>\n",
       "      <td>1.2</td>\n",
       "    </tr>\n",
       "    <tr>\n",
       "      <th>3</th>\n",
       "      <td>2020</td>\n",
       "      <td>City Mgmt</td>\n",
       "      <td>Clerk</td>\n",
       "      <td>1958.802241</td>\n",
       "      <td>619.090495</td>\n",
       "      <td>0.000000</td>\n",
       "      <td>2577.892736</td>\n",
       "      <td>0.000000</td>\n",
       "      <td>0.000000</td>\n",
       "      <td>200.077164</td>\n",
       "      <td>200.077164</td>\n",
       "      <td>2777.969900</td>\n",
       "      <td>2</td>\n",
       "      <td>258.8</td>\n",
       "      <td>1.2</td>\n",
       "    </tr>\n",
       "    <tr>\n",
       "      <th>4</th>\n",
       "      <td>2020</td>\n",
       "      <td>Public Works</td>\n",
       "      <td>Engineer</td>\n",
       "      <td>166298.647372</td>\n",
       "      <td>0.000000</td>\n",
       "      <td>5944.554637</td>\n",
       "      <td>172243.202009</td>\n",
       "      <td>35106.269861</td>\n",
       "      <td>15799.729328</td>\n",
       "      <td>12219.283192</td>\n",
       "      <td>63125.282380</td>\n",
       "      <td>235368.484389</td>\n",
       "      <td>2</td>\n",
       "      <td>258.8</td>\n",
       "      <td>1.2</td>\n",
       "    </tr>\n",
       "  </tbody>\n",
       "</table>\n",
       "</div>"
      ],
      "text/plain": [
       "   year    department       job_title    base_salary     overtime  \\\n",
       "0  2020         Parks  Camp Assistant    5505.341963     0.000000   \n",
       "1  2020     City Mgmt    Junior Clerk    8062.134815  2007.263910   \n",
       "2  2020     City Mgmt    Junior Clerk    2742.618431   974.364374   \n",
       "3  2020     City Mgmt           Clerk    1958.802241   619.090495   \n",
       "4  2020  Public Works        Engineer  166298.647372     0.000000   \n",
       "\n",
       "   irregular_cash     total_cash    retirement        health  other_benefits  \\\n",
       "0      145.887635    5651.229598      0.000000      0.000000      438.626275   \n",
       "1        0.000000   10069.398725      0.000000      0.000000      781.543895   \n",
       "2        0.000000    3716.982805      0.000000      0.000000      288.497720   \n",
       "3        0.000000    2577.892736      0.000000      0.000000      200.077164   \n",
       "4     5944.554637  172243.202009  35106.269861  15799.729328    12219.283192   \n",
       "\n",
       "   total_benefits  total_compensation  city_id  annual_average_cpi  \\\n",
       "0      438.626275         6089.855873        2               258.8   \n",
       "1      781.543895        10850.942620        2               258.8   \n",
       "2      288.497720         4005.480526        2               258.8   \n",
       "3      200.077164         2777.969900        2               258.8   \n",
       "4    63125.282380       235368.484389        2               258.8   \n",
       "\n",
       "   inflation_rate  \n",
       "0             1.2  \n",
       "1             1.2  \n",
       "2             1.2  \n",
       "3             1.2  \n",
       "4             1.2  "
      ]
     },
     "execution_count": 16,
     "metadata": {},
     "output_type": "execute_result"
    }
   ],
   "source": [
    "df.head()"
   ]
  },
  {
   "cell_type": "markdown",
   "id": "46a0b2ca-378e-465f-b887-a4d348d79e7c",
   "metadata": {},
   "source": [
    "### More cleaning"
   ]
  },
  {
   "cell_type": "markdown",
   "id": "ce4c01e1-d30f-42de-9fc4-94d02b3af182",
   "metadata": {},
   "source": [
    "Changing integers for Year and City into categorical variables"
   ]
  },
  {
   "cell_type": "code",
   "execution_count": 17,
   "id": "61ab4fcb-f90b-458c-9d3f-cefb77417f50",
   "metadata": {
    "tags": []
   },
   "outputs": [],
   "source": [
    "df['year'] = df['year'].astype('category')\n",
    "df['city_id'] = df['city_id'].astype('category')"
   ]
  },
  {
   "cell_type": "code",
   "execution_count": 18,
   "id": "f4bc1859-25be-4658-9a9e-c03d360a4f3e",
   "metadata": {
    "tags": []
   },
   "outputs": [
    {
     "data": {
      "text/plain": [
       "year                       0\n",
       "department                 0\n",
       "job_title                546\n",
       "base_salary              699\n",
       "overtime               33382\n",
       "irregular_cash           434\n",
       "total_cash                 0\n",
       "retirement                 0\n",
       "health                 18987\n",
       "other_benefits        636032\n",
       "total_benefits             0\n",
       "total_compensation         0\n",
       "city_id                    0\n",
       "annual_average_cpi         0\n",
       "inflation_rate             0\n",
       "dtype: int64"
      ]
     },
     "execution_count": 18,
     "metadata": {},
     "output_type": "execute_result"
    }
   ],
   "source": [
    "df.isna().sum()"
   ]
  },
  {
   "cell_type": "markdown",
   "id": "39e5b060-33bf-4a3c-ab46-62365d985bfe",
   "metadata": {},
   "source": [
    "I feel justified filling in null \"health\" and \"other_benefits\" values with 0 because it's the single most common practice"
   ]
  },
  {
   "cell_type": "code",
   "execution_count": 19,
   "id": "1c4c90c8-b107-4ebe-acec-615e9d7f82f8",
   "metadata": {
    "tags": []
   },
   "outputs": [
    {
     "data": {
      "image/png": "[encoded data removed]",
      "text/plain": [
       "<Figure size 432x216 with 1 Axes>"
      ]
     },
     "metadata": {
      "needs_background": "light"
     },
     "output_type": "display_data"
    }
   ],
   "source": [
    "plt.figure(figsize=(6,3))\n",
    "plt.xlim(-10000,50000)\n",
    "df['health'].plot.hist(bins=1000);"
   ]
  },
  {
   "cell_type": "code",
   "execution_count": 20,
   "id": "4bdea3ee-0cf0-45eb-9a5c-a4ddc4775d3d",
   "metadata": {
    "tags": []
   },
   "outputs": [
    {
     "data": {
      "image/png": "[encoded data removed]",
      "text/plain": [
       "<Figure size 432x216 with 1 Axes>"
      ]
     },
     "metadata": {
      "needs_background": "light"
     },
     "output_type": "display_data"
    }
   ],
   "source": [
    "plt.figure(figsize=(6,3))\n",
    "plt.xlim(-5000,20000)\n",
    "plt.ylim(0,20000)\n",
    "df['other_benefits'].plot.hist(bins=1000);"
   ]
  },
  {
   "cell_type": "code",
   "execution_count": 21,
   "id": "da2a56b3-a0b9-467b-8248-b6f415102861",
   "metadata": {
    "tags": []
   },
   "outputs": [
    {
     "data": {
      "text/plain": [
       "year                  0\n",
       "department            0\n",
       "job_title             0\n",
       "base_salary           0\n",
       "overtime              0\n",
       "irregular_cash        0\n",
       "total_cash            0\n",
       "retirement            0\n",
       "health                0\n",
       "other_benefits        0\n",
       "total_benefits        0\n",
       "total_compensation    0\n",
       "city_id               0\n",
       "annual_average_cpi    0\n",
       "inflation_rate        0\n",
       "dtype: int64"
      ]
     },
     "execution_count": 21,
     "metadata": {},
     "output_type": "execute_result"
    }
   ],
   "source": [
    "df['job_title'] = df['job_title'].fillna(\"Not disclosed\")\n",
    "df['overtime'] = df['overtime'].fillna(0)\n",
    "df['irregular_cash'] = df['irregular_cash'].fillna(0)\n",
    "df['health'] = df['health'].fillna(0)\n",
    "df['other_benefits'] = df['other_benefits'].fillna(0)\n",
    "\n",
    "df['base_salary'] = df['base_salary'].fillna((df['total_cash'] - df['overtime'] - df['irregular_cash']))\n",
    "\n",
    "df.isna().sum()"
   ]
  },
  {
   "cell_type": "code",
   "execution_count": 22,
   "id": "c843d0ef",
   "metadata": {},
   "outputs": [
    {
     "data": {
      "text/plain": [
       "1466589"
      ]
     },
     "execution_count": 22,
     "metadata": {},
     "output_type": "execute_result"
    }
   ],
   "source": [
    "len(df)"
   ]
  },
  {
   "cell_type": "code",
   "execution_count": 23,
   "id": "aba6df01-1c6a-4514-8f91-b55f7dec0439",
   "metadata": {},
   "outputs": [],
   "source": [
    "df = df[df['base_salary'] >= 0]"
   ]
  },
  {
   "cell_type": "code",
   "execution_count": 24,
   "id": "b2e746c6",
   "metadata": {},
   "outputs": [],
   "source": [
    "df = df[df['total_compensation'] >= 0]"
   ]
  },
  {
   "cell_type": "code",
   "execution_count": 25,
   "id": "46c94e1c",
   "metadata": {},
   "outputs": [
    {
     "data": {
      "text/plain": [
       "1465857"
      ]
     },
     "execution_count": 25,
     "metadata": {},
     "output_type": "execute_result"
    }
   ],
   "source": [
    "len(df)"
   ]
  },
  {
   "cell_type": "markdown",
   "id": "8982bf20-08eb-4ff5-82c4-1f5023057e87",
   "metadata": {},
   "source": [
    "### Some visuals"
   ]
  },
  {
   "cell_type": "code",
   "execution_count": 26,
   "id": "2a6d37d8-ab6f-462a-912c-29fb52058c43",
   "metadata": {
    "tags": []
   },
   "outputs": [
    {
     "data": {
      "image/png": "[encoded data removed]",
      "text/plain": [
       "<Figure size 432x288 with 1 Axes>"
      ]
     },
     "metadata": {
      "needs_background": "light"
     },
     "output_type": "display_data"
    }
   ],
   "source": [
    "df.groupby('year')['base_salary'].mean().plot.bar()\n",
    "plt.title(\"Inflation-adjusted average salaries\");"
   ]
  },
  {
   "cell_type": "code",
   "execution_count": 27,
   "id": "4c49ba37-143f-421a-be5d-059c03704ba6",
   "metadata": {
    "tags": []
   },
   "outputs": [
    {
     "data": {
      "image/png": "[encoded data removed]",
      "text/plain": [
       "<Figure size 432x288 with 1 Axes>"
      ]
     },
     "metadata": {
      "needs_background": "light"
     },
     "output_type": "display_data"
    }
   ],
   "source": [
    "df.groupby('year')['overtime'].mean().plot.bar()\n",
    "plt.title(\"Inflation-adjusted average overtime\");"
   ]
  },
  {
   "cell_type": "code",
   "execution_count": 28,
   "id": "92d3ec91-bdc1-465a-82c7-0eb807cc8125",
   "metadata": {
    "tags": []
   },
   "outputs": [
    {
     "data": {
      "image/png": "[encoded data removed]",
      "text/plain": [
       "<Figure size 432x288 with 1 Axes>"
      ]
     },
     "metadata": {
      "needs_background": "light"
     },
     "output_type": "display_data"
    }
   ],
   "source": [
    "df.groupby('year')['total_cash'].mean().plot.bar()\n",
    "plt.title(\"Inflation-adjusted average total cash\");"
   ]
  },
  {
   "cell_type": "code",
   "execution_count": 29,
   "id": "b78755ce-29a8-425e-9495-9e8131c0ddf4",
   "metadata": {
    "scrolled": true,
    "tags": []
   },
   "outputs": [
    {
     "data": {
      "text/plain": [
       "<AxesSubplot:xlabel='city_id,year'>"
      ]
     },
     "execution_count": 29,
     "metadata": {},
     "output_type": "execute_result"
    },
    {
     "data": {
      "image/png": "[encoded data removed]",
      "text/plain": [
       "<Figure size 432x288 with 1 Axes>"
      ]
     },
     "metadata": {
      "needs_background": "light"
     },
     "output_type": "display_data"
    }
   ],
   "source": [
    "df.groupby(['city_id','year'])['total_cash'].mean().plot.bar()"
   ]
  },
  {
   "cell_type": "code",
   "execution_count": 30,
   "id": "16ffc32f",
   "metadata": {},
   "outputs": [],
   "source": [
    "df = pd.get_dummies(df,columns=['department'],drop_first=True)"
   ]
  },
  {
   "cell_type": "code",
   "execution_count": 31,
   "id": "582428ef-ef31-46b2-afbb-4b54c2e4ff55",
   "metadata": {},
   "outputs": [
    {
     "data": {
      "text/html": [
       "<div>\n",
       "<style scoped>\n",
       "    .dataframe tbody tr th:only-of-type {\n",
       "        vertical-align: middle;\n",
       "    }\n",
       "\n",
       "    .dataframe tbody tr th {\n",
       "        vertical-align: top;\n",
       "    }\n",
       "\n",
       "    .dataframe thead th {\n",
       "        text-align: right;\n",
       "    }\n",
       "</style>\n",
       "<table border=\"1\" class=\"dataframe\">\n",
       "  <thead>\n",
       "    <tr style=\"text-align: right;\">\n",
       "      <th></th>\n",
       "      <th>year</th>\n",
       "      <th>base_salary</th>\n",
       "      <th>overtime</th>\n",
       "      <th>irregular_cash</th>\n",
       "      <th>total_benefits</th>\n",
       "      <th>city_id</th>\n",
       "      <th>annual_average_cpi</th>\n",
       "      <th>department_Emergency Management</th>\n",
       "      <th>department_Energy, Env, Economy</th>\n",
       "      <th>department_Finance</th>\n",
       "      <th>department_Human Services</th>\n",
       "      <th>department_IT</th>\n",
       "      <th>department_Law and Reg</th>\n",
       "      <th>department_Libraries, Arts, Science, Museums</th>\n",
       "      <th>department_Parks</th>\n",
       "      <th>department_Police</th>\n",
       "      <th>department_Port</th>\n",
       "      <th>department_Public Works</th>\n",
       "    </tr>\n",
       "  </thead>\n",
       "  <tbody>\n",
       "    <tr>\n",
       "      <th>0</th>\n",
       "      <td>2020</td>\n",
       "      <td>5505.341963</td>\n",
       "      <td>0.000000</td>\n",
       "      <td>145.887635</td>\n",
       "      <td>438.626275</td>\n",
       "      <td>2</td>\n",
       "      <td>258.8</td>\n",
       "      <td>0</td>\n",
       "      <td>0</td>\n",
       "      <td>0</td>\n",
       "      <td>0</td>\n",
       "      <td>0</td>\n",
       "      <td>0</td>\n",
       "      <td>0</td>\n",
       "      <td>1</td>\n",
       "      <td>0</td>\n",
       "      <td>0</td>\n",
       "      <td>0</td>\n",
       "    </tr>\n",
       "    <tr>\n",
       "      <th>1</th>\n",
       "      <td>2020</td>\n",
       "      <td>8062.134815</td>\n",
       "      <td>2007.263910</td>\n",
       "      <td>0.000000</td>\n",
       "      <td>781.543895</td>\n",
       "      <td>2</td>\n",
       "      <td>258.8</td>\n",
       "      <td>0</td>\n",
       "      <td>0</td>\n",
       "      <td>0</td>\n",
       "      <td>0</td>\n",
       "      <td>0</td>\n",
       "      <td>0</td>\n",
       "      <td>0</td>\n",
       "      <td>0</td>\n",
       "      <td>0</td>\n",
       "      <td>0</td>\n",
       "      <td>0</td>\n",
       "    </tr>\n",
       "    <tr>\n",
       "      <th>2</th>\n",
       "      <td>2020</td>\n",
       "      <td>2742.618431</td>\n",
       "      <td>974.364374</td>\n",
       "      <td>0.000000</td>\n",
       "      <td>288.497720</td>\n",
       "      <td>2</td>\n",
       "      <td>258.8</td>\n",
       "      <td>0</td>\n",
       "      <td>0</td>\n",
       "      <td>0</td>\n",
       "      <td>0</td>\n",
       "      <td>0</td>\n",
       "      <td>0</td>\n",
       "      <td>0</td>\n",
       "      <td>0</td>\n",
       "      <td>0</td>\n",
       "      <td>0</td>\n",
       "      <td>0</td>\n",
       "    </tr>\n",
       "    <tr>\n",
       "      <th>3</th>\n",
       "      <td>2020</td>\n",
       "      <td>1958.802241</td>\n",
       "      <td>619.090495</td>\n",
       "      <td>0.000000</td>\n",
       "      <td>200.077164</td>\n",
       "      <td>2</td>\n",
       "      <td>258.8</td>\n",
       "      <td>0</td>\n",
       "      <td>0</td>\n",
       "      <td>0</td>\n",
       "      <td>0</td>\n",
       "      <td>0</td>\n",
       "      <td>0</td>\n",
       "      <td>0</td>\n",
       "      <td>0</td>\n",
       "      <td>0</td>\n",
       "      <td>0</td>\n",
       "      <td>0</td>\n",
       "    </tr>\n",
       "    <tr>\n",
       "      <th>4</th>\n",
       "      <td>2020</td>\n",
       "      <td>166298.647372</td>\n",
       "      <td>0.000000</td>\n",
       "      <td>5944.554637</td>\n",
       "      <td>63125.282380</td>\n",
       "      <td>2</td>\n",
       "      <td>258.8</td>\n",
       "      <td>0</td>\n",
       "      <td>0</td>\n",
       "      <td>0</td>\n",
       "      <td>0</td>\n",
       "      <td>0</td>\n",
       "      <td>0</td>\n",
       "      <td>0</td>\n",
       "      <td>0</td>\n",
       "      <td>0</td>\n",
       "      <td>0</td>\n",
       "      <td>1</td>\n",
       "    </tr>\n",
       "  </tbody>\n",
       "</table>\n",
       "</div>"
      ],
      "text/plain": [
       "   year    base_salary     overtime  irregular_cash  total_benefits city_id  \\\n",
       "0  2020    5505.341963     0.000000      145.887635      438.626275       2   \n",
       "1  2020    8062.134815  2007.263910        0.000000      781.543895       2   \n",
       "2  2020    2742.618431   974.364374        0.000000      288.497720       2   \n",
       "3  2020    1958.802241   619.090495        0.000000      200.077164       2   \n",
       "4  2020  166298.647372     0.000000     5944.554637    63125.282380       2   \n",
       "\n",
       "   annual_average_cpi  department_Emergency Management  \\\n",
       "0               258.8                                0   \n",
       "1               258.8                                0   \n",
       "2               258.8                                0   \n",
       "3               258.8                                0   \n",
       "4               258.8                                0   \n",
       "\n",
       "   department_Energy, Env, Economy  department_Finance  \\\n",
       "0                                0                   0   \n",
       "1                                0                   0   \n",
       "2                                0                   0   \n",
       "3                                0                   0   \n",
       "4                                0                   0   \n",
       "\n",
       "   department_Human Services  department_IT  department_Law and Reg  \\\n",
       "0                          0              0                       0   \n",
       "1                          0              0                       0   \n",
       "2                          0              0                       0   \n",
       "3                          0              0                       0   \n",
       "4                          0              0                       0   \n",
       "\n",
       "   department_Libraries, Arts, Science, Museums  department_Parks  \\\n",
       "0                                             0                 1   \n",
       "1                                             0                 0   \n",
       "2                                             0                 0   \n",
       "3                                             0                 0   \n",
       "4                                             0                 0   \n",
       "\n",
       "   department_Police  department_Port  department_Public Works  \n",
       "0                  0                0                        0  \n",
       "1                  0                0                        0  \n",
       "2                  0                0                        0  \n",
       "3                  0                0                        0  \n",
       "4                  0                0                        1  "
      ]
     },
     "execution_count": 31,
     "metadata": {},
     "output_type": "execute_result"
    }
   ],
   "source": [
    "df_copy=df.drop(['job_title', 'total_cash', 'retirement', 'health', 'other_benefits','total_compensation','inflation_rate'], axis=1)\n",
    "df_copy.head()"
   ]
  },
  {
   "cell_type": "code",
   "execution_count": 32,
   "id": "0339c4a1-d9c4-42bc-ad67-e23f1667fd1f",
   "metadata": {},
   "outputs": [],
   "source": [
    "# Define Predictor and Outcome\n",
    "X = df_copy.drop('total_benefits',axis=1)\n",
    "y = df_copy['total_benefits']"
   ]
  },
  {
   "cell_type": "code",
   "execution_count": 33,
   "id": "af36f961",
   "metadata": {},
   "outputs": [],
   "source": [
    "# Split the Data - 75% train, 25% test\n",
    "X_train, X_test, y_train, y_test = train_test_split(X, y, test_size=0.25,random_state=12345)"
   ]
  },
  {
   "cell_type": "code",
   "execution_count": 34,
   "id": "48c0077a-2f8c-400a-b5d4-d3d998b4dda5",
   "metadata": {
    "tags": []
   },
   "outputs": [],
   "source": [
    "# Scaling\n",
    "sc = StandardScaler()\n",
    "X_train_scaled = sc.fit_transform(X_train)\n",
    "X_test_scaled = sc.transform(X_test)"
   ]
  },
  {
   "cell_type": "code",
   "execution_count": 35,
   "id": "c6ea46c9",
   "metadata": {},
   "outputs": [
    {
     "name": "stdout",
     "output_type": "stream",
     "text": [
      "Linear Regression Accuracy:  0.7817\n",
      "R2 square: 0.7817\n",
      "MAE:  7720.4161\n",
      "MSE:  127212209.5952\n",
      "RMSE:  11278.839\n"
     ]
    }
   ],
   "source": [
    "# Linear Regression\n",
    "lin_reg = LinearRegression()\n",
    "lin_reg.fit(X_train_scaled,y_train)\n",
    "# Prediction\n",
    "y_pred_lin = lin_reg.predict(X_test_scaled)\n",
    "R2_lin = metrics.r2_score(y_test, y_pred_lin).round(4)\n",
    "mae_lin = metrics.mean_absolute_error(y_test, y_pred_lin).round(4)\n",
    "mse_lin = metrics.mean_squared_error(y_test, y_pred_lin).round(4)\n",
    "rmse_lin = np.sqrt(mse_lin).round(4)\n",
    "# Printing the metrics\n",
    "print('Linear Regression Accuracy: ', lin_reg.score(X_test_scaled, y_test).round(4))\n",
    "print('R2 square:', R2_lin)\n",
    "print('MAE: ', mae_lin)\n",
    "print('MSE: ', mse_lin)\n",
    "print('RMSE: ', rmse_lin)"
   ]
  },
  {
   "cell_type": "code",
   "execution_count": 36,
   "id": "cac79eb6",
   "metadata": {},
   "outputs": [
    {
     "data": {
      "text/plain": [
       "Text(0.5, 1.0, 'Linear Regression: Actual vs Predicted')"
      ]
     },
     "execution_count": 36,
     "metadata": {},
     "output_type": "execute_result"
    },
    {
     "data": {
      "image/png": "[encoded data removed]",
      "text/plain": [
       "<Figure size 432x288 with 1 Axes>"
      ]
     },
     "metadata": {
      "needs_background": "light"
     },
     "output_type": "display_data"
    }
   ],
   "source": [
    "plt.scatter(y_test,y_pred_lin)\n",
    "plt.plot(y_test,y_test, color='red')\n",
    "plt.xlabel('Actual')\n",
    "plt.ylabel('Predicted')\n",
    "plt.title('Linear Regression: Actual vs Predicted')"
   ]
  },
  {
   "cell_type": "code",
   "execution_count": 37,
   "id": "609e727f",
   "metadata": {},
   "outputs": [
    {
     "name": "stdout",
     "output_type": "stream",
     "text": [
      "Decision Tree Regression Accuracy:  0.8814\n",
      "R2 square: 0.8814\n",
      "MAE:  4271.9505\n",
      "MSE:  69110903.0235\n",
      "RMSE:  8313.2968\n"
     ]
    }
   ],
   "source": [
    "# Decision Tree\n",
    "dt_regressor = DecisionTreeRegressor(random_state = 12345)\n",
    "dt_regressor.fit(X_train_scaled, y_train)\n",
    "# Prediction\n",
    "y_pred_dt = dt_regressor.predict(X_test_scaled)\n",
    "R2_dt = metrics.r2_score(y_test, y_pred_dt).round(4)\n",
    "mae_dt = metrics.mean_absolute_error(y_test, y_pred_dt).round(4)\n",
    "mse_dt = metrics.mean_squared_error(y_test, y_pred_dt).round(4)\n",
    "rmse_dt = np.sqrt(mse_dt).round(4)\n",
    "# Printing the metrics\n",
    "print('Decision Tree Regression Accuracy: ', dt_regressor.score(X_test_scaled,y_test).round(4))\n",
    "print('R2 square:', R2_dt)\n",
    "print('MAE: ', mae_dt)\n",
    "print('MSE: ', mse_dt)\n",
    "print('RMSE: ', rmse_dt)"
   ]
  },
  {
   "cell_type": "code",
   "execution_count": 38,
   "id": "91ab6ac4",
   "metadata": {},
   "outputs": [
    {
     "data": {
      "text/plain": [
       "Text(0.5, 1.0, 'Decision Tree Regressor: Actual vs Predicted')"
      ]
     },
     "execution_count": 38,
     "metadata": {},
     "output_type": "execute_result"
    },
    {
     "data": {
      "image/png": "[encoded data removed]",
      "text/plain": [
       "<Figure size 432x288 with 1 Axes>"
      ]
     },
     "metadata": {
      "needs_background": "light"
     },
     "output_type": "display_data"
    }
   ],
   "source": [
    "plt.scatter(y_test,y_pred_dt)\n",
    "plt.plot(y_test,y_test, color='red')\n",
    "plt.xlabel('Actual')\n",
    "plt.ylabel('Predicted')\n",
    "plt.title('Decision Tree Regressor: Actual vs Predicted')"
   ]
  },
  {
   "cell_type": "code",
   "execution_count": 39,
   "id": "d1b37437",
   "metadata": {},
   "outputs": [
    {
     "ename": "KeyboardInterrupt",
     "evalue": "",
     "output_type": "error",
     "traceback": [
      "\u001b[1;31m---------------------------------------------------------------------------\u001b[0m",
      "\u001b[1;31mKeyboardInterrupt\u001b[0m                         Traceback (most recent call last)",
      "Input \u001b[1;32mIn [39]\u001b[0m, in \u001b[0;36m<cell line: 14>\u001b[1;34m()\u001b[0m\n\u001b[0;32m     12\u001b[0m rmse_knn \u001b[38;5;241m=\u001b[39m np\u001b[38;5;241m.\u001b[39msqrt(mse_knn)\u001b[38;5;241m.\u001b[39mround(\u001b[38;5;241m4\u001b[39m)\n\u001b[0;32m     13\u001b[0m \u001b[38;5;66;03m# Printing the metrics\u001b[39;00m\n\u001b[1;32m---> 14\u001b[0m \u001b[38;5;28mprint\u001b[39m(\u001b[38;5;124m'\u001b[39m\u001b[38;5;124mKNN Regression Accuracy: \u001b[39m\u001b[38;5;124m'\u001b[39m, \u001b[43mknn_9\u001b[49m\u001b[38;5;241;43m.\u001b[39;49m\u001b[43mscore\u001b[49m\u001b[43m(\u001b[49m\u001b[43mX_test_scaled\u001b[49m\u001b[43m,\u001b[49m\u001b[43m \u001b[49m\u001b[43my_test\u001b[49m\u001b[43m)\u001b[49m\u001b[38;5;241m.\u001b[39mround(\u001b[38;5;241m4\u001b[39m))\n\u001b[0;32m     15\u001b[0m \u001b[38;5;28mprint\u001b[39m(\u001b[38;5;124m'\u001b[39m\u001b[38;5;124mR2 square:\u001b[39m\u001b[38;5;124m'\u001b[39m, R2_knn)\n\u001b[0;32m     16\u001b[0m \u001b[38;5;28mprint\u001b[39m(\u001b[38;5;124m'\u001b[39m\u001b[38;5;124mMAE: \u001b[39m\u001b[38;5;124m'\u001b[39m, mae_knn)\n",
      "File \u001b[1;32m~\\miniconda3\\lib\\site-packages\\sklearn\\base.py:705\u001b[0m, in \u001b[0;36mRegressorMixin.score\u001b[1;34m(self, X, y, sample_weight)\u001b[0m\n\u001b[0;32m    663\u001b[0m \u001b[38;5;124;03m\"\"\"Return the coefficient of determination of the prediction.\u001b[39;00m\n\u001b[0;32m    664\u001b[0m \n\u001b[0;32m    665\u001b[0m \u001b[38;5;124;03mThe coefficient of determination :math:`R^2` is defined as\u001b[39;00m\n\u001b[1;32m   (...)\u001b[0m\n\u001b[0;32m    700\u001b[0m \u001b[38;5;124;03m:class:`~sklearn.multioutput.MultiOutputRegressor`).\u001b[39;00m\n\u001b[0;32m    701\u001b[0m \u001b[38;5;124;03m\"\"\"\u001b[39;00m\n\u001b[0;32m    703\u001b[0m \u001b[38;5;28;01mfrom\u001b[39;00m \u001b[38;5;21;01m.\u001b[39;00m\u001b[38;5;21;01mmetrics\u001b[39;00m \u001b[38;5;28;01mimport\u001b[39;00m r2_score\n\u001b[1;32m--> 705\u001b[0m y_pred \u001b[38;5;241m=\u001b[39m \u001b[38;5;28;43mself\u001b[39;49m\u001b[38;5;241;43m.\u001b[39;49m\u001b[43mpredict\u001b[49m\u001b[43m(\u001b[49m\u001b[43mX\u001b[49m\u001b[43m)\u001b[49m\n\u001b[0;32m    706\u001b[0m \u001b[38;5;28;01mreturn\u001b[39;00m r2_score(y, y_pred, sample_weight\u001b[38;5;241m=\u001b[39msample_weight)\n",
      "File \u001b[1;32m~\\miniconda3\\lib\\site-packages\\sklearn\\neighbors\\_regression.py:229\u001b[0m, in \u001b[0;36mKNeighborsRegressor.predict\u001b[1;34m(self, X)\u001b[0m\n\u001b[0;32m    215\u001b[0m \u001b[38;5;28;01mdef\u001b[39;00m \u001b[38;5;21mpredict\u001b[39m(\u001b[38;5;28mself\u001b[39m, X):\n\u001b[0;32m    216\u001b[0m     \u001b[38;5;124;03m\"\"\"Predict the target for the provided data.\u001b[39;00m\n\u001b[0;32m    217\u001b[0m \n\u001b[0;32m    218\u001b[0m \u001b[38;5;124;03m    Parameters\u001b[39;00m\n\u001b[1;32m   (...)\u001b[0m\n\u001b[0;32m    227\u001b[0m \u001b[38;5;124;03m        Target values.\u001b[39;00m\n\u001b[0;32m    228\u001b[0m \u001b[38;5;124;03m    \"\"\"\u001b[39;00m\n\u001b[1;32m--> 229\u001b[0m     neigh_dist, neigh_ind \u001b[38;5;241m=\u001b[39m \u001b[38;5;28;43mself\u001b[39;49m\u001b[38;5;241;43m.\u001b[39;49m\u001b[43mkneighbors\u001b[49m\u001b[43m(\u001b[49m\u001b[43mX\u001b[49m\u001b[43m)\u001b[49m\n\u001b[0;32m    231\u001b[0m     weights \u001b[38;5;241m=\u001b[39m _get_weights(neigh_dist, \u001b[38;5;28mself\u001b[39m\u001b[38;5;241m.\u001b[39mweights)\n\u001b[0;32m    233\u001b[0m     _y \u001b[38;5;241m=\u001b[39m \u001b[38;5;28mself\u001b[39m\u001b[38;5;241m.\u001b[39m_y\n",
      "File \u001b[1;32m~\\miniconda3\\lib\\site-packages\\sklearn\\neighbors\\_base.py:752\u001b[0m, in \u001b[0;36mKNeighborsMixin.kneighbors\u001b[1;34m(self, X, n_neighbors, return_distance)\u001b[0m\n\u001b[0;32m    749\u001b[0m     \u001b[38;5;28;01melse\u001b[39;00m:\n\u001b[0;32m    750\u001b[0m         kwds \u001b[38;5;241m=\u001b[39m \u001b[38;5;28mself\u001b[39m\u001b[38;5;241m.\u001b[39meffective_metric_params_\n\u001b[1;32m--> 752\u001b[0m     chunked_results \u001b[38;5;241m=\u001b[39m \u001b[38;5;28;43mlist\u001b[39;49m\u001b[43m(\u001b[49m\n\u001b[0;32m    753\u001b[0m \u001b[43m        \u001b[49m\u001b[43mpairwise_distances_chunked\u001b[49m\u001b[43m(\u001b[49m\n\u001b[0;32m    754\u001b[0m \u001b[43m            \u001b[49m\u001b[43mX\u001b[49m\u001b[43m,\u001b[49m\n\u001b[0;32m    755\u001b[0m \u001b[43m            \u001b[49m\u001b[38;5;28;43mself\u001b[39;49m\u001b[38;5;241;43m.\u001b[39;49m\u001b[43m_fit_X\u001b[49m\u001b[43m,\u001b[49m\n\u001b[0;32m    756\u001b[0m \u001b[43m            \u001b[49m\u001b[43mreduce_func\u001b[49m\u001b[38;5;241;43m=\u001b[39;49m\u001b[43mreduce_func\u001b[49m\u001b[43m,\u001b[49m\n\u001b[0;32m    757\u001b[0m \u001b[43m            \u001b[49m\u001b[43mmetric\u001b[49m\u001b[38;5;241;43m=\u001b[39;49m\u001b[38;5;28;43mself\u001b[39;49m\u001b[38;5;241;43m.\u001b[39;49m\u001b[43meffective_metric_\u001b[49m\u001b[43m,\u001b[49m\n\u001b[0;32m    758\u001b[0m \u001b[43m            \u001b[49m\u001b[43mn_jobs\u001b[49m\u001b[38;5;241;43m=\u001b[39;49m\u001b[43mn_jobs\u001b[49m\u001b[43m,\u001b[49m\n\u001b[0;32m    759\u001b[0m \u001b[43m            \u001b[49m\u001b[38;5;241;43m*\u001b[39;49m\u001b[38;5;241;43m*\u001b[39;49m\u001b[43mkwds\u001b[49m\u001b[43m,\u001b[49m\n\u001b[0;32m    760\u001b[0m \u001b[43m        \u001b[49m\u001b[43m)\u001b[49m\n\u001b[0;32m    761\u001b[0m \u001b[43m    \u001b[49m\u001b[43m)\u001b[49m\n\u001b[0;32m    763\u001b[0m \u001b[38;5;28;01melif\u001b[39;00m \u001b[38;5;28mself\u001b[39m\u001b[38;5;241m.\u001b[39m_fit_method \u001b[38;5;129;01min\u001b[39;00m [\u001b[38;5;124m\"\u001b[39m\u001b[38;5;124mball_tree\u001b[39m\u001b[38;5;124m\"\u001b[39m, \u001b[38;5;124m\"\u001b[39m\u001b[38;5;124mkd_tree\u001b[39m\u001b[38;5;124m\"\u001b[39m]:\n\u001b[0;32m    764\u001b[0m     \u001b[38;5;28;01mif\u001b[39;00m issparse(X):\n",
      "File \u001b[1;32m~\\miniconda3\\lib\\site-packages\\sklearn\\metrics\\pairwise.py:1726\u001b[0m, in \u001b[0;36mpairwise_distances_chunked\u001b[1;34m(X, Y, reduce_func, metric, n_jobs, working_memory, **kwds)\u001b[0m\n\u001b[0;32m   1724\u001b[0m \u001b[38;5;28;01mif\u001b[39;00m reduce_func \u001b[38;5;129;01mis\u001b[39;00m \u001b[38;5;129;01mnot\u001b[39;00m \u001b[38;5;28;01mNone\u001b[39;00m:\n\u001b[0;32m   1725\u001b[0m     chunk_size \u001b[38;5;241m=\u001b[39m D_chunk\u001b[38;5;241m.\u001b[39mshape[\u001b[38;5;241m0\u001b[39m]\n\u001b[1;32m-> 1726\u001b[0m     D_chunk \u001b[38;5;241m=\u001b[39m \u001b[43mreduce_func\u001b[49m\u001b[43m(\u001b[49m\u001b[43mD_chunk\u001b[49m\u001b[43m,\u001b[49m\u001b[43m \u001b[49m\u001b[43msl\u001b[49m\u001b[38;5;241;43m.\u001b[39;49m\u001b[43mstart\u001b[49m\u001b[43m)\u001b[49m\n\u001b[0;32m   1727\u001b[0m     _check_chunk_size(D_chunk, chunk_size)\n\u001b[0;32m   1728\u001b[0m \u001b[38;5;28;01myield\u001b[39;00m D_chunk\n",
      "File \u001b[1;32m~\\miniconda3\\lib\\site-packages\\sklearn\\neighbors\\_base.py:634\u001b[0m, in \u001b[0;36mKNeighborsMixin._kneighbors_reduce_func\u001b[1;34m(self, dist, start, n_neighbors, return_distance)\u001b[0m\n\u001b[0;32m    607\u001b[0m \u001b[38;5;124;03m\"\"\"Reduce a chunk of distances to the nearest neighbors.\u001b[39;00m\n\u001b[0;32m    608\u001b[0m \n\u001b[0;32m    609\u001b[0m \u001b[38;5;124;03mCallback to :func:`sklearn.metrics.pairwise.pairwise_distances_chunked`\u001b[39;00m\n\u001b[1;32m   (...)\u001b[0m\n\u001b[0;32m    631\u001b[0m \u001b[38;5;124;03m    The neighbors indices.\u001b[39;00m\n\u001b[0;32m    632\u001b[0m \u001b[38;5;124;03m\"\"\"\u001b[39;00m\n\u001b[0;32m    633\u001b[0m sample_range \u001b[38;5;241m=\u001b[39m np\u001b[38;5;241m.\u001b[39marange(dist\u001b[38;5;241m.\u001b[39mshape[\u001b[38;5;241m0\u001b[39m])[:, \u001b[38;5;28;01mNone\u001b[39;00m]\n\u001b[1;32m--> 634\u001b[0m neigh_ind \u001b[38;5;241m=\u001b[39m \u001b[43mnp\u001b[49m\u001b[38;5;241;43m.\u001b[39;49m\u001b[43margpartition\u001b[49m\u001b[43m(\u001b[49m\u001b[43mdist\u001b[49m\u001b[43m,\u001b[49m\u001b[43m \u001b[49m\u001b[43mn_neighbors\u001b[49m\u001b[43m \u001b[49m\u001b[38;5;241;43m-\u001b[39;49m\u001b[43m \u001b[49m\u001b[38;5;241;43m1\u001b[39;49m\u001b[43m,\u001b[49m\u001b[43m \u001b[49m\u001b[43maxis\u001b[49m\u001b[38;5;241;43m=\u001b[39;49m\u001b[38;5;241;43m1\u001b[39;49m\u001b[43m)\u001b[49m\n\u001b[0;32m    635\u001b[0m neigh_ind \u001b[38;5;241m=\u001b[39m neigh_ind[:, :n_neighbors]\n\u001b[0;32m    636\u001b[0m \u001b[38;5;66;03m# argpartition doesn't guarantee sorted order, so we sort again\u001b[39;00m\n",
      "File \u001b[1;32m<__array_function__ internals>:5\u001b[0m, in \u001b[0;36margpartition\u001b[1;34m(*args, **kwargs)\u001b[0m\n",
      "File \u001b[1;32m~\\miniconda3\\lib\\site-packages\\numpy\\core\\fromnumeric.py:839\u001b[0m, in \u001b[0;36margpartition\u001b[1;34m(a, kth, axis, kind, order)\u001b[0m\n\u001b[0;32m    763\u001b[0m \u001b[38;5;129m@array_function_dispatch\u001b[39m(_argpartition_dispatcher)\n\u001b[0;32m    764\u001b[0m \u001b[38;5;28;01mdef\u001b[39;00m \u001b[38;5;21margpartition\u001b[39m(a, kth, axis\u001b[38;5;241m=\u001b[39m\u001b[38;5;241m-\u001b[39m\u001b[38;5;241m1\u001b[39m, kind\u001b[38;5;241m=\u001b[39m\u001b[38;5;124m'\u001b[39m\u001b[38;5;124mintroselect\u001b[39m\u001b[38;5;124m'\u001b[39m, order\u001b[38;5;241m=\u001b[39m\u001b[38;5;28;01mNone\u001b[39;00m):\n\u001b[0;32m    765\u001b[0m     \u001b[38;5;124;03m\"\"\"\u001b[39;00m\n\u001b[0;32m    766\u001b[0m \u001b[38;5;124;03m    Perform an indirect partition along the given axis using the\u001b[39;00m\n\u001b[0;32m    767\u001b[0m \u001b[38;5;124;03m    algorithm specified by the `kind` keyword. It returns an array of\u001b[39;00m\n\u001b[1;32m   (...)\u001b[0m\n\u001b[0;32m    837\u001b[0m \n\u001b[0;32m    838\u001b[0m \u001b[38;5;124;03m    \"\"\"\u001b[39;00m\n\u001b[1;32m--> 839\u001b[0m     \u001b[38;5;28;01mreturn\u001b[39;00m \u001b[43m_wrapfunc\u001b[49m\u001b[43m(\u001b[49m\u001b[43ma\u001b[49m\u001b[43m,\u001b[49m\u001b[43m \u001b[49m\u001b[38;5;124;43m'\u001b[39;49m\u001b[38;5;124;43margpartition\u001b[39;49m\u001b[38;5;124;43m'\u001b[39;49m\u001b[43m,\u001b[49m\u001b[43m \u001b[49m\u001b[43mkth\u001b[49m\u001b[43m,\u001b[49m\u001b[43m \u001b[49m\u001b[43maxis\u001b[49m\u001b[38;5;241;43m=\u001b[39;49m\u001b[43maxis\u001b[49m\u001b[43m,\u001b[49m\u001b[43m \u001b[49m\u001b[43mkind\u001b[49m\u001b[38;5;241;43m=\u001b[39;49m\u001b[43mkind\u001b[49m\u001b[43m,\u001b[49m\u001b[43m \u001b[49m\u001b[43morder\u001b[49m\u001b[38;5;241;43m=\u001b[39;49m\u001b[43morder\u001b[49m\u001b[43m)\u001b[49m\n",
      "File \u001b[1;32m~\\miniconda3\\lib\\site-packages\\numpy\\core\\fromnumeric.py:57\u001b[0m, in \u001b[0;36m_wrapfunc\u001b[1;34m(obj, method, *args, **kwds)\u001b[0m\n\u001b[0;32m     54\u001b[0m     \u001b[38;5;28;01mreturn\u001b[39;00m _wrapit(obj, method, \u001b[38;5;241m*\u001b[39margs, \u001b[38;5;241m*\u001b[39m\u001b[38;5;241m*\u001b[39mkwds)\n\u001b[0;32m     56\u001b[0m \u001b[38;5;28;01mtry\u001b[39;00m:\n\u001b[1;32m---> 57\u001b[0m     \u001b[38;5;28;01mreturn\u001b[39;00m bound(\u001b[38;5;241m*\u001b[39margs, \u001b[38;5;241m*\u001b[39m\u001b[38;5;241m*\u001b[39mkwds)\n\u001b[0;32m     58\u001b[0m \u001b[38;5;28;01mexcept\u001b[39;00m \u001b[38;5;167;01mTypeError\u001b[39;00m:\n\u001b[0;32m     59\u001b[0m     \u001b[38;5;66;03m# A TypeError occurs if the object does have such a method in its\u001b[39;00m\n\u001b[0;32m     60\u001b[0m     \u001b[38;5;66;03m# class, but its signature is not identical to that of NumPy's. This\u001b[39;00m\n\u001b[1;32m   (...)\u001b[0m\n\u001b[0;32m     64\u001b[0m     \u001b[38;5;66;03m# Call _wrapit from within the except clause to ensure a potential\u001b[39;00m\n\u001b[0;32m     65\u001b[0m     \u001b[38;5;66;03m# exception has a traceback chain.\u001b[39;00m\n\u001b[0;32m     66\u001b[0m     \u001b[38;5;28;01mreturn\u001b[39;00m _wrapit(obj, method, \u001b[38;5;241m*\u001b[39margs, \u001b[38;5;241m*\u001b[39m\u001b[38;5;241m*\u001b[39mkwds)\n",
      "\u001b[1;31mKeyboardInterrupt\u001b[0m: "
     ]
    }
   ],
   "source": [
    "# KNN\n",
    "knn_9 = KNeighborsRegressor(n_neighbors=2)\n",
    "KNeighborsRegressor(algorithm='auto', leaf_size=40, metric='minkowski',\n",
    "metric_params=None, n_jobs=-1, n_neighbors=10, p=2,weights='uniform')\n",
    "knn_9.fit(X_train_scaled, y_train)\n",
    "# print(knn_9)\n",
    "# Prediction\n",
    "y_pred_knn = knn_9.predict(X_test_scaled)\n",
    "R2_knn = metrics.r2_score(y_test, y_pred_knn).round(4)\n",
    "mae_knn = metrics.mean_absolute_error(y_test, y_pred_knn).round(4)\n",
    "mse_knn = metrics.mean_squared_error(y_test, y_pred_knn).round(4)\n",
    "rmse_knn = np.sqrt(mse_knn).round(4)\n",
    "# Printing the metrics\n",
    "print('KNN Regression Accuracy: ', knn_9.score(X_test_scaled, y_test).round(4))\n",
    "print('R2 square:', R2_knn)\n",
    "print('MAE: ', mae_knn)\n",
    "print('MSE: ', mse_knn)\n",
    "print('RMSE: ', rmse_knn)"
   ]
  },
  {
   "cell_type": "code",
   "execution_count": null,
   "id": "1025388a",
   "metadata": {},
   "outputs": [],
   "source": [
    "plt.scatter(y_test,y_pred_knn)\n",
    "plt.plot(y_test,y_test, color='red')\n",
    "plt.xlabel('Actual')\n",
    "plt.ylabel('Predicted')\n",
    "plt.title('kNN: Actual vs Predicted')"
   ]
  },
  {
   "cell_type": "code",
   "execution_count": 87,
   "id": "7c589d5e",
   "metadata": {},
   "outputs": [
    {
     "name": "stdout",
     "output_type": "stream",
     "text": [
      "Random Forest Regression Accuracy:  0.935\n",
      "R2 square: 0.935\n",
      "MAE:  3410.7898\n",
      "MSE:  37859078.3365\n",
      "RMSE:  6152.9731\n"
     ]
    }
   ],
   "source": [
    "# Random Forest Regression\n",
    "rf_regressor = RandomForestRegressor(n_estimators = 300 , random_state = 12345)\n",
    "rf_regressor.fit(X_train_scaled, y_train)\n",
    "# Prediction\n",
    "y_pred_rf = rf_regressor.predict(X_test_scaled)\n",
    "R2_rf = metrics.r2_score(y_test, y_pred_rf).round(4)\n",
    "mae_rf = metrics.mean_absolute_error(y_test, y_pred_rf).round(4)\n",
    "mse_rf = metrics.mean_squared_error(y_test, y_pred_rf).round(4)\n",
    "rmse_rf = np.sqrt(mse_rf).round(4)\n",
    "# Printing the metrics\n",
    "print('Random Forest Regression Accuracy: ', rf_regressor.score(X_test_scaled,y_test).round(4))\n",
    "print('R2 square:', R2_rf)\n",
    "print('MAE: ', mae_rf)\n",
    "print('MSE: ', mse_rf)\n",
    "print('RMSE: ', rmse_rf)"
   ]
  },
  {
   "cell_type": "code",
   "execution_count": 88,
   "id": "8c07367c",
   "metadata": {},
   "outputs": [
    {
     "data": {
      "text/plain": [
       "Text(0.5, 1.0, 'Random Forest: Actual vs Predicted')"
      ]
     },
     "execution_count": 88,
     "metadata": {},
     "output_type": "execute_result"
    },
    {
     "data": {
      "image/png": "[encoded data removed]",
      "text/plain": [
       "<Figure size 432x288 with 1 Axes>"
      ]
     },
     "metadata": {
      "needs_background": "light"
     },
     "output_type": "display_data"
    }
   ],
   "source": [
    "plt.scatter(y_test,y_pred_rf)\n",
    "plt.plot(y_test,y_test, color='red')\n",
    "plt.xlabel('Actual')\n",
    "plt.ylabel('Predicted')\n",
    "plt.title('Random Forest: Actual vs Predicted')"
   ]
  },
  {
   "cell_type": "code",
   "execution_count": 89,
   "id": "4fb66004",
   "metadata": {},
   "outputs": [
    {
     "name": "stdout",
     "output_type": "stream",
     "text": [
      "Neural Network Regression Accuracy:  0.93\n",
      "R2 square: 0.93\n",
      "MAE:  3712.015\n",
      "MSE:  40811691.0904\n",
      "RMSE:  6388.4029\n"
     ]
    }
   ],
   "source": [
    "# Neural Network\n",
    "mlp_reg = MLPRegressor(hidden_layer_sizes =(150,100,50), max_iter = 300,activation = 'relu',\n",
    "solver = 'adam', random_state = 12345)\n",
    "mlp_reg.fit(X_train_scaled, y_train)\n",
    "# Prediction\n",
    "y_pred_nn = mlp_reg.predict(X_test_scaled)\n",
    "R2_nn = metrics.r2_score(y_test, y_pred_nn).round(4)\n",
    "mae_nn = metrics.mean_absolute_error(y_test, y_pred_nn).round(4)\n",
    "mse_nn = metrics.mean_squared_error(y_test, y_pred_nn).round(4)\n",
    "rmse_nn = np.sqrt(mse_nn).round(4)\n",
    "# Printing the metrics\n",
    "print('Neural Network Regression Accuracy: ', mlp_reg.score(X_test_scaled,y_test).round(4))\n",
    "print('R2 square:', R2_nn)\n",
    "print('MAE: ', mae_nn)\n",
    "print('MSE: ', mse_nn)\n",
    "print('RMSE: ', rmse_nn)"
   ]
  },
  {
   "cell_type": "code",
   "execution_count": 90,
   "id": "7fd34dcb",
   "metadata": {},
   "outputs": [
    {
     "data": {
      "text/plain": [
       "Text(0.5, 1.0, 'Neural Network: Actual vs Predicted')"
      ]
     },
     "execution_count": 90,
     "metadata": {},
     "output_type": "execute_result"
    },
    {
     "data": {
      "image/png": "[encoded data removed]",
      "text/plain": [
       "<Figure size 432x288 with 1 Axes>"
      ]
     },
     "metadata": {
      "needs_background": "light"
     },
     "output_type": "display_data"
    }
   ],
   "source": [
    "plt.scatter(y_test,y_pred_nn)\n",
    "plt.plot(y_test,y_test, color='red')\n",
    "plt.xlabel('Actual')\n",
    "plt.ylabel('Predicted')\n",
    "plt.title('Neural Network: Actual vs Predicted')"
   ]
  },
  {
   "cell_type": "code",
   "execution_count": null,
   "id": "2177d97d",
   "metadata": {},
   "outputs": [],
   "source": []
  }
 ],
 "metadata": {
  "availableInstances": [
   {
    "_defaultOrder": 0,
    "_isFastLaunch": true,
    "category": "General purpose",
    "gpuNum": 0,
    "hideHardwareSpecs": false,
    "memoryGiB": 4,
    "name": "ml.t3.medium",
    "vcpuNum": 2
   },
   {
    "_defaultOrder": 1,
    "_isFastLaunch": false,
    "category": "General purpose",
    "gpuNum": 0,
    "hideHardwareSpecs": false,
    "memoryGiB": 8,
    "name": "ml.t3.large",
    "vcpuNum": 2
   },
   {
    "_defaultOrder": 2,
    "_isFastLaunch": false,
    "category": "General purpose",
    "gpuNum": 0,
    "hideHardwareSpecs": false,
    "memoryGiB": 16,
    "name": "ml.t3.xlarge",
    "vcpuNum": 4
   },
   {
    "_defaultOrder": 3,
    "_isFastLaunch": false,
    "category": "General purpose",
    "gpuNum": 0,
    "hideHardwareSpecs": false,
    "memoryGiB": 32,
    "name": "ml.t3.2xlarge",
    "vcpuNum": 8
   },
   {
    "_defaultOrder": 4,
    "_isFastLaunch": true,
    "category": "General purpose",
    "gpuNum": 0,
    "hideHardwareSpecs": false,
    "memoryGiB": 8,
    "name": "ml.m5.large",
    "vcpuNum": 2
   },
   {
    "_defaultOrder": 5,
    "_isFastLaunch": false,
    "category": "General purpose",
    "gpuNum": 0,
    "hideHardwareSpecs": false,
    "memoryGiB": 16,
    "name": "ml.m5.xlarge",
    "vcpuNum": 4
   },
   {
    "_defaultOrder": 6,
    "_isFastLaunch": false,
    "category": "General purpose",
    "gpuNum": 0,
    "hideHardwareSpecs": false,
    "memoryGiB": 32,
    "name": "ml.m5.2xlarge",
    "vcpuNum": 8
   },
   {
    "_defaultOrder": 7,
    "_isFastLaunch": false,
    "category": "General purpose",
    "gpuNum": 0,
    "hideHardwareSpecs": false,
    "memoryGiB": 64,
    "name": "ml.m5.4xlarge",
    "vcpuNum": 16
   },
   {
    "_defaultOrder": 8,
    "_isFastLaunch": false,
    "category": "General purpose",
    "gpuNum": 0,
    "hideHardwareSpecs": false,
    "memoryGiB": 128,
    "name": "ml.m5.8xlarge",
    "vcpuNum": 32
   },
   {
    "_defaultOrder": 9,
    "_isFastLaunch": false,
    "category": "General purpose",
    "gpuNum": 0,
    "hideHardwareSpecs": false,
    "memoryGiB": 192,
    "name": "ml.m5.12xlarge",
    "vcpuNum": 48
   },
   {
    "_defaultOrder": 10,
    "_isFastLaunch": false,
    "category": "General purpose",
    "gpuNum": 0,
    "hideHardwareSpecs": false,
    "memoryGiB": 256,
    "name": "ml.m5.16xlarge",
    "vcpuNum": 64
   },
   {
    "_defaultOrder": 11,
    "_isFastLaunch": false,
    "category": "General purpose",
    "gpuNum": 0,
    "hideHardwareSpecs": false,
    "memoryGiB": 384,
    "name": "ml.m5.24xlarge",
    "vcpuNum": 96
   },
   {
    "_defaultOrder": 12,
    "_isFastLaunch": false,
    "category": "General purpose",
    "gpuNum": 0,
    "hideHardwareSpecs": false,
    "memoryGiB": 8,
    "name": "ml.m5d.large",
    "vcpuNum": 2
   },
   {
    "_defaultOrder": 13,
    "_isFastLaunch": false,
    "category": "General purpose",
    "gpuNum": 0,
    "hideHardwareSpecs": false,
    "memoryGiB": 16,
    "name": "ml.m5d.xlarge",
    "vcpuNum": 4
   },
   {
    "_defaultOrder": 14,
    "_isFastLaunch": false,
    "category": "General purpose",
    "gpuNum": 0,
    "hideHardwareSpecs": false,
    "memoryGiB": 32,
    "name": "ml.m5d.2xlarge",
    "vcpuNum": 8
   },
   {
    "_defaultOrder": 15,
    "_isFastLaunch": false,
    "category": "General purpose",
    "gpuNum": 0,
    "hideHardwareSpecs": false,
    "memoryGiB": 64,
    "name": "ml.m5d.4xlarge",
    "vcpuNum": 16
   },
   {
    "_defaultOrder": 16,
    "_isFastLaunch": false,
    "category": "General purpose",
    "gpuNum": 0,
    "hideHardwareSpecs": false,
    "memoryGiB": 128,
    "name": "ml.m5d.8xlarge",
    "vcpuNum": 32
   },
   {
    "_defaultOrder": 17,
    "_isFastLaunch": false,
    "category": "General purpose",
    "gpuNum": 0,
    "hideHardwareSpecs": false,
    "memoryGiB": 192,
    "name": "ml.m5d.12xlarge",
    "vcpuNum": 48
   },
   {
    "_defaultOrder": 18,
    "_isFastLaunch": false,
    "category": "General purpose",
    "gpuNum": 0,
    "hideHardwareSpecs": false,
    "memoryGiB": 256,
    "name": "ml.m5d.16xlarge",
    "vcpuNum": 64
   },
   {
    "_defaultOrder": 19,
    "_isFastLaunch": false,
    "category": "General purpose",
    "gpuNum": 0,
    "hideHardwareSpecs": false,
    "memoryGiB": 384,
    "name": "ml.m5d.24xlarge",
    "vcpuNum": 96
   },
   {
    "_defaultOrder": 20,
    "_isFastLaunch": false,
    "category": "General purpose",
    "gpuNum": 0,
    "hideHardwareSpecs": true,
    "memoryGiB": 0,
    "name": "ml.geospatial.interactive",
    "supportedImageNames": [
     "sagemaker-geospatial-v1-0"
    ],
    "vcpuNum": 0
   },
   {
    "_defaultOrder": 21,
    "_isFastLaunch": true,
    "category": "Compute optimized",
    "gpuNum": 0,
    "hideHardwareSpecs": false,
    "memoryGiB": 4,
    "name": "ml.c5.large",
    "vcpuNum": 2
   },
   {
    "_defaultOrder": 22,
    "_isFastLaunch": false,
    "category": "Compute optimized",
    "gpuNum": 0,
    "hideHardwareSpecs": false,
    "memoryGiB": 8,
    "name": "ml.c5.xlarge",
    "vcpuNum": 4
   },
   {
    "_defaultOrder": 23,
    "_isFastLaunch": false,
    "category": "Compute optimized",
    "gpuNum": 0,
    "hideHardwareSpecs": false,
    "memoryGiB": 16,
    "name": "ml.c5.2xlarge",
    "vcpuNum": 8
   },
   {
    "_defaultOrder": 24,
    "_isFastLaunch": false,
    "category": "Compute optimized",
    "gpuNum": 0,
    "hideHardwareSpecs": false,
    "memoryGiB": 32,
    "name": "ml.c5.4xlarge",
    "vcpuNum": 16
   },
   {
    "_defaultOrder": 25,
    "_isFastLaunch": false,
    "category": "Compute optimized",
    "gpuNum": 0,
    "hideHardwareSpecs": false,
    "memoryGiB": 72,
    "name": "ml.c5.9xlarge",
    "vcpuNum": 36
   },
   {
    "_defaultOrder": 26,
    "_isFastLaunch": false,
    "category": "Compute optimized",
    "gpuNum": 0,
    "hideHardwareSpecs": false,
    "memoryGiB": 96,
    "name": "ml.c5.12xlarge",
    "vcpuNum": 48
   },
   {
    "_defaultOrder": 27,
    "_isFastLaunch": false,
    "category": "Compute optimized",
    "gpuNum": 0,
    "hideHardwareSpecs": false,
    "memoryGiB": 144,
    "name": "ml.c5.18xlarge",
    "vcpuNum": 72
   },
   {
    "_defaultOrder": 28,
    "_isFastLaunch": false,
    "category": "Compute optimized",
    "gpuNum": 0,
    "hideHardwareSpecs": false,
    "memoryGiB": 192,
    "name": "ml.c5.24xlarge",
    "vcpuNum": 96
   },
   {
    "_defaultOrder": 29,
    "_isFastLaunch": true,
    "category": "Accelerated computing",
    "gpuNum": 1,
    "hideHardwareSpecs": false,
    "memoryGiB": 16,
    "name": "ml.g4dn.xlarge",
    "vcpuNum": 4
   },
   {
    "_defaultOrder": 30,
    "_isFastLaunch": false,
    "category": "Accelerated computing",
    "gpuNum": 1,
    "hideHardwareSpecs": false,
    "memoryGiB": 32,
    "name": "ml.g4dn.2xlarge",
    "vcpuNum": 8
   },
   {
    "_defaultOrder": 31,
    "_isFastLaunch": false,
    "category": "Accelerated computing",
    "gpuNum": 1,
    "hideHardwareSpecs": false,
    "memoryGiB": 64,
    "name": "ml.g4dn.4xlarge",
    "vcpuNum": 16
   },
   {
    "_defaultOrder": 32,
    "_isFastLaunch": false,
    "category": "Accelerated computing",
    "gpuNum": 1,
    "hideHardwareSpecs": false,
    "memoryGiB": 128,
    "name": "ml.g4dn.8xlarge",
    "vcpuNum": 32
   },
   {
    "_defaultOrder": 33,
    "_isFastLaunch": false,
    "category": "Accelerated computing",
    "gpuNum": 4,
    "hideHardwareSpecs": false,
    "memoryGiB": 192,
    "name": "ml.g4dn.12xlarge",
    "vcpuNum": 48
   },
   {
    "_defaultOrder": 34,
    "_isFastLaunch": false,
    "category": "Accelerated computing",
    "gpuNum": 1,
    "hideHardwareSpecs": false,
    "memoryGiB": 256,
    "name": "ml.g4dn.16xlarge",
    "vcpuNum": 64
   },
   {
    "_defaultOrder": 35,
    "_isFastLaunch": false,
    "category": "Accelerated computing",
    "gpuNum": 1,
    "hideHardwareSpecs": false,
    "memoryGiB": 61,
    "name": "ml.p3.2xlarge",
    "vcpuNum": 8
   },
   {
    "_defaultOrder": 36,
    "_isFastLaunch": false,
    "category": "Accelerated computing",
    "gpuNum": 4,
    "hideHardwareSpecs": false,
    "memoryGiB": 244,
    "name": "ml.p3.8xlarge",
    "vcpuNum": 32
   },
   {
    "_defaultOrder": 37,
    "_isFastLaunch": false,
    "category": "Accelerated computing",
    "gpuNum": 8,
    "hideHardwareSpecs": false,
    "memoryGiB": 488,
    "name": "ml.p3.16xlarge",
    "vcpuNum": 64
   },
   {
    "_defaultOrder": 38,
    "_isFastLaunch": false,
    "category": "Accelerated computing",
    "gpuNum": 8,
    "hideHardwareSpecs": false,
    "memoryGiB": 768,
    "name": "ml.p3dn.24xlarge",
    "vcpuNum": 96
   },
   {
    "_defaultOrder": 39,
    "_isFastLaunch": false,
    "category": "Memory Optimized",
    "gpuNum": 0,
    "hideHardwareSpecs": false,
    "memoryGiB": 16,
    "name": "ml.r5.large",
    "vcpuNum": 2
   },
   {
    "_defaultOrder": 40,
    "_isFastLaunch": false,
    "category": "Memory Optimized",
    "gpuNum": 0,
    "hideHardwareSpecs": false,
    "memoryGiB": 32,
    "name": "ml.r5.xlarge",
    "vcpuNum": 4
   },
   {
    "_defaultOrder": 41,
    "_isFastLaunch": false,
    "category": "Memory Optimized",
    "gpuNum": 0,
    "hideHardwareSpecs": false,
    "memoryGiB": 64,
    "name": "ml.r5.2xlarge",
    "vcpuNum": 8
   },
   {
    "_defaultOrder": 42,
    "_isFastLaunch": false,
    "category": "Memory Optimized",
    "gpuNum": 0,
    "hideHardwareSpecs": false,
    "memoryGiB": 128,
    "name": "ml.r5.4xlarge",
    "vcpuNum": 16
   },
   {
    "_defaultOrder": 43,
    "_isFastLaunch": false,
    "category": "Memory Optimized",
    "gpuNum": 0,
    "hideHardwareSpecs": false,
    "memoryGiB": 256,
    "name": "ml.r5.8xlarge",
    "vcpuNum": 32
   },
   {
    "_defaultOrder": 44,
    "_isFastLaunch": false,
    "category": "Memory Optimized",
    "gpuNum": 0,
    "hideHardwareSpecs": false,
    "memoryGiB": 384,
    "name": "ml.r5.12xlarge",
    "vcpuNum": 48
   },
   {
    "_defaultOrder": 45,
    "_isFastLaunch": false,
    "category": "Memory Optimized",
    "gpuNum": 0,
    "hideHardwareSpecs": false,
    "memoryGiB": 512,
    "name": "ml.r5.16xlarge",
    "vcpuNum": 64
   },
   {
    "_defaultOrder": 46,
    "_isFastLaunch": false,
    "category": "Memory Optimized",
    "gpuNum": 0,
    "hideHardwareSpecs": false,
    "memoryGiB": 768,
    "name": "ml.r5.24xlarge",
    "vcpuNum": 96
   },
   {
    "_defaultOrder": 47,
    "_isFastLaunch": false,
    "category": "Accelerated computing",
    "gpuNum": 1,
    "hideHardwareSpecs": false,
    "memoryGiB": 16,
    "name": "ml.g5.xlarge",
    "vcpuNum": 4
   },
   {
    "_defaultOrder": 48,
    "_isFastLaunch": false,
    "category": "Accelerated computing",
    "gpuNum": 1,
    "hideHardwareSpecs": false,
    "memoryGiB": 32,
    "name": "ml.g5.2xlarge",
    "vcpuNum": 8
   },
   {
    "_defaultOrder": 49,
    "_isFastLaunch": false,
    "category": "Accelerated computing",
    "gpuNum": 1,
    "hideHardwareSpecs": false,
    "memoryGiB": 64,
    "name": "ml.g5.4xlarge",
    "vcpuNum": 16
   },
   {
    "_defaultOrder": 50,
    "_isFastLaunch": false,
    "category": "Accelerated computing",
    "gpuNum": 1,
    "hideHardwareSpecs": false,
    "memoryGiB": 128,
    "name": "ml.g5.8xlarge",
    "vcpuNum": 32
   },
   {
    "_defaultOrder": 51,
    "_isFastLaunch": false,
    "category": "Accelerated computing",
    "gpuNum": 1,
    "hideHardwareSpecs": false,
    "memoryGiB": 256,
    "name": "ml.g5.16xlarge",
    "vcpuNum": 64
   },
   {
    "_defaultOrder": 52,
    "_isFastLaunch": false,
    "category": "Accelerated computing",
    "gpuNum": 4,
    "hideHardwareSpecs": false,
    "memoryGiB": 192,
    "name": "ml.g5.12xlarge",
    "vcpuNum": 48
   },
   {
    "_defaultOrder": 53,
    "_isFastLaunch": false,
    "category": "Accelerated computing",
    "gpuNum": 4,
    "hideHardwareSpecs": false,
    "memoryGiB": 384,
    "name": "ml.g5.24xlarge",
    "vcpuNum": 96
   },
   {
    "_defaultOrder": 54,
    "_isFastLaunch": false,
    "category": "Accelerated computing",
    "gpuNum": 8,
    "hideHardwareSpecs": false,
    "memoryGiB": 768,
    "name": "ml.g5.48xlarge",
    "vcpuNum": 192
   }
  ],
  "instance_type": "ml.t3.medium",
  "kernelspec": {
   "display_name": "Python 3 (ipykernel)",
   "language": "python",
   "name": "python3"
  },
  "language_info": {
   "codemirror_mode": {
    "name": "ipython",
    "version": 3
   },
   "file_extension": ".py",
   "mimetype": "text/x-python",
   "name": "python",
   "nbconvert_exporter": "python",
   "pygments_lexer": "ipython3",
   "version": "3.9.7"
  }
 },
 "nbformat": 4,
 "nbformat_minor": 5
}

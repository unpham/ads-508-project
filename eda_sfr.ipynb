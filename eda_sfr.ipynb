{
 "cells": [
  {
   "cell_type": "code",
   "execution_count": 3,
   "id": "54e0661e-b8dc-41ec-8a4d-5181ef669c5d",
   "metadata": {
    "tags": []
   },
   "outputs": [],
   "source": [
    "import gzip\n",
    "import pandas as pd"
   ]
  },
  {
   "cell_type": "code",
   "execution_count": 4,
   "id": "dc39bd97-0c3c-4c33-95a9-6d36c88f86f0",
   "metadata": {
    "tags": []
   },
   "outputs": [],
   "source": [
    "import numpy as np\n",
    "\n",
    "%matplotlib inline\n",
    "import matplotlib.pyplot as plt\n",
    "import seaborn as sns"
   ]
  },
  {
   "cell_type": "code",
   "execution_count": 87,
   "id": "638bae2b-af12-4cb9-830f-3e0fc602d4a5",
   "metadata": {
    "tags": []
   },
   "outputs": [],
   "source": [
    "with gzip.open('compensation_cpi.csv.gz', 'rb') as f:\n",
    "    df = pd.read_csv(f)"
   ]
  },
  {
   "cell_type": "code",
   "execution_count": 88,
   "id": "c32e1e34-cf82-463f-83ad-c5ae21d1f505",
   "metadata": {
    "tags": []
   },
   "outputs": [
    {
     "name": "stdout",
     "output_type": "stream",
     "text": [
      "<class 'pandas.core.frame.DataFrame'>\n",
      "RangeIndex: 1466589 entries, 0 to 1466588\n",
      "Data columns (total 15 columns):\n",
      " #   Column              Non-Null Count    Dtype  \n",
      "---  ------              --------------    -----  \n",
      " 0   year                1466589 non-null  int64  \n",
      " 1   department          1466587 non-null  object \n",
      " 2   job_title           1466043 non-null  object \n",
      " 3   base_salary         1465890 non-null  float64\n",
      " 4   overtime            1433207 non-null  float64\n",
      " 5   irregular_cash      1466155 non-null  float64\n",
      " 6   total_cash          1466589 non-null  float64\n",
      " 7   retirement          1466589 non-null  float64\n",
      " 8   health              1447602 non-null  float64\n",
      " 9   other_benefits      830557 non-null   float64\n",
      " 10  total_benefits      1466589 non-null  float64\n",
      " 11  total_compensation  1466589 non-null  float64\n",
      " 12  city_id             1466589 non-null  int64  \n",
      " 13  annual_average_cpi  1466589 non-null  float64\n",
      " 14  inflation_rate      1466589 non-null  float64\n",
      "dtypes: float64(11), int64(2), object(2)\n",
      "memory usage: 167.8+ MB\n"
     ]
    }
   ],
   "source": [
    "df.info()"
   ]
  },
  {
   "cell_type": "code",
   "execution_count": 89,
   "id": "e3ba3963-b90d-4e04-87f5-4de3ce922b79",
   "metadata": {
    "tags": []
   },
   "outputs": [
    {
     "data": {
      "text/html": [
       "<div>\n",
       "<style scoped>\n",
       "    .dataframe tbody tr th:only-of-type {\n",
       "        vertical-align: middle;\n",
       "    }\n",
       "\n",
       "    .dataframe tbody tr th {\n",
       "        vertical-align: top;\n",
       "    }\n",
       "\n",
       "    .dataframe thead th {\n",
       "        text-align: right;\n",
       "    }\n",
       "</style>\n",
       "<table border=\"1\" class=\"dataframe\">\n",
       "  <thead>\n",
       "    <tr style=\"text-align: right;\">\n",
       "      <th></th>\n",
       "      <th>year</th>\n",
       "      <th>department</th>\n",
       "      <th>job_title</th>\n",
       "      <th>base_salary</th>\n",
       "      <th>overtime</th>\n",
       "      <th>irregular_cash</th>\n",
       "      <th>total_cash</th>\n",
       "      <th>retirement</th>\n",
       "      <th>health</th>\n",
       "      <th>other_benefits</th>\n",
       "      <th>total_benefits</th>\n",
       "      <th>total_compensation</th>\n",
       "      <th>city_id</th>\n",
       "      <th>annual_average_cpi</th>\n",
       "      <th>inflation_rate</th>\n",
       "    </tr>\n",
       "  </thead>\n",
       "  <tbody>\n",
       "    <tr>\n",
       "      <th>0</th>\n",
       "      <td>2020</td>\n",
       "      <td>Recreation And Park Commission</td>\n",
       "      <td>Camp Assistant</td>\n",
       "      <td>5257.50</td>\n",
       "      <td>0.0</td>\n",
       "      <td>139.32</td>\n",
       "      <td>5396.82</td>\n",
       "      <td>0.0</td>\n",
       "      <td>0.0</td>\n",
       "      <td>418.88</td>\n",
       "      <td>418.88</td>\n",
       "      <td>5815.70</td>\n",
       "      <td>2</td>\n",
       "      <td>258.8</td>\n",
       "      <td>1.2</td>\n",
       "    </tr>\n",
       "    <tr>\n",
       "      <th>1</th>\n",
       "      <td>2020</td>\n",
       "      <td>Registrar</td>\n",
       "      <td>Junior Clerk</td>\n",
       "      <td>7699.19</td>\n",
       "      <td>1916.9</td>\n",
       "      <td>0.00</td>\n",
       "      <td>9616.09</td>\n",
       "      <td>0.0</td>\n",
       "      <td>0.0</td>\n",
       "      <td>746.36</td>\n",
       "      <td>746.36</td>\n",
       "      <td>10362.45</td>\n",
       "      <td>2</td>\n",
       "      <td>258.8</td>\n",
       "      <td>1.2</td>\n",
       "    </tr>\n",
       "    <tr>\n",
       "      <th>2</th>\n",
       "      <td>2020</td>\n",
       "      <td>Registrar</td>\n",
       "      <td>Junior Clerk</td>\n",
       "      <td>2619.15</td>\n",
       "      <td>930.5</td>\n",
       "      <td>0.00</td>\n",
       "      <td>3549.65</td>\n",
       "      <td>0.0</td>\n",
       "      <td>0.0</td>\n",
       "      <td>275.51</td>\n",
       "      <td>275.51</td>\n",
       "      <td>3825.16</td>\n",
       "      <td>2</td>\n",
       "      <td>258.8</td>\n",
       "      <td>1.2</td>\n",
       "    </tr>\n",
       "  </tbody>\n",
       "</table>\n",
       "</div>"
      ],
      "text/plain": [
       "   year                      department       job_title  base_salary  \\\n",
       "0  2020  Recreation And Park Commission  Camp Assistant      5257.50   \n",
       "1  2020                       Registrar    Junior Clerk      7699.19   \n",
       "2  2020                       Registrar    Junior Clerk      2619.15   \n",
       "\n",
       "   overtime  irregular_cash  total_cash  retirement  health  other_benefits  \\\n",
       "0       0.0          139.32     5396.82         0.0     0.0          418.88   \n",
       "1    1916.9            0.00     9616.09         0.0     0.0          746.36   \n",
       "2     930.5            0.00     3549.65         0.0     0.0          275.51   \n",
       "\n",
       "   total_benefits  total_compensation  city_id  annual_average_cpi  \\\n",
       "0          418.88             5815.70        2               258.8   \n",
       "1          746.36            10362.45        2               258.8   \n",
       "2          275.51             3825.16        2               258.8   \n",
       "\n",
       "   inflation_rate  \n",
       "0             1.2  \n",
       "1             1.2  \n",
       "2             1.2  "
      ]
     },
     "execution_count": 89,
     "metadata": {},
     "output_type": "execute_result"
    }
   ],
   "source": [
    "df.head(3)"
   ]
  },
  {
   "cell_type": "code",
   "execution_count": 90,
   "id": "9cf15fc2-f25f-49ab-bcdf-958bef0033c0",
   "metadata": {
    "tags": []
   },
   "outputs": [
    {
     "data": {
      "text/plain": [
       "array(['District Attorney', 'DAT District Attorney',\n",
       "       'Council - District 7', 'Council - District 2',\n",
       "       'Council - District 10', 'Council - District 8',\n",
       "       'Council - District 3', 'Council - District 5',\n",
       "       'Council - District 1', 'Council - District 9',\n",
       "       'Council - District 4', 'Council - District 6', 'Parks District 8'],\n",
       "      dtype=object)"
      ]
     },
     "execution_count": 90,
     "metadata": {},
     "output_type": "execute_result"
    }
   ],
   "source": [
    "df[df['department'].str.contains('District') == True]['department'].unique()"
   ]
  },
  {
   "cell_type": "code",
   "execution_count": 91,
   "id": "8ca522d5-e220-4d0a-8f59-37c75f134eb0",
   "metadata": {
    "tags": []
   },
   "outputs": [
    {
     "data": {
      "image/png": "[encoded data removed]",
      "text/plain": [
       "<Figure size 640x480 with 1 Axes>"
      ]
     },
     "metadata": {},
     "output_type": "display_data"
    }
   ],
   "source": [
    "sns.scatterplot(data=df,x='year',y=\"annual_average_cpi\")\n",
    "plt.title(\"Inflation / CPI index 2013 - 2021\");"
   ]
  },
  {
   "cell_type": "code",
   "execution_count": 92,
   "id": "cebbfa8f-14db-4eb5-abd7-9a73b1dc48f8",
   "metadata": {
    "tags": []
   },
   "outputs": [
    {
     "data": {
      "text/html": [
       "<div>\n",
       "<style scoped>\n",
       "    .dataframe tbody tr th:only-of-type {\n",
       "        vertical-align: middle;\n",
       "    }\n",
       "\n",
       "    .dataframe tbody tr th {\n",
       "        vertical-align: top;\n",
       "    }\n",
       "\n",
       "    .dataframe thead th {\n",
       "        text-align: right;\n",
       "    }\n",
       "</style>\n",
       "<table border=\"1\" class=\"dataframe\">\n",
       "  <thead>\n",
       "    <tr style=\"text-align: right;\">\n",
       "      <th></th>\n",
       "      <th>year</th>\n",
       "      <th>department</th>\n",
       "      <th>job_title</th>\n",
       "      <th>base_salary</th>\n",
       "      <th>overtime</th>\n",
       "      <th>irregular_cash</th>\n",
       "      <th>total_cash</th>\n",
       "      <th>retirement</th>\n",
       "      <th>health</th>\n",
       "      <th>other_benefits</th>\n",
       "      <th>total_benefits</th>\n",
       "      <th>total_compensation</th>\n",
       "      <th>city_id</th>\n",
       "      <th>annual_average_cpi</th>\n",
       "      <th>inflation_rate</th>\n",
       "    </tr>\n",
       "  </thead>\n",
       "  <tbody>\n",
       "    <tr>\n",
       "      <th>139761</th>\n",
       "      <td>2017</td>\n",
       "      <td>NaN</td>\n",
       "      <td>Sheriff's Cadet</td>\n",
       "      <td>49630.50</td>\n",
       "      <td>15016.51</td>\n",
       "      <td>3197.52</td>\n",
       "      <td>67844.53</td>\n",
       "      <td>10619.27</td>\n",
       "      <td>12779.88</td>\n",
       "      <td>4796.56</td>\n",
       "      <td>28195.71</td>\n",
       "      <td>96040.24</td>\n",
       "      <td>2</td>\n",
       "      <td>245.1</td>\n",
       "      <td>2.1</td>\n",
       "    </tr>\n",
       "    <tr>\n",
       "      <th>430579</th>\n",
       "      <td>2017</td>\n",
       "      <td>NaN</td>\n",
       "      <td>Police Officer 2</td>\n",
       "      <td>116189.62</td>\n",
       "      <td>40990.09</td>\n",
       "      <td>2260.08</td>\n",
       "      <td>159439.80</td>\n",
       "      <td>20076.66</td>\n",
       "      <td>14515.01</td>\n",
       "      <td>2724.05</td>\n",
       "      <td>37315.72</td>\n",
       "      <td>196755.52</td>\n",
       "      <td>2</td>\n",
       "      <td>245.1</td>\n",
       "      <td>2.1</td>\n",
       "    </tr>\n",
       "  </tbody>\n",
       "</table>\n",
       "</div>"
      ],
      "text/plain": [
       "        year department         job_title  base_salary  overtime  \\\n",
       "139761  2017        NaN   Sheriff's Cadet     49630.50  15016.51   \n",
       "430579  2017        NaN  Police Officer 2    116189.62  40990.09   \n",
       "\n",
       "        irregular_cash  total_cash  retirement    health  other_benefits  \\\n",
       "139761         3197.52    67844.53    10619.27  12779.88         4796.56   \n",
       "430579         2260.08   159439.80    20076.66  14515.01         2724.05   \n",
       "\n",
       "        total_benefits  total_compensation  city_id  annual_average_cpi  \\\n",
       "139761        28195.71            96040.24        2               245.1   \n",
       "430579        37315.72           196755.52        2               245.1   \n",
       "\n",
       "        inflation_rate  \n",
       "139761             2.1  \n",
       "430579             2.1  "
      ]
     },
     "execution_count": 92,
     "metadata": {},
     "output_type": "execute_result"
    }
   ],
   "source": [
    "#we have two missing department names but they are both police\n",
    "df[df['department'].isna()]"
   ]
  },
  {
   "cell_type": "code",
   "execution_count": 93,
   "id": "9e126458-0291-4bd0-b913-04a1d1a0587f",
   "metadata": {
    "tags": []
   },
   "outputs": [],
   "source": [
    "#fill in the missing police department names\n",
    "df['department'].fillna('Police',inplace=True)"
   ]
  },
  {
   "cell_type": "code",
   "execution_count": 94,
   "id": "86945af9-ec26-40e4-9889-d30456f4b03a",
   "metadata": {
    "tags": []
   },
   "outputs": [
    {
     "data": {
      "text/plain": [
       "POLICE                          136819\n",
       "WATER AND POWER                 109906\n",
       "Public Health                    95725\n",
       "RECREATION AND PARKS             84680\n",
       "DPH Public Health                73093\n",
       "                                 ...  \n",
       "Airport-Custodians                   1\n",
       "Police-Crisis Management             1\n",
       "Police-TABS                          1\n",
       "Attorney-Part Time                   1\n",
       "DOT/Pavement Maint Southeast         1\n",
       "Name: department, Length: 550, dtype: int64"
      ]
     },
     "execution_count": 94,
     "metadata": {},
     "output_type": "execute_result"
    }
   ],
   "source": [
    "df['department'].value_counts()"
   ]
  },
  {
   "cell_type": "markdown",
   "id": "99697352-85ec-4e99-82b8-3096794f0223",
   "metadata": {},
   "source": [
    "### Condensing Department Names"
   ]
  },
  {
   "cell_type": "code",
   "execution_count": 95,
   "id": "da27adea-bafe-408c-824e-e44fa5e862c6",
   "metadata": {
    "tags": []
   },
   "outputs": [],
   "source": [
    "def replace_text(text):\n",
    "    if pd.isna(text) or text is None:\n",
    "        return text\n",
    "    elif target_word.lower() in text.lower():\n",
    "        return new_word\n",
    "    else:\n",
    "        return text"
   ]
  },
  {
   "cell_type": "code",
   "execution_count": 96,
   "id": "717acf97-49d8-4a97-b441-35423e94af97",
   "metadata": {
    "tags": []
   },
   "outputs": [],
   "source": [
    "target_word= \"Police\"\n",
    "new_word= \"Police\"\n",
    "df['department'] = df['department'].apply(replace_text)"
   ]
  },
  {
   "cell_type": "code",
   "execution_count": 97,
   "id": "d11df515-e8d6-4a95-b613-91cc0fe514a4",
   "metadata": {
    "tags": []
   },
   "outputs": [],
   "source": [
    "dept_dict = {\n",
    "    'Police': 'Police', 'Sheriff': 'Police', \"Vcet\" : \"Police\",   \n",
    "    \"Fire\" : \"Emergency Management\",    \"Emergency\" : \"Emergency Management\",\n",
    "    \"PW\" : \"Public Works\",    \"Public\" : \"Public Works\",    \"Water\" : \"Public Works\",    \"DOT\" : \"Public Works\",    \"Transport\" : \"Public Works\",\n",
    "    \"Plan\" : \"Public Works\",    \"Building\" : \"Public Works\",    #\"District\" : \"Public Works\",    \n",
    "    \"PRNS\" : \"Parks\",    \"Recre\" : \"Parks\",    \"Zoo\" : \"Parks\",    \"Parks\" : \"Parks\",    \"Arena\" : \"Parks\",\n",
    "    \"City\" : \"City Mgmt\",    \"Convention\" : \"City Mgmt\",    \"Neighbor\" : \"City Mgmt\",    \"Election\" : \"City Mgmt\",    \"Council\" : \"City Mgmt\",\n",
    "    \"CII\" : \"City Mgmt\",    \"Clerk\" : \"City Mgmt\",    \"Registrar\" : \"City Mgmt\",    \"Housing\" : \"City Mgmt\",    \"Mayor\" : \"City Mgmt\",    \"rda\" : \"City Mgmt\",\n",
    "    \"Airport\" : \"Airport\",    \"Airside\" : \"Airport\",\n",
    "    \"Finance\" : \"Finance\",    \"Auditor\" : \"Finance\",    \"Assessor\" : \"Finance\",    \"Controller\" : \"Finance\",    \"Tax\" : \"Finance\", \"Treasure\" : \"Finance\",\n",
    "    \"Board\" : \"Law and Reg\",    \"Attorney\" : \"Law and Reg\",    \"Court\" : \"Law and Reg\",\n",
    "    \"Ethics\" : \"Law and Reg\",    \"Probation\" : \"Law and Reg\",    \"Regulation\" : \"Law and Reg\",\n",
    "    \"prt\" : \"Port\",    \"port\" : \"Port\", \"Harbor\" : \"Port\",\n",
    "    \"Human\" : \"Human Services\",    \"Retire\" : \"Human Services\",    \"Child\" : \"Human Services\",    \"Service\" : \"Human Services\",\n",
    "    \"Personnel\" : \"Human Services\",    \"Aging\" : \"Human Services\",    \"Women\" : \"Human Services\",    \"Pension\" : \"Human Services\",\n",
    "    \"Disability\" : \"Human Services\",    \"Families\" : \"Human Services\", \"Youth\" : \"Human Services\",\n",
    "    \"ESD\" : \"Human Services\",    \"Employee\" : \"Human Services\",\n",
    "    \"Info\" : \"IT\",    \"Tech\" : \"IT\",\n",
    "    \"Envi\" : \"Energy, Env, Economy\",    \"Energy\" : \"Energy, Env, Economy\",    \"Power\" : \"Energy, Env, Economy\", \"Econ\" : \"Energy, Env, Economy\",\n",
    "    \"Science\" : \"Libraries, Arts, Science, Museums\",    \"Librar\" : \"Libraries, Arts, Science, Museums\",    \"Museum\" : \"Libraries, Arts, Science, Museums\",\n",
    "    \"Memorial\" : \"Libraries, Arts, Science, Museums\",    \"Monument\" : \"Libraries, Arts, Science, Museums\",    \"Arts\" : \"Libraries, Arts, Science, Museums\",\n",
    "    \"Cultur\" : \"Libraries, Arts, Science, Museums\", \"Art Commission\" : \"Libraries, Arts, Science, Museums\"\n",
    "}"
   ]
  },
  {
   "cell_type": "code",
   "execution_count": 98,
   "id": "d1433337-ed87-4e3f-89db-f630eadd9369",
   "metadata": {
    "tags": []
   },
   "outputs": [],
   "source": [
    "for key in dept_dict:\n",
    "    target_word= key\n",
    "    new_word= dept_dict[key]\n",
    "    df['department'] = df['department'].apply(replace_text)"
   ]
  },
  {
   "cell_type": "code",
   "execution_count": 99,
   "id": "5d94637e-7954-44ca-8ef6-2c15721c4be7",
   "metadata": {
    "tags": []
   },
   "outputs": [
    {
     "data": {
      "text/plain": [
       "Public Works                         0.384807\n",
       "Police                               0.159051\n",
       "Port                                 0.098913\n",
       "Parks                                0.097807\n",
       "Human Services                       0.085051\n",
       "Emergency Management                 0.057883\n",
       "City Mgmt                            0.046575\n",
       "Libraries, Arts, Science, Museums    0.022667\n",
       "Law and Reg                          0.019740\n",
       "Finance                              0.014328\n",
       "IT                                   0.008094\n",
       "Energy, Env, Economy                 0.005083\n",
       "Name: department, dtype: float64"
      ]
     },
     "execution_count": 99,
     "metadata": {},
     "output_type": "execute_result"
    }
   ],
   "source": [
    "df['department'].value_counts(normalize=True)"
   ]
  },
  {
   "cell_type": "markdown",
   "id": "37f21447-41e5-47c5-82dc-20d4523525c2",
   "metadata": {},
   "source": [
    "### Adjusting all numbers to present-day CPI"
   ]
  },
  {
   "cell_type": "code",
   "execution_count": 100,
   "id": "c739adec-27ac-4bab-b502-2c022834b0b9",
   "metadata": {
    "tags": []
   },
   "outputs": [],
   "source": [
    "df['base_salary'] = df['base_salary'] * (df['annual_average_cpi'].max() / df['annual_average_cpi'])\n",
    "df['overtime'] = df['overtime'] * (df['annual_average_cpi'].max() / df['annual_average_cpi'])\n",
    "df['irregular_cash'] = df['irregular_cash'] * (df['annual_average_cpi'].max() / df['annual_average_cpi'])\n",
    "df['total_cash'] = df['total_cash'] * (df['annual_average_cpi'].max() / df['annual_average_cpi'])\n",
    "\n",
    "df['retirement'] = df['retirement'] * (df['annual_average_cpi'].max() / df['annual_average_cpi'])\n",
    "df['health'] = df['health'] * (df['annual_average_cpi'].max() / df['annual_average_cpi'])\n",
    "df['other_benefits'] = df['other_benefits'] * (df['annual_average_cpi'].max() / df['annual_average_cpi'])\n",
    "df['total_benefits'] = df['total_benefits'] * (df['annual_average_cpi'].max() / df['annual_average_cpi'])\n",
    "df['total_compensation'] = df['total_compensation'] * (df['annual_average_cpi'].max() / df['annual_average_cpi'])"
   ]
  },
  {
   "cell_type": "code",
   "execution_count": 101,
   "id": "7b5848e7-143d-47cc-8716-02421be4fa14",
   "metadata": {
    "tags": []
   },
   "outputs": [
    {
     "data": {
      "text/html": [
       "<div>\n",
       "<style scoped>\n",
       "    .dataframe tbody tr th:only-of-type {\n",
       "        vertical-align: middle;\n",
       "    }\n",
       "\n",
       "    .dataframe tbody tr th {\n",
       "        vertical-align: top;\n",
       "    }\n",
       "\n",
       "    .dataframe thead th {\n",
       "        text-align: right;\n",
       "    }\n",
       "</style>\n",
       "<table border=\"1\" class=\"dataframe\">\n",
       "  <thead>\n",
       "    <tr style=\"text-align: right;\">\n",
       "      <th></th>\n",
       "      <th>year</th>\n",
       "      <th>department</th>\n",
       "      <th>job_title</th>\n",
       "      <th>base_salary</th>\n",
       "      <th>overtime</th>\n",
       "      <th>irregular_cash</th>\n",
       "      <th>total_cash</th>\n",
       "      <th>retirement</th>\n",
       "      <th>health</th>\n",
       "      <th>other_benefits</th>\n",
       "      <th>total_benefits</th>\n",
       "      <th>total_compensation</th>\n",
       "      <th>city_id</th>\n",
       "      <th>annual_average_cpi</th>\n",
       "      <th>inflation_rate</th>\n",
       "    </tr>\n",
       "  </thead>\n",
       "  <tbody>\n",
       "    <tr>\n",
       "      <th>0</th>\n",
       "      <td>2020</td>\n",
       "      <td>Parks</td>\n",
       "      <td>Camp Assistant</td>\n",
       "      <td>5505.341963</td>\n",
       "      <td>0.000000</td>\n",
       "      <td>145.887635</td>\n",
       "      <td>5651.229598</td>\n",
       "      <td>0.000000</td>\n",
       "      <td>0.000000</td>\n",
       "      <td>438.626275</td>\n",
       "      <td>438.626275</td>\n",
       "      <td>6089.855873</td>\n",
       "      <td>2</td>\n",
       "      <td>258.8</td>\n",
       "      <td>1.2</td>\n",
       "    </tr>\n",
       "    <tr>\n",
       "      <th>1</th>\n",
       "      <td>2020</td>\n",
       "      <td>City Mgmt</td>\n",
       "      <td>Junior Clerk</td>\n",
       "      <td>8062.134815</td>\n",
       "      <td>2007.263910</td>\n",
       "      <td>0.000000</td>\n",
       "      <td>10069.398725</td>\n",
       "      <td>0.000000</td>\n",
       "      <td>0.000000</td>\n",
       "      <td>781.543895</td>\n",
       "      <td>781.543895</td>\n",
       "      <td>10850.942620</td>\n",
       "      <td>2</td>\n",
       "      <td>258.8</td>\n",
       "      <td>1.2</td>\n",
       "    </tr>\n",
       "    <tr>\n",
       "      <th>2</th>\n",
       "      <td>2020</td>\n",
       "      <td>City Mgmt</td>\n",
       "      <td>Junior Clerk</td>\n",
       "      <td>2742.618431</td>\n",
       "      <td>974.364374</td>\n",
       "      <td>0.000000</td>\n",
       "      <td>3716.982805</td>\n",
       "      <td>0.000000</td>\n",
       "      <td>0.000000</td>\n",
       "      <td>288.497720</td>\n",
       "      <td>288.497720</td>\n",
       "      <td>4005.480526</td>\n",
       "      <td>2</td>\n",
       "      <td>258.8</td>\n",
       "      <td>1.2</td>\n",
       "    </tr>\n",
       "    <tr>\n",
       "      <th>3</th>\n",
       "      <td>2020</td>\n",
       "      <td>City Mgmt</td>\n",
       "      <td>Clerk</td>\n",
       "      <td>1958.802241</td>\n",
       "      <td>619.090495</td>\n",
       "      <td>0.000000</td>\n",
       "      <td>2577.892736</td>\n",
       "      <td>0.000000</td>\n",
       "      <td>0.000000</td>\n",
       "      <td>200.077164</td>\n",
       "      <td>200.077164</td>\n",
       "      <td>2777.969900</td>\n",
       "      <td>2</td>\n",
       "      <td>258.8</td>\n",
       "      <td>1.2</td>\n",
       "    </tr>\n",
       "    <tr>\n",
       "      <th>4</th>\n",
       "      <td>2020</td>\n",
       "      <td>Public Works</td>\n",
       "      <td>Engineer</td>\n",
       "      <td>166298.647372</td>\n",
       "      <td>0.000000</td>\n",
       "      <td>5944.554637</td>\n",
       "      <td>172243.202009</td>\n",
       "      <td>35106.269861</td>\n",
       "      <td>15799.729328</td>\n",
       "      <td>12219.283192</td>\n",
       "      <td>63125.282380</td>\n",
       "      <td>235368.484389</td>\n",
       "      <td>2</td>\n",
       "      <td>258.8</td>\n",
       "      <td>1.2</td>\n",
       "    </tr>\n",
       "  </tbody>\n",
       "</table>\n",
       "</div>"
      ],
      "text/plain": [
       "   year    department       job_title    base_salary     overtime  \\\n",
       "0  2020         Parks  Camp Assistant    5505.341963     0.000000   \n",
       "1  2020     City Mgmt    Junior Clerk    8062.134815  2007.263910   \n",
       "2  2020     City Mgmt    Junior Clerk    2742.618431   974.364374   \n",
       "3  2020     City Mgmt           Clerk    1958.802241   619.090495   \n",
       "4  2020  Public Works        Engineer  166298.647372     0.000000   \n",
       "\n",
       "   irregular_cash     total_cash    retirement        health  other_benefits  \\\n",
       "0      145.887635    5651.229598      0.000000      0.000000      438.626275   \n",
       "1        0.000000   10069.398725      0.000000      0.000000      781.543895   \n",
       "2        0.000000    3716.982805      0.000000      0.000000      288.497720   \n",
       "3        0.000000    2577.892736      0.000000      0.000000      200.077164   \n",
       "4     5944.554637  172243.202009  35106.269861  15799.729328    12219.283192   \n",
       "\n",
       "   total_benefits  total_compensation  city_id  annual_average_cpi  \\\n",
       "0      438.626275         6089.855873        2               258.8   \n",
       "1      781.543895        10850.942620        2               258.8   \n",
       "2      288.497720         4005.480526        2               258.8   \n",
       "3      200.077164         2777.969900        2               258.8   \n",
       "4    63125.282380       235368.484389        2               258.8   \n",
       "\n",
       "   inflation_rate  \n",
       "0             1.2  \n",
       "1             1.2  \n",
       "2             1.2  \n",
       "3             1.2  \n",
       "4             1.2  "
      ]
     },
     "execution_count": 101,
     "metadata": {},
     "output_type": "execute_result"
    }
   ],
   "source": [
    "df.head()"
   ]
  },
  {
   "cell_type": "markdown",
   "id": "46a0b2ca-378e-465f-b887-a4d348d79e7c",
   "metadata": {},
   "source": [
    "### More cleaning"
   ]
  },
  {
   "cell_type": "markdown",
   "id": "ce4c01e1-d30f-42de-9fc4-94d02b3af182",
   "metadata": {},
   "source": [
    "Changing integers for Year and City into categorical variables"
   ]
  },
  {
   "cell_type": "code",
   "execution_count": 102,
   "id": "61ab4fcb-f90b-458c-9d3f-cefb77417f50",
   "metadata": {
    "tags": []
   },
   "outputs": [],
   "source": [
    "df['year'] = df['year'].astype('category')\n",
    "df['city_id'] = df['city_id'].astype('category')"
   ]
  },
  {
   "cell_type": "code",
   "execution_count": 103,
   "id": "f4bc1859-25be-4658-9a9e-c03d360a4f3e",
   "metadata": {
    "tags": []
   },
   "outputs": [
    {
     "data": {
      "text/plain": [
       "year                       0\n",
       "department                 0\n",
       "job_title                546\n",
       "base_salary              699\n",
       "overtime               33382\n",
       "irregular_cash           434\n",
       "total_cash                 0\n",
       "retirement                 0\n",
       "health                 18987\n",
       "other_benefits        636032\n",
       "total_benefits             0\n",
       "total_compensation         0\n",
       "city_id                    0\n",
       "annual_average_cpi         0\n",
       "inflation_rate             0\n",
       "dtype: int64"
      ]
     },
     "execution_count": 103,
     "metadata": {},
     "output_type": "execute_result"
    }
   ],
   "source": [
    "df.isna().sum()"
   ]
  },
  {
   "cell_type": "markdown",
   "id": "39e5b060-33bf-4a3c-ab46-62365d985bfe",
   "metadata": {},
   "source": [
    "I feel justified filling in null \"health\" and \"other_benefits\" values with 0 because it's the single most common practice"
   ]
  },
  {
   "cell_type": "code",
   "execution_count": 104,
   "id": "1c4c90c8-b107-4ebe-acec-615e9d7f82f8",
   "metadata": {
    "tags": []
   },
   "outputs": [
    {
     "data": {
      "image/png": "[encoded data removed]",
      "text/plain": [
       "<Figure size 600x300 with 1 Axes>"
      ]
     },
     "metadata": {},
     "output_type": "display_data"
    }
   ],
   "source": [
    "plt.figure(figsize=(6,3))\n",
    "plt.xlim(-10000,50000)\n",
    "df['health'].plot.hist(bins=1000);"
   ]
  },
  {
   "cell_type": "code",
   "execution_count": 105,
   "id": "4bdea3ee-0cf0-45eb-9a5c-a4ddc4775d3d",
   "metadata": {
    "tags": []
   },
   "outputs": [
    {
     "data": {
      "image/png": "[encoded data removed]",
      "text/plain": [
       "<Figure size 600x300 with 1 Axes>"
      ]
     },
     "metadata": {},
     "output_type": "display_data"
    }
   ],
   "source": [
    "plt.figure(figsize=(6,3))\n",
    "#plt.xlim(-5000,30000)\n",
    "df['other_benefits'].plot.hist(bins=1000);"
   ]
  },
  {
   "cell_type": "code",
   "execution_count": 114,
   "id": "da2a56b3-a0b9-467b-8248-b6f415102861",
   "metadata": {
    "tags": []
   },
   "outputs": [
    {
     "data": {
      "text/plain": [
       "year                  0\n",
       "department            0\n",
       "job_title             0\n",
       "base_salary           0\n",
       "overtime              0\n",
       "irregular_cash        0\n",
       "total_cash            0\n",
       "retirement            0\n",
       "health                0\n",
       "other_benefits        0\n",
       "total_benefits        0\n",
       "total_compensation    0\n",
       "city_id               0\n",
       "annual_average_cpi    0\n",
       "inflation_rate        0\n",
       "dtype: int64"
      ]
     },
     "execution_count": 114,
     "metadata": {},
     "output_type": "execute_result"
    }
   ],
   "source": [
    "df['job_title'] = df['job_title'].fillna(\"Not disclosed\")\n",
    "df['overtime'] = df['overtime'].fillna(0)\n",
    "df['irregular_cash'] = df['irregular_cash'].fillna(0)\n",
    "df['health'] = df['health'].fillna(0)\n",
    "df['other_benefits'] = df['other_benefits'].fillna(0)\n",
    "\n",
    "df['base_salary'] = df['base_salary'].fillna((df['total_cash'] - df['overtime'] - df['irregular_cash']))\n",
    "\n",
    "df.isna().sum()"
   ]
  },
  {
   "cell_type": "code",
   "execution_count": null,
   "id": "b81d5f51-0840-49ac-92f9-d2a99b8f51c3",
   "metadata": {
    "tags": []
   },
   "outputs": [],
   "source": []
  },
  {
   "cell_type": "code",
   "execution_count": null,
   "id": "aba6df01-1c6a-4514-8f91-b55f7dec0439",
   "metadata": {},
   "outputs": [],
   "source": []
  },
  {
   "cell_type": "markdown",
   "id": "8982bf20-08eb-4ff5-82c4-1f5023057e87",
   "metadata": {},
   "source": [
    "### Some visuals"
   ]
  },
  {
   "cell_type": "code",
   "execution_count": 28,
   "id": "2a6d37d8-ab6f-462a-912c-29fb52058c43",
   "metadata": {
    "tags": []
   },
   "outputs": [
    {
     "data": {
      "image/png": "[encoded data removed]",
      "text/plain": [
       "<Figure size 640x480 with 1 Axes>"
      ]
     },
     "metadata": {},
     "output_type": "display_data"
    }
   ],
   "source": [
    "df.groupby('year')['base_salary'].mean().plot.bar()\n",
    "plt.title(\"Inflation-adjusted average salaries\");"
   ]
  },
  {
   "cell_type": "code",
   "execution_count": 30,
   "id": "4c49ba37-143f-421a-be5d-059c03704ba6",
   "metadata": {
    "tags": []
   },
   "outputs": [
    {
     "data": {
      "image/png": "[encoded data removed]",
      "text/plain": [
       "<Figure size 640x480 with 1 Axes>"
      ]
     },
     "metadata": {},
     "output_type": "display_data"
    }
   ],
   "source": [
    "df.groupby('year')['overtime'].mean().plot.bar()\n",
    "plt.title(\"Inflation-adjusted average overtime\");"
   ]
  },
  {
   "cell_type": "code",
   "execution_count": 32,
   "id": "92d3ec91-bdc1-465a-82c7-0eb807cc8125",
   "metadata": {
    "tags": []
   },
   "outputs": [
    {
     "data": {
      "image/png": "[encoded data removed]",
      "text/plain": [
       "<Figure size 640x480 with 1 Axes>"
      ]
     },
     "metadata": {},
     "output_type": "display_data"
    }
   ],
   "source": [
    "df.groupby('year')['total_cash'].mean().plot.bar()\n",
    "plt.title(\"Inflation-adjusted average total cash\");"
   ]
  },
  {
   "cell_type": "code",
   "execution_count": 40,
   "id": "b78755ce-29a8-425e-9495-9e8131c0ddf4",
   "metadata": {
    "tags": []
   },
   "outputs": [
    {
     "data": {
      "text/plain": [
       "<matplotlib.axes._subplots.AxesSubplot at 0x7fba247d6b10>"
      ]
     },
     "execution_count": 40,
     "metadata": {},
     "output_type": "execute_result"
    },
    {
     "data": {
      "image/png": "[encoded data removed]",
      "text/plain": [
       "<Figure size 640x480 with 1 Axes>"
      ]
     },
     "metadata": {},
     "output_type": "display_data"
    }
   ],
   "source": [
    "df.groupby(['city_id','year'])['total_cash'].mean().plot.bar()"
   ]
  },
  {
   "cell_type": "code",
   "execution_count": null,
   "id": "582428ef-ef31-46b2-afbb-4b54c2e4ff55",
   "metadata": {},
   "outputs": [],
   "source": []
  },
  {
   "cell_type": "code",
   "execution_count": null,
   "id": "68fd0c9f-855a-4d49-8f98-43ec83ee0f1c",
   "metadata": {},
   "outputs": [],
   "source": []
  },
  {
   "cell_type": "code",
   "execution_count": null,
   "id": "0339c4a1-d9c4-42bc-ad67-e23f1667fd1f",
   "metadata": {},
   "outputs": [],
   "source": []
  },
  {
   "cell_type": "markdown",
   "id": "f979125b-7440-497b-9745-5234256ac5c3",
   "metadata": {},
   "source": [
    "## SageMaker regression\n",
    "Following along here https://towardsdatascience.com/using-aws-sagemakers-linear-learner-to-solve-regression-problems-36732d802ba6"
   ]
  },
  {
   "cell_type": "code",
   "execution_count": 41,
   "id": "48c0077a-2f8c-400a-b5d4-d3d998b4dda5",
   "metadata": {
    "tags": []
   },
   "outputs": [],
   "source": [
    "import sagemaker\n",
    "import boto3\n",
    "\n",
    "sess = sagemaker.Session()\n",
    "role = sagemaker.get_execution_role()\n",
    "bucket = sess.default_bucket()\n",
    "region = boto3.Session().region_name\n",
    "\n",
    "sm = boto3.Session().client(service_name=\"sagemaker\", region_name=region)\n",
    "s3 = boto3.Session().client(service_name=\"s3\", region_name=region)"
   ]
  },
  {
   "cell_type": "code",
   "execution_count": null,
   "id": "a28bfe9d-33e3-47fa-8c15-daa64bfb29dc",
   "metadata": {},
   "outputs": [],
   "source": []
  }
 ],
 "metadata": {
  "availableInstances": [
   {
    "_defaultOrder": 0,
    "_isFastLaunch": true,
    "category": "General purpose",
    "gpuNum": 0,
    "hideHardwareSpecs": false,
    "memoryGiB": 4,
    "name": "ml.t3.medium",
    "vcpuNum": 2
   },
   {
    "_defaultOrder": 1,
    "_isFastLaunch": false,
    "category": "General purpose",
    "gpuNum": 0,
    "hideHardwareSpecs": false,
    "memoryGiB": 8,
    "name": "ml.t3.large",
    "vcpuNum": 2
   },
   {
    "_defaultOrder": 2,
    "_isFastLaunch": false,
    "category": "General purpose",
    "gpuNum": 0,
    "hideHardwareSpecs": false,
    "memoryGiB": 16,
    "name": "ml.t3.xlarge",
    "vcpuNum": 4
   },
   {
    "_defaultOrder": 3,
    "_isFastLaunch": false,
    "category": "General purpose",
    "gpuNum": 0,
    "hideHardwareSpecs": false,
    "memoryGiB": 32,
    "name": "ml.t3.2xlarge",
    "vcpuNum": 8
   },
   {
    "_defaultOrder": 4,
    "_isFastLaunch": true,
    "category": "General purpose",
    "gpuNum": 0,
    "hideHardwareSpecs": false,
    "memoryGiB": 8,
    "name": "ml.m5.large",
    "vcpuNum": 2
   },
   {
    "_defaultOrder": 5,
    "_isFastLaunch": false,
    "category": "General purpose",
    "gpuNum": 0,
    "hideHardwareSpecs": false,
    "memoryGiB": 16,
    "name": "ml.m5.xlarge",
    "vcpuNum": 4
   },
   {
    "_defaultOrder": 6,
    "_isFastLaunch": false,
    "category": "General purpose",
    "gpuNum": 0,
    "hideHardwareSpecs": false,
    "memoryGiB": 32,
    "name": "ml.m5.2xlarge",
    "vcpuNum": 8
   },
   {
    "_defaultOrder": 7,
    "_isFastLaunch": false,
    "category": "General purpose",
    "gpuNum": 0,
    "hideHardwareSpecs": false,
    "memoryGiB": 64,
    "name": "ml.m5.4xlarge",
    "vcpuNum": 16
   },
   {
    "_defaultOrder": 8,
    "_isFastLaunch": false,
    "category": "General purpose",
    "gpuNum": 0,
    "hideHardwareSpecs": false,
    "memoryGiB": 128,
    "name": "ml.m5.8xlarge",
    "vcpuNum": 32
   },
   {
    "_defaultOrder": 9,
    "_isFastLaunch": false,
    "category": "General purpose",
    "gpuNum": 0,
    "hideHardwareSpecs": false,
    "memoryGiB": 192,
    "name": "ml.m5.12xlarge",
    "vcpuNum": 48
   },
   {
    "_defaultOrder": 10,
    "_isFastLaunch": false,
    "category": "General purpose",
    "gpuNum": 0,
    "hideHardwareSpecs": false,
    "memoryGiB": 256,
    "name": "ml.m5.16xlarge",
    "vcpuNum": 64
   },
   {
    "_defaultOrder": 11,
    "_isFastLaunch": false,
    "category": "General purpose",
    "gpuNum": 0,
    "hideHardwareSpecs": false,
    "memoryGiB": 384,
    "name": "ml.m5.24xlarge",
    "vcpuNum": 96
   },
   {
    "_defaultOrder": 12,
    "_isFastLaunch": false,
    "category": "General purpose",
    "gpuNum": 0,
    "hideHardwareSpecs": false,
    "memoryGiB": 8,
    "name": "ml.m5d.large",
    "vcpuNum": 2
   },
   {
    "_defaultOrder": 13,
    "_isFastLaunch": false,
    "category": "General purpose",
    "gpuNum": 0,
    "hideHardwareSpecs": false,
    "memoryGiB": 16,
    "name": "ml.m5d.xlarge",
    "vcpuNum": 4
   },
   {
    "_defaultOrder": 14,
    "_isFastLaunch": false,
    "category": "General purpose",
    "gpuNum": 0,
    "hideHardwareSpecs": false,
    "memoryGiB": 32,
    "name": "ml.m5d.2xlarge",
    "vcpuNum": 8
   },
   {
    "_defaultOrder": 15,
    "_isFastLaunch": false,
    "category": "General purpose",
    "gpuNum": 0,
    "hideHardwareSpecs": false,
    "memoryGiB": 64,
    "name": "ml.m5d.4xlarge",
    "vcpuNum": 16
   },
   {
    "_defaultOrder": 16,
    "_isFastLaunch": false,
    "category": "General purpose",
    "gpuNum": 0,
    "hideHardwareSpecs": false,
    "memoryGiB": 128,
    "name": "ml.m5d.8xlarge",
    "vcpuNum": 32
   },
   {
    "_defaultOrder": 17,
    "_isFastLaunch": false,
    "category": "General purpose",
    "gpuNum": 0,
    "hideHardwareSpecs": false,
    "memoryGiB": 192,
    "name": "ml.m5d.12xlarge",
    "vcpuNum": 48
   },
   {
    "_defaultOrder": 18,
    "_isFastLaunch": false,
    "category": "General purpose",
    "gpuNum": 0,
    "hideHardwareSpecs": false,
    "memoryGiB": 256,
    "name": "ml.m5d.16xlarge",
    "vcpuNum": 64
   },
   {
    "_defaultOrder": 19,
    "_isFastLaunch": false,
    "category": "General purpose",
    "gpuNum": 0,
    "hideHardwareSpecs": false,
    "memoryGiB": 384,
    "name": "ml.m5d.24xlarge",
    "vcpuNum": 96
   },
   {
    "_defaultOrder": 20,
    "_isFastLaunch": false,
    "category": "General purpose",
    "gpuNum": 0,
    "hideHardwareSpecs": true,
    "memoryGiB": 0,
    "name": "ml.geospatial.interactive",
    "supportedImageNames": [
     "sagemaker-geospatial-v1-0"
    ],
    "vcpuNum": 0
   },
   {
    "_defaultOrder": 21,
    "_isFastLaunch": true,
    "category": "Compute optimized",
    "gpuNum": 0,
    "hideHardwareSpecs": false,
    "memoryGiB": 4,
    "name": "ml.c5.large",
    "vcpuNum": 2
   },
   {
    "_defaultOrder": 22,
    "_isFastLaunch": false,
    "category": "Compute optimized",
    "gpuNum": 0,
    "hideHardwareSpecs": false,
    "memoryGiB": 8,
    "name": "ml.c5.xlarge",
    "vcpuNum": 4
   },
   {
    "_defaultOrder": 23,
    "_isFastLaunch": false,
    "category": "Compute optimized",
    "gpuNum": 0,
    "hideHardwareSpecs": false,
    "memoryGiB": 16,
    "name": "ml.c5.2xlarge",
    "vcpuNum": 8
   },
   {
    "_defaultOrder": 24,
    "_isFastLaunch": false,
    "category": "Compute optimized",
    "gpuNum": 0,
    "hideHardwareSpecs": false,
    "memoryGiB": 32,
    "name": "ml.c5.4xlarge",
    "vcpuNum": 16
   },
   {
    "_defaultOrder": 25,
    "_isFastLaunch": false,
    "category": "Compute optimized",
    "gpuNum": 0,
    "hideHardwareSpecs": false,
    "memoryGiB": 72,
    "name": "ml.c5.9xlarge",
    "vcpuNum": 36
   },
   {
    "_defaultOrder": 26,
    "_isFastLaunch": false,
    "category": "Compute optimized",
    "gpuNum": 0,
    "hideHardwareSpecs": false,
    "memoryGiB": 96,
    "name": "ml.c5.12xlarge",
    "vcpuNum": 48
   },
   {
    "_defaultOrder": 27,
    "_isFastLaunch": false,
    "category": "Compute optimized",
    "gpuNum": 0,
    "hideHardwareSpecs": false,
    "memoryGiB": 144,
    "name": "ml.c5.18xlarge",
    "vcpuNum": 72
   },
   {
    "_defaultOrder": 28,
    "_isFastLaunch": false,
    "category": "Compute optimized",
    "gpuNum": 0,
    "hideHardwareSpecs": false,
    "memoryGiB": 192,
    "name": "ml.c5.24xlarge",
    "vcpuNum": 96
   },
   {
    "_defaultOrder": 29,
    "_isFastLaunch": true,
    "category": "Accelerated computing",
    "gpuNum": 1,
    "hideHardwareSpecs": false,
    "memoryGiB": 16,
    "name": "ml.g4dn.xlarge",
    "vcpuNum": 4
   },
   {
    "_defaultOrder": 30,
    "_isFastLaunch": false,
    "category": "Accelerated computing",
    "gpuNum": 1,
    "hideHardwareSpecs": false,
    "memoryGiB": 32,
    "name": "ml.g4dn.2xlarge",
    "vcpuNum": 8
   },
   {
    "_defaultOrder": 31,
    "_isFastLaunch": false,
    "category": "Accelerated computing",
    "gpuNum": 1,
    "hideHardwareSpecs": false,
    "memoryGiB": 64,
    "name": "ml.g4dn.4xlarge",
    "vcpuNum": 16
   },
   {
    "_defaultOrder": 32,
    "_isFastLaunch": false,
    "category": "Accelerated computing",
    "gpuNum": 1,
    "hideHardwareSpecs": false,
    "memoryGiB": 128,
    "name": "ml.g4dn.8xlarge",
    "vcpuNum": 32
   },
   {
    "_defaultOrder": 33,
    "_isFastLaunch": false,
    "category": "Accelerated computing",
    "gpuNum": 4,
    "hideHardwareSpecs": false,
    "memoryGiB": 192,
    "name": "ml.g4dn.12xlarge",
    "vcpuNum": 48
   },
   {
    "_defaultOrder": 34,
    "_isFastLaunch": false,
    "category": "Accelerated computing",
    "gpuNum": 1,
    "hideHardwareSpecs": false,
    "memoryGiB": 256,
    "name": "ml.g4dn.16xlarge",
    "vcpuNum": 64
   },
   {
    "_defaultOrder": 35,
    "_isFastLaunch": false,
    "category": "Accelerated computing",
    "gpuNum": 1,
    "hideHardwareSpecs": false,
    "memoryGiB": 61,
    "name": "ml.p3.2xlarge",
    "vcpuNum": 8
   },
   {
    "_defaultOrder": 36,
    "_isFastLaunch": false,
    "category": "Accelerated computing",
    "gpuNum": 4,
    "hideHardwareSpecs": false,
    "memoryGiB": 244,
    "name": "ml.p3.8xlarge",
    "vcpuNum": 32
   },
   {
    "_defaultOrder": 37,
    "_isFastLaunch": false,
    "category": "Accelerated computing",
    "gpuNum": 8,
    "hideHardwareSpecs": false,
    "memoryGiB": 488,
    "name": "ml.p3.16xlarge",
    "vcpuNum": 64
   },
   {
    "_defaultOrder": 38,
    "_isFastLaunch": false,
    "category": "Accelerated computing",
    "gpuNum": 8,
    "hideHardwareSpecs": false,
    "memoryGiB": 768,
    "name": "ml.p3dn.24xlarge",
    "vcpuNum": 96
   },
   {
    "_defaultOrder": 39,
    "_isFastLaunch": false,
    "category": "Memory Optimized",
    "gpuNum": 0,
    "hideHardwareSpecs": false,
    "memoryGiB": 16,
    "name": "ml.r5.large",
    "vcpuNum": 2
   },
   {
    "_defaultOrder": 40,
    "_isFastLaunch": false,
    "category": "Memory Optimized",
    "gpuNum": 0,
    "hideHardwareSpecs": false,
    "memoryGiB": 32,
    "name": "ml.r5.xlarge",
    "vcpuNum": 4
   },
   {
    "_defaultOrder": 41,
    "_isFastLaunch": false,
    "category": "Memory Optimized",
    "gpuNum": 0,
    "hideHardwareSpecs": false,
    "memoryGiB": 64,
    "name": "ml.r5.2xlarge",
    "vcpuNum": 8
   },
   {
    "_defaultOrder": 42,
    "_isFastLaunch": false,
    "category": "Memory Optimized",
    "gpuNum": 0,
    "hideHardwareSpecs": false,
    "memoryGiB": 128,
    "name": "ml.r5.4xlarge",
    "vcpuNum": 16
   },
   {
    "_defaultOrder": 43,
    "_isFastLaunch": false,
    "category": "Memory Optimized",
    "gpuNum": 0,
    "hideHardwareSpecs": false,
    "memoryGiB": 256,
    "name": "ml.r5.8xlarge",
    "vcpuNum": 32
   },
   {
    "_defaultOrder": 44,
    "_isFastLaunch": false,
    "category": "Memory Optimized",
    "gpuNum": 0,
    "hideHardwareSpecs": false,
    "memoryGiB": 384,
    "name": "ml.r5.12xlarge",
    "vcpuNum": 48
   },
   {
    "_defaultOrder": 45,
    "_isFastLaunch": false,
    "category": "Memory Optimized",
    "gpuNum": 0,
    "hideHardwareSpecs": false,
    "memoryGiB": 512,
    "name": "ml.r5.16xlarge",
    "vcpuNum": 64
   },
   {
    "_defaultOrder": 46,
    "_isFastLaunch": false,
    "category": "Memory Optimized",
    "gpuNum": 0,
    "hideHardwareSpecs": false,
    "memoryGiB": 768,
    "name": "ml.r5.24xlarge",
    "vcpuNum": 96
   },
   {
    "_defaultOrder": 47,
    "_isFastLaunch": false,
    "category": "Accelerated computing",
    "gpuNum": 1,
    "hideHardwareSpecs": false,
    "memoryGiB": 16,
    "name": "ml.g5.xlarge",
    "vcpuNum": 4
   },
   {
    "_defaultOrder": 48,
    "_isFastLaunch": false,
    "category": "Accelerated computing",
    "gpuNum": 1,
    "hideHardwareSpecs": false,
    "memoryGiB": 32,
    "name": "ml.g5.2xlarge",
    "vcpuNum": 8
   },
   {
    "_defaultOrder": 49,
    "_isFastLaunch": false,
    "category": "Accelerated computing",
    "gpuNum": 1,
    "hideHardwareSpecs": false,
    "memoryGiB": 64,
    "name": "ml.g5.4xlarge",
    "vcpuNum": 16
   },
   {
    "_defaultOrder": 50,
    "_isFastLaunch": false,
    "category": "Accelerated computing",
    "gpuNum": 1,
    "hideHardwareSpecs": false,
    "memoryGiB": 128,
    "name": "ml.g5.8xlarge",
    "vcpuNum": 32
   },
   {
    "_defaultOrder": 51,
    "_isFastLaunch": false,
    "category": "Accelerated computing",
    "gpuNum": 1,
    "hideHardwareSpecs": false,
    "memoryGiB": 256,
    "name": "ml.g5.16xlarge",
    "vcpuNum": 64
   },
   {
    "_defaultOrder": 52,
    "_isFastLaunch": false,
    "category": "Accelerated computing",
    "gpuNum": 4,
    "hideHardwareSpecs": false,
    "memoryGiB": 192,
    "name": "ml.g5.12xlarge",
    "vcpuNum": 48
   },
   {
    "_defaultOrder": 53,
    "_isFastLaunch": false,
    "category": "Accelerated computing",
    "gpuNum": 4,
    "hideHardwareSpecs": false,
    "memoryGiB": 384,
    "name": "ml.g5.24xlarge",
    "vcpuNum": 96
   },
   {
    "_defaultOrder": 54,
    "_isFastLaunch": false,
    "category": "Accelerated computing",
    "gpuNum": 8,
    "hideHardwareSpecs": false,
    "memoryGiB": 768,
    "name": "ml.g5.48xlarge",
    "vcpuNum": 192
   }
  ],
  "instance_type": "ml.t3.medium",
  "kernelspec": {
   "display_name": "Python 3 (Data Science)",
   "language": "python",
   "name": "python3__SAGEMAKER_INTERNAL__arn:aws:sagemaker:us-east-1:081325390199:image/datascience-1.0"
  },
  "language_info": {
   "codemirror_mode": {
    "name": "ipython",
    "version": 3
   },
   "file_extension": ".py",
   "mimetype": "text/x-python",
   "name": "python",
   "nbconvert_exporter": "python",
   "pygments_lexer": "ipython3",
   "version": "3.7.10"
  }
 },
 "nbformat": 4,
 "nbformat_minor": 5
}

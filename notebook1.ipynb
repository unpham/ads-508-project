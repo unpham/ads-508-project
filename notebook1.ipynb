{
 "cells": [
  {
   "cell_type": "markdown",
   "id": "fa7689e3-4829-46d3-8ad8-e0b6ce101851",
   "metadata": {},
   "source": [
    "# Stephen's branch test"
   ]
  },
  {
   "cell_type": "code",
   "execution_count": 13,
   "id": "e837a898-b6a6-4553-91f2-a97f8347d354",
   "metadata": {
    "tags": []
   },
   "outputs": [
    {
     "name": "stderr",
     "output_type": "stream",
     "text": [
      "/opt/conda/lib/python3.7/site-packages/IPython/core/interactiveshell.py:3553: DtypeWarning: Columns (0,8) have mixed types.Specify dtype option on import or set low_memory=False.\n",
      "  exec(code_obj, self.user_global_ns, self.user_ns)\n"
     ]
    },
    {
     "data": {
      "text/plain": [
       "(753548, 18)"
      ]
     },
     "execution_count": 13,
     "metadata": {},
     "output_type": "execute_result"
    }
   ],
   "source": [
    "#import csv\n",
    "import pandas as pd\n",
    "\n",
    "df = pd.read_csv(\"s3://508-team4/data/la_compensation.csv\")\n",
    "df.shape"
   ]
  },
  {
   "cell_type": "code",
   "execution_count": 17,
   "id": "1c7ae624-2395-4cf5-a86e-18dea4bffe7a",
   "metadata": {
    "tags": []
   },
   "outputs": [
    {
     "data": {
      "text/html": [
       "<div>\n",
       "<style scoped>\n",
       "    .dataframe tbody tr th:only-of-type {\n",
       "        vertical-align: middle;\n",
       "    }\n",
       "\n",
       "    .dataframe tbody tr th {\n",
       "        vertical-align: top;\n",
       "    }\n",
       "\n",
       "    .dataframe thead th {\n",
       "        text-align: right;\n",
       "    }\n",
       "</style>\n",
       "<table border=\"1\" class=\"dataframe\">\n",
       "  <thead>\n",
       "    <tr style=\"text-align: right;\">\n",
       "      <th></th>\n",
       "      <th>record_nbr</th>\n",
       "      <th>pay_year</th>\n",
       "      <th>department_no</th>\n",
       "      <th>department_title</th>\n",
       "      <th>job_class_pgrade</th>\n",
       "      <th>job_title</th>\n",
       "      <th>employment_type</th>\n",
       "      <th>job_status</th>\n",
       "      <th>mou</th>\n",
       "      <th>mou_title</th>\n",
       "      <th>regular_pay</th>\n",
       "      <th>overtime_pay</th>\n",
       "      <th>all_other_pay</th>\n",
       "      <th>total_pay</th>\n",
       "      <th>city_retirement_contributions</th>\n",
       "      <th>benefit_pay</th>\n",
       "      <th>gender</th>\n",
       "      <th>ethnicity</th>\n",
       "    </tr>\n",
       "  </thead>\n",
       "  <tbody>\n",
       "    <tr>\n",
       "      <th>0</th>\n",
       "      <td>303030303632</td>\n",
       "      <td>2017</td>\n",
       "      <td>98</td>\n",
       "      <td>WATER AND POWER</td>\n",
       "      <td>3156-5</td>\n",
       "      <td>CUSTODIAN</td>\n",
       "      <td>FULL_TIME</td>\n",
       "      <td>ACTIVE</td>\n",
       "      <td>8</td>\n",
       "      <td>OPERATING MAINTENANCE AND SERVICE UNIT</td>\n",
       "      <td>55725.24</td>\n",
       "      <td>4785.05</td>\n",
       "      <td>2021.84</td>\n",
       "      <td>62532.13</td>\n",
       "      <td>3678.00</td>\n",
       "      <td>23508.90</td>\n",
       "      <td>FEMALE</td>\n",
       "      <td>HISPANIC</td>\n",
       "    </tr>\n",
       "    <tr>\n",
       "      <th>1</th>\n",
       "      <td>3030303036</td>\n",
       "      <td>2017</td>\n",
       "      <td>98</td>\n",
       "      <td>WATER AND POWER</td>\n",
       "      <td>9105-5</td>\n",
       "      <td>UTILITY ADMINISTRATOR</td>\n",
       "      <td>FULL_TIME</td>\n",
       "      <td>ACTIVE</td>\n",
       "      <td>M</td>\n",
       "      <td>MANAGEMENT EMPLOYEES UNIT</td>\n",
       "      <td>139174.88</td>\n",
       "      <td>16340.50</td>\n",
       "      <td>6170.49</td>\n",
       "      <td>161685.87</td>\n",
       "      <td>9186.00</td>\n",
       "      <td>23508.90</td>\n",
       "      <td>FEMALE</td>\n",
       "      <td>ASIAN AMERICAN</td>\n",
       "    </tr>\n",
       "    <tr>\n",
       "      <th>2</th>\n",
       "      <td>303030313232</td>\n",
       "      <td>2017</td>\n",
       "      <td>98</td>\n",
       "      <td>WATER AND POWER</td>\n",
       "      <td>9602-4</td>\n",
       "      <td>WATER SERVICES MANAGER</td>\n",
       "      <td>FULL_TIME</td>\n",
       "      <td>ACTIVE</td>\n",
       "      <td>M</td>\n",
       "      <td>MANAGEMENT EMPLOYEES UNIT</td>\n",
       "      <td>245879.12</td>\n",
       "      <td>0.00</td>\n",
       "      <td>12504.30</td>\n",
       "      <td>258383.42</td>\n",
       "      <td>16228.00</td>\n",
       "      <td>23508.90</td>\n",
       "      <td>MALE</td>\n",
       "      <td>BLACK</td>\n",
       "    </tr>\n",
       "    <tr>\n",
       "      <th>3</th>\n",
       "      <td>303030313632</td>\n",
       "      <td>2017</td>\n",
       "      <td>98</td>\n",
       "      <td>WATER AND POWER</td>\n",
       "      <td>5885-5</td>\n",
       "      <td>WTR TRTMT OPR</td>\n",
       "      <td>FULL_TIME</td>\n",
       "      <td>ACTIVE</td>\n",
       "      <td>6</td>\n",
       "      <td>STEAM PLANT AND WATER SUPPLY UNIT</td>\n",
       "      <td>101494.34</td>\n",
       "      <td>7824.99</td>\n",
       "      <td>12630.52</td>\n",
       "      <td>121949.85</td>\n",
       "      <td>6699.00</td>\n",
       "      <td>23508.90</td>\n",
       "      <td>MALE</td>\n",
       "      <td>ASIAN AMERICAN</td>\n",
       "    </tr>\n",
       "    <tr>\n",
       "      <th>4</th>\n",
       "      <td>303030323632</td>\n",
       "      <td>2017</td>\n",
       "      <td>98</td>\n",
       "      <td>WATER AND POWER</td>\n",
       "      <td>3841-5</td>\n",
       "      <td>ELTL MCHC</td>\n",
       "      <td>FULL_TIME</td>\n",
       "      <td>ACTIVE</td>\n",
       "      <td>8</td>\n",
       "      <td>OPERATING MAINTENANCE AND SERVICE UNIT</td>\n",
       "      <td>101345.12</td>\n",
       "      <td>22284.37</td>\n",
       "      <td>1566.75</td>\n",
       "      <td>125196.24</td>\n",
       "      <td>6689.00</td>\n",
       "      <td>23508.90</td>\n",
       "      <td>MALE</td>\n",
       "      <td>HISPANIC</td>\n",
       "    </tr>\n",
       "    <tr>\n",
       "      <th>...</th>\n",
       "      <td>...</td>\n",
       "      <td>...</td>\n",
       "      <td>...</td>\n",
       "      <td>...</td>\n",
       "      <td>...</td>\n",
       "      <td>...</td>\n",
       "      <td>...</td>\n",
       "      <td>...</td>\n",
       "      <td>...</td>\n",
       "      <td>...</td>\n",
       "      <td>...</td>\n",
       "      <td>...</td>\n",
       "      <td>...</td>\n",
       "      <td>...</td>\n",
       "      <td>...</td>\n",
       "      <td>...</td>\n",
       "      <td>...</td>\n",
       "      <td>...</td>\n",
       "    </tr>\n",
       "    <tr>\n",
       "      <th>753543</th>\n",
       "      <td>393939353733</td>\n",
       "      <td>2023</td>\n",
       "      <td>70</td>\n",
       "      <td>POLICE</td>\n",
       "      <td>2214-2</td>\n",
       "      <td>POLICE OFFICER II</td>\n",
       "      <td>FULL_TIME</td>\n",
       "      <td>ACTIVE</td>\n",
       "      <td>24</td>\n",
       "      <td>POLICE OFFICERS, LIEUTENANT AND BELOW</td>\n",
       "      <td>21566.40</td>\n",
       "      <td>1539.57</td>\n",
       "      <td>1490.00</td>\n",
       "      <td>24595.97</td>\n",
       "      <td>10103.86</td>\n",
       "      <td>3667.70</td>\n",
       "      <td>MALE</td>\n",
       "      <td>ASIAN</td>\n",
       "    </tr>\n",
       "    <tr>\n",
       "      <th>753544</th>\n",
       "      <td>393939353933</td>\n",
       "      <td>2023</td>\n",
       "      <td>70</td>\n",
       "      <td>POLICE</td>\n",
       "      <td>3711-5</td>\n",
       "      <td>EQUIPMENT MECHANIC</td>\n",
       "      <td>FULL_TIME</td>\n",
       "      <td>ACTIVE</td>\n",
       "      <td>14</td>\n",
       "      <td>SERVICE AND CRAFT</td>\n",
       "      <td>11035.11</td>\n",
       "      <td>1164.06</td>\n",
       "      <td>405.00</td>\n",
       "      <td>12604.17</td>\n",
       "      <td>3273.01</td>\n",
       "      <td>2156.10</td>\n",
       "      <td>MALE</td>\n",
       "      <td>HISPANIC</td>\n",
       "    </tr>\n",
       "    <tr>\n",
       "      <th>753545</th>\n",
       "      <td>3939393739</td>\n",
       "      <td>2023</td>\n",
       "      <td>88</td>\n",
       "      <td>RECREATION AND PARKS</td>\n",
       "      <td>2415-0</td>\n",
       "      <td>SPECIAL PROGRAM ASSISTANT II</td>\n",
       "      <td>PART_TIME</td>\n",
       "      <td>ACTIVE</td>\n",
       "      <td>04</td>\n",
       "      <td>EQUIPMENT OPERATION AND LABOR</td>\n",
       "      <td>3650.80</td>\n",
       "      <td>0.00</td>\n",
       "      <td>152.50</td>\n",
       "      <td>3803.30</td>\n",
       "      <td>0.00</td>\n",
       "      <td>1844.05</td>\n",
       "      <td>FEMALE</td>\n",
       "      <td>HISPANIC</td>\n",
       "    </tr>\n",
       "    <tr>\n",
       "      <th>753546</th>\n",
       "      <td>393939383033</td>\n",
       "      <td>2023</td>\n",
       "      <td>46</td>\n",
       "      <td>MAYOR</td>\n",
       "      <td>0145-0</td>\n",
       "      <td>MAYORAL AIDE V</td>\n",
       "      <td>FULL_TIME</td>\n",
       "      <td>ACTIVE</td>\n",
       "      <td>00</td>\n",
       "      <td>NON-REPRESENTED</td>\n",
       "      <td>18396.62</td>\n",
       "      <td>0.00</td>\n",
       "      <td>0.00</td>\n",
       "      <td>18396.62</td>\n",
       "      <td>5456.44</td>\n",
       "      <td>1889.15</td>\n",
       "      <td>FEMALE</td>\n",
       "      <td>HISPANIC</td>\n",
       "    </tr>\n",
       "    <tr>\n",
       "      <th>753547</th>\n",
       "      <td>393939393133</td>\n",
       "      <td>2023</td>\n",
       "      <td>70</td>\n",
       "      <td>POLICE</td>\n",
       "      <td>2223-1</td>\n",
       "      <td>POLICE DETECTIVE I</td>\n",
       "      <td>FULL_TIME</td>\n",
       "      <td>ACTIVE</td>\n",
       "      <td>24</td>\n",
       "      <td>POLICE OFFICERS, LIEUTENANT AND BELOW</td>\n",
       "      <td>21725.27</td>\n",
       "      <td>0.00</td>\n",
       "      <td>1160.00</td>\n",
       "      <td>22885.27</td>\n",
       "      <td>10178.29</td>\n",
       "      <td>3555.64</td>\n",
       "      <td>FEMALE</td>\n",
       "      <td>HISPANIC</td>\n",
       "    </tr>\n",
       "  </tbody>\n",
       "</table>\n",
       "<p>753548 rows × 18 columns</p>\n",
       "</div>"
      ],
      "text/plain": [
       "          record_nbr  pay_year  department_no      department_title  \\\n",
       "0       303030303632      2017             98       WATER AND POWER   \n",
       "1         3030303036      2017             98       WATER AND POWER   \n",
       "2       303030313232      2017             98       WATER AND POWER   \n",
       "3       303030313632      2017             98       WATER AND POWER   \n",
       "4       303030323632      2017             98       WATER AND POWER   \n",
       "...              ...       ...            ...                   ...   \n",
       "753543  393939353733      2023             70                POLICE   \n",
       "753544  393939353933      2023             70                POLICE   \n",
       "753545    3939393739      2023             88  RECREATION AND PARKS   \n",
       "753546  393939383033      2023             46                 MAYOR   \n",
       "753547  393939393133      2023             70                POLICE   \n",
       "\n",
       "       job_class_pgrade                     job_title employment_type  \\\n",
       "0                3156-5                     CUSTODIAN       FULL_TIME   \n",
       "1                9105-5         UTILITY ADMINISTRATOR       FULL_TIME   \n",
       "2                9602-4        WATER SERVICES MANAGER       FULL_TIME   \n",
       "3                5885-5                 WTR TRTMT OPR       FULL_TIME   \n",
       "4                3841-5                     ELTL MCHC       FULL_TIME   \n",
       "...                 ...                           ...             ...   \n",
       "753543           2214-2             POLICE OFFICER II       FULL_TIME   \n",
       "753544           3711-5            EQUIPMENT MECHANIC       FULL_TIME   \n",
       "753545           2415-0  SPECIAL PROGRAM ASSISTANT II       PART_TIME   \n",
       "753546           0145-0                MAYORAL AIDE V       FULL_TIME   \n",
       "753547           2223-1            POLICE DETECTIVE I       FULL_TIME   \n",
       "\n",
       "       job_status mou                               mou_title  regular_pay  \\\n",
       "0          ACTIVE   8  OPERATING MAINTENANCE AND SERVICE UNIT     55725.24   \n",
       "1          ACTIVE   M               MANAGEMENT EMPLOYEES UNIT    139174.88   \n",
       "2          ACTIVE   M               MANAGEMENT EMPLOYEES UNIT    245879.12   \n",
       "3          ACTIVE   6       STEAM PLANT AND WATER SUPPLY UNIT    101494.34   \n",
       "4          ACTIVE   8  OPERATING MAINTENANCE AND SERVICE UNIT    101345.12   \n",
       "...           ...  ..                                     ...          ...   \n",
       "753543     ACTIVE  24   POLICE OFFICERS, LIEUTENANT AND BELOW     21566.40   \n",
       "753544     ACTIVE  14                       SERVICE AND CRAFT     11035.11   \n",
       "753545     ACTIVE  04           EQUIPMENT OPERATION AND LABOR      3650.80   \n",
       "753546     ACTIVE  00                         NON-REPRESENTED     18396.62   \n",
       "753547     ACTIVE  24   POLICE OFFICERS, LIEUTENANT AND BELOW     21725.27   \n",
       "\n",
       "        overtime_pay  all_other_pay  total_pay  city_retirement_contributions  \\\n",
       "0            4785.05        2021.84   62532.13                        3678.00   \n",
       "1           16340.50        6170.49  161685.87                        9186.00   \n",
       "2               0.00       12504.30  258383.42                       16228.00   \n",
       "3            7824.99       12630.52  121949.85                        6699.00   \n",
       "4           22284.37        1566.75  125196.24                        6689.00   \n",
       "...              ...            ...        ...                            ...   \n",
       "753543       1539.57        1490.00   24595.97                       10103.86   \n",
       "753544       1164.06         405.00   12604.17                        3273.01   \n",
       "753545          0.00         152.50    3803.30                           0.00   \n",
       "753546          0.00           0.00   18396.62                        5456.44   \n",
       "753547          0.00        1160.00   22885.27                       10178.29   \n",
       "\n",
       "        benefit_pay  gender       ethnicity  \n",
       "0          23508.90  FEMALE        HISPANIC  \n",
       "1          23508.90  FEMALE  ASIAN AMERICAN  \n",
       "2          23508.90    MALE           BLACK  \n",
       "3          23508.90    MALE  ASIAN AMERICAN  \n",
       "4          23508.90    MALE        HISPANIC  \n",
       "...             ...     ...             ...  \n",
       "753543      3667.70    MALE           ASIAN  \n",
       "753544      2156.10    MALE        HISPANIC  \n",
       "753545      1844.05  FEMALE        HISPANIC  \n",
       "753546      1889.15  FEMALE        HISPANIC  \n",
       "753547      3555.64  FEMALE        HISPANIC  \n",
       "\n",
       "[753548 rows x 18 columns]"
      ]
     },
     "execution_count": 17,
     "metadata": {},
     "output_type": "execute_result"
    }
   ],
   "source": [
    "df"
   ]
  },
  {
   "cell_type": "code",
   "execution_count": 20,
   "id": "cf82eae3-214f-47a3-8bcf-6986f4333604",
   "metadata": {
    "tags": []
   },
   "outputs": [
    {
     "name": "stdout",
     "output_type": "stream",
     "text": [
      "2023-03-17 04:58:12          0 \n",
      "2023-03-19 18:54:11  127987645 la_compensation.csv\n",
      "2023-03-19 18:54:11  186188464 sf_compensation.csv\n",
      "2023-03-19 18:54:13     802519 sj_compensation_2013.csv\n",
      "2023-03-19 18:54:16     905397 sj_compensation_2014.csv\n",
      "2023-03-19 18:54:18     964227 sj_compensation_2015.csv\n",
      "2023-03-19 18:54:19     965656 sj_compensation_2016.csv\n",
      "2023-03-19 18:54:21    1055695 sj_compensation_2017.csv\n",
      "2023-03-19 18:54:22    1008253 sj_compensation_2018.csv\n",
      "2023-03-19 18:54:23    1054198 sj_compensation_2019.csv\n",
      "2023-03-19 18:54:24    1026127 sj_compensation_2020.csv\n",
      "2023-03-19 18:54:26    1033928 sj_compensation_2021.csv\n"
     ]
    }
   ],
   "source": [
    "!aws s3 ls s3://508-team4/data/"
   ]
  },
  {
   "cell_type": "code",
   "execution_count": 23,
   "id": "84622d41-c4d9-4cb2-bf53-57f963386141",
   "metadata": {
    "tags": []
   },
   "outputs": [],
   "source": [
    "la_full_df = pd.read_csv(\"s3://508-team4/data/la_compensation.csv\")\n",
    "sf_full_df = pd.read_csv(\"s3://508-team4/data/sf_compensation.csv\")\n",
    "\n",
    "sj_2013_df = pd.read_csv(\"s3://508-team4/data/sj_compensation_2013.csv\")\n",
    "sj_2014_df = pd.read_csv(\"s3://508-team4/data/sj_compensation_2014.csv\")\n",
    "sj_2015_df = pd.read_csv(\"s3://508-team4/data/sj_compensation_2015.csv\")\n",
    "sj_2016_df = pd.read_csv(\"s3://508-team4/data/sj_compensation_2016.csv\")\n",
    "sj_2017_df = pd.read_csv(\"s3://508-team4/data/sj_compensation_2017.csv\")\n",
    "#sj_2018_df = pd.read_csv(\"s3://508-team4/data/sj_compensation_2018.csv\")\n",
    "#sj_2019_df = pd.read_csv(\"s3://508-team4/data/sj_compensation_2019.csv\")\n",
    "#sj_2020_df = pd.read_csv(\"s3://508-team4/data/sj_compensation_2020.csv\")\n",
    "#sj_2021_df = pd.read_csv(\"s3://508-team4/data/sj_compensation_2021.csv\")"
   ]
  },
  {
   "cell_type": "code",
   "execution_count": 26,
   "id": "c7e59de6-5f6c-4f6e-b4ee-edc567646c97",
   "metadata": {
    "tags": []
   },
   "outputs": [],
   "source": [
    "#https://stackoverflow.com/questions/22216076/unicodedecodeerror-utf8-codec-cant-decode-byte-0xa5-in-position-0-invalid-s\n",
    "sj_2018_df = pd.read_csv(\"s3://508-team4/data/sj_compensation_2018.csv\", encoding='unicode_escape')\n",
    "sj_2019_df = pd.read_csv(\"s3://508-team4/data/sj_compensation_2019.csv\", encoding='unicode_escape')\n",
    "sj_2020_df = pd.read_csv(\"s3://508-team4/data/sj_compensation_2020.csv\", encoding='unicode_escape')\n",
    "sj_2021_df = pd.read_csv(\"s3://508-team4/data/sj_compensation_2021.csv\", encoding='unicode_escape')"
   ]
  },
  {
   "cell_type": "code",
   "execution_count": null,
   "id": "9a6c1901-2d83-4a29-9ce4-a567b6beecb2",
   "metadata": {
    "tags": []
   },
   "outputs": [],
   "source": []
  },
  {
   "cell_type": "code",
   "execution_count": null,
   "id": "1b898cfe-0da2-474d-9af0-0d85be42cbad",
   "metadata": {},
   "outputs": [],
   "source": []
  },
  {
   "cell_type": "code",
   "execution_count": null,
   "id": "2d2a8405-0d99-40b9-8918-b046a5800a3a",
   "metadata": {},
   "outputs": [],
   "source": []
  },
  {
   "cell_type": "markdown",
   "id": "f58222a0-24ea-48ab-ab10-52b209a1d908",
   "metadata": {},
   "source": [
    "Release Resources"
   ]
  },
  {
   "cell_type": "code",
   "execution_count": 34,
   "id": "b5e58f54-8b8d-430a-9718-35098809338c",
   "metadata": {
    "tags": []
   },
   "outputs": [
    {
     "data": {
      "text/html": [
       "\n",
       "<p><b>Shutting down your kernel for this notebook to release resources.</b></p>\n",
       "<button class=\"sm-command-button\" data-commandlinker-command=\"kernelmenu:shutdown\" style=\"display:none;\">Shutdown Kernel</button>\n",
       "        \n",
       "<script>\n",
       "try {\n",
       "    els = document.getElementsByClassName(\"sm-command-button\");\n",
       "    els[0].click();\n",
       "}\n",
       "catch(err) {\n",
       "    // NoOp\n",
       "}    \n",
       "</script>\n"
      ],
      "text/plain": [
       "<IPython.core.display.HTML object>"
      ]
     },
     "metadata": {},
     "output_type": "display_data"
    }
   ],
   "source": [
    "%%html\n",
    "\n",
    "<p><b>Shutting down your kernel for this notebook to release resources.</b></p>\n",
    "<button class=\"sm-command-button\" data-commandlinker-command=\"kernelmenu:shutdown\" style=\"display:none;\">Shutdown Kernel</button>\n",
    "        \n",
    "<script>\n",
    "try {\n",
    "    els = document.getElementsByClassName(\"sm-command-button\");\n",
    "    els[0].click();\n",
    "}\n",
    "catch(err) {\n",
    "    // NoOp\n",
    "}    \n",
    "</script>"
   ]
  },
  {
   "cell_type": "markdown",
   "id": "8214cdf5-20bc-47df-bfcb-bc115ecb1495",
   "metadata": {},
   "source": [
    "#### Shutting down your kernel for this notebook to release resources."
   ]
  },
  {
   "cell_type": "code",
   "execution_count": null,
   "id": "61b2d376-2e52-4d82-9ae1-935fca3e15b5",
   "metadata": {},
   "outputs": [],
   "source": [
    "%%javascript\n",
    "\n",
    "try {\n",
    "    Jupyter.notebook.save_checkpoint();\n",
    "    Jupyter.notebook.session.delete();\n",
    "}\n",
    "catch(err) {\n",
    "    // NoOp\n",
    "}"
   ]
  },
  {
   "cell_type": "code",
   "execution_count": null,
   "id": "d4231ddd-9936-4f8a-9c05-cb9d131ec000",
   "metadata": {},
   "outputs": [],
   "source": []
  },
  {
   "cell_type": "code",
   "execution_count": null,
   "id": "555dc87c-b379-4246-86df-b68fa950a1c6",
   "metadata": {},
   "outputs": [],
   "source": []
  }
 ],
 "metadata": {
  "availableInstances": [
   {
    "_defaultOrder": 0,
    "_isFastLaunch": true,
    "category": "General purpose",
    "gpuNum": 0,
    "memoryGiB": 4,
    "name": "ml.t3.medium",
    "vcpuNum": 2
   },
   {
    "_defaultOrder": 1,
    "_isFastLaunch": false,
    "category": "General purpose",
    "gpuNum": 0,
    "memoryGiB": 8,
    "name": "ml.t3.large",
    "vcpuNum": 2
   },
   {
    "_defaultOrder": 2,
    "_isFastLaunch": false,
    "category": "General purpose",
    "gpuNum": 0,
    "memoryGiB": 16,
    "name": "ml.t3.xlarge",
    "vcpuNum": 4
   },
   {
    "_defaultOrder": 3,
    "_isFastLaunch": false,
    "category": "General purpose",
    "gpuNum": 0,
    "memoryGiB": 32,
    "name": "ml.t3.2xlarge",
    "vcpuNum": 8
   },
   {
    "_defaultOrder": 4,
    "_isFastLaunch": true,
    "category": "General purpose",
    "gpuNum": 0,
    "memoryGiB": 8,
    "name": "ml.m5.large",
    "vcpuNum": 2
   },
   {
    "_defaultOrder": 5,
    "_isFastLaunch": false,
    "category": "General purpose",
    "gpuNum": 0,
    "memoryGiB": 16,
    "name": "ml.m5.xlarge",
    "vcpuNum": 4
   },
   {
    "_defaultOrder": 6,
    "_isFastLaunch": false,
    "category": "General purpose",
    "gpuNum": 0,
    "memoryGiB": 32,
    "name": "ml.m5.2xlarge",
    "vcpuNum": 8
   },
   {
    "_defaultOrder": 7,
    "_isFastLaunch": false,
    "category": "General purpose",
    "gpuNum": 0,
    "memoryGiB": 64,
    "name": "ml.m5.4xlarge",
    "vcpuNum": 16
   },
   {
    "_defaultOrder": 8,
    "_isFastLaunch": false,
    "category": "General purpose",
    "gpuNum": 0,
    "memoryGiB": 128,
    "name": "ml.m5.8xlarge",
    "vcpuNum": 32
   },
   {
    "_defaultOrder": 9,
    "_isFastLaunch": false,
    "category": "General purpose",
    "gpuNum": 0,
    "memoryGiB": 192,
    "name": "ml.m5.12xlarge",
    "vcpuNum": 48
   },
   {
    "_defaultOrder": 10,
    "_isFastLaunch": false,
    "category": "General purpose",
    "gpuNum": 0,
    "memoryGiB": 256,
    "name": "ml.m5.16xlarge",
    "vcpuNum": 64
   },
   {
    "_defaultOrder": 11,
    "_isFastLaunch": false,
    "category": "General purpose",
    "gpuNum": 0,
    "memoryGiB": 384,
    "name": "ml.m5.24xlarge",
    "vcpuNum": 96
   },
   {
    "_defaultOrder": 12,
    "_isFastLaunch": false,
    "category": "General purpose",
    "gpuNum": 0,
    "memoryGiB": 8,
    "name": "ml.m5d.large",
    "vcpuNum": 2
   },
   {
    "_defaultOrder": 13,
    "_isFastLaunch": false,
    "category": "General purpose",
    "gpuNum": 0,
    "memoryGiB": 16,
    "name": "ml.m5d.xlarge",
    "vcpuNum": 4
   },
   {
    "_defaultOrder": 14,
    "_isFastLaunch": false,
    "category": "General purpose",
    "gpuNum": 0,
    "memoryGiB": 32,
    "name": "ml.m5d.2xlarge",
    "vcpuNum": 8
   },
   {
    "_defaultOrder": 15,
    "_isFastLaunch": false,
    "category": "General purpose",
    "gpuNum": 0,
    "memoryGiB": 64,
    "name": "ml.m5d.4xlarge",
    "vcpuNum": 16
   },
   {
    "_defaultOrder": 16,
    "_isFastLaunch": false,
    "category": "General purpose",
    "gpuNum": 0,
    "memoryGiB": 128,
    "name": "ml.m5d.8xlarge",
    "vcpuNum": 32
   },
   {
    "_defaultOrder": 17,
    "_isFastLaunch": false,
    "category": "General purpose",
    "gpuNum": 0,
    "memoryGiB": 192,
    "name": "ml.m5d.12xlarge",
    "vcpuNum": 48
   },
   {
    "_defaultOrder": 18,
    "_isFastLaunch": false,
    "category": "General purpose",
    "gpuNum": 0,
    "memoryGiB": 256,
    "name": "ml.m5d.16xlarge",
    "vcpuNum": 64
   },
   {
    "_defaultOrder": 19,
    "_isFastLaunch": false,
    "category": "General purpose",
    "gpuNum": 0,
    "memoryGiB": 384,
    "name": "ml.m5d.24xlarge",
    "vcpuNum": 96
   },
   {
    "_defaultOrder": 20,
    "_isFastLaunch": true,
    "category": "Compute optimized",
    "gpuNum": 0,
    "memoryGiB": 4,
    "name": "ml.c5.large",
    "vcpuNum": 2
   },
   {
    "_defaultOrder": 21,
    "_isFastLaunch": false,
    "category": "Compute optimized",
    "gpuNum": 0,
    "memoryGiB": 8,
    "name": "ml.c5.xlarge",
    "vcpuNum": 4
   },
   {
    "_defaultOrder": 22,
    "_isFastLaunch": false,
    "category": "Compute optimized",
    "gpuNum": 0,
    "memoryGiB": 16,
    "name": "ml.c5.2xlarge",
    "vcpuNum": 8
   },
   {
    "_defaultOrder": 23,
    "_isFastLaunch": false,
    "category": "Compute optimized",
    "gpuNum": 0,
    "memoryGiB": 32,
    "name": "ml.c5.4xlarge",
    "vcpuNum": 16
   },
   {
    "_defaultOrder": 24,
    "_isFastLaunch": false,
    "category": "Compute optimized",
    "gpuNum": 0,
    "memoryGiB": 72,
    "name": "ml.c5.9xlarge",
    "vcpuNum": 36
   },
   {
    "_defaultOrder": 25,
    "_isFastLaunch": false,
    "category": "Compute optimized",
    "gpuNum": 0,
    "memoryGiB": 96,
    "name": "ml.c5.12xlarge",
    "vcpuNum": 48
   },
   {
    "_defaultOrder": 26,
    "_isFastLaunch": false,
    "category": "Compute optimized",
    "gpuNum": 0,
    "memoryGiB": 144,
    "name": "ml.c5.18xlarge",
    "vcpuNum": 72
   },
   {
    "_defaultOrder": 27,
    "_isFastLaunch": false,
    "category": "Compute optimized",
    "gpuNum": 0,
    "memoryGiB": 192,
    "name": "ml.c5.24xlarge",
    "vcpuNum": 96
   },
   {
    "_defaultOrder": 28,
    "_isFastLaunch": true,
    "category": "Accelerated computing",
    "gpuNum": 1,
    "memoryGiB": 16,
    "name": "ml.g4dn.xlarge",
    "vcpuNum": 4
   },
   {
    "_defaultOrder": 29,
    "_isFastLaunch": false,
    "category": "Accelerated computing",
    "gpuNum": 1,
    "memoryGiB": 32,
    "name": "ml.g4dn.2xlarge",
    "vcpuNum": 8
   },
   {
    "_defaultOrder": 30,
    "_isFastLaunch": false,
    "category": "Accelerated computing",
    "gpuNum": 1,
    "memoryGiB": 64,
    "name": "ml.g4dn.4xlarge",
    "vcpuNum": 16
   },
   {
    "_defaultOrder": 31,
    "_isFastLaunch": false,
    "category": "Accelerated computing",
    "gpuNum": 1,
    "memoryGiB": 128,
    "name": "ml.g4dn.8xlarge",
    "vcpuNum": 32
   },
   {
    "_defaultOrder": 32,
    "_isFastLaunch": false,
    "category": "Accelerated computing",
    "gpuNum": 4,
    "memoryGiB": 192,
    "name": "ml.g4dn.12xlarge",
    "vcpuNum": 48
   },
   {
    "_defaultOrder": 33,
    "_isFastLaunch": false,
    "category": "Accelerated computing",
    "gpuNum": 1,
    "memoryGiB": 256,
    "name": "ml.g4dn.16xlarge",
    "vcpuNum": 64
   },
   {
    "_defaultOrder": 34,
    "_isFastLaunch": false,
    "category": "Accelerated computing",
    "gpuNum": 1,
    "memoryGiB": 61,
    "name": "ml.p3.2xlarge",
    "vcpuNum": 8
   },
   {
    "_defaultOrder": 35,
    "_isFastLaunch": false,
    "category": "Accelerated computing",
    "gpuNum": 4,
    "memoryGiB": 244,
    "name": "ml.p3.8xlarge",
    "vcpuNum": 32
   },
   {
    "_defaultOrder": 36,
    "_isFastLaunch": false,
    "category": "Accelerated computing",
    "gpuNum": 8,
    "memoryGiB": 488,
    "name": "ml.p3.16xlarge",
    "vcpuNum": 64
   },
   {
    "_defaultOrder": 37,
    "_isFastLaunch": false,
    "category": "Accelerated computing",
    "gpuNum": 8,
    "memoryGiB": 768,
    "name": "ml.p3dn.24xlarge",
    "vcpuNum": 96
   },
   {
    "_defaultOrder": 38,
    "_isFastLaunch": false,
    "category": "Memory Optimized",
    "gpuNum": 0,
    "memoryGiB": 16,
    "name": "ml.r5.large",
    "vcpuNum": 2
   },
   {
    "_defaultOrder": 39,
    "_isFastLaunch": false,
    "category": "Memory Optimized",
    "gpuNum": 0,
    "memoryGiB": 32,
    "name": "ml.r5.xlarge",
    "vcpuNum": 4
   },
   {
    "_defaultOrder": 40,
    "_isFastLaunch": false,
    "category": "Memory Optimized",
    "gpuNum": 0,
    "memoryGiB": 64,
    "name": "ml.r5.2xlarge",
    "vcpuNum": 8
   },
   {
    "_defaultOrder": 41,
    "_isFastLaunch": false,
    "category": "Memory Optimized",
    "gpuNum": 0,
    "memoryGiB": 128,
    "name": "ml.r5.4xlarge",
    "vcpuNum": 16
   },
   {
    "_defaultOrder": 42,
    "_isFastLaunch": false,
    "category": "Memory Optimized",
    "gpuNum": 0,
    "memoryGiB": 256,
    "name": "ml.r5.8xlarge",
    "vcpuNum": 32
   },
   {
    "_defaultOrder": 43,
    "_isFastLaunch": false,
    "category": "Memory Optimized",
    "gpuNum": 0,
    "memoryGiB": 384,
    "name": "ml.r5.12xlarge",
    "vcpuNum": 48
   },
   {
    "_defaultOrder": 44,
    "_isFastLaunch": false,
    "category": "Memory Optimized",
    "gpuNum": 0,
    "memoryGiB": 512,
    "name": "ml.r5.16xlarge",
    "vcpuNum": 64
   },
   {
    "_defaultOrder": 45,
    "_isFastLaunch": false,
    "category": "Memory Optimized",
    "gpuNum": 0,
    "memoryGiB": 768,
    "name": "ml.r5.24xlarge",
    "vcpuNum": 96
   },
   {
    "_defaultOrder": 46,
    "_isFastLaunch": false,
    "category": "Accelerated computing",
    "gpuNum": 1,
    "memoryGiB": 16,
    "name": "ml.g5.xlarge",
    "vcpuNum": 4
   },
   {
    "_defaultOrder": 47,
    "_isFastLaunch": false,
    "category": "Accelerated computing",
    "gpuNum": 1,
    "memoryGiB": 32,
    "name": "ml.g5.2xlarge",
    "vcpuNum": 8
   },
   {
    "_defaultOrder": 48,
    "_isFastLaunch": false,
    "category": "Accelerated computing",
    "gpuNum": 1,
    "memoryGiB": 64,
    "name": "ml.g5.4xlarge",
    "vcpuNum": 16
   },
   {
    "_defaultOrder": 49,
    "_isFastLaunch": false,
    "category": "Accelerated computing",
    "gpuNum": 1,
    "memoryGiB": 128,
    "name": "ml.g5.8xlarge",
    "vcpuNum": 32
   },
   {
    "_defaultOrder": 50,
    "_isFastLaunch": false,
    "category": "Accelerated computing",
    "gpuNum": 1,
    "memoryGiB": 256,
    "name": "ml.g5.16xlarge",
    "vcpuNum": 64
   },
   {
    "_defaultOrder": 51,
    "_isFastLaunch": false,
    "category": "Accelerated computing",
    "gpuNum": 4,
    "memoryGiB": 192,
    "name": "ml.g5.12xlarge",
    "vcpuNum": 48
   },
   {
    "_defaultOrder": 52,
    "_isFastLaunch": false,
    "category": "Accelerated computing",
    "gpuNum": 4,
    "memoryGiB": 384,
    "name": "ml.g5.24xlarge",
    "vcpuNum": 96
   },
   {
    "_defaultOrder": 53,
    "_isFastLaunch": false,
    "category": "Accelerated computing",
    "gpuNum": 8,
    "memoryGiB": 768,
    "name": "ml.g5.48xlarge",
    "vcpuNum": 192
   }
  ],
  "kernelspec": {
   "display_name": "Python 3 (Data Science)",
   "language": "python",
   "name": "python3__SAGEMAKER_INTERNAL__arn:aws:sagemaker:us-east-1:081325390199:image/datascience-1.0"
  },
  "language_info": {
   "codemirror_mode": {
    "name": "ipython",
    "version": 3
   },
   "file_extension": ".py",
   "mimetype": "text/x-python",
   "name": "python",
   "nbconvert_exporter": "python",
   "pygments_lexer": "ipython3",
   "version": "3.7.10"
  }
 },
 "nbformat": 4,
 "nbformat_minor": 5
}

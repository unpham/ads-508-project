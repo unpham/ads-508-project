{
 "cells": [
  {
   "cell_type": "code",
   "execution_count": null,
   "id": "6f2a91a6-1e45-46ce-b7fe-d992463c5b2f",
   "metadata": {},
   "outputs": [],
   "source": []
  },
  {
   "cell_type": "code",
   "execution_count": 2,
   "id": "214d5f56-3dd6-4750-9890-3e1444db598e",
   "metadata": {
    "tags": []
   },
   "outputs": [],
   "source": [
    "#import csv\n",
    "import pandas as pd\n",
    "import numpy as np\n",
    "\n",
    "import matplotlib.pyplot as plt\n",
    "import seaborn as sns\n"
   ]
  },
  {
   "cell_type": "code",
   "execution_count": 3,
   "id": "042377f2-8335-4abb-9d08-b4876d3f8b52",
   "metadata": {
    "tags": []
   },
   "outputs": [
    {
     "name": "stdout",
     "output_type": "stream",
     "text": [
      "                           PRE cpi/\n",
      "                           PRE la_compensation/\n",
      "                           PRE sf_compensation/\n",
      "                           PRE sj_compensation/\n",
      "2023-03-17 04:58:12          0 \n",
      "2023-03-19 18:54:13     802519 sj_compensation_2013.csv\n",
      "2023-03-19 18:54:16     905397 sj_compensation_2014.csv\n",
      "2023-03-19 18:54:18     964227 sj_compensation_2015.csv\n",
      "2023-03-19 18:54:19     965656 sj_compensation_2016.csv\n",
      "2023-03-19 18:54:21    1055695 sj_compensation_2017.csv\n",
      "2023-03-19 18:54:22    1008253 sj_compensation_2018.csv\n",
      "2023-03-19 18:54:23    1054198 sj_compensation_2019.csv\n",
      "2023-03-19 18:54:24    1026127 sj_compensation_2020.csv\n",
      "2023-03-19 18:54:26    1033928 sj_compensation_2021.csv\n"
     ]
    }
   ],
   "source": [
    "!aws s3 ls s3://508-team4/data/"
   ]
  },
  {
   "cell_type": "code",
   "execution_count": 4,
   "id": "512daf55-30b1-4426-a7ec-8791157bb7fd",
   "metadata": {
    "tags": []
   },
   "outputs": [
    {
     "name": "stdout",
     "output_type": "stream",
     "text": [
      "2023-03-26 00:55:17          0 \n",
      "2023-03-26 08:01:18  147692906 la_compensation.csv\n"
     ]
    }
   ],
   "source": [
    "!aws s3 ls s3://508-team4/data/la_compensation/"
   ]
  },
  {
   "cell_type": "code",
   "execution_count": 5,
   "id": "135663a0-ba24-4dd2-9cea-22b5756f271e",
   "metadata": {
    "tags": []
   },
   "outputs": [
    {
     "name": "stdout",
     "output_type": "stream",
     "text": [
      "2023-03-26 00:57:08          0 \n",
      "2023-03-26 04:57:06  185730616 sf_compensation.csv\n"
     ]
    }
   ],
   "source": [
    "!aws s3 ls s3://508-team4/data/sf_compensation/"
   ]
  },
  {
   "cell_type": "code",
   "execution_count": 53,
   "id": "f97213aa-ab68-4d60-93b2-71b70f8607b7",
   "metadata": {
    "tags": []
   },
   "outputs": [
    {
     "name": "stdout",
     "output_type": "stream",
     "text": [
      "2023-03-26 00:58:31          0 \n",
      "2023-03-26 08:03:56    9574703 sj_compensation.csv\n"
     ]
    }
   ],
   "source": [
    "!aws s3 ls s3://508-team4/data/sj_compensation/"
   ]
  },
  {
   "cell_type": "code",
   "execution_count": 54,
   "id": "390950ea-d797-4772-944a-e094e69aae2a",
   "metadata": {
    "tags": []
   },
   "outputs": [
    {
     "name": "stderr",
     "output_type": "stream",
     "text": [
      "/opt/conda/lib/python3.7/site-packages/IPython/core/interactiveshell.py:3553: DtypeWarning: Columns (0,8) have mixed types.Specify dtype option on import or set low_memory=False.\n",
      "  exec(code_obj, self.user_global_ns, self.user_ns)\n",
      "/opt/conda/lib/python3.7/site-packages/IPython/core/interactiveshell.py:3553: DtypeWarning: Columns (7) have mixed types.Specify dtype option on import or set low_memory=False.\n",
      "  exec(code_obj, self.user_global_ns, self.user_ns)\n"
     ]
    }
   ],
   "source": [
    "la_comp_df = pd.read_csv('s3://508-team4/data/la_compensation/la_compensation.csv')\n",
    "\n",
    "sf_comp_df = pd.read_csv('s3://508-team4/data/sf_compensation/sf_compensation.csv')\n",
    "\n",
    "sj_comp_df = pd.read_csv('s3://508-team4/data/sj_compensation/sj_compensation.csv')"
   ]
  },
  {
   "cell_type": "code",
   "execution_count": 57,
   "id": "efc165b2-67bc-4cb3-be30-ab299a893d32",
   "metadata": {
    "tags": []
   },
   "outputs": [
    {
     "data": {
      "text/html": [
       "<div>\n",
       "<style scoped>\n",
       "    .dataframe tbody tr th:only-of-type {\n",
       "        vertical-align: middle;\n",
       "    }\n",
       "\n",
       "    .dataframe tbody tr th {\n",
       "        vertical-align: top;\n",
       "    }\n",
       "\n",
       "    .dataframe thead th {\n",
       "        text-align: right;\n",
       "    }\n",
       "</style>\n",
       "<table border=\"1\" class=\"dataframe\">\n",
       "  <thead>\n",
       "    <tr style=\"text-align: right;\">\n",
       "      <th></th>\n",
       "      <th>name</th>\n",
       "      <th>department</th>\n",
       "      <th>job_title</th>\n",
       "      <th>total_cash</th>\n",
       "      <th>base_salary</th>\n",
       "      <th>overtime</th>\n",
       "      <th>health</th>\n",
       "      <th>retired</th>\n",
       "      <th>year</th>\n",
       "      <th>city_id</th>\n",
       "      <th>irregular_cash</th>\n",
       "      <th>retirement</th>\n",
       "      <th>other_benefits</th>\n",
       "      <th>total_benefits</th>\n",
       "      <th>total_compensation</th>\n",
       "    </tr>\n",
       "  </thead>\n",
       "  <tbody>\n",
       "    <tr>\n",
       "      <th>0</th>\n",
       "      <td>Bustillos Steven D</td>\n",
       "      <td>Police</td>\n",
       "      <td>Police Sergeant</td>\n",
       "      <td>286137.69</td>\n",
       "      <td>90888.00</td>\n",
       "      <td>89867.88</td>\n",
       "      <td>13640.50</td>\n",
       "      <td>Yes</td>\n",
       "      <td>2013</td>\n",
       "      <td>1</td>\n",
       "      <td>105381.81</td>\n",
       "      <td>74429.71</td>\n",
       "      <td>0.00</td>\n",
       "      <td>88070.21</td>\n",
       "      <td>374207.90</td>\n",
       "    </tr>\n",
       "    <tr>\n",
       "      <th>1</th>\n",
       "      <td>Figone Debra J</td>\n",
       "      <td>City Manager</td>\n",
       "      <td>City Manager U</td>\n",
       "      <td>248564.84</td>\n",
       "      <td>227975.02</td>\n",
       "      <td>NaN</td>\n",
       "      <td>15166.00</td>\n",
       "      <td>Yes</td>\n",
       "      <td>2013</td>\n",
       "      <td>1</td>\n",
       "      <td>20589.82</td>\n",
       "      <td>151550.08</td>\n",
       "      <td>0.00</td>\n",
       "      <td>166716.08</td>\n",
       "      <td>415280.92</td>\n",
       "    </tr>\n",
       "    <tr>\n",
       "      <th>2</th>\n",
       "      <td>Guerra Daniel P</td>\n",
       "      <td>Police</td>\n",
       "      <td>Police Officer</td>\n",
       "      <td>241039.12</td>\n",
       "      <td>97198.40</td>\n",
       "      <td>132104.54</td>\n",
       "      <td>15371.56</td>\n",
       "      <td>No</td>\n",
       "      <td>2013</td>\n",
       "      <td>1</td>\n",
       "      <td>11736.18</td>\n",
       "      <td>79821.51</td>\n",
       "      <td>0.00</td>\n",
       "      <td>95193.07</td>\n",
       "      <td>336232.19</td>\n",
       "    </tr>\n",
       "    <tr>\n",
       "      <th>3</th>\n",
       "      <td>Moore Christopher M</td>\n",
       "      <td>Police</td>\n",
       "      <td>Chief Of Police U</td>\n",
       "      <td>233540.32</td>\n",
       "      <td>15319.54</td>\n",
       "      <td>NaN</td>\n",
       "      <td>1371.81</td>\n",
       "      <td>Yes</td>\n",
       "      <td>2013</td>\n",
       "      <td>1</td>\n",
       "      <td>218220.78</td>\n",
       "      <td>11204.16</td>\n",
       "      <td>0.00</td>\n",
       "      <td>12575.97</td>\n",
       "      <td>246116.29</td>\n",
       "    </tr>\n",
       "    <tr>\n",
       "      <th>4</th>\n",
       "      <td>Vasquez Hector M</td>\n",
       "      <td>Police</td>\n",
       "      <td>Police Officer</td>\n",
       "      <td>230469.85</td>\n",
       "      <td>97198.40</td>\n",
       "      <td>124552.69</td>\n",
       "      <td>16345.32</td>\n",
       "      <td>No</td>\n",
       "      <td>2013</td>\n",
       "      <td>1</td>\n",
       "      <td>8718.76</td>\n",
       "      <td>79821.51</td>\n",
       "      <td>0.00</td>\n",
       "      <td>96166.83</td>\n",
       "      <td>326636.68</td>\n",
       "    </tr>\n",
       "    <tr>\n",
       "      <th>...</th>\n",
       "      <td>...</td>\n",
       "      <td>...</td>\n",
       "      <td>...</td>\n",
       "      <td>...</td>\n",
       "      <td>...</td>\n",
       "      <td>...</td>\n",
       "      <td>...</td>\n",
       "      <td>...</td>\n",
       "      <td>...</td>\n",
       "      <td>...</td>\n",
       "      <td>...</td>\n",
       "      <td>...</td>\n",
       "      <td>...</td>\n",
       "      <td>...</td>\n",
       "      <td>...</td>\n",
       "    </tr>\n",
       "    <tr>\n",
       "      <th>71941</th>\n",
       "      <td>Sialehaevala Reed</td>\n",
       "      <td>Parks/Rec &amp; Neigh Serv P R N S</td>\n",
       "      <td>Recreation Leader PT</td>\n",
       "      <td>24.56</td>\n",
       "      <td>24.56</td>\n",
       "      <td>NaN</td>\n",
       "      <td>NaN</td>\n",
       "      <td>NaN</td>\n",
       "      <td>2021</td>\n",
       "      <td>1</td>\n",
       "      <td>0.00</td>\n",
       "      <td>0.92</td>\n",
       "      <td>0.43</td>\n",
       "      <td>1.35</td>\n",
       "      <td>25.91</td>\n",
       "    </tr>\n",
       "    <tr>\n",
       "      <th>71942</th>\n",
       "      <td>Edgar Tigranyan</td>\n",
       "      <td>Police</td>\n",
       "      <td>Police Officer</td>\n",
       "      <td>24.52</td>\n",
       "      <td>NaN</td>\n",
       "      <td>6.40</td>\n",
       "      <td>NaN</td>\n",
       "      <td>NaN</td>\n",
       "      <td>2021</td>\n",
       "      <td>1</td>\n",
       "      <td>18.12</td>\n",
       "      <td>0.00</td>\n",
       "      <td>0.43</td>\n",
       "      <td>0.43</td>\n",
       "      <td>24.95</td>\n",
       "    </tr>\n",
       "    <tr>\n",
       "      <th>71943</th>\n",
       "      <td>Phylicia Sanchez</td>\n",
       "      <td>Parks/Rec &amp; Neigh Serv P R N S</td>\n",
       "      <td>Recreation Leader PT</td>\n",
       "      <td>12.28</td>\n",
       "      <td>12.28</td>\n",
       "      <td>NaN</td>\n",
       "      <td>NaN</td>\n",
       "      <td>NaN</td>\n",
       "      <td>2021</td>\n",
       "      <td>1</td>\n",
       "      <td>0.00</td>\n",
       "      <td>0.46</td>\n",
       "      <td>0.22</td>\n",
       "      <td>0.68</td>\n",
       "      <td>12.96</td>\n",
       "    </tr>\n",
       "    <tr>\n",
       "      <th>71944</th>\n",
       "      <td>Justin Ruehlig</td>\n",
       "      <td>Parks/Rec &amp; Neigh Serv P R N S</td>\n",
       "      <td>Recreation Leader PT</td>\n",
       "      <td>12.28</td>\n",
       "      <td>12.28</td>\n",
       "      <td>NaN</td>\n",
       "      <td>NaN</td>\n",
       "      <td>NaN</td>\n",
       "      <td>2021</td>\n",
       "      <td>1</td>\n",
       "      <td>0.00</td>\n",
       "      <td>0.46</td>\n",
       "      <td>0.22</td>\n",
       "      <td>0.68</td>\n",
       "      <td>12.96</td>\n",
       "    </tr>\n",
       "    <tr>\n",
       "      <th>71945</th>\n",
       "      <td>Eliza Zimmerman</td>\n",
       "      <td>Police</td>\n",
       "      <td>Latent Fingprt Examr I</td>\n",
       "      <td>3.20</td>\n",
       "      <td>NaN</td>\n",
       "      <td>NaN</td>\n",
       "      <td>NaN</td>\n",
       "      <td>NaN</td>\n",
       "      <td>2021</td>\n",
       "      <td>1</td>\n",
       "      <td>3.20</td>\n",
       "      <td>0.00</td>\n",
       "      <td>0.06</td>\n",
       "      <td>0.06</td>\n",
       "      <td>3.26</td>\n",
       "    </tr>\n",
       "  </tbody>\n",
       "</table>\n",
       "<p>71946 rows × 15 columns</p>\n",
       "</div>"
      ],
      "text/plain": [
       "                      name                      department  \\\n",
       "0       Bustillos Steven D                          Police   \n",
       "1           Figone Debra J                    City Manager   \n",
       "2          Guerra Daniel P                          Police   \n",
       "3      Moore Christopher M                          Police   \n",
       "4         Vasquez Hector M                          Police   \n",
       "...                    ...                             ...   \n",
       "71941    Sialehaevala Reed  Parks/Rec & Neigh Serv P R N S   \n",
       "71942      Edgar Tigranyan                          Police   \n",
       "71943     Phylicia Sanchez  Parks/Rec & Neigh Serv P R N S   \n",
       "71944       Justin Ruehlig  Parks/Rec & Neigh Serv P R N S   \n",
       "71945      Eliza Zimmerman                          Police   \n",
       "\n",
       "                    job_title  total_cash  base_salary   overtime    health  \\\n",
       "0             Police Sergeant   286137.69     90888.00   89867.88  13640.50   \n",
       "1              City Manager U   248564.84    227975.02        NaN  15166.00   \n",
       "2              Police Officer   241039.12     97198.40  132104.54  15371.56   \n",
       "3           Chief Of Police U   233540.32     15319.54        NaN   1371.81   \n",
       "4              Police Officer   230469.85     97198.40  124552.69  16345.32   \n",
       "...                       ...         ...          ...        ...       ...   \n",
       "71941    Recreation Leader PT       24.56        24.56        NaN       NaN   \n",
       "71942          Police Officer       24.52          NaN       6.40       NaN   \n",
       "71943    Recreation Leader PT       12.28        12.28        NaN       NaN   \n",
       "71944    Recreation Leader PT       12.28        12.28        NaN       NaN   \n",
       "71945  Latent Fingprt Examr I        3.20          NaN        NaN       NaN   \n",
       "\n",
       "      retired  year  city_id  irregular_cash  retirement  other_benefits  \\\n",
       "0         Yes  2013        1       105381.81    74429.71            0.00   \n",
       "1         Yes  2013        1        20589.82   151550.08            0.00   \n",
       "2          No  2013        1        11736.18    79821.51            0.00   \n",
       "3         Yes  2013        1       218220.78    11204.16            0.00   \n",
       "4          No  2013        1         8718.76    79821.51            0.00   \n",
       "...       ...   ...      ...             ...         ...             ...   \n",
       "71941     NaN  2021        1            0.00        0.92            0.43   \n",
       "71942     NaN  2021        1           18.12        0.00            0.43   \n",
       "71943     NaN  2021        1            0.00        0.46            0.22   \n",
       "71944     NaN  2021        1            0.00        0.46            0.22   \n",
       "71945     NaN  2021        1            3.20        0.00            0.06   \n",
       "\n",
       "       total_benefits  total_compensation  \n",
       "0            88070.21           374207.90  \n",
       "1           166716.08           415280.92  \n",
       "2            95193.07           336232.19  \n",
       "3            12575.97           246116.29  \n",
       "4            96166.83           326636.68  \n",
       "...               ...                 ...  \n",
       "71941            1.35               25.91  \n",
       "71942            0.43               24.95  \n",
       "71943            0.68               12.96  \n",
       "71944            0.68               12.96  \n",
       "71945            0.06                3.26  \n",
       "\n",
       "[71946 rows x 15 columns]"
      ]
     },
     "execution_count": 57,
     "metadata": {},
     "output_type": "execute_result"
    }
   ],
   "source": [
    "sj_comp_df"
   ]
  },
  {
   "cell_type": "code",
   "execution_count": 55,
   "id": "872edd8c-4796-4ac5-88ca-710c4987542b",
   "metadata": {
    "tags": []
   },
   "outputs": [],
   "source": [
    "import boto3\n",
    "import sagemaker"
   ]
  },
  {
   "cell_type": "code",
   "execution_count": 56,
   "id": "19cf776b-e2a6-4266-b65c-65929f12a8d0",
   "metadata": {
    "tags": []
   },
   "outputs": [],
   "source": [
    "sess = sagemaker.Session()\n",
    "bucket = sess.default_bucket()\n",
    "role = sagemaker.get_execution_role()\n",
    "region = boto3.Session().region_name"
   ]
  },
  {
   "cell_type": "code",
   "execution_count": 7,
   "id": "13bd4d10-b2fb-42cd-8d19-b0e9717fcdab",
   "metadata": {
    "tags": []
   },
   "outputs": [],
   "source": [
    "#bucket = '508-team4/data'"
   ]
  },
  {
   "cell_type": "code",
   "execution_count": 8,
   "id": "16643c2b-d40f-45d8-988f-91226f508272",
   "metadata": {
    "tags": []
   },
   "outputs": [
    {
     "name": "stdout",
     "output_type": "stream",
     "text": [
      "\u001b[33mWARNING: Running pip as the 'root' user can result in broken permissions and conflicting behaviour with the system package manager. It is recommended to use a virtual environment instead: https://pip.pypa.io/warnings/venv\u001b[0m\u001b[33m\n",
      "\u001b[0m"
     ]
    }
   ],
   "source": [
    "#!pip install --disable-pip-version-check -q PyAthena==2.1.0\n",
    "from pyathena import connect"
   ]
  },
  {
   "cell_type": "code",
   "execution_count": 15,
   "id": "a2c7be43-e292-4d98-ab76-895533bb37d2",
   "metadata": {
    "tags": []
   },
   "outputs": [],
   "source": [
    "database_name = \"compensation\""
   ]
  },
  {
   "cell_type": "code",
   "execution_count": 17,
   "id": "8200a646-4d06-4402-a6c6-968d9b216d46",
   "metadata": {
    "tags": []
   },
   "outputs": [
    {
     "data": {
      "text/plain": [
       "'sagemaker-us-east-1-117315948243'"
      ]
     },
     "execution_count": 17,
     "metadata": {},
     "output_type": "execute_result"
    }
   ],
   "source": [
    "bucket"
   ]
  },
  {
   "cell_type": "code",
   "execution_count": 16,
   "id": "6a933118-a155-4566-b159-c1bad43eee8e",
   "metadata": {
    "tags": []
   },
   "outputs": [],
   "source": [
    "# Set S3 staging directory -- this is a temporary directory used for Athena queries\n",
    "s3_staging_dir = f\"s3://{bucket}/athena/staging\""
   ]
  },
  {
   "cell_type": "code",
   "execution_count": 18,
   "id": "8d1b1e8b-3744-4a4a-b143-43d4917aff87",
   "metadata": {
    "tags": []
   },
   "outputs": [],
   "source": [
    "conn = connect(region_name=region, s3_staging_dir=s3_staging_dir)"
   ]
  },
  {
   "cell_type": "code",
   "execution_count": 19,
   "id": "020ae153-9d1d-4ec7-8733-97f93fb38d94",
   "metadata": {
    "tags": []
   },
   "outputs": [
    {
     "name": "stdout",
     "output_type": "stream",
     "text": [
      "CREATE DATABASE IF NOT EXISTS compensation\n"
     ]
    }
   ],
   "source": [
    "statement = f\"CREATE DATABASE IF NOT EXISTS {database_name}\"\n",
    "print(statement)"
   ]
  },
  {
   "cell_type": "code",
   "execution_count": 20,
   "id": "a65cbd5f-e385-43d5-b3a2-c64c435ea2b8",
   "metadata": {
    "tags": []
   },
   "outputs": [
    {
     "data": {
      "text/html": [
       "<div>\n",
       "<style scoped>\n",
       "    .dataframe tbody tr th:only-of-type {\n",
       "        vertical-align: middle;\n",
       "    }\n",
       "\n",
       "    .dataframe tbody tr th {\n",
       "        vertical-align: top;\n",
       "    }\n",
       "\n",
       "    .dataframe thead th {\n",
       "        text-align: right;\n",
       "    }\n",
       "</style>\n",
       "<table border=\"1\" class=\"dataframe\">\n",
       "  <thead>\n",
       "    <tr style=\"text-align: right;\">\n",
       "      <th></th>\n",
       "    </tr>\n",
       "  </thead>\n",
       "  <tbody>\n",
       "  </tbody>\n",
       "</table>\n",
       "</div>"
      ],
      "text/plain": [
       "Empty DataFrame\n",
       "Columns: []\n",
       "Index: []"
      ]
     },
     "execution_count": 20,
     "metadata": {},
     "output_type": "execute_result"
    }
   ],
   "source": [
    "pd.read_sql(statement, conn)"
   ]
  },
  {
   "cell_type": "code",
   "execution_count": 37,
   "id": "6d2cd0a2-160f-4375-9e69-ab28d5a5317e",
   "metadata": {
    "tags": []
   },
   "outputs": [],
   "source": [
    "la_comp_df.to_csv('s3://team4-data-athena-files/la_comp.csv',index=False)"
   ]
  },
  {
   "cell_type": "code",
   "execution_count": 38,
   "id": "7e6f0b67-2011-48b3-b285-9528c7012a5b",
   "metadata": {
    "tags": []
   },
   "outputs": [],
   "source": [
    "sf_comp_df.to_csv('s3://team4-data-athena-files/sf_comp.csv',index=False)"
   ]
  },
  {
   "cell_type": "code",
   "execution_count": 39,
   "id": "f9814d90-72bd-4953-add1-f8905af293ba",
   "metadata": {
    "tags": []
   },
   "outputs": [],
   "source": [
    "sj_comp_df.to_csv('s3://team4-data-athena-files/sj_comp.csv',index=False)"
   ]
  },
  {
   "cell_type": "code",
   "execution_count": 58,
   "id": "03fd188c-2f46-45b6-87f3-367ecf777dec",
   "metadata": {
    "tags": []
   },
   "outputs": [
    {
     "name": "stdout",
     "output_type": "stream",
     "text": [
      "<class 'pandas.core.frame.DataFrame'>\n",
      "RangeIndex: 71946 entries, 0 to 71945\n",
      "Data columns (total 15 columns):\n",
      " #   Column              Non-Null Count  Dtype  \n",
      "---  ------              --------------  -----  \n",
      " 0   name                71946 non-null  object \n",
      " 1   department          71946 non-null  object \n",
      " 2   job_title           71946 non-null  object \n",
      " 3   total_cash          71946 non-null  float64\n",
      " 4   base_salary         71247 non-null  float64\n",
      " 5   overtime            38998 non-null  float64\n",
      " 6   health              52959 non-null  float64\n",
      " 7   retired             7404 non-null   object \n",
      " 8   year                71946 non-null  int64  \n",
      " 9   city_id             71946 non-null  int64  \n",
      " 10  irregular_cash      71946 non-null  float64\n",
      " 11  retirement          71946 non-null  float64\n",
      " 12  other_benefits      71946 non-null  float64\n",
      " 13  total_benefits      71946 non-null  float64\n",
      " 14  total_compensation  71946 non-null  float64\n",
      "dtypes: float64(9), int64(2), object(4)\n",
      "memory usage: 8.2+ MB\n"
     ]
    }
   ],
   "source": [
    "sj_comp_df.info()"
   ]
  },
  {
   "cell_type": "code",
   "execution_count": null,
   "id": "5eba36f9-e7a9-47a2-b5eb-5ad7533d7d9d",
   "metadata": {},
   "outputs": [],
   "source": []
  }
 ],
 "metadata": {
  "availableInstances": [
   {
    "_defaultOrder": 0,
    "_isFastLaunch": true,
    "category": "General purpose",
    "gpuNum": 0,
    "hideHardwareSpecs": false,
    "memoryGiB": 4,
    "name": "ml.t3.medium",
    "vcpuNum": 2
   },
   {
    "_defaultOrder": 1,
    "_isFastLaunch": false,
    "category": "General purpose",
    "gpuNum": 0,
    "hideHardwareSpecs": false,
    "memoryGiB": 8,
    "name": "ml.t3.large",
    "vcpuNum": 2
   },
   {
    "_defaultOrder": 2,
    "_isFastLaunch": false,
    "category": "General purpose",
    "gpuNum": 0,
    "hideHardwareSpecs": false,
    "memoryGiB": 16,
    "name": "ml.t3.xlarge",
    "vcpuNum": 4
   },
   {
    "_defaultOrder": 3,
    "_isFastLaunch": false,
    "category": "General purpose",
    "gpuNum": 0,
    "hideHardwareSpecs": false,
    "memoryGiB": 32,
    "name": "ml.t3.2xlarge",
    "vcpuNum": 8
   },
   {
    "_defaultOrder": 4,
    "_isFastLaunch": true,
    "category": "General purpose",
    "gpuNum": 0,
    "hideHardwareSpecs": false,
    "memoryGiB": 8,
    "name": "ml.m5.large",
    "vcpuNum": 2
   },
   {
    "_defaultOrder": 5,
    "_isFastLaunch": false,
    "category": "General purpose",
    "gpuNum": 0,
    "hideHardwareSpecs": false,
    "memoryGiB": 16,
    "name": "ml.m5.xlarge",
    "vcpuNum": 4
   },
   {
    "_defaultOrder": 6,
    "_isFastLaunch": false,
    "category": "General purpose",
    "gpuNum": 0,
    "hideHardwareSpecs": false,
    "memoryGiB": 32,
    "name": "ml.m5.2xlarge",
    "vcpuNum": 8
   },
   {
    "_defaultOrder": 7,
    "_isFastLaunch": false,
    "category": "General purpose",
    "gpuNum": 0,
    "hideHardwareSpecs": false,
    "memoryGiB": 64,
    "name": "ml.m5.4xlarge",
    "vcpuNum": 16
   },
   {
    "_defaultOrder": 8,
    "_isFastLaunch": false,
    "category": "General purpose",
    "gpuNum": 0,
    "hideHardwareSpecs": false,
    "memoryGiB": 128,
    "name": "ml.m5.8xlarge",
    "vcpuNum": 32
   },
   {
    "_defaultOrder": 9,
    "_isFastLaunch": false,
    "category": "General purpose",
    "gpuNum": 0,
    "hideHardwareSpecs": false,
    "memoryGiB": 192,
    "name": "ml.m5.12xlarge",
    "vcpuNum": 48
   },
   {
    "_defaultOrder": 10,
    "_isFastLaunch": false,
    "category": "General purpose",
    "gpuNum": 0,
    "hideHardwareSpecs": false,
    "memoryGiB": 256,
    "name": "ml.m5.16xlarge",
    "vcpuNum": 64
   },
   {
    "_defaultOrder": 11,
    "_isFastLaunch": false,
    "category": "General purpose",
    "gpuNum": 0,
    "hideHardwareSpecs": false,
    "memoryGiB": 384,
    "name": "ml.m5.24xlarge",
    "vcpuNum": 96
   },
   {
    "_defaultOrder": 12,
    "_isFastLaunch": false,
    "category": "General purpose",
    "gpuNum": 0,
    "hideHardwareSpecs": false,
    "memoryGiB": 8,
    "name": "ml.m5d.large",
    "vcpuNum": 2
   },
   {
    "_defaultOrder": 13,
    "_isFastLaunch": false,
    "category": "General purpose",
    "gpuNum": 0,
    "hideHardwareSpecs": false,
    "memoryGiB": 16,
    "name": "ml.m5d.xlarge",
    "vcpuNum": 4
   },
   {
    "_defaultOrder": 14,
    "_isFastLaunch": false,
    "category": "General purpose",
    "gpuNum": 0,
    "hideHardwareSpecs": false,
    "memoryGiB": 32,
    "name": "ml.m5d.2xlarge",
    "vcpuNum": 8
   },
   {
    "_defaultOrder": 15,
    "_isFastLaunch": false,
    "category": "General purpose",
    "gpuNum": 0,
    "hideHardwareSpecs": false,
    "memoryGiB": 64,
    "name": "ml.m5d.4xlarge",
    "vcpuNum": 16
   },
   {
    "_defaultOrder": 16,
    "_isFastLaunch": false,
    "category": "General purpose",
    "gpuNum": 0,
    "hideHardwareSpecs": false,
    "memoryGiB": 128,
    "name": "ml.m5d.8xlarge",
    "vcpuNum": 32
   },
   {
    "_defaultOrder": 17,
    "_isFastLaunch": false,
    "category": "General purpose",
    "gpuNum": 0,
    "hideHardwareSpecs": false,
    "memoryGiB": 192,
    "name": "ml.m5d.12xlarge",
    "vcpuNum": 48
   },
   {
    "_defaultOrder": 18,
    "_isFastLaunch": false,
    "category": "General purpose",
    "gpuNum": 0,
    "hideHardwareSpecs": false,
    "memoryGiB": 256,
    "name": "ml.m5d.16xlarge",
    "vcpuNum": 64
   },
   {
    "_defaultOrder": 19,
    "_isFastLaunch": false,
    "category": "General purpose",
    "gpuNum": 0,
    "hideHardwareSpecs": false,
    "memoryGiB": 384,
    "name": "ml.m5d.24xlarge",
    "vcpuNum": 96
   },
   {
    "_defaultOrder": 20,
    "_isFastLaunch": false,
    "category": "General purpose",
    "gpuNum": 0,
    "hideHardwareSpecs": true,
    "memoryGiB": 0,
    "name": "ml.geospatial.interactive",
    "supportedImageNames": [
     "sagemaker-geospatial-v1-0"
    ],
    "vcpuNum": 0
   },
   {
    "_defaultOrder": 21,
    "_isFastLaunch": true,
    "category": "Compute optimized",
    "gpuNum": 0,
    "hideHardwareSpecs": false,
    "memoryGiB": 4,
    "name": "ml.c5.large",
    "vcpuNum": 2
   },
   {
    "_defaultOrder": 22,
    "_isFastLaunch": false,
    "category": "Compute optimized",
    "gpuNum": 0,
    "hideHardwareSpecs": false,
    "memoryGiB": 8,
    "name": "ml.c5.xlarge",
    "vcpuNum": 4
   },
   {
    "_defaultOrder": 23,
    "_isFastLaunch": false,
    "category": "Compute optimized",
    "gpuNum": 0,
    "hideHardwareSpecs": false,
    "memoryGiB": 16,
    "name": "ml.c5.2xlarge",
    "vcpuNum": 8
   },
   {
    "_defaultOrder": 24,
    "_isFastLaunch": false,
    "category": "Compute optimized",
    "gpuNum": 0,
    "hideHardwareSpecs": false,
    "memoryGiB": 32,
    "name": "ml.c5.4xlarge",
    "vcpuNum": 16
   },
   {
    "_defaultOrder": 25,
    "_isFastLaunch": false,
    "category": "Compute optimized",
    "gpuNum": 0,
    "hideHardwareSpecs": false,
    "memoryGiB": 72,
    "name": "ml.c5.9xlarge",
    "vcpuNum": 36
   },
   {
    "_defaultOrder": 26,
    "_isFastLaunch": false,
    "category": "Compute optimized",
    "gpuNum": 0,
    "hideHardwareSpecs": false,
    "memoryGiB": 96,
    "name": "ml.c5.12xlarge",
    "vcpuNum": 48
   },
   {
    "_defaultOrder": 27,
    "_isFastLaunch": false,
    "category": "Compute optimized",
    "gpuNum": 0,
    "hideHardwareSpecs": false,
    "memoryGiB": 144,
    "name": "ml.c5.18xlarge",
    "vcpuNum": 72
   },
   {
    "_defaultOrder": 28,
    "_isFastLaunch": false,
    "category": "Compute optimized",
    "gpuNum": 0,
    "hideHardwareSpecs": false,
    "memoryGiB": 192,
    "name": "ml.c5.24xlarge",
    "vcpuNum": 96
   },
   {
    "_defaultOrder": 29,
    "_isFastLaunch": true,
    "category": "Accelerated computing",
    "gpuNum": 1,
    "hideHardwareSpecs": false,
    "memoryGiB": 16,
    "name": "ml.g4dn.xlarge",
    "vcpuNum": 4
   },
   {
    "_defaultOrder": 30,
    "_isFastLaunch": false,
    "category": "Accelerated computing",
    "gpuNum": 1,
    "hideHardwareSpecs": false,
    "memoryGiB": 32,
    "name": "ml.g4dn.2xlarge",
    "vcpuNum": 8
   },
   {
    "_defaultOrder": 31,
    "_isFastLaunch": false,
    "category": "Accelerated computing",
    "gpuNum": 1,
    "hideHardwareSpecs": false,
    "memoryGiB": 64,
    "name": "ml.g4dn.4xlarge",
    "vcpuNum": 16
   },
   {
    "_defaultOrder": 32,
    "_isFastLaunch": false,
    "category": "Accelerated computing",
    "gpuNum": 1,
    "hideHardwareSpecs": false,
    "memoryGiB": 128,
    "name": "ml.g4dn.8xlarge",
    "vcpuNum": 32
   },
   {
    "_defaultOrder": 33,
    "_isFastLaunch": false,
    "category": "Accelerated computing",
    "gpuNum": 4,
    "hideHardwareSpecs": false,
    "memoryGiB": 192,
    "name": "ml.g4dn.12xlarge",
    "vcpuNum": 48
   },
   {
    "_defaultOrder": 34,
    "_isFastLaunch": false,
    "category": "Accelerated computing",
    "gpuNum": 1,
    "hideHardwareSpecs": false,
    "memoryGiB": 256,
    "name": "ml.g4dn.16xlarge",
    "vcpuNum": 64
   },
   {
    "_defaultOrder": 35,
    "_isFastLaunch": false,
    "category": "Accelerated computing",
    "gpuNum": 1,
    "hideHardwareSpecs": false,
    "memoryGiB": 61,
    "name": "ml.p3.2xlarge",
    "vcpuNum": 8
   },
   {
    "_defaultOrder": 36,
    "_isFastLaunch": false,
    "category": "Accelerated computing",
    "gpuNum": 4,
    "hideHardwareSpecs": false,
    "memoryGiB": 244,
    "name": "ml.p3.8xlarge",
    "vcpuNum": 32
   },
   {
    "_defaultOrder": 37,
    "_isFastLaunch": false,
    "category": "Accelerated computing",
    "gpuNum": 8,
    "hideHardwareSpecs": false,
    "memoryGiB": 488,
    "name": "ml.p3.16xlarge",
    "vcpuNum": 64
   },
   {
    "_defaultOrder": 38,
    "_isFastLaunch": false,
    "category": "Accelerated computing",
    "gpuNum": 8,
    "hideHardwareSpecs": false,
    "memoryGiB": 768,
    "name": "ml.p3dn.24xlarge",
    "vcpuNum": 96
   },
   {
    "_defaultOrder": 39,
    "_isFastLaunch": false,
    "category": "Memory Optimized",
    "gpuNum": 0,
    "hideHardwareSpecs": false,
    "memoryGiB": 16,
    "name": "ml.r5.large",
    "vcpuNum": 2
   },
   {
    "_defaultOrder": 40,
    "_isFastLaunch": false,
    "category": "Memory Optimized",
    "gpuNum": 0,
    "hideHardwareSpecs": false,
    "memoryGiB": 32,
    "name": "ml.r5.xlarge",
    "vcpuNum": 4
   },
   {
    "_defaultOrder": 41,
    "_isFastLaunch": false,
    "category": "Memory Optimized",
    "gpuNum": 0,
    "hideHardwareSpecs": false,
    "memoryGiB": 64,
    "name": "ml.r5.2xlarge",
    "vcpuNum": 8
   },
   {
    "_defaultOrder": 42,
    "_isFastLaunch": false,
    "category": "Memory Optimized",
    "gpuNum": 0,
    "hideHardwareSpecs": false,
    "memoryGiB": 128,
    "name": "ml.r5.4xlarge",
    "vcpuNum": 16
   },
   {
    "_defaultOrder": 43,
    "_isFastLaunch": false,
    "category": "Memory Optimized",
    "gpuNum": 0,
    "hideHardwareSpecs": false,
    "memoryGiB": 256,
    "name": "ml.r5.8xlarge",
    "vcpuNum": 32
   },
   {
    "_defaultOrder": 44,
    "_isFastLaunch": false,
    "category": "Memory Optimized",
    "gpuNum": 0,
    "hideHardwareSpecs": false,
    "memoryGiB": 384,
    "name": "ml.r5.12xlarge",
    "vcpuNum": 48
   },
   {
    "_defaultOrder": 45,
    "_isFastLaunch": false,
    "category": "Memory Optimized",
    "gpuNum": 0,
    "hideHardwareSpecs": false,
    "memoryGiB": 512,
    "name": "ml.r5.16xlarge",
    "vcpuNum": 64
   },
   {
    "_defaultOrder": 46,
    "_isFastLaunch": false,
    "category": "Memory Optimized",
    "gpuNum": 0,
    "hideHardwareSpecs": false,
    "memoryGiB": 768,
    "name": "ml.r5.24xlarge",
    "vcpuNum": 96
   },
   {
    "_defaultOrder": 47,
    "_isFastLaunch": false,
    "category": "Accelerated computing",
    "gpuNum": 1,
    "hideHardwareSpecs": false,
    "memoryGiB": 16,
    "name": "ml.g5.xlarge",
    "vcpuNum": 4
   },
   {
    "_defaultOrder": 48,
    "_isFastLaunch": false,
    "category": "Accelerated computing",
    "gpuNum": 1,
    "hideHardwareSpecs": false,
    "memoryGiB": 32,
    "name": "ml.g5.2xlarge",
    "vcpuNum": 8
   },
   {
    "_defaultOrder": 49,
    "_isFastLaunch": false,
    "category": "Accelerated computing",
    "gpuNum": 1,
    "hideHardwareSpecs": false,
    "memoryGiB": 64,
    "name": "ml.g5.4xlarge",
    "vcpuNum": 16
   },
   {
    "_defaultOrder": 50,
    "_isFastLaunch": false,
    "category": "Accelerated computing",
    "gpuNum": 1,
    "hideHardwareSpecs": false,
    "memoryGiB": 128,
    "name": "ml.g5.8xlarge",
    "vcpuNum": 32
   },
   {
    "_defaultOrder": 51,
    "_isFastLaunch": false,
    "category": "Accelerated computing",
    "gpuNum": 1,
    "hideHardwareSpecs": false,
    "memoryGiB": 256,
    "name": "ml.g5.16xlarge",
    "vcpuNum": 64
   },
   {
    "_defaultOrder": 52,
    "_isFastLaunch": false,
    "category": "Accelerated computing",
    "gpuNum": 4,
    "hideHardwareSpecs": false,
    "memoryGiB": 192,
    "name": "ml.g5.12xlarge",
    "vcpuNum": 48
   },
   {
    "_defaultOrder": 53,
    "_isFastLaunch": false,
    "category": "Accelerated computing",
    "gpuNum": 4,
    "hideHardwareSpecs": false,
    "memoryGiB": 384,
    "name": "ml.g5.24xlarge",
    "vcpuNum": 96
   },
   {
    "_defaultOrder": 54,
    "_isFastLaunch": false,
    "category": "Accelerated computing",
    "gpuNum": 8,
    "hideHardwareSpecs": false,
    "memoryGiB": 768,
    "name": "ml.g5.48xlarge",
    "vcpuNum": 192
   }
  ],
  "instance_type": "ml.t3.medium",
  "kernelspec": {
   "display_name": "Python 3 (Data Science)",
   "language": "python",
   "name": "python3__SAGEMAKER_INTERNAL__arn:aws:sagemaker:us-east-1:081325390199:image/datascience-1.0"
  },
  "language_info": {
   "codemirror_mode": {
    "name": "ipython",
    "version": 3
   },
   "file_extension": ".py",
   "mimetype": "text/x-python",
   "name": "python",
   "nbconvert_exporter": "python",
   "pygments_lexer": "ipython3",
   "version": "3.7.10"
  }
 },
 "nbformat": 4,
 "nbformat_minor": 5
}
